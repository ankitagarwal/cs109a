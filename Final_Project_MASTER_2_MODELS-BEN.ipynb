{
 "cells": [
  {
   "cell_type": "markdown",
   "metadata": {},
   "source": [
    "<br>\n",
    "<br>\n",
    "**<font size=5><center>Predicting Default Rates for Lending Club</center></font>**"
   ]
  },
  {
   "cell_type": "markdown",
   "metadata": {},
   "source": [
    "### Authors:\n",
    "Devon Luongo <br>\n",
    "Ankit Agarwal <br>\n",
    "Bryn Clarke <br>\n",
    "Ben Yuen"
   ]
  },
  {
   "cell_type": "markdown",
   "metadata": {},
   "source": [
    "# IV. Baseline Models"
   ]
  },
  {
   "cell_type": "markdown",
   "metadata": {},
   "source": [
    "*Libraries*"
   ]
  },
  {
   "cell_type": "code",
   "execution_count": 1,
   "metadata": {
    "collapsed": true
   },
   "outputs": [],
   "source": [
    "import pandas as pd\n",
    "import numpy as np\n",
    "from sklearn.preprocessing import StandardScaler\n",
    "from sklearn.cross_validation import train_test_split\n",
    "from sklearn.decomposition import PCA"
   ]
  },
  {
   "cell_type": "code",
   "execution_count": 3,
   "metadata": {
    "collapsed": false
   },
   "outputs": [],
   "source": [
    "df_X = pd.read_pickle(\"./data/df_X_imputed.pkl\")\n",
    "df_X = df_X.drop([\"verification_status_None\", \"term_None\", \"application_type_None\", \"initial_list_status_None\", \"purpose_None\", \"emp_length_None\", \"home_ownership_None\", \"addr_state_None\", \"funded_amnt_inv\", \"num_actv_rev_tl\", \"tot_cur_bal\"], axis=1)\n",
    "df_y = pd.read_pickle(\"./data/df_y.pkl\")"
   ]
  },
  {
   "cell_type": "code",
   "execution_count": 4,
   "metadata": {
    "collapsed": false
   },
   "outputs": [],
   "source": [
    "sclr = StandardScaler()\n",
    "X = sclr.fit_transform(df_X)\n",
    "y = df_y.values"
   ]
  },
  {
   "cell_type": "code",
   "execution_count": 5,
   "metadata": {
    "collapsed": false
   },
   "outputs": [],
   "source": [
    "X_train, X_test, y_train, y_test = train_test_split(X, y, test_size=0.3, random_state=20161201)"
   ]
  },
  {
   "cell_type": "code",
   "execution_count": 6,
   "metadata": {
    "collapsed": false,
    "scrolled": true
   },
   "outputs": [
    {
     "name": "stdout",
     "output_type": "stream",
     "text": [
      "5-components: 10.91% variance explained\n",
      "10-components: 18.61% variance explained\n",
      "15-components: 24.24% variance explained\n",
      "20-components: 28.70% variance explained\n",
      "25-components: 32.46% variance explained\n",
      "30-components: 35.90% variance explained\n",
      "35-components: 39.22% variance explained\n",
      "40-components: 42.48% variance explained\n",
      "45-components: 45.69% variance explained\n",
      "50-components: 48.87% variance explained\n",
      "55-components: 52.02% variance explained\n",
      "60-components: 55.16% variance explained\n",
      "65-components: 58.29% variance explained\n",
      "70-components: 61.41% variance explained\n",
      "75-components: 64.51% variance explained\n",
      "80-components: 67.61% variance explained\n",
      "85-components: 70.69% variance explained\n",
      "90-components: 73.77% variance explained\n",
      "95-components: 76.83% variance explained\n",
      "100-components: 79.84% variance explained\n"
     ]
    }
   ],
   "source": [
    "pca = PCA(n_components=100)\n",
    "pca.fit(X)\n",
    "\n",
    "for n in range(5, 105, 5):\n",
    "    print \"%d-components: %.2f%% variance explained\" % (n, sum(pca.explained_variance_ratio_[1:n])*100)"
   ]
  },
  {
   "cell_type": "code",
   "execution_count": 7,
   "metadata": {
    "collapsed": false
   },
   "outputs": [
    {
     "name": "stdout",
     "output_type": "stream",
     "text": [
      "40-components: 48.01% variance explained\n"
     ]
    }
   ],
   "source": [
    "n = 40\n",
    "pca = PCA(n_components=n)\n",
    "X_pc = pca.fit_transform(X)\n",
    "print \"%d-components: %.2f%% variance explained\" % (n, sum(pca.explained_variance_ratio_)*100)\n",
    "X_pc_train, X_pc_test, y_pc_train, y_pc_test = train_test_split(X_pc, y, test_size=0.3, random_state=20161201)"
   ]
  },
  {
   "cell_type": "code",
   "execution_count": 8,
   "metadata": {
    "collapsed": false
   },
   "outputs": [
    {
     "data": {
      "text/plain": [
       "array([1, 1, 1, ..., 1, 1, 1])"
      ]
     },
     "execution_count": 8,
     "metadata": {},
     "output_type": "execute_result"
    }
   ],
   "source": [
    "# Baseline models\n",
    "# All positive (label every applicant as default)\n",
    "class Pos_model(object):\n",
    "    def fit(self, X, y):\n",
    "        return\n",
    "    \n",
    "    def predict(self, x):\n",
    "        return np.array([1] * len(x))\n",
    "    \n",
    "    def score(self, x, y):\n",
    "        y_pred = self.predict(x)\n",
    "        y_err = y - y_pred\n",
    "        return len(y_err[y_err == 0]) * 1. / len(y_err)\n",
    "\n",
    "pos_model = Pos_model()\n",
    "pos_model.fit(X_train, y_train)\n",
    "pos_model.predict(X_test)"
   ]
  },
  {
   "cell_type": "code",
   "execution_count": 9,
   "metadata": {
    "collapsed": false
   },
   "outputs": [
    {
     "data": {
      "text/plain": [
       "array([0, 0, 0, ..., 0, 0, 0])"
      ]
     },
     "execution_count": 9,
     "metadata": {},
     "output_type": "execute_result"
    }
   ],
   "source": [
    "# All negative (label every applicant as not default)\n",
    "class Neg_model(object):\n",
    "    def fit(self, X, y):\n",
    "        return\n",
    "    \n",
    "    def predict(self, x):\n",
    "        return np.array([0] * len(x))\n",
    "    \n",
    "    def score(self, x, y):\n",
    "        y_pred = self.predict(x)\n",
    "        y_err = y - y_pred\n",
    "        return len(y_err[y_err == 0]) * 1. / len(y_err)\n",
    "\n",
    "neg_model = Neg_model()\n",
    "neg_model.fit(X_train, y_train)\n",
    "neg_model.predict(X_test)"
   ]
  },
  {
   "cell_type": "code",
   "execution_count": 10,
   "metadata": {
    "collapsed": false
   },
   "outputs": [
    {
     "data": {
      "text/plain": [
       "array([0, 0, 0, ..., 1, 1, 1])"
      ]
     },
     "execution_count": 10,
     "metadata": {},
     "output_type": "execute_result"
    }
   ],
   "source": [
    "# Random (randomly predict flu or not flu)\n",
    "class Random_model(object):\n",
    "    def fit(self, X, y):\n",
    "        return\n",
    "    \n",
    "    def predict(self, x):\n",
    "        return np.random.randint(0, 2, len(x))\n",
    "    \n",
    "    def score(self, x, y):\n",
    "        y_pred = self.predict(x)\n",
    "        y_err = y - y_pred\n",
    "        return len(y_err[y_err == 0]) * 1. / len(y_err)\n",
    "\n",
    "random_model = Random_model()\n",
    "random_model.fit(X_train, y_train)\n",
    "random_model.predict(X_test)"
   ]
  },
  {
   "cell_type": "code",
   "execution_count": 63,
   "metadata": {
    "collapsed": true
   },
   "outputs": [],
   "source": [
    "def custom_cost(y, y_pred):\n",
    "    cost_fixed_application = 10.0\n",
    "    cost_fixed_servicing = 100.0\n",
    "    cost_default = 15000.0\n",
    "    cost_interest = -1000.0\n",
    "    \n",
    "    # TRUE POSITIVE: Predict default, applicant would default\n",
    "    n_true_positive = sum((y==1) & (y_pred==1))\n",
    "    # We only pay fixed application processing costs as we decline the loan\n",
    "    cost_true_positive = n_true_positive*(cost_fixed_application)\n",
    "    \n",
    "    # TRUE NEGATIVE: Predict pay on time, applicant will pay on time\n",
    "    n_true_negative = sum((y==0) & (y_pred==0))\n",
    "    # We pay fixed application processing costs, costs of servicing the loan, and gain profit on interest payments\n",
    "    cost_true_negative = n_true_negative*(cost_fixed_application + cost_fixed_servicing + cost_interest)\n",
    "    \n",
    "    # FALSE POSITIVE: Predict default, applicant would pay on time\n",
    "    n_false_positive = sum((y==0) & (y_pred==1))\n",
    "    # We only pay fixed application processing costs as we decline the loan\n",
    "    cost_false_positive = n_false_positive*(cost_fixed_application)\n",
    "    \n",
    "    # FALSE NEGATIVE: Predict pay on time, applicant will default\n",
    "    n_false_negative = sum((y==1) & (y_pred==0))\n",
    "    # We pay fixed application processing costs, costs of servicing the loan, and the principal as the loan defaults\n",
    "    cost_false_negative = n_false_negative*(cost_fixed_application + cost_fixed_servicing + cost_default)\n",
    "    \n",
    "    return (cost_true_positive + cost_true_negative + cost_false_positive + cost_false_negative)/len(y)\n"
   ]
  },
  {
   "cell_type": "code",
   "execution_count": 64,
   "metadata": {
    "collapsed": true
   },
   "outputs": [],
   "source": [
    "def test_model(model, label, scoring_funcs, use_pc=False, fit=True):\n",
    "    if use_pc:\n",
    "        if fit:\n",
    "            model.fit(X_pc_train, y_train)\n",
    "        y_pred = model.predict(X_pc_test)\n",
    "    else:\n",
    "        if fit:\n",
    "            model.fit(X_train, y_train)\n",
    "        y_pred = model.predict(X_test)        \n",
    "        \n",
    "    scores = {\"model\": label}\n",
    "    for scoring_func in scoring_funcs:\n",
    "        scores[scoring_func.__name__] = scoring_func(y_test, y_pred)\n",
    "    \n",
    "    return pd.DataFrame([scores]).set_index(\"model\")\n",
    "\n",
    "def compare_models(models, labels, scoring_funcs, use_pc=False, fit=True):\n",
    "    return pd.concat([test_model(model, label, scoring_funcs, use_pc) for model, label in zip(models, labels)], fit)"
   ]
  },
  {
   "cell_type": "code",
   "execution_count": 13,
   "metadata": {
    "collapsed": false,
    "scrolled": false
   },
   "outputs": [
    {
     "name": "stderr",
     "output_type": "stream",
     "text": [
      "/home/ubuntu/anaconda3/envs/cs109a_proj/lib/python2.7/site-packages/sklearn/metrics/classification.py:1074: UndefinedMetricWarning: F-score is ill-defined and being set to 0.0 due to no predicted samples.\n",
      "  'precision', 'predicted', average, warn_for)\n",
      "/home/ubuntu/anaconda3/envs/cs109a_proj/lib/python2.7/site-packages/sklearn/metrics/classification.py:1074: UndefinedMetricWarning: Precision is ill-defined and being set to 0.0 due to no predicted samples.\n",
      "  'precision', 'predicted', average, warn_for)\n"
     ]
    },
    {
     "data": {
      "text/html": [
       "<div>\n",
       "<table border=\"1\" class=\"dataframe\">\n",
       "  <thead>\n",
       "    <tr style=\"text-align: right;\">\n",
       "      <th></th>\n",
       "      <th>accuracy_score</th>\n",
       "      <th>average_precision_score</th>\n",
       "      <th>custom_cost</th>\n",
       "      <th>f1_score</th>\n",
       "      <th>log_loss</th>\n",
       "      <th>precision_score</th>\n",
       "      <th>recall_score</th>\n",
       "      <th>roc_auc_score</th>\n",
       "    </tr>\n",
       "    <tr>\n",
       "      <th>model</th>\n",
       "      <th></th>\n",
       "      <th></th>\n",
       "      <th></th>\n",
       "      <th></th>\n",
       "      <th></th>\n",
       "      <th></th>\n",
       "      <th></th>\n",
       "      <th></th>\n",
       "    </tr>\n",
       "  </thead>\n",
       "  <tbody>\n",
       "    <tr>\n",
       "      <th>Positive Model</th>\n",
       "      <td>0.196514</td>\n",
       "      <td>0.598257</td>\n",
       "      <td>10.000000</td>\n",
       "      <td>0.328477</td>\n",
       "      <td>27.752072</td>\n",
       "      <td>0.196514</td>\n",
       "      <td>1.000000</td>\n",
       "      <td>0.500000</td>\n",
       "    </tr>\n",
       "    <tr>\n",
       "      <th>Negative Model</th>\n",
       "      <td>0.803486</td>\n",
       "      <td>0.598257</td>\n",
       "      <td>2254.220934</td>\n",
       "      <td>0.000000</td>\n",
       "      <td>6.787346</td>\n",
       "      <td>0.000000</td>\n",
       "      <td>0.000000</td>\n",
       "      <td>0.500000</td>\n",
       "    </tr>\n",
       "    <tr>\n",
       "      <th>Random Model</th>\n",
       "      <td>0.500716</td>\n",
       "      <td>0.398035</td>\n",
       "      <td>1128.742755</td>\n",
       "      <td>0.282825</td>\n",
       "      <td>17.244980</td>\n",
       "      <td>0.197028</td>\n",
       "      <td>0.500976</td>\n",
       "      <td>0.500814</td>\n",
       "    </tr>\n",
       "  </tbody>\n",
       "</table>\n",
       "</div>"
      ],
      "text/plain": [
       "                accuracy_score  average_precision_score  custom_cost  \\\n",
       "model                                                                  \n",
       "Positive Model        0.196514                 0.598257    10.000000   \n",
       "Negative Model        0.803486                 0.598257  2254.220934   \n",
       "Random Model          0.500716                 0.398035  1128.742755   \n",
       "\n",
       "                f1_score   log_loss  precision_score  recall_score  \\\n",
       "model                                                                \n",
       "Positive Model  0.328477  27.752072         0.196514      1.000000   \n",
       "Negative Model  0.000000   6.787346         0.000000      0.000000   \n",
       "Random Model    0.282825  17.244980         0.197028      0.500976   \n",
       "\n",
       "                roc_auc_score  \n",
       "model                          \n",
       "Positive Model       0.500000  \n",
       "Negative Model       0.500000  \n",
       "Random Model         0.500814  "
      ]
     },
     "execution_count": 13,
     "metadata": {},
     "output_type": "execute_result"
    }
   ],
   "source": [
    "from sklearn.metrics import accuracy_score\n",
    "from sklearn.metrics import average_precision_score\n",
    "from sklearn.metrics import f1_score\n",
    "from sklearn.metrics import log_loss\n",
    "from sklearn.metrics import precision_score\n",
    "from sklearn.metrics import recall_score\n",
    "from sklearn.metrics import roc_auc_score\n",
    "\n",
    "compare_models([pos_model, neg_model, random_model], [\"Positive Model\", \"Negative Model\", \"Random Model\"], [custom_cost, accuracy_score, average_precision_score, f1_score, log_loss, precision_score, recall_score, roc_auc_score])"
   ]
  },
  {
   "cell_type": "markdown",
   "metadata": {},
   "source": [
    "# V. Prediction Models"
   ]
  },
  {
   "cell_type": "code",
   "execution_count": 18,
   "metadata": {
    "collapsed": false
   },
   "outputs": [
    {
     "name": "stdout",
     "output_type": "stream",
     "text": [
      "CPU times: user 4min 12s, sys: 5.73 s, total: 4min 18s\n",
      "Wall time: 7.97 s\n"
     ]
    },
    {
     "data": {
      "text/plain": [
       "XGBClassifier(base_score=0.5, colsample_bylevel=1, colsample_bytree=1,\n",
       "       gamma=0, learning_rate=0.1, max_delta_step=0, max_depth=3,\n",
       "       min_child_weight=1, missing=None, n_estimators=100, nthread=36,\n",
       "       objective='binary:logistic', reg_alpha=0, reg_lambda=1,\n",
       "       scale_pos_weight=1, seed=0, silent=True, subsample=1)"
      ]
     },
     "execution_count": 18,
     "metadata": {},
     "output_type": "execute_result"
    }
   ],
   "source": [
    "from sklearn.grid_search import GridSearchCV\n",
    "import xgboost as xgb"
   ]
  },
  {
   "cell_type": "code",
   "execution_count": 37,
   "metadata": {
    "collapsed": false
   },
   "outputs": [
    {
     "data": {
      "text/html": [
       "<div>\n",
       "<table border=\"1\" class=\"dataframe\">\n",
       "  <thead>\n",
       "    <tr style=\"text-align: right;\">\n",
       "      <th></th>\n",
       "      <th>accuracy_score</th>\n",
       "      <th>average_precision_score</th>\n",
       "      <th>custom_cost</th>\n",
       "      <th>f1_score</th>\n",
       "      <th>log_loss</th>\n",
       "      <th>precision_score</th>\n",
       "      <th>recall_score</th>\n",
       "      <th>roc_auc_score</th>\n",
       "    </tr>\n",
       "    <tr>\n",
       "      <th>model</th>\n",
       "      <th></th>\n",
       "      <th></th>\n",
       "      <th></th>\n",
       "      <th></th>\n",
       "      <th></th>\n",
       "      <th></th>\n",
       "      <th></th>\n",
       "      <th></th>\n",
       "    </tr>\n",
       "  </thead>\n",
       "  <tbody>\n",
       "    <tr>\n",
       "      <th>XGBoost - no tuning</th>\n",
       "      <td>0.832757</td>\n",
       "      <td>0.552967</td>\n",
       "      <td>1325.671667</td>\n",
       "      <td>0.431753</td>\n",
       "      <td>5.776411</td>\n",
       "      <td>0.649643</td>\n",
       "      <td>0.323314</td>\n",
       "      <td>0.640334</td>\n",
       "    </tr>\n",
       "  </tbody>\n",
       "</table>\n",
       "</div>"
      ],
      "text/plain": [
       "                     accuracy_score  average_precision_score  custom_cost  \\\n",
       "model                                                                       \n",
       "XGBoost - no tuning        0.832757                 0.552967  1325.671667   \n",
       "\n",
       "                     f1_score  log_loss  precision_score  recall_score  \\\n",
       "model                                                                    \n",
       "XGBoost - no tuning  0.431753  5.776411         0.649643      0.323314   \n",
       "\n",
       "                     roc_auc_score  \n",
       "model                               \n",
       "XGBoost - no tuning       0.640334  "
      ]
     },
     "execution_count": 37,
     "metadata": {},
     "output_type": "execute_result"
    }
   ],
   "source": [
    "xg = xgb.XGBClassifier(nthread=36)\n",
    "xg_scores = compare_models([xg],\n",
    "                           [\"XGBoost - no tuning\"],\n",
    "                           [custom_cost, accuracy_score, average_precision_score, f1_score,\n",
    "                            log_loss, precision_score, recall_score, roc_auc_score],\n",
    "                           use_pc=False)\n",
    "\n",
    "xg_scores"
   ]
  },
  {
   "cell_type": "code",
   "execution_count": 49,
   "metadata": {
    "collapsed": false
   },
   "outputs": [
    {
     "data": {
      "text/plain": [
       "{'learning_rate': [0.1, 0.5, 0.01, 0.05], 'n_estimators': [100, 200, 300]}"
      ]
     },
     "execution_count": 49,
     "metadata": {},
     "output_type": "execute_result"
    }
   ],
   "source": [
    "n_estimators = [100, 150] #[100, 200, 300, 400, 500]\n",
    "learning_rate = [0.1, 0.5, 0.05] #[0.0001, 0.001, 0.01, 0.1]\n",
    "\n",
    "\n",
    "param_grid1 = {'learning_rate':learning_rate, 'n_estimators':n_estimators}\n",
    "param_grid1"
   ]
  },
  {
   "cell_type": "code",
   "execution_count": 52,
   "metadata": {
    "collapsed": false
   },
   "outputs": [
    {
     "name": "stdout",
     "output_type": "stream",
     "text": [
      "Fitting 3 folds for each of 12 candidates, totalling 36 fits\n"
     ]
    },
    {
     "name": "stderr",
     "output_type": "stream",
     "text": [
      "[Parallel(n_jobs=3)]: Done  36 out of  36 | elapsed:  4.5min finished\n"
     ]
    },
    {
     "data": {
      "text/plain": [
       "GridSearchCV(cv=None, error_score='raise',\n",
       "       estimator=XGBClassifier(base_score=0.5, colsample_bylevel=1, colsample_bytree=1,\n",
       "       gamma=0, learning_rate=0.1, max_delta_step=0, max_depth=3,\n",
       "       min_child_weight=1, missing=None, n_estimators=100, nthread=12,\n",
       "       objective='binary:logistic', reg_alpha=0, reg_lambda=1,\n",
       "       scale_pos_weight=1, seed=0, silent=True, subsample=1),\n",
       "       fit_params={}, iid=True, n_jobs=3,\n",
       "       param_grid={'n_estimators': [100, 200, 300], 'learning_rate': [0.1, 0.5, 0.01, 0.05]},\n",
       "       pre_dispatch='2*n_jobs', refit=True, scoring='accuracy', verbose=1)"
      ]
     },
     "execution_count": 52,
     "metadata": {},
     "output_type": "execute_result"
    }
   ],
   "source": [
    "grid_search = GridSearchCV(xg, param_grid=param_grid1, scoring=\"accuracy\", verbose=1, n_jobs=3 )\n",
    "grid_search.fit(X_train, y_train)"
   ]
  },
  {
   "cell_type": "code",
   "execution_count": 66,
   "metadata": {
    "collapsed": false
   },
   "outputs": [],
   "source": [
    "xg_n100 = xgb.XGBClassifier(nthread=-1, n_estimators=100, learning_rate=0.5)\n",
    "xg_n150 = xgb.XGBClassifier(nthread=-1, n_estimators=150, learning_rate=0.5)\n",
    "xg_n200 = xgb.XGBClassifier(nthread=-1, n_estimators=200, learning_rate=0.5)\n",
    "xg_n250 = xgb.XGBClassifier(nthread=-1, n_estimators=250, learning_rate=0.5)\n",
    "xg_n300 = xgb.XGBClassifier(nthread=-1, n_estimators=300, learning_rate=0.5)\n",
    "\n",
    "xgb_est = compare_models([xg_n100,xg_n150,xg_n200,xg_n250,xg_n300],\n",
    "               ['xg_n100','xg_n150','xg_n200','xg_n250','xg_n300'],\n",
    "               [custom_cost, accuracy_score, average_precision_score, f1_score, log_loss,\n",
    "                precision_score, recall_score, roc_auc_score])"
   ]
  },
  {
   "cell_type": "code",
   "execution_count": null,
   "metadata": {
    "collapsed": true
   },
   "outputs": [],
   "source": [
    "x = xgb_est.values\n",
    "x_new = np.zeros((xgb_est.shape[0],8))\n",
    "for i in xrange(x.shape[0]):\n",
    "    x_new[i,:]=x[i,i*8:i*8+8]\n",
    "\n",
    "xgb_est=pd.DataFrame(x_new)\n",
    "xgb_est.columns=['custom_cost', 'accuracy_score', 'average_precision_score', 'f1_score', 'log_loss',\n",
    "                'precision_score', 'recall_score', 'roc_auc_score']"
   ]
  },
  {
   "cell_type": "code",
   "execution_count": 73,
   "metadata": {
    "collapsed": false
   },
   "outputs": [
    {
     "data": {
      "text/html": [
       "<div>\n",
       "<table border=\"1\" class=\"dataframe\">\n",
       "  <thead>\n",
       "    <tr style=\"text-align: right;\">\n",
       "      <th></th>\n",
       "      <th>custom_cost</th>\n",
       "      <th>accuracy_score</th>\n",
       "      <th>average_precision_score</th>\n",
       "      <th>f1_score</th>\n",
       "      <th>log_loss</th>\n",
       "      <th>precision_score</th>\n",
       "      <th>recall_score</th>\n",
       "      <th>roc_auc_score</th>\n",
       "    </tr>\n",
       "  </thead>\n",
       "  <tbody>\n",
       "    <tr>\n",
       "      <th>0</th>\n",
       "      <td>0.836677</td>\n",
       "      <td>0.575035</td>\n",
       "      <td>1120.496079</td>\n",
       "      <td>0.487687</td>\n",
       "      <td>5.640996</td>\n",
       "      <td>0.635717</td>\n",
       "      <td>0.395576</td>\n",
       "      <td>0.670068</td>\n",
       "    </tr>\n",
       "    <tr>\n",
       "      <th>1</th>\n",
       "      <td>0.836771</td>\n",
       "      <td>0.576398</td>\n",
       "      <td>1103.708660</td>\n",
       "      <td>0.491584</td>\n",
       "      <td>5.637759</td>\n",
       "      <td>0.633632</td>\n",
       "      <td>0.401561</td>\n",
       "      <td>0.672387</td>\n",
       "    </tr>\n",
       "    <tr>\n",
       "      <th>2</th>\n",
       "      <td>0.836388</td>\n",
       "      <td>0.575764</td>\n",
       "      <td>1099.212411</td>\n",
       "      <td>0.492075</td>\n",
       "      <td>5.651007</td>\n",
       "      <td>0.630972</td>\n",
       "      <td>0.403296</td>\n",
       "      <td>0.672804</td>\n",
       "    </tr>\n",
       "    <tr>\n",
       "      <th>3</th>\n",
       "      <td>0.835996</td>\n",
       "      <td>0.574940</td>\n",
       "      <td>1097.386635</td>\n",
       "      <td>0.491960</td>\n",
       "      <td>5.664550</td>\n",
       "      <td>0.628695</td>\n",
       "      <td>0.404077</td>\n",
       "      <td>0.672855</td>\n",
       "    </tr>\n",
       "    <tr>\n",
       "      <th>4</th>\n",
       "      <td>0.835331</td>\n",
       "      <td>0.573538</td>\n",
       "      <td>1094.717013</td>\n",
       "      <td>0.491672</td>\n",
       "      <td>5.687514</td>\n",
       "      <td>0.624950</td>\n",
       "      <td>0.405248</td>\n",
       "      <td>0.672884</td>\n",
       "    </tr>\n",
       "  </tbody>\n",
       "</table>\n",
       "</div>"
      ],
      "text/plain": [
       "   custom_cost  accuracy_score  average_precision_score  f1_score  log_loss  \\\n",
       "0     0.836677        0.575035              1120.496079  0.487687  5.640996   \n",
       "1     0.836771        0.576398              1103.708660  0.491584  5.637759   \n",
       "2     0.836388        0.575764              1099.212411  0.492075  5.651007   \n",
       "3     0.835996        0.574940              1097.386635  0.491960  5.664550   \n",
       "4     0.835331        0.573538              1094.717013  0.491672  5.687514   \n",
       "\n",
       "   precision_score  recall_score  roc_auc_score  \n",
       "0         0.635717      0.395576       0.670068  \n",
       "1         0.633632      0.401561       0.672387  \n",
       "2         0.630972      0.403296       0.672804  \n",
       "3         0.628695      0.404077       0.672855  \n",
       "4         0.624950      0.405248       0.672884  "
      ]
     },
     "execution_count": 73,
     "metadata": {},
     "output_type": "execute_result"
    }
   ],
   "source": [
    "xgb_est"
   ]
  },
  {
   "cell_type": "code",
   "execution_count": 68,
   "metadata": {
    "collapsed": true
   },
   "outputs": [],
   "source": [
    "xg_n200_l01 = xgb.XGBClassifier(nthread=-1, n_estimators=200, learning_rate=0.1)\n",
    "xg_n200_l02 = xgb.XGBClassifier(nthread=-1, n_estimators=200, learning_rate=0.2)\n",
    "xg_n200_l03 = xgb.XGBClassifier(nthread=-1, n_estimators=200, learning_rate=0.3)\n",
    "xg_n200_l04 = xgb.XGBClassifier(nthread=-1, n_estimators=200, learning_rate=0.4)\n",
    "xg_n200_l05 = xgb.XGBClassifier(nthread=-1, n_estimators=200, learning_rate=0.5)\n",
    "\n",
    "xgb_lr = compare_models([xg_n200_l01,xg_n200_l02,xg_n200_l03,xg_n200_l04,xg_n200_l05],\n",
    "               ['xg_n200_l01','xg_n200_l02','xg_n200_l03','xg_n200_l04','xg_n200_l05'],\n",
    "               [custom_cost, accuracy_score, average_precision_score, f1_score, log_loss,\n",
    "                precision_score, recall_score, roc_auc_score])"
   ]
  },
  {
   "cell_type": "code",
   "execution_count": 77,
   "metadata": {
    "collapsed": false
   },
   "outputs": [],
   "source": [
    "x_new = np.zeros((xgb_lr.shape[0],8))\n",
    "x = xgb_lr.values\n",
    "for i in xrange(x.shape[0]):\n",
    "    x_new[i,:]=x[i,i*8:i*8+8]\n",
    "\n",
    "xgb_lr=pd.DataFrame(x_new)\n",
    "xgb_lr.columns=['custom_cost', 'accuracy_score', 'average_precision_score', 'f1_score', 'log_loss',\n",
    "                'precision_score', 'recall_score', 'roc_auc_score']"
   ]
  },
  {
   "cell_type": "code",
   "execution_count": 78,
   "metadata": {
    "collapsed": false
   },
   "outputs": [
    {
     "data": {
      "text/html": [
       "<div>\n",
       "<table border=\"1\" class=\"dataframe\">\n",
       "  <thead>\n",
       "    <tr style=\"text-align: right;\">\n",
       "      <th></th>\n",
       "      <th>custom_cost</th>\n",
       "      <th>accuracy_score</th>\n",
       "      <th>average_precision_score</th>\n",
       "      <th>f1_score</th>\n",
       "      <th>log_loss</th>\n",
       "      <th>precision_score</th>\n",
       "      <th>recall_score</th>\n",
       "      <th>roc_auc_score</th>\n",
       "    </tr>\n",
       "  </thead>\n",
       "  <tbody>\n",
       "    <tr>\n",
       "      <th>0</th>\n",
       "      <td>0.835970</td>\n",
       "      <td>0.568055</td>\n",
       "      <td>1206.826628</td>\n",
       "      <td>0.466452</td>\n",
       "      <td>5.665427</td>\n",
       "      <td>0.646430</td>\n",
       "      <td>0.364867</td>\n",
       "      <td>0.658029</td>\n",
       "    </tr>\n",
       "    <tr>\n",
       "      <th>1</th>\n",
       "      <td>0.837104</td>\n",
       "      <td>0.574375</td>\n",
       "      <td>1148.919195</td>\n",
       "      <td>0.481736</td>\n",
       "      <td>5.626274</td>\n",
       "      <td>0.642692</td>\n",
       "      <td>0.385253</td>\n",
       "      <td>0.666434</td>\n",
       "    </tr>\n",
       "    <tr>\n",
       "      <th>2</th>\n",
       "      <td>0.837589</td>\n",
       "      <td>0.577706</td>\n",
       "      <td>1115.196897</td>\n",
       "      <td>0.490098</td>\n",
       "      <td>5.609495</td>\n",
       "      <td>0.639768</td>\n",
       "      <td>0.397181</td>\n",
       "      <td>0.671242</td>\n",
       "    </tr>\n",
       "    <tr>\n",
       "      <th>3</th>\n",
       "      <td>0.837078</td>\n",
       "      <td>0.577483</td>\n",
       "      <td>1098.954143</td>\n",
       "      <td>0.493051</td>\n",
       "      <td>5.627160</td>\n",
       "      <td>0.634514</td>\n",
       "      <td>0.403166</td>\n",
       "      <td>0.673185</td>\n",
       "    </tr>\n",
       "    <tr>\n",
       "      <th>4</th>\n",
       "      <td>0.836388</td>\n",
       "      <td>0.575764</td>\n",
       "      <td>1099.212411</td>\n",
       "      <td>0.492075</td>\n",
       "      <td>5.651007</td>\n",
       "      <td>0.630972</td>\n",
       "      <td>0.403296</td>\n",
       "      <td>0.672804</td>\n",
       "    </tr>\n",
       "  </tbody>\n",
       "</table>\n",
       "</div>"
      ],
      "text/plain": [
       "   custom_cost  accuracy_score  average_precision_score  f1_score  log_loss  \\\n",
       "0     0.835970        0.568055              1206.826628  0.466452  5.665427   \n",
       "1     0.837104        0.574375              1148.919195  0.481736  5.626274   \n",
       "2     0.837589        0.577706              1115.196897  0.490098  5.609495   \n",
       "3     0.837078        0.577483              1098.954143  0.493051  5.627160   \n",
       "4     0.836388        0.575764              1099.212411  0.492075  5.651007   \n",
       "\n",
       "   precision_score  recall_score  roc_auc_score  \n",
       "0         0.646430      0.364867       0.658029  \n",
       "1         0.642692      0.385253       0.666434  \n",
       "2         0.639768      0.397181       0.671242  \n",
       "3         0.634514      0.403166       0.673185  \n",
       "4         0.630972      0.403296       0.672804  "
      ]
     },
     "execution_count": 78,
     "metadata": {},
     "output_type": "execute_result"
    }
   ],
   "source": [
    "xgb_lr"
   ]
  },
  {
   "cell_type": "code",
   "execution_count": 85,
   "metadata": {
    "collapsed": true
   },
   "outputs": [],
   "source": [
    "xg_reg03 = xgb.XGBClassifier(nthread=-1, n_estimators=200, learning_rate=0.4, reg_lambda=0.3 )\n",
    "xg_reg05 = xgb.XGBClassifier(nthread=-1, n_estimators=200, learning_rate=0.4, reg_lambda=0.5)\n",
    "xg_reg07 = xgb.XGBClassifier(nthread=-1, n_estimators=200, learning_rate=0.4, reg_lambda=0.7)\n",
    "xg_reg09 = xgb.XGBClassifier(nthread=-1, n_estimators=200, learning_rate=0.4, reg_lambda=0.9)\n",
    "\n",
    "xgb_est = compare_models([xg_reg03,xg_reg05,xg_reg07,xg_reg09],\n",
    "               ['xg_n100','xg_n150','xg_n200','xg_n250'],\n",
    "               [custom_cost, accuracy_score, average_precision_score, f1_score, log_loss,\n",
    "                precision_score, recall_score, roc_auc_score])"
   ]
  },
  {
   "cell_type": "code",
   "execution_count": 86,
   "metadata": {
    "collapsed": true
   },
   "outputs": [],
   "source": [
    "x_new = np.zeros((xgb_est.shape[0],8))\n",
    "x = xgb_est.values\n",
    "for i in xrange(x.shape[0]):\n",
    "    x_new[i,:]=x[i,i*8:i*8+8]\n",
    "\n",
    "xgb_est=pd.DataFrame(x_new)\n",
    "xgb_est.columns=['custom_cost', 'accuracy_score', 'average_precision_score', 'f1_score', 'log_loss',\n",
    "                'precision_score', 'recall_score', 'roc_auc_score']"
   ]
  },
  {
   "cell_type": "code",
   "execution_count": 87,
   "metadata": {
    "collapsed": false
   },
   "outputs": [
    {
     "data": {
      "text/html": [
       "<div>\n",
       "<table border=\"1\" class=\"dataframe\">\n",
       "  <thead>\n",
       "    <tr style=\"text-align: right;\">\n",
       "      <th></th>\n",
       "      <th>custom_cost</th>\n",
       "      <th>accuracy_score</th>\n",
       "      <th>average_precision_score</th>\n",
       "      <th>f1_score</th>\n",
       "      <th>log_loss</th>\n",
       "      <th>precision_score</th>\n",
       "      <th>recall_score</th>\n",
       "      <th>roc_auc_score</th>\n",
       "    </tr>\n",
       "  </thead>\n",
       "  <tbody>\n",
       "    <tr>\n",
       "      <th>0</th>\n",
       "      <td>0.836609</td>\n",
       "      <td>0.576145</td>\n",
       "      <td>1101.554722</td>\n",
       "      <td>0.491848</td>\n",
       "      <td>5.643353</td>\n",
       "      <td>0.632465</td>\n",
       "      <td>0.402386</td>\n",
       "      <td>0.672598</td>\n",
       "    </tr>\n",
       "    <tr>\n",
       "      <th>1</th>\n",
       "      <td>0.836925</td>\n",
       "      <td>0.577161</td>\n",
       "      <td>1098.123935</td>\n",
       "      <td>0.493031</td>\n",
       "      <td>5.632460</td>\n",
       "      <td>0.633590</td>\n",
       "      <td>0.403513</td>\n",
       "      <td>0.673220</td>\n",
       "    </tr>\n",
       "    <tr>\n",
       "      <th>2</th>\n",
       "      <td>0.836601</td>\n",
       "      <td>0.575923</td>\n",
       "      <td>1104.467269</td>\n",
       "      <td>0.491188</td>\n",
       "      <td>5.643647</td>\n",
       "      <td>0.632857</td>\n",
       "      <td>0.401345</td>\n",
       "      <td>0.672199</td>\n",
       "    </tr>\n",
       "    <tr>\n",
       "      <th>3</th>\n",
       "      <td>0.836609</td>\n",
       "      <td>0.576061</td>\n",
       "      <td>1102.765087</td>\n",
       "      <td>0.491579</td>\n",
       "      <td>5.643352</td>\n",
       "      <td>0.632646</td>\n",
       "      <td>0.401952</td>\n",
       "      <td>0.672434</td>\n",
       "    </tr>\n",
       "  </tbody>\n",
       "</table>\n",
       "</div>"
      ],
      "text/plain": [
       "   custom_cost  accuracy_score  average_precision_score  f1_score  log_loss  \\\n",
       "0     0.836609        0.576145              1101.554722  0.491848  5.643353   \n",
       "1     0.836925        0.577161              1098.123935  0.493031  5.632460   \n",
       "2     0.836601        0.575923              1104.467269  0.491188  5.643647   \n",
       "3     0.836609        0.576061              1102.765087  0.491579  5.643352   \n",
       "\n",
       "   precision_score  recall_score  roc_auc_score  \n",
       "0         0.632465      0.402386       0.672598  \n",
       "1         0.633590      0.403513       0.673220  \n",
       "2         0.632857      0.401345       0.672199  \n",
       "3         0.632646      0.401952       0.672434  "
      ]
     },
     "execution_count": 87,
     "metadata": {},
     "output_type": "execute_result"
    }
   ],
   "source": [
    "xgb_est"
   ]
  },
  {
   "cell_type": "code",
   "execution_count": 99,
   "metadata": {
    "collapsed": false
   },
   "outputs": [],
   "source": [
    "xg_reg03 = xgb.XGBClassifier(nthread=-1, n_estimators=200, learning_rate=0.4, reg_lambda=0.5, colsample_bytree=0.3)\n",
    "xg_reg05 = xgb.XGBClassifier(nthread=-1, n_estimators=200, learning_rate=0.4, reg_lambda=0.5, colsample_bytree=0.5)\n",
    "xg_reg07 = xgb.XGBClassifier(nthread=-1, n_estimators=200, learning_rate=0.4, reg_lambda=0.5, colsample_bytree=0.7)\n",
    "xg_reg09 = xgb.XGBClassifier(nthread=-1, n_estimators=200, learning_rate=0.4, reg_lambda=0.5, colsample_bytree=0.9)\n",
    "\n",
    "xgb_est = compare_models([xg_reg03,xg_reg05,xg_reg07,xg_reg09],\n",
    "               ['xg_n100','xg_n150','xg_n200','xg_n250','xg_n300'],\n",
    "               [custom_cost, accuracy_score, average_precision_score, f1_score, log_loss,\n",
    "                precision_score, recall_score, roc_auc_score])"
   ]
  },
  {
   "cell_type": "code",
   "execution_count": 100,
   "metadata": {
    "collapsed": false
   },
   "outputs": [],
   "source": [
    "x_new = np.zeros((xgb_est.shape[0],8))\n",
    "x = xgb_est.values\n",
    "for i in xrange(x.shape[0]):\n",
    "    x_new[i,:]=x[i,i*8:i*8+8]\n",
    "\n",
    "xgb_est=pd.DataFrame(x_new)\n",
    "xgb_est.columns=['custom_cost', 'accuracy_score', 'average_precision_score', 'f1_score', 'log_loss',\n",
    "                'precision_score', 'recall_score', 'roc_auc_score']"
   ]
  },
  {
   "cell_type": "code",
   "execution_count": 101,
   "metadata": {
    "collapsed": false
   },
   "outputs": [
    {
     "data": {
      "text/html": [
       "<div>\n",
       "<table border=\"1\" class=\"dataframe\">\n",
       "  <thead>\n",
       "    <tr style=\"text-align: right;\">\n",
       "      <th></th>\n",
       "      <th>custom_cost</th>\n",
       "      <th>accuracy_score</th>\n",
       "      <th>average_precision_score</th>\n",
       "      <th>f1_score</th>\n",
       "      <th>log_loss</th>\n",
       "      <th>precision_score</th>\n",
       "      <th>recall_score</th>\n",
       "      <th>roc_auc_score</th>\n",
       "    </tr>\n",
       "  </thead>\n",
       "  <tbody>\n",
       "    <tr>\n",
       "      <th>0</th>\n",
       "      <td>0.836788</td>\n",
       "      <td>0.575355</td>\n",
       "      <td>1119.912206</td>\n",
       "      <td>0.487967</td>\n",
       "      <td>5.637169</td>\n",
       "      <td>0.636218</td>\n",
       "      <td>0.395749</td>\n",
       "      <td>0.670203</td>\n",
       "    </tr>\n",
       "    <tr>\n",
       "      <th>1</th>\n",
       "      <td>0.836882</td>\n",
       "      <td>0.576434</td>\n",
       "      <td>1107.240027</td>\n",
       "      <td>0.490942</td>\n",
       "      <td>5.633931</td>\n",
       "      <td>0.634750</td>\n",
       "      <td>0.400260</td>\n",
       "      <td>0.671965</td>\n",
       "    </tr>\n",
       "    <tr>\n",
       "      <th>2</th>\n",
       "      <td>0.836643</td>\n",
       "      <td>0.575471</td>\n",
       "      <td>1112.659393</td>\n",
       "      <td>0.489410</td>\n",
       "      <td>5.642174</td>\n",
       "      <td>0.634323</td>\n",
       "      <td>0.398395</td>\n",
       "      <td>0.671112</td>\n",
       "    </tr>\n",
       "    <tr>\n",
       "      <th>3</th>\n",
       "      <td>0.836925</td>\n",
       "      <td>0.576633</td>\n",
       "      <td>1105.870269</td>\n",
       "      <td>0.491306</td>\n",
       "      <td>5.632459</td>\n",
       "      <td>0.634765</td>\n",
       "      <td>0.400737</td>\n",
       "      <td>0.672172</td>\n",
       "    </tr>\n",
       "  </tbody>\n",
       "</table>\n",
       "</div>"
      ],
      "text/plain": [
       "   custom_cost  accuracy_score  average_precision_score  f1_score  log_loss  \\\n",
       "0     0.836788        0.575355              1119.912206  0.487967  5.637169   \n",
       "1     0.836882        0.576434              1107.240027  0.490942  5.633931   \n",
       "2     0.836643        0.575471              1112.659393  0.489410  5.642174   \n",
       "3     0.836925        0.576633              1105.870269  0.491306  5.632459   \n",
       "\n",
       "   precision_score  recall_score  roc_auc_score  \n",
       "0         0.636218      0.395749       0.670203  \n",
       "1         0.634750      0.400260       0.671965  \n",
       "2         0.634323      0.398395       0.671112  \n",
       "3         0.634765      0.400737       0.672172  "
      ]
     },
     "execution_count": 101,
     "metadata": {},
     "output_type": "execute_result"
    }
   ],
   "source": [
    "xgb_est"
   ]
  },
  {
   "cell_type": "code",
   "execution_count": 105,
   "metadata": {
    "collapsed": false
   },
   "outputs": [
    {
     "data": {
      "text/plain": [
       "0.19294304167397278"
      ]
     },
     "execution_count": 105,
     "metadata": {},
     "output_type": "execute_result"
    }
   ],
   "source": [
    "float(sum(y_train))/float(len(y_train))"
   ]
  },
  {
   "cell_type": "code",
   "execution_count": 261,
   "metadata": {
    "collapsed": false
   },
   "outputs": [],
   "source": [
    "def custom_loss(y_hat, y):\n",
    "    a = 0.18\n",
    "    b = 0.82\n",
    "    p = 1.0 / (1.0 + np.exp(-1.0*y_hat))\n",
    "    grad = -a*p*y+a*y+b*p*y-b*p\n",
    "    hess = (-a*y+b*y-b)*p*(1-p)\n",
    "    \n",
    "    return grad, hess\n",
    "\n",
    "def evalerror(preds, dtrain):\n",
    "    y_hat = preds\n",
    "    y_true = dtrain.get_label()\n",
    "    return 'error', custom_cost(y_true, y_hat)"
   ]
  },
  {
   "cell_type": "code",
   "execution_count": 273,
   "metadata": {
    "collapsed": false
   },
   "outputs": [
    {
     "data": {
      "text/plain": [
       "<function __main__.custom_loss>"
      ]
     },
     "execution_count": 273,
     "metadata": {},
     "output_type": "execute_result"
    }
   ],
   "source": [
    "xg = xgb.XGBClassifier(nthread=-1,  n_estimators=200, learning_rate=0.4,\n",
    "                       reg_lambda=0.5, objective=custom_loss)\n",
    "xg.objective"
   ]
  },
  {
   "cell_type": "code",
   "execution_count": 274,
   "metadata": {
    "collapsed": false
   },
   "outputs": [],
   "source": [
    "#eval_set = [(X_train, y_train), (X_test, y_test)]\n",
    "_ = xg.fit(X_train, y_train)#,\n",
    "       #eval_metric=evalerror, early_stopping_rounds=5, eval_set = eval_set)"
   ]
  },
  {
   "cell_type": "code",
   "execution_count": 275,
   "metadata": {
    "collapsed": false,
    "scrolled": true
   },
   "outputs": [
    {
     "data": {
      "text/html": [
       "<div>\n",
       "<table border=\"1\" class=\"dataframe\">\n",
       "  <thead>\n",
       "    <tr style=\"text-align: right;\">\n",
       "      <th></th>\n",
       "      <th>accuracy_score</th>\n",
       "      <th>average_precision_score</th>\n",
       "      <th>custom_cost</th>\n",
       "      <th>f1_score</th>\n",
       "      <th>log_loss</th>\n",
       "      <th>precision_score</th>\n",
       "      <th>recall_score</th>\n",
       "      <th>roc_auc_score</th>\n",
       "    </tr>\n",
       "    <tr>\n",
       "      <th>model</th>\n",
       "      <th></th>\n",
       "      <th></th>\n",
       "      <th></th>\n",
       "      <th></th>\n",
       "      <th></th>\n",
       "      <th></th>\n",
       "      <th></th>\n",
       "      <th></th>\n",
       "    </tr>\n",
       "  </thead>\n",
       "  <tbody>\n",
       "    <tr>\n",
       "      <th>xg</th>\n",
       "      <td>0.836925</td>\n",
       "      <td>0.577161</td>\n",
       "      <td>1098.123935</td>\n",
       "      <td>0.493031</td>\n",
       "      <td>5.63246</td>\n",
       "      <td>0.63359</td>\n",
       "      <td>0.403513</td>\n",
       "      <td>0.67322</td>\n",
       "    </tr>\n",
       "  </tbody>\n",
       "</table>\n",
       "</div>"
      ],
      "text/plain": [
       "       accuracy_score  average_precision_score  custom_cost  f1_score  \\\n",
       "model                                                                   \n",
       "xg           0.836925                 0.577161  1098.123935  0.493031   \n",
       "\n",
       "       log_loss  precision_score  recall_score  roc_auc_score  \n",
       "model                                                          \n",
       "xg      5.63246          0.63359      0.403513        0.67322  "
      ]
     },
     "execution_count": 275,
     "metadata": {},
     "output_type": "execute_result"
    }
   ],
   "source": [
    "compare_models([xg],\n",
    "               ['xg'],\n",
    "               [custom_cost, accuracy_score, average_precision_score, f1_score, log_loss,\n",
    "                precision_score, recall_score, roc_auc_score], fit=False)"
   ]
  }
 ],
 "metadata": {
  "anaconda-cloud": {},
  "kernelspec": {
   "display_name": "Python [conda env:cs109a_proj]",
   "language": "python",
   "name": "conda-env-cs109a_proj-py"
  },
  "language_info": {
   "codemirror_mode": {
    "name": "ipython",
    "version": 2
   },
   "file_extension": ".py",
   "mimetype": "text/x-python",
   "name": "python",
   "nbconvert_exporter": "python",
   "pygments_lexer": "ipython2",
   "version": "2.7.12"
  }
 },
 "nbformat": 4,
 "nbformat_minor": 1
}
