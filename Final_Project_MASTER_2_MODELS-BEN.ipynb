{
 "cells": [
  {
   "cell_type": "markdown",
   "metadata": {},
   "source": [
    "<br>\n",
    "<br>\n",
    "**<font size=5><center>Predicting Default Rates for Lending Club</center></font>**"
   ]
  },
  {
   "cell_type": "markdown",
   "metadata": {},
   "source": [
    "### Authors:\n",
    "Devon Luongo <br>\n",
    "Ankit Agarwal <br>\n",
    "Bryn Clarke <br>\n",
    "Ben Yuen"
   ]
  },
  {
   "cell_type": "markdown",
   "metadata": {},
   "source": [
    "# IV. Baseline Models"
   ]
  },
  {
   "cell_type": "markdown",
   "metadata": {},
   "source": [
    "*Libraries*"
   ]
  },
  {
   "cell_type": "code",
   "execution_count": 17,
   "metadata": {
    "collapsed": true
   },
   "outputs": [],
   "source": [
    "import pandas as pd\n",
    "import numpy as np\n",
    "from sklearn.preprocessing import StandardScaler\n",
    "from sklearn.cross_validation import train_test_split\n",
    "from sklearn.decomposition import PCA"
   ]
  },
  {
   "cell_type": "code",
   "execution_count": 2,
   "metadata": {
    "collapsed": false
   },
   "outputs": [],
   "source": [
    "df_X = pd.read_pickle(\"./data/df_X_imputed.pkl\")\n",
    "df_X = df_X.drop([\"verification_status_None\", \"term_None\", \"application_type_None\", \"initial_list_status_None\", \"purpose_None\", \"emp_length_None\", \"home_ownership_None\", \"addr_state_None\", \"funded_amnt_inv\", \"num_actv_rev_tl\", \"tot_cur_bal\"], axis=1)\n",
    "df_y = pd.read_pickle(\"./data/df_y.pkl\")"
   ]
  },
  {
   "cell_type": "code",
   "execution_count": 3,
   "metadata": {
    "collapsed": false
   },
   "outputs": [],
   "source": [
    "sclr = StandardScaler()\n",
    "X = sclr.fit_transform(df_X)\n",
    "y = df_y.values"
   ]
  },
  {
   "cell_type": "code",
   "execution_count": 4,
   "metadata": {
    "collapsed": false
   },
   "outputs": [],
   "source": [
    "X_train, X_test, y_train, y_test = train_test_split(X, y, test_size=0.3, random_state=20161201)"
   ]
  },
  {
   "cell_type": "code",
   "execution_count": 5,
   "metadata": {
    "collapsed": false
   },
   "outputs": [
    {
     "name": "stdout",
     "output_type": "stream",
     "text": [
      "5-components: 10.91% variance explained\n",
      "10-components: 18.61% variance explained\n",
      "15-components: 24.24% variance explained\n",
      "20-components: 28.70% variance explained\n",
      "25-components: 32.46% variance explained\n",
      "30-components: 35.90% variance explained\n",
      "35-components: 39.22% variance explained\n",
      "40-components: 42.48% variance explained\n",
      "45-components: 45.69% variance explained\n",
      "50-components: 48.87% variance explained\n",
      "55-components: 52.02% variance explained\n",
      "60-components: 55.16% variance explained\n",
      "65-components: 58.29% variance explained\n",
      "70-components: 61.41% variance explained\n",
      "75-components: 64.51% variance explained\n",
      "80-components: 67.61% variance explained\n",
      "85-components: 70.69% variance explained\n",
      "90-components: 73.77% variance explained\n",
      "95-components: 76.83% variance explained\n",
      "100-components: 79.84% variance explained\n"
     ]
    }
   ],
   "source": [
    "pca = PCA(n_components=100)\n",
    "pca.fit(X)\n",
    "\n",
    "for n in range(5, 105, 5):\n",
    "    print \"%d-components: %.2f%% variance explained\" % (n, sum(pca.explained_variance_ratio_[1:n])*100)"
   ]
  },
  {
   "cell_type": "code",
   "execution_count": 6,
   "metadata": {
    "collapsed": false
   },
   "outputs": [
    {
     "name": "stdout",
     "output_type": "stream",
     "text": [
      "40-components: 48.01% variance explained\n"
     ]
    }
   ],
   "source": [
    "n = 40\n",
    "pca = PCA(n_components=n)\n",
    "X_pc = pca.fit_transform(X)\n",
    "print \"%d-components: %.2f%% variance explained\" % (n, sum(pca.explained_variance_ratio_)*100)\n",
    "X_pc_train, X_pc_test, y_pc_train, y_pc_test = train_test_split(X_pc, y, test_size=0.3, random_state=20161201)"
   ]
  },
  {
   "cell_type": "code",
   "execution_count": 7,
   "metadata": {
    "collapsed": false
   },
   "outputs": [
    {
     "data": {
      "text/plain": [
       "array([1, 1, 1, ..., 1, 1, 1])"
      ]
     },
     "execution_count": 7,
     "metadata": {},
     "output_type": "execute_result"
    }
   ],
   "source": [
    "# Baseline models\n",
    "# All positive (label every applicant as default)\n",
    "class Pos_model(object):\n",
    "    def fit(self, X, y):\n",
    "        return\n",
    "    \n",
    "    def predict(self, x):\n",
    "        return np.array([1] * len(x))\n",
    "    \n",
    "    def score(self, x, y):\n",
    "        y_pred = self.predict(x)\n",
    "        y_err = y - y_pred\n",
    "        return len(y_err[y_err == 0]) * 1. / len(y_err)\n",
    "\n",
    "pos_model = Pos_model()\n",
    "pos_model.fit(X_train, y_train)\n",
    "pos_model.predict(X_test)"
   ]
  },
  {
   "cell_type": "code",
   "execution_count": 8,
   "metadata": {
    "collapsed": false
   },
   "outputs": [
    {
     "data": {
      "text/plain": [
       "array([0, 0, 0, ..., 0, 0, 0])"
      ]
     },
     "execution_count": 8,
     "metadata": {},
     "output_type": "execute_result"
    }
   ],
   "source": [
    "# All negative (label every applicant as not default)\n",
    "class Neg_model(object):\n",
    "    def fit(self, X, y):\n",
    "        return\n",
    "    \n",
    "    def predict(self, x):\n",
    "        return np.array([0] * len(x))\n",
    "    \n",
    "    def score(self, x, y):\n",
    "        y_pred = self.predict(x)\n",
    "        y_err = y - y_pred\n",
    "        return len(y_err[y_err == 0]) * 1. / len(y_err)\n",
    "\n",
    "neg_model = Neg_model()\n",
    "neg_model.fit(X_train, y_train)\n",
    "neg_model.predict(X_test)"
   ]
  },
  {
   "cell_type": "code",
   "execution_count": 9,
   "metadata": {
    "collapsed": false
   },
   "outputs": [
    {
     "data": {
      "text/plain": [
       "array([0, 1, 0, ..., 1, 0, 0])"
      ]
     },
     "execution_count": 9,
     "metadata": {},
     "output_type": "execute_result"
    }
   ],
   "source": [
    "# Random (randomly predict flu or not flu)\n",
    "class Random_model(object):\n",
    "    def fit(self, X, y):\n",
    "        return\n",
    "    \n",
    "    def predict(self, x):\n",
    "        return np.random.randint(0, 2, len(x))\n",
    "    \n",
    "    def score(self, x, y):\n",
    "        y_pred = self.predict(x)\n",
    "        y_err = y - y_pred\n",
    "        return len(y_err[y_err == 0]) * 1. / len(y_err)\n",
    "\n",
    "random_model = Random_model()\n",
    "random_model.fit(X_train, y_train)\n",
    "random_model.predict(X_test)"
   ]
  },
  {
   "cell_type": "code",
   "execution_count": 10,
   "metadata": {
    "collapsed": true
   },
   "outputs": [],
   "source": [
    "def custom_cost(y, y_pred):\n",
    "    cost_fixed_application = 10.0\n",
    "    cost_fixed_servicing = 100.0\n",
    "    cost_default = 15000.0\n",
    "    cost_interest = -1000.0\n",
    "    \n",
    "    # TRUE POSITIVE: Predict default, applicant would default\n",
    "    n_true_positive = sum((y==1) & (y_pred==1))\n",
    "    # We only pay fixed application processing costs as we decline the loan\n",
    "    cost_true_positive = n_true_positive*(cost_fixed_application)\n",
    "    \n",
    "    # TRUE NEGATIVE: Predict pay on time, applicant will pay on time\n",
    "    n_true_negative = sum((y==0) & (y_pred==0))\n",
    "    # We pay fixed application processing costs, costs of servicing the loan, and gain profit on interest payments\n",
    "    cost_true_negative = n_true_negative*(cost_fixed_application + cost_fixed_servicing + cost_interest)\n",
    "    \n",
    "    # FALSE POSITIVE: Predict default, applicant would pay on time\n",
    "    n_false_positive = sum((y==0) & (y_pred==1))\n",
    "    # We only pay fixed application processing costs as we decline the loan\n",
    "    cost_false_positive = n_false_positive*(cost_fixed_application)\n",
    "    \n",
    "    # FALSE NEGATIVE: Predict pay on time, applicant will default\n",
    "    n_false_negative = sum((y==1) & (y_pred==0))\n",
    "    # We pay fixed application processing costs, costs of servicing the loan, and the principal as the loan defaults\n",
    "    cost_false_negative = n_false_negative*(cost_fixed_application + cost_fixed_servicing + cost_default)\n",
    "    \n",
    "    return (cost_true_positive + cost_true_negative + cost_false_positive + cost_false_negative)/len(y)"
   ]
  },
  {
   "cell_type": "code",
   "execution_count": 11,
   "metadata": {
    "collapsed": true
   },
   "outputs": [],
   "source": [
    "def test_model(model, label, scoring_funcs, use_pc=True):\n",
    "    if use_pc:\n",
    "        model.fit(X_pc_train, y_train)\n",
    "        y_pred = model.predict(X_pc_test)\n",
    "    else:\n",
    "        model.fit(X_train, y_train)\n",
    "        y_pred = model.predict(X_test)        \n",
    "        \n",
    "    scores = {\"model\": label}\n",
    "    for scoring_func in scoring_funcs:\n",
    "        scores[scoring_func.__name__] = scoring_func(y_test, y_pred)\n",
    "    \n",
    "    return pd.DataFrame([scores]).set_index(\"model\")\n",
    "\n",
    "def compare_models(models, labels, scoring_funcs, use_pc=True):\n",
    "    return pd.concat([test_model(model, label, scoring_funcs, use_pc) for model, label in zip(models, labels)])"
   ]
  },
  {
   "cell_type": "code",
   "execution_count": 12,
   "metadata": {
    "collapsed": false,
    "scrolled": false
   },
   "outputs": [
    {
     "name": "stderr",
     "output_type": "stream",
     "text": [
      "/home/ubuntu/anaconda3/envs/cs109a_proj/lib/python2.7/site-packages/sklearn/metrics/classification.py:1074: UndefinedMetricWarning: F-score is ill-defined and being set to 0.0 due to no predicted samples.\n",
      "  'precision', 'predicted', average, warn_for)\n",
      "/home/ubuntu/anaconda3/envs/cs109a_proj/lib/python2.7/site-packages/sklearn/metrics/classification.py:1074: UndefinedMetricWarning: Precision is ill-defined and being set to 0.0 due to no predicted samples.\n",
      "  'precision', 'predicted', average, warn_for)\n"
     ]
    },
    {
     "data": {
      "text/html": [
       "<div>\n",
       "<table border=\"1\" class=\"dataframe\">\n",
       "  <thead>\n",
       "    <tr style=\"text-align: right;\">\n",
       "      <th></th>\n",
       "      <th>accuracy_score</th>\n",
       "      <th>average_precision_score</th>\n",
       "      <th>custom_cost</th>\n",
       "      <th>f1_score</th>\n",
       "      <th>log_loss</th>\n",
       "      <th>precision_score</th>\n",
       "      <th>recall_score</th>\n",
       "      <th>roc_auc_score</th>\n",
       "    </tr>\n",
       "    <tr>\n",
       "      <th>model</th>\n",
       "      <th></th>\n",
       "      <th></th>\n",
       "      <th></th>\n",
       "      <th></th>\n",
       "      <th></th>\n",
       "      <th></th>\n",
       "      <th></th>\n",
       "      <th></th>\n",
       "    </tr>\n",
       "  </thead>\n",
       "  <tbody>\n",
       "    <tr>\n",
       "      <th>Positive Model</th>\n",
       "      <td>0.196514</td>\n",
       "      <td>0.598257</td>\n",
       "      <td>10.000000</td>\n",
       "      <td>0.328477</td>\n",
       "      <td>27.752072</td>\n",
       "      <td>0.196514</td>\n",
       "      <td>1.000000</td>\n",
       "      <td>0.500000</td>\n",
       "    </tr>\n",
       "    <tr>\n",
       "      <th>Negative Model</th>\n",
       "      <td>0.803486</td>\n",
       "      <td>0.598257</td>\n",
       "      <td>2254.220934</td>\n",
       "      <td>0.000000</td>\n",
       "      <td>6.787346</td>\n",
       "      <td>0.000000</td>\n",
       "      <td>0.000000</td>\n",
       "      <td>0.500000</td>\n",
       "    </tr>\n",
       "    <tr>\n",
       "      <th>Random Model</th>\n",
       "      <td>0.499974</td>\n",
       "      <td>0.399108</td>\n",
       "      <td>1122.874190</td>\n",
       "      <td>0.283470</td>\n",
       "      <td>17.270593</td>\n",
       "      <td>0.197293</td>\n",
       "      <td>0.503318</td>\n",
       "      <td>0.501237</td>\n",
       "    </tr>\n",
       "  </tbody>\n",
       "</table>\n",
       "</div>"
      ],
      "text/plain": [
       "                accuracy_score  average_precision_score  custom_cost  \\\n",
       "model                                                                  \n",
       "Positive Model        0.196514                 0.598257    10.000000   \n",
       "Negative Model        0.803486                 0.598257  2254.220934   \n",
       "Random Model          0.499974                 0.399108  1122.874190   \n",
       "\n",
       "                f1_score   log_loss  precision_score  recall_score  \\\n",
       "model                                                                \n",
       "Positive Model  0.328477  27.752072         0.196514      1.000000   \n",
       "Negative Model  0.000000   6.787346         0.000000      0.000000   \n",
       "Random Model    0.283470  17.270593         0.197293      0.503318   \n",
       "\n",
       "                roc_auc_score  \n",
       "model                          \n",
       "Positive Model       0.500000  \n",
       "Negative Model       0.500000  \n",
       "Random Model         0.501237  "
      ]
     },
     "execution_count": 12,
     "metadata": {},
     "output_type": "execute_result"
    }
   ],
   "source": [
    "from sklearn.metrics import accuracy_score\n",
    "from sklearn.metrics import average_precision_score\n",
    "from sklearn.metrics import f1_score\n",
    "from sklearn.metrics import log_loss\n",
    "from sklearn.metrics import precision_score\n",
    "from sklearn.metrics import recall_score\n",
    "from sklearn.metrics import roc_auc_score\n",
    "\n",
    "compare_models([pos_model, neg_model, random_model], [\"Positive Model\", \"Negative Model\", \"Random Model\"], [custom_cost, accuracy_score, average_precision_score, f1_score, log_loss, precision_score, recall_score, roc_auc_score])"
   ]
  },
  {
   "cell_type": "markdown",
   "metadata": {},
   "source": [
    "# V. Prediction Models"
   ]
  },
  {
   "cell_type": "code",
   "execution_count": 20,
   "metadata": {
    "collapsed": false
   },
   "outputs": [
    {
     "ename": "KeyboardInterrupt",
     "evalue": "",
     "output_type": "error",
     "traceback": [
      "\u001b[0;31m---------------------------------------------------------------------------\u001b[0m",
      "\u001b[0;31mKeyboardInterrupt\u001b[0m                         Traceback (most recent call last)",
      "\u001b[0;32m<ipython-input-20-8853a51b357a>\u001b[0m in \u001b[0;36m<module>\u001b[0;34m()\u001b[0m\n\u001b[1;32m      3\u001b[0m \u001b[0;34m\u001b[0m\u001b[0m\n\u001b[1;32m      4\u001b[0m \u001b[0mxg\u001b[0m \u001b[0;34m=\u001b[0m \u001b[0mxgb\u001b[0m\u001b[0;34m.\u001b[0m\u001b[0mXGBClassifier\u001b[0m\u001b[0;34m(\u001b[0m\u001b[0mnthread\u001b[0m\u001b[0;34m=\u001b[0m\u001b[0;36m8\u001b[0m\u001b[0;34m)\u001b[0m\u001b[0;34m\u001b[0m\u001b[0m\n\u001b[0;32m----> 5\u001b[0;31m \u001b[0mget_ipython\u001b[0m\u001b[0;34m(\u001b[0m\u001b[0;34m)\u001b[0m\u001b[0;34m.\u001b[0m\u001b[0mmagic\u001b[0m\u001b[0;34m(\u001b[0m\u001b[0;34mu'time xg.fit(X_train, y_train)'\u001b[0m\u001b[0;34m)\u001b[0m\u001b[0;34m\u001b[0m\u001b[0m\n\u001b[0m",
      "\u001b[0;32m/home/ubuntu/anaconda3/envs/cs109a_proj/lib/python2.7/site-packages/IPython/core/interactiveshell.pyc\u001b[0m in \u001b[0;36mmagic\u001b[0;34m(self, arg_s)\u001b[0m\n\u001b[1;32m   2156\u001b[0m         \u001b[0mmagic_name\u001b[0m\u001b[0;34m,\u001b[0m \u001b[0m_\u001b[0m\u001b[0;34m,\u001b[0m \u001b[0mmagic_arg_s\u001b[0m \u001b[0;34m=\u001b[0m \u001b[0marg_s\u001b[0m\u001b[0;34m.\u001b[0m\u001b[0mpartition\u001b[0m\u001b[0;34m(\u001b[0m\u001b[0;34m' '\u001b[0m\u001b[0;34m)\u001b[0m\u001b[0;34m\u001b[0m\u001b[0m\n\u001b[1;32m   2157\u001b[0m         \u001b[0mmagic_name\u001b[0m \u001b[0;34m=\u001b[0m \u001b[0mmagic_name\u001b[0m\u001b[0;34m.\u001b[0m\u001b[0mlstrip\u001b[0m\u001b[0;34m(\u001b[0m\u001b[0mprefilter\u001b[0m\u001b[0;34m.\u001b[0m\u001b[0mESC_MAGIC\u001b[0m\u001b[0;34m)\u001b[0m\u001b[0;34m\u001b[0m\u001b[0m\n\u001b[0;32m-> 2158\u001b[0;31m         \u001b[0;32mreturn\u001b[0m \u001b[0mself\u001b[0m\u001b[0;34m.\u001b[0m\u001b[0mrun_line_magic\u001b[0m\u001b[0;34m(\u001b[0m\u001b[0mmagic_name\u001b[0m\u001b[0;34m,\u001b[0m \u001b[0mmagic_arg_s\u001b[0m\u001b[0;34m)\u001b[0m\u001b[0;34m\u001b[0m\u001b[0m\n\u001b[0m\u001b[1;32m   2159\u001b[0m \u001b[0;34m\u001b[0m\u001b[0m\n\u001b[1;32m   2160\u001b[0m     \u001b[0;31m#-------------------------------------------------------------------------\u001b[0m\u001b[0;34m\u001b[0m\u001b[0;34m\u001b[0m\u001b[0m\n",
      "\u001b[0;32m/home/ubuntu/anaconda3/envs/cs109a_proj/lib/python2.7/site-packages/IPython/core/interactiveshell.pyc\u001b[0m in \u001b[0;36mrun_line_magic\u001b[0;34m(self, magic_name, line)\u001b[0m\n\u001b[1;32m   2077\u001b[0m                 \u001b[0mkwargs\u001b[0m\u001b[0;34m[\u001b[0m\u001b[0;34m'local_ns'\u001b[0m\u001b[0;34m]\u001b[0m \u001b[0;34m=\u001b[0m \u001b[0msys\u001b[0m\u001b[0;34m.\u001b[0m\u001b[0m_getframe\u001b[0m\u001b[0;34m(\u001b[0m\u001b[0mstack_depth\u001b[0m\u001b[0;34m)\u001b[0m\u001b[0;34m.\u001b[0m\u001b[0mf_locals\u001b[0m\u001b[0;34m\u001b[0m\u001b[0m\n\u001b[1;32m   2078\u001b[0m             \u001b[0;32mwith\u001b[0m \u001b[0mself\u001b[0m\u001b[0;34m.\u001b[0m\u001b[0mbuiltin_trap\u001b[0m\u001b[0;34m:\u001b[0m\u001b[0;34m\u001b[0m\u001b[0m\n\u001b[0;32m-> 2079\u001b[0;31m                 \u001b[0mresult\u001b[0m \u001b[0;34m=\u001b[0m \u001b[0mfn\u001b[0m\u001b[0;34m(\u001b[0m\u001b[0;34m*\u001b[0m\u001b[0margs\u001b[0m\u001b[0;34m,\u001b[0m\u001b[0;34m**\u001b[0m\u001b[0mkwargs\u001b[0m\u001b[0;34m)\u001b[0m\u001b[0;34m\u001b[0m\u001b[0m\n\u001b[0m\u001b[1;32m   2080\u001b[0m             \u001b[0;32mreturn\u001b[0m \u001b[0mresult\u001b[0m\u001b[0;34m\u001b[0m\u001b[0m\n\u001b[1;32m   2081\u001b[0m \u001b[0;34m\u001b[0m\u001b[0m\n",
      "\u001b[0;32m<decorator-gen-59>\u001b[0m in \u001b[0;36mtime\u001b[0;34m(self, line, cell, local_ns)\u001b[0m\n",
      "\u001b[0;32m/home/ubuntu/anaconda3/envs/cs109a_proj/lib/python2.7/site-packages/IPython/core/magic.pyc\u001b[0m in \u001b[0;36m<lambda>\u001b[0;34m(f, *a, **k)\u001b[0m\n\u001b[1;32m    186\u001b[0m     \u001b[0;31m# but it's overkill for just that one bit of state.\u001b[0m\u001b[0;34m\u001b[0m\u001b[0;34m\u001b[0m\u001b[0m\n\u001b[1;32m    187\u001b[0m     \u001b[0;32mdef\u001b[0m \u001b[0mmagic_deco\u001b[0m\u001b[0;34m(\u001b[0m\u001b[0marg\u001b[0m\u001b[0;34m)\u001b[0m\u001b[0;34m:\u001b[0m\u001b[0;34m\u001b[0m\u001b[0m\n\u001b[0;32m--> 188\u001b[0;31m         \u001b[0mcall\u001b[0m \u001b[0;34m=\u001b[0m \u001b[0;32mlambda\u001b[0m \u001b[0mf\u001b[0m\u001b[0;34m,\u001b[0m \u001b[0;34m*\u001b[0m\u001b[0ma\u001b[0m\u001b[0;34m,\u001b[0m \u001b[0;34m**\u001b[0m\u001b[0mk\u001b[0m\u001b[0;34m:\u001b[0m \u001b[0mf\u001b[0m\u001b[0;34m(\u001b[0m\u001b[0;34m*\u001b[0m\u001b[0ma\u001b[0m\u001b[0;34m,\u001b[0m \u001b[0;34m**\u001b[0m\u001b[0mk\u001b[0m\u001b[0;34m)\u001b[0m\u001b[0;34m\u001b[0m\u001b[0m\n\u001b[0m\u001b[1;32m    189\u001b[0m \u001b[0;34m\u001b[0m\u001b[0m\n\u001b[1;32m    190\u001b[0m         \u001b[0;32mif\u001b[0m \u001b[0mcallable\u001b[0m\u001b[0;34m(\u001b[0m\u001b[0marg\u001b[0m\u001b[0;34m)\u001b[0m\u001b[0;34m:\u001b[0m\u001b[0;34m\u001b[0m\u001b[0m\n",
      "\u001b[0;32m/home/ubuntu/anaconda3/envs/cs109a_proj/lib/python2.7/site-packages/IPython/core/magics/execution.pyc\u001b[0m in \u001b[0;36mtime\u001b[0;34m(self, line, cell, local_ns)\u001b[0m\n\u001b[1;32m   1174\u001b[0m         \u001b[0;32mif\u001b[0m \u001b[0mmode\u001b[0m\u001b[0;34m==\u001b[0m\u001b[0;34m'eval'\u001b[0m\u001b[0;34m:\u001b[0m\u001b[0;34m\u001b[0m\u001b[0m\n\u001b[1;32m   1175\u001b[0m             \u001b[0mst\u001b[0m \u001b[0;34m=\u001b[0m \u001b[0mclock2\u001b[0m\u001b[0;34m(\u001b[0m\u001b[0;34m)\u001b[0m\u001b[0;34m\u001b[0m\u001b[0m\n\u001b[0;32m-> 1176\u001b[0;31m             \u001b[0mout\u001b[0m \u001b[0;34m=\u001b[0m \u001b[0meval\u001b[0m\u001b[0;34m(\u001b[0m\u001b[0mcode\u001b[0m\u001b[0;34m,\u001b[0m \u001b[0mglob\u001b[0m\u001b[0;34m,\u001b[0m \u001b[0mlocal_ns\u001b[0m\u001b[0;34m)\u001b[0m\u001b[0;34m\u001b[0m\u001b[0m\n\u001b[0m\u001b[1;32m   1177\u001b[0m             \u001b[0mend\u001b[0m \u001b[0;34m=\u001b[0m \u001b[0mclock2\u001b[0m\u001b[0;34m(\u001b[0m\u001b[0;34m)\u001b[0m\u001b[0;34m\u001b[0m\u001b[0m\n\u001b[1;32m   1178\u001b[0m         \u001b[0;32melse\u001b[0m\u001b[0;34m:\u001b[0m\u001b[0;34m\u001b[0m\u001b[0m\n",
      "\u001b[0;32m<timed eval>\u001b[0m in \u001b[0;36m<module>\u001b[0;34m()\u001b[0m\n",
      "\u001b[0;32m/home/ubuntu/anaconda3/envs/cs109a_proj/lib/python2.7/site-packages/xgboost/sklearn.pyc\u001b[0m in \u001b[0;36mfit\u001b[0;34m(self, X, y, sample_weight, eval_set, eval_metric, early_stopping_rounds, verbose)\u001b[0m\n\u001b[1;32m    443\u001b[0m                               \u001b[0mearly_stopping_rounds\u001b[0m\u001b[0;34m=\u001b[0m\u001b[0mearly_stopping_rounds\u001b[0m\u001b[0;34m,\u001b[0m\u001b[0;34m\u001b[0m\u001b[0m\n\u001b[1;32m    444\u001b[0m                               \u001b[0mevals_result\u001b[0m\u001b[0;34m=\u001b[0m\u001b[0mevals_result\u001b[0m\u001b[0;34m,\u001b[0m \u001b[0mobj\u001b[0m\u001b[0;34m=\u001b[0m\u001b[0mobj\u001b[0m\u001b[0;34m,\u001b[0m \u001b[0mfeval\u001b[0m\u001b[0;34m=\u001b[0m\u001b[0mfeval\u001b[0m\u001b[0;34m,\u001b[0m\u001b[0;34m\u001b[0m\u001b[0m\n\u001b[0;32m--> 445\u001b[0;31m                               verbose_eval=verbose)\n\u001b[0m\u001b[1;32m    446\u001b[0m \u001b[0;34m\u001b[0m\u001b[0m\n\u001b[1;32m    447\u001b[0m         \u001b[0mself\u001b[0m\u001b[0;34m.\u001b[0m\u001b[0mobjective\u001b[0m \u001b[0;34m=\u001b[0m \u001b[0mxgb_options\u001b[0m\u001b[0;34m[\u001b[0m\u001b[0;34m\"objective\"\u001b[0m\u001b[0;34m]\u001b[0m\u001b[0;34m\u001b[0m\u001b[0m\n",
      "\u001b[0;32m/home/ubuntu/anaconda3/envs/cs109a_proj/lib/python2.7/site-packages/xgboost/training.pyc\u001b[0m in \u001b[0;36mtrain\u001b[0;34m(params, dtrain, num_boost_round, evals, obj, feval, maximize, early_stopping_rounds, evals_result, verbose_eval, learning_rates, xgb_model, callbacks)\u001b[0m\n\u001b[1;32m    203\u001b[0m                            \u001b[0mevals\u001b[0m\u001b[0;34m=\u001b[0m\u001b[0mevals\u001b[0m\u001b[0;34m,\u001b[0m\u001b[0;34m\u001b[0m\u001b[0m\n\u001b[1;32m    204\u001b[0m                            \u001b[0mobj\u001b[0m\u001b[0;34m=\u001b[0m\u001b[0mobj\u001b[0m\u001b[0;34m,\u001b[0m \u001b[0mfeval\u001b[0m\u001b[0;34m=\u001b[0m\u001b[0mfeval\u001b[0m\u001b[0;34m,\u001b[0m\u001b[0;34m\u001b[0m\u001b[0m\n\u001b[0;32m--> 205\u001b[0;31m                            xgb_model=xgb_model, callbacks=callbacks)\n\u001b[0m\u001b[1;32m    206\u001b[0m \u001b[0;34m\u001b[0m\u001b[0m\n\u001b[1;32m    207\u001b[0m \u001b[0;34m\u001b[0m\u001b[0m\n",
      "\u001b[0;32m/home/ubuntu/anaconda3/envs/cs109a_proj/lib/python2.7/site-packages/xgboost/training.pyc\u001b[0m in \u001b[0;36m_train_internal\u001b[0;34m(params, dtrain, num_boost_round, evals, obj, feval, xgb_model, callbacks)\u001b[0m\n\u001b[1;32m     74\u001b[0m         \u001b[0;31m# Skip the first update if it is a recovery step.\u001b[0m\u001b[0;34m\u001b[0m\u001b[0;34m\u001b[0m\u001b[0m\n\u001b[1;32m     75\u001b[0m         \u001b[0;32mif\u001b[0m \u001b[0mversion\u001b[0m \u001b[0;34m%\u001b[0m \u001b[0;36m2\u001b[0m \u001b[0;34m==\u001b[0m \u001b[0;36m0\u001b[0m\u001b[0;34m:\u001b[0m\u001b[0;34m\u001b[0m\u001b[0m\n\u001b[0;32m---> 76\u001b[0;31m             \u001b[0mbst\u001b[0m\u001b[0;34m.\u001b[0m\u001b[0mupdate\u001b[0m\u001b[0;34m(\u001b[0m\u001b[0mdtrain\u001b[0m\u001b[0;34m,\u001b[0m \u001b[0mi\u001b[0m\u001b[0;34m,\u001b[0m \u001b[0mobj\u001b[0m\u001b[0;34m)\u001b[0m\u001b[0;34m\u001b[0m\u001b[0m\n\u001b[0m\u001b[1;32m     77\u001b[0m             \u001b[0mbst\u001b[0m\u001b[0;34m.\u001b[0m\u001b[0msave_rabit_checkpoint\u001b[0m\u001b[0;34m(\u001b[0m\u001b[0;34m)\u001b[0m\u001b[0;34m\u001b[0m\u001b[0m\n\u001b[1;32m     78\u001b[0m             \u001b[0mversion\u001b[0m \u001b[0;34m+=\u001b[0m \u001b[0;36m1\u001b[0m\u001b[0;34m\u001b[0m\u001b[0m\n",
      "\u001b[0;32m/home/ubuntu/anaconda3/envs/cs109a_proj/lib/python2.7/site-packages/xgboost/core.pyc\u001b[0m in \u001b[0;36mupdate\u001b[0;34m(self, dtrain, iteration, fobj)\u001b[0m\n\u001b[1;32m    804\u001b[0m \u001b[0;34m\u001b[0m\u001b[0m\n\u001b[1;32m    805\u001b[0m         \u001b[0;32mif\u001b[0m \u001b[0mfobj\u001b[0m \u001b[0;32mis\u001b[0m \u001b[0mNone\u001b[0m\u001b[0;34m:\u001b[0m\u001b[0;34m\u001b[0m\u001b[0m\n\u001b[0;32m--> 806\u001b[0;31m             \u001b[0m_check_call\u001b[0m\u001b[0;34m(\u001b[0m\u001b[0m_LIB\u001b[0m\u001b[0;34m.\u001b[0m\u001b[0mXGBoosterUpdateOneIter\u001b[0m\u001b[0;34m(\u001b[0m\u001b[0mself\u001b[0m\u001b[0;34m.\u001b[0m\u001b[0mhandle\u001b[0m\u001b[0;34m,\u001b[0m \u001b[0miteration\u001b[0m\u001b[0;34m,\u001b[0m \u001b[0mdtrain\u001b[0m\u001b[0;34m.\u001b[0m\u001b[0mhandle\u001b[0m\u001b[0;34m)\u001b[0m\u001b[0;34m)\u001b[0m\u001b[0;34m\u001b[0m\u001b[0m\n\u001b[0m\u001b[1;32m    807\u001b[0m         \u001b[0;32melse\u001b[0m\u001b[0;34m:\u001b[0m\u001b[0;34m\u001b[0m\u001b[0m\n\u001b[1;32m    808\u001b[0m             \u001b[0mpred\u001b[0m \u001b[0;34m=\u001b[0m \u001b[0mself\u001b[0m\u001b[0;34m.\u001b[0m\u001b[0mpredict\u001b[0m\u001b[0;34m(\u001b[0m\u001b[0mdtrain\u001b[0m\u001b[0;34m)\u001b[0m\u001b[0;34m\u001b[0m\u001b[0m\n",
      "\u001b[0;31mKeyboardInterrupt\u001b[0m: "
     ]
    }
   ],
   "source": [
    "from sklearn.grid_search import GridSearchCV\n",
    "import xgboost as xgb\n",
    "\n",
    "xg = xgb.XGBClassifier(nthread=8)\n",
    "%time xg.fit(X_train, y_train)"
   ]
  },
  {
   "cell_type": "code",
   "execution_count": 129,
   "metadata": {
    "collapsed": false
   },
   "outputs": [
    {
     "data": {
      "text/html": [
       "<div>\n",
       "<table border=\"1\" class=\"dataframe\">\n",
       "  <thead>\n",
       "    <tr style=\"text-align: right;\">\n",
       "      <th></th>\n",
       "      <th>accuracy_score</th>\n",
       "      <th>average_precision_score</th>\n",
       "      <th>custom_cost</th>\n",
       "      <th>f1_score</th>\n",
       "      <th>log_loss</th>\n",
       "      <th>precision_score</th>\n",
       "      <th>recall_score</th>\n",
       "      <th>roc_auc_score</th>\n",
       "    </tr>\n",
       "    <tr>\n",
       "      <th>model</th>\n",
       "      <th></th>\n",
       "      <th></th>\n",
       "      <th></th>\n",
       "      <th></th>\n",
       "      <th></th>\n",
       "      <th></th>\n",
       "      <th></th>\n",
       "      <th></th>\n",
       "    </tr>\n",
       "  </thead>\n",
       "  <tbody>\n",
       "    <tr>\n",
       "      <th>qda__None__0</th>\n",
       "      <td>0.644016</td>\n",
       "      <td>0.333282</td>\n",
       "      <td>1522.407944</td>\n",
       "      <td>0.257238</td>\n",
       "      <td>12.295416</td>\n",
       "      <td>0.218009</td>\n",
       "      <td>0.313685</td>\n",
       "      <td>0.519246</td>\n",
       "    </tr>\n",
       "    <tr>\n",
       "      <th>qda__None__1En20</th>\n",
       "      <td>0.267687</td>\n",
       "      <td>0.587762</td>\n",
       "      <td>54.393113</td>\n",
       "      <td>0.340298</td>\n",
       "      <td>25.293786</td>\n",
       "      <td>0.206750</td>\n",
       "      <td>0.961136</td>\n",
       "      <td>0.529611</td>\n",
       "    </tr>\n",
       "    <tr>\n",
       "      <th>qda__None__1En19</th>\n",
       "      <td>0.271761</td>\n",
       "      <td>0.587257</td>\n",
       "      <td>56.535970</td>\n",
       "      <td>0.341064</td>\n",
       "      <td>25.153060</td>\n",
       "      <td>0.207412</td>\n",
       "      <td>0.959054</td>\n",
       "      <td>0.531360</td>\n",
       "    </tr>\n",
       "    <tr>\n",
       "      <th>qda__None__1En18</th>\n",
       "      <td>0.276091</td>\n",
       "      <td>0.586522</td>\n",
       "      <td>60.022162</td>\n",
       "      <td>0.341784</td>\n",
       "      <td>25.003502</td>\n",
       "      <td>0.208070</td>\n",
       "      <td>0.956409</td>\n",
       "      <td>0.533055</td>\n",
       "    </tr>\n",
       "    <tr>\n",
       "      <th>qda__None__1En17</th>\n",
       "      <td>0.280498</td>\n",
       "      <td>0.585902</td>\n",
       "      <td>62.834129</td>\n",
       "      <td>0.342586</td>\n",
       "      <td>24.851294</td>\n",
       "      <td>0.208781</td>\n",
       "      <td>0.953980</td>\n",
       "      <td>0.534880</td>\n",
       "    </tr>\n",
       "    <tr>\n",
       "      <th>qda__None__1En16</th>\n",
       "      <td>0.285194</td>\n",
       "      <td>0.585199</td>\n",
       "      <td>66.111490</td>\n",
       "      <td>0.343425</td>\n",
       "      <td>24.689077</td>\n",
       "      <td>0.209535</td>\n",
       "      <td>0.951290</td>\n",
       "      <td>0.536787</td>\n",
       "    </tr>\n",
       "    <tr>\n",
       "      <th>qda__None__1En15</th>\n",
       "      <td>0.290155</td>\n",
       "      <td>0.584895</td>\n",
       "      <td>66.972383</td>\n",
       "      <td>0.344544</td>\n",
       "      <td>24.517733</td>\n",
       "      <td>0.210462</td>\n",
       "      <td>0.949382</td>\n",
       "      <td>0.539153</td>\n",
       "    </tr>\n",
       "    <tr>\n",
       "      <th>qda__None__1En14</th>\n",
       "      <td>0.295414</td>\n",
       "      <td>0.584331</td>\n",
       "      <td>69.380327</td>\n",
       "      <td>0.345614</td>\n",
       "      <td>24.336085</td>\n",
       "      <td>0.211388</td>\n",
       "      <td>0.946823</td>\n",
       "      <td>0.541459</td>\n",
       "    </tr>\n",
       "    <tr>\n",
       "      <th>qda__None__1En13</th>\n",
       "      <td>0.301705</td>\n",
       "      <td>0.583675</td>\n",
       "      <td>72.191442</td>\n",
       "      <td>0.346917</td>\n",
       "      <td>24.118813</td>\n",
       "      <td>0.212517</td>\n",
       "      <td>0.943787</td>\n",
       "      <td>0.544227</td>\n",
       "    </tr>\n",
       "    <tr>\n",
       "      <th>qda__None__1En12</th>\n",
       "      <td>0.308677</td>\n",
       "      <td>0.583033</td>\n",
       "      <td>74.872997</td>\n",
       "      <td>0.348421</td>\n",
       "      <td>23.877990</td>\n",
       "      <td>0.213812</td>\n",
       "      <td>0.940577</td>\n",
       "      <td>0.547353</td>\n",
       "    </tr>\n",
       "    <tr>\n",
       "      <th>qda__None__1En11</th>\n",
       "      <td>0.316920</td>\n",
       "      <td>0.581975</td>\n",
       "      <td>79.921582</td>\n",
       "      <td>0.350064</td>\n",
       "      <td>23.593300</td>\n",
       "      <td>0.215286</td>\n",
       "      <td>0.936109</td>\n",
       "      <td>0.550795</td>\n",
       "    </tr>\n",
       "    <tr>\n",
       "      <th>qda__None__1En10</th>\n",
       "      <td>0.326372</td>\n",
       "      <td>0.580847</td>\n",
       "      <td>85.333277</td>\n",
       "      <td>0.352022</td>\n",
       "      <td>23.266804</td>\n",
       "      <td>0.217038</td>\n",
       "      <td>0.931121</td>\n",
       "      <td>0.554793</td>\n",
       "    </tr>\n",
       "    <tr>\n",
       "      <th>qda__None__1En9</th>\n",
       "      <td>0.338314</td>\n",
       "      <td>0.579930</td>\n",
       "      <td>89.352199</td>\n",
       "      <td>0.354807</td>\n",
       "      <td>22.854342</td>\n",
       "      <td>0.219454</td>\n",
       "      <td>0.925830</td>\n",
       "      <td>0.560226</td>\n",
       "    </tr>\n",
       "    <tr>\n",
       "      <th>qda__None__1En8</th>\n",
       "      <td>0.351884</td>\n",
       "      <td>0.578401</td>\n",
       "      <td>97.110467</td>\n",
       "      <td>0.357779</td>\n",
       "      <td>22.385648</td>\n",
       "      <td>0.222148</td>\n",
       "      <td>0.918673</td>\n",
       "      <td>0.565967</td>\n",
       "    </tr>\n",
       "    <tr>\n",
       "      <th>qda__None__1En7</th>\n",
       "      <td>0.367559</td>\n",
       "      <td>0.575881</td>\n",
       "      <td>110.962325</td>\n",
       "      <td>0.360891</td>\n",
       "      <td>21.844236</td>\n",
       "      <td>0.225159</td>\n",
       "      <td>0.908653</td>\n",
       "      <td>0.571937</td>\n",
       "    </tr>\n",
       "    <tr>\n",
       "      <th>qda__None__1En6</th>\n",
       "      <td>0.386064</td>\n",
       "      <td>0.572714</td>\n",
       "      <td>129.045346</td>\n",
       "      <td>0.364567</td>\n",
       "      <td>21.205081</td>\n",
       "      <td>0.228825</td>\n",
       "      <td>0.896205</td>\n",
       "      <td>0.578750</td>\n",
       "    </tr>\n",
       "    <tr>\n",
       "      <th>qda__None__1En5</th>\n",
       "      <td>0.406700</td>\n",
       "      <td>0.568232</td>\n",
       "      <td>155.619673</td>\n",
       "      <td>0.368275</td>\n",
       "      <td>20.492325</td>\n",
       "      <td>0.232862</td>\n",
       "      <td>0.880026</td>\n",
       "      <td>0.585481</td>\n",
       "    </tr>\n",
       "    <tr>\n",
       "      <th>qda__None__1En4</th>\n",
       "      <td>0.430038</td>\n",
       "      <td>0.562440</td>\n",
       "      <td>191.018582</td>\n",
       "      <td>0.372214</td>\n",
       "      <td>19.686241</td>\n",
       "      <td>0.237518</td>\n",
       "      <td>0.859813</td>\n",
       "      <td>0.592369</td>\n",
       "    </tr>\n",
       "    <tr>\n",
       "      <th>qda__None__1En3</th>\n",
       "      <td>0.459760</td>\n",
       "      <td>0.556441</td>\n",
       "      <td>229.870440</td>\n",
       "      <td>0.378270</td>\n",
       "      <td>18.659648</td>\n",
       "      <td>0.244410</td>\n",
       "      <td>0.836304</td>\n",
       "      <td>0.601985</td>\n",
       "    </tr>\n",
       "    <tr>\n",
       "      <th>qda__None__1En2</th>\n",
       "      <td>0.501219</td>\n",
       "      <td>0.550505</td>\n",
       "      <td>274.135697</td>\n",
       "      <td>0.388735</td>\n",
       "      <td>17.227658</td>\n",
       "      <td>0.256027</td>\n",
       "      <td>0.807070</td>\n",
       "      <td>0.616742</td>\n",
       "    </tr>\n",
       "    <tr>\n",
       "      <th>qda__None__1En1</th>\n",
       "      <td>0.582109</td>\n",
       "      <td>0.530048</td>\n",
       "      <td>431.304125</td>\n",
       "      <td>0.405308</td>\n",
       "      <td>14.433743</td>\n",
       "      <td>0.281329</td>\n",
       "      <td>0.724658</td>\n",
       "      <td>0.635951</td>\n",
       "    </tr>\n",
       "    <tr>\n",
       "      <th>qda__None__1E0</th>\n",
       "      <td>0.773730</td>\n",
       "      <td>0.454213</td>\n",
       "      <td>1249.770713</td>\n",
       "      <td>0.390951</td>\n",
       "      <td>7.815172</td>\n",
       "      <td>0.414982</td>\n",
       "      <td>0.369551</td>\n",
       "      <td>0.621067</td>\n",
       "    </tr>\n",
       "  </tbody>\n",
       "</table>\n",
       "</div>"
      ],
      "text/plain": [
       "                  accuracy_score  average_precision_score  custom_cost  \\\n",
       "model                                                                    \n",
       "qda__None__0            0.644016                 0.333282  1522.407944   \n",
       "qda__None__1En20        0.267687                 0.587762    54.393113   \n",
       "qda__None__1En19        0.271761                 0.587257    56.535970   \n",
       "qda__None__1En18        0.276091                 0.586522    60.022162   \n",
       "qda__None__1En17        0.280498                 0.585902    62.834129   \n",
       "qda__None__1En16        0.285194                 0.585199    66.111490   \n",
       "qda__None__1En15        0.290155                 0.584895    66.972383   \n",
       "qda__None__1En14        0.295414                 0.584331    69.380327   \n",
       "qda__None__1En13        0.301705                 0.583675    72.191442   \n",
       "qda__None__1En12        0.308677                 0.583033    74.872997   \n",
       "qda__None__1En11        0.316920                 0.581975    79.921582   \n",
       "qda__None__1En10        0.326372                 0.580847    85.333277   \n",
       "qda__None__1En9         0.338314                 0.579930    89.352199   \n",
       "qda__None__1En8         0.351884                 0.578401    97.110467   \n",
       "qda__None__1En7         0.367559                 0.575881   110.962325   \n",
       "qda__None__1En6         0.386064                 0.572714   129.045346   \n",
       "qda__None__1En5         0.406700                 0.568232   155.619673   \n",
       "qda__None__1En4         0.430038                 0.562440   191.018582   \n",
       "qda__None__1En3         0.459760                 0.556441   229.870440   \n",
       "qda__None__1En2         0.501219                 0.550505   274.135697   \n",
       "qda__None__1En1         0.582109                 0.530048   431.304125   \n",
       "qda__None__1E0          0.773730                 0.454213  1249.770713   \n",
       "\n",
       "                  f1_score   log_loss  precision_score  recall_score  \\\n",
       "model                                                                  \n",
       "qda__None__0      0.257238  12.295416         0.218009      0.313685   \n",
       "qda__None__1En20  0.340298  25.293786         0.206750      0.961136   \n",
       "qda__None__1En19  0.341064  25.153060         0.207412      0.959054   \n",
       "qda__None__1En18  0.341784  25.003502         0.208070      0.956409   \n",
       "qda__None__1En17  0.342586  24.851294         0.208781      0.953980   \n",
       "qda__None__1En16  0.343425  24.689077         0.209535      0.951290   \n",
       "qda__None__1En15  0.344544  24.517733         0.210462      0.949382   \n",
       "qda__None__1En14  0.345614  24.336085         0.211388      0.946823   \n",
       "qda__None__1En13  0.346917  24.118813         0.212517      0.943787   \n",
       "qda__None__1En12  0.348421  23.877990         0.213812      0.940577   \n",
       "qda__None__1En11  0.350064  23.593300         0.215286      0.936109   \n",
       "qda__None__1En10  0.352022  23.266804         0.217038      0.931121   \n",
       "qda__None__1En9   0.354807  22.854342         0.219454      0.925830   \n",
       "qda__None__1En8   0.357779  22.385648         0.222148      0.918673   \n",
       "qda__None__1En7   0.360891  21.844236         0.225159      0.908653   \n",
       "qda__None__1En6   0.364567  21.205081         0.228825      0.896205   \n",
       "qda__None__1En5   0.368275  20.492325         0.232862      0.880026   \n",
       "qda__None__1En4   0.372214  19.686241         0.237518      0.859813   \n",
       "qda__None__1En3   0.378270  18.659648         0.244410      0.836304   \n",
       "qda__None__1En2   0.388735  17.227658         0.256027      0.807070   \n",
       "qda__None__1En1   0.405308  14.433743         0.281329      0.724658   \n",
       "qda__None__1E0    0.390951   7.815172         0.414982      0.369551   \n",
       "\n",
       "                  roc_auc_score  \n",
       "model                            \n",
       "qda__None__0           0.519246  \n",
       "qda__None__1En20       0.529611  \n",
       "qda__None__1En19       0.531360  \n",
       "qda__None__1En18       0.533055  \n",
       "qda__None__1En17       0.534880  \n",
       "qda__None__1En16       0.536787  \n",
       "qda__None__1En15       0.539153  \n",
       "qda__None__1En14       0.541459  \n",
       "qda__None__1En13       0.544227  \n",
       "qda__None__1En12       0.547353  \n",
       "qda__None__1En11       0.550795  \n",
       "qda__None__1En10       0.554793  \n",
       "qda__None__1En9        0.560226  \n",
       "qda__None__1En8        0.565967  \n",
       "qda__None__1En7        0.571937  \n",
       "qda__None__1En6        0.578750  \n",
       "qda__None__1En5        0.585481  \n",
       "qda__None__1En4        0.592369  \n",
       "qda__None__1En3        0.601985  \n",
       "qda__None__1En2        0.616742  \n",
       "qda__None__1En1        0.635951  \n",
       "qda__None__1E0         0.621067  "
      ]
     },
     "execution_count": 129,
     "metadata": {},
     "output_type": "execute_result"
    }
   ],
   "source": [
    "from sklearn.discriminant_analysis import QuadraticDiscriminantAnalysis\n",
    "qda__None__0 = QuadraticDiscriminantAnalysis(priors=None, reg_param=0)\n",
    "qda__None__1En20 = QuadraticDiscriminantAnalysis(priors=None, reg_param=10**(-20))\n",
    "qda__None__1En19 = QuadraticDiscriminantAnalysis(priors=None, reg_param=10**(-19))\n",
    "qda__None__1En18 = QuadraticDiscriminantAnalysis(priors=None, reg_param=10**(-18))\n",
    "qda__None__1En17 = QuadraticDiscriminantAnalysis(priors=None, reg_param=10**(-17))\n",
    "qda__None__1En16 = QuadraticDiscriminantAnalysis(priors=None, reg_param=10**(-16))\n",
    "qda__None__1En15 = QuadraticDiscriminantAnalysis(priors=None, reg_param=10**(-15))\n",
    "qda__None__1En14 = QuadraticDiscriminantAnalysis(priors=None, reg_param=10**(-14))\n",
    "qda__None__1En13 = QuadraticDiscriminantAnalysis(priors=None, reg_param=10**(-13))\n",
    "qda__None__1En12 = QuadraticDiscriminantAnalysis(priors=None, reg_param=10**(-12))\n",
    "qda__None__1En11 = QuadraticDiscriminantAnalysis(priors=None, reg_param=10**(-11))\n",
    "qda__None__1En10 = QuadraticDiscriminantAnalysis(priors=None, reg_param=10**(-10))\n",
    "qda__None__1En9 = QuadraticDiscriminantAnalysis(priors=None, reg_param=10**(-9))\n",
    "qda__None__1En8 = QuadraticDiscriminantAnalysis(priors=None, reg_param=10**(-8))\n",
    "qda__None__1En7 = QuadraticDiscriminantAnalysis(priors=None, reg_param=10**(-7))\n",
    "qda__None__1En6 = QuadraticDiscriminantAnalysis(priors=None, reg_param=10**(-6))\n",
    "qda__None__1En5 = QuadraticDiscriminantAnalysis(priors=None, reg_param=10**(-5))\n",
    "qda__None__1En4 = QuadraticDiscriminantAnalysis(priors=None, reg_param=10**(-4))\n",
    "qda__None__1En3 = QuadraticDiscriminantAnalysis(priors=None, reg_param=10**(-3))\n",
    "qda__None__1En2 = QuadraticDiscriminantAnalysis(priors=None, reg_param=10**(-2))\n",
    "qda__None__1En1 = QuadraticDiscriminantAnalysis(priors=None, reg_param=10**(-1))\n",
    "qda__None__1E0 = QuadraticDiscriminantAnalysis(priors=None, reg_param=10**(0))\n",
    "\n",
    "qda_search_reg = compare_models([qda__None__0,\n",
    "                                 qda__None__1En20,\n",
    "                                 qda__None__1En19,\n",
    "                                 qda__None__1En18,\n",
    "                                 qda__None__1En17,\n",
    "                                 qda__None__1En16,\n",
    "                                 qda__None__1En15,\n",
    "                                 qda__None__1En14,\n",
    "                                 qda__None__1En13,\n",
    "                                 qda__None__1En12,\n",
    "                                 qda__None__1En11,\n",
    "                                 qda__None__1En10,\n",
    "                                 qda__None__1En9,\n",
    "                                 qda__None__1En8,\n",
    "                                 qda__None__1En7,\n",
    "                                 qda__None__1En6,\n",
    "                                 qda__None__1En5,\n",
    "                                 qda__None__1En4,\n",
    "                                 qda__None__1En3,\n",
    "                                 qda__None__1En2,\n",
    "                                 qda__None__1En1,\n",
    "                                 qda__None__1E0],\n",
    "                                [\"qda__None__0\",\n",
    "                                 \"qda__None__1En20\",\n",
    "                                 \"qda__None__1En19\",\n",
    "                                 \"qda__None__1En18\",\n",
    "                                 \"qda__None__1En17\",\n",
    "                                 \"qda__None__1En16\",\n",
    "                                 \"qda__None__1En15\",\n",
    "                                 \"qda__None__1En14\",\n",
    "                                 \"qda__None__1En13\",\n",
    "                                 \"qda__None__1En12\",\n",
    "                                 \"qda__None__1En11\",\n",
    "                                 \"qda__None__1En10\",\n",
    "                                 \"qda__None__1En9\",\n",
    "                                 \"qda__None__1En8\",\n",
    "                                 \"qda__None__1En7\",\n",
    "                                 \"qda__None__1En6\",\n",
    "                                 \"qda__None__1En5\",\n",
    "                                 \"qda__None__1En4\",\n",
    "                                 \"qda__None__1En3\",\n",
    "                                 \"qda__None__1En2\",\n",
    "                                 \"qda__None__1En1\",\n",
    "                                 \"qda__None__1E0\"],\n",
    "                                [custom_cost,\n",
    "                                 accuracy_score,\n",
    "                                 average_precision_score,\n",
    "                                 f1_score,\n",
    "                                 log_loss,\n",
    "                                 precision_score,\n",
    "                                 recall_score,\n",
    "                                 roc_auc_score])\n",
    "\n",
    "qda_search_reg"
   ]
  },
  {
   "cell_type": "code",
   "execution_count": 137,
   "metadata": {
    "collapsed": false
   },
   "outputs": [
    {
     "data": {
      "text/plain": [
       "<matplotlib.text.Text at 0x7fd89ffe1510>"
      ]
     },
     "execution_count": 137,
     "metadata": {},
     "output_type": "execute_result"
    },
    {
     "data": {
      "image/png": "[encoded data removed]",
      "text/plain": [
       "<matplotlib.figure.Figure at 0x7fd84be91390>"
      ]
     },
     "metadata": {},
     "output_type": "display_data"
    }
   ],
   "source": [
    "%matplotlib inline\n",
    "import matplotlib.pyplot as plt\n",
    "qda_search_reg.ix[1:].drop([\"custom_cost\", \"log_loss\"], axis=1).plot()\n",
    "plt.legend(loc='right', prop={'size':8}, bbox_to_anchor=(1.5,0.5))\n",
    "locs, labels = plt.xticks()\n",
    "plt.setp(labels, rotation=90)\n",
    "plt.title(\"QDA Regularization: scoring metrics (higher is better)\")"
   ]
  },
  {
   "cell_type": "code",
   "execution_count": 136,
   "metadata": {
    "collapsed": false
   },
   "outputs": [
    {
     "data": {
      "text/plain": [
       "<matplotlib.text.Text at 0x7fd89fd92fd0>"
      ]
     },
     "execution_count": 136,
     "metadata": {},
     "output_type": "execute_result"
    },
    {
     "data": {
      "image/png": "[encoded data removed]",
      "text/plain": [
       "<matplotlib.figure.Figure at 0x7fd8a02960d0>"
      ]
     },
     "metadata": {},
     "output_type": "display_data"
    }
   ],
   "source": [
    "plt.figure()\n",
    "qda_search_reg.ix[1:].custom_cost.plot()\n",
    "locs, labels = plt.xticks()\n",
    "plt.setp(labels, rotation=90)\n",
    "plt.title(\"QDA Regularization: custom cost scoring metric (lower is better)\")"
   ]
  }
 ],
 "metadata": {
  "anaconda-cloud": {},
  "kernelspec": {
   "display_name": "Python [conda env:cs109a_proj]",
   "language": "python",
   "name": "conda-env-cs109a_proj-py"
  },
  "language_info": {
   "codemirror_mode": {
    "name": "ipython",
    "version": 2
   },
   "file_extension": ".py",
   "mimetype": "text/x-python",
   "name": "python",
   "nbconvert_exporter": "python",
   "pygments_lexer": "ipython2",
   "version": "2.7.12"
  }
 },
 "nbformat": 4,
 "nbformat_minor": 1
}
