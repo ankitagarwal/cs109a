{
 "cells": [
  {
   "cell_type": "code",
   "execution_count": 82,
   "metadata": {
    "collapsed": false
   },
   "outputs": [],
   "source": [
    "import pandas as pd\n",
    "import numpy as np\n",
    "import matplotlib as mpl\n",
    "import matplotlib.pyplot as plt\n",
    "from mpl_toolkits.basemap import Basemap\n",
    "from matplotlib.patches import Polygon\n",
    "%matplotlib inline"
   ]
  },
  {
   "cell_type": "code",
   "execution_count": 18,
   "metadata": {
    "collapsed": true
   },
   "outputs": [],
   "source": [
    "path = \"/home/ankit/anaconda2/pkgs/basemap-1.0.7-np111py27_0/lib/python2.7/site-packages/mpl_toolkits/basemap/data/\""
   ]
  },
  {
   "cell_type": "markdown",
   "metadata": {},
   "source": [
    "Some of the data files have fields that contain NAs for older time periods. In order to collapse the data sets into one file, all numerical data will be stored in float fields (integer fields do not support NA missing values). To do this, we first define a conversion dictionary that stores the numeric fields with lookups to the *float* data type."
   ]
  },
  {
   "cell_type": "code",
   "execution_count": 19,
   "metadata": {
    "collapsed": false
   },
   "outputs": [],
   "source": [
    "convert_float = dict([s, float] for s in\n",
    "                     ['loan_amnt', 'funded_amnt', 'funded_amnt_inv', 'installment',\n",
    "                      'annual_inc', 'dti', 'delinq_2yrs', 'inq_last_6mths', 'mths_since_last_delinq',                      \n",
    "                      'mths_since_last_record', 'open_acc', 'pub_rec', 'revol_bal', 'total_acc',\n",
    "                      'out_prncp', 'out_prncp_inv', 'total_pymnt', 'total_pymnt_inv', 'total_rec_prncp',\n",
    "                      'total_rec_int', 'total_rec_late_fee', 'recoveries', 'collection_recovery_fee',\n",
    "                      'last_pymnt_amnt', 'collections_12_mths_ex_med', 'mths_since_last_major_derog',\n",
    "                      'annual_inc_joint', 'dti_joint', 'acc_now_delinq', 'tot_coll_amt', 'tot_cur_bal', \n",
    "                      'open_acc_6m', 'open_il_6m', 'open_il_12m', 'open_il_24m', 'mths_since_rcnt_il', \n",
    "                      'total_bal_il', 'il_util', 'open_rv_12m', 'open_rv_24m', 'max_bal_bc', \n",
    "                      'all_util', 'total_rev_hi_lim', 'inq_fi', 'total_cu_tl', 'inq_last_12m', \n",
    "                      'acc_open_past_24mths', 'avg_cur_bal', 'bc_open_to_buy', 'bc_util',\n",
    "                      'chargeoff_within_12_mths', 'delinq_amnt', 'mo_sin_old_il_acct',\n",
    "                      'mo_sin_old_rev_tl_op', 'mo_sin_rcnt_rev_tl_op', 'mo_sin_rcnt_tl', 'mort_acc',\n",
    "                      'mths_since_recent_bc', 'mths_since_recent_bc_dlq', 'mths_since_recent_inq',\n",
    "                      'mths_since_recent_revol_delinq', 'num_accts_ever_120_pd', 'num_actv_bc_tl', \n",
    "                      'num_actv_rev_tl', 'num_bc_sats', 'num_bc_tl', 'num_il_tl', 'num_op_rev_tl',\n",
    "                      'num_rev_accts', 'num_rev_tl_bal_gt_0', 'num_sats', 'num_tl_120dpd_2m',\n",
    "                      'num_tl_30dpd', 'num_tl_90g_dpd_24m', 'num_tl_op_past_12m', 'pct_tl_nvr_dlq',\n",
    "                      'percent_bc_gt_75', 'pub_rec_bankruptcies', 'tax_liens', 'tot_hi_cred_lim',\n",
    "                      'total_bal_ex_mort', 'total_bc_limit', 'total_il_high_credit_limit'])"
   ]
  },
  {
   "cell_type": "markdown",
   "metadata": {},
   "source": [
    "We also define a dictionary of string fields, to handle situations where the inferred data type might be numeric even though the field should be read in as a string/object."
   ]
  },
  {
   "cell_type": "code",
   "execution_count": 20,
   "metadata": {
    "collapsed": true
   },
   "outputs": [],
   "source": [
    "convert_str = dict([s, str] for s in\n",
    "                    ['term', 'int_rate', 'grade', 'sub_grade', 'emp_title', 'emp_length', 'home_ownership', \n",
    "                     'verification_status', 'issue_d', 'loan_status', 'pymnt_plan', 'url', 'desc', \n",
    "                     'purpose', 'title', 'zip_code', 'addr_state', 'earliest_cr_line', 'revol_util', \n",
    "                     'initial_list_status', 'last_pymnt_d', 'next_pymnt_d', 'last_credit_pull_d',\n",
    "                     'policy_code', 'application_type', 'verification_status_joint'])"
   ]
  },
  {
   "cell_type": "markdown",
   "metadata": {},
   "source": [
    "We read the input data from the CSV data files using pandas *read_csv*. There is a blank row in the data header and there are two blank rows in the footer of each file. To allow the use of *skip_footer*, we use the python engine rather than the C engine. The first two columns (*id* and *member_id*) are unique and used to create a table index."
   ]
  },
  {
   "cell_type": "code",
   "execution_count": 21,
   "metadata": {
    "collapsed": false
   },
   "outputs": [],
   "source": [
    "data = pd.read_csv(\"./data/LoanStats3d.csv\",\n",
    "                   skiprows=1,\n",
    "                   skip_footer=2,\n",
    "                   engine=\"python\",\n",
    "                   na_values=['NaN', 'nan'],\n",
    "                   converters=convert_str,\n",
    "                   index_col=[0,1])"
   ]
  },
  {
   "cell_type": "code",
   "execution_count": 22,
   "metadata": {
    "collapsed": false
   },
   "outputs": [
    {
     "name": "stdout",
     "output_type": "stream",
     "text": [
      "Data table dimensions: 421095 x 109\n"
     ]
    }
   ],
   "source": [
    "print \"Data table dimensions: %d x %d\" % data.shape"
   ]
  },
  {
   "cell_type": "code",
   "execution_count": 23,
   "metadata": {
    "collapsed": false
   },
   "outputs": [
    {
     "data": {
      "text/html": [
       "<div>\n",
       "<table border=\"1\" class=\"dataframe\">\n",
       "  <thead>\n",
       "    <tr style=\"text-align: right;\">\n",
       "      <th></th>\n",
       "      <th></th>\n",
       "      <th>loan_amnt</th>\n",
       "      <th>funded_amnt</th>\n",
       "      <th>funded_amnt_inv</th>\n",
       "      <th>term</th>\n",
       "      <th>int_rate</th>\n",
       "      <th>installment</th>\n",
       "      <th>grade</th>\n",
       "      <th>sub_grade</th>\n",
       "      <th>emp_title</th>\n",
       "      <th>emp_length</th>\n",
       "      <th>...</th>\n",
       "      <th>num_tl_90g_dpd_24m</th>\n",
       "      <th>num_tl_op_past_12m</th>\n",
       "      <th>pct_tl_nvr_dlq</th>\n",
       "      <th>percent_bc_gt_75</th>\n",
       "      <th>pub_rec_bankruptcies</th>\n",
       "      <th>tax_liens</th>\n",
       "      <th>tot_hi_cred_lim</th>\n",
       "      <th>total_bal_ex_mort</th>\n",
       "      <th>total_bc_limit</th>\n",
       "      <th>total_il_high_credit_limit</th>\n",
       "    </tr>\n",
       "    <tr>\n",
       "      <th>id</th>\n",
       "      <th>member_id</th>\n",
       "      <th></th>\n",
       "      <th></th>\n",
       "      <th></th>\n",
       "      <th></th>\n",
       "      <th></th>\n",
       "      <th></th>\n",
       "      <th></th>\n",
       "      <th></th>\n",
       "      <th></th>\n",
       "      <th></th>\n",
       "      <th></th>\n",
       "      <th></th>\n",
       "      <th></th>\n",
       "      <th></th>\n",
       "      <th></th>\n",
       "      <th></th>\n",
       "      <th></th>\n",
       "      <th></th>\n",
       "      <th></th>\n",
       "      <th></th>\n",
       "      <th></th>\n",
       "    </tr>\n",
       "  </thead>\n",
       "  <tbody>\n",
       "    <tr>\n",
       "      <th>68516507</th>\n",
       "      <th>73406314</th>\n",
       "      <td>14000</td>\n",
       "      <td>14000</td>\n",
       "      <td>14000</td>\n",
       "      <td>36 months</td>\n",
       "      <td>9.80%</td>\n",
       "      <td>450.43</td>\n",
       "      <td>B</td>\n",
       "      <td>B3</td>\n",
       "      <td>Master mechanic</td>\n",
       "      <td>4 years</td>\n",
       "      <td>...</td>\n",
       "      <td>0</td>\n",
       "      <td>2</td>\n",
       "      <td>100.0</td>\n",
       "      <td>0.0</td>\n",
       "      <td>0</td>\n",
       "      <td>0</td>\n",
       "      <td>531602</td>\n",
       "      <td>84039</td>\n",
       "      <td>34500</td>\n",
       "      <td>55842</td>\n",
       "    </tr>\n",
       "    <tr>\n",
       "      <th>68587652</th>\n",
       "      <th>73477494</th>\n",
       "      <td>25000</td>\n",
       "      <td>25000</td>\n",
       "      <td>25000</td>\n",
       "      <td>36 months</td>\n",
       "      <td>5.32%</td>\n",
       "      <td>752.87</td>\n",
       "      <td>A</td>\n",
       "      <td>A1</td>\n",
       "      <td>Director</td>\n",
       "      <td>1 year</td>\n",
       "      <td>...</td>\n",
       "      <td>0</td>\n",
       "      <td>1</td>\n",
       "      <td>100.0</td>\n",
       "      <td>0.0</td>\n",
       "      <td>0</td>\n",
       "      <td>0</td>\n",
       "      <td>512381</td>\n",
       "      <td>44786</td>\n",
       "      <td>44000</td>\n",
       "      <td>51081</td>\n",
       "    </tr>\n",
       "    <tr>\n",
       "      <th>68009401</th>\n",
       "      <th>72868139</th>\n",
       "      <td>16000</td>\n",
       "      <td>16000</td>\n",
       "      <td>16000</td>\n",
       "      <td>60 months</td>\n",
       "      <td>14.85%</td>\n",
       "      <td>379.39</td>\n",
       "      <td>C</td>\n",
       "      <td>C5</td>\n",
       "      <td>Bookkeeper/Accounting</td>\n",
       "      <td>10+ years</td>\n",
       "      <td>...</td>\n",
       "      <td>0</td>\n",
       "      <td>2</td>\n",
       "      <td>78.9</td>\n",
       "      <td>0.0</td>\n",
       "      <td>0</td>\n",
       "      <td>2</td>\n",
       "      <td>298100</td>\n",
       "      <td>31329</td>\n",
       "      <td>281300</td>\n",
       "      <td>13400</td>\n",
       "    </tr>\n",
       "    <tr>\n",
       "      <th>68416935</th>\n",
       "      <th>73306760</th>\n",
       "      <td>15000</td>\n",
       "      <td>15000</td>\n",
       "      <td>15000</td>\n",
       "      <td>36 months</td>\n",
       "      <td>9.80%</td>\n",
       "      <td>482.61</td>\n",
       "      <td>B</td>\n",
       "      <td>B3</td>\n",
       "      <td>Electronic Branch Manager</td>\n",
       "      <td>3 years</td>\n",
       "      <td>...</td>\n",
       "      <td>0</td>\n",
       "      <td>4</td>\n",
       "      <td>100.0</td>\n",
       "      <td>0.0</td>\n",
       "      <td>1</td>\n",
       "      <td>0</td>\n",
       "      <td>347470</td>\n",
       "      <td>53397</td>\n",
       "      <td>36100</td>\n",
       "      <td>47370</td>\n",
       "    </tr>\n",
       "    <tr>\n",
       "      <th>68357012</th>\n",
       "      <th>73246847</th>\n",
       "      <td>15000</td>\n",
       "      <td>15000</td>\n",
       "      <td>15000</td>\n",
       "      <td>36 months</td>\n",
       "      <td>8.49%</td>\n",
       "      <td>473.45</td>\n",
       "      <td>B</td>\n",
       "      <td>B1</td>\n",
       "      <td>Senior Associate</td>\n",
       "      <td>6 years</td>\n",
       "      <td>...</td>\n",
       "      <td>0</td>\n",
       "      <td>4</td>\n",
       "      <td>100.0</td>\n",
       "      <td>20.0</td>\n",
       "      <td>1</td>\n",
       "      <td>0</td>\n",
       "      <td>369112</td>\n",
       "      <td>27849</td>\n",
       "      <td>28200</td>\n",
       "      <td>21124</td>\n",
       "    </tr>\n",
       "  </tbody>\n",
       "</table>\n",
       "<p>5 rows × 109 columns</p>\n",
       "</div>"
      ],
      "text/plain": [
       "                    loan_amnt  funded_amnt  funded_amnt_inv        term  \\\n",
       "id       member_id                                                        \n",
       "68516507 73406314       14000        14000            14000   36 months   \n",
       "68587652 73477494       25000        25000            25000   36 months   \n",
       "68009401 72868139       16000        16000            16000   60 months   \n",
       "68416935 73306760       15000        15000            15000   36 months   \n",
       "68357012 73246847       15000        15000            15000   36 months   \n",
       "\n",
       "                   int_rate  installment grade sub_grade  \\\n",
       "id       member_id                                         \n",
       "68516507 73406314     9.80%       450.43     B        B3   \n",
       "68587652 73477494     5.32%       752.87     A        A1   \n",
       "68009401 72868139    14.85%       379.39     C        C5   \n",
       "68416935 73306760     9.80%       482.61     B        B3   \n",
       "68357012 73246847     8.49%       473.45     B        B1   \n",
       "\n",
       "                                    emp_title emp_length  \\\n",
       "id       member_id                                         \n",
       "68516507 73406314             Master mechanic    4 years   \n",
       "68587652 73477494                    Director     1 year   \n",
       "68009401 72868139       Bookkeeper/Accounting  10+ years   \n",
       "68416935 73306760   Electronic Branch Manager    3 years   \n",
       "68357012 73246847            Senior Associate    6 years   \n",
       "\n",
       "                              ...             num_tl_90g_dpd_24m  \\\n",
       "id       member_id            ...                                  \n",
       "68516507 73406314             ...                              0   \n",
       "68587652 73477494             ...                              0   \n",
       "68009401 72868139             ...                              0   \n",
       "68416935 73306760             ...                              0   \n",
       "68357012 73246847             ...                              0   \n",
       "\n",
       "                    num_tl_op_past_12m pct_tl_nvr_dlq percent_bc_gt_75  \\\n",
       "id       member_id                                                       \n",
       "68516507 73406314                    2          100.0              0.0   \n",
       "68587652 73477494                    1          100.0              0.0   \n",
       "68009401 72868139                    2           78.9              0.0   \n",
       "68416935 73306760                    4          100.0              0.0   \n",
       "68357012 73246847                    4          100.0             20.0   \n",
       "\n",
       "                   pub_rec_bankruptcies tax_liens tot_hi_cred_lim  \\\n",
       "id       member_id                                                  \n",
       "68516507 73406314                     0         0          531602   \n",
       "68587652 73477494                     0         0          512381   \n",
       "68009401 72868139                     0         2          298100   \n",
       "68416935 73306760                     1         0          347470   \n",
       "68357012 73246847                     1         0          369112   \n",
       "\n",
       "                   total_bal_ex_mort total_bc_limit total_il_high_credit_limit  \n",
       "id       member_id                                                              \n",
       "68516507 73406314              84039          34500                      55842  \n",
       "68587652 73477494              44786          44000                      51081  \n",
       "68009401 72868139              31329         281300                      13400  \n",
       "68416935 73306760              53397          36100                      47370  \n",
       "68357012 73246847              27849          28200                      21124  \n",
       "\n",
       "[5 rows x 109 columns]"
      ]
     },
     "execution_count": 23,
     "metadata": {},
     "output_type": "execute_result"
    }
   ],
   "source": [
    "data.head()"
   ]
  },
  {
   "cell_type": "markdown",
   "metadata": {},
   "source": [
    "Check the count of fields by data type:"
   ]
  },
  {
   "cell_type": "code",
   "execution_count": 24,
   "metadata": {
    "collapsed": false
   },
   "outputs": [
    {
     "data": {
      "text/plain": [
       "float64    43\n",
       "int64      40\n",
       "object     26\n",
       "dtype: int64"
      ]
     },
     "execution_count": 24,
     "metadata": {},
     "output_type": "execute_result"
    }
   ],
   "source": [
    "data.dtypes.value_counts()"
   ]
  },
  {
   "cell_type": "markdown",
   "metadata": {},
   "source": [
    "Depending on the specific dataset used, the numeric values may be read in as integers. For best performance and to enable mergining of the datasets, we convert those fields to floats (which allow NaN values):"
   ]
  },
  {
   "cell_type": "code",
   "execution_count": 25,
   "metadata": {
    "collapsed": false
   },
   "outputs": [],
   "source": [
    "for k, v in convert_float.items():\n",
    "    data[k] = data[k].astype(v)"
   ]
  },
  {
   "cell_type": "markdown",
   "metadata": {},
   "source": [
    "Checking the data types after the float conversion:"
   ]
  },
  {
   "cell_type": "code",
   "execution_count": 26,
   "metadata": {
    "collapsed": false
   },
   "outputs": [
    {
     "data": {
      "text/plain": [
       "float64    83\n",
       "object     26\n",
       "dtype: int64"
      ]
     },
     "execution_count": 26,
     "metadata": {},
     "output_type": "execute_result"
    }
   ],
   "source": [
    "data.dtypes.value_counts()"
   ]
  },
  {
   "cell_type": "markdown",
   "metadata": {},
   "source": [
    "The object fields need some more processing. First, we list out those fields:"
   ]
  },
  {
   "cell_type": "code",
   "execution_count": 27,
   "metadata": {
    "collapsed": false
   },
   "outputs": [
    {
     "data": {
      "text/plain": [
       "term                         object\n",
       "int_rate                     object\n",
       "grade                        object\n",
       "sub_grade                    object\n",
       "emp_title                    object\n",
       "emp_length                   object\n",
       "home_ownership               object\n",
       "verification_status          object\n",
       "issue_d                      object\n",
       "loan_status                  object\n",
       "pymnt_plan                   object\n",
       "url                          object\n",
       "desc                         object\n",
       "purpose                      object\n",
       "title                        object\n",
       "zip_code                     object\n",
       "addr_state                   object\n",
       "earliest_cr_line             object\n",
       "revol_util                   object\n",
       "initial_list_status          object\n",
       "last_pymnt_d                 object\n",
       "next_pymnt_d                 object\n",
       "last_credit_pull_d           object\n",
       "policy_code                  object\n",
       "application_type             object\n",
       "verification_status_joint    object\n",
       "dtype: object"
      ]
     },
     "execution_count": 27,
     "metadata": {},
     "output_type": "execute_result"
    }
   ],
   "source": [
    "data.dtypes[data.dtypes==\"object\"]"
   ]
  },
  {
   "cell_type": "markdown",
   "metadata": {},
   "source": [
    "There are 5 object fields that contain dates in the format *YYYY-MMM* (e.g. '2010-Jan'). We parse those to return datetime fields, which are more easily input into time series models or plotted in charts."
   ]
  },
  {
   "cell_type": "code",
   "execution_count": 28,
   "metadata": {
    "collapsed": false
   },
   "outputs": [],
   "source": [
    "data.issue_d = pd.to_datetime(data.issue_d, errors=\"coerce\")\n",
    "data.last_pymnt_d = pd.to_datetime(data.last_pymnt_d, errors=\"coerce\")\n",
    "data.next_pymnt_d = pd.to_datetime(data.next_pymnt_d, errors=\"coerce\")\n",
    "data.last_credit_pull_d = pd.to_datetime(data.last_credit_pull_d, errors=\"coerce\")\n",
    "data.earliest_cr_line = pd.to_datetime(data.earliest_cr_line, errors=\"coerce\")"
   ]
  },
  {
   "cell_type": "markdown",
   "metadata": {},
   "source": [
    "Many of the remaining fields contain categorical data. We use the pandas *category* data type to store the data more efficiently."
   ]
  },
  {
   "cell_type": "code",
   "execution_count": 29,
   "metadata": {
    "collapsed": false
   },
   "outputs": [],
   "source": [
    "data.term = pd.Categorical(data.term, categories= [\" 36 months\", \" 60 months\", \"None\"])\n",
    "data.grade = pd.Categorical(data.grade, categories=[\"A\", \"B\", \"C\", \"D\", \"E\", \"F\", \"G\", \"None\"])\n",
    "data.sub_grade = pd.Categorical(data.sub_grade, categories=[\"A1\", \"A2\", \"A3\", \"A4\", \"A5\",\n",
    "                                                            \"B1\", \"B2\", \"B3\", \"B4\", \"B5\", \n",
    "                                                            \"C1\", \"C2\", \"C3\", \"C4\", \"C5\",\n",
    "                                                            \"D1\", \"D2\", \"D3\", \"D4\", \"D5\",\n",
    "                                                            \"E1\", \"E2\", \"E3\", \"E4\", \"E5\",\n",
    "                                                            \"F1\", \"F2\", \"F3\", \"F4\", \"F5\",\n",
    "                                                            \"G1\", \"G2\", \"G3\", \"G4\", \"G5\",\n",
    "                                                            \"None\"])\n",
    "data.home_ownership = pd.Categorical(data.home_ownership.str.title(), categories=[\"Own\", \"Mortgage\", \"Rent\", \"Any\", \"Other\", \"None\"])\n",
    "data.emp_length = pd.Categorical(data.emp_length, categories=[\"< 1 year\", \"1 year\", \"2 years\", \"3 years\",\n",
    "                                                              \"4 years\", \"5 years\", \"6 years\", \"7 years\",\n",
    "                                                              \"8 years\", \"9 years\", \"10+ years\", \"n/a\", \"None\"])\n",
    "data.verification_status = pd.Categorical(data.verification_status, categories=[\"Verified\", \"Source Verified\", \"Not Verified\", \"None\"])\n",
    "data.loan_status = pd.Categorical(data.loan_status, categories=[\"Fully Paid\", \"Current\", \"Charged Off\",\n",
    "                                                                \"Does not meet the credit policy. Status:Fully Paid\",\n",
    "                                                                \"Does not meet the credit policy. Status:Charged Off\",\n",
    "                                                                \"In Grace Period\", \"Late (16-30 days)\", \"Late (31-120 days)\",\n",
    "                                                                \"Default\", \"None\"])\n",
    "data.pymnt_plan = pd.Categorical(data.pymnt_plan.str.title(), categories=[\"Y\", \"N\", \"None\"])\n",
    "data.purpose = pd.Categorical(data.purpose.str.title(),\n",
    "                              categories=[\"Debt_Consolidation\", \"Credit_Card\", \"Home_Improvement\", \"Major_Purchase\", \n",
    "                                          \"Small_Business\", \"Car\", \"Wedding\", \"Medical\", \"Moving\", \"House\",\n",
    "                                          \"Educational\", \"Vacation\", \"Renewable_Energy\", \"Other\", \"None\"])\n",
    "data.addr_state = pd.Categorical(data.addr_state,\n",
    "                                 categories=[\"AK\", \"AL\", \"AR\", \"AZ\", \"CA\", \"CO\", \"CT\", \"DC\", \"DE\", \"FL\",\n",
    "                                             \"GA\", \"HI\", \"IA\", \"ID\", \"IL\", \"IN\", \"KS\", \"KY\", \"LA\", \"MA\",\n",
    "                                             \"MD\", \"ME\", \"MI\", \"MN\", \"MO\", \"MS\", \"MT\", \"NC\", \"ND\", \"NE\",\n",
    "                                             \"NH\", \"NJ\", \"NM\", \"NV\", \"NY\", \"OH\", \"OK\", \"OR\", \"PA\", \"RI\",\n",
    "                                             \"SC\", \"SD\", \"TN\", \"TX\", \"UT\", \"VA\", \"VT\", \"WA\", \"WI\", \"WV\",\n",
    "                                             \"WY\", \"None\"])\n",
    "data.initial_list_status = pd.Categorical(data.initial_list_status, categories=[\"f\", \"w\", \"None\"])\n",
    "data.policy_code = pd.Categorical(data.policy_code, categories=[\"1\", \"None\"])\n",
    "data.application_type = pd.Categorical(data.application_type.str.title(), categories=[\"Individual\", \"Joint\", \"None\"])\n",
    "data.verification_status_joint = pd.Categorical(data.verification_status_joint, categories=[\"Verified\", \"Source Verified\", \"Not Verified\", \"None\"])"
   ]
  },
  {
   "cell_type": "markdown",
   "metadata": {},
   "source": [
    "To validate the categorical data conversion, we check a table listing Null values for each field. If any categories were excluded inadvertently, the *Null Count* in this table would show up as > 0. The *verification_status_joint* field does not appear to contain valid data for the datasets that have been analyzed."
   ]
  },
  {
   "cell_type": "code",
   "execution_count": 30,
   "metadata": {
    "collapsed": false
   },
   "outputs": [
    {
     "data": {
      "text/html": [
       "<div>\n",
       "<table border=\"1\" class=\"dataframe\">\n",
       "  <thead>\n",
       "    <tr style=\"text-align: right;\">\n",
       "      <th></th>\n",
       "      <th>Categorical Field</th>\n",
       "      <th>Null Count</th>\n",
       "    </tr>\n",
       "  </thead>\n",
       "  <tbody>\n",
       "    <tr>\n",
       "      <th>0</th>\n",
       "      <td>term</td>\n",
       "      <td>0</td>\n",
       "    </tr>\n",
       "    <tr>\n",
       "      <th>1</th>\n",
       "      <td>grade</td>\n",
       "      <td>0</td>\n",
       "    </tr>\n",
       "    <tr>\n",
       "      <th>2</th>\n",
       "      <td>sub_grade</td>\n",
       "      <td>0</td>\n",
       "    </tr>\n",
       "    <tr>\n",
       "      <th>3</th>\n",
       "      <td>emp_length</td>\n",
       "      <td>0</td>\n",
       "    </tr>\n",
       "    <tr>\n",
       "      <th>4</th>\n",
       "      <td>home_ownership</td>\n",
       "      <td>0</td>\n",
       "    </tr>\n",
       "    <tr>\n",
       "      <th>5</th>\n",
       "      <td>verification_status</td>\n",
       "      <td>0</td>\n",
       "    </tr>\n",
       "    <tr>\n",
       "      <th>6</th>\n",
       "      <td>loan_status</td>\n",
       "      <td>0</td>\n",
       "    </tr>\n",
       "    <tr>\n",
       "      <th>7</th>\n",
       "      <td>pymnt_plan</td>\n",
       "      <td>0</td>\n",
       "    </tr>\n",
       "    <tr>\n",
       "      <th>8</th>\n",
       "      <td>purpose</td>\n",
       "      <td>0</td>\n",
       "    </tr>\n",
       "    <tr>\n",
       "      <th>9</th>\n",
       "      <td>addr_state</td>\n",
       "      <td>0</td>\n",
       "    </tr>\n",
       "    <tr>\n",
       "      <th>10</th>\n",
       "      <td>initial_list_status</td>\n",
       "      <td>0</td>\n",
       "    </tr>\n",
       "    <tr>\n",
       "      <th>11</th>\n",
       "      <td>policy_code</td>\n",
       "      <td>0</td>\n",
       "    </tr>\n",
       "    <tr>\n",
       "      <th>12</th>\n",
       "      <td>application_type</td>\n",
       "      <td>0</td>\n",
       "    </tr>\n",
       "    <tr>\n",
       "      <th>13</th>\n",
       "      <td>verification_status_joint</td>\n",
       "      <td>420584</td>\n",
       "    </tr>\n",
       "  </tbody>\n",
       "</table>\n",
       "</div>"
      ],
      "text/plain": [
       "            Categorical Field  Null Count\n",
       "0                        term           0\n",
       "1                       grade           0\n",
       "2                   sub_grade           0\n",
       "3                  emp_length           0\n",
       "4              home_ownership           0\n",
       "5         verification_status           0\n",
       "6                 loan_status           0\n",
       "7                  pymnt_plan           0\n",
       "8                     purpose           0\n",
       "9                  addr_state           0\n",
       "10        initial_list_status           0\n",
       "11                policy_code           0\n",
       "12           application_type           0\n",
       "13  verification_status_joint      420584"
      ]
     },
     "execution_count": 30,
     "metadata": {},
     "output_type": "execute_result"
    }
   ],
   "source": [
    "pd.DataFrame([[f, sum(pd.isnull(data[f]))] for f in data.columns[data.dtypes==\"category\"]],\n",
    "             columns=[\"Categorical Field\", \"Null Count\"])"
   ]
  },
  {
   "cell_type": "markdown",
   "metadata": {},
   "source": [
    "Some percentages are stored as strings (*int_rate*, *revol_util*). Here we convert them into a float by stripping the % symbol and dividing by 100."
   ]
  },
  {
   "cell_type": "code",
   "execution_count": 31,
   "metadata": {
    "collapsed": false
   },
   "outputs": [],
   "source": [
    "def percent_to_float(s):\n",
    "    if (type(s) == str):\n",
    "        if (\"%\" in s):\n",
    "            return float(str(s).strip(\"%\"))/100\n",
    "        else:\n",
    "            if s == \"None\":\n",
    "                return np.nan\n",
    "            else:            \n",
    "                return s\n",
    "    else:\n",
    "        return s\n",
    "\n",
    "data.int_rate = [percent_to_float(s) for s in data.int_rate]\n",
    "data.revol_util = [percent_to_float(s) for s in data.revol_util]"
   ]
  },
  {
   "cell_type": "markdown",
   "metadata": {},
   "source": [
    "Final check of data types:"
   ]
  },
  {
   "cell_type": "code",
   "execution_count": 32,
   "metadata": {
    "collapsed": false
   },
   "outputs": [
    {
     "data": {
      "text/plain": [
       "float64           85\n",
       "category          14\n",
       "object             5\n",
       "datetime64[ns]     5\n",
       "dtype: int64"
      ]
     },
     "execution_count": 32,
     "metadata": {},
     "output_type": "execute_result"
    }
   ],
   "source": [
    "data.dtypes.value_counts()"
   ]
  },
  {
   "cell_type": "markdown",
   "metadata": {},
   "source": [
    "The 5 remaining object fields are note easily parsed to a more convenient data structure. Those fields are listed in the table below:"
   ]
  },
  {
   "cell_type": "code",
   "execution_count": 33,
   "metadata": {
    "collapsed": false
   },
   "outputs": [
    {
     "data": {
      "text/html": [
       "<div>\n",
       "<table border=\"1\" class=\"dataframe\">\n",
       "  <thead>\n",
       "    <tr style=\"text-align: right;\">\n",
       "      <th></th>\n",
       "      <th></th>\n",
       "      <th>emp_title</th>\n",
       "      <th>url</th>\n",
       "      <th>desc</th>\n",
       "      <th>title</th>\n",
       "      <th>zip_code</th>\n",
       "    </tr>\n",
       "    <tr>\n",
       "      <th>id</th>\n",
       "      <th>member_id</th>\n",
       "      <th></th>\n",
       "      <th></th>\n",
       "      <th></th>\n",
       "      <th></th>\n",
       "      <th></th>\n",
       "    </tr>\n",
       "  </thead>\n",
       "  <tbody>\n",
       "    <tr>\n",
       "      <th>68516507</th>\n",
       "      <th>73406314</th>\n",
       "      <td>Master mechanic</td>\n",
       "      <td>https://lendingclub.com/browse/loanDetail.acti...</td>\n",
       "      <td>NaN</td>\n",
       "      <td>Medical expenses</td>\n",
       "      <td>439xx</td>\n",
       "    </tr>\n",
       "    <tr>\n",
       "      <th>68587652</th>\n",
       "      <th>73477494</th>\n",
       "      <td>Director</td>\n",
       "      <td>https://lendingclub.com/browse/loanDetail.acti...</td>\n",
       "      <td>NaN</td>\n",
       "      <td>Credit card refinancing</td>\n",
       "      <td>054xx</td>\n",
       "    </tr>\n",
       "    <tr>\n",
       "      <th>68009401</th>\n",
       "      <th>72868139</th>\n",
       "      <td>Bookkeeper/Accounting</td>\n",
       "      <td>https://lendingclub.com/browse/loanDetail.acti...</td>\n",
       "      <td>NaN</td>\n",
       "      <td>Credit card refinancing</td>\n",
       "      <td>297xx</td>\n",
       "    </tr>\n",
       "    <tr>\n",
       "      <th>68416935</th>\n",
       "      <th>73306760</th>\n",
       "      <td>Electronic Branch Manager</td>\n",
       "      <td>https://lendingclub.com/browse/loanDetail.acti...</td>\n",
       "      <td>NaN</td>\n",
       "      <td>Debt consolidation</td>\n",
       "      <td>973xx</td>\n",
       "    </tr>\n",
       "    <tr>\n",
       "      <th>68357012</th>\n",
       "      <th>73246847</th>\n",
       "      <td>Senior Associate</td>\n",
       "      <td>https://lendingclub.com/browse/loanDetail.acti...</td>\n",
       "      <td>NaN</td>\n",
       "      <td>Credit card refinancing</td>\n",
       "      <td>085xx</td>\n",
       "    </tr>\n",
       "  </tbody>\n",
       "</table>\n",
       "</div>"
      ],
      "text/plain": [
       "                                    emp_title  \\\n",
       "id       member_id                              \n",
       "68516507 73406314             Master mechanic   \n",
       "68587652 73477494                    Director   \n",
       "68009401 72868139       Bookkeeper/Accounting   \n",
       "68416935 73306760   Electronic Branch Manager   \n",
       "68357012 73246847            Senior Associate   \n",
       "\n",
       "                                                                  url desc  \\\n",
       "id       member_id                                                           \n",
       "68516507 73406314   https://lendingclub.com/browse/loanDetail.acti...  NaN   \n",
       "68587652 73477494   https://lendingclub.com/browse/loanDetail.acti...  NaN   \n",
       "68009401 72868139   https://lendingclub.com/browse/loanDetail.acti...  NaN   \n",
       "68416935 73306760   https://lendingclub.com/browse/loanDetail.acti...  NaN   \n",
       "68357012 73246847   https://lendingclub.com/browse/loanDetail.acti...  NaN   \n",
       "\n",
       "                                      title zip_code  \n",
       "id       member_id                                    \n",
       "68516507 73406314          Medical expenses    439xx  \n",
       "68587652 73477494   Credit card refinancing    054xx  \n",
       "68009401 72868139   Credit card refinancing    297xx  \n",
       "68416935 73306760        Debt consolidation    973xx  \n",
       "68357012 73246847   Credit card refinancing    085xx  "
      ]
     },
     "execution_count": 33,
     "metadata": {},
     "output_type": "execute_result"
    }
   ],
   "source": [
    "data.select_dtypes(include=[\"object\"]).head()"
   ]
  },
  {
   "cell_type": "markdown",
   "metadata": {},
   "source": [
    "**<font size=6>Income</font>**"
   ]
  },
  {
   "cell_type": "code",
   "execution_count": 34,
   "metadata": {
    "collapsed": true
   },
   "outputs": [],
   "source": [
    "def plt_hist(x, x_min, x_max, log_trans, n_bins, title, ax):\n",
    "    if log_trans:\n",
    "        x = np.log10(x)\n",
    "        x_min = np.log10(x_min)\n",
    "        x_max = np.log10(x_max)\n",
    "\n",
    "    x_plt = x[(x >= x_min) & (x <= x_max)]\n",
    "    ax.hist(x_plt, bins=n_bins)\n",
    "    ax.set_xlim([x_min, x_max])\n",
    "    ax.set_title(title)"
   ]
  },
  {
   "cell_type": "code",
   "execution_count": 35,
   "metadata": {
    "collapsed": false
   },
   "outputs": [
    {
     "data": {
      "image/png": "[encoded data removed]",
      "text/plain": [
       "<matplotlib.figure.Figure at 0x7f0180c79590>"
      ]
     },
     "metadata": {},
     "output_type": "display_data"
    }
   ],
   "source": [
    "fig, ax = plt.subplots(2, 2, figsize=(16, 8))\n",
    "plt_hist(data.annual_inc, 100, 1000000, True, 25, \"Log-Annual Income\", ax[0][0])\n",
    "plt_hist(data.annual_inc_joint, 100, 1000000, True, 15, \"Log-Annual Income (Joint)\", ax[0][1])\n",
    "plt_hist(data.dti, 0, 40, False, 35, \"Debt-to-Income\", ax[1][0])\n",
    "plt_hist(data.dti_joint, 0, 40, False, 35, \"Debt-to-Income (Joint)\", ax[1][1])\n",
    "plt.show()"
   ]
  },
  {
   "cell_type": "markdown",
   "metadata": {},
   "source": [
    "**<font size=6>Loan Terms</font>**"
   ]
  },
  {
   "cell_type": "code",
   "execution_count": 36,
   "metadata": {
    "collapsed": false
   },
   "outputs": [
    {
     "data": {
      "image/png": "[encoded data removed]",
      "text/plain": [
       "<matplotlib.figure.Figure at 0x7f0183a316d0>"
      ]
     },
     "metadata": {},
     "output_type": "display_data"
    }
   ],
   "source": [
    "fig, ax = plt.subplots(3, 2, figsize=(16, 8))\n",
    "plt_hist(data.loan_amnt, 100, 100000, True, 20, \"Log-Loan Amount\", ax[0][0])\n",
    "plt_hist(data.funded_amnt, 100, 100000, True, 20, \"Log-Funded Amount\", ax[0][1])\n",
    "plt_hist(data.funded_amnt_inv, 100, 100000, True, 20, \"Log-Funded Amount (Investors)\", ax[1][0])\n",
    "plt_hist(data.int_rate, 0, 0.35, False, 20, \"Interest Rate\", ax[1][1])\n",
    "plt_hist(data.installment, 10, 10000, True, 20, \"Log-Installment\", ax[2][0])\n",
    "plt.show()"
   ]
  },
  {
   "cell_type": "markdown",
   "metadata": {},
   "source": [
    "**<font size=6>Repayments/Recoveries</font>**"
   ]
  },
  {
   "cell_type": "code",
   "execution_count": 37,
   "metadata": {
    "collapsed": false
   },
   "outputs": [
    {
     "data": {
      "image/png": "[encoded data removed]",
      "text/plain": [
       "<matplotlib.figure.Figure at 0x7f01877b1750>"
      ]
     },
     "metadata": {},
     "output_type": "display_data"
    }
   ],
   "source": [
    "fig, ax = plt.subplots(5, 2, figsize=(16, 12))\n",
    "plt_hist(data.out_prncp, 100, 100000, True, 35, \"Log-Outstanding Principal\", ax[0][0])\n",
    "plt_hist(data.out_prncp_inv, 100, 100000, True, 35, \"Log-Outstanding Principal (Investor Funded)\", ax[0][1])\n",
    "plt_hist(data.last_pymnt_amnt, 10, 100000, True, 30, \"Log-Last Payment Amount\", ax[1][0])\n",
    "plt_hist(data.total_pymnt, 100, 100000, True, 35, \"Log-Payments Recvd to Date\", ax[1][1])\n",
    "plt_hist(data.total_rec_prncp, 100, 100000, True, 30, \"Log-Principal Recvd to Date\", ax[2][0])\n",
    "plt_hist(data.total_rec_int, 100, 100000, True, 30, \"Log-Interest Recvd to Date\", ax[2][1])\n",
    "plt_hist(data.total_rec_late_fee[data.total_rec_late_fee>0], 20, 1000, True, 25, \"Log-Late Fees Recvd to Date\", ax[3][0])\n",
    "plt_hist(data.recoveries[data.recoveries>0], 20, 100000, True, 25, \"Log-Post Chargeoff Recoveries\", ax[3][1])\n",
    "plt_hist(data.collection_recovery_fee[data.collection_recovery_fee>0], 20, 100000, True, 20, \"Log-Recovery Fees\", ax[4][0])\n",
    "plt.show()"
   ]
  },
  {
   "cell_type": "markdown",
   "metadata": {},
   "source": [
    "**<font size=6>Credit Balances</font>**"
   ]
  },
  {
   "cell_type": "code",
   "execution_count": 38,
   "metadata": {
    "collapsed": false
   },
   "outputs": [
    {
     "ename": "TypeError",
     "evalue": "plt_hist() takes exactly 7 arguments (5 given)",
     "output_type": "error",
     "traceback": [
      "\u001b[0;31m---------------------------------------------------------------------------\u001b[0m",
      "\u001b[0;31mTypeError\u001b[0m                                 Traceback (most recent call last)",
      "\u001b[0;32m<ipython-input-38-f9d867e33945>\u001b[0m in \u001b[0;36m<module>\u001b[0;34m()\u001b[0m\n\u001b[1;32m      1\u001b[0m \u001b[0mplt\u001b[0m\u001b[0;34m.\u001b[0m\u001b[0mfigure\u001b[0m\u001b[0;34m(\u001b[0m\u001b[0;34m)\u001b[0m\u001b[0;34m\u001b[0m\u001b[0m\n\u001b[0;32m----> 2\u001b[0;31m \u001b[0mplt_hist\u001b[0m\u001b[0;34m(\u001b[0m\u001b[0mdata\u001b[0m\u001b[0;34m.\u001b[0m\u001b[0mtot_cur_bal\u001b[0m\u001b[0;34m,\u001b[0m \u001b[0;36m100\u001b[0m\u001b[0;34m,\u001b[0m \u001b[0;36m1000000\u001b[0m\u001b[0;34m,\u001b[0m \u001b[0mTrue\u001b[0m\u001b[0;34m,\u001b[0m \u001b[0;36m30\u001b[0m\u001b[0;34m)\u001b[0m\u001b[0;34m\u001b[0m\u001b[0m\n\u001b[0m\u001b[1;32m      3\u001b[0m \u001b[0mplt\u001b[0m\u001b[0;34m.\u001b[0m\u001b[0mtitle\u001b[0m\u001b[0;34m(\u001b[0m\u001b[0;34m\"Log-Total Current Balance on All Accounts\"\u001b[0m\u001b[0;34m)\u001b[0m\u001b[0;34m\u001b[0m\u001b[0m\n\u001b[1;32m      4\u001b[0m \u001b[0mplt\u001b[0m\u001b[0;34m.\u001b[0m\u001b[0mshow\u001b[0m\u001b[0;34m(\u001b[0m\u001b[0;34m)\u001b[0m\u001b[0;34m\u001b[0m\u001b[0m\n",
      "\u001b[0;31mTypeError\u001b[0m: plt_hist() takes exactly 7 arguments (5 given)"
     ]
    },
    {
     "data": {
      "text/plain": [
       "<matplotlib.figure.Figure at 0x7f01cc5fd050>"
      ]
     },
     "metadata": {},
     "output_type": "display_data"
    }
   ],
   "source": [
    "plt.figure()\n",
    "plt_hist(data.tot_cur_bal, 100, 1000000, True, 30)\n",
    "plt.title(\"Log-Total Current Balance on All Accounts\")\n",
    "plt.show()"
   ]
  },
  {
   "cell_type": "code",
   "execution_count": null,
   "metadata": {
    "collapsed": false
   },
   "outputs": [],
   "source": [
    "plt.figure()\n",
    "plt_hist(data.revol_bal, 100, 1000000, True, 20)\n",
    "plt.title(\"Log-Total Revolving Credit Balance\")\n",
    "plt.show()"
   ]
  },
  {
   "cell_type": "code",
   "execution_count": null,
   "metadata": {
    "collapsed": false
   },
   "outputs": [],
   "source": [
    "plt.figure()\n",
    "plt_hist(data.total_bal_il, 100, 1000000, True, 25)\n",
    "plt.title(\"Log-Installment Account Balance\")\n",
    "plt.show()"
   ]
  },
  {
   "cell_type": "code",
   "execution_count": null,
   "metadata": {
    "collapsed": false
   },
   "outputs": [],
   "source": [
    "plt.figure()\n",
    "plt_hist(data.total_bal_ex_mort, 100, 1000000, True, 20)\n",
    "plt.title(\"Log-Total Credit Balance Ex Mortgage\")\n",
    "plt.show()"
   ]
  },
  {
   "cell_type": "code",
   "execution_count": null,
   "metadata": {
    "collapsed": false
   },
   "outputs": [],
   "source": [
    "plt.figure()\n",
    "plt_hist(data.avg_cur_bal, 100, 1000000, True, 20)\n",
    "plt.title(\"Log-Average Current Balance\")\n",
    "plt.show()"
   ]
  },
  {
   "cell_type": "markdown",
   "metadata": {},
   "source": [
    "**<font size=6>Credit Limits</font>**"
   ]
  },
  {
   "cell_type": "code",
   "execution_count": null,
   "metadata": {
    "collapsed": false
   },
   "outputs": [],
   "source": [
    "plt.figure()\n",
    "plt_hist(data.max_bal_bc, 1, 1000000, True, 25)\n",
    "plt.title(\"Log-Revolving Account Limit\")\n",
    "plt.show()"
   ]
  },
  {
   "cell_type": "code",
   "execution_count": null,
   "metadata": {
    "collapsed": false
   },
   "outputs": [],
   "source": [
    "plt.figure()\n",
    "plt_hist(data.bc_open_to_buy, 1, 1000000, True, 20)\n",
    "plt.title(\"Log-Open to Buy on Revolving Bankcards\")\n",
    "plt.show()"
   ]
  },
  {
   "cell_type": "code",
   "execution_count": null,
   "metadata": {
    "collapsed": false
   },
   "outputs": [],
   "source": [
    "plt.figure()\n",
    "plt_hist(data.total_rev_hi_lim, 1, 1000000, True, 20)\n",
    "plt.title(\"Log-Total Revolving Limit\")\n",
    "plt.show()"
   ]
  },
  {
   "cell_type": "code",
   "execution_count": null,
   "metadata": {
    "collapsed": false
   },
   "outputs": [],
   "source": [
    "plt.figure()\n",
    "plt_hist(data.tot_hi_cred_lim, 1, 1000000, True, 20)\n",
    "plt.title(\"Log-Total Revolving Limit\")\n",
    "plt.show()"
   ]
  },
  {
   "cell_type": "code",
   "execution_count": null,
   "metadata": {
    "collapsed": false
   },
   "outputs": [],
   "source": [
    "plt.figure()\n",
    "plt_hist(data.total_bc_limit, 1, 1000000, True, 20)\n",
    "plt.title(\"Log-Total Revolving Limit\")\n",
    "plt.show()"
   ]
  },
  {
   "cell_type": "code",
   "execution_count": null,
   "metadata": {
    "collapsed": false
   },
   "outputs": [],
   "source": [
    "plt.figure()\n",
    "plt_hist(data.total_il_high_credit_limit, 1, 1000000, True, 20)\n",
    "plt.title(\"Log-Total Revolving Limit\")\n",
    "plt.show()"
   ]
  },
  {
   "cell_type": "markdown",
   "metadata": {},
   "source": [
    "**<font size=6>Credit Utilization</font>**"
   ]
  },
  {
   "cell_type": "code",
   "execution_count": null,
   "metadata": {
    "collapsed": false
   },
   "outputs": [],
   "source": [
    "plt.figure()\n",
    "plt_hist(data.all_util, 0, 150, False, 25)\n",
    "plt.title(\"Overall Utilization\")\n",
    "plt.show()"
   ]
  },
  {
   "cell_type": "code",
   "execution_count": null,
   "metadata": {
    "collapsed": false
   },
   "outputs": [],
   "source": [
    "plt.figure()\n",
    "plt_hist(data.il_util, 0, 150, False, 25)\n",
    "plt.title(\"Installment Account Utilization\")\n",
    "plt.show()"
   ]
  },
  {
   "cell_type": "code",
   "execution_count": null,
   "metadata": {
    "collapsed": false
   },
   "outputs": [],
   "source": [
    "plt.figure()\n",
    "plt_hist(data.revol_util, 0, 1.2, False, 30)\n",
    "plt.title(\"Revolving Utilization\")\n",
    "plt.show()"
   ]
  },
  {
   "cell_type": "code",
   "execution_count": null,
   "metadata": {
    "collapsed": false
   },
   "outputs": [],
   "source": [
    "plt.figure()\n",
    "plt_hist(data.bc_util, 0, 150, False, 25)\n",
    "plt.title(\"Bank Card Utilization\")\n",
    "plt.show()"
   ]
  },
  {
   "cell_type": "code",
   "execution_count": null,
   "metadata": {
    "collapsed": false
   },
   "outputs": [],
   "source": [
    "plt.figure()\n",
    "plt_hist(data.percent_bc_gt_75, 0, 100, False, 25)\n",
    "plt.title(\"Percent Bankcards > 75% Limit\")\n",
    "plt.show()"
   ]
  },
  {
   "cell_type": "markdown",
   "metadata": {},
   "source": [
    "**<font size=6>Number of Accounts</font>**"
   ]
  },
  {
   "cell_type": "code",
   "execution_count": null,
   "metadata": {
    "collapsed": false
   },
   "outputs": [],
   "source": [
    "plt.figure()\n",
    "plt_hist(data.open_acc_6m, 0, 10, False, 11)\n",
    "plt.title(\"Open Trades Last 6mo\")\n",
    "plt.show()"
   ]
  },
  {
   "cell_type": "code",
   "execution_count": null,
   "metadata": {
    "collapsed": false
   },
   "outputs": [],
   "source": [
    "plt.figure()\n",
    "plt_hist(data.open_il_6m, 0, 30, False, 15)\n",
    "plt.title(\"Active Installment Accounts 6mo\")\n",
    "plt.show()"
   ]
  },
  {
   "cell_type": "code",
   "execution_count": null,
   "metadata": {
    "collapsed": false
   },
   "outputs": [],
   "source": [
    "plt.figure()\n",
    "plt_hist(data.open_il_12m, 0, 10, False, 11)\n",
    "plt.title(\"Installment Accounts Opened 12mo\")\n",
    "plt.show()"
   ]
  },
  {
   "cell_type": "code",
   "execution_count": null,
   "metadata": {
    "collapsed": false
   },
   "outputs": [],
   "source": [
    "plt.figure()\n",
    "plt_hist(data.open_il_24m, 0, 10, False, 11)\n",
    "plt.title(\"Installment Accounts Opened 24mo\")\n",
    "plt.show()"
   ]
  },
  {
   "cell_type": "code",
   "execution_count": null,
   "metadata": {
    "collapsed": false
   },
   "outputs": [],
   "source": [
    "plt.figure()\n",
    "plt_hist(data.open_rv_12m, 0, 10, False, 11)\n",
    "plt.title(\"Revolving Accounts Opened 12mo\")\n",
    "plt.show()"
   ]
  },
  {
   "cell_type": "code",
   "execution_count": null,
   "metadata": {
    "collapsed": false
   },
   "outputs": [],
   "source": [
    "plt.figure()\n",
    "plt_hist(data.open_rv_24m, 0, 10, False, 11)\n",
    "plt.title(\"Revolving Accounts Opened 24mo\")\n",
    "plt.show()"
   ]
  },
  {
   "cell_type": "code",
   "execution_count": null,
   "metadata": {
    "collapsed": false
   },
   "outputs": [],
   "source": [
    "plt.figure()\n",
    "plt_hist(data.total_cu_tl, 0, 10, False, 11)\n",
    "plt.title(\"Finance Trade Count\")\n",
    "plt.show()"
   ]
  },
  {
   "cell_type": "code",
   "execution_count": null,
   "metadata": {
    "collapsed": false
   },
   "outputs": [],
   "source": [
    "plt.figure()\n",
    "plt_hist(data.num_rev_accts, 0, 60, False, 20)\n",
    "plt.title(\"Revolving Accounts\")\n",
    "plt.show()"
   ]
  },
  {
   "cell_type": "code",
   "execution_count": null,
   "metadata": {
    "collapsed": false
   },
   "outputs": [],
   "source": [
    "plt.figure()\n",
    "plt_hist(data.open_acc, 0, 60, False, 20)\n",
    "plt.title(\"Open Accounts\")\n",
    "plt.show()"
   ]
  },
  {
   "cell_type": "code",
   "execution_count": null,
   "metadata": {
    "collapsed": false
   },
   "outputs": [],
   "source": [
    "plt.figure()\n",
    "plt_hist(data.total_acc, 0, 60, False, 20)\n",
    "plt.title(\"Total Accounts\")\n",
    "plt.show()"
   ]
  },
  {
   "cell_type": "code",
   "execution_count": null,
   "metadata": {
    "collapsed": false
   },
   "outputs": [],
   "source": [
    "plt.figure()\n",
    "plt_hist(data.mort_acc, 0, 20, False, 20)\n",
    "plt.title(\"Mortgage Accounts\")\n",
    "plt.show()"
   ]
  },
  {
   "cell_type": "code",
   "execution_count": null,
   "metadata": {
    "collapsed": false
   },
   "outputs": [],
   "source": [
    "plt.figure()\n",
    "plt_hist(data.acc_open_past_24mths, 0, 20, False, 20)\n",
    "plt.title(\"Accounts Opened Last 12mo\")\n",
    "plt.show()"
   ]
  },
  {
   "cell_type": "code",
   "execution_count": null,
   "metadata": {
    "collapsed": false
   },
   "outputs": [],
   "source": [
    "plt.figure()\n",
    "plt_hist(data.num_actv_bc_tl, 0, 20, False, 20)\n",
    "plt.title(\"Active Bankcard Accounts\")\n",
    "plt.show()\n"
   ]
  },
  {
   "cell_type": "code",
   "execution_count": null,
   "metadata": {
    "collapsed": false
   },
   "outputs": [],
   "source": [
    "plt.figure()\n",
    "plt_hist(data.num_actv_rev_tl, 0, 20, False, 20)\n",
    "plt.title(\"Active Revolving Accounts\")\n",
    "plt.show()"
   ]
  },
  {
   "cell_type": "code",
   "execution_count": null,
   "metadata": {
    "collapsed": false
   },
   "outputs": [],
   "source": [
    "plt.figure()\n",
    "plt_hist(data.num_bc_tl, 0, 20, False, 20)\n",
    "plt.title(\"Bankcard Accounts\")\n",
    "plt.show()"
   ]
  },
  {
   "cell_type": "code",
   "execution_count": null,
   "metadata": {
    "collapsed": false
   },
   "outputs": [],
   "source": [
    "plt.figure()\n",
    "plt_hist(data.num_bc_sats, 0, 20, False, 20)\n",
    "plt.title(\"Satisfactory Bankcard Accounts\")\n",
    "plt.show()"
   ]
  },
  {
   "cell_type": "code",
   "execution_count": null,
   "metadata": {
    "collapsed": false
   },
   "outputs": [],
   "source": [
    "plt.figure()\n",
    "plt_hist(data.num_il_tl, 0, 20, False, 20)\n",
    "plt.title(\"Installment Accounts\")\n",
    "plt.show()"
   ]
  },
  {
   "cell_type": "code",
   "execution_count": null,
   "metadata": {
    "collapsed": false
   },
   "outputs": [],
   "source": [
    "plt.figure()\n",
    "plt_hist(data.num_op_rev_tl, 0, 20, False, 20)\n",
    "plt.title(\"Open Revolving Accounts\")\n",
    "plt.show()"
   ]
  },
  {
   "cell_type": "code",
   "execution_count": null,
   "metadata": {
    "collapsed": false
   },
   "outputs": [],
   "source": [
    "plt.figure()\n",
    "plt_hist(data.num_rev_tl_bal_gt_0, 0, 20, False, 20)\n",
    "plt.title(\"Revolving Accounts w/ Positive Balance\")\n",
    "plt.show()"
   ]
  },
  {
   "cell_type": "code",
   "execution_count": null,
   "metadata": {
    "collapsed": false
   },
   "outputs": [],
   "source": [
    "plt.figure()\n",
    "plt_hist(data.num_sats, 0, 40, False, 20)\n",
    "plt.title(\"Satisfactory Accounts\")\n",
    "plt.show()"
   ]
  },
  {
   "cell_type": "code",
   "execution_count": null,
   "metadata": {
    "collapsed": false
   },
   "outputs": [],
   "source": [
    "plt.figure()\n",
    "plt_hist(data.num_tl_30dpd[data.num_tl_30dpd>0], 0, 10, False, 5)\n",
    "plt.title(\"Accounts Past Due 30d (excl zeros)\")\n",
    "plt.show()"
   ]
  },
  {
   "cell_type": "code",
   "execution_count": null,
   "metadata": {
    "collapsed": false
   },
   "outputs": [],
   "source": [
    "plt.figure()\n",
    "plt_hist(data.num_tl_90g_dpd_24m[data.num_tl_90g_dpd_24m>0], 0, 10, False, 10)\n",
    "plt.title(\"Accounts Past Due 90d in Last 2yr\")\n",
    "plt.show()"
   ]
  },
  {
   "cell_type": "code",
   "execution_count": null,
   "metadata": {
    "collapsed": false
   },
   "outputs": [],
   "source": [
    "plt.figure()\n",
    "plt_hist(data.num_tl_op_past_12m, 0, 20, False, 20)\n",
    "plt.title(\"Accounts Opened Last 12mo\")\n",
    "plt.show()"
   ]
  },
  {
   "cell_type": "code",
   "execution_count": null,
   "metadata": {
    "collapsed": false
   },
   "outputs": [],
   "source": [
    "plt.figure()\n",
    "plt_hist(data.pct_tl_nvr_dlq, 0, 100, False, 25)\n",
    "plt.title(\"Percent Accounts Never Delinquent\")\n",
    "plt.show()\n"
   ]
  },
  {
   "cell_type": "markdown",
   "metadata": {},
   "source": [
    "**<font size=6>Derogatory Marks</font>**"
   ]
  },
  {
   "cell_type": "code",
   "execution_count": null,
   "metadata": {
    "collapsed": false
   },
   "outputs": [],
   "source": [
    "plt.figure()\n",
    "plt_hist(data.num_tl_120dpd_2m[data.num_tl_120dpd_2m>0], 0, 10, False, 5)\n",
    "plt.title(\"Accounts 120 Days Past Due (excl zeros)\")\n",
    "plt.show()"
   ]
  },
  {
   "cell_type": "code",
   "execution_count": null,
   "metadata": {
    "collapsed": false
   },
   "outputs": [],
   "source": [
    "plt.figure()\n",
    "plt_hist(data.pub_rec[data.pub_rec>0], 0, 10, False, 10)\n",
    "plt.title(\"Delinquent Public Records (excl zeros)\")\n",
    "plt.show()"
   ]
  },
  {
   "cell_type": "code",
   "execution_count": null,
   "metadata": {
    "collapsed": false
   },
   "outputs": [],
   "source": [
    "plt.figure()\n",
    "plt_hist(data.delinq_2yrs[data.delinq_2yrs>0], 0, 10, False, 10)\n",
    "plt.title(\"Delinquent Accounts 2yrs (excl zeros)\")\n",
    "plt.show()"
   ]
  },
  {
   "cell_type": "code",
   "execution_count": null,
   "metadata": {
    "collapsed": false
   },
   "outputs": [],
   "source": [
    "plt.figure()\n",
    "plt_hist(data.acc_now_delinq[data.acc_now_delinq>0], 0, 10, False, 5)\n",
    "plt.title(\"Accounts Now Delinquent (excl zeros)\")\n",
    "plt.show()"
   ]
  },
  {
   "cell_type": "code",
   "execution_count": null,
   "metadata": {
    "collapsed": false
   },
   "outputs": [],
   "source": [
    "plt.figure()\n",
    "plt_hist(data.num_accts_ever_120_pd[data.num_accts_ever_120_pd>0], 0, 10, False, 10)\n",
    "plt.title(\"Accounts Ever 120d Past Due (excl zeros)\")\n",
    "plt.show()"
   ]
  },
  {
   "cell_type": "code",
   "execution_count": null,
   "metadata": {
    "collapsed": false
   },
   "outputs": [],
   "source": [
    "plt.figure()\n",
    "plt_hist(data.collections_12_mths_ex_med[data.collections_12_mths_ex_med>0], 0, 10, False, 10)\n",
    "plt.title(\"Collections 12mo Non-Medical (excl zeros)\")\n",
    "plt.show()"
   ]
  },
  {
   "cell_type": "code",
   "execution_count": null,
   "metadata": {
    "collapsed": false
   },
   "outputs": [],
   "source": [
    "plt.figure()\n",
    "plt_hist(data.chargeoff_within_12_mths[data.chargeoff_within_12_mths>0], 0, 10, False, 10)\n",
    "plt.title(\"Chargeoffs Past 12mo (excl zeros)\")\n",
    "plt.show()"
   ]
  },
  {
   "cell_type": "code",
   "execution_count": null,
   "metadata": {
    "collapsed": false
   },
   "outputs": [],
   "source": [
    "plt.figure()\n",
    "plt_hist(data.pub_rec_bankruptcies[data.pub_rec_bankruptcies>0], 0, 10, False, 10)\n",
    "plt.title(\"Public Record Bankruptcies (excl zeros)\")\n",
    "plt.show()"
   ]
  },
  {
   "cell_type": "code",
   "execution_count": null,
   "metadata": {
    "collapsed": false
   },
   "outputs": [],
   "source": [
    "plt.figure()\n",
    "plt_hist(data.tax_liens[data.tax_liens>0], 0, 10, False, 10)\n",
    "plt.title(\"Tax Liens (excl zeros)\")\n",
    "plt.show()"
   ]
  },
  {
   "cell_type": "code",
   "execution_count": null,
   "metadata": {
    "collapsed": false
   },
   "outputs": [],
   "source": [
    "plt.figure()\n",
    "plt_hist(data.delinq_amnt[data.delinq_amnt>0], 100, 1000000, True, 20)\n",
    "plt.title(\"Log-Past-Due Amounts Now Deliquent (excl zeros)\")\n",
    "plt.show()"
   ]
  },
  {
   "cell_type": "code",
   "execution_count": null,
   "metadata": {
    "collapsed": false
   },
   "outputs": [],
   "source": [
    "plt.figure()\n",
    "plt_hist(data.tot_coll_amt[data.tot_coll_amt>0], 100, 1000000, True, 30)\n",
    "plt.title(\"Log-Total Collection Amounts Ever Owed (excl zeros)\")\n",
    "plt.show()"
   ]
  },
  {
   "cell_type": "markdown",
   "metadata": {},
   "source": [
    "**<font size=6>Credit Inquiries</font>**"
   ]
  },
  {
   "cell_type": "code",
   "execution_count": null,
   "metadata": {
    "collapsed": false
   },
   "outputs": [],
   "source": [
    "plt.figure()\n",
    "plt_hist(data.inq_fi, 0, 10, False, 11)\n",
    "plt.title(\"Personal Finance Inquiries\")\n",
    "plt.show()"
   ]
  },
  {
   "cell_type": "code",
   "execution_count": null,
   "metadata": {
    "collapsed": false
   },
   "outputs": [],
   "source": [
    "plt.figure()\n",
    "plt_hist(data.inq_last_6mths, 0, 10, False, 7)\n",
    "plt.title(\"Credit Inquiries 6mo\")\n",
    "plt.show()"
   ]
  },
  {
   "cell_type": "code",
   "execution_count": null,
   "metadata": {
    "collapsed": false
   },
   "outputs": [],
   "source": [
    "plt.figure()\n",
    "plt_hist(data.inq_last_12m, 0, 10, False, 11)\n",
    "plt.title(\"Credit Inquiries 12mo\")\n",
    "plt.show()"
   ]
  },
  {
   "cell_type": "markdown",
   "metadata": {},
   "source": [
    "**<font size=6>Months Since</font>**"
   ]
  },
  {
   "cell_type": "code",
   "execution_count": null,
   "metadata": {
    "collapsed": false
   },
   "outputs": [],
   "source": [
    "plt.figure()\n",
    "plt_hist(data.mths_since_last_delinq, 0, 100, False, 20)\n",
    "plt.title(\"Months Since Last Delinquency\")\n",
    "plt.show()"
   ]
  },
  {
   "cell_type": "code",
   "execution_count": null,
   "metadata": {
    "collapsed": false
   },
   "outputs": [],
   "source": [
    "plt.figure()\n",
    "plt_hist(data.mths_since_last_record, 0, 125, False, 25)\n",
    "plt.title(\"Months Since Last Record\")\n",
    "plt.show()"
   ]
  },
  {
   "cell_type": "code",
   "execution_count": null,
   "metadata": {
    "collapsed": false
   },
   "outputs": [],
   "source": [
    "plt.figure()\n",
    "plt_hist(data.mths_since_last_major_derog, 0, 125, False, 25)\n",
    "plt.title(\"Months Since Last Major Derogatory\")\n",
    "plt.show()"
   ]
  },
  {
   "cell_type": "code",
   "execution_count": null,
   "metadata": {
    "collapsed": false
   },
   "outputs": [],
   "source": [
    "plt.figure()\n",
    "plt_hist(data.mths_since_rcnt_il, 0, 200, False, 20)\n",
    "plt.title(\"Month Since Newest Installment Account Opened\")\n",
    "plt.show()"
   ]
  },
  {
   "cell_type": "code",
   "execution_count": null,
   "metadata": {
    "collapsed": false
   },
   "outputs": [],
   "source": [
    "plt.figure()\n",
    "plt_hist(data.mo_sin_old_il_acct, 0, 400, False, 20)\n",
    "plt.title(\"Months Since Oldest Installment Account Opened\")\n",
    "plt.show()"
   ]
  },
  {
   "cell_type": "code",
   "execution_count": null,
   "metadata": {
    "collapsed": false
   },
   "outputs": [],
   "source": [
    "plt.figure()\n",
    "plt_hist(data.mths_since_recent_bc, 0, 200, False, 20)\n",
    "plt.title(\"Months Since Newest Bankcard Account\")\n",
    "plt.show()"
   ]
  },
  {
   "cell_type": "code",
   "execution_count": null,
   "metadata": {
    "collapsed": false
   },
   "outputs": [],
   "source": [
    "plt.figure()\n",
    "plt_hist(data.mths_since_recent_bc_dlq, 0, 200, False, 20)\n",
    "plt.title(\"Months Since Bankcard Delinquency\")\n",
    "plt.show()"
   ]
  },
  {
   "cell_type": "code",
   "execution_count": null,
   "metadata": {
    "collapsed": false
   },
   "outputs": [],
   "source": [
    "plt.figure()\n",
    "plt_hist(data.mths_since_recent_inq, 0, 24, False, 24)\n",
    "plt.title(\"Months Since Most Recent Inquiry\")\n",
    "plt.show()"
   ]
  },
  {
   "cell_type": "code",
   "execution_count": null,
   "metadata": {
    "collapsed": false
   },
   "outputs": [],
   "source": [
    "plt.figure()\n",
    "plt_hist(data.mths_since_recent_revol_delinq, 0, 120, False, 20)\n",
    "plt.title(\"Months Since Revolving Account Delinquency\")\n",
    "plt.show()"
   ]
  },
  {
   "cell_type": "code",
   "execution_count": null,
   "metadata": {
    "collapsed": false
   },
   "outputs": [],
   "source": [
    "plt.figure()\n",
    "plt_hist(data.mo_sin_old_rev_tl_op, 0, 600, False, 20)\n",
    "plt.title(\"Months Since Oldest Revolving Account Opened\")\n",
    "plt.show()"
   ]
  },
  {
   "cell_type": "code",
   "execution_count": null,
   "metadata": {
    "collapsed": false
   },
   "outputs": [],
   "source": [
    "plt.figure()\n",
    "plt_hist(data.mo_sin_rcnt_rev_tl_op, 0, 120, False, 20)\n",
    "plt.title(\"Months Since Newest Revolving Account Opened\")\n",
    "plt.show()"
   ]
  },
  {
   "cell_type": "code",
   "execution_count": null,
   "metadata": {
    "collapsed": false
   },
   "outputs": [],
   "source": [
    "plt.figure()\n",
    "plt_hist(data.mo_sin_rcnt_tl, 0, 60, False, 20)\n",
    "plt.title(\"Months Since Newest Account Opened\")\n",
    "plt.show()"
   ]
  },
  {
   "cell_type": "code",
   "execution_count": 53,
   "metadata": {
    "collapsed": false
   },
   "outputs": [],
   "source": [
    "us_state_abbrev = {\n",
    "    'Alabama': 'AL',\n",
    "    'Alaska': 'AK',\n",
    "    'Arizona': 'AZ',\n",
    "    'Arkansas': 'AR',\n",
    "    'California': 'CA',\n",
    "    'Colorado': 'CO',\n",
    "    'Connecticut': 'CT',\n",
    "    'Delaware': 'DE',\n",
    "    'Florida': 'FL',\n",
    "    'Georgia': 'GA',\n",
    "    'Hawaii': 'HI',\n",
    "    'Idaho': 'ID',\n",
    "    'Illinois': 'IL',\n",
    "    'Indiana': 'IN',\n",
    "    'Iowa': 'IA',\n",
    "    'Kansas': 'KS',\n",
    "    'Kentucky': 'KY',\n",
    "    'Louisiana': 'LA',\n",
    "    'Maine': 'ME',\n",
    "    'Maryland': 'MD',\n",
    "    'Massachusetts': 'MA',\n",
    "    'Michigan': 'MI',\n",
    "    'Minnesota': 'MN',\n",
    "    'Mississippi': 'MS',\n",
    "    'Missouri': 'MO',\n",
    "    'Montana': 'MT',\n",
    "    'Nebraska': 'NE',\n",
    "    'Nevada': 'NV',\n",
    "    'New Hampshire': 'NH',\n",
    "    'New Jersey': 'NJ',\n",
    "    'New Mexico': 'NM',\n",
    "    'New York': 'NY',\n",
    "    'North Carolina': 'NC',\n",
    "    'North Dakota': 'ND',\n",
    "    'Ohio': 'OH',\n",
    "    'Oklahoma': 'OK',\n",
    "    'Oregon': 'OR',\n",
    "    'Pennsylvania': 'PA',\n",
    "    'Rhode Island': 'RI',\n",
    "    'South Carolina': 'SC',\n",
    "    'South Dakota': 'SD',\n",
    "    'Tennessee': 'TN',\n",
    "    'Texas': 'TX',\n",
    "    'Utah': 'UT',\n",
    "    'Vermont': 'VT',\n",
    "    'Virginia': 'VA',\n",
    "    'Washington': 'WA',\n",
    "    'West Virginia': 'WV',\n",
    "    'Wisconsin': 'WI',\n",
    "    'Wyoming': 'WY',\n",
    "}\n",
    "state_codes = dict ( (v,k) for k, v in us_state_abbrev.items() )"
   ]
  },
  {
   "cell_type": "code",
   "execution_count": 247,
   "metadata": {
    "collapsed": false
   },
   "outputs": [],
   "source": [
    "def normalize(d, target=1.0):\n",
    "    x = np.array(d.values())\n",
    "    where_are_NaNs = np.isnan(x)\n",
    "    x[where_are_NaNs] = 0\n",
    "    sort = np.argsort(x)\n",
    "    sort = sort[x[sort] != 0]\n",
    "    min = x[sort[0]]\n",
    "    x = x-min\n",
    "    raw = np.max(x)\n",
    "    factor = float(target)/raw\n",
    "    return {key:value*factor for key,value in d.iteritems()}"
   ]
  },
  {
   "cell_type": "code",
   "execution_count": 248,
   "metadata": {
    "collapsed": false
   },
   "outputs": [],
   "source": [
    "def plot_state_wise_data(var, title):\n",
    "    \n",
    "#     Showing colorbar is nightmare on axes , cant resolve it now.\n",
    "    fig = plt.figure(figsize=(30,5)); \n",
    "    ax = fig.add_subplot(1,1,1); \n",
    "\n",
    "    var = normalize(var)\n",
    "    # create the map\n",
    "    map = Basemap(llcrnrlon=-119,llcrnrlat=22,urcrnrlon=-64,urcrnrlat=49,\n",
    "            projection='lcc',lat_1=33,lat_2=45,lon_0=-95)\n",
    "\n",
    "    # load the shapefile, use the name 'states'\n",
    "    map.readshapefile('./shape/st99_d00', name='states', drawbounds=True)\n",
    "\n",
    "    state_names = []\n",
    "    for shape_dict in map.states_info:\n",
    "        state_names.append(shape_dict['NAME'])\n",
    "\n",
    "    Blues = plt.get_cmap('Reds')\n",
    "    \n",
    "    for idx, state in enumerate(state_names):\n",
    "        name = state\n",
    "\n",
    "        value = 0\n",
    "        if (us_state_abbrev.has_key(name)):\n",
    "            code = us_state_abbrev[name]\n",
    "            if var.has_key(code):\n",
    "                value = var[code]\n",
    "#         print state + str(value) + \"    -----------      \" + str(Blues(value))\n",
    "        seg = map.states[idx]\n",
    "        col = np.array(Blues(value))\n",
    "        poly = Polygon(seg, facecolor = col, edgecolor='none')\n",
    "        cax = ax.add_patch(poly)\n",
    "        \n",
    "#     lons, lats = map.makegrid(0 , len(var))\n",
    "#     xi, yi = map(lons, lats)\n",
    "#     cs = map.pcolor(xi, yi, var)\n",
    "#     ax.pcolor(var)\n",
    "#     map.colorbar(cs)\n",
    "#     plt.colorbar(cax)\n",
    "    plt.title(title)\n",
    "    plt.show()\n",
    "    return ax\n"
   ]
  },
  {
   "cell_type": "code",
   "execution_count": 249,
   "metadata": {
    "collapsed": false
   },
   "outputs": [
    {
     "data": {
      "image/png": "[encoded data removed]",
      "text/plain": [
       "<matplotlib.figure.Figure at 0x7f01ad339050>"
      ]
     },
     "metadata": {},
     "output_type": "display_data"
    },
    {
     "data": {
      "text/plain": [
       "<matplotlib.axes._subplots.AxesSubplot at 0x7f0197447390>"
      ]
     },
     "execution_count": 249,
     "metadata": {},
     "output_type": "execute_result"
    }
   ],
   "source": [
    "state_loan = data.groupby(\"addr_state\").loan_amnt.sum().to_dict()\n",
    "plot_state_wise_data(state_loan, \"State wise loan distribution\")"
   ]
  },
  {
   "cell_type": "code",
   "execution_count": 250,
   "metadata": {
    "collapsed": false
   },
   "outputs": [
    {
     "data": {
      "image/png": "[encoded data removed]",
      "text/plain": [
       "<matplotlib.figure.Figure at 0x7f01977562d0>"
      ]
     },
     "metadata": {},
     "output_type": "display_data"
    },
    {
     "data": {
      "text/plain": [
       "<matplotlib.axes._subplots.AxesSubplot at 0x7f019deab750>"
      ]
     },
     "execution_count": 250,
     "metadata": {},
     "output_type": "execute_result"
    }
   ],
   "source": [
    "annual_inc_joint = data.groupby(\"addr_state\").annual_inc_joint.sum().to_dict()\n",
    "plot_state_wise_data(annual_inc_joint, \"Annual income joint distribution\")"
   ]
  },
  {
   "cell_type": "code",
   "execution_count": 252,
   "metadata": {
    "collapsed": false
   },
   "outputs": [
    {
     "data": {
      "image/png": "[encoded data removed]",
      "text/plain": [
       "<matplotlib.figure.Figure at 0x7f01945650d0>"
      ]
     },
     "metadata": {},
     "output_type": "display_data"
    },
    {
     "data": {
      "text/plain": [
       "<matplotlib.axes._subplots.AxesSubplot at 0x7f01a2c03d50>"
      ]
     },
     "execution_count": 252,
     "metadata": {},
     "output_type": "execute_result"
    }
   ],
   "source": [
    "tot_cur_bal = data.groupby(\"addr_state\").tot_cur_bal.sum().to_dict()\n",
    "plot_state_wise_data(tot_cur_bal, \"Total current balance distribution\")"
   ]
  },
  {
   "cell_type": "code",
   "execution_count": null,
   "metadata": {
    "collapsed": true
   },
   "outputs": [],
   "source": [
    "total_acc = data.groupby(\"addr_state\").total_acc.sum().to_dict()\n",
    "plot_state_wise_data(total_acc, \"Open account distribution\")"
   ]
  },
  {
   "cell_type": "code",
   "execution_count": null,
   "metadata": {
    "collapsed": true
   },
   "outputs": [],
   "source": []
  }
 ],
 "metadata": {
  "kernelspec": {
   "display_name": "Python 2",
   "language": "python",
   "name": "python2"
  },
  "language_info": {
   "codemirror_mode": {
    "name": "ipython",
    "version": 2
   },
   "file_extension": ".py",
   "mimetype": "text/x-python",
   "name": "python",
   "nbconvert_exporter": "python",
   "pygments_lexer": "ipython2",
   "version": "2.7.12"
  }
 },
 "nbformat": 4,
 "nbformat_minor": 0
}
