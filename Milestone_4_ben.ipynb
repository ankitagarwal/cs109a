{
 "cells": [
  {
   "cell_type": "markdown",
   "metadata": {},
   "source": [
    "<br>\n",
    "<br>\n",
    "**<font size=8><center>Milestone 4</center></font>**"
   ]
  },
  {
   "cell_type": "markdown",
   "metadata": {},
   "source": [
    "**<font size=6>Introduction</font>**"
   ]
  },
  {
   "cell_type": "markdown",
   "metadata": {},
   "source": [
    "Below are four baseline models for the Lending Club analysis. These are simple models that treat the problem as binary classification. The outcomes can either be \"default\" or \"not default\". These models take simplicitic views of the problem and serve as baselines for comparison and sanity check when more sofisiticated models are built in later parts of the project.\n",
    "\n",
    "The models are:\n",
    "1. predict all outcomes to be \"not default\";\n",
    "2. predict all outcomes of borrowers with lowest credit scores to always :default\" and others \"not default\";\n",
    "3. model outcomes with a single predictor \"grade\";\n",
    "4. model outcomes with a single predictor \"interest rate\".\n",
    "\n",
    "The data cleaning steps are from milestone 3."
   ]
  },
  {
   "cell_type": "markdown",
   "metadata": {},
   "source": [
    "### Authors:\n",
    "Devon Luongo <br>\n",
    "Ankit Agarwal <br>\n",
    "Bryn Clark <br>\n",
    "Ben Yuen"
   ]
  },
  {
   "cell_type": "markdown",
   "metadata": {},
   "source": [
    "### Libraries:"
   ]
  },
  {
   "cell_type": "code",
   "execution_count": 1,
   "metadata": {
    "collapsed": false
   },
   "outputs": [],
   "source": [
    "import pandas as pd\n",
    "import numpy as np\n",
    "import matplotlib as mpl\n",
    "import matplotlib.pyplot as plt\n",
    "from mpl_toolkits.basemap import Basemap\n",
    "from matplotlib.patches import Polygon\n",
    "import matplotlib.cm as cmx\n",
    "import matplotlib.colors as colors\n",
    "import scipy\n",
    "%matplotlib inline\n",
    "\n",
    "#new imports for milestone 4\n",
    "import StringIO\n",
    "from IPython.display import Image\n",
    "import pydotplus\n",
    "from sklearn.tree import DecisionTreeClassifier, export_graphviz\n",
    "from sklearn.metrics import accuracy_score, f1_score, make_scorer"
   ]
  },
  {
   "cell_type": "code",
   "execution_count": 2,
   "metadata": {
    "collapsed": true
   },
   "outputs": [],
   "source": [
    "path = \"/home/ankit/anaconda2/pkgs/basemap-1.0.7-np111py27_0/lib/python2.7/site-packages/mpl_toolkits/basemap/data/\""
   ]
  },
  {
   "cell_type": "markdown",
   "metadata": {},
   "source": [
    "**<font size=6>Data Cleaning</font>**"
   ]
  },
  {
   "cell_type": "markdown",
   "metadata": {},
   "source": [
    "Some of the data files have fields that contain NAs for older time periods. In order to collapse the data sets into one file, all numerical data will be stored in float fields (integer fields do not support NA missing values). To do this, we first define a conversion dictionary that stores the numeric fields with lookups to the *float* data type."
   ]
  },
  {
   "cell_type": "code",
   "execution_count": 3,
   "metadata": {
    "collapsed": false
   },
   "outputs": [],
   "source": [
    "convert_float = dict([s, float] for s in\n",
    "                     ['loan_amnt', 'funded_amnt', 'funded_amnt_inv', 'installment',\n",
    "                      'annual_inc', 'dti', 'delinq_2yrs', 'inq_last_6mths', 'mths_since_last_delinq',                      \n",
    "                      'mths_since_last_record', 'open_acc', 'pub_rec', 'revol_bal', 'total_acc',\n",
    "                      'out_prncp', 'out_prncp_inv', 'total_pymnt', 'total_pymnt_inv', 'total_rec_prncp',\n",
    "                      'total_rec_int', 'total_rec_late_fee', 'recoveries', 'collection_recovery_fee',\n",
    "                      'last_pymnt_amnt', 'collections_12_mths_ex_med', 'mths_since_last_major_derog',\n",
    "                      'annual_inc_joint', 'dti_joint', 'acc_now_delinq', 'tot_coll_amt', 'tot_cur_bal', \n",
    "                      'open_acc_6m', 'open_il_6m', 'open_il_12m', 'open_il_24m', 'mths_since_rcnt_il', \n",
    "                      'total_bal_il', 'il_util', 'open_rv_12m', 'open_rv_24m', 'max_bal_bc', \n",
    "                      'all_util', 'total_rev_hi_lim', 'inq_fi', 'total_cu_tl', 'inq_last_12m', \n",
    "                      'acc_open_past_24mths', 'avg_cur_bal', 'bc_open_to_buy', 'bc_util',\n",
    "                      'chargeoff_within_12_mths', 'delinq_amnt', 'mo_sin_old_il_acct',\n",
    "                      'mo_sin_old_rev_tl_op', 'mo_sin_rcnt_rev_tl_op', 'mo_sin_rcnt_tl', 'mort_acc',\n",
    "                      'mths_since_recent_bc', 'mths_since_recent_bc_dlq', 'mths_since_recent_inq',\n",
    "                      'mths_since_recent_revol_delinq', 'num_accts_ever_120_pd', 'num_actv_bc_tl', \n",
    "                      'num_actv_rev_tl', 'num_bc_sats', 'num_bc_tl', 'num_il_tl', 'num_op_rev_tl',\n",
    "                      'num_rev_accts', 'num_rev_tl_bal_gt_0', 'num_sats', 'num_tl_120dpd_2m',\n",
    "                      'num_tl_30dpd', 'num_tl_90g_dpd_24m', 'num_tl_op_past_12m', 'pct_tl_nvr_dlq',\n",
    "                      'percent_bc_gt_75', 'pub_rec_bankruptcies', 'tax_liens', 'tot_hi_cred_lim',\n",
    "                      'total_bal_ex_mort', 'total_bc_limit', 'total_il_high_credit_limit'])"
   ]
  },
  {
   "cell_type": "markdown",
   "metadata": {},
   "source": [
    "We also define a dictionary of string fields, to handle situations where the inferred data type might be numeric even though the field should be read in as a string/object."
   ]
  },
  {
   "cell_type": "code",
   "execution_count": 4,
   "metadata": {
    "collapsed": true
   },
   "outputs": [],
   "source": [
    "convert_str = dict([s, str] for s in\n",
    "                    ['term', 'int_rate', 'grade', 'sub_grade', 'emp_title', 'emp_length', 'home_ownership', \n",
    "                     'verification_status', 'issue_d', 'loan_status', 'pymnt_plan', 'url', 'desc', \n",
    "                     'purpose', 'title', 'zip_code', 'addr_state', 'earliest_cr_line', 'revol_util', \n",
    "                     'initial_list_status', 'last_pymnt_d', 'next_pymnt_d', 'last_credit_pull_d',\n",
    "                     'policy_code', 'application_type', 'verification_status_joint'])"
   ]
  },
  {
   "cell_type": "markdown",
   "metadata": {},
   "source": [
    "We read the input data from the CSV data files using pandas *read_csv*. There is a blank row in the data header and there are two blank rows in the footer of each file. To allow the use of *skip_footer*, we use the python engine rather than the C engine. The first two columns (*id* and *member_id*) are unique and used to create a table index."
   ]
  },
  {
   "cell_type": "code",
   "execution_count": 5,
   "metadata": {
    "collapsed": false
   },
   "outputs": [],
   "source": [
    "data_2007_2011 = pd.read_csv(\"./data/LoanStats3a.csv\",\n",
    "                   skiprows=1,\n",
    "                   skip_footer=2,\n",
    "                   engine=\"python\",\n",
    "                   na_values=['NaN', 'nan'],\n",
    "                   converters=convert_str,\n",
    "                   index_col=[0,1])\n",
    "\n",
    "data_2014 = pd.read_csv(\"./data/LoanStats3b.csv\",\n",
    "                   skiprows=1,\n",
    "                   skip_footer=2,\n",
    "                   engine=\"python\",\n",
    "                   na_values=['NaN', 'nan'],\n",
    "                   converters=convert_str,\n",
    "                   index_col=[0,1])\n",
    "\n",
    "data_2015 = pd.read_csv(\"./data/LoanStats3c.csv\",\n",
    "                   skiprows=1,\n",
    "                   skip_footer=2,\n",
    "                   engine=\"python\",\n",
    "                   na_values=['NaN', 'nan'],\n",
    "                   converters=convert_str,\n",
    "                   index_col=[0,1])\n",
    "\n",
    "data = pd.read_csv(\"./data/LoanStats3d.csv\",\n",
    "                   skiprows=1,\n",
    "                   skip_footer=2,\n",
    "                   engine=\"python\",\n",
    "                   na_values=['NaN', 'nan'],\n",
    "                   converters=convert_str,\n",
    "                   index_col=[0,1])"
   ]
  },
  {
   "cell_type": "code",
   "execution_count": 6,
   "metadata": {
    "collapsed": false
   },
   "outputs": [
    {
     "name": "stdout",
     "output_type": "stream",
     "text": [
      "Data table dimensions 2007-2011: 42536 x 109\n",
      "Data table dimensions 2014: 188181 x 109\n",
      "Data table dimensions 2015: 235629 x 109\n",
      "Data table dimensions 2016: 421095 x 109\n"
     ]
    }
   ],
   "source": [
    "print \"Data table dimensions 2007-2011: %d x %d\" % data_2007_2011.shape\n",
    "\n",
    "print \"Data table dimensions 2014: %d x %d\" % data_2014.shape\n",
    " \n",
    "print \"Data table dimensions 2015: %d x %d\" % data_2015.shape\n",
    "\n",
    "print \"Data table dimensions 2016: %d x %d\" % data.shape"
   ]
  },
  {
   "cell_type": "code",
   "execution_count": 7,
   "metadata": {
    "collapsed": false
   },
   "outputs": [
    {
     "data": {
      "text/html": [
       "<div>\n",
       "<table border=\"1\" class=\"dataframe\">\n",
       "  <thead>\n",
       "    <tr style=\"text-align: right;\">\n",
       "      <th></th>\n",
       "      <th></th>\n",
       "      <th>loan_amnt</th>\n",
       "      <th>funded_amnt</th>\n",
       "      <th>funded_amnt_inv</th>\n",
       "      <th>term</th>\n",
       "      <th>int_rate</th>\n",
       "      <th>installment</th>\n",
       "      <th>grade</th>\n",
       "      <th>sub_grade</th>\n",
       "      <th>emp_title</th>\n",
       "      <th>emp_length</th>\n",
       "      <th>...</th>\n",
       "      <th>num_tl_90g_dpd_24m</th>\n",
       "      <th>num_tl_op_past_12m</th>\n",
       "      <th>pct_tl_nvr_dlq</th>\n",
       "      <th>percent_bc_gt_75</th>\n",
       "      <th>pub_rec_bankruptcies</th>\n",
       "      <th>tax_liens</th>\n",
       "      <th>tot_hi_cred_lim</th>\n",
       "      <th>total_bal_ex_mort</th>\n",
       "      <th>total_bc_limit</th>\n",
       "      <th>total_il_high_credit_limit</th>\n",
       "    </tr>\n",
       "    <tr>\n",
       "      <th>id</th>\n",
       "      <th>member_id</th>\n",
       "      <th></th>\n",
       "      <th></th>\n",
       "      <th></th>\n",
       "      <th></th>\n",
       "      <th></th>\n",
       "      <th></th>\n",
       "      <th></th>\n",
       "      <th></th>\n",
       "      <th></th>\n",
       "      <th></th>\n",
       "      <th></th>\n",
       "      <th></th>\n",
       "      <th></th>\n",
       "      <th></th>\n",
       "      <th></th>\n",
       "      <th></th>\n",
       "      <th></th>\n",
       "      <th></th>\n",
       "      <th></th>\n",
       "      <th></th>\n",
       "      <th></th>\n",
       "    </tr>\n",
       "  </thead>\n",
       "  <tbody>\n",
       "    <tr>\n",
       "      <th>68516507</th>\n",
       "      <th>73406314</th>\n",
       "      <td>14000</td>\n",
       "      <td>14000</td>\n",
       "      <td>14000</td>\n",
       "      <td>36 months</td>\n",
       "      <td>9.80%</td>\n",
       "      <td>450.43</td>\n",
       "      <td>B</td>\n",
       "      <td>B3</td>\n",
       "      <td>Master mechanic</td>\n",
       "      <td>4 years</td>\n",
       "      <td>...</td>\n",
       "      <td>0</td>\n",
       "      <td>2</td>\n",
       "      <td>100.0</td>\n",
       "      <td>0.0</td>\n",
       "      <td>0</td>\n",
       "      <td>0</td>\n",
       "      <td>531602</td>\n",
       "      <td>84039</td>\n",
       "      <td>34500</td>\n",
       "      <td>55842</td>\n",
       "    </tr>\n",
       "    <tr>\n",
       "      <th>68587652</th>\n",
       "      <th>73477494</th>\n",
       "      <td>25000</td>\n",
       "      <td>25000</td>\n",
       "      <td>25000</td>\n",
       "      <td>36 months</td>\n",
       "      <td>5.32%</td>\n",
       "      <td>752.87</td>\n",
       "      <td>A</td>\n",
       "      <td>A1</td>\n",
       "      <td>Director</td>\n",
       "      <td>1 year</td>\n",
       "      <td>...</td>\n",
       "      <td>0</td>\n",
       "      <td>1</td>\n",
       "      <td>100.0</td>\n",
       "      <td>0.0</td>\n",
       "      <td>0</td>\n",
       "      <td>0</td>\n",
       "      <td>512381</td>\n",
       "      <td>44786</td>\n",
       "      <td>44000</td>\n",
       "      <td>51081</td>\n",
       "    </tr>\n",
       "    <tr>\n",
       "      <th>68009401</th>\n",
       "      <th>72868139</th>\n",
       "      <td>16000</td>\n",
       "      <td>16000</td>\n",
       "      <td>16000</td>\n",
       "      <td>60 months</td>\n",
       "      <td>14.85%</td>\n",
       "      <td>379.39</td>\n",
       "      <td>C</td>\n",
       "      <td>C5</td>\n",
       "      <td>Bookkeeper/Accounting</td>\n",
       "      <td>10+ years</td>\n",
       "      <td>...</td>\n",
       "      <td>0</td>\n",
       "      <td>2</td>\n",
       "      <td>78.9</td>\n",
       "      <td>0.0</td>\n",
       "      <td>0</td>\n",
       "      <td>2</td>\n",
       "      <td>298100</td>\n",
       "      <td>31329</td>\n",
       "      <td>281300</td>\n",
       "      <td>13400</td>\n",
       "    </tr>\n",
       "    <tr>\n",
       "      <th>68416935</th>\n",
       "      <th>73306760</th>\n",
       "      <td>15000</td>\n",
       "      <td>15000</td>\n",
       "      <td>15000</td>\n",
       "      <td>36 months</td>\n",
       "      <td>9.80%</td>\n",
       "      <td>482.61</td>\n",
       "      <td>B</td>\n",
       "      <td>B3</td>\n",
       "      <td>Electronic Branch Manager</td>\n",
       "      <td>3 years</td>\n",
       "      <td>...</td>\n",
       "      <td>0</td>\n",
       "      <td>4</td>\n",
       "      <td>100.0</td>\n",
       "      <td>0.0</td>\n",
       "      <td>1</td>\n",
       "      <td>0</td>\n",
       "      <td>347470</td>\n",
       "      <td>53397</td>\n",
       "      <td>36100</td>\n",
       "      <td>47370</td>\n",
       "    </tr>\n",
       "    <tr>\n",
       "      <th>68357012</th>\n",
       "      <th>73246847</th>\n",
       "      <td>15000</td>\n",
       "      <td>15000</td>\n",
       "      <td>15000</td>\n",
       "      <td>36 months</td>\n",
       "      <td>8.49%</td>\n",
       "      <td>473.45</td>\n",
       "      <td>B</td>\n",
       "      <td>B1</td>\n",
       "      <td>Senior Associate</td>\n",
       "      <td>6 years</td>\n",
       "      <td>...</td>\n",
       "      <td>0</td>\n",
       "      <td>4</td>\n",
       "      <td>100.0</td>\n",
       "      <td>20.0</td>\n",
       "      <td>1</td>\n",
       "      <td>0</td>\n",
       "      <td>369112</td>\n",
       "      <td>27849</td>\n",
       "      <td>28200</td>\n",
       "      <td>21124</td>\n",
       "    </tr>\n",
       "  </tbody>\n",
       "</table>\n",
       "<p>5 rows × 109 columns</p>\n",
       "</div>"
      ],
      "text/plain": [
       "                    loan_amnt  funded_amnt  funded_amnt_inv        term  \\\n",
       "id       member_id                                                        \n",
       "68516507 73406314       14000        14000            14000   36 months   \n",
       "68587652 73477494       25000        25000            25000   36 months   \n",
       "68009401 72868139       16000        16000            16000   60 months   \n",
       "68416935 73306760       15000        15000            15000   36 months   \n",
       "68357012 73246847       15000        15000            15000   36 months   \n",
       "\n",
       "                   int_rate  installment grade sub_grade  \\\n",
       "id       member_id                                         \n",
       "68516507 73406314     9.80%       450.43     B        B3   \n",
       "68587652 73477494     5.32%       752.87     A        A1   \n",
       "68009401 72868139    14.85%       379.39     C        C5   \n",
       "68416935 73306760     9.80%       482.61     B        B3   \n",
       "68357012 73246847     8.49%       473.45     B        B1   \n",
       "\n",
       "                                    emp_title emp_length  \\\n",
       "id       member_id                                         \n",
       "68516507 73406314             Master mechanic    4 years   \n",
       "68587652 73477494                    Director     1 year   \n",
       "68009401 72868139       Bookkeeper/Accounting  10+ years   \n",
       "68416935 73306760   Electronic Branch Manager    3 years   \n",
       "68357012 73246847            Senior Associate    6 years   \n",
       "\n",
       "                              ...             num_tl_90g_dpd_24m  \\\n",
       "id       member_id            ...                                  \n",
       "68516507 73406314             ...                              0   \n",
       "68587652 73477494             ...                              0   \n",
       "68009401 72868139             ...                              0   \n",
       "68416935 73306760             ...                              0   \n",
       "68357012 73246847             ...                              0   \n",
       "\n",
       "                    num_tl_op_past_12m pct_tl_nvr_dlq percent_bc_gt_75  \\\n",
       "id       member_id                                                       \n",
       "68516507 73406314                    2          100.0              0.0   \n",
       "68587652 73477494                    1          100.0              0.0   \n",
       "68009401 72868139                    2           78.9              0.0   \n",
       "68416935 73306760                    4          100.0              0.0   \n",
       "68357012 73246847                    4          100.0             20.0   \n",
       "\n",
       "                   pub_rec_bankruptcies tax_liens tot_hi_cred_lim  \\\n",
       "id       member_id                                                  \n",
       "68516507 73406314                     0         0          531602   \n",
       "68587652 73477494                     0         0          512381   \n",
       "68009401 72868139                     0         2          298100   \n",
       "68416935 73306760                     1         0          347470   \n",
       "68357012 73246847                     1         0          369112   \n",
       "\n",
       "                   total_bal_ex_mort total_bc_limit total_il_high_credit_limit  \n",
       "id       member_id                                                              \n",
       "68516507 73406314              84039          34500                      55842  \n",
       "68587652 73477494              44786          44000                      51081  \n",
       "68009401 72868139              31329         281300                      13400  \n",
       "68416935 73306760              53397          36100                      47370  \n",
       "68357012 73246847              27849          28200                      21124  \n",
       "\n",
       "[5 rows x 109 columns]"
      ]
     },
     "execution_count": 7,
     "metadata": {},
     "output_type": "execute_result"
    }
   ],
   "source": [
    "data.head()"
   ]
  },
  {
   "cell_type": "code",
   "execution_count": 8,
   "metadata": {
    "collapsed": false
   },
   "outputs": [
    {
     "data": {
      "text/html": [
       "<div>\n",
       "<table border=\"1\" class=\"dataframe\">\n",
       "  <thead>\n",
       "    <tr style=\"text-align: right;\">\n",
       "      <th></th>\n",
       "      <th></th>\n",
       "      <th>loan_amnt</th>\n",
       "      <th>funded_amnt</th>\n",
       "      <th>funded_amnt_inv</th>\n",
       "      <th>term</th>\n",
       "      <th>int_rate</th>\n",
       "      <th>installment</th>\n",
       "      <th>grade</th>\n",
       "      <th>sub_grade</th>\n",
       "      <th>emp_title</th>\n",
       "      <th>emp_length</th>\n",
       "      <th>...</th>\n",
       "      <th>num_tl_90g_dpd_24m</th>\n",
       "      <th>num_tl_op_past_12m</th>\n",
       "      <th>pct_tl_nvr_dlq</th>\n",
       "      <th>percent_bc_gt_75</th>\n",
       "      <th>pub_rec_bankruptcies</th>\n",
       "      <th>tax_liens</th>\n",
       "      <th>tot_hi_cred_lim</th>\n",
       "      <th>total_bal_ex_mort</th>\n",
       "      <th>total_bc_limit</th>\n",
       "      <th>total_il_high_credit_limit</th>\n",
       "    </tr>\n",
       "    <tr>\n",
       "      <th>id</th>\n",
       "      <th>member_id</th>\n",
       "      <th></th>\n",
       "      <th></th>\n",
       "      <th></th>\n",
       "      <th></th>\n",
       "      <th></th>\n",
       "      <th></th>\n",
       "      <th></th>\n",
       "      <th></th>\n",
       "      <th></th>\n",
       "      <th></th>\n",
       "      <th></th>\n",
       "      <th></th>\n",
       "      <th></th>\n",
       "      <th></th>\n",
       "      <th></th>\n",
       "      <th></th>\n",
       "      <th></th>\n",
       "      <th></th>\n",
       "      <th></th>\n",
       "      <th></th>\n",
       "      <th></th>\n",
       "    </tr>\n",
       "  </thead>\n",
       "  <tbody>\n",
       "    <tr>\n",
       "      <th>38098114</th>\n",
       "      <th>40860827</th>\n",
       "      <td>15000</td>\n",
       "      <td>15000</td>\n",
       "      <td>15000</td>\n",
       "      <td>60 months</td>\n",
       "      <td>12.39%</td>\n",
       "      <td>336.64</td>\n",
       "      <td>C</td>\n",
       "      <td>C1</td>\n",
       "      <td>MANAGEMENT</td>\n",
       "      <td>10+ years</td>\n",
       "      <td>...</td>\n",
       "      <td>0</td>\n",
       "      <td>4</td>\n",
       "      <td>100.0</td>\n",
       "      <td>0.0</td>\n",
       "      <td>0</td>\n",
       "      <td>0</td>\n",
       "      <td>196500</td>\n",
       "      <td>149140</td>\n",
       "      <td>10000</td>\n",
       "      <td>12000</td>\n",
       "    </tr>\n",
       "    <tr>\n",
       "      <th>36805548</th>\n",
       "      <th>39558264</th>\n",
       "      <td>10400</td>\n",
       "      <td>10400</td>\n",
       "      <td>10400</td>\n",
       "      <td>36 months</td>\n",
       "      <td>6.99%</td>\n",
       "      <td>321.08</td>\n",
       "      <td>A</td>\n",
       "      <td>A3</td>\n",
       "      <td>Truck Driver Delivery Personel</td>\n",
       "      <td>8 years</td>\n",
       "      <td>...</td>\n",
       "      <td>0</td>\n",
       "      <td>4</td>\n",
       "      <td>83.3</td>\n",
       "      <td>14.3</td>\n",
       "      <td>0</td>\n",
       "      <td>0</td>\n",
       "      <td>179407</td>\n",
       "      <td>15030</td>\n",
       "      <td>13000</td>\n",
       "      <td>11325</td>\n",
       "    </tr>\n",
       "    <tr>\n",
       "      <th>37822187</th>\n",
       "      <th>40585251</th>\n",
       "      <td>9600</td>\n",
       "      <td>9600</td>\n",
       "      <td>9600</td>\n",
       "      <td>36 months</td>\n",
       "      <td>13.66%</td>\n",
       "      <td>326.53</td>\n",
       "      <td>C</td>\n",
       "      <td>C3</td>\n",
       "      <td>Admin Specialist</td>\n",
       "      <td>10+ years</td>\n",
       "      <td>...</td>\n",
       "      <td>0</td>\n",
       "      <td>3</td>\n",
       "      <td>100.0</td>\n",
       "      <td>60.0</td>\n",
       "      <td>0</td>\n",
       "      <td>0</td>\n",
       "      <td>52490</td>\n",
       "      <td>38566</td>\n",
       "      <td>21100</td>\n",
       "      <td>24890</td>\n",
       "    </tr>\n",
       "    <tr>\n",
       "      <th>37612354</th>\n",
       "      <th>40375473</th>\n",
       "      <td>12800</td>\n",
       "      <td>12800</td>\n",
       "      <td>12800</td>\n",
       "      <td>60 months</td>\n",
       "      <td>17.14%</td>\n",
       "      <td>319.08</td>\n",
       "      <td>D</td>\n",
       "      <td>D4</td>\n",
       "      <td>Senior Sales Professional</td>\n",
       "      <td>10+ years</td>\n",
       "      <td>...</td>\n",
       "      <td>0</td>\n",
       "      <td>0</td>\n",
       "      <td>76.9</td>\n",
       "      <td>100.0</td>\n",
       "      <td>0</td>\n",
       "      <td>0</td>\n",
       "      <td>368700</td>\n",
       "      <td>18007</td>\n",
       "      <td>4400</td>\n",
       "      <td>18000</td>\n",
       "    </tr>\n",
       "    <tr>\n",
       "      <th>37662224</th>\n",
       "      <th>40425321</th>\n",
       "      <td>7650</td>\n",
       "      <td>7650</td>\n",
       "      <td>7650</td>\n",
       "      <td>36 months</td>\n",
       "      <td>13.66%</td>\n",
       "      <td>260.20</td>\n",
       "      <td>C</td>\n",
       "      <td>C3</td>\n",
       "      <td>Technical Specialist</td>\n",
       "      <td>&lt; 1 year</td>\n",
       "      <td>...</td>\n",
       "      <td>0</td>\n",
       "      <td>2</td>\n",
       "      <td>100.0</td>\n",
       "      <td>100.0</td>\n",
       "      <td>0</td>\n",
       "      <td>0</td>\n",
       "      <td>82331</td>\n",
       "      <td>64426</td>\n",
       "      <td>4900</td>\n",
       "      <td>64031</td>\n",
       "    </tr>\n",
       "  </tbody>\n",
       "</table>\n",
       "<p>5 rows × 109 columns</p>\n",
       "</div>"
      ],
      "text/plain": [
       "                    loan_amnt  funded_amnt  funded_amnt_inv        term  \\\n",
       "id       member_id                                                        \n",
       "38098114 40860827       15000        15000            15000   60 months   \n",
       "36805548 39558264       10400        10400            10400   36 months   \n",
       "37822187 40585251        9600         9600             9600   36 months   \n",
       "37612354 40375473       12800        12800            12800   60 months   \n",
       "37662224 40425321        7650         7650             7650   36 months   \n",
       "\n",
       "                   int_rate  installment grade sub_grade  \\\n",
       "id       member_id                                         \n",
       "38098114 40860827    12.39%       336.64     C        C1   \n",
       "36805548 39558264     6.99%       321.08     A        A3   \n",
       "37822187 40585251    13.66%       326.53     C        C3   \n",
       "37612354 40375473    17.14%       319.08     D        D4   \n",
       "37662224 40425321    13.66%       260.20     C        C3   \n",
       "\n",
       "                                         emp_title emp_length  \\\n",
       "id       member_id                                              \n",
       "38098114 40860827                       MANAGEMENT  10+ years   \n",
       "36805548 39558264   Truck Driver Delivery Personel    8 years   \n",
       "37822187 40585251                 Admin Specialist  10+ years   \n",
       "37612354 40375473        Senior Sales Professional  10+ years   \n",
       "37662224 40425321             Technical Specialist   < 1 year   \n",
       "\n",
       "                              ...             num_tl_90g_dpd_24m  \\\n",
       "id       member_id            ...                                  \n",
       "38098114 40860827             ...                              0   \n",
       "36805548 39558264             ...                              0   \n",
       "37822187 40585251             ...                              0   \n",
       "37612354 40375473             ...                              0   \n",
       "37662224 40425321             ...                              0   \n",
       "\n",
       "                    num_tl_op_past_12m pct_tl_nvr_dlq percent_bc_gt_75  \\\n",
       "id       member_id                                                       \n",
       "38098114 40860827                    4          100.0              0.0   \n",
       "36805548 39558264                    4           83.3             14.3   \n",
       "37822187 40585251                    3          100.0             60.0   \n",
       "37612354 40375473                    0           76.9            100.0   \n",
       "37662224 40425321                    2          100.0            100.0   \n",
       "\n",
       "                   pub_rec_bankruptcies tax_liens tot_hi_cred_lim  \\\n",
       "id       member_id                                                  \n",
       "38098114 40860827                     0         0          196500   \n",
       "36805548 39558264                     0         0          179407   \n",
       "37822187 40585251                     0         0           52490   \n",
       "37612354 40375473                     0         0          368700   \n",
       "37662224 40425321                     0         0           82331   \n",
       "\n",
       "                   total_bal_ex_mort total_bc_limit total_il_high_credit_limit  \n",
       "id       member_id                                                              \n",
       "38098114 40860827             149140          10000                      12000  \n",
       "36805548 39558264              15030          13000                      11325  \n",
       "37822187 40585251              38566          21100                      24890  \n",
       "37612354 40375473              18007           4400                      18000  \n",
       "37662224 40425321              64426           4900                      64031  \n",
       "\n",
       "[5 rows x 109 columns]"
      ]
     },
     "execution_count": 8,
     "metadata": {},
     "output_type": "execute_result"
    }
   ],
   "source": [
    "data_2015.head()"
   ]
  },
  {
   "cell_type": "markdown",
   "metadata": {},
   "source": [
    "Check the count of fields by data type:"
   ]
  },
  {
   "cell_type": "code",
   "execution_count": 9,
   "metadata": {
    "collapsed": false
   },
   "outputs": [
    {
     "data": {
      "text/html": [
       "<div>\n",
       "<table border=\"1\" class=\"dataframe\">\n",
       "  <thead>\n",
       "    <tr style=\"text-align: right;\">\n",
       "      <th></th>\n",
       "      <th></th>\n",
       "      <th>loan_amnt</th>\n",
       "      <th>funded_amnt</th>\n",
       "      <th>funded_amnt_inv</th>\n",
       "      <th>term</th>\n",
       "      <th>int_rate</th>\n",
       "      <th>installment</th>\n",
       "      <th>grade</th>\n",
       "      <th>sub_grade</th>\n",
       "      <th>emp_title</th>\n",
       "      <th>emp_length</th>\n",
       "      <th>...</th>\n",
       "      <th>num_tl_90g_dpd_24m</th>\n",
       "      <th>num_tl_op_past_12m</th>\n",
       "      <th>pct_tl_nvr_dlq</th>\n",
       "      <th>percent_bc_gt_75</th>\n",
       "      <th>pub_rec_bankruptcies</th>\n",
       "      <th>tax_liens</th>\n",
       "      <th>tot_hi_cred_lim</th>\n",
       "      <th>total_bal_ex_mort</th>\n",
       "      <th>total_bc_limit</th>\n",
       "      <th>total_il_high_credit_limit</th>\n",
       "    </tr>\n",
       "    <tr>\n",
       "      <th>id</th>\n",
       "      <th>member_id</th>\n",
       "      <th></th>\n",
       "      <th></th>\n",
       "      <th></th>\n",
       "      <th></th>\n",
       "      <th></th>\n",
       "      <th></th>\n",
       "      <th></th>\n",
       "      <th></th>\n",
       "      <th></th>\n",
       "      <th></th>\n",
       "      <th></th>\n",
       "      <th></th>\n",
       "      <th></th>\n",
       "      <th></th>\n",
       "      <th></th>\n",
       "      <th></th>\n",
       "      <th></th>\n",
       "      <th></th>\n",
       "      <th></th>\n",
       "      <th></th>\n",
       "      <th></th>\n",
       "    </tr>\n",
       "  </thead>\n",
       "  <tbody>\n",
       "    <tr>\n",
       "      <th>10159611</th>\n",
       "      <th>12011228</th>\n",
       "      <td>10000</td>\n",
       "      <td>10000</td>\n",
       "      <td>10000.0</td>\n",
       "      <td>36 months</td>\n",
       "      <td>9.67%</td>\n",
       "      <td>321.13</td>\n",
       "      <td>B</td>\n",
       "      <td>B1</td>\n",
       "      <td>Registered Nurse</td>\n",
       "      <td>7 years</td>\n",
       "      <td>...</td>\n",
       "      <td>0.0</td>\n",
       "      <td>1.0</td>\n",
       "      <td>77.3</td>\n",
       "      <td>66.7</td>\n",
       "      <td>0</td>\n",
       "      <td>0</td>\n",
       "      <td>58486.0</td>\n",
       "      <td>39143.0</td>\n",
       "      <td>9200.0</td>\n",
       "      <td>36186.0</td>\n",
       "    </tr>\n",
       "    <tr>\n",
       "      <th>10129477</th>\n",
       "      <th>11981093</th>\n",
       "      <td>14000</td>\n",
       "      <td>14000</td>\n",
       "      <td>14000.0</td>\n",
       "      <td>36 months</td>\n",
       "      <td>12.85%</td>\n",
       "      <td>470.71</td>\n",
       "      <td>B</td>\n",
       "      <td>B4</td>\n",
       "      <td>Assistant Director - Human Resources</td>\n",
       "      <td>4 years</td>\n",
       "      <td>...</td>\n",
       "      <td>0.0</td>\n",
       "      <td>0.0</td>\n",
       "      <td>78.6</td>\n",
       "      <td>100.0</td>\n",
       "      <td>1</td>\n",
       "      <td>0</td>\n",
       "      <td>31840.0</td>\n",
       "      <td>17672.0</td>\n",
       "      <td>3900.0</td>\n",
       "      <td>27340.0</td>\n",
       "    </tr>\n",
       "    <tr>\n",
       "      <th>10149342</th>\n",
       "      <th>12000897</th>\n",
       "      <td>27050</td>\n",
       "      <td>27050</td>\n",
       "      <td>27050.0</td>\n",
       "      <td>36 months</td>\n",
       "      <td>10.99%</td>\n",
       "      <td>885.46</td>\n",
       "      <td>B</td>\n",
       "      <td>B2</td>\n",
       "      <td>Team Leadern Customer Ops &amp; Systems</td>\n",
       "      <td>10+ years</td>\n",
       "      <td>...</td>\n",
       "      <td>0.0</td>\n",
       "      <td>1.0</td>\n",
       "      <td>100.0</td>\n",
       "      <td>25.0</td>\n",
       "      <td>0</td>\n",
       "      <td>0</td>\n",
       "      <td>138554.0</td>\n",
       "      <td>70186.0</td>\n",
       "      <td>35700.0</td>\n",
       "      <td>33054.0</td>\n",
       "    </tr>\n",
       "    <tr>\n",
       "      <th>10139658</th>\n",
       "      <th>11991209</th>\n",
       "      <td>12000</td>\n",
       "      <td>12000</td>\n",
       "      <td>12000.0</td>\n",
       "      <td>36 months</td>\n",
       "      <td>13.53%</td>\n",
       "      <td>407.40</td>\n",
       "      <td>B</td>\n",
       "      <td>B5</td>\n",
       "      <td>On road manager</td>\n",
       "      <td>10+ years</td>\n",
       "      <td>...</td>\n",
       "      <td>0.0</td>\n",
       "      <td>2.0</td>\n",
       "      <td>81.2</td>\n",
       "      <td>33.3</td>\n",
       "      <td>0</td>\n",
       "      <td>0</td>\n",
       "      <td>18130.0</td>\n",
       "      <td>13605.0</td>\n",
       "      <td>7000.0</td>\n",
       "      <td>10030.0</td>\n",
       "    </tr>\n",
       "    <tr>\n",
       "      <th>10159548</th>\n",
       "      <th>12011167</th>\n",
       "      <td>15000</td>\n",
       "      <td>15000</td>\n",
       "      <td>15000.0</td>\n",
       "      <td>36 months</td>\n",
       "      <td>8.90%</td>\n",
       "      <td>476.30</td>\n",
       "      <td>A</td>\n",
       "      <td>A5</td>\n",
       "      <td>aircraft maintenance engineer</td>\n",
       "      <td>2 years</td>\n",
       "      <td>...</td>\n",
       "      <td>0.0</td>\n",
       "      <td>0.0</td>\n",
       "      <td>89.3</td>\n",
       "      <td>66.7</td>\n",
       "      <td>0</td>\n",
       "      <td>0</td>\n",
       "      <td>288195.0</td>\n",
       "      <td>39448.0</td>\n",
       "      <td>14200.0</td>\n",
       "      <td>33895.0</td>\n",
       "    </tr>\n",
       "  </tbody>\n",
       "</table>\n",
       "<p>5 rows × 109 columns</p>\n",
       "</div>"
      ],
      "text/plain": [
       "                    loan_amnt  funded_amnt  funded_amnt_inv        term  \\\n",
       "id       member_id                                                        \n",
       "10159611 12011228       10000        10000          10000.0   36 months   \n",
       "10129477 11981093       14000        14000          14000.0   36 months   \n",
       "10149342 12000897       27050        27050          27050.0   36 months   \n",
       "10139658 11991209       12000        12000          12000.0   36 months   \n",
       "10159548 12011167       15000        15000          15000.0   36 months   \n",
       "\n",
       "                   int_rate  installment grade sub_grade  \\\n",
       "id       member_id                                         \n",
       "10159611 12011228     9.67%       321.13     B        B1   \n",
       "10129477 11981093    12.85%       470.71     B        B4   \n",
       "10149342 12000897    10.99%       885.46     B        B2   \n",
       "10139658 11991209    13.53%       407.40     B        B5   \n",
       "10159548 12011167     8.90%       476.30     A        A5   \n",
       "\n",
       "                                               emp_title emp_length  \\\n",
       "id       member_id                                                    \n",
       "10159611 12011228                       Registered Nurse    7 years   \n",
       "10129477 11981093   Assistant Director - Human Resources    4 years   \n",
       "10149342 12000897    Team Leadern Customer Ops & Systems  10+ years   \n",
       "10139658 11991209                        On road manager  10+ years   \n",
       "10159548 12011167          aircraft maintenance engineer    2 years   \n",
       "\n",
       "                              ...             num_tl_90g_dpd_24m  \\\n",
       "id       member_id            ...                                  \n",
       "10159611 12011228             ...                            0.0   \n",
       "10129477 11981093             ...                            0.0   \n",
       "10149342 12000897             ...                            0.0   \n",
       "10139658 11991209             ...                            0.0   \n",
       "10159548 12011167             ...                            0.0   \n",
       "\n",
       "                    num_tl_op_past_12m pct_tl_nvr_dlq percent_bc_gt_75  \\\n",
       "id       member_id                                                       \n",
       "10159611 12011228                  1.0           77.3             66.7   \n",
       "10129477 11981093                  0.0           78.6            100.0   \n",
       "10149342 12000897                  1.0          100.0             25.0   \n",
       "10139658 11991209                  2.0           81.2             33.3   \n",
       "10159548 12011167                  0.0           89.3             66.7   \n",
       "\n",
       "                   pub_rec_bankruptcies tax_liens tot_hi_cred_lim  \\\n",
       "id       member_id                                                  \n",
       "10159611 12011228                     0         0         58486.0   \n",
       "10129477 11981093                     1         0         31840.0   \n",
       "10149342 12000897                     0         0        138554.0   \n",
       "10139658 11991209                     0         0         18130.0   \n",
       "10159548 12011167                     0         0        288195.0   \n",
       "\n",
       "                   total_bal_ex_mort total_bc_limit total_il_high_credit_limit  \n",
       "id       member_id                                                              \n",
       "10159611 12011228            39143.0         9200.0                    36186.0  \n",
       "10129477 11981093            17672.0         3900.0                    27340.0  \n",
       "10149342 12000897            70186.0        35700.0                    33054.0  \n",
       "10139658 11991209            13605.0         7000.0                    10030.0  \n",
       "10159548 12011167            39448.0        14200.0                    33895.0  \n",
       "\n",
       "[5 rows x 109 columns]"
      ]
     },
     "execution_count": 9,
     "metadata": {},
     "output_type": "execute_result"
    }
   ],
   "source": [
    "data_2014.head()"
   ]
  },
  {
   "cell_type": "code",
   "execution_count": 10,
   "metadata": {
    "collapsed": false
   },
   "outputs": [
    {
     "data": {
      "text/html": [
       "<div>\n",
       "<table border=\"1\" class=\"dataframe\">\n",
       "  <thead>\n",
       "    <tr style=\"text-align: right;\">\n",
       "      <th></th>\n",
       "      <th></th>\n",
       "      <th>loan_amnt</th>\n",
       "      <th>funded_amnt</th>\n",
       "      <th>funded_amnt_inv</th>\n",
       "      <th>term</th>\n",
       "      <th>int_rate</th>\n",
       "      <th>installment</th>\n",
       "      <th>grade</th>\n",
       "      <th>sub_grade</th>\n",
       "      <th>emp_title</th>\n",
       "      <th>emp_length</th>\n",
       "      <th>...</th>\n",
       "      <th>num_tl_90g_dpd_24m</th>\n",
       "      <th>num_tl_op_past_12m</th>\n",
       "      <th>pct_tl_nvr_dlq</th>\n",
       "      <th>percent_bc_gt_75</th>\n",
       "      <th>pub_rec_bankruptcies</th>\n",
       "      <th>tax_liens</th>\n",
       "      <th>tot_hi_cred_lim</th>\n",
       "      <th>total_bal_ex_mort</th>\n",
       "      <th>total_bc_limit</th>\n",
       "      <th>total_il_high_credit_limit</th>\n",
       "    </tr>\n",
       "    <tr>\n",
       "      <th>id</th>\n",
       "      <th>member_id</th>\n",
       "      <th></th>\n",
       "      <th></th>\n",
       "      <th></th>\n",
       "      <th></th>\n",
       "      <th></th>\n",
       "      <th></th>\n",
       "      <th></th>\n",
       "      <th></th>\n",
       "      <th></th>\n",
       "      <th></th>\n",
       "      <th></th>\n",
       "      <th></th>\n",
       "      <th></th>\n",
       "      <th></th>\n",
       "      <th></th>\n",
       "      <th></th>\n",
       "      <th></th>\n",
       "      <th></th>\n",
       "      <th></th>\n",
       "      <th></th>\n",
       "      <th></th>\n",
       "    </tr>\n",
       "  </thead>\n",
       "  <tbody>\n",
       "    <tr>\n",
       "      <th>1077501</th>\n",
       "      <th>1296599.0</th>\n",
       "      <td>5000.0</td>\n",
       "      <td>5000.0</td>\n",
       "      <td>4975.0</td>\n",
       "      <td>36 months</td>\n",
       "      <td>10.65%</td>\n",
       "      <td>162.87</td>\n",
       "      <td>B</td>\n",
       "      <td>B2</td>\n",
       "      <td>NaN</td>\n",
       "      <td>10+ years</td>\n",
       "      <td>...</td>\n",
       "      <td>NaN</td>\n",
       "      <td>NaN</td>\n",
       "      <td>NaN</td>\n",
       "      <td>NaN</td>\n",
       "      <td>0.0</td>\n",
       "      <td>0.0</td>\n",
       "      <td>NaN</td>\n",
       "      <td>NaN</td>\n",
       "      <td>NaN</td>\n",
       "      <td>NaN</td>\n",
       "    </tr>\n",
       "    <tr>\n",
       "      <th>1077430</th>\n",
       "      <th>1314167.0</th>\n",
       "      <td>2500.0</td>\n",
       "      <td>2500.0</td>\n",
       "      <td>2500.0</td>\n",
       "      <td>60 months</td>\n",
       "      <td>15.27%</td>\n",
       "      <td>59.83</td>\n",
       "      <td>C</td>\n",
       "      <td>C4</td>\n",
       "      <td>Ryder</td>\n",
       "      <td>&lt; 1 year</td>\n",
       "      <td>...</td>\n",
       "      <td>NaN</td>\n",
       "      <td>NaN</td>\n",
       "      <td>NaN</td>\n",
       "      <td>NaN</td>\n",
       "      <td>0.0</td>\n",
       "      <td>0.0</td>\n",
       "      <td>NaN</td>\n",
       "      <td>NaN</td>\n",
       "      <td>NaN</td>\n",
       "      <td>NaN</td>\n",
       "    </tr>\n",
       "    <tr>\n",
       "      <th>1077175</th>\n",
       "      <th>1313524.0</th>\n",
       "      <td>2400.0</td>\n",
       "      <td>2400.0</td>\n",
       "      <td>2400.0</td>\n",
       "      <td>36 months</td>\n",
       "      <td>15.96%</td>\n",
       "      <td>84.33</td>\n",
       "      <td>C</td>\n",
       "      <td>C5</td>\n",
       "      <td>NaN</td>\n",
       "      <td>10+ years</td>\n",
       "      <td>...</td>\n",
       "      <td>NaN</td>\n",
       "      <td>NaN</td>\n",
       "      <td>NaN</td>\n",
       "      <td>NaN</td>\n",
       "      <td>0.0</td>\n",
       "      <td>0.0</td>\n",
       "      <td>NaN</td>\n",
       "      <td>NaN</td>\n",
       "      <td>NaN</td>\n",
       "      <td>NaN</td>\n",
       "    </tr>\n",
       "    <tr>\n",
       "      <th>1076863</th>\n",
       "      <th>1277178.0</th>\n",
       "      <td>10000.0</td>\n",
       "      <td>10000.0</td>\n",
       "      <td>10000.0</td>\n",
       "      <td>36 months</td>\n",
       "      <td>13.49%</td>\n",
       "      <td>339.31</td>\n",
       "      <td>C</td>\n",
       "      <td>C1</td>\n",
       "      <td>AIR RESOURCES BOARD</td>\n",
       "      <td>10+ years</td>\n",
       "      <td>...</td>\n",
       "      <td>NaN</td>\n",
       "      <td>NaN</td>\n",
       "      <td>NaN</td>\n",
       "      <td>NaN</td>\n",
       "      <td>0.0</td>\n",
       "      <td>0.0</td>\n",
       "      <td>NaN</td>\n",
       "      <td>NaN</td>\n",
       "      <td>NaN</td>\n",
       "      <td>NaN</td>\n",
       "    </tr>\n",
       "    <tr>\n",
       "      <th>1075358</th>\n",
       "      <th>1311748.0</th>\n",
       "      <td>3000.0</td>\n",
       "      <td>3000.0</td>\n",
       "      <td>3000.0</td>\n",
       "      <td>60 months</td>\n",
       "      <td>12.69%</td>\n",
       "      <td>67.79</td>\n",
       "      <td>B</td>\n",
       "      <td>B5</td>\n",
       "      <td>University Medical Group</td>\n",
       "      <td>1 year</td>\n",
       "      <td>...</td>\n",
       "      <td>NaN</td>\n",
       "      <td>NaN</td>\n",
       "      <td>NaN</td>\n",
       "      <td>NaN</td>\n",
       "      <td>0.0</td>\n",
       "      <td>0.0</td>\n",
       "      <td>NaN</td>\n",
       "      <td>NaN</td>\n",
       "      <td>NaN</td>\n",
       "      <td>NaN</td>\n",
       "    </tr>\n",
       "  </tbody>\n",
       "</table>\n",
       "<p>5 rows × 109 columns</p>\n",
       "</div>"
      ],
      "text/plain": [
       "                   loan_amnt  funded_amnt  funded_amnt_inv        term  \\\n",
       "id      member_id                                                        \n",
       "1077501 1296599.0     5000.0       5000.0           4975.0   36 months   \n",
       "1077430 1314167.0     2500.0       2500.0           2500.0   60 months   \n",
       "1077175 1313524.0     2400.0       2400.0           2400.0   36 months   \n",
       "1076863 1277178.0    10000.0      10000.0          10000.0   36 months   \n",
       "1075358 1311748.0     3000.0       3000.0           3000.0   60 months   \n",
       "\n",
       "                  int_rate  installment grade sub_grade  \\\n",
       "id      member_id                                         \n",
       "1077501 1296599.0   10.65%       162.87     B        B2   \n",
       "1077430 1314167.0   15.27%        59.83     C        C4   \n",
       "1077175 1313524.0   15.96%        84.33     C        C5   \n",
       "1076863 1277178.0   13.49%       339.31     C        C1   \n",
       "1075358 1311748.0   12.69%        67.79     B        B5   \n",
       "\n",
       "                                  emp_title emp_length  \\\n",
       "id      member_id                                        \n",
       "1077501 1296599.0                       NaN  10+ years   \n",
       "1077430 1314167.0                     Ryder   < 1 year   \n",
       "1077175 1313524.0                       NaN  10+ years   \n",
       "1076863 1277178.0       AIR RESOURCES BOARD  10+ years   \n",
       "1075358 1311748.0  University Medical Group     1 year   \n",
       "\n",
       "                             ...             num_tl_90g_dpd_24m  \\\n",
       "id      member_id            ...                                  \n",
       "1077501 1296599.0            ...                            NaN   \n",
       "1077430 1314167.0            ...                            NaN   \n",
       "1077175 1313524.0            ...                            NaN   \n",
       "1076863 1277178.0            ...                            NaN   \n",
       "1075358 1311748.0            ...                            NaN   \n",
       "\n",
       "                   num_tl_op_past_12m pct_tl_nvr_dlq percent_bc_gt_75  \\\n",
       "id      member_id                                                       \n",
       "1077501 1296599.0                 NaN            NaN              NaN   \n",
       "1077430 1314167.0                 NaN            NaN              NaN   \n",
       "1077175 1313524.0                 NaN            NaN              NaN   \n",
       "1076863 1277178.0                 NaN            NaN              NaN   \n",
       "1075358 1311748.0                 NaN            NaN              NaN   \n",
       "\n",
       "                  pub_rec_bankruptcies tax_liens tot_hi_cred_lim  \\\n",
       "id      member_id                                                  \n",
       "1077501 1296599.0                  0.0       0.0             NaN   \n",
       "1077430 1314167.0                  0.0       0.0             NaN   \n",
       "1077175 1313524.0                  0.0       0.0             NaN   \n",
       "1076863 1277178.0                  0.0       0.0             NaN   \n",
       "1075358 1311748.0                  0.0       0.0             NaN   \n",
       "\n",
       "                  total_bal_ex_mort total_bc_limit total_il_high_credit_limit  \n",
       "id      member_id                                                              \n",
       "1077501 1296599.0               NaN            NaN                        NaN  \n",
       "1077430 1314167.0               NaN            NaN                        NaN  \n",
       "1077175 1313524.0               NaN            NaN                        NaN  \n",
       "1076863 1277178.0               NaN            NaN                        NaN  \n",
       "1075358 1311748.0               NaN            NaN                        NaN  \n",
       "\n",
       "[5 rows x 109 columns]"
      ]
     },
     "execution_count": 10,
     "metadata": {},
     "output_type": "execute_result"
    }
   ],
   "source": [
    "data_2007_2011.head()"
   ]
  },
  {
   "cell_type": "code",
   "execution_count": 11,
   "metadata": {
    "collapsed": false
   },
   "outputs": [
    {
     "name": "stdout",
     "output_type": "stream",
     "text": [
      "float64    83\n",
      "object     26\n",
      "dtype: int64\n",
      "\n",
      "float64    69\n",
      "object     26\n",
      "int64      14\n",
      "dtype: int64\n",
      "\n",
      "float64    43\n",
      "int64      40\n",
      "object     26\n",
      "dtype: int64\n",
      "\n"
     ]
    },
    {
     "data": {
      "text/plain": [
       "float64    43\n",
       "int64      40\n",
       "object     26\n",
       "dtype: int64"
      ]
     },
     "execution_count": 11,
     "metadata": {},
     "output_type": "execute_result"
    }
   ],
   "source": [
    "print data_2007_2011.dtypes.value_counts()\n",
    "print\n",
    "print data_2014.dtypes.value_counts()\n",
    "print\n",
    "print data_2015.dtypes.value_counts()\n",
    "print\n",
    "data.dtypes.value_counts()"
   ]
  },
  {
   "cell_type": "markdown",
   "metadata": {},
   "source": [
    "Depending on the specific dataset used, the numeric values may be read in as integers. For best performance and to enable mergining of the datasets, we convert those fields to floats (which allow NaN values):"
   ]
  },
  {
   "cell_type": "code",
   "execution_count": 12,
   "metadata": {
    "collapsed": false
   },
   "outputs": [],
   "source": [
    "for k, v in convert_float.items():\n",
    "    data_2007_2011[k] = data_2007_2011[k].astype(v)\n",
    "    data_2014[k] = data_2014[k].astype(v)\n",
    "    data_2015[k] = data_2015[k].astype(v)\n",
    "    data[k] = data[k].astype(v)"
   ]
  },
  {
   "cell_type": "markdown",
   "metadata": {},
   "source": [
    "Checking the data types after the float conversion:"
   ]
  },
  {
   "cell_type": "code",
   "execution_count": 13,
   "metadata": {
    "collapsed": false
   },
   "outputs": [
    {
     "name": "stdout",
     "output_type": "stream",
     "text": [
      "float64    83\n",
      "object     26\n",
      "dtype: int64\n",
      "\n",
      "float64    83\n",
      "object     26\n",
      "dtype: int64\n",
      "\n",
      "float64    83\n",
      "object     26\n",
      "dtype: int64\n",
      "\n"
     ]
    },
    {
     "data": {
      "text/plain": [
       "float64    83\n",
       "object     26\n",
       "dtype: int64"
      ]
     },
     "execution_count": 13,
     "metadata": {},
     "output_type": "execute_result"
    }
   ],
   "source": [
    "print data_2007_2011.dtypes.value_counts()\n",
    "print\n",
    "print data_2014.dtypes.value_counts()\n",
    "print\n",
    "print data_2015.dtypes.value_counts()\n",
    "print\n",
    "data.dtypes.value_counts()"
   ]
  },
  {
   "cell_type": "markdown",
   "metadata": {},
   "source": [
    "The object fields need some more processing. First, we list out those fields:"
   ]
  },
  {
   "cell_type": "code",
   "execution_count": 14,
   "metadata": {
    "collapsed": false
   },
   "outputs": [
    {
     "data": {
      "text/plain": [
       "term                         object\n",
       "int_rate                     object\n",
       "grade                        object\n",
       "sub_grade                    object\n",
       "emp_title                    object\n",
       "emp_length                   object\n",
       "home_ownership               object\n",
       "verification_status          object\n",
       "issue_d                      object\n",
       "loan_status                  object\n",
       "pymnt_plan                   object\n",
       "url                          object\n",
       "desc                         object\n",
       "purpose                      object\n",
       "title                        object\n",
       "zip_code                     object\n",
       "addr_state                   object\n",
       "earliest_cr_line             object\n",
       "revol_util                   object\n",
       "initial_list_status          object\n",
       "last_pymnt_d                 object\n",
       "next_pymnt_d                 object\n",
       "last_credit_pull_d           object\n",
       "policy_code                  object\n",
       "application_type             object\n",
       "verification_status_joint    object\n",
       "dtype: object"
      ]
     },
     "execution_count": 14,
     "metadata": {},
     "output_type": "execute_result"
    }
   ],
   "source": [
    "data.dtypes[data.dtypes==\"object\"]\n",
    "data_2007_2011.dtypes[data_2007_2011.dtypes==\"object\"]\n",
    "data_2014.dtypes[data_2014.dtypes==\"object\"]\n",
    "data_2015.dtypes[data_2015.dtypes==\"object\"]"
   ]
  },
  {
   "cell_type": "markdown",
   "metadata": {},
   "source": [
    "There are 5 object fields that contain dates in the format *YYYY-MMM* (e.g. '2010-Jan'). We parse those to return datetime fields, which are more easily input into time series models or plotted in charts."
   ]
  },
  {
   "cell_type": "code",
   "execution_count": 15,
   "metadata": {
    "collapsed": false
   },
   "outputs": [],
   "source": [
    "data.issue_d = pd.to_datetime(data.issue_d, errors=\"coerce\")\n",
    "data.last_pymnt_d = pd.to_datetime(data.last_pymnt_d, errors=\"coerce\")\n",
    "data.next_pymnt_d = pd.to_datetime(data.next_pymnt_d, errors=\"coerce\")\n",
    "data.last_credit_pull_d = pd.to_datetime(data.last_credit_pull_d, errors=\"coerce\")\n",
    "data.earliest_cr_line = pd.to_datetime(data.earliest_cr_line, errors=\"coerce\")\n",
    "\n",
    "data_2007_2011.issue_d = pd.to_datetime(data_2007_2011.issue_d, errors=\"coerce\")\n",
    "data_2007_2011.last_pymnt_d = pd.to_datetime(data_2007_2011.last_pymnt_d, errors=\"coerce\")\n",
    "data_2007_2011.next_pymnt_d = pd.to_datetime(data_2007_2011.next_pymnt_d, errors=\"coerce\")\n",
    "data_2007_2011.last_credit_pull_d = pd.to_datetime(data_2007_2011.last_credit_pull_d, errors=\"coerce\")\n",
    "data_2007_2011.earliest_cr_line = pd.to_datetime(data_2007_2011.earliest_cr_line, errors=\"coerce\")\n",
    "\n",
    "data_2014.issue_d = pd.to_datetime(data_2014.issue_d, errors=\"coerce\")\n",
    "data_2014.last_pymnt_d = pd.to_datetime(data_2014.last_pymnt_d, errors=\"coerce\")\n",
    "data_2014.next_pymnt_d = pd.to_datetime(data_2014.next_pymnt_d, errors=\"coerce\")\n",
    "data_2014.last_credit_pull_d = pd.to_datetime(data_2014.last_credit_pull_d, errors=\"coerce\")\n",
    "data_2014.earliest_cr_line = pd.to_datetime(data_2014.earliest_cr_line, errors=\"coerce\")\n",
    "\n",
    "data_2015.issue_d = pd.to_datetime(data_2015.issue_d, errors=\"coerce\")\n",
    "data_2015.last_pymnt_d = pd.to_datetime(data_2015.last_pymnt_d, errors=\"coerce\")\n",
    "data_2015.next_pymnt_d = pd.to_datetime(data_2015.next_pymnt_d, errors=\"coerce\")\n",
    "data_2015.last_credit_pull_d = pd.to_datetime(data_2015.last_credit_pull_d, errors=\"coerce\")\n",
    "data_2015.earliest_cr_line = pd.to_datetime(data_2015.earliest_cr_line, errors=\"coerce\")"
   ]
  },
  {
   "cell_type": "markdown",
   "metadata": {},
   "source": [
    "Many of the remaining fields contain categorical data. We use the pandas *category* data type to store the data more efficiently."
   ]
  },
  {
   "cell_type": "code",
   "execution_count": 16,
   "metadata": {
    "collapsed": false
   },
   "outputs": [],
   "source": [
    "data.term = pd.Categorical(data.term, categories= [\" 36 months\", \" 60 months\", \"None\"])\n",
    "data.grade = pd.Categorical(data.grade, categories=[\"A\", \"B\", \"C\", \"D\", \"E\", \"F\", \"G\", \"None\"])\n",
    "data.sub_grade = pd.Categorical(data.sub_grade, categories=[\"A1\", \"A2\", \"A3\", \"A4\", \"A5\",\n",
    "                                                            \"B1\", \"B2\", \"B3\", \"B4\", \"B5\", \n",
    "                                                            \"C1\", \"C2\", \"C3\", \"C4\", \"C5\",\n",
    "                                                            \"D1\", \"D2\", \"D3\", \"D4\", \"D5\",\n",
    "                                                            \"E1\", \"E2\", \"E3\", \"E4\", \"E5\",\n",
    "                                                            \"F1\", \"F2\", \"F3\", \"F4\", \"F5\",\n",
    "                                                            \"G1\", \"G2\", \"G3\", \"G4\", \"G5\",\n",
    "                                                            \"None\"])\n",
    "data.home_ownership = pd.Categorical(data.home_ownership.str.title(), categories=[\"Own\", \"Mortgage\", \"Rent\", \"Any\", \"Other\", \"None\"])\n",
    "data.emp_length = pd.Categorical(data.emp_length, categories=[\"< 1 year\", \"1 year\", \"2 years\", \"3 years\",\n",
    "                                                              \"4 years\", \"5 years\", \"6 years\", \"7 years\",\n",
    "                                                              \"8 years\", \"9 years\", \"10+ years\", \"n/a\", \"None\"])\n",
    "data.verification_status = pd.Categorical(data.verification_status, categories=[\"Verified\", \"Source Verified\", \"Not Verified\", \"None\"])\n",
    "data.loan_status = pd.Categorical(data.loan_status, categories=[\"Fully Paid\", \"Current\", \"Charged Off\",\n",
    "                                                                \"Does not meet the credit policy. Status:Fully Paid\",\n",
    "                                                                \"Does not meet the credit policy. Status:Charged Off\",\n",
    "                                                                \"In Grace Period\", \"Late (16-30 days)\", \"Late (31-120 days)\",\n",
    "                                                                \"Default\", \"None\"])\n",
    "data.pymnt_plan = pd.Categorical(data.pymnt_plan.str.title(), categories=[\"Y\", \"N\", \"None\"])\n",
    "data.purpose = pd.Categorical(data.purpose.str.title(),\n",
    "                              categories=[\"Debt_Consolidation\", \"Credit_Card\", \"Home_Improvement\", \"Major_Purchase\", \n",
    "                                          \"Small_Business\", \"Car\", \"Wedding\", \"Medical\", \"Moving\", \"House\",\n",
    "                                          \"Educational\", \"Vacation\", \"Renewable_Energy\", \"Other\", \"None\"])\n",
    "data.addr_state = pd.Categorical(data.addr_state,\n",
    "                                 categories=[\"AK\", \"AL\", \"AR\", \"AZ\", \"CA\", \"CO\", \"CT\", \"DC\", \"DE\", \"FL\",\n",
    "                                             \"GA\", \"HI\", \"IA\", \"ID\", \"IL\", \"IN\", \"KS\", \"KY\", \"LA\", \"MA\",\n",
    "                                             \"MD\", \"ME\", \"MI\", \"MN\", \"MO\", \"MS\", \"MT\", \"NC\", \"ND\", \"NE\",\n",
    "                                             \"NH\", \"NJ\", \"NM\", \"NV\", \"NY\", \"OH\", \"OK\", \"OR\", \"PA\", \"RI\",\n",
    "                                             \"SC\", \"SD\", \"TN\", \"TX\", \"UT\", \"VA\", \"VT\", \"WA\", \"WI\", \"WV\",\n",
    "                                             \"WY\", \"None\"])\n",
    "data.initial_list_status = pd.Categorical(data.initial_list_status, categories=[\"f\", \"w\", \"None\"])\n",
    "data.policy_code = pd.Categorical(data.policy_code, categories=[\"1\", \"None\"])\n",
    "data.application_type = pd.Categorical(data.application_type.str.title(), categories=[\"Individual\", \"Joint\", \"None\"])\n",
    "data.verification_status_joint = pd.Categorical(data.verification_status_joint, categories=[\"Verified\", \"Source Verified\", \"Not Verified\", \"None\"])"
   ]
  },
  {
   "cell_type": "code",
   "execution_count": 17,
   "metadata": {
    "collapsed": true
   },
   "outputs": [],
   "source": [
    "data_2007_2011.term = pd.Categorical(data_2007_2011.term, categories= [\" 36 months\", \" 60 months\", \"None\"])\n",
    "data_2007_2011.grade = pd.Categorical(data_2007_2011.grade, categories=[\"A\", \"B\", \"C\", \"D\", \"E\", \"F\", \"G\", \"None\"])\n",
    "data_2007_2011.sub_grade = pd.Categorical(data_2007_2011.sub_grade, categories=[\"A1\", \"A2\", \"A3\", \"A4\", \"A5\",\n",
    "                                                            \"B1\", \"B2\", \"B3\", \"B4\", \"B5\", \n",
    "                                                            \"C1\", \"C2\", \"C3\", \"C4\", \"C5\",\n",
    "                                                            \"D1\", \"D2\", \"D3\", \"D4\", \"D5\",\n",
    "                                                            \"E1\", \"E2\", \"E3\", \"E4\", \"E5\",\n",
    "                                                            \"F1\", \"F2\", \"F3\", \"F4\", \"F5\",\n",
    "                                                            \"G1\", \"G2\", \"G3\", \"G4\", \"G5\",\n",
    "                                                            \"None\"])\n",
    "data_2007_2011.home_ownership = pd.Categorical(data_2007_2011.home_ownership.str.title(), categories=[\"Own\", \"Mortgage\", \"Rent\", \"Any\", \"Other\", \"None\"])\n",
    "data_2007_2011.emp_length = pd.Categorical(data_2007_2011.emp_length, categories=[\"< 1 year\", \"1 year\", \"2 years\", \"3 years\",\n",
    "                                                              \"4 years\", \"5 years\", \"6 years\", \"7 years\",\n",
    "                                                              \"8 years\", \"9 years\", \"10+ years\", \"n/a\", \"None\"])\n",
    "data_2007_2011.verification_status = pd.Categorical(data_2007_2011.verification_status, categories=[\"Verified\", \"Source Verified\", \"Not Verified\", \"None\"])\n",
    "data_2007_2011.loan_status = pd.Categorical(data_2007_2011.loan_status, categories=[\"Fully Paid\", \"Current\", \"Charged Off\",\n",
    "                                                                \"Does not meet the credit policy. Status:Fully Paid\",\n",
    "                                                                \"Does not meet the credit policy. Status:Charged Off\",\n",
    "                                                                \"In Grace Period\", \"Late (16-30 days)\", \"Late (31-120 days)\",\n",
    "                                                                \"Default\", \"None\"])\n",
    "data_2007_2011.pymnt_plan = pd.Categorical(data_2007_2011.pymnt_plan.str.title(), categories=[\"Y\", \"N\", \"None\"])\n",
    "data_2007_2011.purpose = pd.Categorical(data_2007_2011.purpose.str.title(),\n",
    "                              categories=[\"Debt_Consolidation\", \"Credit_Card\", \"Home_Improvement\", \"Major_Purchase\", \n",
    "                                          \"Small_Business\", \"Car\", \"Wedding\", \"Medical\", \"Moving\", \"House\",\n",
    "                                          \"Educational\", \"Vacation\", \"Renewable_Energy\", \"Other\", \"None\"])\n",
    "data_2007_2011.addr_state = pd.Categorical(data_2007_2011.addr_state,\n",
    "                                 categories=[\"AK\", \"AL\", \"AR\", \"AZ\", \"CA\", \"CO\", \"CT\", \"DC\", \"DE\", \"FL\",\n",
    "                                             \"GA\", \"HI\", \"IA\", \"ID\", \"IL\", \"IN\", \"KS\", \"KY\", \"LA\", \"MA\",\n",
    "                                             \"MD\", \"ME\", \"MI\", \"MN\", \"MO\", \"MS\", \"MT\", \"NC\", \"ND\", \"NE\",\n",
    "                                             \"NH\", \"NJ\", \"NM\", \"NV\", \"NY\", \"OH\", \"OK\", \"OR\", \"PA\", \"RI\",\n",
    "                                             \"SC\", \"SD\", \"TN\", \"TX\", \"UT\", \"VA\", \"VT\", \"WA\", \"WI\", \"WV\",\n",
    "                                             \"WY\", \"None\"])\n",
    "data_2007_2011.initial_list_status = pd.Categorical(data_2007_2011.initial_list_status, categories=[\"f\", \"w\", \"None\"])\n",
    "data_2007_2011.policy_code = pd.Categorical(data_2007_2011.policy_code, categories=[\"1\", \"None\"])\n",
    "data_2007_2011.application_type = pd.Categorical(data_2007_2011.application_type.str.title(), categories=[\"Individual\", \"Joint\", \"None\"])\n",
    "data_2007_2011.verification_status_joint = pd.Categorical(data_2007_2011.verification_status_joint, categories=[\"Verified\", \"Source Verified\", \"Not Verified\", \"None\"])"
   ]
  },
  {
   "cell_type": "code",
   "execution_count": 18,
   "metadata": {
    "collapsed": true
   },
   "outputs": [],
   "source": [
    "data_2014.term = pd.Categorical(data_2014.term, categories= [\" 36 months\", \" 60 months\", \"None\"])\n",
    "data_2014.grade = pd.Categorical(data_2014.grade, categories=[\"A\", \"B\", \"C\", \"D\", \"E\", \"F\", \"G\", \"None\"])\n",
    "data_2014.sub_grade = pd.Categorical(data_2014.sub_grade, categories=[\"A1\", \"A2\", \"A3\", \"A4\", \"A5\",\n",
    "                                                            \"B1\", \"B2\", \"B3\", \"B4\", \"B5\", \n",
    "                                                            \"C1\", \"C2\", \"C3\", \"C4\", \"C5\",\n",
    "                                                            \"D1\", \"D2\", \"D3\", \"D4\", \"D5\",\n",
    "                                                            \"E1\", \"E2\", \"E3\", \"E4\", \"E5\",\n",
    "                                                            \"F1\", \"F2\", \"F3\", \"F4\", \"F5\",\n",
    "                                                            \"G1\", \"G2\", \"G3\", \"G4\", \"G5\",\n",
    "                                                            \"None\"])\n",
    "data_2014.home_ownership = pd.Categorical(data_2014.home_ownership.str.title(), categories=[\"Own\", \"Mortgage\", \"Rent\", \"Any\", \"Other\", \"None\"])\n",
    "data_2014.emp_length = pd.Categorical(data_2014.emp_length, categories=[\"< 1 year\", \"1 year\", \"2 years\", \"3 years\",\n",
    "                                                              \"4 years\", \"5 years\", \"6 years\", \"7 years\",\n",
    "                                                              \"8 years\", \"9 years\", \"10+ years\", \"n/a\", \"None\"])\n",
    "data_2014.verification_status = pd.Categorical(data_2014.verification_status, categories=[\"Verified\", \"Source Verified\", \"Not Verified\", \"None\"])\n",
    "data_2014.loan_status = pd.Categorical(data_2014.loan_status, categories=[\"Fully Paid\", \"Current\", \"Charged Off\",\n",
    "                                                                \"Does not meet the credit policy. Status:Fully Paid\",\n",
    "                                                                \"Does not meet the credit policy. Status:Charged Off\",\n",
    "                                                                \"In Grace Period\", \"Late (16-30 days)\", \"Late (31-120 days)\",\n",
    "                                                                \"Default\", \"None\"])\n",
    "data_2014.pymnt_plan = pd.Categorical(data_2014.pymnt_plan.str.title(), categories=[\"Y\", \"N\", \"None\"])\n",
    "data_2014.purpose = pd.Categorical(data_2014.purpose.str.title(),\n",
    "                              categories=[\"Debt_Consolidation\", \"Credit_Card\", \"Home_Improvement\", \"Major_Purchase\", \n",
    "                                          \"Small_Business\", \"Car\", \"Wedding\", \"Medical\", \"Moving\", \"House\",\n",
    "                                          \"Educational\", \"Vacation\", \"Renewable_Energy\", \"Other\", \"None\"])\n",
    "data_2014.addr_state = pd.Categorical(data_2014.addr_state,\n",
    "                                 categories=[\"AK\", \"AL\", \"AR\", \"AZ\", \"CA\", \"CO\", \"CT\", \"DC\", \"DE\", \"FL\",\n",
    "                                             \"GA\", \"HI\", \"IA\", \"ID\", \"IL\", \"IN\", \"KS\", \"KY\", \"LA\", \"MA\",\n",
    "                                             \"MD\", \"ME\", \"MI\", \"MN\", \"MO\", \"MS\", \"MT\", \"NC\", \"ND\", \"NE\",\n",
    "                                             \"NH\", \"NJ\", \"NM\", \"NV\", \"NY\", \"OH\", \"OK\", \"OR\", \"PA\", \"RI\",\n",
    "                                             \"SC\", \"SD\", \"TN\", \"TX\", \"UT\", \"VA\", \"VT\", \"WA\", \"WI\", \"WV\",\n",
    "                                             \"WY\", \"None\"])\n",
    "data_2014.initial_list_status = pd.Categorical(data_2014.initial_list_status, categories=[\"f\", \"w\", \"None\"])\n",
    "data_2014.policy_code = pd.Categorical(data_2014.policy_code, categories=[\"1\", \"None\"])\n",
    "data_2014.application_type = pd.Categorical(data_2014.application_type.str.title(), categories=[\"Individual\", \"Joint\", \"None\"])\n",
    "data_2014.verification_status_joint = pd.Categorical(data_2014.verification_status_joint, categories=[\"Verified\", \"Source Verified\", \"Not Verified\", \"None\"])"
   ]
  },
  {
   "cell_type": "code",
   "execution_count": 19,
   "metadata": {
    "collapsed": true
   },
   "outputs": [],
   "source": [
    "data_2015.term = pd.Categorical(data_2015.term, categories= [\" 36 months\", \" 60 months\", \"None\"])\n",
    "data_2015.grade = pd.Categorical(data_2015.grade, categories=[\"A\", \"B\", \"C\", \"D\", \"E\", \"F\", \"G\", \"None\"])\n",
    "data_2015.sub_grade = pd.Categorical(data_2015.sub_grade, categories=[\"A1\", \"A2\", \"A3\", \"A4\", \"A5\",\n",
    "                                                            \"B1\", \"B2\", \"B3\", \"B4\", \"B5\", \n",
    "                                                            \"C1\", \"C2\", \"C3\", \"C4\", \"C5\",\n",
    "                                                            \"D1\", \"D2\", \"D3\", \"D4\", \"D5\",\n",
    "                                                            \"E1\", \"E2\", \"E3\", \"E4\", \"E5\",\n",
    "                                                            \"F1\", \"F2\", \"F3\", \"F4\", \"F5\",\n",
    "                                                            \"G1\", \"G2\", \"G3\", \"G4\", \"G5\",\n",
    "                                                            \"None\"])\n",
    "data_2015.home_ownership = pd.Categorical(data_2015.home_ownership.str.title(), categories=[\"Own\", \"Mortgage\", \"Rent\", \"Any\", \"Other\", \"None\"])\n",
    "data_2015.emp_length = pd.Categorical(data_2015.emp_length, categories=[\"< 1 year\", \"1 year\", \"2 years\", \"3 years\",\n",
    "                                                              \"4 years\", \"5 years\", \"6 years\", \"7 years\",\n",
    "                                                              \"8 years\", \"9 years\", \"10+ years\", \"n/a\", \"None\"])\n",
    "data_2015.verification_status = pd.Categorical(data_2015.verification_status, categories=[\"Verified\", \"Source Verified\", \"Not Verified\", \"None\"])\n",
    "data_2015.loan_status = pd.Categorical(data_2015.loan_status, categories=[\"Fully Paid\", \"Current\", \"Charged Off\",\n",
    "                                                                \"Does not meet the credit policy. Status:Fully Paid\",\n",
    "                                                                \"Does not meet the credit policy. Status:Charged Off\",\n",
    "                                                                \"In Grace Period\", \"Late (16-30 days)\", \"Late (31-120 days)\",\n",
    "                                                                \"Default\", \"None\"])\n",
    "data_2015.pymnt_plan = pd.Categorical(data_2015.pymnt_plan.str.title(), categories=[\"Y\", \"N\", \"None\"])\n",
    "data_2015.purpose = pd.Categorical(data_2015.purpose.str.title(),\n",
    "                              categories=[\"Debt_Consolidation\", \"Credit_Card\", \"Home_Improvement\", \"Major_Purchase\", \n",
    "                                          \"Small_Business\", \"Car\", \"Wedding\", \"Medical\", \"Moving\", \"House\",\n",
    "                                          \"Educational\", \"Vacation\", \"Renewable_Energy\", \"Other\", \"None\"])\n",
    "data_2015.addr_state = pd.Categorical(data_2015.addr_state,\n",
    "                                 categories=[\"AK\", \"AL\", \"AR\", \"AZ\", \"CA\", \"CO\", \"CT\", \"DC\", \"DE\", \"FL\",\n",
    "                                             \"GA\", \"HI\", \"IA\", \"ID\", \"IL\", \"IN\", \"KS\", \"KY\", \"LA\", \"MA\",\n",
    "                                             \"MD\", \"ME\", \"MI\", \"MN\", \"MO\", \"MS\", \"MT\", \"NC\", \"ND\", \"NE\",\n",
    "                                             \"NH\", \"NJ\", \"NM\", \"NV\", \"NY\", \"OH\", \"OK\", \"OR\", \"PA\", \"RI\",\n",
    "                                             \"SC\", \"SD\", \"TN\", \"TX\", \"UT\", \"VA\", \"VT\", \"WA\", \"WI\", \"WV\",\n",
    "                                             \"WY\", \"None\"])\n",
    "data_2015.initial_list_status = pd.Categorical(data_2015.initial_list_status, categories=[\"f\", \"w\", \"None\"])\n",
    "data_2015.policy_code = pd.Categorical(data_2015.policy_code, categories=[\"1\", \"None\"])\n",
    "data_2015.application_type = pd.Categorical(data_2015.application_type.str.title(), categories=[\"Individual\", \"Joint\", \"None\"])\n",
    "data_2015.verification_status_joint = pd.Categorical(data_2015.verification_status_joint, categories=[\"Verified\", \"Source Verified\", \"Not Verified\", \"None\"])"
   ]
  },
  {
   "cell_type": "markdown",
   "metadata": {},
   "source": [
    "To validate the categorical data conversion, we check a table listing Null values for each field. If any categories were excluded inadvertently, the *Null Count* in this table would show up as > 0. The *verification_status_joint* field does not appear to contain valid data for the datasets that have been analyzed."
   ]
  },
  {
   "cell_type": "code",
   "execution_count": 20,
   "metadata": {
    "collapsed": false
   },
   "outputs": [
    {
     "data": {
      "text/html": [
       "<div>\n",
       "<table border=\"1\" class=\"dataframe\">\n",
       "  <thead>\n",
       "    <tr style=\"text-align: right;\">\n",
       "      <th></th>\n",
       "      <th>Categorical Field</th>\n",
       "      <th>Null Count</th>\n",
       "    </tr>\n",
       "  </thead>\n",
       "  <tbody>\n",
       "    <tr>\n",
       "      <th>0</th>\n",
       "      <td>term</td>\n",
       "      <td>0</td>\n",
       "    </tr>\n",
       "    <tr>\n",
       "      <th>1</th>\n",
       "      <td>grade</td>\n",
       "      <td>0</td>\n",
       "    </tr>\n",
       "    <tr>\n",
       "      <th>2</th>\n",
       "      <td>sub_grade</td>\n",
       "      <td>0</td>\n",
       "    </tr>\n",
       "    <tr>\n",
       "      <th>3</th>\n",
       "      <td>emp_length</td>\n",
       "      <td>0</td>\n",
       "    </tr>\n",
       "    <tr>\n",
       "      <th>4</th>\n",
       "      <td>home_ownership</td>\n",
       "      <td>0</td>\n",
       "    </tr>\n",
       "    <tr>\n",
       "      <th>5</th>\n",
       "      <td>verification_status</td>\n",
       "      <td>0</td>\n",
       "    </tr>\n",
       "    <tr>\n",
       "      <th>6</th>\n",
       "      <td>loan_status</td>\n",
       "      <td>0</td>\n",
       "    </tr>\n",
       "    <tr>\n",
       "      <th>7</th>\n",
       "      <td>pymnt_plan</td>\n",
       "      <td>0</td>\n",
       "    </tr>\n",
       "    <tr>\n",
       "      <th>8</th>\n",
       "      <td>purpose</td>\n",
       "      <td>0</td>\n",
       "    </tr>\n",
       "    <tr>\n",
       "      <th>9</th>\n",
       "      <td>addr_state</td>\n",
       "      <td>0</td>\n",
       "    </tr>\n",
       "    <tr>\n",
       "      <th>10</th>\n",
       "      <td>initial_list_status</td>\n",
       "      <td>0</td>\n",
       "    </tr>\n",
       "    <tr>\n",
       "      <th>11</th>\n",
       "      <td>policy_code</td>\n",
       "      <td>0</td>\n",
       "    </tr>\n",
       "    <tr>\n",
       "      <th>12</th>\n",
       "      <td>application_type</td>\n",
       "      <td>0</td>\n",
       "    </tr>\n",
       "    <tr>\n",
       "      <th>13</th>\n",
       "      <td>verification_status_joint</td>\n",
       "      <td>420584</td>\n",
       "    </tr>\n",
       "  </tbody>\n",
       "</table>\n",
       "</div>"
      ],
      "text/plain": [
       "            Categorical Field  Null Count\n",
       "0                        term           0\n",
       "1                       grade           0\n",
       "2                   sub_grade           0\n",
       "3                  emp_length           0\n",
       "4              home_ownership           0\n",
       "5         verification_status           0\n",
       "6                 loan_status           0\n",
       "7                  pymnt_plan           0\n",
       "8                     purpose           0\n",
       "9                  addr_state           0\n",
       "10        initial_list_status           0\n",
       "11                policy_code           0\n",
       "12           application_type           0\n",
       "13  verification_status_joint      420584"
      ]
     },
     "execution_count": 20,
     "metadata": {},
     "output_type": "execute_result"
    }
   ],
   "source": [
    "pd.DataFrame([[f, sum(pd.isnull(data[f]))] for f in data.columns[data.dtypes==\"category\"]],\n",
    "             columns=[\"Categorical Field\", \"Null Count\"])"
   ]
  },
  {
   "cell_type": "code",
   "execution_count": 21,
   "metadata": {
    "collapsed": false
   },
   "outputs": [
    {
     "name": "stdout",
     "output_type": "stream",
     "text": [
      "            Categorical Field  Null Count\n",
      "0                        term           0\n",
      "1                       grade           0\n",
      "2                   sub_grade           0\n",
      "3                  emp_length           0\n",
      "4              home_ownership           0\n",
      "5         verification_status           0\n",
      "6                 loan_status           0\n",
      "7                  pymnt_plan           0\n",
      "8                     purpose           0\n",
      "9                  addr_state           0\n",
      "10        initial_list_status           0\n",
      "11                policy_code           0\n",
      "12           application_type           0\n",
      "13  verification_status_joint      420584\n",
      "            Categorical Field  Null Count\n",
      "0                        term           0\n",
      "1                       grade           0\n",
      "2                   sub_grade           0\n",
      "3                  emp_length           0\n",
      "4              home_ownership           0\n",
      "5         verification_status           0\n",
      "6                 loan_status           0\n",
      "7                  pymnt_plan           0\n",
      "8                     purpose           0\n",
      "9                  addr_state           0\n",
      "10        initial_list_status           0\n",
      "11                policy_code           0\n",
      "12           application_type           0\n",
      "13  verification_status_joint      420584\n",
      "            Categorical Field  Null Count\n",
      "0                        term           0\n",
      "1                       grade           0\n",
      "2                   sub_grade           0\n",
      "3                  emp_length           0\n",
      "4              home_ownership           0\n",
      "5         verification_status           0\n",
      "6                 loan_status           0\n",
      "7                  pymnt_plan           0\n",
      "8                     purpose           0\n",
      "9                  addr_state           0\n",
      "10        initial_list_status           0\n",
      "11                policy_code           0\n",
      "12           application_type           0\n",
      "13  verification_status_joint      420584\n"
     ]
    }
   ],
   "source": [
    "print pd.DataFrame([[f, sum(pd.isnull(data[f]))] for f in data.columns[data.dtypes==\"category\"]],\n",
    "             columns=[\"Categorical Field\", \"Null Count\"])\n",
    "\n",
    "print pd.DataFrame([[f, sum(pd.isnull(data[f]))] for f in data.columns[data.dtypes==\"category\"]],\n",
    "             columns=[\"Categorical Field\", \"Null Count\"])\n",
    "\n",
    "print pd.DataFrame([[f, sum(pd.isnull(data[f]))] for f in data.columns[data.dtypes==\"category\"]],\n",
    "             columns=[\"Categorical Field\", \"Null Count\"])"
   ]
  },
  {
   "cell_type": "markdown",
   "metadata": {},
   "source": [
    "Some percentages are stored as strings (*int_rate*, *revol_util*). Here we convert them into a float by stripping the % symbol and dividing by 100."
   ]
  },
  {
   "cell_type": "code",
   "execution_count": 22,
   "metadata": {
    "collapsed": false
   },
   "outputs": [],
   "source": [
    "def percent_to_float(s):\n",
    "    if (type(s) == str):\n",
    "        if (\"%\" in s):\n",
    "            return float(str(s).strip(\"%\"))/100\n",
    "        else:\n",
    "            if s == \"None\":\n",
    "                return np.nan\n",
    "            else:            \n",
    "                return s\n",
    "    else:\n",
    "        return s\n",
    "\n",
    "data.int_rate = [percent_to_float(s) for s in data.int_rate]\n",
    "data.revol_util = [percent_to_float(s) for s in data.revol_util]\n",
    "\n",
    "data_2007_2011.int_rate = [percent_to_float(s) for s in data_2007_2011.int_rate]\n",
    "data_2007_2011.revol_util = [percent_to_float(s) for s in data_2007_2011.revol_util]\n",
    "\n",
    "data_2014.int_rate = [percent_to_float(s) for s in data_2014.int_rate]\n",
    "data_2014.revol_util = [percent_to_float(s) for s in data_2014.revol_util]\n",
    "\n",
    "data_2015.int_rate = [percent_to_float(s) for s in data_2015.int_rate]\n",
    "data_2015.revol_util = [percent_to_float(s) for s in data_2015.revol_util]"
   ]
  },
  {
   "cell_type": "markdown",
   "metadata": {},
   "source": [
    "Final check of data types:"
   ]
  },
  {
   "cell_type": "code",
   "execution_count": 23,
   "metadata": {
    "collapsed": false
   },
   "outputs": [
    {
     "data": {
      "text/plain": [
       "float64           85\n",
       "category          14\n",
       "object             5\n",
       "datetime64[ns]     5\n",
       "dtype: int64"
      ]
     },
     "execution_count": 23,
     "metadata": {},
     "output_type": "execute_result"
    }
   ],
   "source": [
    "data.dtypes.value_counts()"
   ]
  },
  {
   "cell_type": "code",
   "execution_count": 24,
   "metadata": {
    "collapsed": false
   },
   "outputs": [
    {
     "data": {
      "text/plain": [
       "float64           85\n",
       "category          14\n",
       "object             5\n",
       "datetime64[ns]     5\n",
       "dtype: int64"
      ]
     },
     "execution_count": 24,
     "metadata": {},
     "output_type": "execute_result"
    }
   ],
   "source": [
    "data_2007_2011.dtypes.value_counts()"
   ]
  },
  {
   "cell_type": "code",
   "execution_count": 25,
   "metadata": {
    "collapsed": false
   },
   "outputs": [
    {
     "data": {
      "text/plain": [
       "float64           85\n",
       "category          14\n",
       "object             5\n",
       "datetime64[ns]     5\n",
       "dtype: int64"
      ]
     },
     "execution_count": 25,
     "metadata": {},
     "output_type": "execute_result"
    }
   ],
   "source": [
    "data_2014.dtypes.value_counts()"
   ]
  },
  {
   "cell_type": "code",
   "execution_count": 26,
   "metadata": {
    "collapsed": false
   },
   "outputs": [
    {
     "data": {
      "text/plain": [
       "float64           85\n",
       "category          14\n",
       "object             5\n",
       "datetime64[ns]     5\n",
       "dtype: int64"
      ]
     },
     "execution_count": 26,
     "metadata": {},
     "output_type": "execute_result"
    }
   ],
   "source": [
    "data_2015.dtypes.value_counts()"
   ]
  },
  {
   "cell_type": "markdown",
   "metadata": {},
   "source": [
    "The 5 remaining object fields are note easily parsed to a more convenient data structure. Those fields are listed in the table below:"
   ]
  },
  {
   "cell_type": "code",
   "execution_count": 27,
   "metadata": {
    "collapsed": false
   },
   "outputs": [
    {
     "data": {
      "text/html": [
       "<div>\n",
       "<table border=\"1\" class=\"dataframe\">\n",
       "  <thead>\n",
       "    <tr style=\"text-align: right;\">\n",
       "      <th></th>\n",
       "      <th></th>\n",
       "      <th>emp_title</th>\n",
       "      <th>url</th>\n",
       "      <th>desc</th>\n",
       "      <th>title</th>\n",
       "      <th>zip_code</th>\n",
       "    </tr>\n",
       "    <tr>\n",
       "      <th>id</th>\n",
       "      <th>member_id</th>\n",
       "      <th></th>\n",
       "      <th></th>\n",
       "      <th></th>\n",
       "      <th></th>\n",
       "      <th></th>\n",
       "    </tr>\n",
       "  </thead>\n",
       "  <tbody>\n",
       "    <tr>\n",
       "      <th>38098114</th>\n",
       "      <th>40860827</th>\n",
       "      <td>MANAGEMENT</td>\n",
       "      <td>https://lendingclub.com/browse/loanDetail.acti...</td>\n",
       "      <td>NaN</td>\n",
       "      <td>Debt consolidation</td>\n",
       "      <td>235xx</td>\n",
       "    </tr>\n",
       "    <tr>\n",
       "      <th>36805548</th>\n",
       "      <th>39558264</th>\n",
       "      <td>Truck Driver Delivery Personel</td>\n",
       "      <td>https://lendingclub.com/browse/loanDetail.acti...</td>\n",
       "      <td>NaN</td>\n",
       "      <td>Credit card refinancing</td>\n",
       "      <td>937xx</td>\n",
       "    </tr>\n",
       "    <tr>\n",
       "      <th>37822187</th>\n",
       "      <th>40585251</th>\n",
       "      <td>Admin Specialist</td>\n",
       "      <td>https://lendingclub.com/browse/loanDetail.acti...</td>\n",
       "      <td>NaN</td>\n",
       "      <td>Debt consolidation</td>\n",
       "      <td>077xx</td>\n",
       "    </tr>\n",
       "    <tr>\n",
       "      <th>37612354</th>\n",
       "      <th>40375473</th>\n",
       "      <td>Senior Sales Professional</td>\n",
       "      <td>https://lendingclub.com/browse/loanDetail.acti...</td>\n",
       "      <td>NaN</td>\n",
       "      <td>Car financing</td>\n",
       "      <td>953xx</td>\n",
       "    </tr>\n",
       "    <tr>\n",
       "      <th>37662224</th>\n",
       "      <th>40425321</th>\n",
       "      <td>Technical Specialist</td>\n",
       "      <td>https://lendingclub.com/browse/loanDetail.acti...</td>\n",
       "      <td>NaN</td>\n",
       "      <td>Debt consolidation</td>\n",
       "      <td>850xx</td>\n",
       "    </tr>\n",
       "  </tbody>\n",
       "</table>\n",
       "</div>"
      ],
      "text/plain": [
       "                                         emp_title  \\\n",
       "id       member_id                                   \n",
       "38098114 40860827                       MANAGEMENT   \n",
       "36805548 39558264   Truck Driver Delivery Personel   \n",
       "37822187 40585251                 Admin Specialist   \n",
       "37612354 40375473        Senior Sales Professional   \n",
       "37662224 40425321             Technical Specialist   \n",
       "\n",
       "                                                                  url desc  \\\n",
       "id       member_id                                                           \n",
       "38098114 40860827   https://lendingclub.com/browse/loanDetail.acti...  NaN   \n",
       "36805548 39558264   https://lendingclub.com/browse/loanDetail.acti...  NaN   \n",
       "37822187 40585251   https://lendingclub.com/browse/loanDetail.acti...  NaN   \n",
       "37612354 40375473   https://lendingclub.com/browse/loanDetail.acti...  NaN   \n",
       "37662224 40425321   https://lendingclub.com/browse/loanDetail.acti...  NaN   \n",
       "\n",
       "                                      title zip_code  \n",
       "id       member_id                                    \n",
       "38098114 40860827        Debt consolidation    235xx  \n",
       "36805548 39558264   Credit card refinancing    937xx  \n",
       "37822187 40585251        Debt consolidation    077xx  \n",
       "37612354 40375473             Car financing    953xx  \n",
       "37662224 40425321        Debt consolidation    850xx  "
      ]
     },
     "execution_count": 27,
     "metadata": {},
     "output_type": "execute_result"
    }
   ],
   "source": [
    "data.select_dtypes(include=[\"object\"]).head()\n",
    "data_2007_2011.select_dtypes(include=[\"object\"]).head()\n",
    "data_2014.select_dtypes(include=[\"object\"]).head()\n",
    "data_2015.select_dtypes(include=[\"object\"]).head()"
   ]
  },
  {
   "cell_type": "code",
   "execution_count": 28,
   "metadata": {
    "collapsed": false
   },
   "outputs": [
    {
     "name": "stdout",
     "output_type": "stream",
     "text": [
      "(421095, 109)\n",
      "(42536, 109)\n",
      "(887441, 109)\n"
     ]
    }
   ],
   "source": [
    "print data.shape\n",
    "print data_2007_2011.shape\n",
    "fulldf = pd.concat([data, data_2007_2011, data_2014, data_2015])\n",
    "print fulldf.shape"
   ]
  },
  {
   "cell_type": "code",
   "execution_count": 29,
   "metadata": {
    "collapsed": false,
    "scrolled": false
   },
   "outputs": [
    {
     "name": "stdout",
     "output_type": "stream",
     "text": [
      "['Charged Off' 'Current' 'Default'\n",
      " 'Does not meet the credit policy. Status:Charged Off'\n",
      " 'Does not meet the credit policy. Status:Fully Paid' 'Fully Paid'\n",
      " 'In Grace Period' 'Late (16-30 days)' 'Late (31-120 days)' 'None']\n"
     ]
    }
   ],
   "source": [
    "print np.unique(fulldf[\"loan_status\"].values)"
   ]
  },
  {
   "cell_type": "code",
   "execution_count": 30,
   "metadata": {
    "collapsed": false
   },
   "outputs": [
    {
     "name": "stdout",
     "output_type": "stream",
     "text": [
      "(315324, 109)\n",
      "['Default' 'Fully Paid']\n",
      "(315324, 109)\n"
     ]
    }
   ],
   "source": [
    "# Ok we dont want current or None status as we don't know what is going to happen with those.\n",
    "# next also late and grace period we are not sure about.\n",
    "# thirdly we remove loans that do not meet credit policy so we can convert our issue to a binar model\n",
    "fulldf = fulldf[((fulldf[\"loan_status\"] == \"Default\") | (fulldf[\"loan_status\"] == \"Fully Paid\"))]\n",
    "print fulldf.shape\n",
    "print np.unique(fulldf[\"loan_status\"].values)\n",
    "\n",
    "fulldf.dropna()\n",
    "print fulldf.shape"
   ]
  },
  {
   "cell_type": "code",
   "execution_count": 31,
   "metadata": {
    "collapsed": false,
    "scrolled": true
   },
   "outputs": [
    {
     "name": "stdout",
     "output_type": "stream",
     "text": [
      "(315324, 85)\n"
     ]
    }
   ],
   "source": [
    "y = fulldf[\"loan_status\"].values\n",
    "X = fulldf.drop(\"loan_status\", axis=1)\n",
    "cols = X.columns\n",
    "for col in cols:\n",
    "    if X[col].dtype != \"float64\":\n",
    "        X = X.drop(col, axis=1)\n",
    "print X.shape"
   ]
  },
  {
   "cell_type": "markdown",
   "metadata": {},
   "source": [
    "### Baseline Data"
   ]
  },
  {
   "cell_type": "markdown",
   "metadata": {},
   "source": [
    "To build our baselines, we first check the class proportions of our target categories. Since we are looking at classifying 'default' vs 'not default' our filtered data set has:"
   ]
  },
  {
   "cell_type": "code",
   "execution_count": 32,
   "metadata": {
    "collapsed": false
   },
   "outputs": [
    {
     "name": "stdout",
     "output_type": "stream",
     "text": [
      "Unique loan_status value: ['Default' 'Fully Paid']\n",
      "Default ratio: 0.000418617041519\n",
      "Unique credit grades ['A' 'B' 'C' 'D' 'E' 'F' 'G']\n",
      "Interest Rate Range 0.0532 0.2899\n"
     ]
    }
   ],
   "source": [
    "print 'Unique loan_status value:', np.unique(fulldf.loan_status)\n",
    "print 'Default ratio:', float(len(fulldf[fulldf.loan_status == 'Default'])) / fulldf.shape[0]\n",
    "print 'Unique credit grades', np.unique(fulldf.grade)\n",
    "print 'Interest Rate Range', np.min(fulldf.int_rate), np.max(fulldf.int_rate)"
   ]
  },
  {
   "cell_type": "markdown",
   "metadata": {},
   "source": [
    "As expected, the class proportions are highly imbalanced as defaults are not common.\n",
    "\n",
    "It is therefore reasonable to simply build our first baseline to predict every lone does not default."
   ]
  },
  {
   "cell_type": "markdown",
   "metadata": {},
   "source": [
    "### Baseline 1: All loans do not default"
   ]
  },
  {
   "cell_type": "code",
   "execution_count": 33,
   "metadata": {
    "collapsed": false
   },
   "outputs": [],
   "source": [
    "def evaluate(y_true, y_pred):\n",
    "    print 'Overall Accuracy:', accuracy_score(y_true, y_pred)\n",
    "    print 'F1 Score:', f1_score(y_true, y_pred)\n",
    "    #setting \"0\" as positive case to indicate we are looking for \"Default\" cases\n",
    "    print 'F1 Score (0 as \"positive\" since we are looking for \"Default\" cases):', f1_score(y_true, y_pred, pos_label=0)\n",
    "    #pos_labe='None' is required: see https://github.com/scikit-learn/scikit-learn/issues/3122\n",
    "    print 'Weighted average F1 Score:', f1_score(y_true, y_pred, pos_label=None, average='weighted')\n",
    "    print 'Micro average F1 Score:', f1_score(y_true, y_pred, pos_label=None, average='micro')\n",
    "    print 'Macro average F1 Score:', f1_score(y_true, y_pred, pos_label=None, average='macro')\n",
    "    for i in np.unique(y_true):\n",
    "        y_class_true = y_true[y_true == i]\n",
    "        y_class_pred = y_pred[y_true == i]\n",
    "        print 'Class {:.0f} Accuracy:'.format(i), accuracy_score(y_class_true, y_class_pred)"
   ]
  },
  {
   "cell_type": "code",
   "execution_count": 34,
   "metadata": {
    "collapsed": false
   },
   "outputs": [
    {
     "data": {
      "text/html": [
       "<div>\n",
       "<table border=\"1\" class=\"dataframe\">\n",
       "  <thead>\n",
       "    <tr style=\"text-align: right;\">\n",
       "      <th></th>\n",
       "      <th></th>\n",
       "      <th>Fully Paid</th>\n",
       "      <th>Current</th>\n",
       "      <th>Charged Off</th>\n",
       "      <th>Does not meet the credit policy. Status:Fully Paid</th>\n",
       "      <th>Does not meet the credit policy. Status:Charged Off</th>\n",
       "      <th>In Grace Period</th>\n",
       "      <th>Late (16-30 days)</th>\n",
       "      <th>Late (31-120 days)</th>\n",
       "      <th>Default</th>\n",
       "      <th>None</th>\n",
       "    </tr>\n",
       "    <tr>\n",
       "      <th>id</th>\n",
       "      <th>member_id</th>\n",
       "      <th></th>\n",
       "      <th></th>\n",
       "      <th></th>\n",
       "      <th></th>\n",
       "      <th></th>\n",
       "      <th></th>\n",
       "      <th></th>\n",
       "      <th></th>\n",
       "      <th></th>\n",
       "      <th></th>\n",
       "    </tr>\n",
       "  </thead>\n",
       "  <tbody>\n",
       "    <tr>\n",
       "      <th>68416935</th>\n",
       "      <th>73306760.0</th>\n",
       "      <td>1.0</td>\n",
       "      <td>0.0</td>\n",
       "      <td>0.0</td>\n",
       "      <td>0.0</td>\n",
       "      <td>0.0</td>\n",
       "      <td>0.0</td>\n",
       "      <td>0.0</td>\n",
       "      <td>0.0</td>\n",
       "      <td>0.0</td>\n",
       "      <td>0.0</td>\n",
       "    </tr>\n",
       "    <tr>\n",
       "      <th>68357012</th>\n",
       "      <th>73246847.0</th>\n",
       "      <td>1.0</td>\n",
       "      <td>0.0</td>\n",
       "      <td>0.0</td>\n",
       "      <td>0.0</td>\n",
       "      <td>0.0</td>\n",
       "      <td>0.0</td>\n",
       "      <td>0.0</td>\n",
       "      <td>0.0</td>\n",
       "      <td>0.0</td>\n",
       "      <td>0.0</td>\n",
       "    </tr>\n",
       "    <tr>\n",
       "      <th>68466916</th>\n",
       "      <th>73356753.0</th>\n",
       "      <td>1.0</td>\n",
       "      <td>0.0</td>\n",
       "      <td>0.0</td>\n",
       "      <td>0.0</td>\n",
       "      <td>0.0</td>\n",
       "      <td>0.0</td>\n",
       "      <td>0.0</td>\n",
       "      <td>0.0</td>\n",
       "      <td>0.0</td>\n",
       "      <td>0.0</td>\n",
       "    </tr>\n",
       "    <tr>\n",
       "      <th>68577849</th>\n",
       "      <th>73467703.0</th>\n",
       "      <td>1.0</td>\n",
       "      <td>0.0</td>\n",
       "      <td>0.0</td>\n",
       "      <td>0.0</td>\n",
       "      <td>0.0</td>\n",
       "      <td>0.0</td>\n",
       "      <td>0.0</td>\n",
       "      <td>0.0</td>\n",
       "      <td>0.0</td>\n",
       "      <td>0.0</td>\n",
       "    </tr>\n",
       "    <tr>\n",
       "      <th>68407301</th>\n",
       "      <th>73297138.0</th>\n",
       "      <td>1.0</td>\n",
       "      <td>0.0</td>\n",
       "      <td>0.0</td>\n",
       "      <td>0.0</td>\n",
       "      <td>0.0</td>\n",
       "      <td>0.0</td>\n",
       "      <td>0.0</td>\n",
       "      <td>0.0</td>\n",
       "      <td>0.0</td>\n",
       "      <td>0.0</td>\n",
       "    </tr>\n",
       "  </tbody>\n",
       "</table>\n",
       "</div>"
      ],
      "text/plain": [
       "                     Fully Paid  Current  Charged Off  \\\n",
       "id       member_id                                      \n",
       "68416935 73306760.0         1.0      0.0          0.0   \n",
       "68357012 73246847.0         1.0      0.0          0.0   \n",
       "68466916 73356753.0         1.0      0.0          0.0   \n",
       "68577849 73467703.0         1.0      0.0          0.0   \n",
       "68407301 73297138.0         1.0      0.0          0.0   \n",
       "\n",
       "                     Does not meet the credit policy. Status:Fully Paid  \\\n",
       "id       member_id                                                        \n",
       "68416935 73306760.0                                                0.0    \n",
       "68357012 73246847.0                                                0.0    \n",
       "68466916 73356753.0                                                0.0    \n",
       "68577849 73467703.0                                                0.0    \n",
       "68407301 73297138.0                                                0.0    \n",
       "\n",
       "                     Does not meet the credit policy. Status:Charged Off  \\\n",
       "id       member_id                                                         \n",
       "68416935 73306760.0                                                0.0     \n",
       "68357012 73246847.0                                                0.0     \n",
       "68466916 73356753.0                                                0.0     \n",
       "68577849 73467703.0                                                0.0     \n",
       "68407301 73297138.0                                                0.0     \n",
       "\n",
       "                     In Grace Period  Late (16-30 days)  Late (31-120 days)  \\\n",
       "id       member_id                                                            \n",
       "68416935 73306760.0              0.0                0.0                 0.0   \n",
       "68357012 73246847.0              0.0                0.0                 0.0   \n",
       "68466916 73356753.0              0.0                0.0                 0.0   \n",
       "68577849 73467703.0              0.0                0.0                 0.0   \n",
       "68407301 73297138.0              0.0                0.0                 0.0   \n",
       "\n",
       "                     Default  None  \n",
       "id       member_id                  \n",
       "68416935 73306760.0      0.0   0.0  \n",
       "68357012 73246847.0      0.0   0.0  \n",
       "68466916 73356753.0      0.0   0.0  \n",
       "68577849 73467703.0      0.0   0.0  \n",
       "68407301 73297138.0      0.0   0.0  "
      ]
     },
     "execution_count": 34,
     "metadata": {},
     "output_type": "execute_result"
    }
   ],
   "source": [
    "y = pd.get_dummies(fulldf.loan_status)\n",
    "y.head()"
   ]
  },
  {
   "cell_type": "code",
   "execution_count": 35,
   "metadata": {
    "collapsed": false
   },
   "outputs": [],
   "source": [
    "#create response: we only take the first column from the one-hot encoded loan_status\n",
    "#since we only need to know if a loan is fully paid or not\n",
    "y = y.values[:, 0]"
   ]
  },
  {
   "cell_type": "code",
   "execution_count": 36,
   "metadata": {
    "collapsed": true
   },
   "outputs": [],
   "source": [
    "#baseline model 1:\n",
    "#predicting all loan outcomes as \"not default\"\n",
    "def predict_outcome_baseline1(X):\n",
    "    results = np.empty(shape=(X.shape[0]), dtype=float)\n",
    "    results[:] = 1\n",
    "    return results"
   ]
  },
  {
   "cell_type": "code",
   "execution_count": 37,
   "metadata": {
    "collapsed": false
   },
   "outputs": [
    {
     "name": "stdout",
     "output_type": "stream",
     "text": [
      "Overall Accuracy: 0.999581382958\n",
      "F1 Score: 0.99979064766\n",
      "F1 Score (0 as \"positive\" since we are looking for \"Default\" cases):"
     ]
    },
    {
     "name": "stderr",
     "output_type": "stream",
     "text": [
      "/home/ben/anaconda3/envs/cs109a_proj/lib/python2.7/site-packages/sklearn/metrics/classification.py:1074: UndefinedMetricWarning: F-score is ill-defined and being set to 0.0 due to no predicted samples.\n",
      "  'precision', 'predicted', average, warn_for)\n",
      "/home/ben/anaconda3/envs/cs109a_proj/lib/python2.7/site-packages/sklearn/metrics/classification.py:1074: UndefinedMetricWarning: F-score is ill-defined and being set to 0.0 in labels with no predicted samples.\n",
      "  'precision', 'predicted', average, warn_for)\n"
     ]
    },
    {
     "name": "stdout",
     "output_type": "stream",
     "text": [
      " 0.0\n",
      "Weighted average F1 Score: 0.999372118257\n",
      "Micro average F1 Score: 0.999581382958\n",
      "Macro average F1 Score: 0.49989532383\n",
      "Class 0 Accuracy: 0.0\n",
      "Class 1 Accuracy: 1.0\n"
     ]
    }
   ],
   "source": [
    "y_pred = predict_outcome_baseline1(np.zeros([y.shape[0],1]))\n",
    "evaluate(y, y_pred)"
   ]
  },
  {
   "cell_type": "markdown",
   "metadata": {},
   "source": [
    "This model has high overall accuracy becuase most loans do not default. However, the class 0 (default) breakdown shows that this model's accuracy on default loans is 0."
   ]
  },
  {
   "cell_type": "markdown",
   "metadata": {},
   "source": [
    "### Baseline 2: Predicting loans with lowest credit scores to default"
   ]
  },
  {
   "cell_type": "markdown",
   "metadata": {},
   "source": [
    "In this model, we set a threshold of credit grade E and below to be a bad credit score. All loans with these scores are predicted as \"default\" while all others are predicted as \"not default\"."
   ]
  },
  {
   "cell_type": "code",
   "execution_count": 38,
   "metadata": {
    "collapsed": true
   },
   "outputs": [],
   "source": [
    "#baseline model 2:\n",
    "#predicting all loan outcomes as \"not default\"\n",
    "def predict_outcome_baseline2(X):\n",
    "    #We take the credit grades E, F and G\n",
    "    #as \"bad\" credit scores\n",
    "    #we do this by summing up the corresponding one-hot encoded columns\n",
    "    results = X[:, -4:-1].sum(axis=1).reshape(-1, 1)\n",
    "    #we need to the swap 0s and 1s to match the response encoding\n",
    "    results = -1 * ( results - 1 )\n",
    "    return results"
   ]
  },
  {
   "cell_type": "code",
   "execution_count": 39,
   "metadata": {
    "collapsed": false
   },
   "outputs": [
    {
     "data": {
      "text/html": [
       "<div>\n",
       "<table border=\"1\" class=\"dataframe\">\n",
       "  <thead>\n",
       "    <tr style=\"text-align: right;\">\n",
       "      <th></th>\n",
       "      <th></th>\n",
       "      <th>A</th>\n",
       "      <th>B</th>\n",
       "      <th>C</th>\n",
       "      <th>D</th>\n",
       "      <th>E</th>\n",
       "      <th>F</th>\n",
       "      <th>G</th>\n",
       "      <th>None</th>\n",
       "    </tr>\n",
       "    <tr>\n",
       "      <th>id</th>\n",
       "      <th>member_id</th>\n",
       "      <th></th>\n",
       "      <th></th>\n",
       "      <th></th>\n",
       "      <th></th>\n",
       "      <th></th>\n",
       "      <th></th>\n",
       "      <th></th>\n",
       "      <th></th>\n",
       "    </tr>\n",
       "  </thead>\n",
       "  <tbody>\n",
       "    <tr>\n",
       "      <th>68416935</th>\n",
       "      <th>73306760.0</th>\n",
       "      <td>0.0</td>\n",
       "      <td>1.0</td>\n",
       "      <td>0.0</td>\n",
       "      <td>0.0</td>\n",
       "      <td>0.0</td>\n",
       "      <td>0.0</td>\n",
       "      <td>0.0</td>\n",
       "      <td>0.0</td>\n",
       "    </tr>\n",
       "    <tr>\n",
       "      <th>68357012</th>\n",
       "      <th>73246847.0</th>\n",
       "      <td>0.0</td>\n",
       "      <td>1.0</td>\n",
       "      <td>0.0</td>\n",
       "      <td>0.0</td>\n",
       "      <td>0.0</td>\n",
       "      <td>0.0</td>\n",
       "      <td>0.0</td>\n",
       "      <td>0.0</td>\n",
       "    </tr>\n",
       "    <tr>\n",
       "      <th>68466916</th>\n",
       "      <th>73356753.0</th>\n",
       "      <td>1.0</td>\n",
       "      <td>0.0</td>\n",
       "      <td>0.0</td>\n",
       "      <td>0.0</td>\n",
       "      <td>0.0</td>\n",
       "      <td>0.0</td>\n",
       "      <td>0.0</td>\n",
       "      <td>0.0</td>\n",
       "    </tr>\n",
       "    <tr>\n",
       "      <th>68577849</th>\n",
       "      <th>73467703.0</th>\n",
       "      <td>0.0</td>\n",
       "      <td>0.0</td>\n",
       "      <td>1.0</td>\n",
       "      <td>0.0</td>\n",
       "      <td>0.0</td>\n",
       "      <td>0.0</td>\n",
       "      <td>0.0</td>\n",
       "      <td>0.0</td>\n",
       "    </tr>\n",
       "    <tr>\n",
       "      <th>68407301</th>\n",
       "      <th>73297138.0</th>\n",
       "      <td>0.0</td>\n",
       "      <td>0.0</td>\n",
       "      <td>1.0</td>\n",
       "      <td>0.0</td>\n",
       "      <td>0.0</td>\n",
       "      <td>0.0</td>\n",
       "      <td>0.0</td>\n",
       "      <td>0.0</td>\n",
       "    </tr>\n",
       "  </tbody>\n",
       "</table>\n",
       "</div>"
      ],
      "text/plain": [
       "                       A    B    C    D    E    F    G  None\n",
       "id       member_id                                          \n",
       "68416935 73306760.0  0.0  1.0  0.0  0.0  0.0  0.0  0.0   0.0\n",
       "68357012 73246847.0  0.0  1.0  0.0  0.0  0.0  0.0  0.0   0.0\n",
       "68466916 73356753.0  1.0  0.0  0.0  0.0  0.0  0.0  0.0   0.0\n",
       "68577849 73467703.0  0.0  0.0  1.0  0.0  0.0  0.0  0.0   0.0\n",
       "68407301 73297138.0  0.0  0.0  1.0  0.0  0.0  0.0  0.0   0.0"
      ]
     },
     "execution_count": 39,
     "metadata": {},
     "output_type": "execute_result"
    }
   ],
   "source": [
    "X = pd.get_dummies(fulldf.grade)\n",
    "X.head()"
   ]
  },
  {
   "cell_type": "code",
   "execution_count": 40,
   "metadata": {
    "collapsed": false
   },
   "outputs": [
    {
     "name": "stdout",
     "output_type": "stream",
     "text": [
      "Overall Accuracy: 0.911230987809\n",
      "F1 Score: 0.95355031206\n",
      "F1 Score (0 as \"positive\" since we are looking for \"Default\" cases): 0.00171190128036\n",
      "Weighted average F1 Score: 0.95315185628\n",
      "Micro average F1 Score: 0.911230987809\n",
      "Macro average F1 Score: 0.47763110667\n",
      "Class 0 Accuracy: 0.181818181818\n",
      "Class 1 Accuracy: 0.911536460316\n"
     ]
    }
   ],
   "source": [
    "y_pred = predict_outcome_baseline2(X.values)\n",
    "evaluate(y, y_pred)"
   ]
  },
  {
   "cell_type": "markdown",
   "metadata": {},
   "source": [
    "This model has better (compared to baseline 1) prediction accuracy for default (class 0) loans. However, the values are still very low.\n",
    "\n",
    "Changing the threshold should allow us to trade accuracies of prediction of the two classes."
   ]
  },
  {
   "cell_type": "markdown",
   "metadata": {},
   "source": [
    "### Baseline 2 descision tree comparison"
   ]
  },
  {
   "cell_type": "markdown",
   "metadata": {},
   "source": [
    "It would be interesting to see what a decision tree would pick as a threshold for this simplistic model.\n",
    "\n",
    "To do this, we encode the grade predictor as ordinal values and let the decision tree to pick a split point. We limit the depth to 1 to similate our decision process of the baseline model above."
   ]
  },
  {
   "cell_type": "code",
   "execution_count": 41,
   "metadata": {
    "collapsed": true
   },
   "outputs": [],
   "source": [
    "# https://github.com/JWarmenhoven/ISLR-python\n",
    "def print_tree(estimator, features, class_names=None, filled=True):\n",
    "    tree = estimator\n",
    "    names = features\n",
    "    color = filled\n",
    "    classn = class_names\n",
    "    \n",
    "    dot_data = StringIO.StringIO()\n",
    "    export_graphviz(estimator, out_file=dot_data, feature_names=features, proportion=True, class_names=classn, filled=filled)\n",
    "    graph = pydotplus.graph_from_dot_data(dot_data.getvalue())\n",
    "    return(graph)"
   ]
  },
  {
   "cell_type": "code",
   "execution_count": 42,
   "metadata": {
    "collapsed": false
   },
   "outputs": [
    {
     "name": "stdout",
     "output_type": "stream",
     "text": [
      "Categories of \"grade\" column: ['A', 'B', 'C', 'D', 'E', 'F', 'G', 'None']\n",
      "Number of rows with grade=None: 0\n"
     ]
    }
   ],
   "source": [
    "print 'Categories of \"grade\" column:', [x for x in fulldf.grade.cat.categories]\n",
    "print 'Number of rows with grade=None:', len(fulldf[fulldf.grade=='None'])"
   ]
  },
  {
   "cell_type": "markdown",
   "metadata": {
    "collapsed": true
   },
   "source": [
    "Since we do not have \"None\" values, our grades provide a sensible ordering."
   ]
  },
  {
   "cell_type": "code",
   "execution_count": 43,
   "metadata": {
    "collapsed": false
   },
   "outputs": [
    {
     "data": {
      "text/plain": [
       "id        member_id \n",
       "68416935  73306760.0    1\n",
       "68357012  73246847.0    1\n",
       "68466916  73356753.0    0\n",
       "68577849  73467703.0    2\n",
       "68407301  73297138.0    2\n",
       "dtype: int8"
      ]
     },
     "execution_count": 43,
     "metadata": {},
     "output_type": "execute_result"
    }
   ],
   "source": [
    "#here we encode the categorical loan_status column as numberic values\n",
    "#as the categories are ordinal\n",
    "X = fulldf.grade.cat.codes\n",
    "X.head()"
   ]
  },
  {
   "cell_type": "code",
   "execution_count": 44,
   "metadata": {
    "collapsed": false
   },
   "outputs": [],
   "source": [
    "X = X.reshape(-1, 1)"
   ]
  },
  {
   "cell_type": "code",
   "execution_count": 45,
   "metadata": {
    "collapsed": false
   },
   "outputs": [
    {
     "name": "stdout",
     "output_type": "stream",
     "text": [
      "Overall Accuracy: 0.509127120042\n",
      "F1 Score: 0.674596567354\n",
      "F1 Score (0 as \"positive\" since we are looking for \"Default\" cases): 0.00126467931346\n",
      "Weighted average F1 Score: 0.674314699151\n",
      "Micro average F1 Score: 0.509127120042\n",
      "Macro average F1 Score: 0.337930623334\n",
      "Class 0 Accuracy: 0.742424242424\n",
      "Class 1 Accuracy: 0.50902941699\n"
     ]
    }
   ],
   "source": [
    "#use scikit-learn decision tree and set class_weight to handle the imbalance\n",
    "tree = DecisionTreeClassifier(class_weight='balanced', max_depth=1)\n",
    "tree.fit(X, y)\n",
    "y_pred = tree.predict(X)\n",
    "evaluate(y, y_pred)"
   ]
  },
  {
   "cell_type": "markdown",
   "metadata": {},
   "source": [
    "With the \"balanced\" option, scikit-learn decision tree has set a threshold so that the prediction accuracies of the two classes to be more comparable."
   ]
  },
  {
   "cell_type": "code",
   "execution_count": 46,
   "metadata": {
    "collapsed": false
   },
   "outputs": [
    {
     "data": {
      "image/png": "[encoded data removed]",
      "text/plain": [
       "<IPython.core.display.Image object>"
      ]
     },
     "execution_count": 46,
     "metadata": {},
     "output_type": "execute_result"
    }
   ],
   "source": [
    "graph = print_tree(tree, ['grade'])\n",
    "Image(graph.create_png())"
   ]
  },
  {
   "cell_type": "markdown",
   "metadata": {},
   "source": [
    "The split chosen (1.5) corresponds to a boundary between grades B and C."
   ]
  }
 ],
 "metadata": {
  "anaconda-cloud": {},
  "kernelspec": {
   "display_name": "Python [conda env:cs109a_proj]",
   "language": "python",
   "name": "conda-env-cs109a_proj-py"
  },
  "language_info": {
   "codemirror_mode": {
    "name": "ipython",
    "version": 2
   },
   "file_extension": ".py",
   "mimetype": "text/x-python",
   "name": "python",
   "nbconvert_exporter": "python",
   "pygments_lexer": "ipython2",
   "version": "2.7.12"
  }
 },
 "nbformat": 4,
 "nbformat_minor": 0
}
