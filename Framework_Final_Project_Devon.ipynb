{
 "cells": [
  {
   "cell_type": "markdown",
   "metadata": {},
   "source": [
    "<br>\n",
    "<br>\n",
    "**<font size=7><center>Predicting Default Rates for Lending Club</center></font>**\n"
   ]
  },
  {
   "cell_type": "markdown",
   "metadata": {},
   "source": [
    "<font size=5>Devon Luongo</font> <br>\n",
    "<font size=4>Harvard University</font> <br>\n",
    "<font size=3>deluongo@gmail.com</font> <br>"
   ]
  },
  {
   "cell_type": "markdown",
   "metadata": {},
   "source": [
    "<font size=5>Ben Yuen</font> <br>\n",
    "<font size=4>Harvard University</font> <br>\n",
    "<font size=3></font> <br>"
   ]
  },
  {
   "cell_type": "markdown",
   "metadata": {},
   "source": [
    "<font size=5>Bryn Clark</font> <br>\n",
    "<font size=4>Harvard University</font> <br>\n",
    "<font size=3></font> <br>"
   ]
  },
  {
   "cell_type": "markdown",
   "metadata": {},
   "source": [
    "<font size=5>Ankit Agarwal</font> <br>\n",
    "<font size=4>Harvard University</font> <br>\n",
    "<font size=3></font> <br>"
   ]
  },
  {
   "cell_type": "markdown",
   "metadata": {},
   "source": [
    "**<font size=4><center>Abstract</center></font>**"
   ]
  },
  {
   "cell_type": "markdown",
   "metadata": {},
   "source": [
    "<center>**!!(Insert Abstract)!!**</center>"
   ]
  },
  {
   "cell_type": "markdown",
   "metadata": {},
   "source": [
    "# I. Introduction"
   ]
  },
  {
   "cell_type": "markdown",
   "metadata": {},
   "source": [
    "Lending Club is an online marketplace that fascilitates the lending money to individuals or businesses through online services that match lenders directly with borrowers. This practice is called Peer-to-Peer (P2P) Lending. With an A+ BBB rating, Lending Club offers an attractive alternative to bonds for steady investment income. Lending Club also states that borrowers are able to reduce their loans by an average of 30%.\n",
    "\n",
    "\"Since peer-to-peer lending companies offering these services operate entirely online, they can run with lower overhead and provide the service more cheaply than traditional financial institutions. As a result, lenders often earn higher returns compared to savings and investment products offered by banks, while borrowers can borrow money at lower interest rates, even after the P2P lending company has taken a fee for providing the match-making platform and credit checking the borrower.\"\n",
    "\n",
    "The downside to Lending Club however, is that most peer-to-peer loans are unsecured personal loans, meaning lenders incur a higher risk than comparable steady income investments like Treasury Bonds. Therefore, the investment quality of each loan depends largly on three factors: the expected return, the level of risk aversion, and the risk incurred. The first factor is built into the contract of the loan, and the second factor is personal preference. Therefore, the primary variable that that investors must identify when compoaring P2P Lending with other investment opportunities is the default risk for each loan. \n",
    "\n",
    "For this reason, Lending Club offers lenders a dataset containing a comprehensive list of features that can be employed to make better lending decisions. Detailed information for every loan have been issued by Lending Club from 2007 to 2015. Among**!!(Insert Num Predictors)!!** features or predictors in total, the dataset includes a borrower’s annual incomes, zip codes, revolving balances, and purpose for borrowing.\n",
    "\n",
    "Our objective was to build on similar projects conducted in recent years to construct a model for default risk to help lenders decrease the risk they occur when lending. We trained and tested a range of models in an attempt to identify the best performing model. Additionally, we constructed a cost based model aimed at maximizing Lending Clubs overhead.\n",
    "\n"
   ]
  },
  {
   "cell_type": "markdown",
   "metadata": {},
   "source": [
    "# II. Related Work"
   ]
  },
  {
   "cell_type": "markdown",
   "metadata": {},
   "source": [
    "**!!(Rewrite After Models Complete)!!** \n",
    "Prior projects like **!!(\"Predicting borrowers chance of defaulting on credit loans\" [1])!!** have set great examples of applying machine learning to improve loan default prediction in a Kaggle competition, and authors for**!!(\"Predicting Probability of Loan Default\" [2])!!**  have shown that Random Forest appeared to be the best performing model on the Kaggle data. \n",
    "\n",
    "However, despite the early success using Random Forest for default prediction, real-world records often behaves differently from curated data, and a later study **!!(\"Peer Lending Risk Predictor\" [3])!!** presented that a modified Logistic Regression model could outperform SVM, Naive Bayes, and even Random Forest on Lending Club data. \n",
    "\n",
    "The fact that Logistic Regression performance could be immensely improved by simply adding penalty factor on misclassification gave rise to our interest in fine tuning other not-yet optimized models, in particular, SVM and Naive Bayes, to continue the search for a better predictive model in the realm of loan default. Besides the difference in types of model that they focus on, the prior studies only used the out-of-the-box dataset from Kaggle or\n",
    "Lending Club, but research like **!!(\"The sensitivity of the loss given default rate to systematic risk\" [4])!!** has shown the linkage between default rate and macroeconomic factors, so we have decided to add in census data, with info like regional median income, to train our models on a more holistic set of features."
   ]
  },
  {
   "cell_type": "markdown",
   "metadata": {},
   "source": [
    "# III. Data"
   ]
  },
  {
   "cell_type": "markdown",
   "metadata": {},
   "source": [
    "### Loading"
   ]
  },
  {
   "cell_type": "markdown",
   "metadata": {},
   "source": [
    "<font size=3><u> Libraries:</u> </font>"
   ]
  },
  {
   "cell_type": "code",
   "execution_count": 1,
   "metadata": {
    "collapsed": false
   },
   "outputs": [],
   "source": [
    "import pandas as pd\n",
    "import numpy as np\n",
    "import matplotlib as mpl\n",
    "import matplotlib.pyplot as plt\n",
    "from mpl_toolkits.basemap import Basemap\n",
    "from matplotlib.patches import Polygon\n",
    "import matplotlib.cm as cmx\n",
    "import matplotlib.colors as colors\n",
    "import scipy\n",
    "%matplotlib inline\n",
    "\n",
    "\n",
    "#new imports for milestone 4\n",
    "from io import StringIO\n",
    "from IPython.display import Image\n",
    "import pydotplus\n",
    "from sklearn.tree import DecisionTreeClassifier, export_graphviz\n",
    "from sklearn.metrics import accuracy_score, f1_score, make_scorer, roc_auc_score\n",
    "\n",
    "from sklearn.linear_model import LogisticRegression\n",
    "from sklearn.metrics  import confusion_matrix\n",
    "import itertools\n",
    "from sklearn.cross_validation import train_test_split"
   ]
  },
  {
   "cell_type": "code",
   "execution_count": 2,
   "metadata": {
    "collapsed": true
   },
   "outputs": [],
   "source": [
    "path = \"/home/ankit/anaconda2/pkgs/basemap-1.0.7-np111py27_0/lib/python2.7/site-packages/mpl_toolkits/basemap/data/\""
   ]
  },
  {
   "cell_type": "markdown",
   "metadata": {},
   "source": [
    "### Data Cleaning"
   ]
  },
  {
   "cell_type": "markdown",
   "metadata": {},
   "source": [
    "Some of the data files have fields that contain NAs for older time periods. In order to collapse the data sets into one file, all numerical data will be stored in float fields (integer fields do not support NA missing values). To do this, we first define a conversion dictionary that stores the numeric fields with lookups to the *float* data type."
   ]
  },
  {
   "cell_type": "code",
   "execution_count": 3,
   "metadata": {
    "collapsed": false
   },
   "outputs": [],
   "source": [
    "convert_float = dict([s, float] for s in\n",
    "                     ['loan_amnt', 'funded_amnt', 'funded_amnt_inv', 'installment',\n",
    "                      'annual_inc', 'dti', 'delinq_2yrs', 'inq_last_6mths', 'mths_since_last_delinq',                      \n",
    "                      'mths_since_last_record', 'open_acc', 'pub_rec', 'revol_bal', 'total_acc',\n",
    "                      'out_prncp', 'out_prncp_inv', 'total_pymnt', 'total_pymnt_inv', 'total_rec_prncp',\n",
    "                      'total_rec_int', 'total_rec_late_fee', 'recoveries', 'collection_recovery_fee',\n",
    "                      'last_pymnt_amnt', 'collections_12_mths_ex_med', 'mths_since_last_major_derog',\n",
    "                      'annual_inc_joint', 'dti_joint', 'acc_now_delinq', 'tot_coll_amt', 'tot_cur_bal', \n",
    "                      'open_acc_6m', 'open_il_6m', 'open_il_12m', 'open_il_24m', 'mths_since_rcnt_il', \n",
    "                      'total_bal_il', 'il_util', 'open_rv_12m', 'open_rv_24m', 'max_bal_bc', \n",
    "                      'all_util', 'total_rev_hi_lim', 'inq_fi', 'total_cu_tl', 'inq_last_12m', \n",
    "                      'acc_open_past_24mths', 'avg_cur_bal', 'bc_open_to_buy', 'bc_util',\n",
    "                      'chargeoff_within_12_mths', 'delinq_amnt', 'mo_sin_old_il_acct',\n",
    "                      'mo_sin_old_rev_tl_op', 'mo_sin_rcnt_rev_tl_op', 'mo_sin_rcnt_tl', 'mort_acc',\n",
    "                      'mths_since_recent_bc', 'mths_since_recent_bc_dlq', 'mths_since_recent_inq',\n",
    "                      'mths_since_recent_revol_delinq', 'num_accts_ever_120_pd', 'num_actv_bc_tl', \n",
    "                      'num_actv_rev_tl', 'num_bc_sats', 'num_bc_tl', 'num_il_tl', 'num_op_rev_tl',\n",
    "                      'num_rev_accts', 'num_rev_tl_bal_gt_0', 'num_sats', 'num_tl_120dpd_2m',\n",
    "                      'num_tl_30dpd', 'num_tl_90g_dpd_24m', 'num_tl_op_past_12m', 'pct_tl_nvr_dlq',\n",
    "                      'percent_bc_gt_75', 'pub_rec_bankruptcies', 'tax_liens', 'tot_hi_cred_lim',\n",
    "                      'total_bal_ex_mort', 'total_bc_limit', 'total_il_high_credit_limit'])"
   ]
  },
  {
   "cell_type": "markdown",
   "metadata": {},
   "source": [
    "We also define a dictionary of string fields, to handle situations where the inferred data type might be numeric even though the field should be read in as a string/object."
   ]
  },
  {
   "cell_type": "code",
   "execution_count": 4,
   "metadata": {
    "collapsed": true
   },
   "outputs": [],
   "source": [
    "convert_str = dict([s, str] for s in\n",
    "                    ['term', 'int_rate', 'grade', 'sub_grade', 'emp_title', 'emp_length', 'home_ownership', \n",
    "                     'verification_status', 'issue_d', 'loan_status', 'pymnt_plan', 'url', 'desc', \n",
    "                     'purpose', 'title', 'zip_code', 'addr_state', 'earliest_cr_line', 'revol_util', \n",
    "                     'initial_list_status', 'last_pymnt_d', 'next_pymnt_d', 'last_credit_pull_d',\n",
    "                     'policy_code', 'application_type', 'verification_status_joint'])"
   ]
  },
  {
   "cell_type": "markdown",
   "metadata": {},
   "source": [
    "We read the input data from the CSV data files using pandas *read_csv*. There is a blank row in the data header and there are two blank rows in the footer of each file. To allow the use of *skip_footer*, we use the python engine rather than the C engine. The first two columns (*id* and *member_id*) are unique and used to create a table index."
   ]
  },
  {
   "cell_type": "code",
   "execution_count": 5,
   "metadata": {
    "collapsed": false
   },
   "outputs": [],
   "source": [
    "data_2007_2011 = pd.read_csv(\"./data/LoanStats3a.csv\",\n",
    "                   skiprows=1,\n",
    "                   skip_footer=2,\n",
    "                   engine=\"python\",\n",
    "                   na_values=['NaN', 'nan'],\n",
    "                   converters=convert_str,\n",
    "                   index_col=[0,1])\n",
    "\n",
    "data_2014 = pd.read_csv(\"./data/LoanStats3b.csv\",\n",
    "                   skiprows=1,\n",
    "                   skip_footer=2,\n",
    "                   engine=\"python\",\n",
    "                   na_values=['NaN', 'nan'],\n",
    "                   converters=convert_str,\n",
    "                   index_col=[0,1])\n",
    "\n",
    "data_2015 = pd.read_csv(\"./data/LoanStats3c.csv\",\n",
    "                   skiprows=1,\n",
    "                   skip_footer=2,\n",
    "                   engine=\"python\",\n",
    "                   na_values=['NaN', 'nan'],\n",
    "                   converters=convert_str,\n",
    "                   index_col=[0,1])\n",
    "\n",
    "data = pd.read_csv(\"./data/LoanStats3d.csv\",\n",
    "                   skiprows=1,\n",
    "                   skip_footer=2,\n",
    "                   engine=\"python\",\n",
    "                   na_values=['NaN', 'nan'],\n",
    "                   converters=convert_str,\n",
    "                   index_col=[0,1])"
   ]
  },
  {
   "cell_type": "code",
   "execution_count": 6,
   "metadata": {
    "collapsed": false
   },
   "outputs": [
    {
     "name": "stdout",
     "output_type": "stream",
     "text": [
      "Data table dimensions 2007-2011: 42536 x 109\n",
      "Data table dimensions 2014: 188181 x 109\n",
      "Data table dimensions 2015: 235629 x 109\n",
      "Data table dimensions 2016: 421095 x 109\n"
     ]
    }
   ],
   "source": [
    "print \"Data table dimensions 2007-2011: %d x %d\" % data_2007_2011.shape\n",
    "\n",
    "print \"Data table dimensions 2014: %d x %d\" % data_2014.shape\n",
    " \n",
    "print \"Data table dimensions 2015: %d x %d\" % data_2015.shape\n",
    "\n",
    "print \"Data table dimensions 2016: %d x %d\" % data.shape"
   ]
  },
  {
   "cell_type": "code",
   "execution_count": 7,
   "metadata": {
    "collapsed": false
   },
   "outputs": [
    {
     "data": {
      "text/html": [
       "<div>\n",
       "<table border=\"1\" class=\"dataframe\">\n",
       "  <thead>\n",
       "    <tr style=\"text-align: right;\">\n",
       "      <th></th>\n",
       "      <th></th>\n",
       "      <th>loan_amnt</th>\n",
       "      <th>funded_amnt</th>\n",
       "      <th>funded_amnt_inv</th>\n",
       "      <th>term</th>\n",
       "      <th>int_rate</th>\n",
       "      <th>installment</th>\n",
       "      <th>grade</th>\n",
       "      <th>sub_grade</th>\n",
       "      <th>emp_title</th>\n",
       "      <th>emp_length</th>\n",
       "      <th>...</th>\n",
       "      <th>num_tl_90g_dpd_24m</th>\n",
       "      <th>num_tl_op_past_12m</th>\n",
       "      <th>pct_tl_nvr_dlq</th>\n",
       "      <th>percent_bc_gt_75</th>\n",
       "      <th>pub_rec_bankruptcies</th>\n",
       "      <th>tax_liens</th>\n",
       "      <th>tot_hi_cred_lim</th>\n",
       "      <th>total_bal_ex_mort</th>\n",
       "      <th>total_bc_limit</th>\n",
       "      <th>total_il_high_credit_limit</th>\n",
       "    </tr>\n",
       "    <tr>\n",
       "      <th>id</th>\n",
       "      <th>member_id</th>\n",
       "      <th></th>\n",
       "      <th></th>\n",
       "      <th></th>\n",
       "      <th></th>\n",
       "      <th></th>\n",
       "      <th></th>\n",
       "      <th></th>\n",
       "      <th></th>\n",
       "      <th></th>\n",
       "      <th></th>\n",
       "      <th></th>\n",
       "      <th></th>\n",
       "      <th></th>\n",
       "      <th></th>\n",
       "      <th></th>\n",
       "      <th></th>\n",
       "      <th></th>\n",
       "      <th></th>\n",
       "      <th></th>\n",
       "      <th></th>\n",
       "      <th></th>\n",
       "    </tr>\n",
       "  </thead>\n",
       "  <tbody>\n",
       "    <tr>\n",
       "      <th>68516507</th>\n",
       "      <th>73406314</th>\n",
       "      <td>14000</td>\n",
       "      <td>14000</td>\n",
       "      <td>14000</td>\n",
       "      <td>36 months</td>\n",
       "      <td>9.80%</td>\n",
       "      <td>450.43</td>\n",
       "      <td>B</td>\n",
       "      <td>B3</td>\n",
       "      <td>Master mechanic</td>\n",
       "      <td>4 years</td>\n",
       "      <td>...</td>\n",
       "      <td>0</td>\n",
       "      <td>2</td>\n",
       "      <td>100.0</td>\n",
       "      <td>0.0</td>\n",
       "      <td>0</td>\n",
       "      <td>0</td>\n",
       "      <td>531602</td>\n",
       "      <td>84039</td>\n",
       "      <td>34500</td>\n",
       "      <td>55842</td>\n",
       "    </tr>\n",
       "    <tr>\n",
       "      <th>68587652</th>\n",
       "      <th>73477494</th>\n",
       "      <td>25000</td>\n",
       "      <td>25000</td>\n",
       "      <td>25000</td>\n",
       "      <td>36 months</td>\n",
       "      <td>5.32%</td>\n",
       "      <td>752.87</td>\n",
       "      <td>A</td>\n",
       "      <td>A1</td>\n",
       "      <td>Director</td>\n",
       "      <td>1 year</td>\n",
       "      <td>...</td>\n",
       "      <td>0</td>\n",
       "      <td>1</td>\n",
       "      <td>100.0</td>\n",
       "      <td>0.0</td>\n",
       "      <td>0</td>\n",
       "      <td>0</td>\n",
       "      <td>512381</td>\n",
       "      <td>44786</td>\n",
       "      <td>44000</td>\n",
       "      <td>51081</td>\n",
       "    </tr>\n",
       "    <tr>\n",
       "      <th>68009401</th>\n",
       "      <th>72868139</th>\n",
       "      <td>16000</td>\n",
       "      <td>16000</td>\n",
       "      <td>16000</td>\n",
       "      <td>60 months</td>\n",
       "      <td>14.85%</td>\n",
       "      <td>379.39</td>\n",
       "      <td>C</td>\n",
       "      <td>C5</td>\n",
       "      <td>Bookkeeper/Accounting</td>\n",
       "      <td>10+ years</td>\n",
       "      <td>...</td>\n",
       "      <td>0</td>\n",
       "      <td>2</td>\n",
       "      <td>78.9</td>\n",
       "      <td>0.0</td>\n",
       "      <td>0</td>\n",
       "      <td>2</td>\n",
       "      <td>298100</td>\n",
       "      <td>31329</td>\n",
       "      <td>281300</td>\n",
       "      <td>13400</td>\n",
       "    </tr>\n",
       "    <tr>\n",
       "      <th>68416935</th>\n",
       "      <th>73306760</th>\n",
       "      <td>15000</td>\n",
       "      <td>15000</td>\n",
       "      <td>15000</td>\n",
       "      <td>36 months</td>\n",
       "      <td>9.80%</td>\n",
       "      <td>482.61</td>\n",
       "      <td>B</td>\n",
       "      <td>B3</td>\n",
       "      <td>Electronic Branch Manager</td>\n",
       "      <td>3 years</td>\n",
       "      <td>...</td>\n",
       "      <td>0</td>\n",
       "      <td>4</td>\n",
       "      <td>100.0</td>\n",
       "      <td>0.0</td>\n",
       "      <td>1</td>\n",
       "      <td>0</td>\n",
       "      <td>347470</td>\n",
       "      <td>53397</td>\n",
       "      <td>36100</td>\n",
       "      <td>47370</td>\n",
       "    </tr>\n",
       "    <tr>\n",
       "      <th>68357012</th>\n",
       "      <th>73246847</th>\n",
       "      <td>15000</td>\n",
       "      <td>15000</td>\n",
       "      <td>15000</td>\n",
       "      <td>36 months</td>\n",
       "      <td>8.49%</td>\n",
       "      <td>473.45</td>\n",
       "      <td>B</td>\n",
       "      <td>B1</td>\n",
       "      <td>Senior Associate</td>\n",
       "      <td>6 years</td>\n",
       "      <td>...</td>\n",
       "      <td>0</td>\n",
       "      <td>4</td>\n",
       "      <td>100.0</td>\n",
       "      <td>20.0</td>\n",
       "      <td>1</td>\n",
       "      <td>0</td>\n",
       "      <td>369112</td>\n",
       "      <td>27849</td>\n",
       "      <td>28200</td>\n",
       "      <td>21124</td>\n",
       "    </tr>\n",
       "  </tbody>\n",
       "</table>\n",
       "<p>5 rows × 109 columns</p>\n",
       "</div>"
      ],
      "text/plain": [
       "                    loan_amnt  funded_amnt  funded_amnt_inv        term  \\\n",
       "id       member_id                                                        \n",
       "68516507 73406314       14000        14000            14000   36 months   \n",
       "68587652 73477494       25000        25000            25000   36 months   \n",
       "68009401 72868139       16000        16000            16000   60 months   \n",
       "68416935 73306760       15000        15000            15000   36 months   \n",
       "68357012 73246847       15000        15000            15000   36 months   \n",
       "\n",
       "                   int_rate  installment grade sub_grade  \\\n",
       "id       member_id                                         \n",
       "68516507 73406314     9.80%       450.43     B        B3   \n",
       "68587652 73477494     5.32%       752.87     A        A1   \n",
       "68009401 72868139    14.85%       379.39     C        C5   \n",
       "68416935 73306760     9.80%       482.61     B        B3   \n",
       "68357012 73246847     8.49%       473.45     B        B1   \n",
       "\n",
       "                                    emp_title emp_length  \\\n",
       "id       member_id                                         \n",
       "68516507 73406314             Master mechanic    4 years   \n",
       "68587652 73477494                    Director     1 year   \n",
       "68009401 72868139       Bookkeeper/Accounting  10+ years   \n",
       "68416935 73306760   Electronic Branch Manager    3 years   \n",
       "68357012 73246847            Senior Associate    6 years   \n",
       "\n",
       "                              ...             num_tl_90g_dpd_24m  \\\n",
       "id       member_id            ...                                  \n",
       "68516507 73406314             ...                              0   \n",
       "68587652 73477494             ...                              0   \n",
       "68009401 72868139             ...                              0   \n",
       "68416935 73306760             ...                              0   \n",
       "68357012 73246847             ...                              0   \n",
       "\n",
       "                    num_tl_op_past_12m pct_tl_nvr_dlq percent_bc_gt_75  \\\n",
       "id       member_id                                                       \n",
       "68516507 73406314                    2          100.0              0.0   \n",
       "68587652 73477494                    1          100.0              0.0   \n",
       "68009401 72868139                    2           78.9              0.0   \n",
       "68416935 73306760                    4          100.0              0.0   \n",
       "68357012 73246847                    4          100.0             20.0   \n",
       "\n",
       "                   pub_rec_bankruptcies tax_liens tot_hi_cred_lim  \\\n",
       "id       member_id                                                  \n",
       "68516507 73406314                     0         0          531602   \n",
       "68587652 73477494                     0         0          512381   \n",
       "68009401 72868139                     0         2          298100   \n",
       "68416935 73306760                     1         0          347470   \n",
       "68357012 73246847                     1         0          369112   \n",
       "\n",
       "                   total_bal_ex_mort total_bc_limit total_il_high_credit_limit  \n",
       "id       member_id                                                              \n",
       "68516507 73406314              84039          34500                      55842  \n",
       "68587652 73477494              44786          44000                      51081  \n",
       "68009401 72868139              31329         281300                      13400  \n",
       "68416935 73306760              53397          36100                      47370  \n",
       "68357012 73246847              27849          28200                      21124  \n",
       "\n",
       "[5 rows x 109 columns]"
      ]
     },
     "execution_count": 7,
     "metadata": {},
     "output_type": "execute_result"
    }
   ],
   "source": [
    "data.head()"
   ]
  },
  {
   "cell_type": "code",
   "execution_count": 8,
   "metadata": {
    "collapsed": false
   },
   "outputs": [
    {
     "data": {
      "text/html": [
       "<div>\n",
       "<table border=\"1\" class=\"dataframe\">\n",
       "  <thead>\n",
       "    <tr style=\"text-align: right;\">\n",
       "      <th></th>\n",
       "      <th></th>\n",
       "      <th>loan_amnt</th>\n",
       "      <th>funded_amnt</th>\n",
       "      <th>funded_amnt_inv</th>\n",
       "      <th>term</th>\n",
       "      <th>int_rate</th>\n",
       "      <th>installment</th>\n",
       "      <th>grade</th>\n",
       "      <th>sub_grade</th>\n",
       "      <th>emp_title</th>\n",
       "      <th>emp_length</th>\n",
       "      <th>...</th>\n",
       "      <th>num_tl_90g_dpd_24m</th>\n",
       "      <th>num_tl_op_past_12m</th>\n",
       "      <th>pct_tl_nvr_dlq</th>\n",
       "      <th>percent_bc_gt_75</th>\n",
       "      <th>pub_rec_bankruptcies</th>\n",
       "      <th>tax_liens</th>\n",
       "      <th>tot_hi_cred_lim</th>\n",
       "      <th>total_bal_ex_mort</th>\n",
       "      <th>total_bc_limit</th>\n",
       "      <th>total_il_high_credit_limit</th>\n",
       "    </tr>\n",
       "    <tr>\n",
       "      <th>id</th>\n",
       "      <th>member_id</th>\n",
       "      <th></th>\n",
       "      <th></th>\n",
       "      <th></th>\n",
       "      <th></th>\n",
       "      <th></th>\n",
       "      <th></th>\n",
       "      <th></th>\n",
       "      <th></th>\n",
       "      <th></th>\n",
       "      <th></th>\n",
       "      <th></th>\n",
       "      <th></th>\n",
       "      <th></th>\n",
       "      <th></th>\n",
       "      <th></th>\n",
       "      <th></th>\n",
       "      <th></th>\n",
       "      <th></th>\n",
       "      <th></th>\n",
       "      <th></th>\n",
       "      <th></th>\n",
       "    </tr>\n",
       "  </thead>\n",
       "  <tbody>\n",
       "    <tr>\n",
       "      <th>38098114</th>\n",
       "      <th>40860827</th>\n",
       "      <td>15000</td>\n",
       "      <td>15000</td>\n",
       "      <td>15000</td>\n",
       "      <td>60 months</td>\n",
       "      <td>12.39%</td>\n",
       "      <td>336.64</td>\n",
       "      <td>C</td>\n",
       "      <td>C1</td>\n",
       "      <td>MANAGEMENT</td>\n",
       "      <td>10+ years</td>\n",
       "      <td>...</td>\n",
       "      <td>0</td>\n",
       "      <td>4</td>\n",
       "      <td>100.0</td>\n",
       "      <td>0.0</td>\n",
       "      <td>0</td>\n",
       "      <td>0</td>\n",
       "      <td>196500</td>\n",
       "      <td>149140</td>\n",
       "      <td>10000</td>\n",
       "      <td>12000</td>\n",
       "    </tr>\n",
       "    <tr>\n",
       "      <th>36805548</th>\n",
       "      <th>39558264</th>\n",
       "      <td>10400</td>\n",
       "      <td>10400</td>\n",
       "      <td>10400</td>\n",
       "      <td>36 months</td>\n",
       "      <td>6.99%</td>\n",
       "      <td>321.08</td>\n",
       "      <td>A</td>\n",
       "      <td>A3</td>\n",
       "      <td>Truck Driver Delivery Personel</td>\n",
       "      <td>8 years</td>\n",
       "      <td>...</td>\n",
       "      <td>0</td>\n",
       "      <td>4</td>\n",
       "      <td>83.3</td>\n",
       "      <td>14.3</td>\n",
       "      <td>0</td>\n",
       "      <td>0</td>\n",
       "      <td>179407</td>\n",
       "      <td>15030</td>\n",
       "      <td>13000</td>\n",
       "      <td>11325</td>\n",
       "    </tr>\n",
       "    <tr>\n",
       "      <th>37822187</th>\n",
       "      <th>40585251</th>\n",
       "      <td>9600</td>\n",
       "      <td>9600</td>\n",
       "      <td>9600</td>\n",
       "      <td>36 months</td>\n",
       "      <td>13.66%</td>\n",
       "      <td>326.53</td>\n",
       "      <td>C</td>\n",
       "      <td>C3</td>\n",
       "      <td>Admin Specialist</td>\n",
       "      <td>10+ years</td>\n",
       "      <td>...</td>\n",
       "      <td>0</td>\n",
       "      <td>3</td>\n",
       "      <td>100.0</td>\n",
       "      <td>60.0</td>\n",
       "      <td>0</td>\n",
       "      <td>0</td>\n",
       "      <td>52490</td>\n",
       "      <td>38566</td>\n",
       "      <td>21100</td>\n",
       "      <td>24890</td>\n",
       "    </tr>\n",
       "    <tr>\n",
       "      <th>37612354</th>\n",
       "      <th>40375473</th>\n",
       "      <td>12800</td>\n",
       "      <td>12800</td>\n",
       "      <td>12800</td>\n",
       "      <td>60 months</td>\n",
       "      <td>17.14%</td>\n",
       "      <td>319.08</td>\n",
       "      <td>D</td>\n",
       "      <td>D4</td>\n",
       "      <td>Senior Sales Professional</td>\n",
       "      <td>10+ years</td>\n",
       "      <td>...</td>\n",
       "      <td>0</td>\n",
       "      <td>0</td>\n",
       "      <td>76.9</td>\n",
       "      <td>100.0</td>\n",
       "      <td>0</td>\n",
       "      <td>0</td>\n",
       "      <td>368700</td>\n",
       "      <td>18007</td>\n",
       "      <td>4400</td>\n",
       "      <td>18000</td>\n",
       "    </tr>\n",
       "    <tr>\n",
       "      <th>37662224</th>\n",
       "      <th>40425321</th>\n",
       "      <td>7650</td>\n",
       "      <td>7650</td>\n",
       "      <td>7650</td>\n",
       "      <td>36 months</td>\n",
       "      <td>13.66%</td>\n",
       "      <td>260.20</td>\n",
       "      <td>C</td>\n",
       "      <td>C3</td>\n",
       "      <td>Technical Specialist</td>\n",
       "      <td>&lt; 1 year</td>\n",
       "      <td>...</td>\n",
       "      <td>0</td>\n",
       "      <td>2</td>\n",
       "      <td>100.0</td>\n",
       "      <td>100.0</td>\n",
       "      <td>0</td>\n",
       "      <td>0</td>\n",
       "      <td>82331</td>\n",
       "      <td>64426</td>\n",
       "      <td>4900</td>\n",
       "      <td>64031</td>\n",
       "    </tr>\n",
       "  </tbody>\n",
       "</table>\n",
       "<p>5 rows × 109 columns</p>\n",
       "</div>"
      ],
      "text/plain": [
       "                    loan_amnt  funded_amnt  funded_amnt_inv        term  \\\n",
       "id       member_id                                                        \n",
       "38098114 40860827       15000        15000            15000   60 months   \n",
       "36805548 39558264       10400        10400            10400   36 months   \n",
       "37822187 40585251        9600         9600             9600   36 months   \n",
       "37612354 40375473       12800        12800            12800   60 months   \n",
       "37662224 40425321        7650         7650             7650   36 months   \n",
       "\n",
       "                   int_rate  installment grade sub_grade  \\\n",
       "id       member_id                                         \n",
       "38098114 40860827    12.39%       336.64     C        C1   \n",
       "36805548 39558264     6.99%       321.08     A        A3   \n",
       "37822187 40585251    13.66%       326.53     C        C3   \n",
       "37612354 40375473    17.14%       319.08     D        D4   \n",
       "37662224 40425321    13.66%       260.20     C        C3   \n",
       "\n",
       "                                         emp_title emp_length  \\\n",
       "id       member_id                                              \n",
       "38098114 40860827                       MANAGEMENT  10+ years   \n",
       "36805548 39558264   Truck Driver Delivery Personel    8 years   \n",
       "37822187 40585251                 Admin Specialist  10+ years   \n",
       "37612354 40375473        Senior Sales Professional  10+ years   \n",
       "37662224 40425321             Technical Specialist   < 1 year   \n",
       "\n",
       "                              ...             num_tl_90g_dpd_24m  \\\n",
       "id       member_id            ...                                  \n",
       "38098114 40860827             ...                              0   \n",
       "36805548 39558264             ...                              0   \n",
       "37822187 40585251             ...                              0   \n",
       "37612354 40375473             ...                              0   \n",
       "37662224 40425321             ...                              0   \n",
       "\n",
       "                    num_tl_op_past_12m pct_tl_nvr_dlq percent_bc_gt_75  \\\n",
       "id       member_id                                                       \n",
       "38098114 40860827                    4          100.0              0.0   \n",
       "36805548 39558264                    4           83.3             14.3   \n",
       "37822187 40585251                    3          100.0             60.0   \n",
       "37612354 40375473                    0           76.9            100.0   \n",
       "37662224 40425321                    2          100.0            100.0   \n",
       "\n",
       "                   pub_rec_bankruptcies tax_liens tot_hi_cred_lim  \\\n",
       "id       member_id                                                  \n",
       "38098114 40860827                     0         0          196500   \n",
       "36805548 39558264                     0         0          179407   \n",
       "37822187 40585251                     0         0           52490   \n",
       "37612354 40375473                     0         0          368700   \n",
       "37662224 40425321                     0         0           82331   \n",
       "\n",
       "                   total_bal_ex_mort total_bc_limit total_il_high_credit_limit  \n",
       "id       member_id                                                              \n",
       "38098114 40860827             149140          10000                      12000  \n",
       "36805548 39558264              15030          13000                      11325  \n",
       "37822187 40585251              38566          21100                      24890  \n",
       "37612354 40375473              18007           4400                      18000  \n",
       "37662224 40425321              64426           4900                      64031  \n",
       "\n",
       "[5 rows x 109 columns]"
      ]
     },
     "execution_count": 8,
     "metadata": {},
     "output_type": "execute_result"
    }
   ],
   "source": [
    "data_2015.head()"
   ]
  },
  {
   "cell_type": "markdown",
   "metadata": {},
   "source": [
    "Check the count of fields by data type:"
   ]
  },
  {
   "cell_type": "code",
   "execution_count": 9,
   "metadata": {
    "collapsed": false
   },
   "outputs": [
    {
     "data": {
      "text/html": [
       "<div>\n",
       "<table border=\"1\" class=\"dataframe\">\n",
       "  <thead>\n",
       "    <tr style=\"text-align: right;\">\n",
       "      <th></th>\n",
       "      <th></th>\n",
       "      <th>loan_amnt</th>\n",
       "      <th>funded_amnt</th>\n",
       "      <th>funded_amnt_inv</th>\n",
       "      <th>term</th>\n",
       "      <th>int_rate</th>\n",
       "      <th>installment</th>\n",
       "      <th>grade</th>\n",
       "      <th>sub_grade</th>\n",
       "      <th>emp_title</th>\n",
       "      <th>emp_length</th>\n",
       "      <th>...</th>\n",
       "      <th>num_tl_90g_dpd_24m</th>\n",
       "      <th>num_tl_op_past_12m</th>\n",
       "      <th>pct_tl_nvr_dlq</th>\n",
       "      <th>percent_bc_gt_75</th>\n",
       "      <th>pub_rec_bankruptcies</th>\n",
       "      <th>tax_liens</th>\n",
       "      <th>tot_hi_cred_lim</th>\n",
       "      <th>total_bal_ex_mort</th>\n",
       "      <th>total_bc_limit</th>\n",
       "      <th>total_il_high_credit_limit</th>\n",
       "    </tr>\n",
       "    <tr>\n",
       "      <th>id</th>\n",
       "      <th>member_id</th>\n",
       "      <th></th>\n",
       "      <th></th>\n",
       "      <th></th>\n",
       "      <th></th>\n",
       "      <th></th>\n",
       "      <th></th>\n",
       "      <th></th>\n",
       "      <th></th>\n",
       "      <th></th>\n",
       "      <th></th>\n",
       "      <th></th>\n",
       "      <th></th>\n",
       "      <th></th>\n",
       "      <th></th>\n",
       "      <th></th>\n",
       "      <th></th>\n",
       "      <th></th>\n",
       "      <th></th>\n",
       "      <th></th>\n",
       "      <th></th>\n",
       "      <th></th>\n",
       "    </tr>\n",
       "  </thead>\n",
       "  <tbody>\n",
       "    <tr>\n",
       "      <th>10159611</th>\n",
       "      <th>12011228</th>\n",
       "      <td>10000</td>\n",
       "      <td>10000</td>\n",
       "      <td>10000.0</td>\n",
       "      <td>36 months</td>\n",
       "      <td>9.67%</td>\n",
       "      <td>321.13</td>\n",
       "      <td>B</td>\n",
       "      <td>B1</td>\n",
       "      <td>Registered Nurse</td>\n",
       "      <td>7 years</td>\n",
       "      <td>...</td>\n",
       "      <td>0.0</td>\n",
       "      <td>1.0</td>\n",
       "      <td>77.3</td>\n",
       "      <td>66.7</td>\n",
       "      <td>0</td>\n",
       "      <td>0</td>\n",
       "      <td>58486.0</td>\n",
       "      <td>39143.0</td>\n",
       "      <td>9200.0</td>\n",
       "      <td>36186.0</td>\n",
       "    </tr>\n",
       "    <tr>\n",
       "      <th>10129477</th>\n",
       "      <th>11981093</th>\n",
       "      <td>14000</td>\n",
       "      <td>14000</td>\n",
       "      <td>14000.0</td>\n",
       "      <td>36 months</td>\n",
       "      <td>12.85%</td>\n",
       "      <td>470.71</td>\n",
       "      <td>B</td>\n",
       "      <td>B4</td>\n",
       "      <td>Assistant Director - Human Resources</td>\n",
       "      <td>4 years</td>\n",
       "      <td>...</td>\n",
       "      <td>0.0</td>\n",
       "      <td>0.0</td>\n",
       "      <td>78.6</td>\n",
       "      <td>100.0</td>\n",
       "      <td>1</td>\n",
       "      <td>0</td>\n",
       "      <td>31840.0</td>\n",
       "      <td>17672.0</td>\n",
       "      <td>3900.0</td>\n",
       "      <td>27340.0</td>\n",
       "    </tr>\n",
       "    <tr>\n",
       "      <th>10149342</th>\n",
       "      <th>12000897</th>\n",
       "      <td>27050</td>\n",
       "      <td>27050</td>\n",
       "      <td>27050.0</td>\n",
       "      <td>36 months</td>\n",
       "      <td>10.99%</td>\n",
       "      <td>885.46</td>\n",
       "      <td>B</td>\n",
       "      <td>B2</td>\n",
       "      <td>Team Leadern Customer Ops &amp; Systems</td>\n",
       "      <td>10+ years</td>\n",
       "      <td>...</td>\n",
       "      <td>0.0</td>\n",
       "      <td>1.0</td>\n",
       "      <td>100.0</td>\n",
       "      <td>25.0</td>\n",
       "      <td>0</td>\n",
       "      <td>0</td>\n",
       "      <td>138554.0</td>\n",
       "      <td>70186.0</td>\n",
       "      <td>35700.0</td>\n",
       "      <td>33054.0</td>\n",
       "    </tr>\n",
       "    <tr>\n",
       "      <th>10139658</th>\n",
       "      <th>11991209</th>\n",
       "      <td>12000</td>\n",
       "      <td>12000</td>\n",
       "      <td>12000.0</td>\n",
       "      <td>36 months</td>\n",
       "      <td>13.53%</td>\n",
       "      <td>407.40</td>\n",
       "      <td>B</td>\n",
       "      <td>B5</td>\n",
       "      <td>On road manager</td>\n",
       "      <td>10+ years</td>\n",
       "      <td>...</td>\n",
       "      <td>0.0</td>\n",
       "      <td>2.0</td>\n",
       "      <td>81.2</td>\n",
       "      <td>33.3</td>\n",
       "      <td>0</td>\n",
       "      <td>0</td>\n",
       "      <td>18130.0</td>\n",
       "      <td>13605.0</td>\n",
       "      <td>7000.0</td>\n",
       "      <td>10030.0</td>\n",
       "    </tr>\n",
       "    <tr>\n",
       "      <th>10159548</th>\n",
       "      <th>12011167</th>\n",
       "      <td>15000</td>\n",
       "      <td>15000</td>\n",
       "      <td>15000.0</td>\n",
       "      <td>36 months</td>\n",
       "      <td>8.90%</td>\n",
       "      <td>476.30</td>\n",
       "      <td>A</td>\n",
       "      <td>A5</td>\n",
       "      <td>aircraft maintenance engineer</td>\n",
       "      <td>2 years</td>\n",
       "      <td>...</td>\n",
       "      <td>0.0</td>\n",
       "      <td>0.0</td>\n",
       "      <td>89.3</td>\n",
       "      <td>66.7</td>\n",
       "      <td>0</td>\n",
       "      <td>0</td>\n",
       "      <td>288195.0</td>\n",
       "      <td>39448.0</td>\n",
       "      <td>14200.0</td>\n",
       "      <td>33895.0</td>\n",
       "    </tr>\n",
       "  </tbody>\n",
       "</table>\n",
       "<p>5 rows × 109 columns</p>\n",
       "</div>"
      ],
      "text/plain": [
       "                    loan_amnt  funded_amnt  funded_amnt_inv        term  \\\n",
       "id       member_id                                                        \n",
       "10159611 12011228       10000        10000          10000.0   36 months   \n",
       "10129477 11981093       14000        14000          14000.0   36 months   \n",
       "10149342 12000897       27050        27050          27050.0   36 months   \n",
       "10139658 11991209       12000        12000          12000.0   36 months   \n",
       "10159548 12011167       15000        15000          15000.0   36 months   \n",
       "\n",
       "                   int_rate  installment grade sub_grade  \\\n",
       "id       member_id                                         \n",
       "10159611 12011228     9.67%       321.13     B        B1   \n",
       "10129477 11981093    12.85%       470.71     B        B4   \n",
       "10149342 12000897    10.99%       885.46     B        B2   \n",
       "10139658 11991209    13.53%       407.40     B        B5   \n",
       "10159548 12011167     8.90%       476.30     A        A5   \n",
       "\n",
       "                                               emp_title emp_length  \\\n",
       "id       member_id                                                    \n",
       "10159611 12011228                       Registered Nurse    7 years   \n",
       "10129477 11981093   Assistant Director - Human Resources    4 years   \n",
       "10149342 12000897    Team Leadern Customer Ops & Systems  10+ years   \n",
       "10139658 11991209                        On road manager  10+ years   \n",
       "10159548 12011167          aircraft maintenance engineer    2 years   \n",
       "\n",
       "                              ...             num_tl_90g_dpd_24m  \\\n",
       "id       member_id            ...                                  \n",
       "10159611 12011228             ...                            0.0   \n",
       "10129477 11981093             ...                            0.0   \n",
       "10149342 12000897             ...                            0.0   \n",
       "10139658 11991209             ...                            0.0   \n",
       "10159548 12011167             ...                            0.0   \n",
       "\n",
       "                    num_tl_op_past_12m pct_tl_nvr_dlq percent_bc_gt_75  \\\n",
       "id       member_id                                                       \n",
       "10159611 12011228                  1.0           77.3             66.7   \n",
       "10129477 11981093                  0.0           78.6            100.0   \n",
       "10149342 12000897                  1.0          100.0             25.0   \n",
       "10139658 11991209                  2.0           81.2             33.3   \n",
       "10159548 12011167                  0.0           89.3             66.7   \n",
       "\n",
       "                   pub_rec_bankruptcies tax_liens tot_hi_cred_lim  \\\n",
       "id       member_id                                                  \n",
       "10159611 12011228                     0         0         58486.0   \n",
       "10129477 11981093                     1         0         31840.0   \n",
       "10149342 12000897                     0         0        138554.0   \n",
       "10139658 11991209                     0         0         18130.0   \n",
       "10159548 12011167                     0         0        288195.0   \n",
       "\n",
       "                   total_bal_ex_mort total_bc_limit total_il_high_credit_limit  \n",
       "id       member_id                                                              \n",
       "10159611 12011228            39143.0         9200.0                    36186.0  \n",
       "10129477 11981093            17672.0         3900.0                    27340.0  \n",
       "10149342 12000897            70186.0        35700.0                    33054.0  \n",
       "10139658 11991209            13605.0         7000.0                    10030.0  \n",
       "10159548 12011167            39448.0        14200.0                    33895.0  \n",
       "\n",
       "[5 rows x 109 columns]"
      ]
     },
     "execution_count": 9,
     "metadata": {},
     "output_type": "execute_result"
    }
   ],
   "source": [
    "data_2014.head()"
   ]
  },
  {
   "cell_type": "code",
   "execution_count": 10,
   "metadata": {
    "collapsed": false
   },
   "outputs": [
    {
     "data": {
      "text/html": [
       "<div>\n",
       "<table border=\"1\" class=\"dataframe\">\n",
       "  <thead>\n",
       "    <tr style=\"text-align: right;\">\n",
       "      <th></th>\n",
       "      <th></th>\n",
       "      <th>loan_amnt</th>\n",
       "      <th>funded_amnt</th>\n",
       "      <th>funded_amnt_inv</th>\n",
       "      <th>term</th>\n",
       "      <th>int_rate</th>\n",
       "      <th>installment</th>\n",
       "      <th>grade</th>\n",
       "      <th>sub_grade</th>\n",
       "      <th>emp_title</th>\n",
       "      <th>emp_length</th>\n",
       "      <th>...</th>\n",
       "      <th>num_tl_90g_dpd_24m</th>\n",
       "      <th>num_tl_op_past_12m</th>\n",
       "      <th>pct_tl_nvr_dlq</th>\n",
       "      <th>percent_bc_gt_75</th>\n",
       "      <th>pub_rec_bankruptcies</th>\n",
       "      <th>tax_liens</th>\n",
       "      <th>tot_hi_cred_lim</th>\n",
       "      <th>total_bal_ex_mort</th>\n",
       "      <th>total_bc_limit</th>\n",
       "      <th>total_il_high_credit_limit</th>\n",
       "    </tr>\n",
       "    <tr>\n",
       "      <th>id</th>\n",
       "      <th>member_id</th>\n",
       "      <th></th>\n",
       "      <th></th>\n",
       "      <th></th>\n",
       "      <th></th>\n",
       "      <th></th>\n",
       "      <th></th>\n",
       "      <th></th>\n",
       "      <th></th>\n",
       "      <th></th>\n",
       "      <th></th>\n",
       "      <th></th>\n",
       "      <th></th>\n",
       "      <th></th>\n",
       "      <th></th>\n",
       "      <th></th>\n",
       "      <th></th>\n",
       "      <th></th>\n",
       "      <th></th>\n",
       "      <th></th>\n",
       "      <th></th>\n",
       "      <th></th>\n",
       "    </tr>\n",
       "  </thead>\n",
       "  <tbody>\n",
       "    <tr>\n",
       "      <th>1077501</th>\n",
       "      <th>1296599.0</th>\n",
       "      <td>5000.0</td>\n",
       "      <td>5000.0</td>\n",
       "      <td>4975.0</td>\n",
       "      <td>36 months</td>\n",
       "      <td>10.65%</td>\n",
       "      <td>162.87</td>\n",
       "      <td>B</td>\n",
       "      <td>B2</td>\n",
       "      <td>NaN</td>\n",
       "      <td>10+ years</td>\n",
       "      <td>...</td>\n",
       "      <td>NaN</td>\n",
       "      <td>NaN</td>\n",
       "      <td>NaN</td>\n",
       "      <td>NaN</td>\n",
       "      <td>0.0</td>\n",
       "      <td>0.0</td>\n",
       "      <td>NaN</td>\n",
       "      <td>NaN</td>\n",
       "      <td>NaN</td>\n",
       "      <td>NaN</td>\n",
       "    </tr>\n",
       "    <tr>\n",
       "      <th>1077430</th>\n",
       "      <th>1314167.0</th>\n",
       "      <td>2500.0</td>\n",
       "      <td>2500.0</td>\n",
       "      <td>2500.0</td>\n",
       "      <td>60 months</td>\n",
       "      <td>15.27%</td>\n",
       "      <td>59.83</td>\n",
       "      <td>C</td>\n",
       "      <td>C4</td>\n",
       "      <td>Ryder</td>\n",
       "      <td>&lt; 1 year</td>\n",
       "      <td>...</td>\n",
       "      <td>NaN</td>\n",
       "      <td>NaN</td>\n",
       "      <td>NaN</td>\n",
       "      <td>NaN</td>\n",
       "      <td>0.0</td>\n",
       "      <td>0.0</td>\n",
       "      <td>NaN</td>\n",
       "      <td>NaN</td>\n",
       "      <td>NaN</td>\n",
       "      <td>NaN</td>\n",
       "    </tr>\n",
       "    <tr>\n",
       "      <th>1077175</th>\n",
       "      <th>1313524.0</th>\n",
       "      <td>2400.0</td>\n",
       "      <td>2400.0</td>\n",
       "      <td>2400.0</td>\n",
       "      <td>36 months</td>\n",
       "      <td>15.96%</td>\n",
       "      <td>84.33</td>\n",
       "      <td>C</td>\n",
       "      <td>C5</td>\n",
       "      <td>NaN</td>\n",
       "      <td>10+ years</td>\n",
       "      <td>...</td>\n",
       "      <td>NaN</td>\n",
       "      <td>NaN</td>\n",
       "      <td>NaN</td>\n",
       "      <td>NaN</td>\n",
       "      <td>0.0</td>\n",
       "      <td>0.0</td>\n",
       "      <td>NaN</td>\n",
       "      <td>NaN</td>\n",
       "      <td>NaN</td>\n",
       "      <td>NaN</td>\n",
       "    </tr>\n",
       "    <tr>\n",
       "      <th>1076863</th>\n",
       "      <th>1277178.0</th>\n",
       "      <td>10000.0</td>\n",
       "      <td>10000.0</td>\n",
       "      <td>10000.0</td>\n",
       "      <td>36 months</td>\n",
       "      <td>13.49%</td>\n",
       "      <td>339.31</td>\n",
       "      <td>C</td>\n",
       "      <td>C1</td>\n",
       "      <td>AIR RESOURCES BOARD</td>\n",
       "      <td>10+ years</td>\n",
       "      <td>...</td>\n",
       "      <td>NaN</td>\n",
       "      <td>NaN</td>\n",
       "      <td>NaN</td>\n",
       "      <td>NaN</td>\n",
       "      <td>0.0</td>\n",
       "      <td>0.0</td>\n",
       "      <td>NaN</td>\n",
       "      <td>NaN</td>\n",
       "      <td>NaN</td>\n",
       "      <td>NaN</td>\n",
       "    </tr>\n",
       "    <tr>\n",
       "      <th>1075358</th>\n",
       "      <th>1311748.0</th>\n",
       "      <td>3000.0</td>\n",
       "      <td>3000.0</td>\n",
       "      <td>3000.0</td>\n",
       "      <td>60 months</td>\n",
       "      <td>12.69%</td>\n",
       "      <td>67.79</td>\n",
       "      <td>B</td>\n",
       "      <td>B5</td>\n",
       "      <td>University Medical Group</td>\n",
       "      <td>1 year</td>\n",
       "      <td>...</td>\n",
       "      <td>NaN</td>\n",
       "      <td>NaN</td>\n",
       "      <td>NaN</td>\n",
       "      <td>NaN</td>\n",
       "      <td>0.0</td>\n",
       "      <td>0.0</td>\n",
       "      <td>NaN</td>\n",
       "      <td>NaN</td>\n",
       "      <td>NaN</td>\n",
       "      <td>NaN</td>\n",
       "    </tr>\n",
       "  </tbody>\n",
       "</table>\n",
       "<p>5 rows × 109 columns</p>\n",
       "</div>"
      ],
      "text/plain": [
       "                   loan_amnt  funded_amnt  funded_amnt_inv        term  \\\n",
       "id      member_id                                                        \n",
       "1077501 1296599.0     5000.0       5000.0           4975.0   36 months   \n",
       "1077430 1314167.0     2500.0       2500.0           2500.0   60 months   \n",
       "1077175 1313524.0     2400.0       2400.0           2400.0   36 months   \n",
       "1076863 1277178.0    10000.0      10000.0          10000.0   36 months   \n",
       "1075358 1311748.0     3000.0       3000.0           3000.0   60 months   \n",
       "\n",
       "                  int_rate  installment grade sub_grade  \\\n",
       "id      member_id                                         \n",
       "1077501 1296599.0   10.65%       162.87     B        B2   \n",
       "1077430 1314167.0   15.27%        59.83     C        C4   \n",
       "1077175 1313524.0   15.96%        84.33     C        C5   \n",
       "1076863 1277178.0   13.49%       339.31     C        C1   \n",
       "1075358 1311748.0   12.69%        67.79     B        B5   \n",
       "\n",
       "                                  emp_title emp_length  \\\n",
       "id      member_id                                        \n",
       "1077501 1296599.0                       NaN  10+ years   \n",
       "1077430 1314167.0                     Ryder   < 1 year   \n",
       "1077175 1313524.0                       NaN  10+ years   \n",
       "1076863 1277178.0       AIR RESOURCES BOARD  10+ years   \n",
       "1075358 1311748.0  University Medical Group     1 year   \n",
       "\n",
       "                             ...             num_tl_90g_dpd_24m  \\\n",
       "id      member_id            ...                                  \n",
       "1077501 1296599.0            ...                            NaN   \n",
       "1077430 1314167.0            ...                            NaN   \n",
       "1077175 1313524.0            ...                            NaN   \n",
       "1076863 1277178.0            ...                            NaN   \n",
       "1075358 1311748.0            ...                            NaN   \n",
       "\n",
       "                   num_tl_op_past_12m pct_tl_nvr_dlq percent_bc_gt_75  \\\n",
       "id      member_id                                                       \n",
       "1077501 1296599.0                 NaN            NaN              NaN   \n",
       "1077430 1314167.0                 NaN            NaN              NaN   \n",
       "1077175 1313524.0                 NaN            NaN              NaN   \n",
       "1076863 1277178.0                 NaN            NaN              NaN   \n",
       "1075358 1311748.0                 NaN            NaN              NaN   \n",
       "\n",
       "                  pub_rec_bankruptcies tax_liens tot_hi_cred_lim  \\\n",
       "id      member_id                                                  \n",
       "1077501 1296599.0                  0.0       0.0             NaN   \n",
       "1077430 1314167.0                  0.0       0.0             NaN   \n",
       "1077175 1313524.0                  0.0       0.0             NaN   \n",
       "1076863 1277178.0                  0.0       0.0             NaN   \n",
       "1075358 1311748.0                  0.0       0.0             NaN   \n",
       "\n",
       "                  total_bal_ex_mort total_bc_limit total_il_high_credit_limit  \n",
       "id      member_id                                                              \n",
       "1077501 1296599.0               NaN            NaN                        NaN  \n",
       "1077430 1314167.0               NaN            NaN                        NaN  \n",
       "1077175 1313524.0               NaN            NaN                        NaN  \n",
       "1076863 1277178.0               NaN            NaN                        NaN  \n",
       "1075358 1311748.0               NaN            NaN                        NaN  \n",
       "\n",
       "[5 rows x 109 columns]"
      ]
     },
     "execution_count": 10,
     "metadata": {},
     "output_type": "execute_result"
    }
   ],
   "source": [
    "data_2007_2011.head()"
   ]
  },
  {
   "cell_type": "code",
   "execution_count": 11,
   "metadata": {
    "collapsed": false
   },
   "outputs": [
    {
     "name": "stdout",
     "output_type": "stream",
     "text": [
      "float64    83\n",
      "object     26\n",
      "dtype: int64\n",
      "\n",
      "float64    69\n",
      "object     26\n",
      "int64      14\n",
      "dtype: int64\n",
      "\n",
      "float64    43\n",
      "int64      40\n",
      "object     26\n",
      "dtype: int64\n",
      "\n"
     ]
    },
    {
     "data": {
      "text/plain": [
       "float64    43\n",
       "int64      40\n",
       "object     26\n",
       "dtype: int64"
      ]
     },
     "execution_count": 11,
     "metadata": {},
     "output_type": "execute_result"
    }
   ],
   "source": [
    "print data_2007_2011.dtypes.value_counts()\n",
    "print\n",
    "print data_2014.dtypes.value_counts()\n",
    "print\n",
    "print data_2015.dtypes.value_counts()\n",
    "print\n",
    "data.dtypes.value_counts()"
   ]
  },
  {
   "cell_type": "markdown",
   "metadata": {},
   "source": [
    "Depending on the specific dataset used, the numeric values may be read in as integers. For best performance and to enable mergining of the datasets, we convert those fields to floats (which allow NaN values):"
   ]
  },
  {
   "cell_type": "code",
   "execution_count": 12,
   "metadata": {
    "collapsed": false
   },
   "outputs": [],
   "source": [
    "for k, v in convert_float.items():\n",
    "    data_2007_2011[k] = data_2007_2011[k].astype(v)\n",
    "    data_2014[k] = data_2014[k].astype(v)\n",
    "    data_2015[k] = data_2015[k].astype(v)\n",
    "    data[k] = data[k].astype(v)"
   ]
  },
  {
   "cell_type": "markdown",
   "metadata": {},
   "source": [
    "Checking the data types after the float conversion:"
   ]
  },
  {
   "cell_type": "code",
   "execution_count": 13,
   "metadata": {
    "collapsed": false
   },
   "outputs": [
    {
     "name": "stdout",
     "output_type": "stream",
     "text": [
      "float64    83\n",
      "object     26\n",
      "dtype: int64\n",
      "\n",
      "float64    83\n",
      "object     26\n",
      "dtype: int64\n",
      "\n",
      "float64    83\n",
      "object     26\n",
      "dtype: int64\n",
      "\n"
     ]
    },
    {
     "data": {
      "text/plain": [
       "float64    83\n",
       "object     26\n",
       "dtype: int64"
      ]
     },
     "execution_count": 13,
     "metadata": {},
     "output_type": "execute_result"
    }
   ],
   "source": [
    "print data_2007_2011.dtypes.value_counts()\n",
    "print\n",
    "print data_2014.dtypes.value_counts()\n",
    "print\n",
    "print data_2015.dtypes.value_counts()\n",
    "print\n",
    "data.dtypes.value_counts()"
   ]
  },
  {
   "cell_type": "markdown",
   "metadata": {},
   "source": [
    "The object fields need some more processing. First, we list out those fields:"
   ]
  },
  {
   "cell_type": "code",
   "execution_count": 14,
   "metadata": {
    "collapsed": false
   },
   "outputs": [
    {
     "data": {
      "text/plain": [
       "term                         object\n",
       "int_rate                     object\n",
       "grade                        object\n",
       "sub_grade                    object\n",
       "emp_title                    object\n",
       "emp_length                   object\n",
       "home_ownership               object\n",
       "verification_status          object\n",
       "issue_d                      object\n",
       "loan_status                  object\n",
       "pymnt_plan                   object\n",
       "url                          object\n",
       "desc                         object\n",
       "purpose                      object\n",
       "title                        object\n",
       "zip_code                     object\n",
       "addr_state                   object\n",
       "earliest_cr_line             object\n",
       "revol_util                   object\n",
       "initial_list_status          object\n",
       "last_pymnt_d                 object\n",
       "next_pymnt_d                 object\n",
       "last_credit_pull_d           object\n",
       "policy_code                  object\n",
       "application_type             object\n",
       "verification_status_joint    object\n",
       "dtype: object"
      ]
     },
     "execution_count": 14,
     "metadata": {},
     "output_type": "execute_result"
    }
   ],
   "source": [
    "data.dtypes[data.dtypes==\"object\"]\n",
    "data_2007_2011.dtypes[data_2007_2011.dtypes==\"object\"]\n",
    "data_2014.dtypes[data_2014.dtypes==\"object\"]\n",
    "data_2015.dtypes[data_2015.dtypes==\"object\"]"
   ]
  },
  {
   "cell_type": "markdown",
   "metadata": {},
   "source": [
    "There are 5 object fields that contain dates in the format *YYYY-MMM* (e.g. '2010-Jan'). We parse those to return datetime fields, which are more easily input into time series models or plotted in charts."
   ]
  },
  {
   "cell_type": "code",
   "execution_count": 15,
   "metadata": {
    "collapsed": false
   },
   "outputs": [],
   "source": [
    "data.issue_d = pd.to_datetime(data.issue_d, errors=\"coerce\")\n",
    "data.last_pymnt_d = pd.to_datetime(data.last_pymnt_d, errors=\"coerce\")\n",
    "data.next_pymnt_d = pd.to_datetime(data.next_pymnt_d, errors=\"coerce\")\n",
    "data.last_credit_pull_d = pd.to_datetime(data.last_credit_pull_d, errors=\"coerce\")\n",
    "data.earliest_cr_line = pd.to_datetime(data.earliest_cr_line, errors=\"coerce\")\n",
    "\n",
    "data_2007_2011.issue_d = pd.to_datetime(data_2007_2011.issue_d, errors=\"coerce\")\n",
    "data_2007_2011.last_pymnt_d = pd.to_datetime(data_2007_2011.last_pymnt_d, errors=\"coerce\")\n",
    "data_2007_2011.next_pymnt_d = pd.to_datetime(data_2007_2011.next_pymnt_d, errors=\"coerce\")\n",
    "data_2007_2011.last_credit_pull_d = pd.to_datetime(data_2007_2011.last_credit_pull_d, errors=\"coerce\")\n",
    "data_2007_2011.earliest_cr_line = pd.to_datetime(data_2007_2011.earliest_cr_line, errors=\"coerce\")\n",
    "\n",
    "data_2014.issue_d = pd.to_datetime(data_2014.issue_d, errors=\"coerce\")\n",
    "data_2014.last_pymnt_d = pd.to_datetime(data_2014.last_pymnt_d, errors=\"coerce\")\n",
    "data_2014.next_pymnt_d = pd.to_datetime(data_2014.next_pymnt_d, errors=\"coerce\")\n",
    "data_2014.last_credit_pull_d = pd.to_datetime(data_2014.last_credit_pull_d, errors=\"coerce\")\n",
    "data_2014.earliest_cr_line = pd.to_datetime(data_2014.earliest_cr_line, errors=\"coerce\")\n",
    "\n",
    "data_2015.issue_d = pd.to_datetime(data_2015.issue_d, errors=\"coerce\")\n",
    "data_2015.last_pymnt_d = pd.to_datetime(data_2015.last_pymnt_d, errors=\"coerce\")\n",
    "data_2015.next_pymnt_d = pd.to_datetime(data_2015.next_pymnt_d, errors=\"coerce\")\n",
    "data_2015.last_credit_pull_d = pd.to_datetime(data_2015.last_credit_pull_d, errors=\"coerce\")\n",
    "data_2015.earliest_cr_line = pd.to_datetime(data_2015.earliest_cr_line, errors=\"coerce\")"
   ]
  },
  {
   "cell_type": "markdown",
   "metadata": {},
   "source": [
    "### Feature expansion"
   ]
  },
  {
   "cell_type": "markdown",
   "metadata": {},
   "source": [
    "Many of the remaining fields contain categorical data. We use the pandas *category* data type to store the data more efficiently."
   ]
  },
  {
   "cell_type": "code",
   "execution_count": 16,
   "metadata": {
    "collapsed": false
   },
   "outputs": [],
   "source": [
    "data.term = pd.Categorical(data.term, categories= [\" 36 months\", \" 60 months\", \"None\"])\n",
    "data.grade = pd.Categorical(data.grade, categories=[\"A\", \"B\", \"C\", \"D\", \"E\", \"F\", \"G\", \"None\"])\n",
    "data.sub_grade = pd.Categorical(data.sub_grade, categories=[\"A1\", \"A2\", \"A3\", \"A4\", \"A5\",\n",
    "                                                            \"B1\", \"B2\", \"B3\", \"B4\", \"B5\", \n",
    "                                                            \"C1\", \"C2\", \"C3\", \"C4\", \"C5\",\n",
    "                                                            \"D1\", \"D2\", \"D3\", \"D4\", \"D5\",\n",
    "                                                            \"E1\", \"E2\", \"E3\", \"E4\", \"E5\",\n",
    "                                                            \"F1\", \"F2\", \"F3\", \"F4\", \"F5\",\n",
    "                                                            \"G1\", \"G2\", \"G3\", \"G4\", \"G5\",\n",
    "                                                            \"None\"])\n",
    "data.home_ownership = pd.Categorical(data.home_ownership.str.title(), categories=[\"Own\", \"Mortgage\", \"Rent\", \"Any\", \"Other\", \"None\"])\n",
    "data.emp_length = pd.Categorical(data.emp_length, categories=[\"< 1 year\", \"1 year\", \"2 years\", \"3 years\",\n",
    "                                                              \"4 years\", \"5 years\", \"6 years\", \"7 years\",\n",
    "                                                              \"8 years\", \"9 years\", \"10+ years\", \"n/a\", \"None\"])\n",
    "data.verification_status = pd.Categorical(data.verification_status, categories=[\"Verified\", \"Source Verified\", \"Not Verified\", \"None\"])\n",
    "data.loan_status = pd.Categorical(data.loan_status, categories=[\"Fully Paid\", \"Current\", \"Charged Off\",\n",
    "                                                                \"Does not meet the credit policy. Status:Fully Paid\",\n",
    "                                                                \"Does not meet the credit policy. Status:Charged Off\",\n",
    "                                                                \"In Grace Period\", \"Late (16-30 days)\", \"Late (31-120 days)\",\n",
    "                                                                \"Default\", \"None\"])\n",
    "data.pymnt_plan = pd.Categorical(data.pymnt_plan.str.title(), categories=[\"Y\", \"N\", \"None\"])\n",
    "data.purpose = pd.Categorical(data.purpose.str.title(),\n",
    "                              categories=[\"Debt_Consolidation\", \"Credit_Card\", \"Home_Improvement\", \"Major_Purchase\", \n",
    "                                          \"Small_Business\", \"Car\", \"Wedding\", \"Medical\", \"Moving\", \"House\",\n",
    "                                          \"Educational\", \"Vacation\", \"Renewable_Energy\", \"Other\", \"None\"])\n",
    "data.addr_state = pd.Categorical(data.addr_state,\n",
    "                                 categories=[\"AK\", \"AL\", \"AR\", \"AZ\", \"CA\", \"CO\", \"CT\", \"DC\", \"DE\", \"FL\",\n",
    "                                             \"GA\", \"HI\", \"IA\", \"ID\", \"IL\", \"IN\", \"KS\", \"KY\", \"LA\", \"MA\",\n",
    "                                             \"MD\", \"ME\", \"MI\", \"MN\", \"MO\", \"MS\", \"MT\", \"NC\", \"ND\", \"NE\",\n",
    "                                             \"NH\", \"NJ\", \"NM\", \"NV\", \"NY\", \"OH\", \"OK\", \"OR\", \"PA\", \"RI\",\n",
    "                                             \"SC\", \"SD\", \"TN\", \"TX\", \"UT\", \"VA\", \"VT\", \"WA\", \"WI\", \"WV\",\n",
    "                                             \"WY\", \"None\"])\n",
    "data.initial_list_status = pd.Categorical(data.initial_list_status, categories=[\"f\", \"w\", \"None\"])\n",
    "data.policy_code = pd.Categorical(data.policy_code, categories=[\"1\", \"None\"])\n",
    "data.application_type = pd.Categorical(data.application_type.str.title(), categories=[\"Individual\", \"Joint\", \"None\"])\n",
    "data.verification_status_joint = pd.Categorical(data.verification_status_joint, categories=[\"Verified\", \"Source Verified\", \"Not Verified\", \"None\"])"
   ]
  },
  {
   "cell_type": "code",
   "execution_count": 17,
   "metadata": {
    "collapsed": true
   },
   "outputs": [],
   "source": [
    "data_2007_2011.term = pd.Categorical(data_2007_2011.term, categories= [\" 36 months\", \" 60 months\", \"None\"])\n",
    "data_2007_2011.grade = pd.Categorical(data_2007_2011.grade, categories=[\"A\", \"B\", \"C\", \"D\", \"E\", \"F\", \"G\", \"None\"])\n",
    "data_2007_2011.sub_grade = pd.Categorical(data_2007_2011.sub_grade, categories=[\"A1\", \"A2\", \"A3\", \"A4\", \"A5\",\n",
    "                                                            \"B1\", \"B2\", \"B3\", \"B4\", \"B5\", \n",
    "                                                            \"C1\", \"C2\", \"C3\", \"C4\", \"C5\",\n",
    "                                                            \"D1\", \"D2\", \"D3\", \"D4\", \"D5\",\n",
    "                                                            \"E1\", \"E2\", \"E3\", \"E4\", \"E5\",\n",
    "                                                            \"F1\", \"F2\", \"F3\", \"F4\", \"F5\",\n",
    "                                                            \"G1\", \"G2\", \"G3\", \"G4\", \"G5\",\n",
    "                                                            \"None\"])\n",
    "data_2007_2011.home_ownership = pd.Categorical(data_2007_2011.home_ownership.str.title(), categories=[\"Own\", \"Mortgage\", \"Rent\", \"Any\", \"Other\", \"None\"])\n",
    "data_2007_2011.emp_length = pd.Categorical(data_2007_2011.emp_length, categories=[\"< 1 year\", \"1 year\", \"2 years\", \"3 years\",\n",
    "                                                              \"4 years\", \"5 years\", \"6 years\", \"7 years\",\n",
    "                                                              \"8 years\", \"9 years\", \"10+ years\", \"n/a\", \"None\"])\n",
    "data_2007_2011.verification_status = pd.Categorical(data_2007_2011.verification_status, categories=[\"Verified\", \"Source Verified\", \"Not Verified\", \"None\"])\n",
    "data_2007_2011.loan_status = pd.Categorical(data_2007_2011.loan_status, categories=[\"Fully Paid\", \"Current\", \"Charged Off\",\n",
    "                                                                \"Does not meet the credit policy. Status:Fully Paid\",\n",
    "                                                                \"Does not meet the credit policy. Status:Charged Off\",\n",
    "                                                                \"In Grace Period\", \"Late (16-30 days)\", \"Late (31-120 days)\",\n",
    "                                                                \"Default\", \"None\"])\n",
    "data_2007_2011.pymnt_plan = pd.Categorical(data_2007_2011.pymnt_plan.str.title(), categories=[\"Y\", \"N\", \"None\"])\n",
    "data_2007_2011.purpose = pd.Categorical(data_2007_2011.purpose.str.title(),\n",
    "                              categories=[\"Debt_Consolidation\", \"Credit_Card\", \"Home_Improvement\", \"Major_Purchase\", \n",
    "                                          \"Small_Business\", \"Car\", \"Wedding\", \"Medical\", \"Moving\", \"House\",\n",
    "                                          \"Educational\", \"Vacation\", \"Renewable_Energy\", \"Other\", \"None\"])\n",
    "data_2007_2011.addr_state = pd.Categorical(data_2007_2011.addr_state,\n",
    "                                 categories=[\"AK\", \"AL\", \"AR\", \"AZ\", \"CA\", \"CO\", \"CT\", \"DC\", \"DE\", \"FL\",\n",
    "                                             \"GA\", \"HI\", \"IA\", \"ID\", \"IL\", \"IN\", \"KS\", \"KY\", \"LA\", \"MA\",\n",
    "                                             \"MD\", \"ME\", \"MI\", \"MN\", \"MO\", \"MS\", \"MT\", \"NC\", \"ND\", \"NE\",\n",
    "                                             \"NH\", \"NJ\", \"NM\", \"NV\", \"NY\", \"OH\", \"OK\", \"OR\", \"PA\", \"RI\",\n",
    "                                             \"SC\", \"SD\", \"TN\", \"TX\", \"UT\", \"VA\", \"VT\", \"WA\", \"WI\", \"WV\",\n",
    "                                             \"WY\", \"None\"])\n",
    "data_2007_2011.initial_list_status = pd.Categorical(data_2007_2011.initial_list_status, categories=[\"f\", \"w\", \"None\"])\n",
    "data_2007_2011.policy_code = pd.Categorical(data_2007_2011.policy_code, categories=[\"1\", \"None\"])\n",
    "data_2007_2011.application_type = pd.Categorical(data_2007_2011.application_type.str.title(), categories=[\"Individual\", \"Joint\", \"None\"])\n",
    "data_2007_2011.verification_status_joint = pd.Categorical(data_2007_2011.verification_status_joint, categories=[\"Verified\", \"Source Verified\", \"Not Verified\", \"None\"])"
   ]
  },
  {
   "cell_type": "code",
   "execution_count": 18,
   "metadata": {
    "collapsed": true
   },
   "outputs": [],
   "source": [
    "data_2014.term = pd.Categorical(data_2014.term, categories= [\" 36 months\", \" 60 months\", \"None\"])\n",
    "data_2014.grade = pd.Categorical(data_2014.grade, categories=[\"A\", \"B\", \"C\", \"D\", \"E\", \"F\", \"G\", \"None\"])\n",
    "data_2014.sub_grade = pd.Categorical(data_2014.sub_grade, categories=[\"A1\", \"A2\", \"A3\", \"A4\", \"A5\",\n",
    "                                                            \"B1\", \"B2\", \"B3\", \"B4\", \"B5\", \n",
    "                                                            \"C1\", \"C2\", \"C3\", \"C4\", \"C5\",\n",
    "                                                            \"D1\", \"D2\", \"D3\", \"D4\", \"D5\",\n",
    "                                                            \"E1\", \"E2\", \"E3\", \"E4\", \"E5\",\n",
    "                                                            \"F1\", \"F2\", \"F3\", \"F4\", \"F5\",\n",
    "                                                            \"G1\", \"G2\", \"G3\", \"G4\", \"G5\",\n",
    "                                                            \"None\"])\n",
    "data_2014.home_ownership = pd.Categorical(data_2014.home_ownership.str.title(), categories=[\"Own\", \"Mortgage\", \"Rent\", \"Any\", \"Other\", \"None\"])\n",
    "data_2014.emp_length = pd.Categorical(data_2014.emp_length, categories=[\"< 1 year\", \"1 year\", \"2 years\", \"3 years\",\n",
    "                                                              \"4 years\", \"5 years\", \"6 years\", \"7 years\",\n",
    "                                                              \"8 years\", \"9 years\", \"10+ years\", \"n/a\", \"None\"])\n",
    "data_2014.verification_status = pd.Categorical(data_2014.verification_status, categories=[\"Verified\", \"Source Verified\", \"Not Verified\", \"None\"])\n",
    "data_2014.loan_status = pd.Categorical(data_2014.loan_status, categories=[\"Fully Paid\", \"Current\", \"Charged Off\",\n",
    "                                                                \"Does not meet the credit policy. Status:Fully Paid\",\n",
    "                                                                \"Does not meet the credit policy. Status:Charged Off\",\n",
    "                                                                \"In Grace Period\", \"Late (16-30 days)\", \"Late (31-120 days)\",\n",
    "                                                                \"Default\", \"None\"])\n",
    "data_2014.pymnt_plan = pd.Categorical(data_2014.pymnt_plan.str.title(), categories=[\"Y\", \"N\", \"None\"])\n",
    "data_2014.purpose = pd.Categorical(data_2014.purpose.str.title(),\n",
    "                              categories=[\"Debt_Consolidation\", \"Credit_Card\", \"Home_Improvement\", \"Major_Purchase\", \n",
    "                                          \"Small_Business\", \"Car\", \"Wedding\", \"Medical\", \"Moving\", \"House\",\n",
    "                                          \"Educational\", \"Vacation\", \"Renewable_Energy\", \"Other\", \"None\"])\n",
    "data_2014.addr_state = pd.Categorical(data_2014.addr_state,\n",
    "                                 categories=[\"AK\", \"AL\", \"AR\", \"AZ\", \"CA\", \"CO\", \"CT\", \"DC\", \"DE\", \"FL\",\n",
    "                                             \"GA\", \"HI\", \"IA\", \"ID\", \"IL\", \"IN\", \"KS\", \"KY\", \"LA\", \"MA\",\n",
    "                                             \"MD\", \"ME\", \"MI\", \"MN\", \"MO\", \"MS\", \"MT\", \"NC\", \"ND\", \"NE\",\n",
    "                                             \"NH\", \"NJ\", \"NM\", \"NV\", \"NY\", \"OH\", \"OK\", \"OR\", \"PA\", \"RI\",\n",
    "                                             \"SC\", \"SD\", \"TN\", \"TX\", \"UT\", \"VA\", \"VT\", \"WA\", \"WI\", \"WV\",\n",
    "                                             \"WY\", \"None\"])\n",
    "data_2014.initial_list_status = pd.Categorical(data_2014.initial_list_status, categories=[\"f\", \"w\", \"None\"])\n",
    "data_2014.policy_code = pd.Categorical(data_2014.policy_code, categories=[\"1\", \"None\"])\n",
    "data_2014.application_type = pd.Categorical(data_2014.application_type.str.title(), categories=[\"Individual\", \"Joint\", \"None\"])\n",
    "data_2014.verification_status_joint = pd.Categorical(data_2014.verification_status_joint, categories=[\"Verified\", \"Source Verified\", \"Not Verified\", \"None\"])"
   ]
  },
  {
   "cell_type": "code",
   "execution_count": 19,
   "metadata": {
    "collapsed": true
   },
   "outputs": [],
   "source": [
    "data_2015.term = pd.Categorical(data_2015.term, categories= [\" 36 months\", \" 60 months\", \"None\"])\n",
    "data_2015.grade = pd.Categorical(data_2015.grade, categories=[\"A\", \"B\", \"C\", \"D\", \"E\", \"F\", \"G\", \"None\"])\n",
    "data_2015.sub_grade = pd.Categorical(data_2015.sub_grade, categories=[\"A1\", \"A2\", \"A3\", \"A4\", \"A5\",\n",
    "                                                            \"B1\", \"B2\", \"B3\", \"B4\", \"B5\", \n",
    "                                                            \"C1\", \"C2\", \"C3\", \"C4\", \"C5\",\n",
    "                                                            \"D1\", \"D2\", \"D3\", \"D4\", \"D5\",\n",
    "                                                            \"E1\", \"E2\", \"E3\", \"E4\", \"E5\",\n",
    "                                                            \"F1\", \"F2\", \"F3\", \"F4\", \"F5\",\n",
    "                                                            \"G1\", \"G2\", \"G3\", \"G4\", \"G5\",\n",
    "                                                            \"None\"])\n",
    "data_2015.home_ownership = pd.Categorical(data_2015.home_ownership.str.title(), categories=[\"Own\", \"Mortgage\", \"Rent\", \"Any\", \"Other\", \"None\"])\n",
    "data_2015.emp_length = pd.Categorical(data_2015.emp_length, categories=[\"< 1 year\", \"1 year\", \"2 years\", \"3 years\",\n",
    "                                                              \"4 years\", \"5 years\", \"6 years\", \"7 years\",\n",
    "                                                              \"8 years\", \"9 years\", \"10+ years\", \"n/a\", \"None\"])\n",
    "data_2015.verification_status = pd.Categorical(data_2015.verification_status, categories=[\"Verified\", \"Source Verified\", \"Not Verified\", \"None\"])\n",
    "data_2015.loan_status = pd.Categorical(data_2015.loan_status, categories=[\"Fully Paid\", \"Current\", \"Charged Off\",\n",
    "                                                                \"Does not meet the credit policy. Status:Fully Paid\",\n",
    "                                                                \"Does not meet the credit policy. Status:Charged Off\",\n",
    "                                                                \"In Grace Period\", \"Late (16-30 days)\", \"Late (31-120 days)\",\n",
    "                                                                \"Default\", \"None\"])\n",
    "data_2015.pymnt_plan = pd.Categorical(data_2015.pymnt_plan.str.title(), categories=[\"Y\", \"N\", \"None\"])\n",
    "data_2015.purpose = pd.Categorical(data_2015.purpose.str.title(),\n",
    "                              categories=[\"Debt_Consolidation\", \"Credit_Card\", \"Home_Improvement\", \"Major_Purchase\", \n",
    "                                          \"Small_Business\", \"Car\", \"Wedding\", \"Medical\", \"Moving\", \"House\",\n",
    "                                          \"Educational\", \"Vacation\", \"Renewable_Energy\", \"Other\", \"None\"])\n",
    "data_2015.addr_state = pd.Categorical(data_2015.addr_state,\n",
    "                                 categories=[\"AK\", \"AL\", \"AR\", \"AZ\", \"CA\", \"CO\", \"CT\", \"DC\", \"DE\", \"FL\",\n",
    "                                             \"GA\", \"HI\", \"IA\", \"ID\", \"IL\", \"IN\", \"KS\", \"KY\", \"LA\", \"MA\",\n",
    "                                             \"MD\", \"ME\", \"MI\", \"MN\", \"MO\", \"MS\", \"MT\", \"NC\", \"ND\", \"NE\",\n",
    "                                             \"NH\", \"NJ\", \"NM\", \"NV\", \"NY\", \"OH\", \"OK\", \"OR\", \"PA\", \"RI\",\n",
    "                                             \"SC\", \"SD\", \"TN\", \"TX\", \"UT\", \"VA\", \"VT\", \"WA\", \"WI\", \"WV\",\n",
    "                                             \"WY\", \"None\"])\n",
    "data_2015.initial_list_status = pd.Categorical(data_2015.initial_list_status, categories=[\"f\", \"w\", \"None\"])\n",
    "data_2015.policy_code = pd.Categorical(data_2015.policy_code, categories=[\"1\", \"None\"])\n",
    "data_2015.application_type = pd.Categorical(data_2015.application_type.str.title(), categories=[\"Individual\", \"Joint\", \"None\"])\n",
    "data_2015.verification_status_joint = pd.Categorical(data_2015.verification_status_joint, categories=[\"Verified\", \"Source Verified\", \"Not Verified\", \"None\"])"
   ]
  },
  {
   "cell_type": "markdown",
   "metadata": {},
   "source": [
    "To validate the categorical data conversion, we check a table listing Null values for each field. If any categories were excluded inadvertently, the *Null Count* in this table would show up as > 0. The *verification_status_joint* field does not appear to contain valid data for the datasets that have been analyzed."
   ]
  },
  {
   "cell_type": "code",
   "execution_count": 20,
   "metadata": {
    "collapsed": false
   },
   "outputs": [
    {
     "data": {
      "text/html": [
       "<div>\n",
       "<table border=\"1\" class=\"dataframe\">\n",
       "  <thead>\n",
       "    <tr style=\"text-align: right;\">\n",
       "      <th></th>\n",
       "      <th>Categorical Field</th>\n",
       "      <th>Null Count</th>\n",
       "    </tr>\n",
       "  </thead>\n",
       "  <tbody>\n",
       "    <tr>\n",
       "      <th>0</th>\n",
       "      <td>term</td>\n",
       "      <td>0</td>\n",
       "    </tr>\n",
       "    <tr>\n",
       "      <th>1</th>\n",
       "      <td>grade</td>\n",
       "      <td>0</td>\n",
       "    </tr>\n",
       "    <tr>\n",
       "      <th>2</th>\n",
       "      <td>sub_grade</td>\n",
       "      <td>0</td>\n",
       "    </tr>\n",
       "    <tr>\n",
       "      <th>3</th>\n",
       "      <td>emp_length</td>\n",
       "      <td>0</td>\n",
       "    </tr>\n",
       "    <tr>\n",
       "      <th>4</th>\n",
       "      <td>home_ownership</td>\n",
       "      <td>0</td>\n",
       "    </tr>\n",
       "    <tr>\n",
       "      <th>5</th>\n",
       "      <td>verification_status</td>\n",
       "      <td>0</td>\n",
       "    </tr>\n",
       "    <tr>\n",
       "      <th>6</th>\n",
       "      <td>loan_status</td>\n",
       "      <td>0</td>\n",
       "    </tr>\n",
       "    <tr>\n",
       "      <th>7</th>\n",
       "      <td>pymnt_plan</td>\n",
       "      <td>0</td>\n",
       "    </tr>\n",
       "    <tr>\n",
       "      <th>8</th>\n",
       "      <td>purpose</td>\n",
       "      <td>0</td>\n",
       "    </tr>\n",
       "    <tr>\n",
       "      <th>9</th>\n",
       "      <td>addr_state</td>\n",
       "      <td>0</td>\n",
       "    </tr>\n",
       "    <tr>\n",
       "      <th>10</th>\n",
       "      <td>initial_list_status</td>\n",
       "      <td>0</td>\n",
       "    </tr>\n",
       "    <tr>\n",
       "      <th>11</th>\n",
       "      <td>policy_code</td>\n",
       "      <td>0</td>\n",
       "    </tr>\n",
       "    <tr>\n",
       "      <th>12</th>\n",
       "      <td>application_type</td>\n",
       "      <td>0</td>\n",
       "    </tr>\n",
       "    <tr>\n",
       "      <th>13</th>\n",
       "      <td>verification_status_joint</td>\n",
       "      <td>420584</td>\n",
       "    </tr>\n",
       "  </tbody>\n",
       "</table>\n",
       "</div>"
      ],
      "text/plain": [
       "            Categorical Field  Null Count\n",
       "0                        term           0\n",
       "1                       grade           0\n",
       "2                   sub_grade           0\n",
       "3                  emp_length           0\n",
       "4              home_ownership           0\n",
       "5         verification_status           0\n",
       "6                 loan_status           0\n",
       "7                  pymnt_plan           0\n",
       "8                     purpose           0\n",
       "9                  addr_state           0\n",
       "10        initial_list_status           0\n",
       "11                policy_code           0\n",
       "12           application_type           0\n",
       "13  verification_status_joint      420584"
      ]
     },
     "execution_count": 20,
     "metadata": {},
     "output_type": "execute_result"
    }
   ],
   "source": [
    "pd.DataFrame([[f, sum(pd.isnull(data[f]))] for f in data.columns[data.dtypes==\"category\"]],\n",
    "             columns=[\"Categorical Field\", \"Null Count\"])"
   ]
  },
  {
   "cell_type": "code",
   "execution_count": 21,
   "metadata": {
    "collapsed": false
   },
   "outputs": [
    {
     "data": {
      "text/html": [
       "<div>\n",
       "<table border=\"1\" class=\"dataframe\">\n",
       "  <thead>\n",
       "    <tr style=\"text-align: right;\">\n",
       "      <th></th>\n",
       "      <th>Categorical Field</th>\n",
       "      <th>Null Count</th>\n",
       "    </tr>\n",
       "  </thead>\n",
       "  <tbody>\n",
       "    <tr>\n",
       "      <th>0</th>\n",
       "      <td>term</td>\n",
       "      <td>0</td>\n",
       "    </tr>\n",
       "    <tr>\n",
       "      <th>1</th>\n",
       "      <td>grade</td>\n",
       "      <td>0</td>\n",
       "    </tr>\n",
       "    <tr>\n",
       "      <th>2</th>\n",
       "      <td>sub_grade</td>\n",
       "      <td>0</td>\n",
       "    </tr>\n",
       "    <tr>\n",
       "      <th>3</th>\n",
       "      <td>emp_length</td>\n",
       "      <td>0</td>\n",
       "    </tr>\n",
       "    <tr>\n",
       "      <th>4</th>\n",
       "      <td>home_ownership</td>\n",
       "      <td>0</td>\n",
       "    </tr>\n",
       "    <tr>\n",
       "      <th>5</th>\n",
       "      <td>verification_status</td>\n",
       "      <td>0</td>\n",
       "    </tr>\n",
       "    <tr>\n",
       "      <th>6</th>\n",
       "      <td>loan_status</td>\n",
       "      <td>0</td>\n",
       "    </tr>\n",
       "    <tr>\n",
       "      <th>7</th>\n",
       "      <td>pymnt_plan</td>\n",
       "      <td>0</td>\n",
       "    </tr>\n",
       "    <tr>\n",
       "      <th>8</th>\n",
       "      <td>purpose</td>\n",
       "      <td>0</td>\n",
       "    </tr>\n",
       "    <tr>\n",
       "      <th>9</th>\n",
       "      <td>addr_state</td>\n",
       "      <td>0</td>\n",
       "    </tr>\n",
       "    <tr>\n",
       "      <th>10</th>\n",
       "      <td>initial_list_status</td>\n",
       "      <td>0</td>\n",
       "    </tr>\n",
       "    <tr>\n",
       "      <th>11</th>\n",
       "      <td>policy_code</td>\n",
       "      <td>0</td>\n",
       "    </tr>\n",
       "    <tr>\n",
       "      <th>12</th>\n",
       "      <td>application_type</td>\n",
       "      <td>0</td>\n",
       "    </tr>\n",
       "    <tr>\n",
       "      <th>13</th>\n",
       "      <td>verification_status_joint</td>\n",
       "      <td>420584</td>\n",
       "    </tr>\n",
       "  </tbody>\n",
       "</table>\n",
       "</div>"
      ],
      "text/plain": [
       "            Categorical Field  Null Count\n",
       "0                        term           0\n",
       "1                       grade           0\n",
       "2                   sub_grade           0\n",
       "3                  emp_length           0\n",
       "4              home_ownership           0\n",
       "5         verification_status           0\n",
       "6                 loan_status           0\n",
       "7                  pymnt_plan           0\n",
       "8                     purpose           0\n",
       "9                  addr_state           0\n",
       "10        initial_list_status           0\n",
       "11                policy_code           0\n",
       "12           application_type           0\n",
       "13  verification_status_joint      420584"
      ]
     },
     "execution_count": 21,
     "metadata": {},
     "output_type": "execute_result"
    }
   ],
   "source": [
    "pd.DataFrame([[f, sum(pd.isnull(data[f]))] for f in data.columns[data.dtypes==\"category\"]],\n",
    "             columns=[\"Categorical Field\", \"Null Count\"])\n",
    "\n",
    "pd.DataFrame([[f, sum(pd.isnull(data[f]))] for f in data.columns[data.dtypes==\"category\"]],\n",
    "             columns=[\"Categorical Field\", \"Null Count\"])\n",
    "\n",
    "pd.DataFrame([[f, sum(pd.isnull(data[f]))] for f in data.columns[data.dtypes==\"category\"]],\n",
    "             columns=[\"Categorical Field\", \"Null Count\"])"
   ]
  },
  {
   "cell_type": "markdown",
   "metadata": {},
   "source": [
    "Some percentages are stored as strings (*int_rate*, *revol_util*). Here we convert them into a float by stripping the % symbol and dividing by 100."
   ]
  },
  {
   "cell_type": "code",
   "execution_count": 22,
   "metadata": {
    "collapsed": false
   },
   "outputs": [],
   "source": [
    "def percent_to_float(s):\n",
    "    if (type(s) == str):\n",
    "        if (\"%\" in s):\n",
    "            return float(str(s).strip(\"%\"))/100\n",
    "        else:\n",
    "            if s == \"None\":\n",
    "                return np.nan\n",
    "            else:            \n",
    "                return s\n",
    "    else:\n",
    "        return s\n",
    "\n",
    "data.int_rate = [percent_to_float(s) for s in data.int_rate]\n",
    "data.revol_util = [percent_to_float(s) for s in data.revol_util]\n",
    "\n",
    "data_2007_2011.int_rate = [percent_to_float(s) for s in data_2007_2011.int_rate]\n",
    "data_2007_2011.revol_util = [percent_to_float(s) for s in data_2007_2011.revol_util]\n",
    "\n",
    "data_2014.int_rate = [percent_to_float(s) for s in data_2014.int_rate]\n",
    "data_2014.revol_util = [percent_to_float(s) for s in data_2014.revol_util]\n",
    "\n",
    "data_2015.int_rate = [percent_to_float(s) for s in data_2015.int_rate]\n",
    "data_2015.revol_util = [percent_to_float(s) for s in data_2015.revol_util]"
   ]
  },
  {
   "cell_type": "markdown",
   "metadata": {},
   "source": [
    "Final check of data types:"
   ]
  },
  {
   "cell_type": "code",
   "execution_count": 23,
   "metadata": {
    "collapsed": false
   },
   "outputs": [
    {
     "data": {
      "text/plain": [
       "float64           85\n",
       "category          14\n",
       "object             5\n",
       "datetime64[ns]     5\n",
       "dtype: int64"
      ]
     },
     "execution_count": 23,
     "metadata": {},
     "output_type": "execute_result"
    }
   ],
   "source": [
    "data.dtypes.value_counts()"
   ]
  },
  {
   "cell_type": "code",
   "execution_count": 24,
   "metadata": {
    "collapsed": false
   },
   "outputs": [
    {
     "data": {
      "text/plain": [
       "float64           85\n",
       "category          14\n",
       "object             5\n",
       "datetime64[ns]     5\n",
       "dtype: int64"
      ]
     },
     "execution_count": 24,
     "metadata": {},
     "output_type": "execute_result"
    }
   ],
   "source": [
    "data_2007_2011.dtypes.value_counts()"
   ]
  },
  {
   "cell_type": "code",
   "execution_count": 25,
   "metadata": {
    "collapsed": false
   },
   "outputs": [
    {
     "data": {
      "text/plain": [
       "float64           85\n",
       "category          14\n",
       "object             5\n",
       "datetime64[ns]     5\n",
       "dtype: int64"
      ]
     },
     "execution_count": 25,
     "metadata": {},
     "output_type": "execute_result"
    }
   ],
   "source": [
    "data_2014.dtypes.value_counts()"
   ]
  },
  {
   "cell_type": "code",
   "execution_count": 26,
   "metadata": {
    "collapsed": false
   },
   "outputs": [
    {
     "data": {
      "text/plain": [
       "float64           85\n",
       "category          14\n",
       "object             5\n",
       "datetime64[ns]     5\n",
       "dtype: int64"
      ]
     },
     "execution_count": 26,
     "metadata": {},
     "output_type": "execute_result"
    }
   ],
   "source": [
    "data_2015.dtypes.value_counts()"
   ]
  },
  {
   "cell_type": "markdown",
   "metadata": {},
   "source": [
    "The 5 remaining object fields are note easily parsed to a more convenient data structure. Those fields are listed in the table below:"
   ]
  },
  {
   "cell_type": "code",
   "execution_count": 27,
   "metadata": {
    "collapsed": false
   },
   "outputs": [
    {
     "data": {
      "text/html": [
       "<div>\n",
       "<table border=\"1\" class=\"dataframe\">\n",
       "  <thead>\n",
       "    <tr style=\"text-align: right;\">\n",
       "      <th></th>\n",
       "      <th></th>\n",
       "      <th>emp_title</th>\n",
       "      <th>url</th>\n",
       "      <th>desc</th>\n",
       "      <th>title</th>\n",
       "      <th>zip_code</th>\n",
       "    </tr>\n",
       "    <tr>\n",
       "      <th>id</th>\n",
       "      <th>member_id</th>\n",
       "      <th></th>\n",
       "      <th></th>\n",
       "      <th></th>\n",
       "      <th></th>\n",
       "      <th></th>\n",
       "    </tr>\n",
       "  </thead>\n",
       "  <tbody>\n",
       "    <tr>\n",
       "      <th>38098114</th>\n",
       "      <th>40860827</th>\n",
       "      <td>MANAGEMENT</td>\n",
       "      <td>https://lendingclub.com/browse/loanDetail.acti...</td>\n",
       "      <td>NaN</td>\n",
       "      <td>Debt consolidation</td>\n",
       "      <td>235xx</td>\n",
       "    </tr>\n",
       "    <tr>\n",
       "      <th>36805548</th>\n",
       "      <th>39558264</th>\n",
       "      <td>Truck Driver Delivery Personel</td>\n",
       "      <td>https://lendingclub.com/browse/loanDetail.acti...</td>\n",
       "      <td>NaN</td>\n",
       "      <td>Credit card refinancing</td>\n",
       "      <td>937xx</td>\n",
       "    </tr>\n",
       "    <tr>\n",
       "      <th>37822187</th>\n",
       "      <th>40585251</th>\n",
       "      <td>Admin Specialist</td>\n",
       "      <td>https://lendingclub.com/browse/loanDetail.acti...</td>\n",
       "      <td>NaN</td>\n",
       "      <td>Debt consolidation</td>\n",
       "      <td>077xx</td>\n",
       "    </tr>\n",
       "    <tr>\n",
       "      <th>37612354</th>\n",
       "      <th>40375473</th>\n",
       "      <td>Senior Sales Professional</td>\n",
       "      <td>https://lendingclub.com/browse/loanDetail.acti...</td>\n",
       "      <td>NaN</td>\n",
       "      <td>Car financing</td>\n",
       "      <td>953xx</td>\n",
       "    </tr>\n",
       "    <tr>\n",
       "      <th>37662224</th>\n",
       "      <th>40425321</th>\n",
       "      <td>Technical Specialist</td>\n",
       "      <td>https://lendingclub.com/browse/loanDetail.acti...</td>\n",
       "      <td>NaN</td>\n",
       "      <td>Debt consolidation</td>\n",
       "      <td>850xx</td>\n",
       "    </tr>\n",
       "  </tbody>\n",
       "</table>\n",
       "</div>"
      ],
      "text/plain": [
       "                                         emp_title  \\\n",
       "id       member_id                                   \n",
       "38098114 40860827                       MANAGEMENT   \n",
       "36805548 39558264   Truck Driver Delivery Personel   \n",
       "37822187 40585251                 Admin Specialist   \n",
       "37612354 40375473        Senior Sales Professional   \n",
       "37662224 40425321             Technical Specialist   \n",
       "\n",
       "                                                                  url desc  \\\n",
       "id       member_id                                                           \n",
       "38098114 40860827   https://lendingclub.com/browse/loanDetail.acti...  NaN   \n",
       "36805548 39558264   https://lendingclub.com/browse/loanDetail.acti...  NaN   \n",
       "37822187 40585251   https://lendingclub.com/browse/loanDetail.acti...  NaN   \n",
       "37612354 40375473   https://lendingclub.com/browse/loanDetail.acti...  NaN   \n",
       "37662224 40425321   https://lendingclub.com/browse/loanDetail.acti...  NaN   \n",
       "\n",
       "                                      title zip_code  \n",
       "id       member_id                                    \n",
       "38098114 40860827        Debt consolidation    235xx  \n",
       "36805548 39558264   Credit card refinancing    937xx  \n",
       "37822187 40585251        Debt consolidation    077xx  \n",
       "37612354 40375473             Car financing    953xx  \n",
       "37662224 40425321        Debt consolidation    850xx  "
      ]
     },
     "execution_count": 27,
     "metadata": {},
     "output_type": "execute_result"
    }
   ],
   "source": [
    "data.select_dtypes(include=[\"object\"]).head()\n",
    "data_2007_2011.select_dtypes(include=[\"object\"]).head()\n",
    "data_2014.select_dtypes(include=[\"object\"]).head()\n",
    "data_2015.select_dtypes(include=[\"object\"]).head()"
   ]
  },
  {
   "cell_type": "code",
   "execution_count": 28,
   "metadata": {
    "collapsed": false
   },
   "outputs": [
    {
     "name": "stdout",
     "output_type": "stream",
     "text": [
      "(421095, 109)\n",
      "(42536, 109)\n",
      "(887441, 109)\n"
     ]
    }
   ],
   "source": [
    "print data.shape\n",
    "print data_2007_2011.shape\n",
    "fulldf = pd.concat([data, data_2007_2011, data_2014, data_2015])\n",
    "print fulldf.shape"
   ]
  },
  {
   "cell_type": "code",
   "execution_count": 29,
   "metadata": {
    "collapsed": false,
    "scrolled": true
   },
   "outputs": [
    {
     "name": "stdout",
     "output_type": "stream",
     "text": [
      "Current                                                467679\n",
      "Fully Paid                                             315192\n",
      "Charged Off                                             75740\n",
      "Late (31-120 days)                                      14548\n",
      "In Grace Period                                          8432\n",
      "Late (16-30 days)                                        2968\n",
      "Does not meet the credit policy. Status:Fully Paid       1988\n",
      "Does not meet the credit policy. Status:Charged Off       761\n",
      "Default                                                   132\n",
      "None                                                        1\n",
      "Name: loan_status, dtype: int64\n"
     ]
    }
   ],
   "source": [
    "print fulldf[\"loan_status\"].value_counts()"
   ]
  },
  {
   "cell_type": "code",
   "execution_count": 30,
   "metadata": {
    "collapsed": false
   },
   "outputs": [
    {
     "name": "stdout",
     "output_type": "stream",
     "text": [
      "(391064, 109)\n",
      "Fully Paid                                             315192\n",
      "Default                                                 75872\n",
      "None                                                        0\n",
      "Late (31-120 days)                                          0\n",
      "Late (16-30 days)                                           0\n",
      "In Grace Period                                             0\n",
      "Does not meet the credit policy. Status:Charged Off         0\n",
      "Does not meet the credit policy. Status:Fully Paid          0\n",
      "Charged Off                                                 0\n",
      "Current                                                     0\n",
      "Name: loan_status, dtype: int64\n"
     ]
    }
   ],
   "source": [
    "# Ok we dont want current or None status as we don't know what is going to happen with those.\n",
    "# next also late and grace period we are not sure about.\n",
    "# thirdly we remove loans that do not meet credit policy so we can convert our issue to a binar model\n",
    "fulldf = fulldf[((fulldf[\"loan_status\"] == \"Default\") | (fulldf[\"loan_status\"] == \"Charged Off\") | (fulldf[\"loan_status\"] == \"Fully Paid\"))]\n",
    "\n",
    "# Rename \"Charged off to default\"\n",
    "fulldf[\"loan_status\"] = fulldf[\"loan_status\"].replace(\"Charged Off\", \"Default\")\n",
    "print fulldf.shape\n",
    "print fulldf[\"loan_status\"].value_counts()"
   ]
  },
  {
   "cell_type": "code",
   "execution_count": 31,
   "metadata": {
    "collapsed": false,
    "scrolled": false
   },
   "outputs": [
    {
     "name": "stdout",
     "output_type": "stream",
     "text": [
      "(391064, 85)\n"
     ]
    }
   ],
   "source": [
    "y = fulldf[\"loan_status\"].values\n",
    "X = fulldf.drop(\"loan_status\", axis=1)\n",
    "cols = X.columns\n",
    "for col in cols:\n",
    "    if X[col].dtype != \"float64\":\n",
    "        X = X.drop(col, axis=1)\n",
    "print X.shape"
   ]
  },
  {
   "cell_type": "markdown",
   "metadata": {},
   "source": [
    "**!!(Which Predictors Are We Dropping Here, Why?)!!**"
   ]
  },
  {
   "cell_type": "markdown",
   "metadata": {},
   "source": [
    "### Data Visualization"
   ]
  },
  {
   "cell_type": "markdown",
   "metadata": {},
   "source": [
    "### Data Exploration"
   ]
  },
  {
   "cell_type": "markdown",
   "metadata": {},
   "source": [
    "# IV. Methodology"
   ]
  },
  {
   "cell_type": "markdown",
   "metadata": {},
   "source": [
    "### Performance Metrics"
   ]
  },
  {
   "cell_type": "markdown",
   "metadata": {},
   "source": [
    "The Lending Club Data Set is unbalanced. The rate of positive examples is roughly 85%. As such, accuracy does not indicate the true performance of the model, because the accuracy will depend on the overall default rate of the test data set. For example, a model that predicts every example to be non-defaulting would still achieve 85% accuracy. Furthermore two of the models we tested, SVM and Logistic Regression, will bias toward classifications that occur more often. Therefore, we chose to look at sensitivity, defined as:\n",
    "\n",
    "<center>**sensitivity** $= TP / TP + FN$</center>\n",
    "\n",
    "where TP is the number of true positives, FN is the number of false negatives. \n",
    "\n",
    "Sensitivity represents the ratio of loans whose known value is positive (not default) to loans that our model predicted as positive (non-default). Keeping in mind that positive-skewed datasets inherently have a higher sensitivity, we measured and compared specificity as a control. Specificity is defined as:\n",
    "\n",
    "<center>**specificity** $= TN / TN + FP$</center>\n",
    "\n",
    "where TN is the number of true negatives and FP is the number of false positives. \n",
    "\n",
    "Sensitivity represents the ratio of loans whose known value is negative (default) to loans that our model predicted as negative (default).\n",
    "\n",
    "In an effort to combine sensitivity and specificity into a single metric, we chose to use G-mean as or chief evaliuation standard:\n",
    "\n",
    "G = $p / sensitivity ∗ specificity$\n",
    "\n",
    "To round off our performance metrics, we also looked at accuracy and precision:\n",
    "\n",
    "<center>**accuracy** $= TN + TP / N$</center>\n",
    "\n",
    "<center>**precision** $= TP / TP + FP$</center>\n",
    "\n",
    "To evaluate the performance of our models, we trained each model with the first 70% of the loans and test the trained models on the last evaluate the 30% of the loans in our dataset. \n",
    "\n",
    "After selecting the best predicting model based on specificity/g-score performance to optimize the detection of high-risk loans, we will calculate return on investment (ROI) by:\n",
    "\n",
    "<center>ROI = Total payment received by investors / Total amount committed by investors − 1</center>\n",
    "\n",
    "\n"
   ]
  },
  {
   "cell_type": "markdown",
   "metadata": {},
   "source": [
    "### Baselines"
   ]
  },
  {
   "cell_type": "markdown",
   "metadata": {},
   "source": [
    "<font size=3><u> Overview</u> </font> "
   ]
  },
  {
   "cell_type": "markdown",
   "metadata": {},
   "source": [
    "Below are four baseline models for the Lending Club analysis. These are simple models that treat the problem as binary classification. The outcomes can either be \"default\" or \"not default\". These models take simplicitic views of the problem and serve as baselines for comparison and sanity check when more sofisiticated models are built in later parts of the project.\n",
    "\n",
    "The models are:\n",
    "1. predict all outcomes to be \"not default\";\n",
    "2. predict all outcomes of borrowers with lowest credit scores to always :default\" and others \"not default\";\n",
    "3. model outcomes with a single predictor \"grade\";\n",
    "4. model outcomes with a single predictor \"interest rate\".\n",
    "\n",
    "The data cleaning steps are from milestone 3."
   ]
  },
  {
   "cell_type": "markdown",
   "metadata": {},
   "source": [
    "###### Data"
   ]
  },
  {
   "cell_type": "markdown",
   "metadata": {},
   "source": [
    "To build our baselines, we first check the class proportions of our target categories. Since we are looking at classifying 'default' vs 'not default' our filtered data set has:"
   ]
  },
  {
   "cell_type": "code",
   "execution_count": 32,
   "metadata": {
    "collapsed": false
   },
   "outputs": [
    {
     "name": "stdout",
     "output_type": "stream",
     "text": [
      "Unique loan_status value: ['Default' 'Fully Paid']\n",
      "Default/Paid ratio: 0.240716769461\n",
      "Unique credit grades ['A' 'B' 'C' 'D' 'E' 'F' 'G']\n",
      "Interest Rate Range 0.0532 0.2899\n"
     ]
    }
   ],
   "source": [
    "print 'Unique loan_status value:', np.unique(fulldf.loan_status)\n",
    "print 'Default/Paid ratio:', float(len(fulldf[fulldf.loan_status == 'Default'])) / float(len(fulldf[fulldf.loan_status == 'Fully Paid']))\n",
    "print 'Unique credit grades', np.unique(fulldf.grade)\n",
    "print 'Interest Rate Range', np.min(fulldf.int_rate), np.max(fulldf.int_rate)"
   ]
  },
  {
   "cell_type": "markdown",
   "metadata": {},
   "source": [
    "The class proportion is roughly in 1 to 5 ratio so the imblace is not that bad."
   ]
  },
  {
   "cell_type": "markdown",
   "metadata": {},
   "source": [
    "###### Confusion Matrix - Function To Calculate CNF"
   ]
  },
  {
   "cell_type": "code",
   "execution_count": 33,
   "metadata": {
    "collapsed": false
   },
   "outputs": [],
   "source": [
    "# Compute confusion matrix\n",
    "def cpt_cnf(model, X, y):\n",
    "    y_pred = model.predict(X)\n",
    "    cnf_matrix = confusion_matrix(y, y_pred)\n",
    "    print cnf_matrix\n",
    "    np.set_printoptions(precision=1)\n",
    "\n",
    "\n",
    "    # Plot non-normalized confusion matrix\n",
    "    fig, [ax1, ax2] = plt.subplots(1, 2, figsize=(10, 4))\n",
    "    img1 = plot_confusion_matrix(ax1, cnf_matrix, classes=[0, 1], title='Confusion matrix, without normalization')\n",
    "\n",
    "\n",
    "    # Plot normalized confusion matrix\n",
    "    img2 = plot_confusion_matrix(ax2, cnf_matrix, classes=[0, 1], normalize=True, title='Normalized confusion matrix')\n",
    "    plt.colorbar(img1, ax=ax1)\n",
    "    plt.colorbar(img2, ax=ax2)\n",
    "    plt.show()\n",
    "\n",
    "#This function prints and plots the confusion matrix.\n",
    "#Normalization can be applied by setting `normalize=True`.\n",
    "def plot_confusion_matrix(ax, cm, classes, normalize=False, title='Confusion matrix', cmap=plt.cm.Blues):\n",
    "\n",
    "    img = ax.imshow(cm, interpolation='nearest', cmap=cmap)\n",
    "    ax.set_title(title)\n",
    "    tick_marks = np.arange(len(classes))\n",
    "    ax.set_xticks(tick_marks)\n",
    "    ax.set_xticklabels(classes, rotation=45)\n",
    "    # ax.set_yticks([0.5, 2.5], classes)\n",
    "    ax.set_yticklabels([\"\", \"0\", \"\", \"1\"], rotation=45)\n",
    "\n",
    "\n",
    "    if normalize:\n",
    "        cm = cm.astype('float') / cm.sum(axis=1)[:, np.newaxis]\n",
    "\n",
    "\n",
    "    thresh = cm.max() / 2.\n",
    "    for i, j in itertools.product(range(cm.shape[0]), range(cm.shape[1])):\n",
    "        ax.text(j, i, cm[i, j], horizontalalignment=\"center\", color=\"white\" if cm[i, j] > thresh else \"black\")\n",
    "\n",
    "\n",
    "    ax.set_ylabel('True label')\n",
    "    ax.set_xlabel('Predicted label')\n",
    "    return img"
   ]
  },
  {
   "cell_type": "markdown",
   "metadata": {},
   "source": [
    "<font size=3><u> Baseline 1: All loans do not default</u> </font>"
   ]
  },
  {
   "cell_type": "code",
   "execution_count": 34,
   "metadata": {
    "collapsed": false
   },
   "outputs": [],
   "source": [
    "def evaluate(y_true, y_pred, y_prob):\n",
    "    print 'Overall Accuracy:', accuracy_score(y_true, y_pred)\n",
    "    print 'F1 Score:', f1_score(y_true, y_pred)\n",
    "    #setting \"0\" as positive case to indicate we are looking for \"Default\" cases\n",
    "    print 'F1 Score (0 as \"positive\" since we are looking for \"Default\" cases):', f1_score(y_true, y_pred, pos_label=0)\n",
    "    #pos_labe='None' is required: see https://github.com/scikit-learn/scikit-learn/issues/3122\n",
    "    print 'Weighted average F1 Score:', f1_score(y_true, y_pred, pos_label=None, average='weighted')\n",
    "    print 'Micro average F1 Score:', f1_score(y_true, y_pred, pos_label=None, average='micro')\n",
    "    print 'Macro average F1 Score:', f1_score(y_true, y_pred, pos_label=None, average='macro')\n",
    "    for i in np.unique(y_true):\n",
    "        y_class_true = y_true[y_true == i]\n",
    "        y_class_pred = y_pred[y_true == i]\n",
    "        print 'Class {:.0f} Accuracy:'.format(i), accuracy_score(y_class_true, y_class_pred)\n",
    "    print 'ROC AUC Score:', roc_auc_score(y_true, y_prob)"
   ]
  },
  {
   "cell_type": "code",
   "execution_count": 35,
   "metadata": {
    "collapsed": false
   },
   "outputs": [
    {
     "data": {
      "text/html": [
       "<div>\n",
       "<table border=\"1\" class=\"dataframe\">\n",
       "  <thead>\n",
       "    <tr style=\"text-align: right;\">\n",
       "      <th></th>\n",
       "      <th></th>\n",
       "      <th>Fully Paid</th>\n",
       "      <th>Current</th>\n",
       "      <th>Charged Off</th>\n",
       "      <th>Does not meet the credit policy. Status:Fully Paid</th>\n",
       "      <th>Does not meet the credit policy. Status:Charged Off</th>\n",
       "      <th>In Grace Period</th>\n",
       "      <th>Late (16-30 days)</th>\n",
       "      <th>Late (31-120 days)</th>\n",
       "      <th>Default</th>\n",
       "      <th>None</th>\n",
       "    </tr>\n",
       "    <tr>\n",
       "      <th>id</th>\n",
       "      <th>member_id</th>\n",
       "      <th></th>\n",
       "      <th></th>\n",
       "      <th></th>\n",
       "      <th></th>\n",
       "      <th></th>\n",
       "      <th></th>\n",
       "      <th></th>\n",
       "      <th></th>\n",
       "      <th></th>\n",
       "      <th></th>\n",
       "    </tr>\n",
       "  </thead>\n",
       "  <tbody>\n",
       "    <tr>\n",
       "      <th>68416935</th>\n",
       "      <th>73306760.0</th>\n",
       "      <td>1.0</td>\n",
       "      <td>0.0</td>\n",
       "      <td>0.0</td>\n",
       "      <td>0.0</td>\n",
       "      <td>0.0</td>\n",
       "      <td>0.0</td>\n",
       "      <td>0.0</td>\n",
       "      <td>0.0</td>\n",
       "      <td>0.0</td>\n",
       "      <td>0.0</td>\n",
       "    </tr>\n",
       "    <tr>\n",
       "      <th>68357012</th>\n",
       "      <th>73246847.0</th>\n",
       "      <td>1.0</td>\n",
       "      <td>0.0</td>\n",
       "      <td>0.0</td>\n",
       "      <td>0.0</td>\n",
       "      <td>0.0</td>\n",
       "      <td>0.0</td>\n",
       "      <td>0.0</td>\n",
       "      <td>0.0</td>\n",
       "      <td>0.0</td>\n",
       "      <td>0.0</td>\n",
       "    </tr>\n",
       "    <tr>\n",
       "      <th>68466916</th>\n",
       "      <th>73356753.0</th>\n",
       "      <td>1.0</td>\n",
       "      <td>0.0</td>\n",
       "      <td>0.0</td>\n",
       "      <td>0.0</td>\n",
       "      <td>0.0</td>\n",
       "      <td>0.0</td>\n",
       "      <td>0.0</td>\n",
       "      <td>0.0</td>\n",
       "      <td>0.0</td>\n",
       "      <td>0.0</td>\n",
       "    </tr>\n",
       "    <tr>\n",
       "      <th>68577849</th>\n",
       "      <th>73467703.0</th>\n",
       "      <td>1.0</td>\n",
       "      <td>0.0</td>\n",
       "      <td>0.0</td>\n",
       "      <td>0.0</td>\n",
       "      <td>0.0</td>\n",
       "      <td>0.0</td>\n",
       "      <td>0.0</td>\n",
       "      <td>0.0</td>\n",
       "      <td>0.0</td>\n",
       "      <td>0.0</td>\n",
       "    </tr>\n",
       "    <tr>\n",
       "      <th>68407301</th>\n",
       "      <th>73297138.0</th>\n",
       "      <td>1.0</td>\n",
       "      <td>0.0</td>\n",
       "      <td>0.0</td>\n",
       "      <td>0.0</td>\n",
       "      <td>0.0</td>\n",
       "      <td>0.0</td>\n",
       "      <td>0.0</td>\n",
       "      <td>0.0</td>\n",
       "      <td>0.0</td>\n",
       "      <td>0.0</td>\n",
       "    </tr>\n",
       "  </tbody>\n",
       "</table>\n",
       "</div>"
      ],
      "text/plain": [
       "                     Fully Paid  Current  Charged Off  \\\n",
       "id       member_id                                      \n",
       "68416935 73306760.0         1.0      0.0          0.0   \n",
       "68357012 73246847.0         1.0      0.0          0.0   \n",
       "68466916 73356753.0         1.0      0.0          0.0   \n",
       "68577849 73467703.0         1.0      0.0          0.0   \n",
       "68407301 73297138.0         1.0      0.0          0.0   \n",
       "\n",
       "                     Does not meet the credit policy. Status:Fully Paid  \\\n",
       "id       member_id                                                        \n",
       "68416935 73306760.0                                                0.0    \n",
       "68357012 73246847.0                                                0.0    \n",
       "68466916 73356753.0                                                0.0    \n",
       "68577849 73467703.0                                                0.0    \n",
       "68407301 73297138.0                                                0.0    \n",
       "\n",
       "                     Does not meet the credit policy. Status:Charged Off  \\\n",
       "id       member_id                                                         \n",
       "68416935 73306760.0                                                0.0     \n",
       "68357012 73246847.0                                                0.0     \n",
       "68466916 73356753.0                                                0.0     \n",
       "68577849 73467703.0                                                0.0     \n",
       "68407301 73297138.0                                                0.0     \n",
       "\n",
       "                     In Grace Period  Late (16-30 days)  Late (31-120 days)  \\\n",
       "id       member_id                                                            \n",
       "68416935 73306760.0              0.0                0.0                 0.0   \n",
       "68357012 73246847.0              0.0                0.0                 0.0   \n",
       "68466916 73356753.0              0.0                0.0                 0.0   \n",
       "68577849 73467703.0              0.0                0.0                 0.0   \n",
       "68407301 73297138.0              0.0                0.0                 0.0   \n",
       "\n",
       "                     Default  None  \n",
       "id       member_id                  \n",
       "68416935 73306760.0      0.0   0.0  \n",
       "68357012 73246847.0      0.0   0.0  \n",
       "68466916 73356753.0      0.0   0.0  \n",
       "68577849 73467703.0      0.0   0.0  \n",
       "68407301 73297138.0      0.0   0.0  "
      ]
     },
     "execution_count": 35,
     "metadata": {},
     "output_type": "execute_result"
    }
   ],
   "source": [
    "y = pd.get_dummies(fulldf.loan_status)\n",
    "y.head()"
   ]
  },
  {
   "cell_type": "code",
   "execution_count": 36,
   "metadata": {
    "collapsed": false
   },
   "outputs": [],
   "source": [
    "#create response: we only take the first column from the one-hot encoded loan_status\n",
    "#since we only need to know if a loan is fully paid or not\n",
    "y = y.values[:, 0]"
   ]
  },
  {
   "cell_type": "code",
   "execution_count": 37,
   "metadata": {
    "collapsed": true
   },
   "outputs": [],
   "source": [
    "#baseline model 1:\n",
    "#predicting all loan outcomes as \"not default\"\n",
    "def predict_outcome_baseline1(X):\n",
    "    results = np.empty(shape=(X.shape[0]), dtype=float)\n",
    "    results[:] = 1\n",
    "    return results\n",
    "\n",
    "def predict_proba_outcome_baseline1(X):\n",
    "    #in this simple baseline model, we predict \"defaults\" to be 0 and \"not default\" to be 1\n",
    "    #the returned probability is the probability of being \"not default\"\n",
    "    #only 0s and 1s are returned, there are no in-between probabilities\n",
    "    #that means, we the model predicts \"not default\", the model is certain that it is the case\n",
    "    return predict_outcome_baseline1(X)"
   ]
  },
  {
   "cell_type": "code",
   "execution_count": 38,
   "metadata": {
    "collapsed": false
   },
   "outputs": [
    {
     "name": "stdout",
     "output_type": "stream",
     "text": [
      "Overall Accuracy: 0.805985721007\n",
      "F1 Score: 0.892571532136\n",
      "F1 Score (0 as \"positive\" since we are looking for \"Default\" cases): 0.0\n",
      "Weighted average F1 Score: 0.719399909879\n",
      "Micro average F1 Score:"
     ]
    },
    {
     "name": "stderr",
     "output_type": "stream",
     "text": [
      "/home/ubuntu/anaconda3/envs/cs109a_proj/lib/python2.7/site-packages/sklearn/metrics/classification.py:1074: UndefinedMetricWarning: F-score is ill-defined and being set to 0.0 due to no predicted samples.\n",
      "  'precision', 'predicted', average, warn_for)\n",
      "/home/ubuntu/anaconda3/envs/cs109a_proj/lib/python2.7/site-packages/sklearn/metrics/classification.py:1074: UndefinedMetricWarning: F-score is ill-defined and being set to 0.0 in labels with no predicted samples.\n",
      "  'precision', 'predicted', average, warn_for)\n"
     ]
    },
    {
     "name": "stdout",
     "output_type": "stream",
     "text": [
      " 0.805985721007\n",
      "Macro average F1 Score: 0.446285766068\n",
      "Class 0 Accuracy: 0.0\n",
      "Class 1 Accuracy: 1.0\n",
      "ROC AUC Score: 0.5\n"
     ]
    }
   ],
   "source": [
    "y_pred = predict_outcome_baseline1(np.zeros([y.shape[0],1]))\n",
    "y_prob = predict_proba_outcome_baseline1(np.zeros([y.shape[0],1]))\n",
    "evaluate(y, y_pred, y_prob)"
   ]
  },
  {
   "cell_type": "markdown",
   "metadata": {},
   "source": [
    "This model has high overall accuracy becuase most loans do not default. However, the class 0 (default) breakdown shows that this model's accuracy on default loans is 0."
   ]
  },
  {
   "cell_type": "markdown",
   "metadata": {},
   "source": [
    "<font size=3><u> Baseline 2: Predicting loans with lowest credit scores to default</u> </font>"
   ]
  },
  {
   "cell_type": "markdown",
   "metadata": {},
   "source": [
    "###### Credit Threshold"
   ]
  },
  {
   "cell_type": "markdown",
   "metadata": {},
   "source": [
    "In this model, we set a threshold of credit grade E and below to be a bad credit score. All loans with these scores are predicted as \"default\" while all others are predicted as \"not default\"."
   ]
  },
  {
   "cell_type": "code",
   "execution_count": 39,
   "metadata": {
    "collapsed": false
   },
   "outputs": [],
   "source": [
    "#baseline model 2:\n",
    "#predicting all loan outcomes as \"not default\"\n",
    "def predict_outcome_baseline2(X):\n",
    "    #We take the credit grades E, F and G\n",
    "    #as \"bad\" credit scores\n",
    "    #we do this by summing up the corresponding one-hot encoded columns\n",
    "    results = X[:, -4:-1].sum(axis=1).reshape(-1, 1).astype('int')\n",
    "    #we need to the swap 0s and 1s to match the response encoding\n",
    "    results = -1 * ( results - 1 )\n",
    "    return results\n",
    "\n",
    "def predict_proba_outcome_baseline2(X):\n",
    "    #in this simple baseline model, we predict \"defaults\" to be 0 and \"not default\" to be 1\n",
    "    #the returned probability is the probability of being \"not default\"\n",
    "    #only 0s and 1s are returned, there are no in-between probabilities\n",
    "    #that means, we the model predicts \"not default\", the model is certain that it is the case\n",
    "    return predict_outcome_baseline2(X)"
   ]
  },
  {
   "cell_type": "code",
   "execution_count": 40,
   "metadata": {
    "collapsed": false
   },
   "outputs": [
    {
     "data": {
      "text/html": [
       "<div>\n",
       "<table border=\"1\" class=\"dataframe\">\n",
       "  <thead>\n",
       "    <tr style=\"text-align: right;\">\n",
       "      <th></th>\n",
       "      <th></th>\n",
       "      <th>A</th>\n",
       "      <th>B</th>\n",
       "      <th>C</th>\n",
       "      <th>D</th>\n",
       "      <th>E</th>\n",
       "      <th>F</th>\n",
       "      <th>G</th>\n",
       "      <th>None</th>\n",
       "    </tr>\n",
       "    <tr>\n",
       "      <th>id</th>\n",
       "      <th>member_id</th>\n",
       "      <th></th>\n",
       "      <th></th>\n",
       "      <th></th>\n",
       "      <th></th>\n",
       "      <th></th>\n",
       "      <th></th>\n",
       "      <th></th>\n",
       "      <th></th>\n",
       "    </tr>\n",
       "  </thead>\n",
       "  <tbody>\n",
       "    <tr>\n",
       "      <th>68416935</th>\n",
       "      <th>73306760.0</th>\n",
       "      <td>0.0</td>\n",
       "      <td>1.0</td>\n",
       "      <td>0.0</td>\n",
       "      <td>0.0</td>\n",
       "      <td>0.0</td>\n",
       "      <td>0.0</td>\n",
       "      <td>0.0</td>\n",
       "      <td>0.0</td>\n",
       "    </tr>\n",
       "    <tr>\n",
       "      <th>68357012</th>\n",
       "      <th>73246847.0</th>\n",
       "      <td>0.0</td>\n",
       "      <td>1.0</td>\n",
       "      <td>0.0</td>\n",
       "      <td>0.0</td>\n",
       "      <td>0.0</td>\n",
       "      <td>0.0</td>\n",
       "      <td>0.0</td>\n",
       "      <td>0.0</td>\n",
       "    </tr>\n",
       "    <tr>\n",
       "      <th>68466916</th>\n",
       "      <th>73356753.0</th>\n",
       "      <td>1.0</td>\n",
       "      <td>0.0</td>\n",
       "      <td>0.0</td>\n",
       "      <td>0.0</td>\n",
       "      <td>0.0</td>\n",
       "      <td>0.0</td>\n",
       "      <td>0.0</td>\n",
       "      <td>0.0</td>\n",
       "    </tr>\n",
       "    <tr>\n",
       "      <th>68577849</th>\n",
       "      <th>73467703.0</th>\n",
       "      <td>0.0</td>\n",
       "      <td>0.0</td>\n",
       "      <td>1.0</td>\n",
       "      <td>0.0</td>\n",
       "      <td>0.0</td>\n",
       "      <td>0.0</td>\n",
       "      <td>0.0</td>\n",
       "      <td>0.0</td>\n",
       "    </tr>\n",
       "    <tr>\n",
       "      <th>68407301</th>\n",
       "      <th>73297138.0</th>\n",
       "      <td>0.0</td>\n",
       "      <td>0.0</td>\n",
       "      <td>1.0</td>\n",
       "      <td>0.0</td>\n",
       "      <td>0.0</td>\n",
       "      <td>0.0</td>\n",
       "      <td>0.0</td>\n",
       "      <td>0.0</td>\n",
       "    </tr>\n",
       "  </tbody>\n",
       "</table>\n",
       "</div>"
      ],
      "text/plain": [
       "                       A    B    C    D    E    F    G  None\n",
       "id       member_id                                          \n",
       "68416935 73306760.0  0.0  1.0  0.0  0.0  0.0  0.0  0.0   0.0\n",
       "68357012 73246847.0  0.0  1.0  0.0  0.0  0.0  0.0  0.0   0.0\n",
       "68466916 73356753.0  1.0  0.0  0.0  0.0  0.0  0.0  0.0   0.0\n",
       "68577849 73467703.0  0.0  0.0  1.0  0.0  0.0  0.0  0.0   0.0\n",
       "68407301 73297138.0  0.0  0.0  1.0  0.0  0.0  0.0  0.0   0.0"
      ]
     },
     "execution_count": 40,
     "metadata": {},
     "output_type": "execute_result"
    }
   ],
   "source": [
    "X = pd.get_dummies(fulldf.grade)\n",
    "X.head()"
   ]
  },
  {
   "cell_type": "code",
   "execution_count": 41,
   "metadata": {
    "collapsed": false
   },
   "outputs": [
    {
     "name": "stdout",
     "output_type": "stream",
     "text": [
      "Overall Accuracy: 0.779491336456\n",
      "F1 Score: 0.869512189586\n",
      "F1 Score (0 as \"positive\" since we are looking for \"Default\" cases): 0.288958335051\n",
      "Weighted average F1 Score: 0.756876452082\n",
      "Micro average F1 Score: 0.779491336456\n",
      "Macro average F1 Score: 0.579235262319\n",
      "Class 0 Accuracy: 0.230941585829\n",
      "Class 1 Accuracy: 0.911536460316\n",
      "ROC AUC Score: 0.571239023073\n"
     ]
    }
   ],
   "source": [
    "y_pred = predict_outcome_baseline2(X.values)\n",
    "y_prob = predict_proba_outcome_baseline2(X.values)\n",
    "evaluate(y, y_pred, y_prob)"
   ]
  },
  {
   "cell_type": "markdown",
   "metadata": {},
   "source": [
    "This model has better (compared to baseline 1) prediction accuracy for default (class 0) loans. However, the values are still very low.\n",
    "\n",
    "Changing the threshold should allow us to trade accuracies of prediction of the two classes."
   ]
  },
  {
   "cell_type": "markdown",
   "metadata": {},
   "source": [
    "###### Credit Threshhold - Descision Tree"
   ]
  },
  {
   "cell_type": "markdown",
   "metadata": {},
   "source": [
    "It would be interesting to see what a decision tree would pick as a threshold for this simplistic model.\n",
    "\n",
    "To do this, we encode the grade predictor as ordinal values and let the decision tree to pick a split point. We limit the depth to 1 to similate our decision process of the baseline model above."
   ]
  },
  {
   "cell_type": "code",
   "execution_count": 42,
   "metadata": {
    "collapsed": false
   },
   "outputs": [],
   "source": [
    "# https://github.com/JWarmenhoven/ISLR-python\n",
    "def print_tree(estimator, features, class_names=None, filled=True):\n",
    "    tree = estimator\n",
    "    names = features\n",
    "    color = filled\n",
    "    classn = class_names\n",
    "    \n",
    "    dot_data = StringIO.StringIO()\n",
    "    export_graphviz(estimator, out_file=dot_data, feature_names=features, proportion=True, class_names=classn, filled=filled)\n",
    "    graph = pydotplus.graph_from_dot_data(dot_data.getvalue())\n",
    "    return(graph)"
   ]
  },
  {
   "cell_type": "code",
   "execution_count": 43,
   "metadata": {
    "collapsed": false
   },
   "outputs": [
    {
     "name": "stdout",
     "output_type": "stream",
     "text": [
      "Categories of \"grade\" column: ['A', 'B', 'C', 'D', 'E', 'F', 'G', 'None']\n",
      "Number of rows with grade=None: 0\n"
     ]
    }
   ],
   "source": [
    "print 'Categories of \"grade\" column:', [x for x in fulldf.grade.cat.categories]\n",
    "print 'Number of rows with grade=None:', len(fulldf[fulldf.grade=='None'])"
   ]
  },
  {
   "cell_type": "markdown",
   "metadata": {
    "collapsed": true
   },
   "source": [
    "Since we do not have \"None\" values, our grades provide a sensible ordering."
   ]
  },
  {
   "cell_type": "code",
   "execution_count": 44,
   "metadata": {
    "collapsed": false,
    "scrolled": true
   },
   "outputs": [
    {
     "data": {
      "text/plain": [
       "id        member_id \n",
       "68416935  73306760.0    1\n",
       "68357012  73246847.0    1\n",
       "68466916  73356753.0    0\n",
       "68577849  73467703.0    2\n",
       "68407301  73297138.0    2\n",
       "dtype: int8"
      ]
     },
     "execution_count": 44,
     "metadata": {},
     "output_type": "execute_result"
    }
   ],
   "source": [
    "#here we encode the categorical loan_status column as numberic values\n",
    "#as the categories are ordinal\n",
    "X = fulldf.grade.cat.codes\n",
    "X.head()"
   ]
  },
  {
   "cell_type": "code",
   "execution_count": 45,
   "metadata": {
    "collapsed": false
   },
   "outputs": [],
   "source": [
    "X = X.reshape(-1, 1)"
   ]
  },
  {
   "cell_type": "code",
   "execution_count": 46,
   "metadata": {
    "collapsed": false
   },
   "outputs": [
    {
     "name": "stdout",
     "output_type": "stream",
     "text": [
      "Overall Accuracy: 0.556550845897\n",
      "F1 Score: 0.649167207835\n",
      "F1 Score (0 as \"positive\" since we are looking for \"Default\" cases): 0.397495717914\n",
      "Weighted average F1 Score: 0.600339345175\n",
      "Micro average F1 Score: 0.556550845897\n",
      "Macro average F1 Score: 0.523331462874\n",
      "Class 0 Accuracy: 0.753967207929\n",
      "Class 1 Accuracy: 0.50902941699\n",
      "ROC AUC Score: 0.63149831246\n",
      "[[ 57205  18667]\n",
      " [154750 160442]]\n"
     ]
    },
    {
     "data": {
      "image/png": "[encoded data removed]",
      "text/plain": [
       "<matplotlib.figure.Figure at 0x7f57bb6d3a10>"
      ]
     },
     "metadata": {},
     "output_type": "display_data"
    }
   ],
   "source": [
    "#use scikit-learn decision tree and set class_weight to handle the imbalance\n",
    "tree = DecisionTreeClassifier(class_weight='balanced', max_depth=1)\n",
    "tree.fit(X, y)\n",
    "y_pred = tree.predict(X)\n",
    "#here we use scikit-learn's predict_proba for the input to ROC_AUC_SCORE\n",
    "y_prob = tree.predict_proba(X)\n",
    "evaluate(y, y_pred, y_prob[:,1])\n",
    "\n",
    "cpt_cnf(tree, X, y)"
   ]
  },
  {
   "cell_type": "markdown",
   "metadata": {},
   "source": [
    "With the \"balanced\" option, scikit-learn decision tree has set a threshold so that the prediction accuracies of the two classes to be more comparable."
   ]
  },
  {
   "cell_type": "code",
   "execution_count": 47,
   "metadata": {
    "collapsed": false
   },
   "outputs": [
    {
     "ename": "AttributeError",
     "evalue": "type object '_io.StringIO' has no attribute 'StringIO'",
     "output_type": "error",
     "traceback": [
      "\u001b[0;31m---------------------------------------------------------------------------\u001b[0m",
      "\u001b[0;31mAttributeError\u001b[0m                            Traceback (most recent call last)",
      "\u001b[0;32m<ipython-input-47-73d05cb45a4e>\u001b[0m in \u001b[0;36m<module>\u001b[0;34m()\u001b[0m\n\u001b[0;32m----> 1\u001b[0;31m \u001b[0mgraph\u001b[0m \u001b[0;34m=\u001b[0m \u001b[0mprint_tree\u001b[0m\u001b[0;34m(\u001b[0m\u001b[0mtree\u001b[0m\u001b[0;34m,\u001b[0m \u001b[0;34m[\u001b[0m\u001b[0;34m'grade'\u001b[0m\u001b[0;34m]\u001b[0m\u001b[0;34m)\u001b[0m\u001b[0;34m\u001b[0m\u001b[0m\n\u001b[0m\u001b[1;32m      2\u001b[0m \u001b[0mImage\u001b[0m\u001b[0;34m(\u001b[0m\u001b[0mgraph\u001b[0m\u001b[0;34m.\u001b[0m\u001b[0mcreate_png\u001b[0m\u001b[0;34m(\u001b[0m\u001b[0;34m)\u001b[0m\u001b[0;34m)\u001b[0m\u001b[0;34m\u001b[0m\u001b[0m\n",
      "\u001b[0;32m<ipython-input-42-247898d6ab6f>\u001b[0m in \u001b[0;36mprint_tree\u001b[0;34m(estimator, features, class_names, filled)\u001b[0m\n\u001b[1;32m      6\u001b[0m     \u001b[0mclassn\u001b[0m \u001b[0;34m=\u001b[0m \u001b[0mclass_names\u001b[0m\u001b[0;34m\u001b[0m\u001b[0m\n\u001b[1;32m      7\u001b[0m \u001b[0;34m\u001b[0m\u001b[0m\n\u001b[0;32m----> 8\u001b[0;31m     \u001b[0mdot_data\u001b[0m \u001b[0;34m=\u001b[0m \u001b[0mStringIO\u001b[0m\u001b[0;34m.\u001b[0m\u001b[0mStringIO\u001b[0m\u001b[0;34m(\u001b[0m\u001b[0;34m)\u001b[0m\u001b[0;34m\u001b[0m\u001b[0m\n\u001b[0m\u001b[1;32m      9\u001b[0m     \u001b[0mexport_graphviz\u001b[0m\u001b[0;34m(\u001b[0m\u001b[0mestimator\u001b[0m\u001b[0;34m,\u001b[0m \u001b[0mout_file\u001b[0m\u001b[0;34m=\u001b[0m\u001b[0mdot_data\u001b[0m\u001b[0;34m,\u001b[0m \u001b[0mfeature_names\u001b[0m\u001b[0;34m=\u001b[0m\u001b[0mfeatures\u001b[0m\u001b[0;34m,\u001b[0m \u001b[0mproportion\u001b[0m\u001b[0;34m=\u001b[0m\u001b[0mTrue\u001b[0m\u001b[0;34m,\u001b[0m \u001b[0mclass_names\u001b[0m\u001b[0;34m=\u001b[0m\u001b[0mclassn\u001b[0m\u001b[0;34m,\u001b[0m \u001b[0mfilled\u001b[0m\u001b[0;34m=\u001b[0m\u001b[0mfilled\u001b[0m\u001b[0;34m)\u001b[0m\u001b[0;34m\u001b[0m\u001b[0m\n\u001b[1;32m     10\u001b[0m     \u001b[0mgraph\u001b[0m \u001b[0;34m=\u001b[0m \u001b[0mpydotplus\u001b[0m\u001b[0;34m.\u001b[0m\u001b[0mgraph_from_dot_data\u001b[0m\u001b[0;34m(\u001b[0m\u001b[0mdot_data\u001b[0m\u001b[0;34m.\u001b[0m\u001b[0mgetvalue\u001b[0m\u001b[0;34m(\u001b[0m\u001b[0;34m)\u001b[0m\u001b[0;34m)\u001b[0m\u001b[0;34m\u001b[0m\u001b[0m\n",
      "\u001b[0;31mAttributeError\u001b[0m: type object '_io.StringIO' has no attribute 'StringIO'"
     ]
    }
   ],
   "source": [
    "graph = print_tree(tree, ['grade'])\n",
    "Image(graph.create_png())"
   ]
  },
  {
   "cell_type": "markdown",
   "metadata": {},
   "source": [
    "The split chosen (1.5) corresponds to a boundary between grades B and C."
   ]
  },
  {
   "cell_type": "markdown",
   "metadata": {},
   "source": [
    "<font size=3><u> Baseline 3: Logistic Regression on Interest Rates</u> </font>"
   ]
  },
  {
   "cell_type": "code",
   "execution_count": 48,
   "metadata": {
    "collapsed": false
   },
   "outputs": [],
   "source": [
    "X = fulldf.int_rate"
   ]
  },
  {
   "cell_type": "code",
   "execution_count": 49,
   "metadata": {
    "collapsed": false
   },
   "outputs": [
    {
     "name": "stdout",
     "output_type": "stream",
     "text": [
      "(391064, 1)\n",
      "(391064, 1)\n",
      "(391064, 2)\n",
      "(630384, 2)\n",
      "[[ 0.1]\n",
      " [ 0.1]\n",
      " [ 0.2]\n",
      " ..., \n",
      " [ 0.1]\n",
      " [ 0.1]\n",
      " [ 0.1]]\n",
      "0.499882016311\n"
     ]
    }
   ],
   "source": [
    "#Oversampling\n",
    "#remove flutype)\n",
    "X = np.reshape(X, (X.shape[0], 1))\n",
    "y = np.reshape(y, (y.shape[0], 1))\n",
    "\n",
    "print X.shape\n",
    "print y.shape\n",
    "\n",
    "\n",
    "X = np.concatenate((X, y), axis=1)\n",
    "print X.shape\n",
    "\n",
    "unq, unq_idx = np.unique(X[:, -1], return_inverse=True)\n",
    "unq_cnt = np.bincount(unq_idx)\n",
    "cnt = np.max(unq_cnt)\n",
    "out = np.empty((cnt*len(unq) - len(X),) + X.shape[1:], X.dtype)\n",
    "slices = np.concatenate(([0], np.cumsum(cnt - unq_cnt)))\n",
    "for j in xrange(len(unq)):\n",
    "    indices = np.random.choice(np.where(unq_idx==j)[0], cnt - unq_cnt[j])\n",
    "    out[slices[j]:slices[j+1]] = X[indices]\n",
    "out = np.vstack((X, out))\n",
    "\n",
    "\n",
    "data_oversamp = out\n",
    "print data_oversamp.shape\n",
    "\n",
    "x_oversamp = data_oversamp[: , :-1]\n",
    "y_oversamp = data_oversamp[: , -1]\n",
    "\n",
    "\n",
    "x_train, x_test, y_train, y_test = train_test_split(x_oversamp, y_oversamp, test_size=0.2)\n",
    "print x_train\n",
    "#print x_train[:, -1].mean()\n",
    "print y_train.mean()\n",
    "\n",
    "#print sum(x_train_ovr[:, -1]-y_train_ovr)"
   ]
  },
  {
   "cell_type": "code",
   "execution_count": 50,
   "metadata": {
    "collapsed": false
   },
   "outputs": [
    {
     "name": "stdout",
     "output_type": "stream",
     "text": [
      "Overall Accuracy: 0.626498092436\n",
      "F1 Score: 0.638425627323\n",
      "F1 Score (0 as \"positive\" since we are looking for \"Default\" cases): 0.613756787349\n",
      "Weighted average F1 Score: 0.626102849396\n",
      "Micro average F1 Score: 0.626498092436\n",
      "Macro average F1 Score: 0.626091207336\n",
      "Class 0 Accuracy: 0.594071039553\n",
      "Class 1 Accuracy: 0.65886398935\n",
      "ROC AUC Score: 0.67756368254\n",
      "[[37414 25565]\n",
      " [21525 41573]]\n"
     ]
    },
    {
     "data": {
      "image/png": "[encoded data removed]",
      "text/plain": [
       "<matplotlib.figure.Figure at 0x7f57bb6d3a50>"
      ]
     },
     "metadata": {},
     "output_type": "display_data"
    }
   ],
   "source": [
    "#Logistic Regresstion\n",
    "LOG_ = LogisticRegression(C = 1000000) #C=1000000,penalty='l1'\n",
    "model_LOG = LOG_.fit(x_train, y_train)\n",
    "y_pred = LOG_.predict(x_test)\n",
    "y_prob = LOG_.predict_proba(x_test)\n",
    "\n",
    "evaluate(y_test, y_pred, y_prob[:, 1])\n",
    "cpt_cnf(model_LOG, x_test, y_test)"
   ]
  },
  {
   "cell_type": "markdown",
   "metadata": {},
   "source": [
    "### Model Overview/Comparison"
   ]
  },
  {
   "cell_type": "markdown",
   "metadata": {},
   "source": [
    "**!!(Insert Model Comparisons - Pros, Cons, Hypothesis, Previous Research)!!**"
   ]
  },
  {
   "cell_type": "markdown",
   "metadata": {},
   "source": [
    "### Evaluation Criteria"
   ]
  },
  {
   "cell_type": "markdown",
   "metadata": {
    "collapsed": true
   },
   "source": [
    "**!!(INSERT EVALUATION CRITERIA WRITEUP)!!**"
   ]
  },
  {
   "cell_type": "code",
   "execution_count": 51,
   "metadata": {
    "collapsed": false
   },
   "outputs": [
    {
     "name": "stdout",
     "output_type": "stream",
     "text": [
      "(391064, 108)\n",
      "(391064,)\n",
      "[[15000.0 15000.0 15000.0 ..., 53397.0 36100.0 47370.0]\n",
      " [15000.0 15000.0 15000.0 ..., 27849.0 28200.0 21124.0]\n",
      " [25000.0 25000.0 25000.0 ..., 68056.0 38400.0 82117.0]\n",
      " ..., \n",
      " [10000.0 10000.0 10000.0 ..., 10170.0 5600.0 6974.0]\n",
      " [22000.0 22000.0 22000.0 ..., 47136.0 12200.0 39347.0]\n",
      " [2000.0 2000.0 2000.0 ..., 50896.0 47500.0 37200.0]]\n"
     ]
    }
   ],
   "source": [
    "y = fulldf[\"loan_status\"].values\n",
    "df_for_drop = fulldf\n",
    "X_full = df_for_drop.drop(\"loan_status\", axis=1)\n",
    "x = X_full.values\n",
    "print X_full.shape\n",
    "print y.shape\n",
    "print x"
   ]
  },
  {
   "cell_type": "code",
   "execution_count": 52,
   "metadata": {
    "collapsed": false,
    "scrolled": true
   },
   "outputs": [
    {
     "name": "stdout",
     "output_type": "stream",
     "text": [
      "[ 15000.  25000.  18000. ...,  34425.  32125.  33775.]\n",
      "[ 15000.  25000.  18000. ...,  34425.  32125.  33775.]\n",
      "[ 15000.   25000.   18000.  ...,  20375.7  22962.   33650. ]\n",
      "[36 months, 60 months]\n",
      "Categories (2, object): [36 months, 60 months]\n",
      "[ 0.1  0.1  0.1  0.1  0.1  0.1  0.2  0.2  0.1  0.1  0.2  0.2  0.2  0.1  0.1\n",
      "  0.2  0.1  0.2  0.1  0.2  0.1  0.2  0.2  0.2  0.1  0.1  0.3  0.2  0.2  0.3\n",
      "  0.3  0.3  0.2  0.1  0.2  0.1  0.1  0.1  0.1  0.2  0.3  0.1  0.1  0.1  0.1\n",
      "  0.2  0.2  0.2  0.1  0.2  0.2  0.1  0.2  0.2  0.3  0.2  0.1  0.3  0.3  0.3\n",
      "  0.2  0.1  0.1  0.1  0.1  0.1  0.1  0.1  0.2  0.1  0.1  0.2  0.1  0.2  0.1\n",
      "  0.1  0.2  0.3  0.2  0.1  0.1  0.2  0.1  0.2  0.2  0.2  0.1  0.3  0.3  0.3\n",
      "  0.3  0.3  0.1  0.1  0.2  0.1  0.1  0.1  0.1  0.2  0.2  0.1  0.1  0.2  0.2\n",
      "  0.1  0.1  0.2  0.1  0.1  0.2  0.2  0.1  0.1  0.2  0.2  0.1  0.2  0.1  0.1\n",
      "  0.1  0.2  0.1  0.1  0.1  0.2  0.2  0.2  0.2  0.2  0.2  0.2  0.2  0.2  0.2\n",
      "  0.2  0.2  0.2  0.1  0.2  0.2  0.1  0.1  0.1  0.2  0.2  0.2  0.2  0.2  0.2\n",
      "  0.2  0.2  0.2  0.2  0.2  0.2  0.2  0.2  0.2  0.1  0.2  0.1  0.1  0.1  0.2\n",
      "  0.1  0.2  0.2  0.2  0.2  0.1  0.2  0.1  0.2  0.1  0.2  0.2  0.2  0.2  0.2\n",
      "  0.1  0.1  0.1  0.2  0.2  0.2  0.2  0.1  0.1  0.1  0.2  0.2  0.1  0.1  0.2\n",
      "  0.1  0.1  0.2  0.1  0.1  0.1  0.1  0.1  0.2  0.1  0.2  0.2  0.2  0.2  0.2\n",
      "  0.1  0.1  0.1  0.1  0.1  0.1  0.1  0.2  0.2  0.1  0.1  0.1  0.2  0.1  0.1\n",
      "  0.1  0.1  0.1  0.2  0.2  0.2  0.2  0.2  0.2  0.2  0.2  0.2  0.2  0.2  0.2\n",
      "  0.2  0.1  0.1  0.1  0.1  0.1  0.2  0.2  0.2  0.1  0.1  0.2  0.1  0.1  0.1\n",
      "  0.1  0.2  0.1  0.1  0.2  0.2  0.2  0.2  0.2  0.2  0.2  0.2  0.2  0.2  0.1\n",
      "  0.1  0.1  0.1  0.1  0.1  0.2  0.2  0.1  0.1  0.2  0.1  0.1  0.1  0.1  0.1\n",
      "  0.1  0.1  0.2  0.1  0.1  0.1  0.1  0.2  0.1  0.2  0.1  0.2  0.1  0.2  0.2\n",
      "  0.2  0.2  0.1  0.2  0.2  0.1  0.2  0.2  0.2  0.2  0.2  0.2  0.2  0.1  0.1\n",
      "  0.1  0.1  0.2  0.1  0.1  0.1  0.2  0.2  0.1  0.1  0.1  0.1  0.1  0.1  0.1\n",
      "  0.2  0.2  0.2  0.1  0.1  0.2  0.2  0.2  0.2  0.1  0.1  0.1  0.1  0.1  0.1\n",
      "  0.1  0.1  0.1  0.1  0.1  0.2  0.1  0.2  0.2  0.1  0.2  0.1  0.2  0.2  0.1\n",
      "  0.1  0.1  0.1  0.1  0.1  0.1  0.1  0.1  0.1  0.1  0.1  0.1  0.2  0.2  0.1\n",
      "  0.1  0.2  0.1  0.2  0.2  0.1  0.1  0.1  0.1  0.1  0.1  0.1  0.1  0.1  0.1\n",
      "  0.1  0.1  0.2  0.1  0.1  0.2  0.2  0.2  0.2  0.2  0.2  0.1  0.1  0.1  0.1\n",
      "  0.1  0.1  0.1  0.1  0.1  0.1  0.1  0.1  0.1  0.1  0.1  0.1  0.1  0.1  0.1\n",
      "  0.2  0.2  0.1  0.2  0.1  0.1  0.1  0.1  0.1  0.1  0.1  0.1  0.1  0.1  0.1\n",
      "  0.1  0.1  0.1  0.1  0.1  0.1  0.2  0.1  0.1  0.1  0.1  0.1  0.2  0.2  0.2\n",
      "  0.2  0.2  0.2  0.2  0.2  0.2  0.2  0.2  0.2  0.2  0.2  0.2  0.1  0.1  0.2\n",
      "  0.1  0.1  0.1  0.2  0.2  0.2  0.1  0.2  0.2  0.2  0.1  0.2  0.2  0.2  0.2\n",
      "  0.3  0.1  0.2  0.2  0.2  0.2  0.2  0.2  0.2  0.2  0.2  0.2  0.2  0.2  0.2\n",
      "  0.2  0.2  0.2  0.2  0.2  0.2  0.2  0.2  0.2  0.2  0.2  0.1  0.1  0.1  0.2\n",
      "  0.1  0.1  0.2  0.2  0.1  0.1  0.2  0.1  0.1  0.2]\n",
      "[ 482.6  473.4  777.5 ...,  473.4  410.9  217.7]\n",
      "[B, A, C, F, E, D, G]\n",
      "Categories (7, object): [B, A, C, F, E, D, G]\n",
      "[B3, B1, A4, C1, C5, ..., G1, G4, G3, G5, F5]\n",
      "Length: 35\n",
      "Categories (35, object): [B3, B1, A4, C1, ..., G4, G3, G5, F5]\n",
      "['Electronic Branch Manager' 'Senior Associate' 'Sales Manager' ...,\n",
      " 'Mec\\xc3\\x83\\xc2\\xa1nica' 'Chief of Interpretation (Park Ranger)'\n",
      " 'Server Engineer Lead']\n",
      "[3 years, 6 years, 10+ years, 8 years, < 1 year, ..., 7 years, 5 years, n/a, 4 years, 9 years]\n",
      "Length: 12\n",
      "Categories (12, object): [3 years, 6 years, 10+ years, 8 years, ..., 5 years, n/a, 4 years, 9 years]\n",
      "[Mortgage, Rent, Own, Other, None, Any]\n",
      "Categories (6, object): [Mortgage, Rent, Own, Other, None, Any]\n",
      "[  92000.  110000.  109000. ...,  284481.  113926.   99975.]\n",
      "[Not Verified, Source Verified, Verified]\n",
      "Categories (3, object): [Not Verified, Source Verified, Verified]\n",
      "['2015-12-01T00:00:00.000000000' '2015-11-01T00:00:00.000000000'\n",
      " '2015-10-01T00:00:00.000000000' '2015-09-01T00:00:00.000000000'\n",
      " '2015-08-01T00:00:00.000000000' '2015-07-01T00:00:00.000000000'\n",
      " '2015-06-01T00:00:00.000000000' '2015-05-01T00:00:00.000000000'\n",
      " '2015-04-01T00:00:00.000000000' '2015-03-01T00:00:00.000000000'\n",
      " '2015-02-01T00:00:00.000000000' '2015-01-01T00:00:00.000000000'\n",
      " '2011-12-01T00:00:00.000000000' '2011-11-01T00:00:00.000000000'\n",
      " '2011-10-01T00:00:00.000000000' '2011-09-01T00:00:00.000000000'\n",
      " '2011-08-01T00:00:00.000000000' '2011-07-01T00:00:00.000000000'\n",
      " '2011-06-01T00:00:00.000000000' '2011-05-01T00:00:00.000000000'\n",
      " '2011-04-01T00:00:00.000000000' '2011-03-01T00:00:00.000000000'\n",
      " '2011-02-01T00:00:00.000000000' '2011-01-01T00:00:00.000000000'\n",
      " '2010-12-01T00:00:00.000000000' '2010-11-01T00:00:00.000000000'\n",
      " '2010-10-01T00:00:00.000000000' '2010-09-01T00:00:00.000000000'\n",
      " '2010-08-01T00:00:00.000000000' '2010-07-01T00:00:00.000000000'\n",
      " '2010-06-01T00:00:00.000000000' '2010-05-01T00:00:00.000000000'\n",
      " '2010-04-01T00:00:00.000000000' '2010-03-01T00:00:00.000000000'\n",
      " '2010-02-01T00:00:00.000000000' '2010-01-01T00:00:00.000000000'\n",
      " '2009-12-01T00:00:00.000000000' '2009-11-01T00:00:00.000000000'\n",
      " '2009-10-01T00:00:00.000000000' '2009-09-01T00:00:00.000000000'\n",
      " '2009-08-01T00:00:00.000000000' '2009-07-01T00:00:00.000000000'\n",
      " '2009-06-01T00:00:00.000000000' '2009-05-01T00:00:00.000000000'\n",
      " '2009-04-01T00:00:00.000000000' '2009-03-01T00:00:00.000000000'\n",
      " '2009-02-01T00:00:00.000000000' '2009-01-01T00:00:00.000000000'\n",
      " '2008-12-01T00:00:00.000000000' '2008-11-01T00:00:00.000000000'\n",
      " '2008-10-01T00:00:00.000000000' '2008-09-01T00:00:00.000000000'\n",
      " '2008-08-01T00:00:00.000000000' '2008-07-01T00:00:00.000000000'\n",
      " '2008-06-01T00:00:00.000000000' '2008-05-01T00:00:00.000000000'\n",
      " '2008-04-01T00:00:00.000000000' '2008-03-01T00:00:00.000000000'\n",
      " '2008-02-01T00:00:00.000000000' '2008-01-01T00:00:00.000000000'\n",
      " '2007-12-01T00:00:00.000000000' '2007-11-01T00:00:00.000000000'\n",
      " '2007-10-01T00:00:00.000000000' '2007-09-01T00:00:00.000000000'\n",
      " '2007-08-01T00:00:00.000000000' '2007-07-01T00:00:00.000000000'\n",
      " '2007-06-01T00:00:00.000000000' '2013-12-01T00:00:00.000000000'\n",
      " '2013-11-01T00:00:00.000000000' '2013-10-01T00:00:00.000000000'\n",
      " '2013-09-01T00:00:00.000000000' '2013-08-01T00:00:00.000000000'\n",
      " '2013-07-01T00:00:00.000000000' '2013-06-01T00:00:00.000000000'\n",
      " '2013-05-01T00:00:00.000000000' '2013-04-01T00:00:00.000000000'\n",
      " '2013-03-01T00:00:00.000000000' '2013-02-01T00:00:00.000000000'\n",
      " '2013-01-01T00:00:00.000000000' '2012-12-01T00:00:00.000000000'\n",
      " '2012-11-01T00:00:00.000000000' '2012-10-01T00:00:00.000000000'\n",
      " '2012-09-01T00:00:00.000000000' '2012-08-01T00:00:00.000000000'\n",
      " '2012-07-01T00:00:00.000000000' '2012-06-01T00:00:00.000000000'\n",
      " '2012-05-01T00:00:00.000000000' '2012-04-01T00:00:00.000000000'\n",
      " '2012-03-01T00:00:00.000000000' '2012-02-01T00:00:00.000000000'\n",
      " '2012-01-01T00:00:00.000000000' '2014-12-01T00:00:00.000000000'\n",
      " '2014-11-01T00:00:00.000000000' '2014-10-01T00:00:00.000000000'\n",
      " '2014-09-01T00:00:00.000000000' '2014-08-01T00:00:00.000000000'\n",
      " '2014-07-01T00:00:00.000000000' '2014-06-01T00:00:00.000000000'\n",
      " '2014-05-01T00:00:00.000000000' '2014-04-01T00:00:00.000000000'\n",
      " '2014-03-01T00:00:00.000000000' '2014-02-01T00:00:00.000000000'\n",
      " '2014-01-01T00:00:00.000000000']\n",
      "[Fully Paid, Default]\n",
      "Categories (2, object): [Fully Paid, Default]\n",
      "[N, Y]\n",
      "Categories (2, object): [N, Y]\n",
      "['https://lendingclub.com/browse/loanDetail.action?loan_id=68416935'\n",
      " 'https://lendingclub.com/browse/loanDetail.action?loan_id=68357012'\n",
      " 'https://lendingclub.com/browse/loanDetail.action?loan_id=68466916' ...,\n",
      " 'https://lendingclub.com/browse/loanDetail.action?loan_id=9745590'\n",
      " 'https://lendingclub.com/browse/loanDetail.action?loan_id=9684700'\n",
      " 'https://lendingclub.com/browse/loanDetail.action?loan_id=9604874']\n",
      "[nan ' '\n",
      " 'I would like to consolidate my loan in one small monthly payment w/a low interest rate. All my credit has a very high interest rate. Please advise and let me know if i will be qualified.  '\n",
      " ..., '  Borrower added on 12/10/13 > all my loans in one auto payment<br>'\n",
      " '  Borrower added on 12/10/13 > pay off higher interest credit cards and have one lower payment each month<br>'\n",
      " '  Borrower added on 12/09/13 > consolidate all credit accounts<br>']\n",
      "[Debt_Consolidation, Credit_Card, Other, Major_Purchase, Small_Business, ..., Vacation, Renewable_Energy, House, Wedding, Educational]\n",
      "Length: 14\n",
      "Categories (14, object): [Debt_Consolidation, Credit_Card, Other, Major_Purchase, ..., Renewable_Energy, House, Wedding, Educational]\n",
      "['Debt consolidation' 'Credit card refinancing' 'Other' ...,\n",
      " 'Stop the bleeding' 'LoanGetter' 'Consolidation 01']\n",
      "['973xx' '085xx' '226xx' '856xx' '710xx' '774xx' '174xx' '462xx' '441xx'\n",
      " '015xx' '880xx' '577xx' '447xx' '436xx' '940xx' '346xx' '481xx' '773xx'\n",
      " '327xx' '301xx' '480xx' '164xx' '294xx' '146xx' '027xx' '945xx' '600xx'\n",
      " '206xx' '825xx' '917xx' '922xx' '910xx' '986xx' '136xx' '928xx' '078xx'\n",
      " '924xx' '181xx' '968xx' '941xx' '760xx' '193xx' '974xx' '891xx' '308xx'\n",
      " '820xx' '852xx' '800xx' '541xx' '404xx' '919xx' '191xx' '207xx' '286xx'\n",
      " '806xx' '488xx' '195xx' '451xx' '935xx' '210xx' '300xx' '377xx' '295xx'\n",
      " '282xx' '358xx' '123xx' '322xx' '982xx' '118xx' '704xx' '017xx' '326xx'\n",
      " '038xx' '331xx' '725xx' '801xx' '014xx' '372xx' '293xx' '100xx' '217xx'\n",
      " '476xx' '493xx' '124xx' '244xx' '275xx' '212xx' '349xx' '850xx' '330xx'\n",
      " '809xx' '112xx' '949xx' '853xx' '762xx' '079xx' '900xx' '956xx' '927xx'\n",
      " '770xx' '906xx' '453xx' '802xx' '950xx' '606xx' '303xx' '750xx' '930xx'\n",
      " '104xx' '960xx' '142xx' '953xx' '139xx' '601xx' '354xx' '532xx' '840xx'\n",
      " '583xx' '070xx' '151xx' '381xx' '662xx' '571xx' '370xx' '782xx' '109xx'\n",
      " '783xx' '194xx' '469xx' '640xx' '216xx' '432xx' '069xx' '657xx' '992xx'\n",
      " '957xx' '060xx' '025xx' '605xx' '347xx' '967xx' '201xx' '208xx' '325xx'\n",
      " '401xx' '337xx' '316xx' '931xx' '530xx' '336xx' '170xx' '339xx' '553xx'\n",
      " '103xx' '087xx' '321xx' '021xx' '296xx' '335xx' '672xx' '334xx' '338xx'\n",
      " '857xx' '231xx' '117xx' '700xx' '460xx' '780xx' '077xx' '197xx' '751xx'\n",
      " '280xx' '741xx' '914xx' '588xx' '064xx' '978xx' '234xx' '926xx' '713xx'\n",
      " '946xx' '805xx' '341xx' '020xx' '456xx' '921xx' '350xx' '923xx' '546xx'\n",
      " '787xx' '597xx' '727xx' '550xx' '290xx' '890xx' '916xx' '463xx' '328xx'\n",
      " '637xx' '907xx' '557xx' '913xx' '461xx' '795xx' '430xx' '440xx' '936xx'\n",
      " '010xx' '302xx' '150xx' '641xx' '972xx' '125xx' '804xx' '221xx' '200xx'\n",
      " '452xx' '465xx' '165xx' '088xx' '285xx' '211xx' '544xx' '209xx' '808xx'\n",
      " '352xx' '371xx' '442xx' '283xx' '767xx' '933xx' '028xx' '444xx' '134xx'\n",
      " '594xx' '320xx' '644xx' '120xx' '402xx' '274xx' '902xx' '277xx' '376xx'\n",
      " '790xx' '724xx' '019xx' '105xx' '314xx' '356xx' '271xx' '023xx' '981xx'\n",
      " '450xx' '218xx' '030xx' '761xx' '841xx' '925xx' '119xx' '970xx' '140xx'\n",
      " '013xx' '240xx' '196xx' '918xx' '610xx' '305xx' '752xx' '712xx' '482xx'\n",
      " '363xx' '775xx' '711xx' '908xx' '374xx' '056xx' '114xx' '958xx' '554xx'\n",
      " '276xx' '284xx' '920xx' '131xx' '256xx' '954xx' '129xx' '133xx' '980xx'\n",
      " '971xx' '599xx' '734xx' '049xx' '449xx' '988xx' '570xx' '851xx' '955xx'\n",
      " '485xx' '491xx' '603xx' '190xx' '270xx' '080xx' '394xx' '029xx' '989xx'\n",
      " '380xx' '720xx' '405xx' '365xx' '591xx' '235xx' '223xx' '144xx' '393xx'\n",
      " '781xx' '433xx' '563xx' '894xx' '875xx' '595xx' '359xx' '531xx' '756xx'\n",
      " '310xx' '757xx' '743xx' '410xx' '176xx' '705xx' '816xx' '810xx' '602xx'\n",
      " '273xx' '128xx' '040xx' '934xx' '995xx' '431xx' '110xx' '241xx' '435xx'\n",
      " '895xx' '681xx' '911xx' '860xx' '904xx' '997xx' '473xx' '604xx' '122xx'\n",
      " '708xx' '483xx' '778xx' '387xx' '232xx' '870xx' '653xx' '722xx' '631xx'\n",
      " '636xx' '975xx' '233xx' '254xx' '952xx' '075xx' '951xx' '785xx' '685xx'\n",
      " '395xx' '292xx' '768xx' '454xx' '319xx' '108xx' '427xx' '222xx' '983xx'\n",
      " '152xx' '617xx' '467xx' '630xx' '058xx' '386xx' '304xx' '378xx' '937xx'\n",
      " '086xx' '175xx' '229xx' '034xx' '227xx' '423xx' '633xx' '313xx' '403xx'\n",
      " '786xx' '498xx' '874xx' '648xx' '351xx' '236xx' '220xx' '180xx' '230xx'\n",
      " '071xx' '494xx' '729xx' '168xx' '490xx' '626xx' '156xx' '390xx' '278xx'\n",
      " '219xx' '558xx' '464xx' '932xx' '145xx' '368xx' '306xx' '598xx' '324xx'\n",
      " '157xx' '355xx' '776xx' '024xx' '813xx' '187xx' '141xx' '990xx' '182xx'\n",
      " '287xx' '803xx' '864xx' '625xx' '044xx' '063xx' '066xx' '687xx' '479xx'\n",
      " '255xx' '169xx' '074xx' '357xx' '173xx' '033xx' '443xx' '871xx' '755xx'\n",
      " '315xx' '903xx' '016xx' '107xx' '177xx' '446xx' '360xx' '121xx' '855xx'\n",
      " '171xx' '067xx' '959xx' '763xx' '083xx' '042xx' '037xx' '624xx' '548xx'\n",
      " '342xx' '457xx' '915xx' '534xx' '434xx' '660xx' '794xx' '939xx' '439xx'\n",
      " '291xx' '565xx' '199xx' '383xx' '132xx' '943xx' '740xx' '656xx' '113xx'\n",
      " '068xx' '772xx' '622xx' '065xx' '111xx' '137xx' '366xx' '362xx' '551xx'\n",
      " '224xx' '445xx' '159xx' '701xx' '559xx' '650xx' '081xx' '590xx' '560xx'\n",
      " '471xx' '620xx' '977xx' '723xx' '797xx' '307xx' '437xx' '996xx' '344xx'\n",
      " '161xx' '948xx' '333xx' '777xx' '607xx' '707xx' '031xx' '748xx' '754xx'\n",
      " '863xx' '076xx' '675xx' '611xx' '984xx' '400xx' '115xx' '389xx' '072xx'\n",
      " '912xx' '731xx' '215xx' '993xx' '883xx' '297xx' '496xx' '484xx' '373xx'\n",
      " '458xx' '062xx' '486xx' '245xx' '073xx' '844xx' '184xx' '881xx' '225xx'\n",
      " '961xx' '730xx' '549xx' '535xx' '612xx' '018xx' '047xx' '163xx' '789xx'\n",
      " '784xx' '154xx' '263xx' '348xx' '572xx' '281xx' '898xx' '323xx' '092xx'\n",
      " '796xx' '272xx' '765xx' '388xx' '329xx' '735xx' '258xx' '101xx' '288xx'\n",
      " '106xx' '706xx' '082xx' '265xx' '567xx' '815xx' '547xx' '897xx' '391xx'\n",
      " '645xx' '138xx' '489xx' '385xx' '472xx' '153xx' '651xx' '382xx' '238xx'\n",
      " '130xx' '566xx' '242xx' '011xx' '540xx' '160xx' '769xx' '309xx' '826xx'\n",
      " '679xx' '172xx' '985xx' '616xx' '495xx' '618xx' '721xx' '537xx' '492xx'\n",
      " '596xx' '627xx' '392xx' '414xx' '671xx' '847xx' '228xx' '155xx' '944xx'\n",
      " '766xx' '408xx' '253xx' '882xx' '198xx' '744xx' '178xx' '793xx' '424xx'\n",
      " '976xx' '962xx' '384xx' '298xx' '799xx' '127xx' '147xx' '592xx' '690xx'\n",
      " '474xx' '539xx' '299xx' '468xx' '418xx' '188xx' '166xx' '788xx' '811xx'\n",
      " '415xx' '477xx' '759xx' '421xx' '608xx' '615xx' '564xx' '680xx' '652xx'\n",
      " '497xx' '032xx' '827xx' '846xx' '581xx' '148xx' '843xx' '634xx' '703xx'\n",
      " '584xx' '543xx' '050xx' '466xx' '693xx' '061xx' '054xx' '947xx' '655xx'\n",
      " '162xx' '396xx' '678xx' '448xx' '728xx' '638xx' '719xx' '186xx' '455xx'\n",
      " '905xx' '689xx' '143xx' '586xx' '185xx' '262xx' '041xx' '239xx' '691xx'\n",
      " '717xx' '183xx' '764xx' '237xx' '012xx' '406xx' '542xx' '670xx' '048xx'\n",
      " '089xx' '379xx' '654xx' '845xx' '609xx' '189xx' '688xx' '666xx' '758xx'\n",
      " '116xx' '999xx' '367xx' '661xx' '807xx' '716xx' '475xx' '814xx' '613xx'\n",
      " '791xx' '416xx' '158xx' '046xx' '714xx' '593xx' '246xx' '361xx' '829xx'\n",
      " '828xx' '420xx' '422xx' '317xx' '575xx' '251xx' '510xx' '425xx' '438xx'\n",
      " '676xx' '677xx' '214xx' '673xx' '026xx' '893xx' '823xx' '798xx' '412xx'\n",
      " '879xx' '279xx' '084xx' '629xx' '749xx' '478xx' '665xx' '877xx' '247xx'\n",
      " '582xx' '397xx' '628xx' '243xx' '737xx' '859xx' '562xx' '538xx' '753xx'\n",
      " '043xx' '487xx' '587xx' '585xx' '318xx' '614xx' '411xx' '779xx' '865xx'\n",
      " '257xx' '364xx' '718xx' '135xx' '664xx' '470xx' '008xx' '409xx' '726xx'\n",
      " '051xx' '998xx' '260xx' '991xx' '312xx' '574xx' '126xx' '259xx' '035xx'\n",
      " '812xx' '261xx' '407xx' '039xx' '836xx' '045xx' '573xx' '994xx' '623xx'\n",
      " '674xx' '647xx' '580xx' '619xx' '979xx' '091xx' '545xx' '098xx' '658xx'\n",
      " '022xx' '639xx' '684xx' '686xx' '824xx' '556xx' '668xx' '576xx' '739xx'\n",
      " '149xx' '746xx' '747xx' '179xx' '830xx' '249xx' '036xx' '250xx' '884xx'\n",
      " '738xx' '822xx' '052xx' '289xx' '873xx' '878xx' '561xx' '831xx' '059xx'\n",
      " '555xx' '248xx' '667xx' '635xx' '413xx' '702xx' '094xx' '963xx' '398xx'\n",
      " '267xx' '268xx' '683xx' '417xx' '646xx' '264xx' '792xx' '102xx' '053xx'\n",
      " '426xx' '252xx' '745xx' '057xx' '736xx' '849xx' '854xx' '499xx' '167xx'\n",
      " '669xx' '520xx' '096xx' '861xx' '090xx' '332xx' '266xx' '862xx' '504xx'\n",
      " '203xx' '969xx' '663xx' '528xx' '527xx' '838xx' '375xx' '369xx' '353xx'\n",
      " '007xx' '093xx' '965xx' '837xx' '834xx' '833xx' '522xx' '523xx' '569xx'\n",
      " '502xx' '942xx' '621xx' '643xx' '821xx' '340xx' '513xx' '500xx' '682xx'\n",
      " '311xx' '929xx' '938xx' '524xx' '909xx' '516xx' '832xx']\n",
      "[OR, NJ, VA, AZ, LA, ..., AK, NE, WV, IA, ID]\n",
      "Length: 51\n",
      "Categories (51, object): [OR, NJ, VA, AZ, ..., NE, WV, IA, ID]\n",
      "[ 13.9  13.2  26.  ...,   0.1   0.1  39.1]\n",
      "[  0.   1.   2.   3.   6.   4.   5.   7.   9.   8.  12.  10.  13.  14.  11.\n",
      "  18.  16.  17.  26.  15.  20.  29.  24.  22.  19.]\n",
      "['2001-11-01T00:00:00.000000000' '2002-12-01T00:00:00.000000000'\n",
      " '2001-12-01T00:00:00.000000000' '1993-11-01T00:00:00.000000000'\n",
      " '2001-07-01T00:00:00.000000000' '2004-10-01T00:00:00.000000000'\n",
      " '1998-06-01T00:00:00.000000000' '2005-03-01T00:00:00.000000000'\n",
      " '2000-11-01T00:00:00.000000000' '1987-08-01T00:00:00.000000000'\n",
      " '2002-04-01T00:00:00.000000000' '1999-12-01T00:00:00.000000000'\n",
      " '2000-09-01T00:00:00.000000000' '1977-12-01T00:00:00.000000000'\n",
      " '2000-03-01T00:00:00.000000000' '2002-09-01T00:00:00.000000000'\n",
      " '2002-11-01T00:00:00.000000000' '1996-07-01T00:00:00.000000000'\n",
      " '1998-08-01T00:00:00.000000000' '1991-04-01T00:00:00.000000000'\n",
      " '2006-04-01T00:00:00.000000000' '2004-04-01T00:00:00.000000000'\n",
      " '1985-11-01T00:00:00.000000000' '1989-09-01T00:00:00.000000000'\n",
      " '2003-05-01T00:00:00.000000000' '1999-10-01T00:00:00.000000000'\n",
      " '2003-11-01T00:00:00.000000000' '1989-08-01T00:00:00.000000000'\n",
      " '1998-10-01T00:00:00.000000000' '1994-10-01T00:00:00.000000000'\n",
      " '1998-07-01T00:00:00.000000000' '1999-06-01T00:00:00.000000000'\n",
      " '2006-11-01T00:00:00.000000000' '2012-03-01T00:00:00.000000000'\n",
      " '1995-02-01T00:00:00.000000000' '1994-11-01T00:00:00.000000000'\n",
      " '1987-02-01T00:00:00.000000000' '2003-07-01T00:00:00.000000000'\n",
      " '1973-03-01T00:00:00.000000000' '2003-10-01T00:00:00.000000000'\n",
      " '1996-02-01T00:00:00.000000000' '1985-08-01T00:00:00.000000000'\n",
      " '2007-10-01T00:00:00.000000000' '2002-05-01T00:00:00.000000000'\n",
      " '2006-09-01T00:00:00.000000000' '2004-03-01T00:00:00.000000000'\n",
      " '1984-11-01T00:00:00.000000000' '1992-07-01T00:00:00.000000000'\n",
      " '2005-07-01T00:00:00.000000000' '1980-03-01T00:00:00.000000000'\n",
      " '2004-08-01T00:00:00.000000000' '2000-04-01T00:00:00.000000000'\n",
      " '1986-05-01T00:00:00.000000000' '1999-02-01T00:00:00.000000000'\n",
      " '1999-07-01T00:00:00.000000000' '1997-08-01T00:00:00.000000000'\n",
      " '2002-08-01T00:00:00.000000000' '2003-08-01T00:00:00.000000000'\n",
      " '1995-07-01T00:00:00.000000000' '2007-04-01T00:00:00.000000000'\n",
      " '1986-11-01T00:00:00.000000000' '2001-09-01T00:00:00.000000000'\n",
      " '1992-11-01T00:00:00.000000000' '1987-09-01T00:00:00.000000000'\n",
      " '2005-10-01T00:00:00.000000000' '1994-09-01T00:00:00.000000000'\n",
      " '1991-11-01T00:00:00.000000000' '2001-01-01T00:00:00.000000000'\n",
      " '1994-04-01T00:00:00.000000000' '1994-07-01T00:00:00.000000000'\n",
      " '1999-05-01T00:00:00.000000000' '2005-01-01T00:00:00.000000000'\n",
      " '2004-07-01T00:00:00.000000000' '1996-06-01T00:00:00.000000000'\n",
      " '2003-04-01T00:00:00.000000000' '1988-12-01T00:00:00.000000000'\n",
      " '1998-05-01T00:00:00.000000000' '2006-12-01T00:00:00.000000000'\n",
      " '1998-02-01T00:00:00.000000000' '2004-05-01T00:00:00.000000000'\n",
      " '1986-01-01T00:00:00.000000000' '1983-08-01T00:00:00.000000000'\n",
      " '2006-07-01T00:00:00.000000000' '2000-08-01T00:00:00.000000000'\n",
      " '2011-10-01T00:00:00.000000000' '1996-10-01T00:00:00.000000000'\n",
      " '1977-04-01T00:00:00.000000000' '2003-06-01T00:00:00.000000000'\n",
      " '2004-12-01T00:00:00.000000000' '1983-06-01T00:00:00.000000000'\n",
      " '1989-11-01T00:00:00.000000000' '1979-01-01T00:00:00.000000000'\n",
      " '1980-08-01T00:00:00.000000000' '1998-09-01T00:00:00.000000000'\n",
      " '1992-12-01T00:00:00.000000000' '2006-03-01T00:00:00.000000000'\n",
      " '1996-12-01T00:00:00.000000000' '2005-02-01T00:00:00.000000000'\n",
      " '1978-09-01T00:00:00.000000000' '2009-12-01T00:00:00.000000000'\n",
      " '2007-09-01T00:00:00.000000000' '2008-06-01T00:00:00.000000000'\n",
      " '1993-02-01T00:00:00.000000000' '2006-05-01T00:00:00.000000000'\n",
      " '1990-06-01T00:00:00.000000000' '1996-04-01T00:00:00.000000000'\n",
      " '2007-03-01T00:00:00.000000000' '2000-05-01T00:00:00.000000000'\n",
      " '1984-08-01T00:00:00.000000000' '2004-06-01T00:00:00.000000000'\n",
      " '2002-07-01T00:00:00.000000000' '1990-08-01T00:00:00.000000000'\n",
      " '2008-10-01T00:00:00.000000000' '1996-05-01T00:00:00.000000000'\n",
      " '2011-01-01T00:00:00.000000000' '1984-04-01T00:00:00.000000000'\n",
      " '1972-03-01T00:00:00.000000000' '2012-08-01T00:00:00.000000000'\n",
      " '1993-09-01T00:00:00.000000000' '1991-03-01T00:00:00.000000000'\n",
      " '1997-01-01T00:00:00.000000000' '2000-06-01T00:00:00.000000000'\n",
      " '1985-02-01T00:00:00.000000000' '1995-11-01T00:00:00.000000000'\n",
      " '2007-06-01T00:00:00.000000000' '2000-01-01T00:00:00.000000000'\n",
      " '1994-12-01T00:00:00.000000000' '1977-01-01T00:00:00.000000000'\n",
      " '2005-09-01T00:00:00.000000000' '2004-02-01T00:00:00.000000000'\n",
      " '2008-01-01T00:00:00.000000000' '1992-04-01T00:00:00.000000000'\n",
      " '1991-02-01T00:00:00.000000000' '1984-06-01T00:00:00.000000000'\n",
      " '1997-10-01T00:00:00.000000000' '2012-02-01T00:00:00.000000000'\n",
      " '1991-06-01T00:00:00.000000000' '2002-06-01T00:00:00.000000000'\n",
      " '1989-10-01T00:00:00.000000000' '2003-09-01T00:00:00.000000000'\n",
      " '1996-11-01T00:00:00.000000000' '1992-08-01T00:00:00.000000000'\n",
      " '2002-10-01T00:00:00.000000000' '1999-11-01T00:00:00.000000000'\n",
      " '1995-09-01T00:00:00.000000000' '1984-03-01T00:00:00.000000000'\n",
      " '2002-01-01T00:00:00.000000000' '1989-04-01T00:00:00.000000000'\n",
      " '2007-01-01T00:00:00.000000000' '2005-08-01T00:00:00.000000000'\n",
      " '1987-11-01T00:00:00.000000000' '2007-12-01T00:00:00.000000000'\n",
      " '2005-11-01T00:00:00.000000000' '1992-06-01T00:00:00.000000000'\n",
      " '2012-09-01T00:00:00.000000000' '1992-09-01T00:00:00.000000000'\n",
      " '2010-07-01T00:00:00.000000000' '1999-03-01T00:00:00.000000000'\n",
      " '1992-01-01T00:00:00.000000000' '2009-07-01T00:00:00.000000000'\n",
      " '1997-12-01T00:00:00.000000000' '1998-03-01T00:00:00.000000000'\n",
      " '1992-10-01T00:00:00.000000000' '2002-03-01T00:00:00.000000000'\n",
      " '1996-08-01T00:00:00.000000000' '2003-03-01T00:00:00.000000000'\n",
      " '1982-03-01T00:00:00.000000000' '1988-11-01T00:00:00.000000000'\n",
      " '1998-12-01T00:00:00.000000000' '1993-06-01T00:00:00.000000000'\n",
      " '2000-12-01T00:00:00.000000000' '2004-11-01T00:00:00.000000000'\n",
      " '2001-06-01T00:00:00.000000000' '2003-02-01T00:00:00.000000000'\n",
      " '2005-12-01T00:00:00.000000000' '2001-08-01T00:00:00.000000000'\n",
      " '2001-02-01T00:00:00.000000000' '2011-07-01T00:00:00.000000000'\n",
      " '1989-03-01T00:00:00.000000000' '2000-02-01T00:00:00.000000000'\n",
      " '2007-07-01T00:00:00.000000000' '2004-01-01T00:00:00.000000000'\n",
      " '1999-04-01T00:00:00.000000000' '1994-05-01T00:00:00.000000000'\n",
      " '1993-01-01T00:00:00.000000000' '1995-12-01T00:00:00.000000000'\n",
      " '1992-03-01T00:00:00.000000000' '2001-10-01T00:00:00.000000000'\n",
      " '1983-07-01T00:00:00.000000000' '2008-11-01T00:00:00.000000000'\n",
      " '1998-11-01T00:00:00.000000000' '1985-09-01T00:00:00.000000000'\n",
      " '1997-07-01T00:00:00.000000000' '1982-02-01T00:00:00.000000000'\n",
      " '2004-09-01T00:00:00.000000000' '2008-07-01T00:00:00.000000000'\n",
      " '1996-03-01T00:00:00.000000000' '1980-09-01T00:00:00.000000000'\n",
      " '2007-11-01T00:00:00.000000000' '1987-05-01T00:00:00.000000000'\n",
      " '2006-01-01T00:00:00.000000000' '1999-09-01T00:00:00.000000000'\n",
      " '2006-08-01T00:00:00.000000000' '1979-11-01T00:00:00.000000000'\n",
      " '1988-06-01T00:00:00.000000000' '1993-03-01T00:00:00.000000000'\n",
      " '1991-08-01T00:00:00.000000000' '2006-02-01T00:00:00.000000000'\n",
      " '1983-04-01T00:00:00.000000000' '1993-10-01T00:00:00.000000000'\n",
      " '1997-06-01T00:00:00.000000000' '2008-03-01T00:00:00.000000000'\n",
      " '2001-04-01T00:00:00.000000000' '2005-05-01T00:00:00.000000000'\n",
      " '1996-09-01T00:00:00.000000000' '1997-02-01T00:00:00.000000000'\n",
      " '2008-02-01T00:00:00.000000000' '1990-11-01T00:00:00.000000000'\n",
      " '1986-02-01T00:00:00.000000000' '1990-09-01T00:00:00.000000000'\n",
      " '1998-01-01T00:00:00.000000000' '1993-07-01T00:00:00.000000000'\n",
      " '2011-06-01T00:00:00.000000000' '1976-01-01T00:00:00.000000000'\n",
      " '2003-01-01T00:00:00.000000000' '2010-09-01T00:00:00.000000000'\n",
      " '1983-05-01T00:00:00.000000000' '1992-02-01T00:00:00.000000000'\n",
      " '2001-03-01T00:00:00.000000000' '1987-06-01T00:00:00.000000000'\n",
      " '2010-11-01T00:00:00.000000000' '1989-01-01T00:00:00.000000000'\n",
      " '1988-01-01T00:00:00.000000000' '2001-05-01T00:00:00.000000000'\n",
      " '2000-07-01T00:00:00.000000000' '1999-08-01T00:00:00.000000000'\n",
      " '1995-05-01T00:00:00.000000000' '1986-10-01T00:00:00.000000000'\n",
      " '2010-04-01T00:00:00.000000000' '2008-04-01T00:00:00.000000000'\n",
      " '2008-12-01T00:00:00.000000000' '1988-07-01T00:00:00.000000000'\n",
      " '1999-01-01T00:00:00.000000000' '2009-08-01T00:00:00.000000000'\n",
      " '2007-05-01T00:00:00.000000000' '1994-01-01T00:00:00.000000000'\n",
      " '1997-09-01T00:00:00.000000000' '2005-06-01T00:00:00.000000000'\n",
      " '1993-05-01T00:00:00.000000000' '2007-08-01T00:00:00.000000000'\n",
      " '1998-04-01T00:00:00.000000000' '2011-03-01T00:00:00.000000000'\n",
      " '2006-06-01T00:00:00.000000000' '1988-05-01T00:00:00.000000000'\n",
      " '2000-10-01T00:00:00.000000000' '1985-01-01T00:00:00.000000000'\n",
      " '1995-06-01T00:00:00.000000000' '1983-10-01T00:00:00.000000000'\n",
      " '2012-05-01T00:00:00.000000000' '2003-12-01T00:00:00.000000000'\n",
      " '1988-04-01T00:00:00.000000000' '1995-03-01T00:00:00.000000000'\n",
      " '1990-10-01T00:00:00.000000000' '1989-07-01T00:00:00.000000000'\n",
      " '2009-02-01T00:00:00.000000000' '1989-05-01T00:00:00.000000000'\n",
      " '1994-02-01T00:00:00.000000000' '1995-10-01T00:00:00.000000000'\n",
      " '2006-10-01T00:00:00.000000000' '1997-05-01T00:00:00.000000000'\n",
      " '2010-08-01T00:00:00.000000000' '2005-04-01T00:00:00.000000000'\n",
      " '1987-03-01T00:00:00.000000000' '2011-04-01T00:00:00.000000000'\n",
      " '1992-05-01T00:00:00.000000000' '2009-10-01T00:00:00.000000000'\n",
      " '1984-12-01T00:00:00.000000000' '1993-08-01T00:00:00.000000000'\n",
      " '1989-06-01T00:00:00.000000000' '2009-01-01T00:00:00.000000000'\n",
      " '1987-01-01T00:00:00.000000000' '2002-02-01T00:00:00.000000000'\n",
      " '1991-07-01T00:00:00.000000000' '1989-12-01T00:00:00.000000000'\n",
      " '1988-02-01T00:00:00.000000000' '1971-09-01T00:00:00.000000000'\n",
      " '1987-04-01T00:00:00.000000000' '1988-03-01T00:00:00.000000000'\n",
      " '1977-07-01T00:00:00.000000000' '1977-10-01T00:00:00.000000000'\n",
      " '1994-03-01T00:00:00.000000000' '2008-08-01T00:00:00.000000000'\n",
      " '1993-04-01T00:00:00.000000000' '2009-09-01T00:00:00.000000000'\n",
      " '1990-05-01T00:00:00.000000000' '1990-03-01T00:00:00.000000000'\n",
      " '1965-09-01T00:00:00.000000000' '2010-06-01T00:00:00.000000000'\n",
      " '1983-11-01T00:00:00.000000000' '1996-01-01T00:00:00.000000000'\n",
      " '1988-09-01T00:00:00.000000000' '1997-04-01T00:00:00.000000000'\n",
      " '1991-01-01T00:00:00.000000000' '1985-04-01T00:00:00.000000000'\n",
      " '1991-10-01T00:00:00.000000000' '1982-05-01T00:00:00.000000000'\n",
      " '2011-09-01T00:00:00.000000000' '1982-12-01T00:00:00.000000000'\n",
      " '1981-02-01T00:00:00.000000000' '1995-08-01T00:00:00.000000000'\n",
      " '1970-10-01T00:00:00.000000000' '1987-10-01T00:00:00.000000000'\n",
      " '1995-04-01T00:00:00.000000000' '1984-10-01T00:00:00.000000000'\n",
      " '1990-12-01T00:00:00.000000000' '1972-04-01T00:00:00.000000000'\n",
      " '1997-03-01T00:00:00.000000000' '1970-03-01T00:00:00.000000000'\n",
      " '1991-09-01T00:00:00.000000000' '2008-05-01T00:00:00.000000000'\n",
      " '1984-01-01T00:00:00.000000000' '1965-11-01T00:00:00.000000000'\n",
      " '1997-11-01T00:00:00.000000000' '2012-07-01T00:00:00.000000000'\n",
      " '1975-01-01T00:00:00.000000000' '1990-01-01T00:00:00.000000000'\n",
      " '1980-02-01T00:00:00.000000000' '1976-11-01T00:00:00.000000000'\n",
      " '2011-11-01T00:00:00.000000000' '1986-12-01T00:00:00.000000000'\n",
      " '2010-03-01T00:00:00.000000000' '1990-02-01T00:00:00.000000000'\n",
      " '2008-09-01T00:00:00.000000000' '1990-04-01T00:00:00.000000000'\n",
      " '1981-09-01T00:00:00.000000000' '1962-12-01T00:00:00.000000000'\n",
      " '1987-07-01T00:00:00.000000000' '1989-02-01T00:00:00.000000000'\n",
      " '1979-03-01T00:00:00.000000000' '1964-01-01T00:00:00.000000000'\n",
      " '1986-09-01T00:00:00.000000000' '1995-01-01T00:00:00.000000000'\n",
      " '1971-05-01T00:00:00.000000000' '1985-03-01T00:00:00.000000000'\n",
      " '2010-10-01T00:00:00.000000000' '1969-07-01T00:00:00.000000000'\n",
      " '2012-04-01T00:00:00.000000000' '1979-10-01T00:00:00.000000000'\n",
      " '2009-04-01T00:00:00.000000000' '1973-02-01T00:00:00.000000000'\n",
      " '2010-01-01T00:00:00.000000000' '1986-07-01T00:00:00.000000000'\n",
      " '1968-10-01T00:00:00.000000000' '2011-08-01T00:00:00.000000000'\n",
      " '1969-02-01T00:00:00.000000000' '2009-11-01T00:00:00.000000000'\n",
      " '1994-06-01T00:00:00.000000000' '2011-12-01T00:00:00.000000000'\n",
      " '1981-08-01T00:00:00.000000000' '2009-03-01T00:00:00.000000000'\n",
      " '2010-05-01T00:00:00.000000000' '1985-05-01T00:00:00.000000000'\n",
      " '1993-12-01T00:00:00.000000000' '1983-09-01T00:00:00.000000000'\n",
      " '2011-05-01T00:00:00.000000000' '2007-02-01T00:00:00.000000000'\n",
      " '1985-07-01T00:00:00.000000000' '1972-01-01T00:00:00.000000000'\n",
      " '1978-10-01T00:00:00.000000000' '1969-08-01T00:00:00.000000000'\n",
      " '1990-07-01T00:00:00.000000000' '1991-05-01T00:00:00.000000000'\n",
      " '1988-10-01T00:00:00.000000000' '2009-05-01T00:00:00.000000000'\n",
      " '1983-01-01T00:00:00.000000000' '2009-06-01T00:00:00.000000000'\n",
      " '1980-06-01T00:00:00.000000000' '1978-03-01T00:00:00.000000000'\n",
      " '1982-07-01T00:00:00.000000000' '1991-12-01T00:00:00.000000000'\n",
      " '1980-07-01T00:00:00.000000000' '1981-01-01T00:00:00.000000000'\n",
      " '1977-09-01T00:00:00.000000000' '1984-09-01T00:00:00.000000000'\n",
      " '1982-09-01T00:00:00.000000000' '1978-12-01T00:00:00.000000000'\n",
      " '1958-12-01T00:00:00.000000000' '1994-08-01T00:00:00.000000000'\n",
      " '1988-08-01T00:00:00.000000000' '1986-04-01T00:00:00.000000000'\n",
      " '1984-07-01T00:00:00.000000000' '1981-11-01T00:00:00.000000000'\n",
      " '1979-04-01T00:00:00.000000000' '1958-10-01T00:00:00.000000000'\n",
      " '1976-04-01T00:00:00.000000000' '1985-12-01T00:00:00.000000000'\n",
      " '1967-01-01T00:00:00.000000000' '1979-12-01T00:00:00.000000000'\n",
      " '1982-10-01T00:00:00.000000000' '1980-11-01T00:00:00.000000000'\n",
      " '2012-11-01T00:00:00.000000000' '1970-11-01T00:00:00.000000000'\n",
      " '1972-10-01T00:00:00.000000000' '2012-10-01T00:00:00.000000000'\n",
      " '1969-04-01T00:00:00.000000000' '1975-08-01T00:00:00.000000000'\n",
      " '2012-06-01T00:00:00.000000000' '1986-03-01T00:00:00.000000000'\n",
      " '1982-08-01T00:00:00.000000000' '2011-02-01T00:00:00.000000000'\n",
      " '1987-12-01T00:00:00.000000000' '1975-12-01T00:00:00.000000000'\n",
      " '1976-12-01T00:00:00.000000000' '1986-08-01T00:00:00.000000000'\n",
      " '1981-10-01T00:00:00.000000000' '1982-06-01T00:00:00.000000000'\n",
      " '1955-06-01T00:00:00.000000000' '1984-05-01T00:00:00.000000000'\n",
      " '1981-12-01T00:00:00.000000000' '1979-02-01T00:00:00.000000000'\n",
      " '1978-01-01T00:00:00.000000000' '1983-02-01T00:00:00.000000000'\n",
      " '1968-07-01T00:00:00.000000000' '2012-01-01T00:00:00.000000000'\n",
      " '1979-08-01T00:00:00.000000000' '1974-04-01T00:00:00.000000000'\n",
      " '1977-05-01T00:00:00.000000000' '2010-12-01T00:00:00.000000000'\n",
      " '1974-01-01T00:00:00.000000000' '1984-02-01T00:00:00.000000000'\n",
      " '1977-03-01T00:00:00.000000000' '1985-10-01T00:00:00.000000000'\n",
      " '1971-04-01T00:00:00.000000000' '1978-04-01T00:00:00.000000000'\n",
      " '1976-08-01T00:00:00.000000000' '1978-11-01T00:00:00.000000000'\n",
      " '1982-01-01T00:00:00.000000000' '1972-02-01T00:00:00.000000000'\n",
      " '1985-06-01T00:00:00.000000000' '1982-04-01T00:00:00.000000000'\n",
      " '1979-09-01T00:00:00.000000000' '1977-11-01T00:00:00.000000000'\n",
      " '1972-12-01T00:00:00.000000000' '1980-05-01T00:00:00.000000000'\n",
      " '1973-11-01T00:00:00.000000000' '1971-12-01T00:00:00.000000000'\n",
      " '2010-02-01T00:00:00.000000000' '1983-12-01T00:00:00.000000000'\n",
      " '1969-06-01T00:00:00.000000000' '1965-10-01T00:00:00.000000000'\n",
      " '1981-06-01T00:00:00.000000000' '1970-08-01T00:00:00.000000000'\n",
      " '1981-03-01T00:00:00.000000000' '1979-05-01T00:00:00.000000000'\n",
      " '1976-05-01T00:00:00.000000000' '1978-08-01T00:00:00.000000000'\n",
      " '1980-01-01T00:00:00.000000000' '1961-01-01T00:00:00.000000000'\n",
      " '1966-11-01T00:00:00.000000000' '1979-06-01T00:00:00.000000000'\n",
      " '1967-08-01T00:00:00.000000000' '1981-07-01T00:00:00.000000000'\n",
      " '1973-10-01T00:00:00.000000000' '1966-08-01T00:00:00.000000000'\n",
      " '1978-06-01T00:00:00.000000000' '1981-05-01T00:00:00.000000000'\n",
      " '1980-12-01T00:00:00.000000000' '1972-09-01T00:00:00.000000000'\n",
      " '1975-04-01T00:00:00.000000000' '1983-03-01T00:00:00.000000000'\n",
      " '1977-08-01T00:00:00.000000000' '1975-10-01T00:00:00.000000000'\n",
      " '1967-04-01T00:00:00.000000000' '1981-04-01T00:00:00.000000000'\n",
      " '1975-06-01T00:00:00.000000000' '1976-10-01T00:00:00.000000000'\n",
      " '1978-05-01T00:00:00.000000000' '1967-06-01T00:00:00.000000000'\n",
      " '1966-01-01T00:00:00.000000000' '1975-05-01T00:00:00.000000000'\n",
      " '1980-10-01T00:00:00.000000000' '1970-07-01T00:00:00.000000000'\n",
      " '1986-06-01T00:00:00.000000000' '1974-06-01T00:00:00.000000000'\n",
      " '1968-02-01T00:00:00.000000000' '1966-07-01T00:00:00.000000000'\n",
      " '1964-09-01T00:00:00.000000000' '1982-11-01T00:00:00.000000000'\n",
      " '1978-07-01T00:00:00.000000000' '1975-11-01T00:00:00.000000000'\n",
      " '1977-06-01T00:00:00.000000000' '1973-05-01T00:00:00.000000000'\n",
      " '1969-11-01T00:00:00.000000000' '1973-06-01T00:00:00.000000000'\n",
      " '1972-11-01T00:00:00.000000000' '1974-09-01T00:00:00.000000000'\n",
      " '1975-02-01T00:00:00.000000000' '1974-03-01T00:00:00.000000000'\n",
      " '1965-05-01T00:00:00.000000000' '1970-12-01T00:00:00.000000000'\n",
      " '1968-11-01T00:00:00.000000000' '1971-10-01T00:00:00.000000000'\n",
      " '1971-11-01T00:00:00.000000000' '1963-01-01T00:00:00.000000000'\n",
      " '1975-09-01T00:00:00.000000000' '1978-02-01T00:00:00.000000000'\n",
      " '1968-01-01T00:00:00.000000000' '1967-05-01T00:00:00.000000000'\n",
      " '1970-04-01T00:00:00.000000000' '1965-04-01T00:00:00.000000000'\n",
      " '1976-06-01T00:00:00.000000000' '1971-07-01T00:00:00.000000000'\n",
      " '1976-09-01T00:00:00.000000000' '1974-10-01T00:00:00.000000000'\n",
      " '1966-12-01T00:00:00.000000000' '1973-08-01T00:00:00.000000000'\n",
      " '1979-07-01T00:00:00.000000000' '1976-07-01T00:00:00.000000000'\n",
      " '1967-10-01T00:00:00.000000000' '1963-10-01T00:00:00.000000000'\n",
      " '1963-06-01T00:00:00.000000000' '1965-06-01T00:00:00.000000000'\n",
      " '1962-07-01T00:00:00.000000000' '1955-05-01T00:00:00.000000000'\n",
      " '1973-12-01T00:00:00.000000000' '1973-09-01T00:00:00.000000000'\n",
      " '1967-02-01T00:00:00.000000000' '1974-05-01T00:00:00.000000000'\n",
      " '1973-04-01T00:00:00.000000000' '1951-08-01T00:00:00.000000000'\n",
      " '1976-03-01T00:00:00.000000000' '1970-01-01T00:00:00.000000000'\n",
      " '1959-08-01T00:00:00.000000000' '1976-02-01T00:00:00.000000000'\n",
      " '1971-06-01T00:00:00.000000000' '1974-11-01T00:00:00.000000000'\n",
      " '1973-01-01T00:00:00.000000000' '1980-04-01T00:00:00.000000000'\n",
      " '1968-05-01T00:00:00.000000000' '1969-10-01T00:00:00.000000000'\n",
      " '1967-09-01T00:00:00.000000000' '1972-06-01T00:00:00.000000000'\n",
      " '1957-06-01T00:00:00.000000000' '1977-02-01T00:00:00.000000000'\n",
      " '1973-07-01T00:00:00.000000000' '1972-05-01T00:00:00.000000000'\n",
      " '1958-01-01T00:00:00.000000000' '1968-03-01T00:00:00.000000000'\n",
      " '1972-07-01T00:00:00.000000000' '1969-03-01T00:00:00.000000000'\n",
      " '1964-02-01T00:00:00.000000000' '1970-09-01T00:00:00.000000000'\n",
      " '1975-07-01T00:00:00.000000000' '1970-06-01T00:00:00.000000000'\n",
      " '1958-11-01T00:00:00.000000000' '1964-03-01T00:00:00.000000000'\n",
      " '1972-08-01T00:00:00.000000000' '1974-08-01T00:00:00.000000000'\n",
      " '1966-05-01T00:00:00.000000000' '1971-01-01T00:00:00.000000000'\n",
      " '1956-01-01T00:00:00.000000000' '1968-04-01T00:00:00.000000000'\n",
      " '1970-02-01T00:00:00.000000000' '1974-02-01T00:00:00.000000000'\n",
      " '1974-12-01T00:00:00.000000000' '1971-08-01T00:00:00.000000000'\n",
      " '1960-01-01T00:00:00.000000000' '1965-07-01T00:00:00.000000000'\n",
      " '1966-04-01T00:00:00.000000000' '1963-08-01T00:00:00.000000000'\n",
      " '1963-07-01T00:00:00.000000000' '1965-02-01T00:00:00.000000000'\n",
      " '1968-09-01T00:00:00.000000000' '1965-01-01T00:00:00.000000000'\n",
      " '1969-01-01T00:00:00.000000000' '1964-04-01T00:00:00.000000000'\n",
      " '1975-03-01T00:00:00.000000000' '1974-07-01T00:00:00.000000000'\n",
      " '1964-10-01T00:00:00.000000000' '1967-11-01T00:00:00.000000000'\n",
      " '1965-03-01T00:00:00.000000000' '1971-02-01T00:00:00.000000000'\n",
      " '1971-03-01T00:00:00.000000000' '1970-05-01T00:00:00.000000000'\n",
      " '1962-01-01T00:00:00.000000000' '1967-07-01T00:00:00.000000000'\n",
      " '1968-12-01T00:00:00.000000000' '1969-12-01T00:00:00.000000000'\n",
      " '1969-09-01T00:00:00.000000000' '1951-07-01T00:00:00.000000000'\n",
      " '1967-03-01T00:00:00.000000000' '1964-12-01T00:00:00.000000000'\n",
      " '1950-08-01T00:00:00.000000000' '1959-06-01T00:00:00.000000000'\n",
      " '1966-03-01T00:00:00.000000000' '1961-10-01T00:00:00.000000000'\n",
      " '1959-01-01T00:00:00.000000000' '1961-12-01T00:00:00.000000000'\n",
      " '1965-12-01T00:00:00.000000000' '1959-05-01T00:00:00.000000000'\n",
      " '1964-11-01T00:00:00.000000000' '1969-05-01T00:00:00.000000000'\n",
      " '1958-04-01T00:00:00.000000000' '1961-08-01T00:00:00.000000000'\n",
      " '1954-01-01T00:00:00.000000000' '1963-03-01T00:00:00.000000000'\n",
      " '1962-04-01T00:00:00.000000000' '1962-05-01T00:00:00.000000000'\n",
      " '1951-01-01T00:00:00.000000000' '1962-10-01T00:00:00.000000000'\n",
      " '1967-12-01T00:00:00.000000000' '1966-09-01T00:00:00.000000000'\n",
      " '1966-06-01T00:00:00.000000000' '1965-08-01T00:00:00.000000000'\n",
      " '1962-09-01T00:00:00.000000000' '1963-12-01T00:00:00.000000000'\n",
      " '1968-08-01T00:00:00.000000000' '1954-10-01T00:00:00.000000000'\n",
      " '1968-06-01T00:00:00.000000000' '1963-05-01T00:00:00.000000000'\n",
      " '1964-07-01T00:00:00.000000000' '1956-09-01T00:00:00.000000000'\n",
      " '1946-01-01T00:00:00.000000000' '1950-12-01T00:00:00.000000000'\n",
      " '1966-02-01T00:00:00.000000000' '1954-11-01T00:00:00.000000000'\n",
      " '1963-09-01T00:00:00.000000000' '1962-11-01T00:00:00.000000000'\n",
      " '1961-11-01T00:00:00.000000000' '1964-06-01T00:00:00.000000000'\n",
      " '1956-12-01T00:00:00.000000000' '1962-06-01T00:00:00.000000000'\n",
      " '1960-10-01T00:00:00.000000000' '1957-10-01T00:00:00.000000000'\n",
      " '1960-05-01T00:00:00.000000000' '1959-10-01T00:00:00.000000000'\n",
      " '1960-11-01T00:00:00.000000000' '1962-03-01T00:00:00.000000000'\n",
      " '1963-02-01T00:00:00.000000000' '1964-05-01T00:00:00.000000000'\n",
      " '1959-11-01T00:00:00.000000000' '1960-08-01T00:00:00.000000000'\n",
      " '1960-03-01T00:00:00.000000000' '1955-04-01T00:00:00.000000000'\n",
      " '1959-09-01T00:00:00.000000000' '1955-07-01T00:00:00.000000000'\n",
      " '1963-11-01T00:00:00.000000000' '1953-05-01T00:00:00.000000000'\n",
      " '1966-10-01T00:00:00.000000000' '1950-11-01T00:00:00.000000000'\n",
      " '1955-11-01T00:00:00.000000000' '1961-03-01T00:00:00.000000000'\n",
      " '1957-02-01T00:00:00.000000000' '1960-02-01T00:00:00.000000000'\n",
      " '1960-09-01T00:00:00.000000000' '1951-12-01T00:00:00.000000000'\n",
      " '1962-08-01T00:00:00.000000000' '1960-12-01T00:00:00.000000000'\n",
      " '1963-04-01T00:00:00.000000000' '1955-01-01T00:00:00.000000000'\n",
      " '1958-07-01T00:00:00.000000000' '1958-08-01T00:00:00.000000000'\n",
      " '1957-01-01T00:00:00.000000000' '1944-01-01T00:00:00.000000000'\n",
      " '1961-04-01T00:00:00.000000000' '1950-10-01T00:00:00.000000000'\n",
      " '1948-01-01T00:00:00.000000000' '1961-07-01T00:00:00.000000000'\n",
      " '1960-06-01T00:00:00.000000000' '1964-08-01T00:00:00.000000000'\n",
      " '1956-11-01T00:00:00.000000000']\n",
      "[ 1.  0.  3.  4.  2.  5.  6.  7.  8.]\n",
      "[  nan   47.   12.   29.   70.    6.   78.    9.   17.   40.    3.   16.\n",
      "   22.   44.   73.   46.   72.   34.   60.   54.   42.   69.   19.   55.\n",
      "   14.   10.   57.   39.   62.    8.   26.   20.   38.   43.   41.   23.\n",
      "   67.   59.   81.   27.   63.   66.   79.   28.   85.   75.   50.   21.\n",
      "   36.   51.   52.   33.   11.    5.   31.   15.   32.   71.   80.    7.\n",
      "   35.    2.   30.   49.   53.   76.   18.   61.   37.   68.    1.   48.\n",
      "   77.   24.    4.   13.   74.   25.   64.   58.   65.   56.   92.   82.\n",
      "   84.   45.   88.   83.   86.   87.    0.  105.  134.   90.   93.  120.\n",
      "  112.  110.  125.  101.   91.  152.   89.  114.   98.  106.   95.  176.\n",
      "  108.  121.   99.  115.   96.  103.  107.   97.  135.  122.  127.   94.\n",
      "  102.  129.  113.  139.  131.  143.  109.  119.  149.  118.  130.  141.\n",
      "  116.  148.  100.  133.  104.  140.  151.]\n",
      "[  67.   71.   nan   30.   91.   69.   84.   58.   81.   75.   76.   65.\n",
      "   82.   48.   26.   11.   79.   40.   63.   41.   27.  101.   16.   77.\n",
      "   74.   52.   93.   33.   51.   64.   83.   19.   57.   85.   55.   25.\n",
      "  116.    5.   12.   80.   87.   60.  105.   90.   70.   78.   45.   29.\n",
      "  114.   46.   99.   43.   61.  111.   21.   54.  115.   24.   56.  103.\n",
      "   73.   22.   98.   68.   72.   92.   86.   36.   23.   88.    0.   66.\n",
      "   96.   97.  109.   50.   34.   31.   95.   59.   18.   17.  106.   10.\n",
      "  104.   53.    6.   89.   38.  107.   62.   94.  100.   32.  102.   47.\n",
      "   39.   15.   42.  110.   44.   37.   20.   14.    2.  117.   35.  108.\n",
      "   49.  112.  113.   13.    4.  118.    3.    9.    8.  119.   28.    1.\n",
      "    7.  120.  129.  121.]\n",
      "[  7.  16.   9.  17.  14.  12.  18.  13.  11.  22.  19.  21.   8.  10.  25.\n",
      "   5.  20.   4.  15.  27.  24.  23.   6.  26.   3.  28.  29.  32.   2.  34.\n",
      "  33.  30.  42.  31.  45.  38.  35.  55.  43.  37.  36.  44.  41.  40.   1.\n",
      "  39.  53.  47.  49.  52.  48.  46.  51.  56.  50.   0.  62.  76.  58.  54.]\n",
      "[  2.   1.   0.   5.   3.   4.   6.   8.  10.  12.   7.   9.  15.  11.  54.\n",
      "  13.]\n",
      "[  12703.   19029.   20862. ...,   72373.   31063.  119663.]\n",
      "[ 0.4  0.4  0.5 ...,  1.1  1.1  1.1]\n",
      "[  31.   33.   19.   27.   35.   25.   38.   36.   53.   32.   64.   30.\n",
      "   14.   28.   16.   34.   21.   37.   12.   54.   23.   42.   58.   39.\n",
      "   44.   46.   61.   20.   43.   11.   24.   40.   18.   22.   17.   26.\n",
      "   52.   29.   13.   41.   15.   69.    9.   60.    8.   45.   10.   66.\n",
      "    6.    5.    7.   50.   57.   68.   63.   47.   59.   55.   70.   49.\n",
      "   73.   51.   48.   56.    4.   98.   75.   71.   81.   94.   67.   65.\n",
      "   90.   78.   77.   62.   76.   87.   95.  102.   88.   86.   80.   72.\n",
      "   85.   79.   84.  110.  106.   89.  104.   96.   99.   83.  151.   82.\n",
      "   97.   74.  105.   92.   91.   93.  111.  101.  124.  114.    3.    2.\n",
      "  150.  119.  100.  117.  116.  118.]\n",
      "[w, f]\n",
      "Categories (2, object): [w, f]\n",
      "[  0.0e+00   1.4e+04   1.0e+04   3.6e+03   8.7e+03   1.8e+04   4.9e+03\n",
      "   1.1e+04   1.4e+04   7.2e+03   1.4e+04   3.3e+04   4.5e+03   2.7e+03\n",
      "   1.9e+04   1.8e+04   3.3e+04   3.4e+04   1.5e+04   2.1e+04   7.0e+03\n",
      "   8.1e+03   4.3e+03   5.1e+03   1.5e+04   3.0e+04   1.1e+01   3.9e-01\n",
      "   3.0e+04   4.8e-01   8.5e+01   8.4e+03   1.6e+04   1.5e+03   1.8e+04\n",
      "   2.8e+04   1.6e+04   3.0e+03   3.1e+04   3.2e+04   7.4e+03   6.4e+03\n",
      "   8.0e+03   1.2e+04   4.8e+03   7.8e+03   1.1e+04   2.8e+03   3.2e+04\n",
      "   7.9e+03   2.8e+04   1.0e+04   7.7e+03   1.6e+04   7.6e+03   5.2e+00\n",
      "   1.5e+03   2.2e+04   8.6e+03   3.1e+04   8.7e+03   6.3e+03   3.8e+03\n",
      "   2.7e+04   2.9e+01   6.8e+03   1.3e+04   1.9e+04   1.7e+03   3.8e+03\n",
      "   1.5e+04   2.8e+03   4.3e+02   1.0e+04   4.1e+02   3.0e+03   1.1e+04\n",
      "   6.2e+03   5.9e+03   6.1e+01   1.6e+03   1.1e+04   7.5e+02   1.8e+01\n",
      "   3.0e+02   1.7e+04   2.8e+02   3.1e+02   2.0e+02   1.9e+02   6.0e+02\n",
      "   2.2e+02   1.6e+04   8.0e+00   4.8e+02   9.7e+00   1.0e+03   5.8e+00\n",
      "   2.2e+03   4.5e+02   3.1e+00   2.3e+00   9.7e-01   7.3e+01   2.6e+03\n",
      "   4.1e+03   3.1e+04   2.1e+02   3.0e+03   6.4e+03   1.4e+04   1.0e+02\n",
      "   1.6e+04   4.6e+03   1.1e+04   2.9e+03   1.2e+04   2.9e+03   2.3e+02\n",
      "   1.2e+04   1.8e+04   7.4e+03   8.9e+03   8.2e+03   2.4e+04   1.5e+04\n",
      "   1.1e+04   2.3e+03   8.0e+02   8.5e+02   2.9e+03   3.5e+01]\n",
      "[  0.0e+00   1.4e+04   1.0e+04   3.6e+03   8.7e+03   1.8e+04   4.9e+03\n",
      "   1.1e+04   1.4e+04   7.2e+03   1.4e+04   3.3e+04   4.5e+03   2.7e+03\n",
      "   1.9e+04   1.8e+04   3.3e+04   3.4e+04   1.5e+04   2.1e+04   7.0e+03\n",
      "   8.1e+03   4.3e+03   5.1e+03   1.5e+04   3.0e+04   1.1e+01   3.9e-01\n",
      "   3.0e+04   4.8e-01   8.5e+01   8.4e+03   1.6e+04   1.5e+03   1.8e+04\n",
      "   2.8e+04   1.6e+04   3.0e+03   3.1e+04   3.2e+04   7.4e+03   6.4e+03\n",
      "   8.0e+03   1.2e+04   4.8e+03   7.8e+03   1.1e+04   2.8e+03   3.2e+04\n",
      "   7.9e+03   2.7e+04   1.0e+04   7.7e+03   1.6e+04   7.6e+03   5.2e+00\n",
      "   1.5e+03   2.2e+04   8.6e+03   3.1e+04   8.7e+03   6.3e+03   3.8e+03\n",
      "   2.7e+04   2.9e+01   6.8e+03   1.3e+04   1.9e+04   1.7e+03   3.8e+03\n",
      "   1.5e+04   2.8e+03   4.3e+02   1.0e+04   4.1e+02   3.0e+03   1.1e+04\n",
      "   6.2e+03   5.9e+03   6.1e+01   1.6e+03   1.1e+04   7.5e+02   1.8e+01\n",
      "   3.0e+02   1.7e+04   2.8e+02   3.1e+02   2.0e+02   1.9e+02   6.0e+02\n",
      "   2.2e+02   1.5e+04   8.0e+00   4.8e+02   9.7e+00   1.0e+03   5.8e+00\n",
      "   2.2e+03   4.5e+02   3.1e+00   2.3e+00   9.7e-01   7.3e+01   2.6e+03\n",
      "   4.1e+03   3.1e+04   2.1e+02   3.0e+03   6.4e+03   1.4e+04   1.0e+02\n",
      "   1.6e+04   4.6e+03   1.1e+04   2.9e+03   1.2e+04   2.9e+03   2.3e+02\n",
      "   1.2e+04   1.8e+04   7.4e+03   8.9e+03   8.1e+03   2.4e+04   1.5e+04\n",
      "   1.1e+04   2.3e+03   8.0e+02   8.5e+02   2.9e+03   3.5e+01]\n",
      "[ 15415.5  15657.9  26224.2 ...,  12394.3   4677.9   2126.6]\n",
      "[ 15415.5  15657.9  26224.2 ...,  12394.3   4677.9   2126.6]\n",
      "[ 15000.   25000.   18000.  ...,    360.1   4580.9   1837. ]\n",
      "[  415.5   657.9  1224.2 ...,   865.4  1773.9  2394.3]\n",
      "[  0.   15.   43.3 ...,  29.2  30.3  82.3]\n",
      "[    0.   1582.9   611.4 ...,   444.    683.   1159.4]\n",
      "[   0.   284.9  110.  ...,   79.9    6.8   11.6]\n",
      "['2016-04-01T00:00:00.000000000' '2016-07-01T00:00:00.000000000'\n",
      " '2016-09-01T00:00:00.000000000' '2016-03-01T00:00:00.000000000'\n",
      " '2016-08-01T00:00:00.000000000' '2016-05-01T00:00:00.000000000'\n",
      " '2016-06-01T00:00:00.000000000' '2016-02-01T00:00:00.000000000'\n",
      " '2016-01-01T00:00:00.000000000' 'NaT' '2015-12-01T00:00:00.000000000'\n",
      " '2015-11-01T00:00:00.000000000' '2015-10-01T00:00:00.000000000'\n",
      " '2015-09-01T00:00:00.000000000' '2015-08-01T00:00:00.000000000'\n",
      " '2015-07-01T00:00:00.000000000' '2015-06-01T00:00:00.000000000'\n",
      " '2015-05-01T00:00:00.000000000' '2015-04-01T00:00:00.000000000'\n",
      " '2015-03-01T00:00:00.000000000' '2015-02-01T00:00:00.000000000'\n",
      " '2015-01-01T00:00:00.000000000' '2013-04-01T00:00:00.000000000'\n",
      " '2014-06-01T00:00:00.000000000' '2012-04-01T00:00:00.000000000'\n",
      " '2012-11-01T00:00:00.000000000' '2013-06-01T00:00:00.000000000'\n",
      " '2013-09-01T00:00:00.000000000' '2012-07-01T00:00:00.000000000'\n",
      " '2013-10-01T00:00:00.000000000' '2013-05-01T00:00:00.000000000'\n",
      " '2012-10-01T00:00:00.000000000' '2012-09-01T00:00:00.000000000'\n",
      " '2012-12-01T00:00:00.000000000' '2014-12-01T00:00:00.000000000'\n",
      " '2013-08-01T00:00:00.000000000' '2013-11-01T00:00:00.000000000'\n",
      " '2014-01-01T00:00:00.000000000' '2014-04-01T00:00:00.000000000'\n",
      " '2014-08-01T00:00:00.000000000' '2014-10-01T00:00:00.000000000'\n",
      " '2012-08-01T00:00:00.000000000' '2014-07-01T00:00:00.000000000'\n",
      " '2013-07-01T00:00:00.000000000' '2014-02-01T00:00:00.000000000'\n",
      " '2014-09-01T00:00:00.000000000' '2012-06-01T00:00:00.000000000'\n",
      " '2013-02-01T00:00:00.000000000' '2013-03-01T00:00:00.000000000'\n",
      " '2014-05-01T00:00:00.000000000' '2013-01-01T00:00:00.000000000'\n",
      " '2013-12-01T00:00:00.000000000' '2012-02-01T00:00:00.000000000'\n",
      " '2014-03-01T00:00:00.000000000' '2012-01-01T00:00:00.000000000'\n",
      " '2014-11-01T00:00:00.000000000' '2012-03-01T00:00:00.000000000'\n",
      " '2012-05-01T00:00:00.000000000' '2011-12-01T00:00:00.000000000'\n",
      " '2011-11-01T00:00:00.000000000' '2011-10-01T00:00:00.000000000'\n",
      " '2011-09-01T00:00:00.000000000' '2011-08-01T00:00:00.000000000'\n",
      " '2011-07-01T00:00:00.000000000' '2011-06-01T00:00:00.000000000'\n",
      " '2011-05-01T00:00:00.000000000' '2011-04-01T00:00:00.000000000'\n",
      " '2011-03-01T00:00:00.000000000' '2011-02-01T00:00:00.000000000'\n",
      " '2011-01-01T00:00:00.000000000' '2010-12-01T00:00:00.000000000'\n",
      " '2010-11-01T00:00:00.000000000' '2010-10-01T00:00:00.000000000'\n",
      " '2010-09-01T00:00:00.000000000' '2010-08-01T00:00:00.000000000'\n",
      " '2010-07-01T00:00:00.000000000' '2010-06-01T00:00:00.000000000'\n",
      " '2010-05-01T00:00:00.000000000' '2010-04-01T00:00:00.000000000'\n",
      " '2010-03-01T00:00:00.000000000' '2010-02-01T00:00:00.000000000'\n",
      " '2010-01-01T00:00:00.000000000' '2009-12-01T00:00:00.000000000'\n",
      " '2009-11-01T00:00:00.000000000' '2009-10-01T00:00:00.000000000'\n",
      " '2009-09-01T00:00:00.000000000' '2009-08-01T00:00:00.000000000'\n",
      " '2009-07-01T00:00:00.000000000' '2009-06-01T00:00:00.000000000'\n",
      " '2009-05-01T00:00:00.000000000' '2009-04-01T00:00:00.000000000'\n",
      " '2009-03-01T00:00:00.000000000' '2009-02-01T00:00:00.000000000'\n",
      " '2009-01-01T00:00:00.000000000' '2008-12-01T00:00:00.000000000'\n",
      " '2008-10-01T00:00:00.000000000' '2008-08-01T00:00:00.000000000'\n",
      " '2008-07-01T00:00:00.000000000' '2008-09-01T00:00:00.000000000'\n",
      " '2008-06-01T00:00:00.000000000' '2008-05-01T00:00:00.000000000'\n",
      " '2008-11-01T00:00:00.000000000' '2008-04-01T00:00:00.000000000'\n",
      " '2008-03-01T00:00:00.000000000' '2008-02-01T00:00:00.000000000'\n",
      " '2008-01-01T00:00:00.000000000']\n",
      "[  1.4e+04   1.3e+04   2.1e+04 ...,   5.5e+03   1.8e+01   1.5e+03]\n",
      "['NaT' '2016-10-01T00:00:00.000000000']\n",
      "['2016-04-01T00:00:00.000000000' '2016-07-01T00:00:00.000000000'\n",
      " '2016-09-01T00:00:00.000000000' '2016-06-01T00:00:00.000000000'\n",
      " '2016-03-01T00:00:00.000000000' '2016-05-01T00:00:00.000000000'\n",
      " '2016-08-01T00:00:00.000000000' '2015-12-01T00:00:00.000000000'\n",
      " '2016-02-01T00:00:00.000000000' '2016-01-01T00:00:00.000000000'\n",
      " '2015-11-01T00:00:00.000000000' '2015-10-01T00:00:00.000000000'\n",
      " '2015-09-01T00:00:00.000000000' '2015-08-01T00:00:00.000000000'\n",
      " '2015-07-01T00:00:00.000000000' '2015-06-01T00:00:00.000000000'\n",
      " '2015-05-01T00:00:00.000000000' '2015-04-01T00:00:00.000000000'\n",
      " '2015-03-01T00:00:00.000000000' '2015-02-01T00:00:00.000000000'\n",
      " '2015-01-01T00:00:00.000000000' 'NaT' '2014-12-01T00:00:00.000000000'\n",
      " '2013-08-01T00:00:00.000000000' '2014-05-01T00:00:00.000000000'\n",
      " '2014-03-01T00:00:00.000000000' '2012-09-01T00:00:00.000000000'\n",
      " '2012-06-01T00:00:00.000000000' '2014-09-01T00:00:00.000000000'\n",
      " '2014-04-01T00:00:00.000000000' '2014-10-01T00:00:00.000000000'\n",
      " '2014-02-01T00:00:00.000000000' '2013-02-01T00:00:00.000000000'\n",
      " '2014-07-01T00:00:00.000000000' '2012-12-01T00:00:00.000000000'\n",
      " '2012-10-01T00:00:00.000000000' '2013-11-01T00:00:00.000000000'\n",
      " '2014-11-01T00:00:00.000000000' '2013-03-01T00:00:00.000000000'\n",
      " '2012-02-01T00:00:00.000000000' '2012-04-01T00:00:00.000000000'\n",
      " '2013-09-01T00:00:00.000000000' '2013-05-01T00:00:00.000000000'\n",
      " '2014-06-01T00:00:00.000000000' '2012-08-01T00:00:00.000000000'\n",
      " '2012-01-01T00:00:00.000000000' '2014-08-01T00:00:00.000000000'\n",
      " '2013-10-01T00:00:00.000000000' '2013-12-01T00:00:00.000000000'\n",
      " '2012-05-01T00:00:00.000000000' '2012-07-01T00:00:00.000000000'\n",
      " '2014-01-01T00:00:00.000000000' '2013-06-01T00:00:00.000000000'\n",
      " '2013-04-01T00:00:00.000000000' '2012-11-01T00:00:00.000000000'\n",
      " '2013-07-01T00:00:00.000000000' '2012-03-01T00:00:00.000000000'\n",
      " '2011-11-01T00:00:00.000000000' '2011-12-01T00:00:00.000000000'\n",
      " '2013-01-01T00:00:00.000000000' '2011-10-01T00:00:00.000000000'\n",
      " '2011-09-01T00:00:00.000000000' '2011-08-01T00:00:00.000000000'\n",
      " '2011-07-01T00:00:00.000000000' '2011-06-01T00:00:00.000000000'\n",
      " '2011-05-01T00:00:00.000000000' '2011-04-01T00:00:00.000000000'\n",
      " '2011-03-01T00:00:00.000000000' '2011-02-01T00:00:00.000000000'\n",
      " '2011-01-01T00:00:00.000000000' '2010-12-01T00:00:00.000000000'\n",
      " '2010-11-01T00:00:00.000000000' '2010-10-01T00:00:00.000000000'\n",
      " '2010-09-01T00:00:00.000000000' '2010-08-01T00:00:00.000000000'\n",
      " '2010-07-01T00:00:00.000000000' '2010-06-01T00:00:00.000000000'\n",
      " '2010-05-01T00:00:00.000000000' '2010-04-01T00:00:00.000000000'\n",
      " '2010-02-01T00:00:00.000000000' '2010-03-01T00:00:00.000000000'\n",
      " '2007-08-01T00:00:00.000000000' '2010-01-01T00:00:00.000000000'\n",
      " '2009-12-01T00:00:00.000000000' '2009-11-01T00:00:00.000000000'\n",
      " '2009-10-01T00:00:00.000000000' '2009-09-01T00:00:00.000000000'\n",
      " '2009-07-01T00:00:00.000000000' '2009-08-01T00:00:00.000000000'\n",
      " '2009-05-01T00:00:00.000000000' '2009-06-01T00:00:00.000000000'\n",
      " '2009-04-01T00:00:00.000000000' '2009-03-01T00:00:00.000000000'\n",
      " '2009-02-01T00:00:00.000000000' '2009-01-01T00:00:00.000000000'\n",
      " '2008-12-01T00:00:00.000000000' '2008-06-01T00:00:00.000000000'\n",
      " '2008-09-01T00:00:00.000000000' '2008-05-01T00:00:00.000000000'\n",
      " '2008-08-01T00:00:00.000000000' '2008-03-01T00:00:00.000000000'\n",
      " '2008-10-01T00:00:00.000000000' '2008-02-01T00:00:00.000000000'\n",
      " '2008-01-01T00:00:00.000000000' '2007-12-01T00:00:00.000000000'\n",
      " '2008-07-01T00:00:00.000000000' '2007-10-01T00:00:00.000000000'\n",
      " '2007-09-01T00:00:00.000000000' '2007-06-01T00:00:00.000000000'\n",
      " '2007-05-01T00:00:00.000000000' '2007-07-01T00:00:00.000000000']\n",
      "[  0.   1.   2.   3.   4.  nan   6.   5.]\n",
      "[  nan   47.   29.   78.   68.   35.   16.   55.   73.   46.   72.   23.\n",
      "   60.   69.   27.   63.   14.   31.   57.   59.   18.   19.   40.   62.\n",
      "   38.   42.   44.   50.   41.   54.   67.   81.   70.   34.   74.   66.\n",
      "   25.   85.   89.   22.   21.   51.   39.   11.   12.  101.   43.   75.\n",
      "   32.   61.    9.   98.   36.   26.   49.   33.  133.   58.   53.   64.\n",
      "   94.   71.   48.    2.    6.   56.   17.   76.   79.   77.    8.   24.\n",
      "   52.   10.   30.   82.   28.   65.   13.   92.   37.   84.   45.   20.\n",
      "   86.    3.   95.   90.   15.   88.  105.  109.   83.   80.    1.   87.\n",
      "    4.  123.  111.    7.  104.   93.  108.    5.  113.  121.  122.  129.\n",
      "    0.  126.  148.  117.  137.  107.  134.  114.  112.  116.  102.  124.\n",
      "   96.  110.  147.  100.  145.   97.  128.  135.   91.  136.  106.  153.\n",
      "  140.  103.  131.  142.  120.  130.  127.  119.  115.  125.  118.  138.\n",
      "  159.  151.   99.  143.  152.  132.  139.  146.  176.  150.  149.  141.\n",
      "  154.  144.]\n",
      "[1]\n",
      "Categories (1, object): [1]\n",
      "[Individual, Joint]\n",
      "Categories (2, object): [Individual, Joint]\n",
      "[     nan   77000.  113314.   87000.  102000.  182000.  122000.  107000.\n",
      "  112194.   83200.   55000.  106000.   78200.  176000.  161000.   97000.\n",
      "   83456.  109000.  136429.  115000.   36000.   51990.  105000.  116700.\n",
      "   98000.  139000.  130000.  124000.   76000.   40988.   90000.  152000.\n",
      "  101771.  110000.   71136.  149000.  168472.   88400.   17950.  213000.\n",
      "   72653.   64800.  104000.  100000.   96000.  175171.   53000.  111140.]\n",
      "[  nan  15.4  25.4  23.   17.5   6.4  32.2  15.1  13.9  26.8  12.9  31.9\n",
      "  20.2  17.9  10.2   6.5  25.8  23.3  31.2  22.2  12.2  17.6  17.1  20.1\n",
      "  22.   10.3  18.7  11.2  10.    8.1  18.1  28.7  13.   30.    9.3  20.8\n",
      "   8.6  31.5  10.5   4.5  25.7  25.5   6.7  14.4  16.3  27.9  26.9  13.7\n",
      "  21.5  28.5  27.5]\n",
      "[NaN, Not Verified, Verified, Source Verified]\n",
      "Categories (3, object): [Not Verified, Verified, Source Verified]\n",
      "[ 0.  1.  2.  6.  3.  4.  5.]\n",
      "[     0.     67.    328. ...,  16125.   3040.   9778.]\n",
      "[ 312996.  327836.  305781. ...,  259863.  116995.  591610.]\n",
      "[  0.   3.   1.   6.   2.   5.   4.   7.   8.  nan   9.]\n",
      "[  2.   3.   1.  14.   4.   7.  12.  11.   5.   9.   0.   6.  10.   8.  13.\n",
      "  17.  15.  18.  19.  20.  31.  16.  nan]\n",
      "[  2.   0.   1.   4.   3.   9.   5.   6.   8.  nan]\n",
      "[  2.   1.   3.   0.   5.   6.   4.   7.  19.   9.  11.   8.  10.  14.  13.\n",
      "  nan  12.]\n",
      "[   8.   14.   13.    3.   21.    7.   19.   50.    5.   10.   18.   32.\n",
      "   12.    6.   15.    1.   20.    9.    4.   29.   30.   55.    2.   17.\n",
      "  100.   16.   31.   nan   43.  114.   44.  131.   11.   33.   62.   81.\n",
      "   60.   38.   88.   51.   25.  101.   36.   22.   82.   28.   98.   27.\n",
      "   40.   24.   34.   99.   86.   23.  138.  115.   46.   56.   64.   72.\n",
      "   68.  123.   35.  139.  122.   94.   26.   42.   41.  103.  108.   54.\n",
      "   39.   52.   48.   89.    0.   80.  165.   71.   63.   57.   37.  128.\n",
      "   69.   47.   84.   90.   96.   78.  110.   83.   49.   45.   97.   74.\n",
      "  121.  112.  153.   79.  105.   59.  244.   76.  141.   58.  149.  137.\n",
      "   93.   73.   77.  201.   61.   85.   87.  134.  117.  129.   91.  127.\n",
      "   75.   65.  126.  130.   53.]\n",
      "[ 40694.   8820.  47194. ...,  10778.  19813.  43021.]\n",
      "[  69.8   41.8   57.5   97.    75.8   91.2   83.8   51.     nan   73.9\n",
      "   94.    73.    93.9   84.6   82.3   79.6   85.6   69.6   55.    91.1\n",
      "   62.1   83.9   92.2   83.3   92.9   89.3   58.3   84.8   60.8  106.2\n",
      "   38.1   34.4   95.9   73.5   61.3   75.1   76.5   77.    81.9   96.1\n",
      "   69.1  100.3   68.    85.    82.    41.9   96.    79.7   83.6   55.2\n",
      "   74.6   80.8   98.4   95.    72.8   71.1   22.6   97.9   43.7   97.8\n",
      "   89.    86.1   65.3   58.7   63.5   63.7  121.7   41.2   95.4   65.9\n",
      "   43.5   82.5   65.7   42.3   56.5   61.8   51.5   84.7   96.3   77.9\n",
      "   64.5   87.7   92.    87.6   86.7   84.3   30.    75.2   61.9  100.\n",
      "   98.8   66.6  149.9   77.7   64.4   33.2   71.6   93.7   75.3   73.7\n",
      "   88.5   82.2   98.    39.1   38.6   90.5   75.    64.    63.9   76.1\n",
      "   43.6   61.5   18.7   87.3   79.9   55.3   76.4   86.    97.6   87.\n",
      "   79.5   90.6   89.1   90.    81.8   49.    45.    76.2  105.4   93.2\n",
      "   79.    74.    48.6   69.2   42.9  110.5   84.5   78.9   99.   150.7\n",
      "   33.8   83.7   77.5   57.2   22.4   69.5   67.8   81.    74.4   98.3\n",
      "   37.9   78.    49.7   22.3   95.5   82.4   73.4   78.7  104.6   63.\n",
      "   88.3   70.2   82.6   88.1   93.6   50.4   39.3   90.9   68.2   72.1\n",
      "   77.2   84.1   57.     0.    58.    70.5   74.1   88.9   79.2   57.7\n",
      "   70.1   70.3  101.3   92.6   88.8   94.3    7.5   77.3   31.3   94.6\n",
      "  120.    65.5   77.1   80.    50.2  105.8   45.9   77.6   64.3   94.7\n",
      "   93.5  117.6   79.3   76.    59.   124.1   85.7   84.    62.6   60.2\n",
      "  108.    91.8   67.7   86.5   91.9   90.1   52.     6.7   42.    96.7\n",
      "   65.4   67.1   66.5   16.6   77.8   74.7  103.9   50.    71.4   54.8\n",
      "   20.9   89.2   60.6  116.6   83.    44.8   57.1   59.6   66.4   87.4\n",
      "   81.2   47.9   88.2   91.    39.5   61.7   55.6   52.8   44.4   52.3\n",
      "   90.7   74.2   38.5   69.7   51.8   72.7  108.2   60.5   75.9   66.2\n",
      "   81.7   14.6   85.8   93.4   97.3   77.4   56.6   64.8   97.2  100.9\n",
      "   34.1   91.6   81.5   98.7   62.5   78.1   83.1   51.1   12.8   72.2\n",
      "   82.1   67.9   92.4   82.7   49.6   22.9  102.6   46.1   62.8   66.9\n",
      "   76.9   62.    93.8  107.    74.3   70.    50.6   64.6   70.8   69.\n",
      "   94.2   44.6   85.2   74.5   85.3   56.    89.5   42.7  149.1   65.\n",
      "   94.4   94.8   95.3   85.5   10.3   83.4  103.8   74.8   21.5  104.7\n",
      "   76.6   93.    87.2  100.2   83.2   58.4   79.4   73.6   86.9   67.5\n",
      "   87.5   44.9   95.7   42.1   90.2  103.7   90.3   59.5   85.4   68.1\n",
      "   99.6   80.2   97.7   86.4   92.8   14.5   62.4   96.8   72.6   71.    54.\n",
      "   22.5   90.8   63.8   18.5  124.3   75.4   12.4   71.9   54.7   48.2\n",
      "   68.9   60.9  114.5   57.3   88.    98.5   46.8   83.5   46.5   94.1\n",
      "   82.8   92.3   64.9   43.4  147.4   53.2   99.1  115.6   86.6   86.8\n",
      "   44.1   88.7   62.2   48.9   58.8   53.8   93.1   92.7  109.3   64.7\n",
      "   32.1   58.9   89.8   36.    84.4   41.    45.3   66.7   59.4   60.\n",
      "   73.3   88.4   68.4   58.5   94.5   78.5   95.8   62.7   76.8   52.6\n",
      "  105.9   66.3   13.6   41.7   85.1   89.7   41.5   99.4   80.3   35.2\n",
      "   94.9   20.8   79.1   68.5   66.8  108.7   99.3   95.2  100.1   34.8\n",
      "  101.    17.6   52.1   72.4   71.2  108.1   91.5   51.3   60.1   39.\n",
      "   78.3   61.1   72.9   25.2   56.3   63.3   69.9   50.3  129.2   96.9\n",
      "   43.8   87.8  100.8   71.7   66.    37.3   47.7   57.8   18.9   80.7\n",
      "   80.5   56.9   78.2   43.3   63.6   69.4   25.    65.1   75.7   68.3\n",
      "   76.7   95.1   63.2   48.4   96.4   67.3   23.3  100.6   53.1   61.4\n",
      "   71.8   51.7   25.9   68.7   75.6   76.3  112.1   71.5  118.    59.8\n",
      "   80.4   97.4   99.9   95.6   43.2   72.5   16.7   50.1   91.3   70.9\n",
      "   39.8   52.2   92.5   98.6   88.6   42.2   81.4   58.2   45.6   37.6\n",
      "   96.2   38.9   27.5  105.    52.9  101.8   49.3   65.6   93.3   68.8\n",
      "  114.4   64.1   81.3   30.9  117.    63.4   53.3  110.3   57.6   98.9\n",
      "   49.5   97.5   35.3   80.9   91.7   49.9   72.   121.    35.8   73.8\n",
      "   65.8  104.4   54.4   99.5   55.5   53.6   30.5   52.4   48.3   56.7\n",
      "   45.1   25.8   81.6   40.3   52.7   55.8   97.1   78.6   64.2   48.5\n",
      "   74.9   23.7   67.6   16.2   18.4   18.3   56.1  110.    30.6   55.1\n",
      "   62.3   54.3   72.3   61.2   65.2  109.    35.4   89.9   96.5   56.4\n",
      "  107.9  102.8   70.6   46.7   78.8   40.9   87.9   73.2   55.4   37.5\n",
      "  115.    46.   107.7   51.2   86.3   66.1   60.4   59.3   50.7   80.6\n",
      "  117.3  129.5   56.2   59.7   96.6   43.1   80.1  134.5   20.6   13.8\n",
      "   53.5  100.5   28.3   84.9   35.5   68.6   14.8    8.7   57.4   18.8\n",
      "   47.6   85.9   32.7  113.7   86.2   63.1   54.9   29.6  102.    81.1\n",
      "   30.7   48.8   61.6  102.9   40.5    7.8  102.1   82.9  139.1  112.\n",
      "   34.5   10.5  108.4    4.8   27.   105.7  101.2   26.1   89.4   99.2\n",
      "  146.8   21.8   23.9   23.4   25.6  105.5  111.2   91.4   61.    90.4\n",
      "   54.2    9.3   79.8   55.9   78.4   51.6   70.4  112.3   60.7  118.7\n",
      "   33.1  100.7   67.    39.4   23.8   43.   109.8   50.9   32.    45.5\n",
      "   34.6   54.1  112.5   87.1  102.5   38.2   27.8   35.    69.3   58.6\n",
      "   60.3  114.6   37.1   36.8   99.7  100.4]\n",
      "[  1.   3.   0.   2.   4.  12.   5.   6.   7.   9.  15.   8.  10.  nan]\n",
      "[  1.   5.   3.   6.   7.  16.   4.   2.   0.  11.   9.   8.  13.  12.  17.\n",
      "  15.  10.  14.  21.  19.  nan]\n",
      "[  7045.  10538.   8937. ...,  12779.     36.   1921.]\n",
      "[  41.5   56.5   37.8   54.9   32.6   78.4   46.    51.8   62.5   89.6\n",
      "   28.9   75.9   41.2   81.4   74.9   72.9   36.3   60.6   61.    61.3\n",
      "    6.8   46.8   10.9   81.5   49.3   54.3   76.    60.3   16.9   81.9\n",
      "   59.5   64.1   96.1   62.3   57.9   30.1   62.8    7.    73.6   20.4\n",
      "   71.7   59.    75.7   60.8   39.7   51.    86.8   34.3   43.7   57.    24.\n",
      "   78.1   43.8   91.4   68.3   73.1   61.6   73.9   81.    70.9   77.4\n",
      "   47.1   66.7   42.5   59.4   19.7   45.    69.4   71.4   69.5   67.\n",
      "   75.5   82.6   63.2   78.8   52.8   70.6   39.5   55.4   33.9   58.1\n",
      "   17.2   35.2   19.2   81.6   32.7   67.8   54.    77.8   31.3   28.\n",
      "   75.4    7.1   72.2   56.9   78.    63.4   55.2   42.8   64.5   78.9\n",
      "   53.7   39.6   47.2   53.9   80.1   31.6   61.4   77.    69.2   55.1\n",
      "    7.8   76.5   34.4   38.    41.8   34.7   69.3   63.    57.8   48.6\n",
      "    3.2   56.7   80.5   68.7   43.3   57.4   59.9   29.5   49.    86.9\n",
      "   72.7   42.2   53.3   75.    67.5   87.9   88.3   33.4   64.    31.8\n",
      "   18.3   76.4   65.9   66.8   72.6   31.2   84.1   36.2   90.    60.9\n",
      "   52.5   20.5   95.    83.2   51.6   43.5   65.1   80.7   71.    46.7\n",
      "   62.    50.7   74.    73.5   94.4   21.3   65.    74.7   56.2   35.\n",
      "   20.3   66.5   74.8   42.9   69.    68.6   55.5   44.    60.2   71.2\n",
      "    6.6   22.8   83.    56.    64.2   77.2   73.8   64.8   46.6   72.1\n",
      "   61.2   90.4   84.    69.1   79.5   83.5   76.6   77.6   64.3   79.7\n",
      "   49.6   72.5   88.   105.    16.2   71.6   67.9   85.4   98.8   83.1\n",
      "   54.6   59.7   70.1   98.7   64.4   71.8   47.    81.2   87.    68.4\n",
      "   31.5   45.1   58.7   67.1   76.8   69.6   80.2   37.    40.    66.\n",
      "   60.7   89.1   88.4   25.    30.    78.3   52.3   37.1   54.5   52.\n",
      "   50.2   26.2  102.5   53.     8.1   85.9   64.7   52.7   28.8   71.9\n",
      "   65.5   99.2   52.9   80.8   48.1   61.9   77.1   38.1    7.9   80.9\n",
      "   56.8   53.8   22.3   60.1   47.7   45.5   83.7   57.5   96.2   36.4\n",
      "   89.5   49.7   38.5   94.3   23.2   45.6   73.7   27.7   49.1   28.3\n",
      "   26.7   62.1   43.9   58.9   55.6   76.3   37.5    7.6   99.8   79.6\n",
      "   75.2   50.    66.9   41.7   26.5   29.9   41.1   88.2   70.4   13.3\n",
      "   59.2   67.7   55.7   54.4   93.6   40.2   62.4   50.3   73.2   86.3\n",
      "   36.6   58.3   81.1   56.4   55.9   14.6   49.4   77.7   21.2   61.5\n",
      "   45.7   66.1   74.6   17.8   12.7   23.    94.    61.1   58.5   27.6\n",
      "   65.8   43.    60.5   63.9   86.1   49.5   76.1   15.9   82.3   66.6\n",
      "   36.5   34.    56.3   85.3   49.9  101.8   38.2   38.7   68.    53.1\n",
      "   85.2   26.8   92.2   95.3   45.3   94.6   51.9   36.7   33.5   91.1\n",
      "   72.4   26.1   22.5   85.8   99.5   40.8   94.1   42.1   18.5   47.4\n",
      "   46.9   48.    74.4   70.5   63.3   19.9   47.8   97.5   84.9   53.6\n",
      "   48.8   44.7   64.6   50.4   37.6   12.5   41.9   91.2   91.9   72.8\n",
      "   89.2   51.2   59.8   58.4   47.6   84.7    9.9   60.    16.3   52.6\n",
      "   63.1   33.    44.5   55.    65.6   19.5   51.5   65.4   22.9   70.3\n",
      "   82.4   41.6   71.3   80.3   17.3   89.8   65.3   39.8   49.8   51.7\n",
      "   38.3   83.9   76.7   92.    55.3   24.2   83.6   30.9   71.1   68.9\n",
      "   28.1   21.5  136.6   40.4   88.1   79.2   96.5   77.3   48.5   48.7\n",
      "   45.2   48.9   53.4   86.7   69.7   49.2   67.6  105.2   19.    87.4\n",
      "   70.8   44.9   35.4   40.9   51.1   62.6   25.5   35.6   52.1   89.9\n",
      "   65.2   43.4   47.3   38.8   53.5   39.4   80.6   37.4   24.9   72.3\n",
      "   16.1   45.9   84.4   89.    44.3   75.3   47.5   58.    42.7   99.9\n",
      "   20.7   37.9   50.1   79.8   15.    90.8  102.7   84.6   88.9   70.2\n",
      "   38.4   21.6    2.3   34.5   54.2    3.8   96.8   62.9   88.5   29.6\n",
      "   82.     5.9   86.6   80.4   34.9    8.5   14.7   63.6   83.3   63.5\n",
      "   27.8   79.4   61.7   61.8   93.5   55.8   27.2   74.3   62.2   43.6\n",
      "   73.    30.3   62.7   20.6   34.1   18.7   75.6   42.3   27.    78.6\n",
      "   57.2   57.3   59.3   54.7   74.2   95.2   79.9   81.7   97.3   94.9\n",
      "   57.7   58.2   65.7   85.6   29.1   86.    99.6   70.7   93.    72.\n",
      "   28.6   66.3   89.3   70.    73.4  118.    59.1   81.8   50.9   44.6\n",
      "   80.    11.5   77.5   68.8   24.8   20.9   37.7   82.7   28.7   91.3\n",
      "   79.3   68.2   38.6   76.2    1.1   73.3   16.7   64.9   43.2   24.1\n",
      "   29.    68.1   90.3   74.5   45.4   46.4   22.    40.1   25.8    4.7\n",
      "   39.9    6.9   14.2   87.6    0.4   63.8    9.1    4.9   46.1   35.7\n",
      "   48.3   36.    52.4   30.7   10.    31.9   76.9   75.8   81.3   27.4\n",
      "   39.3   59.6   58.8   51.3   60.4    5.4   67.2  116.    54.1   27.1\n",
      "   71.5   42.    89.7   75.1   26.4   50.8   88.8   67.4   69.8   35.8\n",
      "   23.1    0.    83.4   82.1   44.2   41.4   33.6   16.6   44.1   56.6\n",
      "   18.9   19.6   25.6   29.8   92.7    nan   41.3   66.2   68.5   39.\n",
      "   67.3   93.8   36.1   42.6   46.2   32.1   48.2   51.4   96.6   29.4\n",
      "   32.    69.9   85.    57.6   77.9   26.3  102.8   15.2   32.9   54.8\n",
      "   15.6    8.9   89.4   84.8   79.    90.5   33.3   31.4  100.9   10.2\n",
      "   78.5   97.    25.9   23.4   33.8   91.5   53.2   63.7   96.    47.9\n",
      "   74.1   23.8   84.2   37.2    2.6   23.6   92.8   18.8   20.8   90.7\n",
      "   13.1   66.4   48.4   35.3   29.3   52.2   30.2   83.8   85.1   78.2\n",
      "   28.2   92.9   87.1   92.3   90.9   86.5   34.6   56.1   17.6  101.\n",
      "   98.2   23.7   33.7   87.8   46.5   92.5   57.1    2.9  106.    79.1\n",
      "   32.4   85.7    3.9  100.2   95.7   40.3   92.4   40.6   40.7   33.2\n",
      "   82.8    9.3   43.1   13.7   99.    41.    36.9   88.7  104.1   98.1\n",
      "   17.9   31.    34.8   90.2   82.9   96.7   84.5   92.6    8.7   23.5\n",
      "   17.    30.5   20.    33.1    5.    58.6   93.7   23.3]\n",
      "[  36100.   46000.   38400. ...,  196100.   16493.  283800.]\n",
      "[  0.   2.   1.   5.   3.   4.  16.   9.   7.   6.  11.  12.   8.  13.  nan\n",
      "  10.]\n",
      "[  3.   0.   1.   2.   5.   4.   8.   7.  16.   6.  14.   9.  12.  18.  13.\n",
      "  11.  10.  15.  21.  20.  17.  24.  nan  22.  25.]\n",
      "[  2.   3.   1.   0.   5.   6.   7.   4.  14.  16.  20.   8.  11.  15.  19.\n",
      "  17.  10.  12.  18.   9.  13.  30.  25.  21.  nan  32.]\n",
      "[  5.   7.   2.   4.   9.  10.  17.   1.   8.   6.   3.  13.  12.  11.  18.\n",
      "  14.   0.  15.  25.  16.  22.  19.  23.  21.  20.  26.  27.  47.  29.  28.\n",
      "  31.  39.  24.  34.  30.  37.  33.  35.  nan  40.  42.]\n",
      "[ 44714.  20490.  33976. ...,  65783.  52173.  85755.]\n",
      "[ 23397.  10457.  17538. ...,  34078.  33563.  35288.]\n",
      "[  35.2   62.9   54.3 ...,  117.1  129.3  121.1]\n",
      "[  0.   1.   2.   3.   4.   7.   5.  nan   6.]\n",
      "[  0.0e+00   1.4e+03   1.8e+02   1.8e+01   2.5e+02   4.8e+01   6.2e+01\n",
      "   5.6e+01   3.0e+01   6.8e+02   1.5e+02   2.5e+03   2.6e+02   6.6e+02\n",
      "   6.0e+01   1.3e+02   2.9e+02   5.5e+03   6.4e+02   7.5e+01   1.0e+03\n",
      "   2.3e+02   2.5e+01   6.5e+04   1.1e+02   5.2e+01   1.6e+02   8.3e+03\n",
      "   4.2e+01   8.0e+01   3.6e+01   7.6e+01   1.4e+02   2.8e+03   2.6e+04\n",
      "   4.0e+02   5.3e+02   4.6e+02   5.7e+01   7.8e+01   2.5e+04   1.3e+04\n",
      "   8.0e+00   6.4e+01   1.4e+02   4.9e+02   4.6e+02   7.4e+02   3.6e+02\n",
      "   2.2e+03   7.5e+02   1.0e+02   1.3e+03   1.4e+02   4.0e+03   1.7e+03\n",
      "   5.3e+02   1.1e+03   5.3e+02   2.7e+01   1.8e+03   8.4e+01   9.0e+00\n",
      "   1.5e+01   1.2e+02   2.8e+04   5.1e+02   7.7e+04   7.4e+02   1.0e+02\n",
      "   2.1e+01   5.1e+02   1.3e+02   1.8e+02   3.1e+03   1.3e+04   3.2e+03\n",
      "   1.1e+01   5.1e+01   7.0e+01   1.4e+02   7.3e+01   9.9e+02   2.7e+04\n",
      "   3.0e+03   4.8e+02   3.2e+02   2.2e+02   2.5e+03   4.6e+01   9.4e+02\n",
      "   4.1e+01   2.0e+02   5.3e+03   1.2e+02   8.2e+02   5.3e+01   1.1e+02\n",
      "   7.0e+00   9.1e+02   3.5e+02   1.9e+02   2.5e+03   3.7e+02   5.8e+01\n",
      "   4.1e+03   3.9e+01   9.7e+02   4.7e+02   1.0e+03   9.3e+01   3.5e+02\n",
      "   2.3e+04   4.4e+02   1.1e+04   8.9e+02   2.9e+01   6.7e+01   1.6e+02\n",
      "   6.0e+00   9.1e+01   4.0e+02   1.1e+04   6.7e+03   5.1e+02   4.0e+02\n",
      "   8.5e+03   1.7e+01   5.4e+02   2.9e+02   4.3e+03   1.9e+02   2.7e+02\n",
      "   8.8e+02   1.9e+02   1.6e+04   6.3e+01   6.7e+03   1.6e+02   2.0e+03\n",
      "   2.6e+02   1.2e+04   1.6e+02   2.4e+03   4.6e+02   3.3e+01   5.4e+01\n",
      "   4.2e+02   9.7e+02   9.0e+01   5.6e+04   2.0e+04   4.3e+04   4.5e+01\n",
      "   2.1e+03   2.1e+03   2.3e+02   7.4e+01   1.8e+02   6.9e+01   4.0e+01\n",
      "   4.7e+04   1.8e+03   3.7e+02   2.1e+02   3.3e+03   2.9e+02   5.3e+02\n",
      "   8.6e+01   5.2e+02   3.1e+02   2.1e+02   1.6e+03   5.5e+01   2.7e+04\n",
      "   1.1e+02   3.9e+03   1.2e+03   6.4e+04   5.8e+02   3.6e+04   6.5e+02\n",
      "   3.5e+02   8.3e+01   2.4e+02   3.8e+02   1.3e+02   2.3e+01   1.8e+02\n",
      "   1.7e+03   3.6e+03   2.1e+03   1.9e+03   3.4e+02   3.2e+02   1.6e+02\n",
      "   6.5e+01   4.0e+00   3.6e+02   2.8e+03   3.8e+03   2.9e+03   6.6e+01\n",
      "   8.2e+02   9.6e+02   3.1e+02   5.8e+02   1.8e+04   9.9e+03   5.7e+02\n",
      "   2.3e+03   7.9e+02   5.9e+01   2.5e+03   3.0e+00   1.7e+03   2.8e+02\n",
      "   1.3e+03   7.7e+01   1.5e+03   1.4e+03   3.5e+01   3.8e+02   2.5e+02\n",
      "   7.5e+03   6.1e+04   7.9e+02   4.8e+02   3.0e+02   1.3e+03   2.7e+02\n",
      "   8.6e+02   2.1e+02   2.6e+02   7.9e+02   5.3e+03   2.8e+02   4.9e+03\n",
      "   2.3e+03   1.9e+03   4.3e+01   1.4e+02   3.3e+02   3.7e+01   1.2e+01\n",
      "   1.4e+03   2.6e+02   5.0e+00   1.8e+02   1.4e+02   4.9e+01   3.6e+02\n",
      "   3.2e+02   2.7e+03   6.2e+02   2.0e+02   1.0e+03   1.4e+04   4.0e+02\n",
      "   7.2e+02   3.0e+03   3.7e+02   3.4e+02   6.2e+04   2.8e+04   1.2e+03\n",
      "   1.4e+03   2.1e+03   5.0e+01   1.3e+03   2.7e+02   1.0e+03   2.2e+02\n",
      "   1.5e+03   1.6e+04   2.4e+02   8.3e+02   3.7e+04   1.1e+02   4.8e+02\n",
      "   1.7e+03   4.9e+02   4.1e+04   8.1e+02   1.6e+03   2.5e+03   5.0e+04\n",
      "   1.8e+02   6.4e+02   2.0e+02   1.0e+02   3.1e+03   4.7e+03   7.9e+01\n",
      "   5.0e+04   1.2e+03   2.7e+03   8.6e+02   6.6e+02   9.5e+01   1.5e+02\n",
      "   2.6e+03   8.5e+01   2.7e+04   3.5e+02   2.8e+04   1.8e+02   5.3e+02\n",
      "   1.6e+02   2.4e+03   5.4e+04   8.4e+02   5.6e+02   1.0e+03   3.1e+03\n",
      "   7.2e+01   3.0e+02   4.4e+02   6.1e+04   2.3e+03   2.4e+02   6.0e+02\n",
      "   1.7e+04   1.7e+04   1.9e+04   6.0e+02   1.2e+03   3.1e+03   4.4e+03\n",
      "   2.0e+01   5.2e+03   2.6e+02   2.1e+04   7.7e+02   1.0e+01   3.6e+02\n",
      "   2.2e+01   1.6e+02   2.0e+02   4.4e+03   9.5e+03   1.8e+02   4.0e+03\n",
      "   6.6e+03   1.2e+03   9.0e+02   3.8e+03   2.5e+04   2.1e+04   9.8e+01\n",
      "   1.7e+04   1.5e+02   1.1e+04   6.1e+02   3.8e+01   9.5e+02   7.2e+02\n",
      "   2.4e+03   6.5e+03   3.1e+04   4.2e+03   1.6e+03   2.8e+03   1.6e+03\n",
      "   2.4e+01   2.4e+03   1.0e+04   7.8e+03   1.1e+02   3.3e+02   3.8e+02\n",
      "   6.7e+02   4.7e+02   7.3e+03   7.0e+02   1.9e+04   2.5e+02   4.2e+03\n",
      "   7.4e+02   4.2e+04   1.9e+04   1.9e+03   1.9e+03   2.9e+02   1.5e+03\n",
      "   8.0e+02   7.8e+02   1.2e+02   5.3e+02   7.4e+03   2.5e+03   1.6e+03\n",
      "   1.7e+02   2.1e+02   8.8e+03   2.2e+03   7.3e+03   9.2e+01   7.6e+02\n",
      "   4.4e+02   4.6e+04   1.0e+04   4.4e+03   2.2e+03   1.8e+04   7.4e+02\n",
      "   3.2e+01   3.4e+01   1.3e+04   5.8e+02   1.0e+04   1.8e+03   2.0e+02\n",
      "   1.9e+03   1.4e+03   3.9e+03   2.1e+03   6.6e+02   4.2e+04   6.3e+02\n",
      "   6.3e+04   1.9e+01   5.4e+03   3.1e+04   1.1e+03   1.3e+04   1.3e+04\n",
      "   2.4e+03   1.1e+03   1.9e+04   4.0e+02   4.4e+02   6.9e+03   2.5e+04\n",
      "   4.2e+03   2.1e+04   3.5e+03   1.4e+03   1.2e+03   2.6e+03   1.6e+03\n",
      "   9.2e+02   4.4e+02   3.0e+03   5.9e+02   5.6e+02   4.5e+02   9.9e+02\n",
      "   5.6e+02   4.2e+03   3.8e+02   1.2e+02   1.0e+03   1.0e+04   2.7e+03\n",
      "   7.6e+02   2.8e+02   4.3e+03   6.1e+04   2.2e+02   9.4e+01   3.1e+01\n",
      "   2.6e+02   1.4e+02   4.5e+04   5.0e+03   4.7e+01   4.5e+02   2.6e+02\n",
      "   4.1e+02   2.0e+02   3.2e+02   3.2e+04   2.9e+02   1.2e+04   9.9e+02\n",
      "   1.0e+02   4.5e+02   5.0e+02   4.0e+02   4.8e+03   3.7e+04   5.2e+02\n",
      "   6.4e+03   1.3e+02   5.7e+02   4.9e+03   1.2e+02   6.8e+02   1.0e+03\n",
      "   1.4e+03   3.8e+02   3.4e+02   1.7e+02   1.7e+02   1.7e+02   6.0e+02\n",
      "   5.4e+02   3.9e+02   2.0e+02   1.4e+02   6.3e+03   2.8e+01   2.4e+03\n",
      "   6.0e+02   1.2e+04   4.4e+02   4.4e+04   3.6e+04   3.8e+02   7.4e+02\n",
      "   1.5e+04   4.1e+02   1.2e+03   6.6e+03   6.2e+02   2.1e+02   1.5e+02\n",
      "   5.8e+02   2.3e+03   1.4e+02   1.6e+03   1.8e+03   1.5e+04   2.7e+03\n",
      "   2.3e+02   4.3e+04   6.2e+03   5.6e+02   9.0e+03   9.5e+02   2.6e+02\n",
      "   2.6e+03   1.2e+03   2.6e+04   7.6e+02   3.2e+03   4.4e+02   3.9e+02\n",
      "   2.7e+02   1.2e+04   3.4e+02   3.1e+02   3.4e+02   3.4e+03   1.2e+02\n",
      "   5.5e+02   1.6e+01   5.0e+02   2.6e+02   1.4e+03   3.8e+02   1.0e+03\n",
      "   2.5e+04   2.4e+03   2.1e+02   1.2e+02   1.4e+04   2.6e+01   3.4e+02\n",
      "   3.2e+03   1.7e+02   3.7e+02   2.4e+02   2.2e+02   1.0e+03   1.6e+03\n",
      "   1.3e+03   4.0e+02   8.2e+02   3.4e+02   3.2e+03   4.8e+02   1.0e+04\n",
      "   1.9e+04   1.4e+03   2.5e+02   2.6e+03   1.8e+02   1.1e+02   8.2e+02\n",
      "   4.6e+02   2.8e+02   1.3e+02   1.2e+04   4.7e+02   1.8e+04   7.9e+02\n",
      "   1.5e+02   1.8e+03   2.8e+02   1.5e+03   9.2e+02   4.5e+02   9.7e+01\n",
      "   5.9e+03   3.3e+02   5.7e+03   4.3e+02   4.1e+02   5.3e+02   5.2e+03\n",
      "   2.1e+02   1.5e+03   5.5e+04   6.7e+02   1.3e+03   3.5e+02   1.0e+04\n",
      "   3.9e+03   1.9e+02   3.8e+02   3.4e+02   2.7e+03   1.2e+03   8.1e+02\n",
      "   8.9e+03   4.6e+02   5.0e+04   5.0e+02   3.7e+02   1.1e+03   2.7e+02\n",
      "   1.7e+03   1.3e+04   6.0e+02   2.4e+03   1.4e+03   5.7e+03   1.5e+02]\n",
      "[ 159.  142.  109.   21.  134.  128.  129.  156.  120.  149.  113.  183.\n",
      "  170.  143.   70.  157.  160.   94.  137.  116.  140.   15.  122.   29.\n",
      "  167.    3.  145.   89.  161.  154.  254.  150.  125.  101.   19.  155.\n",
      "  171.  135.  124.   98.  111.  141.  136.   76.  158.  117.  153.   99.\n",
      "  146.   16.  202.  131.   52.  220.  107.  147.  168.  104.  130.  110.\n",
      "  127.  132.  178.  239.   41.  172.  169.   64.   66.   nan  114.  174.\n",
      "   79.  115.   40.  166.   14.   65.  108.  238.  179.   82.   87.   31.\n",
      "  121.  255.   51.   24.  236.   85.  163.  105.  187.  103.  197.  126.\n",
      "  162.   86.   56.  208.  144.   34.   32.  212.  184.  139.  138.   81.\n",
      "   27.  188.   26.  219.   61.  281.  186.  151.   47.   13.  175.  164.\n",
      "   23.  119.   46.  100.   90.   97.  152.  165.  278.   39.  123.  218.\n",
      "  148.  204.   18.   54.   75.  118.   91.  207.   72.   68.   63.  240.\n",
      "   95.  363.   77.   74.  133.   37.   25.  279.  176.  112.  102.   88.\n",
      "   93.  182.  189.  226.  301.  241.  106.   55.  232.  200.   92.   71.\n",
      "  177.  196.  195.  429.   17.   38.   96.  181.  185.  206.  194.  203.\n",
      "   59.   58.   53.   62.   45.  192.   49.   83.   69.    6.   80.  268.\n",
      "   36.  312.   42.   33.   43.  180.   48.   67.   10.  349.  242.   28.\n",
      "  244.  227.  230.   78.  216.   73.   44.  222.   84.  347.  173.  243.\n",
      "   35.  348.   20.  245.    7.  231.  221.  411.   11.  201.   30.  199.\n",
      "   50.  190.  205.  257.  252.    4.  225.  253.  210.   57.  191.  292.\n",
      "  251.  217.  198.  271.  324.   22.  215.  335.  247.  228.  280.  294.\n",
      "    5.  237.    8.  229.  263.  315.  266.  265.  304.    2.   12.  233.\n",
      "  399.  214.  285.  250.   60.    9.  314.  290.  224.  264.  283.  267.\n",
      "  193.  289.  260.  211.  213.  329.  359.  248.  256.  286.  209.    1.\n",
      "  262.  235.  274.  282.  300.  223.  327.  284.  299.  259.  234.  317.\n",
      "  277.  305.  270.  246.  273.  275.  320.  316.  325.  249.  303.  374.\n",
      "  380.  366.  360.  391.  350.  333.  272.  288.  258.  261.  372.  276.\n",
      "  337.  371.  385.  427.  318.  356.  309.  298.  296.  339.  332.  310.\n",
      "  336.  307.  331.  377.  297.  724.  313.  352.  378.  291.  353.  287.\n",
      "  361.  394.  370.  367.  383.  323.  355.  343.  269.  358.  388.  293.\n",
      "  322.  306.  382.  328.  345.  302.  344.  319.  436.  357.  334.  340.\n",
      "  321.  392.  341.  330.  415.  308.  422.  311.  406.  386.  373.  295.\n",
      "  387.  395.  354.  326.  379.  400.  369.  376.  362.  351.  447.  420.\n",
      "  342.  407.  396.  478.  424.  471.  507.  470.  401.  545.  364.    0.\n",
      "  338.  456.  432.  405.  442.  397.  443.  408.  446.  365.  438.  409.\n",
      "  384.  491.  346.  477.  368.  412.  393.  413.  476.  434.  404.  410.\n",
      "  375.  421.  649.  402.  490.  417.  398.  433.  428.  482.  418.  416.\n",
      "  465.  414.  426.  423.  437.  425.  403.]\n",
      "[ 169.  150.  168.  265.  173.  100.  210.   95.  181.  137.  164.  192.\n",
      "  162.  456.  189.  159.  157.  233.  208.  296.   94.   99.  361.  315.\n",
      "  151.  194.  124.  316.  206.  115.  209.  198.  132.  109.   45.  250.\n",
      "  435.  113.  346.  513.  146.  238.   78.  163.  102.  112.  373.  281.\n",
      "  125.  429.  136.  188.  355.  144.  131.  197.  153.  148.  156.  245.\n",
      "   96.  349.  277.  272.  122.  255.  289.  179.  260.  257.  199.  234.\n",
      "  152.  324.  211.   98.  108.  254.  214.  139.  359.  388.  184.   50.\n",
      "  230.   19.  134.  117.  390.  313.  443.  111.  424.  207.  276.  128.\n",
      "   33.  228.  130.  447.   72.   84.  145.   49.   90.  274.  129.  306.\n",
      "  177.   26.  140.  376.  135.  127.  161.  304.   52.  160.  220.   59.\n",
      "  380.  525.  176.   40.  267.  297.  143.  227.  186.  370.  101.  241.\n",
      "  191.  252.  467.  123.  142.  284.  298.  378.  218.   46.  294.  121.\n",
      "  314.  104.  118.  149.   32.  229.  280.  107.  193.  243.  381.  167.\n",
      "  320.   62.  337.  282.   39.  279.   65.   63.  201.  287.  138.   77.\n",
      "  216.  213.  158.  147.  116.  165.  232.  405.  325.  270.  180.  133.\n",
      "  174.  154.   85.  172.  120.  364.   53.  321.  190.   55.   86.  200.\n",
      "  259.  275.   70.  285.  170.  389.  205.  221.  406.  105.   74.   93.\n",
      "   89.  256.  175.  141.  423.  343.   79.  195.  433.  330.  273.  292.\n",
      "  266.  222.   25.  178.  231.  290.   97.  358.  303.   47.  215.  196.\n",
      "  269.   60.  479.   48.  391.  286.  114.  342.   58.  323.  335.  155.\n",
      "  204.  185.  363.  422.  247.  350.   68.   92.   51.  392.   73.  329.\n",
      "  126.  187.   54.  103.  166.  226.  263.  110.  219.  271.   16.  212.\n",
      "   57.  331.   34.  182.  237.  365.   43.  246.  386.  332.  119.  302.\n",
      "  317.   30.  319.  262.  242.  235.  223.  345.   56.  278.  372.  264.\n",
      "  106.   83.  347.   29.  203.  334.  531.  344.  253.  333.  461.  458.\n",
      "  261.  312.   88.   75.  307.  309.  603.   66.  202.  385.  327.  224.\n",
      "  299.   91.  368.  397.  171.  301.  183.   67.  396.   87.   42.  410.\n",
      "  244.   71.  248.  318.  374.  249.   35.  293.   64.  524.   61.    6.\n",
      "  549.  240.  291.  403.  382.   13.   37.  601.  217.   41.  491.  371.\n",
      "  311.  430.  469.   17.   69.   44.   22.  310.   12.  636.  322.  441.\n",
      "  623.  351.  251.  535.  300.   24.  557.  434.  225.   80.  514.  353.\n",
      "  566.  562.  268.  369.  258.  412.   81.  367.  236.  411.   36.  387.\n",
      "  527.  446.   82.   31.  556.  339.  305.  340.  288.  326.   27.  308.\n",
      "  395.  453.   23.  401.  464.  425.  419.  459.  375.  399.   38.   20.\n",
      "  444.  384.  239.   14.  338.  356.   15.  409.  440.  686.  476.  360.\n",
      "  348.  587.   76.  398.  336.  541.  518.  560.  480.  362.  357.  400.\n",
      "  377.  341.   21.  283.  328.  468.  352.  402.  510.  726.  379.  408.\n",
      "  454.  568.   28.  492.  502.  451.  471.  394.  417.  295.  602.   18.\n",
      "  366.  426.  504.  354.  466.  383.  432.  462.  499.  413.  543.  416.\n",
      "  438.  474.  658.  420.  588.  437.  455.  579.  559.  418.  515.  442.\n",
      "  512.  505.  591.  414.  452.  487.  481.  600.  581.  431.  393.  517.\n",
      "  485.  457.  450.  598.  482.  503.  590.  496.  572.  613.  460.  509.\n",
      "  551.  436.   10.  508.  523.  493.  465.  404.  657.  407.  473.  538.\n",
      "  448.  415.  528.  439.  633.  470.  516.  564.  463.  573.  554.  421.\n",
      "  427.  606.  472.  586.  511.  506.  498.  575.  484.  627.  445.  483.\n",
      "  638.  596.  589.  584.  501.  583.  495.  526.  507.  428.  769.  545.\n",
      "  673.  475.  490.  580.  521.    7.  567.  550.  520.  698.  530.  570.\n",
      "  500.  519.  489.  691.  569.  595.  618.  539.  542.  681.    9.  617.\n",
      "  532.  553.  477.  561.  478.  529.  578.  534.  714.  449.  582.  497.\n",
      "  625.  522.  666.  597.  630.  552.   11.  547.  622.  604.  486.  494.\n",
      "  537.  536.    8.  555.  653.  605.  614.  565.  629.  571.  592.  607.\n",
      "  585.  533.  640.  711.  663.  544.  574.  576.  650.  599.  546.  611.\n",
      "  626.  775.  669.  641.  665.  639.  670.  563.    4.  488.  732.  594.\n",
      "  632.  768.  624.  612.  548.   nan  620.  635.  684.  558.  645.  540.\n",
      "  656.  610.  643.  615.  642.  654.  593.  644.  649.  708.  705.  616.\n",
      "  730.  760.  577.    5.  682.  637.  744.  659.  631.  655.  634.  661.\n",
      "  717.  608.  672.  700.  724.  842.  761.  793.  695.]\n",
      "[  12.    7.   13.    1.    3.    4.    0.    8.   11.    2.   18.   15.\n",
      "   10.    6.    5.   38.   14.   31.   17.   20.   19.   16.   23.    9.\n",
      "   45.   41.   32.   25.   57.   36.   97.   21.   48.   46.   30.   44.\n",
      "   49.   26.   27.   37.   91.   40.   54.   24.   35.   70.   39.   28.\n",
      "   90.   81.   63.   34.   50.   84.   29.   61.   42.   52.   87.   78.\n",
      "   22.   67.   76.   56.   53.   66.   60.   58.  166.   43.   64.   74.\n",
      "  125.   72.   51.   33.   77.   95.   89.   85.   47.   88.  109.  103.\n",
      "   86.  116.   83.   68.   62.  119.   98.   94.  105.  118.  100.   75.\n",
      "   59.  113.  121.  120.  171.  107.  143.   55.   73.  117.  111.   93.\n",
      "   65.   92.  180.   80.   96.  315.  135.   99.   71.  101.  188.  106.\n",
      "   69.  112.   79.  110.  128.   82.  138.  130.  108.  145.  142.  154.\n",
      "  149.  104.  147.  127.  159.  137.  102.  123.  131.  196.  115.  122.\n",
      "  201.  139.  132.  114.  173.  146.  178.  129.  141.  124.  152.  175.\n",
      "  181.  241.  140.  161.  184.  157.  174.  150.  304.  176.  153.  224.\n",
      "  136.  236.  187.  165.  179.  160.  170.   nan  126.  221.  134.  144.\n",
      "  210.  156.  193.  148.  192.  158.  133.  155.  163.  167.  182.  168.\n",
      "  197.  228.  164.  223.  162.  202.  194.  205.  297.  372.  302.  217.\n",
      "  190.  172.  189.]\n",
      "[   8.    7.   13.    1.    3.    4.    0.    9.    2.   18.   10.    6.\n",
      "    5.   15.   20.   31.   17.   19.   12.   21.   36.   14.   11.   16.\n",
      "   38.   28.   26.   27.   25.   29.   23.   30.   63.   22.   42.   33.\n",
      "   32.   46.   40.   67.   52.   24.   37.  166.   41.   34.   64.   66.\n",
      "   74.   44.  108.   43.   35.   50.   48.   47.   59.   94.   51.   62.\n",
      "  107.   61.   53.   39.   95.   45.   83.   92.   80.   58.   65.   81.\n",
      "   96.   49.   91.   57.  133.   98.  130.   60.   89.   54.  154.   68.\n",
      "  121.   77.  113.   75.  117.   73.   82.   55.   87.   84.   70.   71.\n",
      "  135.   72.   90.   79.  131.   69.  116.  104.   86.   56.   88.   78.\n",
      "  109.  127.   76.   99.  147.  110.  111.   93.  102.   85.  115.  176.\n",
      "  151.  139.  136.  124.  162.  144.   nan   97.  101.  106.  100.  114.\n",
      "  118.  119.  105.  148.  143.  122.  174.  137.  145.  194.  132.]\n",
      "[  6.   4.   3.   1.   5.   0.   2.  12.   7.   9.  14.   8.  10.  13.  25.\n",
      "  11.  16.  15.  32.  19.  24.  21.  22.  18.  20.  34.  17.  23.  28.  nan\n",
      "  31.  30.  29.  26.  27.]\n",
      "[  12.   18.   13.    1.    3.   10.    4.    8.   11.    2.   28.   15.\n",
      "   31.    6.   21.   38.   29.   14.   17.   22.    5.   30.   20.   32.\n",
      "   26.   44.    0.   19.   23.    7.   16.   37.    9.  116.  107.   45.\n",
      "   nan   27.  122.   42.  169.   43.   25.  183.  145.   39.   24.   56.\n",
      "   97.   77.  111.  198.   52.   50.   33.   51.   86.   48.  102.  151.\n",
      "  129.   46.   49.  161.  193.   36.  162.   40.   54.   41.   47.   63.\n",
      "   90.   85.  234.   59.   55.  105.   34.  103.   62.   98.   84.  155.\n",
      "  112.  114.   61.  135.  113.  242.  100.  146.   72.  124.   99.   88.\n",
      "   35.  115.   58.  110.   81.  108.   60.   65.  101.   83.   96.   67.\n",
      "   70.   69.  138.  166.   75.  153.   74.   87.   64.   53.  196.  118.\n",
      "  125.   68.  150.  188.  109.  140.   66.   57.  181.   78.   80.  220.\n",
      "  130.  177.   91.  191.  174.  233.   93.   79.  106.  260.   76.  176.\n",
      "  136.  148.  142.   92.  156.  133.  119.  132.   95.  149.  282.  172.\n",
      "  230.  117.   94.  199.  131.  141.   71.  296.  184.  219.  137.  120.\n",
      "  224.  175.  179.   82.  218.  295.  217.   89.   73.  247.  180.  134.\n",
      "  362.  139.  294.  126.  163.  104.  144.  121.  185.  350.  158.  315.\n",
      "  189.  164.  290.  128.  307.  173.  157.  222.  147.  194.  127.  192.\n",
      "  221.  160.  190.  250.  195.  328.  317.  359.  178.  285.  123.  202.\n",
      "  170.  235.  154.  186.  143.  278.  258.  331.  209.  467.  210.  416.\n",
      "  462.  205.  159.  165.  380.  333.  246.  152.  228.  466.  381.  240.\n",
      "  305.  321.  182.  270.  187.  337.  168.  318.  256.  201.  277.  287.\n",
      "  311.  473.  167.  229.  248.  339.  213.  298.  257.  207.  435.  327.\n",
      "  341.  200.  281.  301.  268.  197.  404.  322.  249.  325.  206.  259.\n",
      "  334.  344.  284.  422.  237.  323.  358.  261.  345.  273.  215.  279.\n",
      "  204.  303.  304.  297.  223.  203.  171.  330.  299.  286.  335.  316.\n",
      "  415.  226.  225.  244.  407.  271.  239.  265.  447.  280.  338.  231.\n",
      "  255.  208.  288.  254.  360.  275.  216.  243.  283.  449.  348.  312.\n",
      "  267.  502.  252.  227.  245.  232.  398.  300.  263.  306.  554.  383.\n",
      "  291.  420.  251.  214.  211.  354.  351.  343.  361.  493.  313.  266.\n",
      "  272.  274.  289.  238.  310.  342.  353.  319.  326.  236.  302.  527.\n",
      "  262.  212.  241.  293.  538.  309.  521.  346.  356.  375.  413.  308.\n",
      "  372.  408.  292.  376.  436.  336.  382.  276.  533.  384.  385.  320.\n",
      "  386.  427.  441.  371.  365.  388.]\n",
      "[  nan   12.    9.    6.   17.   30.   39.   73.   78.   60.   42.   19.\n",
      "   29.   57.   14.   62.   28.   44.   79.   41.   46.   23.   20.    1.\n",
      "   40.    3.   85.   61.   38.   21.   69.   51.   67.   37.   68.   75.\n",
      "   45.   27.   35.   47.   32.   33.   34.   48.   71.    7.   70.   72.\n",
      "   26.   89.   25.    8.   63.   54.   18.   11.   76.   58.   80.   36.\n",
      "   66.   55.   31.   91.    4.   77.   10.   15.   74.   16.   50.    5.\n",
      "   49.   83.   22.   53.   92.   56.   24.   65.   82.    2.   84.   59.\n",
      "   43.   64.   13.   81.   52.   88.   86.   87.  105.    0.  106.   93.\n",
      "  112.  110.   97.   96.   90.  101.  100.  111.  152.  102.  116.  114.\n",
      "   95.  103.   98.  108.  128.   94.  113.  176.  121.   99.  122.  145.\n",
      "  107.  127.  109.  124.  143.  149.  104.  135.  140.  133.  151.  131.\n",
      "  130.  139.]\n",
      "[  4.  11.   0.  10.  nan   3.   1.  18.  16.  19.   6.  12.  23.   7.  15.\n",
      "   5.   9.   2.  14.  22.   8.  13.  17.  20.  21.  24.  25.]\n",
      "[  nan   12.    6.    9.   17.   40.   29.   36.   44.   73.   34.   78.\n",
      "   60.   54.   42.   19.   57.   14.   62.   26.   28.   38.   46.   43.\n",
      "   41.   69.   23.   81.   20.    1.   79.    3.   85.   61.   63.   21.\n",
      "   27.   52.   39.   66.   51.   33.   67.   32.   75.    7.   35.    8.\n",
      "   47.   30.   31.   22.   11.   48.   71.   70.   72.   10.   16.   68.\n",
      "   80.   37.   76.   58.   83.   55.   91.    4.   77.   25.   15.   74.\n",
      "   13.   50.   82.    5.   49.    2.   53.   65.   92.   56.   64.   24.\n",
      "   18.   84.   45.   59.   90.   88.   86.   87.    0.  105.  106.   93.\n",
      "  112.  110.   97.  129.  125.   96.  101.  152.  102.   89.   98.  114.\n",
      "  103.   95.  108.   94.  113.  176.  121.   99.  135.  115.  122.  134.\n",
      "  107.  127.  119.  124.  120.  131.  143.  109.  149.  118.  130.  141.\n",
      "  116.  100.  133.  104.  140.  151.]\n",
      "[  0.   1.   2.   7.   4.  11.   3.  13.   6.   5.  10.  12.  14.   8.   9.\n",
      "  25.  15.  17.  22.  16.  21.  18.  20.  19.  23.  nan  29.  24.  26.  30.]\n",
      "[  3.   5.   6.   4.   2.   1.   8.  11.   7.   0.  12.  13.   9.  10.  14.\n",
      "  17.  15.  16.  19.  20.  18.  23.  22.  26.  21.  25.  nan  30.  24.]\n",
      "[  3.   8.   6.  10.   4.  17.   9.   5.   2.  11.   7.   1.  15.  13.  16.\n",
      "  12.  14.   0.  20.  22.  19.  24.  18.  25.  23.  26.  29.  21.  38.  35.\n",
      "  30.  28.  27.  34.  44.  31.  33.  36.  40.  32.  nan  37.]\n",
      "[  4.   5.  12.   7.  11.   2.   6.   8.   3.  13.   9.   1.  10.   0.  32.\n",
      "  15.  18.  28.  26.  14.  17.  19.  16.  20.  22.  24.  21.  25.  27.  33.\n",
      "  30.  23.  37.  29.  36.  57.  31.  35.  nan]\n",
      "[  9.  10.   6.  12.  13.   2.  17.   5.  19.  15.  14.   4.   3.  11.   7.\n",
      "   8.  23.  18.  16.   0.  32.   1.  28.  26.  24.  20.  22.  37.  21.  25.\n",
      "  36.  38.  31.  29.  27.  30.  34.  43.  35.  33.  42.  44.  40.  54.  47.\n",
      "  57.  39.  52.  46.  41.  nan  45.  50.  51.  48.  58.  61.]\n",
      "[  15.    3.    7.    6.    1.   10.    2.   28.   21.   11.   16.   36.\n",
      "    8.   13.    5.    4.    9.   26.   22.   12.   44.   19.   27.   17.\n",
      "   14.    0.   41.   34.   43.   20.   35.   30.   33.   29.   18.   25.\n",
      "   31.   23.   24.   49.   57.   32.   37.   38.   48.   40.   51.   59.\n",
      "   39.   50.   47.   61.   42.   45.   58.   52.   46.   66.   68.   60.\n",
      "   54.  100.  101.   73.   56.   65.   82.   55.  117.   83.   86.   62.\n",
      "   79.   64.   53.   85.   69.   63.   72.   70.   75.   91.   74.   87.\n",
      "   67.   89.   nan   78.   97.   81.]\n",
      "[  4.  13.   5.  15.  12.   7.  17.   9.   8.  20.  16.  10.   6.   3.  14.\n",
      "  18.   2.  11.  19.  25.   1.  31.  26.  22.  30.  21.  32.  24.  23.  28.\n",
      "  44.  41.  33.   0.  29.  47.  35.  27.  39.  38.  37.  34.  40.  36.  46.\n",
      "  49.  42.  48.  nan  45.  43.  58.  62.  50.  52.  51.]\n",
      "[  10.   24.    9.   17.   21.   19.   23.   14.   22.   27.    8.   29.\n",
      "   15.   28.   12.   11.    6.    7.   13.   25.   36.   20.   16.   31.\n",
      "   18.   33.    2.   44.    4.    5.   35.   43.    3.   26.   48.   30.\n",
      "   41.   38.   53.   45.   61.   32.   34.   47.   39.   37.   49.   60.\n",
      "   57.   63.   40.   42.   56.   50.   51.   46.   54.   52.   67.   69.\n",
      "   68.   59.   72.   55.   62.   74.   58.   66.   65.   92.   90.   64.\n",
      "   71.   75.   77.   87.   70.   nan   91.    1.    0.  105.   81.   73.\n",
      "   80.   89.   86.   82.   78.]\n",
      "[  3.   8.   6.  10.   4.  13.   5.   7.  11.   2.  12.   9.   1.  15.  16.\n",
      "  14.   0.  17.  23.  19.  25.  20.  24.  26.  28.  18.  22.  21.  38.  30.\n",
      "  42.  33.  27.  39.  31.  29.  36.  32.  nan  37.  34.]\n",
      "[  7.  16.   9.  14.  12.  18.  13.  11.  22.  19.  17.  21.   8.  10.  25.\n",
      "   5.  20.   4.  15.  27.  24.  23.   6.  26.   3.  28.  29.  32.   2.  34.\n",
      "  33.  30.  41.  31.  45.  38.  35.  55.  43.  37.  36.  44.  40.   1.  39.\n",
      "  42.  53.  46.  47.  49.  51.  48.  56.  50.  52.  nan   0.  62.  75.  58.\n",
      "  54.  76.]\n",
      "[  0.  nan   1.   2.   6.]\n",
      "[  0.   1.   2.   3.  nan   4.]\n",
      "[  0.   1.   2.   3.   4.   5.   7.   6.   8.  13.  11.  10.   9.  16.  15.\n",
      "  14.  12.  20.  18.  nan  17.  24.  22.]\n",
      "[  4.   0.   1.  12.   3.   2.   5.   6.   7.   8.   9.  11.  10.  18.  13.\n",
      "  15.  23.  17.  14.  20.  16.  22.  19.  21.  25.  24.  nan  26.]\n",
      "[ 100.    97.    96.6   96.8   96.    97.4   96.9   96.3   97.1   72.7\n",
      "   89.5   98.1   59.1   79.3   97.6   95.2   94.9   74.    96.2   95.5\n",
      "   92.3   83.3   78.9   85.7   91.7   91.3   84.6   82.5   82.9   67.5\n",
      "   69.2   93.7   90.5   94.1   76.9   93.1   71.1   90.3   88.2   89.    72.\n",
      "   84.    88.5   92.    86.7   88.9   93.9   90.7   92.6   81.    89.7\n",
      "   96.7   95.    87.    95.1   83.    64.7   93.3   90.9   94.7   94.2\n",
      "   82.8   97.7   92.9   93.5   91.1   81.4   98.4   88.    94.    70.\n",
      "   96.4   68.    94.3   76.2   95.7   90.    74.1   75.    76.7   87.9\n",
      "   95.6   80.    92.1   69.4   85.2   85.    76.    82.4   70.6   89.8\n",
      "   98.3   77.8   92.7   95.9   97.2   68.7   77.4   75.8   66.7   87.5\n",
      "   81.8   97.5   95.3   67.9   95.8   97.9   94.4   60.    86.    64.8\n",
      "   73.3   97.8   89.2   90.6   78.3   68.2   88.4   98.2   86.2   66.    98.\n",
      "   82.6   91.4   91.9   87.8   86.4   71.4   81.5   55.2   63.6   62.5\n",
      "   60.7   83.8   97.3   79.2   89.3   76.5   85.4   73.2   81.2   84.8\n",
      "   94.6   74.4   74.2   84.1   88.6   98.7   91.5   80.4   93.    86.5\n",
      "   57.7   84.2   78.6   80.8   84.4   82.    61.5   82.2   78.    69.\n",
      "   85.3   58.8   87.1   58.6   86.1   58.3   60.6   93.2   77.3   73.7\n",
      "   82.1   90.2   57.1   78.4   62.    54.5   80.6   91.    73.    79.1\n",
      "   93.6   91.2   98.5   70.8   78.1   65.7   98.6   75.9   72.2   50.\n",
      "   88.1   89.1   58.    76.8   69.8   90.4   85.1   83.7   76.1   74.5\n",
      "   67.    61.9   55.6   92.2   79.5   92.5   65.2   71.    81.6   76.3\n",
      "   96.1   72.4   93.4   70.4   56.2   91.8   73.9   79.4   54.1   86.8\n",
      "   83.9   88.7   44.    55.    72.5   94.5   87.7   79.    63.2   77.\n",
      "   65.5   96.5   70.2   71.9   89.4   87.2   84.5   65.4   51.    80.9\n",
      "   63.    84.3   54.    80.5   59.    65.8   86.3   70.7   65.6   77.1\n",
      "   61.3   73.5   64.3   99.    69.6   75.7   67.6   65.    42.9   76.4\n",
      "   73.1   48.7   52.9   45.5   33.3   47.    53.3   74.3   38.9   61.1\n",
      "   55.8   67.7   78.8   94.8   64.    67.4   40.    36.8   53.    56.5\n",
      "   26.7   61.8   58.1   54.8   57.6   53.8   47.6   68.4   44.1   61.4\n",
      "   57.9   77.5   83.6   31.2   48.    81.1   60.9   87.3   90.8   43.7\n",
      "   73.8   59.3   86.6   67.3   57.    93.8   82.7   49.    48.1   52.6\n",
      "   44.4   84.9   41.2   71.8   72.1   62.9   52.2   69.7   53.6   40.7\n",
      "   56.    89.6   47.1   56.8   54.3   98.8   42.1   80.3   61.    63.9\n",
      "   37.8   88.3   79.6   70.3   60.5   68.3   52.    78.2   46.2   30.\n",
      "   54.2   45.    42.4   64.1   47.4   78.7   58.7   84.7   36.    72.6\n",
      "   59.4   36.4   77.9   64.9   95.4   32.3   64.5   20.6   42.    77.2\n",
      "   29.2   85.5   78.5   76.6   52.4   63.3   71.2   56.7   60.4   72.3\n",
      "   70.5   39.3   45.8   68.6   92.8   87.4   71.7   24.2   56.4   16.7\n",
      "   75.6   59.5   65.3   39.4   25.    47.5   68.5   37.5   92.4   18.7\n",
      "   55.9   61.7   46.    63.5   28.6   51.4   43.    47.8   64.4   39.1\n",
      "   75.5   62.1   91.6   48.6   69.5   68.9   83.1   51.6   75.4   77.6\n",
      "   26.3   35.7   86.9   52.1   55.3   63.4   38.5   35.    30.4   98.9\n",
      "   41.     nan   57.5   68.1   34.8   46.7   62.2   45.7   53.1   33.    34.\n",
      "   38.    27.    39.    31.    37.    28.    15.    16.    62.8   81.7\n",
      "   48.4   85.9   27.3   73.6   89.9   30.8   48.3   51.9   44.8   41.7\n",
      "   79.7   45.9   66.2   29.    42.3   65.9   81.3   90.1   51.7   19.\n",
      "   46.9   21.4   72.9   82.3   53.7   63.8   38.1   62.7   66.1   74.6]\n",
      "[   0.    20.    57.1   60.    50.    33.3   37.5  100.     7.7   22.2\n",
      "   25.    66.7   42.9   75.    40.    83.3   16.7   14.3   80.    11.1\n",
      "   28.6   12.5    nan   18.2    9.1   13.3   77.8   85.7   55.6   71.4\n",
      "   41.7   15.4   17.6   54.5   62.5   10.    87.5   46.2    8.3   44.4\n",
      "   63.6   64.3    7.1   45.5   18.7   88.9   92.3   15.8   30.8   21.4\n",
      "   30.    70.     6.2   46.7   21.1   23.5   31.6    4.8   36.4   35.7\n",
      "   90.    27.3   41.2   23.1   72.7    6.7    4.5   45.    53.8   81.8\n",
      "   85.     5.    58.3   72.2   69.2   11.8   38.5   61.5   47.4    5.9\n",
      "   91.7   90.9   84.6   43.7   52.6    4.3   76.9   78.6   17.4    9.5\n",
      "   53.3   26.7    4.    64.7    5.6   13.    31.2   68.7   73.3   15.\n",
      "   86.7   93.3   29.4   52.2    4.2    8.7    5.3   92.9   73.7   19.2\n",
      "   35.3   26.3   19.    42.1   88.2   70.6   18.8   27.8   10.5   82.4\n",
      "   61.9   61.1   47.1   36.8   94.1   22.7    3.7   68.4   58.8   55.\n",
      "   52.9    7.4   95.     0.3    1.     0.8    0.7    0.8    0.5    0.2\n",
      "    0.6    0.4    0.6    0.4    0.3   90.5    0.4   76.2    3.1   23.8\n",
      "   93.7   81.2   38.9   56.2   76.5   35.    94.4   28.1   84.2    3.6\n",
      "   84.    52.4   57.9   28.    10.3   14.8    6.5   94.7    0.2    0.1\n",
      "    0.2    0.6    0.7   95.5]\n",
      "[  1.   0.   2.   3.   4.   5.   7.   6.  nan   8.]\n",
      "[  0.   1.   3.   2.   4.   6.   7.  10.   5.  12.   8.   9.  15.  nan  53.\n",
      "  11.  13.]\n",
      "[ 347470.  369112.  373572. ...,   18074.  263367.  640841.]\n",
      "[  53397.   27849.   68056. ...,  166876.  116175.  259863.]\n",
      "[ 36100.  28200.  38400. ...,   5520.  12727.  10493.]\n",
      "[  47370.   21124.   82117. ...,   49157.   66120.  255318.]\n"
     ]
    }
   ],
   "source": [
    "for col in fulldf:\n",
    "    print fulldf[col].unique()"
   ]
  },
  {
   "cell_type": "code",
   "execution_count": 53,
   "metadata": {
    "collapsed": true
   },
   "outputs": [],
   "source": [
    "# Get DF of All Numerical Inputes\n",
    "cols = X_full.columns\n",
    "for col in cols:\n",
    "    if X_full[col].dtype != \"float64\":\n",
    "        x_numeric = X_full.drop(col, axis=1)"
   ]
  },
  {
   "cell_type": "code",
   "execution_count": 54,
   "metadata": {
    "collapsed": true
   },
   "outputs": [],
   "source": [
    "# Get DF of all Non-Numeric Predictors\n",
    "for col in cols:\n",
    "    if X_full[col].dtype == \"float64\":\n",
    "        x_alpha = X_full.drop(col, axis=1)"
   ]
  },
  {
   "cell_type": "code",
   "execution_count": 55,
   "metadata": {
    "collapsed": true
   },
   "outputs": [],
   "source": [
    "### !!!! WARNING !!!! ### LOOP CRASHES KERNAL"
   ]
  },
  {
   "cell_type": "code",
   "execution_count": 56,
   "metadata": {
    "collapsed": true
   },
   "outputs": [],
   "source": [
    "# Pandas One Hot Encoding #"
   ]
  },
  {
   "cell_type": "code",
   "execution_count": 57,
   "metadata": {
    "collapsed": false
   },
   "outputs": [
    {
     "ename": "MemoryError",
     "evalue": "",
     "output_type": "error",
     "traceback": [
      "\u001b[0;31m---------------------------------------------------------------------------\u001b[0m",
      "\u001b[0;31mMemoryError\u001b[0m                               Traceback (most recent call last)",
      "\u001b[0;32m<ipython-input-57-3d6a651edc7d>\u001b[0m in \u001b[0;36m<module>\u001b[0;34m()\u001b[0m\n\u001b[1;32m      3\u001b[0m \u001b[0mx_expanded\u001b[0m \u001b[0;34m=\u001b[0m \u001b[0mx_numeric\u001b[0m\u001b[0;34m\u001b[0m\u001b[0m\n\u001b[1;32m      4\u001b[0m \u001b[0;32mfor\u001b[0m \u001b[0mcol\u001b[0m \u001b[0;32min\u001b[0m \u001b[0mcols\u001b[0m\u001b[0;34m:\u001b[0m\u001b[0;34m\u001b[0m\u001b[0m\n\u001b[0;32m----> 5\u001b[0;31m     \u001b[0mcol_series\u001b[0m \u001b[0;34m=\u001b[0m \u001b[0mpd\u001b[0m\u001b[0;34m.\u001b[0m\u001b[0mget_dummies\u001b[0m\u001b[0;34m(\u001b[0m\u001b[0mx_alpha\u001b[0m\u001b[0;34m[\u001b[0m\u001b[0mcol\u001b[0m\u001b[0;34m]\u001b[0m\u001b[0;34m)\u001b[0m\u001b[0;34m\u001b[0m\u001b[0m\n\u001b[0m\u001b[1;32m      6\u001b[0m     \u001b[0mx_expanded\u001b[0m \u001b[0;34m=\u001b[0m \u001b[0mpd\u001b[0m\u001b[0;34m.\u001b[0m\u001b[0mconcat\u001b[0m\u001b[0;34m(\u001b[0m\u001b[0;34m[\u001b[0m\u001b[0mx_expanded\u001b[0m\u001b[0;34m,\u001b[0m \u001b[0mcol_series\u001b[0m\u001b[0;34m]\u001b[0m\u001b[0;34m,\u001b[0m \u001b[0maxis\u001b[0m\u001b[0;34m=\u001b[0m\u001b[0;36m1\u001b[0m\u001b[0;34m)\u001b[0m\u001b[0;34m\u001b[0m\u001b[0m\n\u001b[1;32m      7\u001b[0m \u001b[0;34m\u001b[0m\u001b[0m\n",
      "\u001b[0;32m/home/ubuntu/anaconda3/envs/cs109a_proj/lib/python2.7/site-packages/pandas/core/reshape.pyc\u001b[0m in \u001b[0;36mget_dummies\u001b[0;34m(data, prefix, prefix_sep, dummy_na, columns, sparse, drop_first)\u001b[0m\n\u001b[1;32m   1096\u001b[0m     \u001b[0;32melse\u001b[0m\u001b[0;34m:\u001b[0m\u001b[0;34m\u001b[0m\u001b[0m\n\u001b[1;32m   1097\u001b[0m         result = _get_dummies_1d(data, prefix, prefix_sep, dummy_na,\n\u001b[0;32m-> 1098\u001b[0;31m                                  sparse=sparse, drop_first=drop_first)\n\u001b[0m\u001b[1;32m   1099\u001b[0m     \u001b[0;32mreturn\u001b[0m \u001b[0mresult\u001b[0m\u001b[0;34m\u001b[0m\u001b[0m\n\u001b[1;32m   1100\u001b[0m \u001b[0;34m\u001b[0m\u001b[0m\n",
      "\u001b[0;32m/home/ubuntu/anaconda3/envs/cs109a_proj/lib/python2.7/site-packages/pandas/core/reshape.pyc\u001b[0m in \u001b[0;36m_get_dummies_1d\u001b[0;34m(data, prefix, prefix_sep, dummy_na, sparse, drop_first)\u001b[0m\n\u001b[1;32m   1164\u001b[0m \u001b[0;34m\u001b[0m\u001b[0m\n\u001b[1;32m   1165\u001b[0m     \u001b[0;32melse\u001b[0m\u001b[0;34m:\u001b[0m\u001b[0;34m\u001b[0m\u001b[0m\n\u001b[0;32m-> 1166\u001b[0;31m         \u001b[0mdummy_mat\u001b[0m \u001b[0;34m=\u001b[0m \u001b[0mnp\u001b[0m\u001b[0;34m.\u001b[0m\u001b[0meye\u001b[0m\u001b[0;34m(\u001b[0m\u001b[0mnumber_of_cols\u001b[0m\u001b[0;34m)\u001b[0m\u001b[0;34m.\u001b[0m\u001b[0mtake\u001b[0m\u001b[0;34m(\u001b[0m\u001b[0mcodes\u001b[0m\u001b[0;34m,\u001b[0m \u001b[0maxis\u001b[0m\u001b[0;34m=\u001b[0m\u001b[0;36m0\u001b[0m\u001b[0;34m)\u001b[0m\u001b[0;34m\u001b[0m\u001b[0m\n\u001b[0m\u001b[1;32m   1167\u001b[0m \u001b[0;34m\u001b[0m\u001b[0m\n\u001b[1;32m   1168\u001b[0m         \u001b[0;32mif\u001b[0m \u001b[0;32mnot\u001b[0m \u001b[0mdummy_na\u001b[0m\u001b[0;34m:\u001b[0m\u001b[0;34m\u001b[0m\u001b[0m\n",
      "\u001b[0;31mMemoryError\u001b[0m: "
     ]
    }
   ],
   "source": [
    "cols = x_alpha.columns      \n",
    "#Create DF With All Predictors Encoded\n",
    "x_expanded = x_numeric\n",
    "for col in cols:\n",
    "    col_series = pd.get_dummies(x_alpha[col])\n",
    "    x_expanded = pd.concat([x_expanded, col_series], axis=1)\n",
    "    \n",
    "print x_expanded.shape"
   ]
  },
  {
   "cell_type": "code",
   "execution_count": null,
   "metadata": {
    "collapsed": true
   },
   "outputs": [],
   "source": [
    "# SKLearn One Hot Encoding #"
   ]
  },
  {
   "cell_type": "code",
   "execution_count": 58,
   "metadata": {
    "collapsed": false
   },
   "outputs": [
    {
     "ename": "ValueError",
     "evalue": "cannot convert float NaN to integer",
     "output_type": "error",
     "traceback": [
      "\u001b[0;31m---------------------------------------------------------------------------\u001b[0m",
      "\u001b[0;31mValueError\u001b[0m                                Traceback (most recent call last)",
      "\u001b[0;32m<ipython-input-58-46d5f2988b66>\u001b[0m in \u001b[0;36m<module>\u001b[0;34m()\u001b[0m\n\u001b[1;32m      1\u001b[0m \u001b[0;32mfrom\u001b[0m \u001b[0msklearn\u001b[0m\u001b[0;34m.\u001b[0m\u001b[0mpreprocessing\u001b[0m \u001b[0;32mimport\u001b[0m \u001b[0mOneHotEncoder\u001b[0m\u001b[0;34m\u001b[0m\u001b[0m\n\u001b[1;32m      2\u001b[0m \u001b[0menc\u001b[0m \u001b[0;34m=\u001b[0m \u001b[0mOneHotEncoder\u001b[0m\u001b[0;34m(\u001b[0m\u001b[0;34m)\u001b[0m\u001b[0;34m\u001b[0m\u001b[0m\n\u001b[0;32m----> 3\u001b[0;31m \u001b[0menc\u001b[0m\u001b[0;34m.\u001b[0m\u001b[0mfit\u001b[0m\u001b[0;34m(\u001b[0m\u001b[0mx_alpha\u001b[0m\u001b[0;34m)\u001b[0m\u001b[0;34m\u001b[0m\u001b[0m\n\u001b[0m\u001b[1;32m      4\u001b[0m \u001b[0mOneHotEncoder\u001b[0m\u001b[0;34m(\u001b[0m\u001b[0mcategorical_features\u001b[0m\u001b[0;34m=\u001b[0m\u001b[0;34m'all'\u001b[0m\u001b[0;34m,\u001b[0m \u001b[0mhandle_unknown\u001b[0m\u001b[0;34m=\u001b[0m\u001b[0;34m'error'\u001b[0m\u001b[0;34m,\u001b[0m \u001b[0mn_values\u001b[0m\u001b[0;34m=\u001b[0m\u001b[0;34m'auto'\u001b[0m\u001b[0;34m,\u001b[0m \u001b[0msparse\u001b[0m\u001b[0;34m=\u001b[0m\u001b[0mFalse\u001b[0m\u001b[0;34m)\u001b[0m\u001b[0;34m\u001b[0m\u001b[0m\n\u001b[1;32m      5\u001b[0m \u001b[0menc\u001b[0m\u001b[0;34m.\u001b[0m\u001b[0mn_values_\u001b[0m\u001b[0;34m\u001b[0m\u001b[0m\n",
      "\u001b[0;32m/home/ubuntu/anaconda3/envs/cs109a_proj/lib/python2.7/site-packages/sklearn/preprocessing/data.pyc\u001b[0m in \u001b[0;36mfit\u001b[0;34m(self, X, y)\u001b[0m\n\u001b[1;32m   1756\u001b[0m         \u001b[0mself\u001b[0m\u001b[0;34m\u001b[0m\u001b[0m\n\u001b[1;32m   1757\u001b[0m         \"\"\"\n\u001b[0;32m-> 1758\u001b[0;31m         \u001b[0mself\u001b[0m\u001b[0;34m.\u001b[0m\u001b[0mfit_transform\u001b[0m\u001b[0;34m(\u001b[0m\u001b[0mX\u001b[0m\u001b[0;34m)\u001b[0m\u001b[0;34m\u001b[0m\u001b[0m\n\u001b[0m\u001b[1;32m   1759\u001b[0m         \u001b[0;32mreturn\u001b[0m \u001b[0mself\u001b[0m\u001b[0;34m\u001b[0m\u001b[0m\n\u001b[1;32m   1760\u001b[0m \u001b[0;34m\u001b[0m\u001b[0m\n",
      "\u001b[0;32m/home/ubuntu/anaconda3/envs/cs109a_proj/lib/python2.7/site-packages/sklearn/preprocessing/data.pyc\u001b[0m in \u001b[0;36mfit_transform\u001b[0;34m(self, X, y)\u001b[0m\n\u001b[1;32m   1812\u001b[0m         \"\"\"\n\u001b[1;32m   1813\u001b[0m         return _transform_selected(X, self._fit_transform,\n\u001b[0;32m-> 1814\u001b[0;31m                                    self.categorical_features, copy=True)\n\u001b[0m\u001b[1;32m   1815\u001b[0m \u001b[0;34m\u001b[0m\u001b[0m\n\u001b[1;32m   1816\u001b[0m     \u001b[0;32mdef\u001b[0m \u001b[0m_transform\u001b[0m\u001b[0;34m(\u001b[0m\u001b[0mself\u001b[0m\u001b[0;34m,\u001b[0m \u001b[0mX\u001b[0m\u001b[0;34m)\u001b[0m\u001b[0;34m:\u001b[0m\u001b[0;34m\u001b[0m\u001b[0m\n",
      "\u001b[0;32m/home/ubuntu/anaconda3/envs/cs109a_proj/lib/python2.7/site-packages/sklearn/preprocessing/data.pyc\u001b[0m in \u001b[0;36m_transform_selected\u001b[0;34m(X, transform, selected, copy)\u001b[0m\n\u001b[1;32m   1623\u001b[0m     \"\"\"\n\u001b[1;32m   1624\u001b[0m     \u001b[0;32mif\u001b[0m \u001b[0misinstance\u001b[0m\u001b[0;34m(\u001b[0m\u001b[0mselected\u001b[0m\u001b[0;34m,\u001b[0m \u001b[0msix\u001b[0m\u001b[0;34m.\u001b[0m\u001b[0mstring_types\u001b[0m\u001b[0;34m)\u001b[0m \u001b[0;32mand\u001b[0m \u001b[0mselected\u001b[0m \u001b[0;34m==\u001b[0m \u001b[0;34m\"all\"\u001b[0m\u001b[0;34m:\u001b[0m\u001b[0;34m\u001b[0m\u001b[0m\n\u001b[0;32m-> 1625\u001b[0;31m         \u001b[0;32mreturn\u001b[0m \u001b[0mtransform\u001b[0m\u001b[0;34m(\u001b[0m\u001b[0mX\u001b[0m\u001b[0;34m)\u001b[0m\u001b[0;34m\u001b[0m\u001b[0m\n\u001b[0m\u001b[1;32m   1626\u001b[0m \u001b[0;34m\u001b[0m\u001b[0m\n\u001b[1;32m   1627\u001b[0m     \u001b[0mX\u001b[0m \u001b[0;34m=\u001b[0m \u001b[0mcheck_array\u001b[0m\u001b[0;34m(\u001b[0m\u001b[0mX\u001b[0m\u001b[0;34m,\u001b[0m \u001b[0maccept_sparse\u001b[0m\u001b[0;34m=\u001b[0m\u001b[0;34m'csc'\u001b[0m\u001b[0;34m,\u001b[0m \u001b[0mcopy\u001b[0m\u001b[0;34m=\u001b[0m\u001b[0mcopy\u001b[0m\u001b[0;34m,\u001b[0m \u001b[0mdtype\u001b[0m\u001b[0;34m=\u001b[0m\u001b[0mFLOAT_DTYPES\u001b[0m\u001b[0;34m)\u001b[0m\u001b[0;34m\u001b[0m\u001b[0m\n",
      "\u001b[0;32m/home/ubuntu/anaconda3/envs/cs109a_proj/lib/python2.7/site-packages/sklearn/preprocessing/data.pyc\u001b[0m in \u001b[0;36m_fit_transform\u001b[0;34m(self, X)\u001b[0m\n\u001b[1;32m   1761\u001b[0m     \u001b[0;32mdef\u001b[0m \u001b[0m_fit_transform\u001b[0m\u001b[0;34m(\u001b[0m\u001b[0mself\u001b[0m\u001b[0;34m,\u001b[0m \u001b[0mX\u001b[0m\u001b[0;34m)\u001b[0m\u001b[0;34m:\u001b[0m\u001b[0;34m\u001b[0m\u001b[0m\n\u001b[1;32m   1762\u001b[0m         \u001b[0;34m\"\"\"Assumes X contains only categorical features.\"\"\"\u001b[0m\u001b[0;34m\u001b[0m\u001b[0m\n\u001b[0;32m-> 1763\u001b[0;31m         \u001b[0mX\u001b[0m \u001b[0;34m=\u001b[0m \u001b[0mcheck_array\u001b[0m\u001b[0;34m(\u001b[0m\u001b[0mX\u001b[0m\u001b[0;34m,\u001b[0m \u001b[0mdtype\u001b[0m\u001b[0;34m=\u001b[0m\u001b[0mnp\u001b[0m\u001b[0;34m.\u001b[0m\u001b[0mint\u001b[0m\u001b[0;34m)\u001b[0m\u001b[0;34m\u001b[0m\u001b[0m\n\u001b[0m\u001b[1;32m   1764\u001b[0m         \u001b[0;32mif\u001b[0m \u001b[0mnp\u001b[0m\u001b[0;34m.\u001b[0m\u001b[0many\u001b[0m\u001b[0;34m(\u001b[0m\u001b[0mX\u001b[0m \u001b[0;34m<\u001b[0m \u001b[0;36m0\u001b[0m\u001b[0;34m)\u001b[0m\u001b[0;34m:\u001b[0m\u001b[0;34m\u001b[0m\u001b[0m\n\u001b[1;32m   1765\u001b[0m             \u001b[0;32mraise\u001b[0m \u001b[0mValueError\u001b[0m\u001b[0;34m(\u001b[0m\u001b[0;34m\"X needs to contain only non-negative integers.\"\u001b[0m\u001b[0;34m)\u001b[0m\u001b[0;34m\u001b[0m\u001b[0m\n",
      "\u001b[0;32m/home/ubuntu/anaconda3/envs/cs109a_proj/lib/python2.7/site-packages/sklearn/utils/validation.pyc\u001b[0m in \u001b[0;36mcheck_array\u001b[0;34m(array, accept_sparse, dtype, order, copy, force_all_finite, ensure_2d, allow_nd, ensure_min_samples, ensure_min_features, warn_on_dtype, estimator)\u001b[0m\n\u001b[1;32m    371\u001b[0m                                       force_all_finite)\n\u001b[1;32m    372\u001b[0m     \u001b[0;32melse\u001b[0m\u001b[0;34m:\u001b[0m\u001b[0;34m\u001b[0m\u001b[0m\n\u001b[0;32m--> 373\u001b[0;31m         \u001b[0marray\u001b[0m \u001b[0;34m=\u001b[0m \u001b[0mnp\u001b[0m\u001b[0;34m.\u001b[0m\u001b[0marray\u001b[0m\u001b[0;34m(\u001b[0m\u001b[0marray\u001b[0m\u001b[0;34m,\u001b[0m \u001b[0mdtype\u001b[0m\u001b[0;34m=\u001b[0m\u001b[0mdtype\u001b[0m\u001b[0;34m,\u001b[0m \u001b[0morder\u001b[0m\u001b[0;34m=\u001b[0m\u001b[0morder\u001b[0m\u001b[0;34m,\u001b[0m \u001b[0mcopy\u001b[0m\u001b[0;34m=\u001b[0m\u001b[0mcopy\u001b[0m\u001b[0;34m)\u001b[0m\u001b[0;34m\u001b[0m\u001b[0m\n\u001b[0m\u001b[1;32m    374\u001b[0m \u001b[0;34m\u001b[0m\u001b[0m\n\u001b[1;32m    375\u001b[0m         \u001b[0;32mif\u001b[0m \u001b[0mensure_2d\u001b[0m\u001b[0;34m:\u001b[0m\u001b[0;34m\u001b[0m\u001b[0m\n",
      "\u001b[0;31mValueError\u001b[0m: cannot convert float NaN to integer"
     ]
    }
   ],
   "source": [
    "from sklearn.preprocessing import OneHotEncoder\n",
    "enc = OneHotEncoder()\n",
    "enc.fit(x_alpha)  \n",
    "OneHotEncoder(categorical_features='all', handle_unknown='error', n_values='auto', sparse=False)\n",
    "enc.n_values_\n",
    "enc.feature_indices_\n",
    "#enc.transform().toarray()\n"
   ]
  },
  {
   "cell_type": "code",
   "execution_count": null,
   "metadata": {
    "collapsed": true
   },
   "outputs": [],
   "source": [
    "cols = x_alpha.columns      \n",
    "#Create DF With All Predictors Encoded\n",
    "x_expanded = x_numeric\n",
    "for col in cols:\n",
    "    col_series = pd.get_dummies(x_alpha[col])\n",
    "    x_expanded = pd.concat([x_expanded, col_series], axis=1)\n",
    "    \n",
    "print x_expanded.shape"
   ]
  },
  {
   "cell_type": "code",
   "execution_count": null,
   "metadata": {
    "collapsed": false
   },
   "outputs": [],
   "source": [
    "x_train, x_test, y_train, y_test = train_test_split(x_expanded, y, test_size=0.2)"
   ]
  },
  {
   "cell_type": "code",
   "execution_count": null,
   "metadata": {
    "collapsed": true
   },
   "outputs": [],
   "source": [
    "\n",
    "    \n",
    "        \n",
    "\n",
    "        "
   ]
  },
  {
   "cell_type": "markdown",
   "metadata": {},
   "source": [
    "# V. Standard Models"
   ]
  },
  {
   "cell_type": "markdown",
   "metadata": {},
   "source": [
    "### (1) Logistic Regression"
   ]
  },
  {
   "cell_type": "markdown",
   "metadata": {},
   "source": [
    "<font size=3><u> Overview</u> </font>"
   ]
  },
  {
   "cell_type": "markdown",
   "metadata": {},
   "source": [
    "We first modeled defaults using logistic regression to learn more about the data features and get the basic performance of our prediction. To first get boundaries of iterations needed for Newton as well as understand predictive contribution from each data features, we trial-trained with a logistic classification on all features.\n",
    "\n",
    "The training and test converges to an optimal solution within 5 iterations, and overall we reached a test accuracy of 92.9% and a test specificity of 75.8%.\n",
    "\n"
   ]
  },
  {
   "cell_type": "code",
   "execution_count": null,
   "metadata": {
    "collapsed": true
   },
   "outputs": [],
   "source": [
    "C = [0.001, 0.003, 0.01, 0.03, 0.1, 0.3, 1, 3, 10, 30, 100, 300] %// you must choose your own set of values for the parameters that you want to test. You can either do it this way by explicitly typing out a list\n",
    "S = 0:0.1:1 %// or you can do it this way using the : operator\n",
    "fscores = zeros(numel(C), numel(S)); %// Pre-allocation\n",
    "for c = 1:numel(C)   \n",
    "    for s = 1:numel(S)\n",
    "        vals = crossval(@(XTRAIN, YTRAIN, XVAL, YVAL)(fun(x_train, y_train, x_train, y_train, C(c), S(c)),input(trIdx,:),target(trIdx));\n",
    "        fscores(c,s) = mean(vals);\n",
    "    end\n",
    "end\n",
    "\n",
    "%// Then establish the C and S that gave you the bet f-score. Don't forget that c and s are just indexes though!\n",
    "[cbest, sbest] = find(fscores == max(fscores(:)));\n",
    "C_final = C(cbest);\n",
    "S_final = S(sbest);"
   ]
  },
  {
   "cell_type": "markdown",
   "metadata": {},
   "source": [
    "** !! INSERT FEATURE MODELS !!**"
   ]
  },
  {
   "cell_type": "markdown",
   "metadata": {},
   "source": []
  },
  {
   "cell_type": "markdown",
   "metadata": {},
   "source": [
    "<font size=3><u> Bias Variance Tradeoff</u> </font>"
   ]
  },
  {
   "cell_type": "markdown",
   "metadata": {},
   "source": [
    "To evaluation the tradeoff between bias and variance in our logistic model, we ran tested different sample sizes and charted the impact on accuracy:"
   ]
  },
  {
   "cell_type": "markdown",
   "metadata": {},
   "source": [
    "<i>(a) Training vs. test errors</i>"
   ]
  },
  {
   "cell_type": "markdown",
   "metadata": {},
   "source": [
    "** !! INSERT GRAPH !!**\n",
    "Y-Axis = MSE\n",
    "X-axis = Training Sample Size"
   ]
  },
  {
   "cell_type": "markdown",
   "metadata": {},
   "source": [
    "<i> (b) Training vs. test specificity ** </i>"
   ]
  },
  {
   "cell_type": "markdown",
   "metadata": {},
   "source": [
    "** !! INSERT GRAPH !!**\n",
    "Y-Axis = Speceficity (# correct prediction / # actual defaults)\n",
    "X-axis = Training Sample Size"
   ]
  },
  {
   "cell_type": "markdown",
   "metadata": {},
   "source": [
    "The test and training error converged **!!(with a sample size >= 5,000)!!** and we see that we may have **!!(a high bias problem as increasing sample size still resulted in a >5% test error. From the sensitivity chart, however, we see that sensitivity fluctuates)**!! with additional sample size, suggesting that the default prediction might potentially benefit from filtering on existing features even though test error has stabilized."
   ]
  },
  {
   "cell_type": "markdown",
   "metadata": {},
   "source": [
    "<font size=4><u> Feature Selection</u> </font>"
   ]
  },
  {
   "cell_type": "markdown",
   "metadata": {},
   "source": [
    "In exploring the dataset, we ran a logistic model on each each available predictor. We found that for prediction on default rate (specificity), the credit score for the borrower is the most predicative of all features, followed by borrower population; while interest rate has a negative impact as the number was subject to sporadic adjustment from Lending Club, and fields like loan description or borrower’s lower fico range, where there are a lot of zero values, would worsen the default prediction. After we filtered out features that decreased our test specificity, such as last_fico_range_low, installment, open_acc, desc, int_rate, we managed to bump specificity from **!!(75.8% to 77.1%)!!** without hurting overall test accuracy.\n",
    "\n",
    "Data From: http://cs229.stanford.edu/proj2015/199_report.pdf"
   ]
  },
  {
   "cell_type": "code",
   "execution_count": null,
   "metadata": {
    "collapsed": true
   },
   "outputs": [],
   "source": [
    "Drop above columns"
   ]
  },
  {
   "cell_type": "markdown",
   "metadata": {},
   "source": [
    "** Table 1: Performance of Logistic Model with feature selection **"
   ]
  },
  {
   "cell_type": "markdown",
   "metadata": {},
   "source": [
    "Num Newton Accu Prec Sens Spec G-mean\n",
    "30 Iterations 92.8 96.6 95.1 77.1 85.7"
   ]
  },
  {
   "cell_type": "markdown",
   "metadata": {},
   "source": [
    "### (2) Native Bayes"
   ]
  },
  {
   "cell_type": "markdown",
   "metadata": {},
   "source": [
    "<font size=3><u> Overview</u> </font>"
   ]
  },
  {
   "cell_type": "markdown",
   "metadata": {},
   "source": [
    "**!! Native Bayes (Gaussian, Bernoulli, and Multinomial) | Laplace Smoothing = 1 !!**"
   ]
  },
  {
   "cell_type": "markdown",
   "metadata": {},
   "source": [
    "We used a Laplace smoothing factor of 1 and ran Naive Bayes using Gaussian, Bernoulli, and Multinomial probability distributions.\n",
    "\n",
    "For Bernoulli Naive Bayes, where we require boolean feature values, we binarized the features and values. Multinomial probability distributions take discrete feature values, so we rounded any decimal feature values to the closest integers."
   ]
  },
  {
   "cell_type": "code",
   "execution_count": null,
   "metadata": {
    "collapsed": true
   },
   "outputs": [],
   "source": [
    "Distribution Accu Prec Sens Spec G-mean\n",
    "Gaussian 91.1 96.6 92.7 80.4 86.3\n",
    "Bernoulli 88.5 91.0 96.2 36.9 59.6\n",
    "Multinomial 61.9 88.7 64.4 45.8 54.3"
   ]
  },
  {
   "cell_type": "markdown",
   "metadata": {},
   "source": [
    "Gaussian Naive Bayes returns the most desirable performance on the test dataset. Bernoulli and Multinomial significantly underperformed Gaussian Naive Bayes."
   ]
  },
  {
   "cell_type": "markdown",
   "metadata": {},
   "source": [
    "<font size=3><u> Bias Variance Tradeoff</u> </font>"
   ]
  },
  {
   "cell_type": "markdown",
   "metadata": {},
   "source": [
    "In order to determine whether we are seeing high bias or\n",
    "high variance, we compare the training error to the test error\n",
    "for each case of Naive Bayes."
   ]
  },
  {
   "cell_type": "markdown",
   "metadata": {},
   "source": [
    "In an effort to reduce the error rate for Gaussian Naive Bayes, an additional feature of median income by zip code and descriptions was included in the dataset. The test error for Gaussian Naive Bayes decreased from 8.94% to 8.64% (by 0.3%). However, specificity decreased from 80.4% to 80.1% with the external dataset included."
   ]
  },
  {
   "cell_type": "code",
   "execution_count": null,
   "metadata": {
    "collapsed": true
   },
   "outputs": [],
   "source": [
    "Distribution Accu Prec Sens Spec G-mean\n",
    "Gaussian 91.3 96.9 93.0 80.1 86.3"
   ]
  },
  {
   "cell_type": "markdown",
   "metadata": {},
   "source": [
    "### (3) SVM"
   ]
  },
  {
   "cell_type": "markdown",
   "metadata": {},
   "source": [
    "<font size=3><u> Overview</u> </font>"
   ]
  },
  {
   "cell_type": "markdown",
   "metadata": {},
   "source": [
    "Since the training data is likely not linearly separable, and not guaranteed to be separable even in higher-dimensional feature spaces, we will use L1 (LASSO) regularization (soft margin SVM). \n",
    "\n",
    "For training data points (x(i), y(i)), the model is the result of the optimization:\n",
    "\n",
    "<img src=\"https://wikimedia.org/api/rest_v1/media/math/render/svg/d9e948f6526c060d6cd63bd27631e213113c0ecd\" class=\"mwe-math-fallback-image-inline\" aria-hidden=\"true\" style=\"vertical-align: -2.171ex; width:27.957ex; height:5.509ex;\" alt=\"\\min _{w\\in \\mathbb {R} ^{p}}{\\frac {1}{n}}\\|{\\hat {X}}w-{\\hat {Y}}\\|^{2}+\\lambda \\|w\\|_{1}\">\n",
    "\n",
    "First, in an effort to prevent features with larger numeric values (absolute value) from dominating features with smaller numeric values, we normalized the dataset by scaling the values of each feature to [-1, 1]. Furthermore, normalizion prevents numeric problems such as overflows in situations where kernel values involve the inner products of feature vectors, which is anticipated in this instance. \n",
    "\n",
    "Note: The same scaling factor was applied to both the training and test data. "
   ]
  },
  {
   "cell_type": "code",
   "execution_count": null,
   "metadata": {
    "collapsed": false,
    "scrolled": true
   },
   "outputs": [],
   "source": [
    "from sklearn.preprocessing import StandardScaler\n",
    "scaler = StandardScaler()\n",
    "scaler.fit(train_predictors)\n",
    "scaler.fit(test_predictors)\n",
    "scaled_data_train = scaler.transform(train_predictors)\n",
    "scaled_data_test = scaler.transform(test_predictors)"
   ]
  },
  {
   "cell_type": "code",
   "execution_count": null,
   "metadata": {
    "collapsed": true
   },
   "outputs": [],
   "source": [
    "C = [0.001, 0.003, 0.01, 0.03, 0.1, 0.3, 1, 3, 10, 30, 100, 300] %// you must choose your own set of values for the parameters that you want to test. You can either do it this way by explicitly typing out a list\n",
    "S = 0:0.1:1 %// or you can do it this way using the : operator\n",
    "fscores = zeros(numel(C), numel(S)); %// Pre-allocation\n",
    "for c = 1:numel(C)   \n",
    "    for s = 1:numel(S)\n",
    "        vals = crossval(@(XTRAIN, YTRAIN, XVAL, YVAL)(fun(XTRAIN, YTRAIN, XVAL, YVAL, C(c), S(c)),input(trIdx,:),target(trIdx));\n",
    "        fscores(c,s) = mean(vals);\n",
    "    end\n",
    "end\n",
    "\n",
    "%// Then establish the C and S that gave you the bet f-score. Don't forget that c and s are just indexes though!\n",
    "[cbest, sbest] = find(fscores == max(fscores(:)));\n",
    "C_final = C(cbest);\n",
    "S_final = S(sbest);"
   ]
  },
  {
   "cell_type": "markdown",
   "metadata": {},
   "source": [
    "SVM has a degrading performance on highly imbalanced datasets [10], so we should experiment with balancing the datasets as best as possible to improve SVM prediction."
   ]
  },
  {
   "cell_type": "markdown",
   "metadata": {},
   "source": [
    "<font size=3><u>Balancing The Dataset</u> </font>"
   ]
  },
  {
   "cell_type": "markdown",
   "metadata": {},
   "source": [
    "<font size=3><u>Opitiization</u> </font> "
   ]
  },
  {
   "cell_type": "markdown",
   "metadata": {},
   "source": [
    "SVM model performance depends on three inputs: the kernel, the kernel parmeters, and the soft margin parameter C. We attempted to optimize each of these values. "
   ]
  },
  {
   "cell_type": "markdown",
   "metadata": {},
   "source": [
    "#### Kernal Selection"
   ]
  },
  {
   "cell_type": "markdown",
   "metadata": {},
   "source": [
    "We investigate some commonly used kernels (linear, polynomial, Gaussian radial basis function, and sigmoid) and compare performance. We used LibSVM [8] with default settings (C-SVC, C = 1, γ = 1/# of features, d = 3), and trained the model with the first 70% of the loans and tested the models on the last 30% of the loans in our dataset.\n",
    "\n",
    "Linear: $K(x, z) = x^Tz$ <br>\n",
    "Polynomial: $K(x, z) = (γ(x^Tz + 1))^d$ <br>\n",
    "RBF: $K(x, z) = e^(−γ||x−z||^2)$ <br>\n",
    "Sigmoid: $K(x, z) = tanh(γx^Tz + d)$ <br>"
   ]
  },
  {
   "cell_type": "markdown",
   "metadata": {},
   "source": [
    "**!!(SVM Results #1)!!**"
   ]
  },
  {
   "cell_type": "code",
   "execution_count": null,
   "metadata": {
    "collapsed": true
   },
   "outputs": [],
   "source": [
    "Kernel Accu Prec Sens Spec G-mean\n",
    "Linear 93.0 96.6 95.3 77.7 86.1\n",
    "Polynomial 93.0 94.5 97.6 61.8 77.7\n",
    "RBF 92.8 93.9 98.0 57.5 75.1\n",
    "Sigmoid 90.8 91.8 98.2 41.0 63.5"
   ]
  },
  {
   "cell_type": "markdown",
   "metadata": {},
   "source": [
    "**!!(Baseline Model #1)!!**, which merely predicts every loan to be non-defaulting, achieves an accuracy of 87.0%, which is the fraction of test data that are actually positive, so we see that SVM improves predictions."
   ]
  },
  {
   "cell_type": "markdown",
   "metadata": {},
   "source": [
    "<font size=3><u> Bias Viariance Tradeoff</u> </font>"
   ]
  },
  {
   "cell_type": "code",
   "execution_count": null,
   "metadata": {
    "collapsed": true
   },
   "outputs": [],
   "source": [
    "** !! INSERT FEATURE MODELS !!**\n",
    "Y-Axis = MSE\n",
    "X-axis = Training Sample Size"
   ]
  },
  {
   "cell_type": "markdown",
   "metadata": {},
   "source": [
    "We run SVM with a linear kernel with variable number of training examples, then compare the training error with the test error to determine whether we are likely to be encountering high bias or high variance in our SVM model with the dataset that we have."
   ]
  },
  {
   "cell_type": "markdown",
   "metadata": {},
   "source": [
    "The test and training errors converge quickly relative to the number of training examples available, and the gap between them is small, suggesting a high bias in the model. Thus we will increase the number of features by expanding zip code into census data, as well as identifying important words in the loan title and description. Adding median income, mean income, and population fields extrapolated from the zip code, we see a minute 0.1% increase in precision and 0.2% increase in specificity, with all other performance metrics remaining the same. Adding the words selected via TF-IDF as boolean features, we see an increase across all performance metrics, including a 0.6% boost in G-mean."
   ]
  },
  {
   "cell_type": "markdown",
   "metadata": {},
   "source": [
    "<font size=3><u>Soft Margin Parameters</u> </font> "
   ]
  },
  {
   "cell_type": "markdown",
   "metadata": {},
   "source": [
    "We experimented with different values of the soft margin parameter C. We ran linear kernel SVM with $C ={10^−6, 10^−4, 10^−2, 1, 10^2}$. Ultimately, we found that using **!!($C = 1$)!!** yielded the best performance."
   ]
  },
  {
   "cell_type": "markdown",
   "metadata": {},
   "source": [
    "### (4) Random Forest"
   ]
  },
  {
   "cell_type": "markdown",
   "metadata": {},
   "source": [
    "<font size=3><u> Overview</u> </font>"
   ]
  },
  {
   "cell_type": "markdown",
   "metadata": {},
   "source": [
    "**!!(Train On Precision))!!**"
   ]
  },
  {
   "cell_type": "code",
   "execution_count": null,
   "metadata": {
    "collapsed": true
   },
   "outputs": [],
   "source": [
    "rf = ensemble.RandomForestClassifier(n_jobs=-1,n_estimators=50,oob_score=True,max_depth=6)\n",
    "# set the various grid params to consider for tuning\n",
    "param_grid = {\n",
    "   'n_estimators': [500,700,1000],\n",
    "   'max_features': ['auto', 'sqrt', 'log2'],\n",
    "   'oob_score' :[True,False],\n",
    "   'max_depth' :[5,10,20,50,100,200],\n",
    "   'min_samples_leaf' : [1,10,20,50,100]\n",
    "}\n",
    "rf_cv = grid_search.GridSearchCV(n_jobs=2, estimator=rf, param_grid=param_grid, cv= 5)\n",
    "rf_cv.fit(train_predictors, train_labels)\n",
    "# Calculate the Best Random Forest Score\n",
    "rf = ensemble.RandomForestClassifier(n_jobs=-1,\n",
    "                                    max_features=rf_cv.best_params_['max_features'],\n",
    "                                    n_estimators=rf_cv.best_params_['n_estimators'],\n",
    "                                    oob_score=rf_cv.best_params_['oob_score'],\n",
    "                                    max_depth=rf_cv.best_params_['max_depth'],\n",
    "                                    min_samples_leaf=rf_cv.best_params_['min_samples_leaf']\n",
    "                                   )\n",
    "rf.fit(train_predictors, train_labels)\n"
   ]
  },
  {
   "cell_type": "code",
   "execution_count": null,
   "metadata": {
    "collapsed": true
   },
   "outputs": [],
   "source": [
    "%# read some training data\n",
    "[labels,data] = libsvmread('./heart_scale');\n",
    "\n",
    "%# grid of parameters\n",
    "folds = 5;\n",
    "[C,gamma] = meshgrid(-5:2:15, -15:2:3);\n",
    "\n",
    "%# grid search, and cross-validation\n",
    "cv_acc = zeros(numel(C),1);\n",
    "    for i=1:numel(C)\n",
    "cv_acc(i) = svmtrain(labels, data, ...\n",
    "                sprintf('-c %f -g %f -v %d', 2^C(i), 2^gamma(i), folds));\n",
    "end"
   ]
  },
  {
   "cell_type": "code",
   "execution_count": null,
   "metadata": {
    "collapsed": true
   },
   "outputs": [],
   "source": [
    "C = [0.001, 0.003, 0.01, 0.03, 0.1, 0.3, 1, 3, 10, 30, 100, 300] %// you must choose your own set of values for the parameters that you want to test. You can either do it this way by explicitly typing out a list\n",
    "S = 0:0.1:1 %// or you can do it this way using the : operator\n",
    "fscores = zeros(numel(C), numel(S)); %// Pre-allocation\n",
    "for c = 1:numel(C)   \n",
    "    for s = 1:numel(S)\n",
    "        vals = crossval(@(XTRAIN, YTRAIN, XVAL, YVAL)(fun(XTRAIN, YTRAIN, XVAL, YVAL, C(c), S(c)),input(trIdx,:),target(trIdx));\n",
    "        fscores(c,s) = mean(vals);\n",
    "    end\n",
    "end\n",
    "\n",
    "%// Then establish the C and S that gave you the bet f-score. Don't forget that c and s are just indexes though!\n",
    "[cbest, sbest] = find(fscores == max(fscores(:)));\n",
    "C_final = C(cbest);\n",
    "S_final = S(sbest);"
   ]
  },
  {
   "cell_type": "markdown",
   "metadata": {},
   "source": [
    "# VI. Cost Based Models"
   ]
  },
  {
   "cell_type": "markdown",
   "metadata": {},
   "source": [
    "<font size=3><u> Overview</u> </font>"
   ]
  },
  {
   "cell_type": "markdown",
   "metadata": {},
   "source": [
    "<font size=3><u> Defining Cost</u> </font>"
   ]
  },
  {
   "cell_type": "code",
   "execution_count": null,
   "metadata": {
    "collapsed": false
   },
   "outputs": [],
   "source": [
    "def cost(y_true, y_pred):\n",
    "    cm = confusion_matrix(y_true, y_pred)\n",
    "    \n",
    "    cost_true_positive = 90\n",
    "    cost_true_negative = -10\n",
    "    cost_false_positive = -15010\n",
    "    cost_false_negative = -10\n",
    "        \n",
    "    n_true_positive = sum([(pred_val == 1) & (true_val == 1) for true_val, pred_val in zip(y_true, y_pred)])\n",
    "    n_true_negative = sum([(pred_val == 0) & (true_val == 0) for true_val, pred_val in zip(y_true, y_pred)])\n",
    "    n_false_positive = sum([(pred_val == 0) & (true_val == 1) for true_val, pred_val in zip(y_true, y_pred)])\n",
    "    n_false_negative = sum([(pred_val == 1) & (true_val == 0) for true_val, pred_val in zip(y_true, y_pred)])\n",
    "            \n",
    "    total_cost = (np.array([[cost_true_negative, cost_false_negative], [cost_false_positive, cost_true_positive]]) *\n",
    "                  np.array([[n_true_negative, n_false_negative], [n_false_positive, n_true_positive]])).sum()\n",
    "    \n",
    "    return total_cost"
   ]
  },
  {
   "cell_type": "code",
   "execution_count": null,
   "metadata": {
    "collapsed": false
   },
   "outputs": [],
   "source": [
    "from sklearn.cross_validation import KFold\n",
    "\n",
    "def cv_cost(model, n_folds, X, y):\n",
    "    scores = pd.DataFrame({\"class\":[\"all\"] + list(np.unique(y)), \"total\":0, \"correct\":0, \"score\":0, \"cost\":0})\n",
    "    scores.set_index(\"class\", inplace=True)\n",
    "    kf = KFold(len(X), n_folds=n_folds, shuffle=True, random_state=0)\n",
    "    for train_index, test_index in kf:\n",
    "        train_X, test_X = X[train_index, :], X[test_index, :]\n",
    "        train_y, test_y = y.ravel()[train_index], y.ravel()[test_index]  \n",
    "        \n",
    "        model.fit(train_X, train_y)\n",
    "        \n",
    "        for cls in np.unique(y):\n",
    "            pred_y = model.predict(test_X[test_y==cls])\n",
    "\n",
    "            n_correct = sum(pred_y == cls)\n",
    "            n_total = sum(test_y==cls)\n",
    "        \n",
    "            cost_amt = cost(pred_y, [cls] * len(pred_y))\n",
    "            scores.loc[cls, \"correct\"] += n_correct\n",
    "            scores.loc[cls, \"total\"] += n_total\n",
    "            scores.loc[cls, \"cost\"] += cost_amt\n",
    "            scores.loc[\"all\", \"correct\"] += n_correct\n",
    "            scores.loc[\"all\", \"total\"] += n_total\n",
    "            scores.loc[\"all\", \"cost\"] += cost_amt\n",
    "\n",
    "    scores.score = scores.correct / scores.total\n",
    "    return scores"
   ]
  },
  {
   "cell_type": "markdown",
   "metadata": {},
   "source": [
    "<font size=3><u> Evaluation</u> </font>"
   ]
  },
  {
   "cell_type": "code",
   "execution_count": null,
   "metadata": {
    "collapsed": false
   },
   "outputs": [],
   "source": [
    "# Baseline models\n",
    "# All positive (label every loan as safe)\n",
    "class Pos_model(object):\n",
    "    def fit(self, X, y):\n",
    "        return\n",
    "    \n",
    "    def predict(self, x):\n",
    "        return np.array([1] * len(x))\n",
    "    \n",
    "    def score(self, x, y):\n",
    "        y_pred = self.predict(x)\n",
    "        y_err = y - y_pred\n",
    "        return len(y_err[y_err == 0]) * 1. / len(y_err)\n",
    "\n",
    "pos_model = Pos_model()\n",
    "cv_cost(pos_model, 5, X, y)"
   ]
  },
  {
   "cell_type": "code",
   "execution_count": null,
   "metadata": {
    "collapsed": false
   },
   "outputs": [],
   "source": [
    "# All negative (label every loan as risky)\n",
    "class Neg_model(object):\n",
    "    def fit(self, X, y):\n",
    "        return\n",
    "    \n",
    "    def predict(self, x):\n",
    "        return np.array([0] * len(x))\n",
    "    \n",
    "    def score(self, x, y):\n",
    "        y_pred = self.predict(x)\n",
    "        y_err = y - y_pred\n",
    "        return len(y_err[y_err == 0]) * 1. / len(y_err)\n",
    "\n",
    "neg_model = Neg_model()\n",
    "cv_cost(neg_model, 5, X, y)"
   ]
  },
  {
   "cell_type": "code",
   "execution_count": null,
   "metadata": {
    "collapsed": false
   },
   "outputs": [],
   "source": [
    "# Random (randomly predict safe or risky)\n",
    "class Random_model(object):\n",
    "    def fit(self, X, y):\n",
    "        return\n",
    "    \n",
    "    def predict(self, x):\n",
    "        return np.random.randint(0, 2, len(x))\n",
    "    \n",
    "    def score(self, x, y):\n",
    "        y_pred = self.predict(x)\n",
    "        y_err = y - y_pred\n",
    "        return len(y_err[y_err == 0]) * 1. / len(y_err)\n",
    "\n",
    "random_model = Random_model()\n",
    "cv_cost(random_model, 5, X, y)"
   ]
  },
  {
   "cell_type": "code",
   "execution_count": null,
   "metadata": {
    "collapsed": false,
    "scrolled": true
   },
   "outputs": [],
   "source": [
    "#import quandl\n",
    "\n",
    "#state_list = [\"AK\", \"AL\", \"AR\", \"AZ\", \"CA\", \"CO\", \"CT\", \"DC\", \"DE\", \"FL\",\n",
    "#                                             \"GA\", \"HI\", \"IA\", \"ID\", \"IL\", \"IN\", \"KS\", \"KY\", \"LA\", \"MA\",\n",
    "#                                             \"MD\", \"ME\", \"MI\", \"MN\", \"MO\", \"MS\", \"MT\", \"NC\", \"ND\", \"NE\",\n",
    "#                                             \"NH\", \"NJ\", \"NM\", \"NV\", \"NY\", \"OH\", \"OK\", \"OR\", \"PA\", \"RI\",\n",
    "#                                             \"SC\", \"SD\", \"TN\", \"TX\", \"UT\", \"VA\", \"VT\", \"WA\", \"WI\", \"WV\",\n",
    "#                                             \"WY\"]\n",
    "#state_unemployment_data = {}\n",
    "#for i in state_list:\n",
    "#    try:\n",
    "#        print(i)\n",
    "#        result = quandl.get('FRED/{:s}UR'.format(i))\n",
    "#        state_unemployment_data[i] = result\n",
    "#    except RuntimeError as e:\n",
    "#        print(e)\n",
    "\n",
    "#check all indices are sorted by date\n",
    "#for s in state_unemployment_data.keys():\n",
    "#    if not state_unemployment_data[s].index.is_monotonic:\n",
    "#        print s\n",
    "\n",
    "#convert percentages to a value in the range [0, 1]\n",
    "#for s in state_unemployment_data.keys():\n",
    "#    state_unemployment_data[s]['VALUE'] = state_unemployment_data[s]['VALUE'] / 100.0\n",
    "\n",
    "#import pickle\n",
    "#with open('unemployment_rates_by_state.pkl', 'wb') as f:\n",
    "#    pickle.dump(state_unemployment_data, f)"
   ]
  },
  {
   "cell_type": "code",
   "execution_count": null,
   "metadata": {
    "collapsed": true
   },
   "outputs": [],
   "source": [
    "import pickle\n",
    "with open('unemployment_rates_by_state.pkl', 'rb') as f:\n",
    "    state_unemployment_data = pickle.load(f)"
   ]
  },
  {
   "cell_type": "code",
   "execution_count": null,
   "metadata": {
    "collapsed": false
   },
   "outputs": [],
   "source": [
    "state_unemployment_data['AK'].tail()"
   ]
  },
  {
   "cell_type": "code",
   "execution_count": null,
   "metadata": {
    "collapsed": false
   },
   "outputs": [],
   "source": [
    "def unemp_rate(row):\n",
    "    try:\n",
    "        state = row.addr_state\n",
    "        date = pd.to_datetime(row.last_pymnt_d.strftime('%Y-%m'), format='%Y-%m')\n",
    "        result = state_unemployment_data[state][date:].iloc[0]\n",
    "    except:\n",
    "        result = np.NaN\n",
    "    return result"
   ]
  },
  {
   "cell_type": "code",
   "execution_count": null,
   "metadata": {
    "collapsed": false
   },
   "outputs": [],
   "source": [
    "#add 1 extra column ('state_unemp_rate') to the data frames\n",
    "\n",
    "#this is taking a long time to run (10 mins on my computer - Ben)\n",
    "\n",
    "print 'data'\n",
    "data['state_unemp_rate']=data.apply(unemp_rate, axis=1)\n",
    "print 'data_2007_2011'\n",
    "data_2007_2011['state_unemp_rate']=data_2007_2011.apply(unemp_rate, axis=1)\n",
    "print 'data_2014'\n",
    "data_2014['state_unemp_rate']=data_2014.apply(unemp_rate, axis=1)\n",
    "print 'data_2015'\n",
    "data_2015['state_unemp_rate']=data_2015.apply(unemp_rate, axis=1)"
   ]
  },
  {
   "cell_type": "code",
   "execution_count": null,
   "metadata": {
    "collapsed": false
   },
   "outputs": [],
   "source": [
    "#data_2007_2011 = data_2007_2011[data_2007_2011.columns[data.columns!='state_unemp_rate']]\n",
    "#data_2014 = data_2014[data_2014.columns[data.columns!='state_unemp_rate']]\n",
    "#data_2015 = data_2015[data_2015.columns[data.columns!='state_unemp_rate']]\n",
    "#data = data[data.columns[data.columns!='state_unemp_rate']]"
   ]
  },
  {
   "cell_type": "code",
   "execution_count": null,
   "metadata": {
    "collapsed": false,
    "scrolled": false
   },
   "outputs": [],
   "source": [
    "data.head()"
   ]
  },
  {
   "cell_type": "markdown",
   "metadata": {},
   "source": [
    "# VII. Results"
   ]
  },
  {
   "cell_type": "markdown",
   "metadata": {},
   "source": [
    "After comparing each model, we found that **!!(Naive Bayes with Gaussian)!!** performs the best with default prediction **!!(80.1% sensitivity)!!**. We speculate that **!!(Naive Bayes with Gaussian)!!** is slightly better than the other models for 2 potential reasons:\n",
    "\n",
    "- Naive Bayes model works well with independent feature sets [1], and the training features that we selected are possibly either independent or have evenly distributed dependencies.\n",
    "- Some of the key features that we used, like credit scores and regional population, might be distributed in Gaussian, which would allow the Gaussian-assumption model to perform better.\n",
    "\n",
    "Predicting default rates in isolation is intersting and can be valuable to individual, small time investors. However, the real commercial value of better performing default prediction models is **!!(Insert Conclusion)!!**.  As such, we calculated ROI as **!!(mentioned in Method section)!!**. Currently, the overall return from Lending Club (including interest and late fee earned and principal recovered) by all investors divided by their initial principal is **!!(10.1% [?])!!**. If we apply the model prediction to avoid investing on the predicted-to-default note and calculate the return based on only predicted-positive loans, we can increase the return on investment of the test set from **!!(10.1% to over 15.7% (50% growth))!!**."
   ]
  },
  {
   "cell_type": "markdown",
   "metadata": {},
   "source": [
    "# VIII. Conclusion"
   ]
  },
  {
   "cell_type": "markdown",
   "metadata": {},
   "source": [
    "From the comparison of multiple models, including Logistic Regression, SVM, Naive Bayes, Random Forest, and **!!(new models)!!** and different fine-tuning mechanisms, we found that **!!(Naive Bayes with Guassian)!!** performs the best at predicting default rate (optimizing specificity). And by applying our best-performing model, we saw that the investment return from Lending Club can potentially grow by 50%. Some future work that could further improve the prediction includes:\n",
    "- We see high-bias problems across all models, so the predictions could benefit from more features, such as stock market or housing trend, so as to include more macroeconomic factors into the models.\n",
    "- Not all default cases are the same, and some late payments could still be recovered later on, so instead of a binary classification, multinomial predictions could be employed to take into account the different types of default so as to make a more granular prediction."
   ]
  },
  {
   "cell_type": "markdown",
   "metadata": {},
   "source": [
    "# Resources"
   ]
  },
  {
   "cell_type": "markdown",
   "metadata": {},
   "source": [
    "[1]  Zhang, Harry. \"The optimality of naive Bayes.\" AA 1.2 (2004): 3. <br>\n",
    "[2] He, He, and Ali Ghodsi. \"Rare class classification by support vector machine.\" Pattern Recognition (ICPR), 2010 20th International Conference on. IEEE, 2010. <br>"
   ]
  }
 ],
 "metadata": {
  "anaconda-cloud": {},
  "kernelspec": {
   "display_name": "Python [conda env:cs109a_proj]",
   "language": "python",
   "name": "conda-env-cs109a_proj-py"
  },
  "language_info": {
   "codemirror_mode": {
    "name": "ipython",
    "version": 2
   },
   "file_extension": ".py",
   "mimetype": "text/x-python",
   "name": "python",
   "nbconvert_exporter": "python",
   "pygments_lexer": "ipython2",
   "version": "2.7.12"
  }
 },
 "nbformat": 4,
 "nbformat_minor": 0
}
