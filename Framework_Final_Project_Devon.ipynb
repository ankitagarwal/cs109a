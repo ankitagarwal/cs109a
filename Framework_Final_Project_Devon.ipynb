{
 "cells": [
  {
   "cell_type": "markdown",
   "metadata": {},
   "source": [
    "<br>\n",
    "<br>\n",
    "**<font size=7><center>Predicting Default Rates for Lending Club</center></font>**\n"
   ]
  },
  {
   "cell_type": "markdown",
   "metadata": {},
   "source": [
    "<font size=5>Devon Luongo</font> <br>\n",
    "<font size=4>Harvard University</font> <br>\n",
    "<font size=3>deluongo@gmail.com</font> <br>"
   ]
  },
  {
   "cell_type": "markdown",
   "metadata": {},
   "source": [
    "<font size=5>Ben Yuen</font> <br>\n",
    "<font size=4>Harvard University</font> <br>\n",
    "<font size=3></font> <br>"
   ]
  },
  {
   "cell_type": "markdown",
   "metadata": {},
   "source": [
    "<font size=5>Bryn Clark</font> <br>\n",
    "<font size=4>Harvard University</font> <br>\n",
    "<font size=3></font> <br>"
   ]
  },
  {
   "cell_type": "markdown",
   "metadata": {},
   "source": [
    "<font size=5>Ankit Agarwal</font> <br>\n",
    "<font size=4>Harvard University</font> <br>\n",
    "<font size=3></font> <br>"
   ]
  },
  {
   "cell_type": "markdown",
   "metadata": {},
   "source": [
    "**<font size=4><center>Abstract</center></font>**"
   ]
  },
  {
   "cell_type": "markdown",
   "metadata": {},
   "source": [
    "<center>**!!(Insert Abstract)!!**</center>"
   ]
  },
  {
   "cell_type": "markdown",
   "metadata": {},
   "source": [
    "# I. Introduction"
   ]
  },
  {
   "cell_type": "markdown",
   "metadata": {},
   "source": [
    "Lending Club is an online marketplace that fascilitates the lending money to individuals or businesses through online services that match lenders directly with borrowers. This practice is called Peer-to-Peer (P2P) Lending. With an A+ BBB rating, Lending Club offers an attractive alternative to bonds for steady investment income. Lending Club also states that borrowers are able to reduce their loans by an average of 30%.\n",
    "\n",
    "\"Since peer-to-peer lending companies offering these services operate entirely online, they can run with lower overhead and provide the service more cheaply than traditional financial institutions. As a result, lenders often earn higher returns compared to savings and investment products offered by banks, while borrowers can borrow money at lower interest rates, even after the P2P lending company has taken a fee for providing the match-making platform and credit checking the borrower.\"\n",
    "\n",
    "The downside to Lending Club however, is that most peer-to-peer loans are unsecured personal loans, meaning lenders incur a higher risk than comparable steady income investments like Treasury Bonds. Therefore, the investment quality of each loan depends largly on three factors: the expected return, the level of risk aversion, and the risk incurred. The first factor is built into the contract of the loan, and the second factor is personal preference. Therefore, the primary variable that that investors must identify when compoaring P2P Lending with other investment opportunities is the default risk for each loan. \n",
    "\n",
    "For this reason, Lending Club offers lenders a dataset containing a comprehensive list of features that can be employed to make better lending decisions. Detailed information for every loan have been issued by Lending Club from 2007 to 2015. Among**!!(Insert Num Predictors)!!** features or predictors in total, the dataset includes a borrower’s annual incomes, zip codes, revolving balances, and purpose for borrowing.\n",
    "\n",
    "Our objective was to build on similar projects conducted in recent years to construct a model for default risk to help lenders decrease the risk they occur when lending. We trained and tested a range of models in an attempt to identify the best performing model. Additionally, we constructed a cost based model aimed at maximizing Lending Clubs overhead.\n",
    "\n"
   ]
  },
  {
   "cell_type": "markdown",
   "metadata": {},
   "source": [
    "# II. Related Work"
   ]
  },
  {
   "cell_type": "markdown",
   "metadata": {},
   "source": [
    "**!!(Rewrite After Models Complete)!!** \n",
    "Prior projects like **!!(\"Predicting borrowers chance of defaulting on credit loans\" [1])!!** have set great examples of applying machine learning to improve loan default prediction in a Kaggle competition, and authors for**!!(\"Predicting Probability of Loan Default\" [2])!!**  have shown that Random Forest appeared to be the best performing model on the Kaggle data. \n",
    "\n",
    "However, despite the early success using Random Forest for default prediction, real-world records often behaves differently from curated data, and a later study **!!(\"Peer Lending Risk Predictor\" [3])!!** presented that a modified Logistic Regression model could outperform SVM, Naive Bayes, and even Random Forest on Lending Club data. \n",
    "\n",
    "The fact that Logistic Regression performance could be immensely improved by simply adding penalty factor on misclassification gave rise to our interest in fine tuning other not-yet optimized models, in particular, SVM and Naive Bayes, to continue the search for a better predictive model in the realm of loan default. Besides the difference in types of model that they focus on, the prior studies only used the out-of-the-box dataset from Kaggle or\n",
    "Lending Club, but research like **!!(\"The sensitivity of the loss given default rate to systematic risk\" [4])!!** has shown the linkage between default rate and macroeconomic factors, so we have decided to add in census data, with info like regional median income, to train our models on a more holistic set of features."
   ]
  },
  {
   "cell_type": "markdown",
   "metadata": {},
   "source": [
    "# III. Data"
   ]
  },
  {
   "cell_type": "markdown",
   "metadata": {},
   "source": [
    "### Loading"
   ]
  },
  {
   "cell_type": "markdown",
   "metadata": {},
   "source": [
    "<font size=3><u> Libraries:</u> </font>"
   ]
  },
  {
   "cell_type": "code",
   "execution_count": 1,
   "metadata": {
    "collapsed": false
   },
   "outputs": [],
   "source": [
    "import pandas as pd\n",
    "import numpy as np\n",
    "import matplotlib as mpl\n",
    "import matplotlib.pyplot as plt\n",
    "from mpl_toolkits.basemap import Basemap\n",
    "from matplotlib.patches import Polygon\n",
    "import matplotlib.cm as cmx\n",
    "import matplotlib.colors as colors\n",
    "import scipy\n",
    "%matplotlib inline\n",
    "\n",
    "\n",
    "#new imports for milestone 4\n",
    "from io import StringIO\n",
    "from IPython.display import Image\n",
    "import pydotplus\n",
    "from sklearn.tree import DecisionTreeClassifier, export_graphviz\n",
    "from sklearn.metrics import accuracy_score, f1_score, make_scorer, roc_auc_score\n",
    "\n",
    "from sklearn.linear_model import LogisticRegression\n",
    "from sklearn.metrics  import confusion_matrix\n",
    "import itertools\n",
    "from sklearn.cross_validation import train_test_split"
   ]
  },
  {
   "cell_type": "code",
   "execution_count": 2,
   "metadata": {
    "collapsed": true
   },
   "outputs": [],
   "source": [
    "path = \"/home/ankit/anaconda2/pkgs/basemap-1.0.7-np111py27_0/lib/python2.7/site-packages/mpl_toolkits/basemap/data/\""
   ]
  },
  {
   "cell_type": "markdown",
   "metadata": {},
   "source": [
    "### Data Cleaning"
   ]
  },
  {
   "cell_type": "markdown",
   "metadata": {},
   "source": [
    "Some of the data files have fields that contain NAs for older time periods. In order to collapse the data sets into one file, all numerical data will be stored in float fields (integer fields do not support NA missing values). To do this, we first define a conversion dictionary that stores the numeric fields with lookups to the *float* data type."
   ]
  },
  {
   "cell_type": "code",
   "execution_count": 3,
   "metadata": {
    "collapsed": false
   },
   "outputs": [],
   "source": [
    "convert_float = dict([s, float] for s in\n",
    "                     ['loan_amnt', 'funded_amnt', 'funded_amnt_inv', 'installment',\n",
    "                      'annual_inc', 'dti', 'delinq_2yrs', 'inq_last_6mths', 'mths_since_last_delinq',                      \n",
    "                      'mths_since_last_record', 'open_acc', 'pub_rec', 'revol_bal', 'total_acc',\n",
    "                      'out_prncp', 'out_prncp_inv', 'total_pymnt', 'total_pymnt_inv', 'total_rec_prncp',\n",
    "                      'total_rec_int', 'total_rec_late_fee', 'recoveries', 'collection_recovery_fee',\n",
    "                      'last_pymnt_amnt', 'collections_12_mths_ex_med', 'mths_since_last_major_derog',\n",
    "                      'annual_inc_joint', 'dti_joint', 'acc_now_delinq', 'tot_coll_amt', 'tot_cur_bal', \n",
    "                      'open_acc_6m', 'open_il_6m', 'open_il_12m', 'open_il_24m', 'mths_since_rcnt_il', \n",
    "                      'total_bal_il', 'il_util', 'open_rv_12m', 'open_rv_24m', 'max_bal_bc', \n",
    "                      'all_util', 'total_rev_hi_lim', 'inq_fi', 'total_cu_tl', 'inq_last_12m', \n",
    "                      'acc_open_past_24mths', 'avg_cur_bal', 'bc_open_to_buy', 'bc_util',\n",
    "                      'chargeoff_within_12_mths', 'delinq_amnt', 'mo_sin_old_il_acct',\n",
    "                      'mo_sin_old_rev_tl_op', 'mo_sin_rcnt_rev_tl_op', 'mo_sin_rcnt_tl', 'mort_acc',\n",
    "                      'mths_since_recent_bc', 'mths_since_recent_bc_dlq', 'mths_since_recent_inq',\n",
    "                      'mths_since_recent_revol_delinq', 'num_accts_ever_120_pd', 'num_actv_bc_tl', \n",
    "                      'num_actv_rev_tl', 'num_bc_sats', 'num_bc_tl', 'num_il_tl', 'num_op_rev_tl',\n",
    "                      'num_rev_accts', 'num_rev_tl_bal_gt_0', 'num_sats', 'num_tl_120dpd_2m',\n",
    "                      'num_tl_30dpd', 'num_tl_90g_dpd_24m', 'num_tl_op_past_12m', 'pct_tl_nvr_dlq',\n",
    "                      'percent_bc_gt_75', 'pub_rec_bankruptcies', 'tax_liens', 'tot_hi_cred_lim',\n",
    "                      'total_bal_ex_mort', 'total_bc_limit', 'total_il_high_credit_limit'])"
   ]
  },
  {
   "cell_type": "markdown",
   "metadata": {},
   "source": [
    "We also define a dictionary of string fields, to handle situations where the inferred data type might be numeric even though the field should be read in as a string/object."
   ]
  },
  {
   "cell_type": "code",
   "execution_count": 4,
   "metadata": {
    "collapsed": true
   },
   "outputs": [],
   "source": [
    "convert_str = dict([s, str] for s in\n",
    "                    ['term', 'int_rate', 'grade', 'sub_grade', 'emp_title', 'emp_length', 'home_ownership', \n",
    "                     'verification_status', 'issue_d', 'loan_status', 'pymnt_plan', 'url', 'desc', \n",
    "                     'purpose', 'title', 'zip_code', 'addr_state', 'earliest_cr_line', 'revol_util', \n",
    "                     'initial_list_status', 'last_pymnt_d', 'next_pymnt_d', 'last_credit_pull_d',\n",
    "                     'policy_code', 'application_type', 'verification_status_joint'])"
   ]
  },
  {
   "cell_type": "markdown",
   "metadata": {},
   "source": [
    "We read the input data from the CSV data files using pandas *read_csv*. There is a blank row in the data header and there are two blank rows in the footer of each file. To allow the use of *skip_footer*, we use the python engine rather than the C engine. The first two columns (*id* and *member_id*) are unique and used to create a table index."
   ]
  },
  {
   "cell_type": "code",
   "execution_count": 5,
   "metadata": {
    "collapsed": false
   },
   "outputs": [],
   "source": [
    "data_2007_2011 = pd.read_csv(\"./data/LoanStats3a.csv\",\n",
    "                   skiprows=1,\n",
    "                   skip_footer=2,\n",
    "                   engine=\"python\",\n",
    "                   na_values=['NaN', 'nan'],\n",
    "                   converters=convert_str,\n",
    "                   index_col=[0,1])\n",
    "\n",
    "data_2014 = pd.read_csv(\"./data/LoanStats3b.csv\",\n",
    "                   skiprows=1,\n",
    "                   skip_footer=2,\n",
    "                   engine=\"python\",\n",
    "                   na_values=['NaN', 'nan'],\n",
    "                   converters=convert_str,\n",
    "                   index_col=[0,1])\n",
    "\n",
    "data_2015 = pd.read_csv(\"./data/LoanStats3c.csv\",\n",
    "                   skiprows=1,\n",
    "                   skip_footer=2,\n",
    "                   engine=\"python\",\n",
    "                   na_values=['NaN', 'nan'],\n",
    "                   converters=convert_str,\n",
    "                   index_col=[0,1])\n",
    "\n",
    "data = pd.read_csv(\"./data/LoanStats3d.csv\",\n",
    "                   skiprows=1,\n",
    "                   skip_footer=2,\n",
    "                   engine=\"python\",\n",
    "                   na_values=['NaN', 'nan'],\n",
    "                   converters=convert_str,\n",
    "                   index_col=[0,1])"
   ]
  },
  {
   "cell_type": "code",
   "execution_count": 6,
   "metadata": {
    "collapsed": false
   },
   "outputs": [
    {
     "name": "stdout",
     "output_type": "stream",
     "text": [
      "Data table dimensions 2007-2011: 42536 x 109\n",
      "Data table dimensions 2014: 188181 x 109\n",
      "Data table dimensions 2015: 235629 x 109\n",
      "Data table dimensions 2016: 421095 x 109\n"
     ]
    }
   ],
   "source": [
    "print \"Data table dimensions 2007-2011: %d x %d\" % data_2007_2011.shape\n",
    "\n",
    "print \"Data table dimensions 2014: %d x %d\" % data_2014.shape\n",
    " \n",
    "print \"Data table dimensions 2015: %d x %d\" % data_2015.shape\n",
    "\n",
    "print \"Data table dimensions 2016: %d x %d\" % data.shape"
   ]
  },
  {
   "cell_type": "code",
   "execution_count": 7,
   "metadata": {
    "collapsed": false
   },
   "outputs": [
    {
     "data": {
      "text/html": [
       "<div>\n",
       "<table border=\"1\" class=\"dataframe\">\n",
       "  <thead>\n",
       "    <tr style=\"text-align: right;\">\n",
       "      <th></th>\n",
       "      <th></th>\n",
       "      <th>loan_amnt</th>\n",
       "      <th>funded_amnt</th>\n",
       "      <th>funded_amnt_inv</th>\n",
       "      <th>term</th>\n",
       "      <th>int_rate</th>\n",
       "      <th>installment</th>\n",
       "      <th>grade</th>\n",
       "      <th>sub_grade</th>\n",
       "      <th>emp_title</th>\n",
       "      <th>emp_length</th>\n",
       "      <th>...</th>\n",
       "      <th>num_tl_90g_dpd_24m</th>\n",
       "      <th>num_tl_op_past_12m</th>\n",
       "      <th>pct_tl_nvr_dlq</th>\n",
       "      <th>percent_bc_gt_75</th>\n",
       "      <th>pub_rec_bankruptcies</th>\n",
       "      <th>tax_liens</th>\n",
       "      <th>tot_hi_cred_lim</th>\n",
       "      <th>total_bal_ex_mort</th>\n",
       "      <th>total_bc_limit</th>\n",
       "      <th>total_il_high_credit_limit</th>\n",
       "    </tr>\n",
       "    <tr>\n",
       "      <th>id</th>\n",
       "      <th>member_id</th>\n",
       "      <th></th>\n",
       "      <th></th>\n",
       "      <th></th>\n",
       "      <th></th>\n",
       "      <th></th>\n",
       "      <th></th>\n",
       "      <th></th>\n",
       "      <th></th>\n",
       "      <th></th>\n",
       "      <th></th>\n",
       "      <th></th>\n",
       "      <th></th>\n",
       "      <th></th>\n",
       "      <th></th>\n",
       "      <th></th>\n",
       "      <th></th>\n",
       "      <th></th>\n",
       "      <th></th>\n",
       "      <th></th>\n",
       "      <th></th>\n",
       "      <th></th>\n",
       "    </tr>\n",
       "  </thead>\n",
       "  <tbody>\n",
       "    <tr>\n",
       "      <th>68009401</th>\n",
       "      <th>72868139</th>\n",
       "      <td>16000</td>\n",
       "      <td>16000</td>\n",
       "      <td>16000.0</td>\n",
       "      <td>60 months</td>\n",
       "      <td>14.85%</td>\n",
       "      <td>379.39</td>\n",
       "      <td>C</td>\n",
       "      <td>C5</td>\n",
       "      <td>Bookkeeper/Accounting</td>\n",
       "      <td>10+ years</td>\n",
       "      <td>...</td>\n",
       "      <td>0</td>\n",
       "      <td>2</td>\n",
       "      <td>78.9</td>\n",
       "      <td>0.0</td>\n",
       "      <td>0</td>\n",
       "      <td>2</td>\n",
       "      <td>298100</td>\n",
       "      <td>31329</td>\n",
       "      <td>281300</td>\n",
       "      <td>13400</td>\n",
       "    </tr>\n",
       "    <tr>\n",
       "      <th>68547583</th>\n",
       "      <th>73437441</th>\n",
       "      <td>8650</td>\n",
       "      <td>8650</td>\n",
       "      <td>8650.0</td>\n",
       "      <td>36 months</td>\n",
       "      <td>5.32%</td>\n",
       "      <td>260.50</td>\n",
       "      <td>A</td>\n",
       "      <td>A1</td>\n",
       "      <td>Associate Consultant</td>\n",
       "      <td>&lt; 1 year</td>\n",
       "      <td>...</td>\n",
       "      <td>0</td>\n",
       "      <td>1</td>\n",
       "      <td>100.0</td>\n",
       "      <td>0.0</td>\n",
       "      <td>0</td>\n",
       "      <td>0</td>\n",
       "      <td>191618</td>\n",
       "      <td>31199</td>\n",
       "      <td>18300</td>\n",
       "      <td>27078</td>\n",
       "    </tr>\n",
       "    <tr>\n",
       "      <th>68565856</th>\n",
       "      <th>73455664</th>\n",
       "      <td>9000</td>\n",
       "      <td>9000</td>\n",
       "      <td>9000.0</td>\n",
       "      <td>36 months</td>\n",
       "      <td>9.17%</td>\n",
       "      <td>286.92</td>\n",
       "      <td>B</td>\n",
       "      <td>B2</td>\n",
       "      <td>Truck Driver</td>\n",
       "      <td>1 year</td>\n",
       "      <td>...</td>\n",
       "      <td>0</td>\n",
       "      <td>1</td>\n",
       "      <td>100.0</td>\n",
       "      <td>33.3</td>\n",
       "      <td>0</td>\n",
       "      <td>0</td>\n",
       "      <td>69818</td>\n",
       "      <td>14118</td>\n",
       "      <td>15500</td>\n",
       "      <td>16318</td>\n",
       "    </tr>\n",
       "    <tr>\n",
       "      <th>68566886</th>\n",
       "      <th>73456723</th>\n",
       "      <td>29900</td>\n",
       "      <td>29900</td>\n",
       "      <td>29900.0</td>\n",
       "      <td>60 months</td>\n",
       "      <td>12.88%</td>\n",
       "      <td>678.49</td>\n",
       "      <td>C</td>\n",
       "      <td>C2</td>\n",
       "      <td>Corporate Insurance</td>\n",
       "      <td>10+ years</td>\n",
       "      <td>...</td>\n",
       "      <td>0</td>\n",
       "      <td>4</td>\n",
       "      <td>100.0</td>\n",
       "      <td>25.0</td>\n",
       "      <td>0</td>\n",
       "      <td>0</td>\n",
       "      <td>271700</td>\n",
       "      <td>42497</td>\n",
       "      <td>34000</td>\n",
       "      <td>15574</td>\n",
       "    </tr>\n",
       "    <tr>\n",
       "      <th>68366999</th>\n",
       "      <th>73256850</th>\n",
       "      <td>15850</td>\n",
       "      <td>15850</td>\n",
       "      <td>15850.0</td>\n",
       "      <td>60 months</td>\n",
       "      <td>23.13%</td>\n",
       "      <td>448.01</td>\n",
       "      <td>F</td>\n",
       "      <td>F2</td>\n",
       "      <td>Lead manufacturing</td>\n",
       "      <td>10+ years</td>\n",
       "      <td>...</td>\n",
       "      <td>0</td>\n",
       "      <td>4</td>\n",
       "      <td>100.0</td>\n",
       "      <td>0.0</td>\n",
       "      <td>0</td>\n",
       "      <td>0</td>\n",
       "      <td>84300</td>\n",
       "      <td>45025</td>\n",
       "      <td>19900</td>\n",
       "      <td>43000</td>\n",
       "    </tr>\n",
       "  </tbody>\n",
       "</table>\n",
       "<p>5 rows × 109 columns</p>\n",
       "</div>"
      ],
      "text/plain": [
       "                    loan_amnt  funded_amnt  funded_amnt_inv        term  \\\n",
       "id       member_id                                                        \n",
       "68009401 72868139       16000        16000          16000.0   60 months   \n",
       "68547583 73437441        8650         8650           8650.0   36 months   \n",
       "68565856 73455664        9000         9000           9000.0   36 months   \n",
       "68566886 73456723       29900        29900          29900.0   60 months   \n",
       "68366999 73256850       15850        15850          15850.0   60 months   \n",
       "\n",
       "                   int_rate  installment grade sub_grade  \\\n",
       "id       member_id                                         \n",
       "68009401 72868139    14.85%       379.39     C        C5   \n",
       "68547583 73437441     5.32%       260.50     A        A1   \n",
       "68565856 73455664     9.17%       286.92     B        B2   \n",
       "68566886 73456723    12.88%       678.49     C        C2   \n",
       "68366999 73256850    23.13%       448.01     F        F2   \n",
       "\n",
       "                                emp_title emp_length  \\\n",
       "id       member_id                                     \n",
       "68009401 72868139   Bookkeeper/Accounting  10+ years   \n",
       "68547583 73437441    Associate Consultant   < 1 year   \n",
       "68565856 73455664            Truck Driver     1 year   \n",
       "68566886 73456723     Corporate Insurance  10+ years   \n",
       "68366999 73256850     Lead manufacturing   10+ years   \n",
       "\n",
       "                              ...             num_tl_90g_dpd_24m  \\\n",
       "id       member_id            ...                                  \n",
       "68009401 72868139             ...                              0   \n",
       "68547583 73437441             ...                              0   \n",
       "68565856 73455664             ...                              0   \n",
       "68566886 73456723             ...                              0   \n",
       "68366999 73256850             ...                              0   \n",
       "\n",
       "                    num_tl_op_past_12m pct_tl_nvr_dlq percent_bc_gt_75  \\\n",
       "id       member_id                                                       \n",
       "68009401 72868139                    2           78.9              0.0   \n",
       "68547583 73437441                    1          100.0              0.0   \n",
       "68565856 73455664                    1          100.0             33.3   \n",
       "68566886 73456723                    4          100.0             25.0   \n",
       "68366999 73256850                    4          100.0              0.0   \n",
       "\n",
       "                   pub_rec_bankruptcies tax_liens tot_hi_cred_lim  \\\n",
       "id       member_id                                                  \n",
       "68009401 72868139                     0         2          298100   \n",
       "68547583 73437441                     0         0          191618   \n",
       "68565856 73455664                     0         0           69818   \n",
       "68566886 73456723                     0         0          271700   \n",
       "68366999 73256850                     0         0           84300   \n",
       "\n",
       "                   total_bal_ex_mort total_bc_limit total_il_high_credit_limit  \n",
       "id       member_id                                                              \n",
       "68009401 72868139              31329         281300                      13400  \n",
       "68547583 73437441              31199          18300                      27078  \n",
       "68565856 73455664              14118          15500                      16318  \n",
       "68566886 73456723              42497          34000                      15574  \n",
       "68366999 73256850              45025          19900                      43000  \n",
       "\n",
       "[5 rows x 109 columns]"
      ]
     },
     "execution_count": 7,
     "metadata": {},
     "output_type": "execute_result"
    }
   ],
   "source": [
    "data.head()"
   ]
  },
  {
   "cell_type": "code",
   "execution_count": 8,
   "metadata": {
    "collapsed": false
   },
   "outputs": [
    {
     "data": {
      "text/html": [
       "<div>\n",
       "<table border=\"1\" class=\"dataframe\">\n",
       "  <thead>\n",
       "    <tr style=\"text-align: right;\">\n",
       "      <th></th>\n",
       "      <th></th>\n",
       "      <th>loan_amnt</th>\n",
       "      <th>funded_amnt</th>\n",
       "      <th>funded_amnt_inv</th>\n",
       "      <th>term</th>\n",
       "      <th>int_rate</th>\n",
       "      <th>installment</th>\n",
       "      <th>grade</th>\n",
       "      <th>sub_grade</th>\n",
       "      <th>emp_title</th>\n",
       "      <th>emp_length</th>\n",
       "      <th>...</th>\n",
       "      <th>num_tl_90g_dpd_24m</th>\n",
       "      <th>num_tl_op_past_12m</th>\n",
       "      <th>pct_tl_nvr_dlq</th>\n",
       "      <th>percent_bc_gt_75</th>\n",
       "      <th>pub_rec_bankruptcies</th>\n",
       "      <th>tax_liens</th>\n",
       "      <th>tot_hi_cred_lim</th>\n",
       "      <th>total_bal_ex_mort</th>\n",
       "      <th>total_bc_limit</th>\n",
       "      <th>total_il_high_credit_limit</th>\n",
       "    </tr>\n",
       "    <tr>\n",
       "      <th>id</th>\n",
       "      <th>member_id</th>\n",
       "      <th></th>\n",
       "      <th></th>\n",
       "      <th></th>\n",
       "      <th></th>\n",
       "      <th></th>\n",
       "      <th></th>\n",
       "      <th></th>\n",
       "      <th></th>\n",
       "      <th></th>\n",
       "      <th></th>\n",
       "      <th></th>\n",
       "      <th></th>\n",
       "      <th></th>\n",
       "      <th></th>\n",
       "      <th></th>\n",
       "      <th></th>\n",
       "      <th></th>\n",
       "      <th></th>\n",
       "      <th></th>\n",
       "      <th></th>\n",
       "      <th></th>\n",
       "    </tr>\n",
       "  </thead>\n",
       "  <tbody>\n",
       "    <tr>\n",
       "      <th>38098114</th>\n",
       "      <th>40860827</th>\n",
       "      <td>15000</td>\n",
       "      <td>15000</td>\n",
       "      <td>15000</td>\n",
       "      <td>60 months</td>\n",
       "      <td>12.39%</td>\n",
       "      <td>336.64</td>\n",
       "      <td>C</td>\n",
       "      <td>C1</td>\n",
       "      <td>MANAGEMENT</td>\n",
       "      <td>10+ years</td>\n",
       "      <td>...</td>\n",
       "      <td>0</td>\n",
       "      <td>4</td>\n",
       "      <td>100.0</td>\n",
       "      <td>0.0</td>\n",
       "      <td>0</td>\n",
       "      <td>0</td>\n",
       "      <td>196500</td>\n",
       "      <td>149140</td>\n",
       "      <td>10000</td>\n",
       "      <td>12000</td>\n",
       "    </tr>\n",
       "    <tr>\n",
       "      <th>36805548</th>\n",
       "      <th>39558264</th>\n",
       "      <td>10400</td>\n",
       "      <td>10400</td>\n",
       "      <td>10400</td>\n",
       "      <td>36 months</td>\n",
       "      <td>6.99%</td>\n",
       "      <td>321.08</td>\n",
       "      <td>A</td>\n",
       "      <td>A3</td>\n",
       "      <td>Truck Driver Delivery Personel</td>\n",
       "      <td>8 years</td>\n",
       "      <td>...</td>\n",
       "      <td>0</td>\n",
       "      <td>4</td>\n",
       "      <td>83.3</td>\n",
       "      <td>14.3</td>\n",
       "      <td>0</td>\n",
       "      <td>0</td>\n",
       "      <td>179407</td>\n",
       "      <td>15030</td>\n",
       "      <td>13000</td>\n",
       "      <td>11325</td>\n",
       "    </tr>\n",
       "    <tr>\n",
       "      <th>37822187</th>\n",
       "      <th>40585251</th>\n",
       "      <td>9600</td>\n",
       "      <td>9600</td>\n",
       "      <td>9600</td>\n",
       "      <td>36 months</td>\n",
       "      <td>13.66%</td>\n",
       "      <td>326.53</td>\n",
       "      <td>C</td>\n",
       "      <td>C3</td>\n",
       "      <td>Admin Specialist</td>\n",
       "      <td>10+ years</td>\n",
       "      <td>...</td>\n",
       "      <td>0</td>\n",
       "      <td>3</td>\n",
       "      <td>100.0</td>\n",
       "      <td>60.0</td>\n",
       "      <td>0</td>\n",
       "      <td>0</td>\n",
       "      <td>52490</td>\n",
       "      <td>38566</td>\n",
       "      <td>21100</td>\n",
       "      <td>24890</td>\n",
       "    </tr>\n",
       "    <tr>\n",
       "      <th>37842129</th>\n",
       "      <th>40605224</th>\n",
       "      <td>21425</td>\n",
       "      <td>21425</td>\n",
       "      <td>21425</td>\n",
       "      <td>60 months</td>\n",
       "      <td>15.59%</td>\n",
       "      <td>516.36</td>\n",
       "      <td>D</td>\n",
       "      <td>D1</td>\n",
       "      <td>Programming Analysis Supervisor</td>\n",
       "      <td>6 years</td>\n",
       "      <td>...</td>\n",
       "      <td>0</td>\n",
       "      <td>2</td>\n",
       "      <td>91.4</td>\n",
       "      <td>100.0</td>\n",
       "      <td>0</td>\n",
       "      <td>0</td>\n",
       "      <td>57073</td>\n",
       "      <td>42315</td>\n",
       "      <td>15000</td>\n",
       "      <td>35573</td>\n",
       "    </tr>\n",
       "    <tr>\n",
       "      <th>37612354</th>\n",
       "      <th>40375473</th>\n",
       "      <td>12800</td>\n",
       "      <td>12800</td>\n",
       "      <td>12800</td>\n",
       "      <td>60 months</td>\n",
       "      <td>17.14%</td>\n",
       "      <td>319.08</td>\n",
       "      <td>D</td>\n",
       "      <td>D4</td>\n",
       "      <td>Senior Sales Professional</td>\n",
       "      <td>10+ years</td>\n",
       "      <td>...</td>\n",
       "      <td>0</td>\n",
       "      <td>0</td>\n",
       "      <td>76.9</td>\n",
       "      <td>100.0</td>\n",
       "      <td>0</td>\n",
       "      <td>0</td>\n",
       "      <td>368700</td>\n",
       "      <td>18007</td>\n",
       "      <td>4400</td>\n",
       "      <td>18000</td>\n",
       "    </tr>\n",
       "  </tbody>\n",
       "</table>\n",
       "<p>5 rows × 109 columns</p>\n",
       "</div>"
      ],
      "text/plain": [
       "                    loan_amnt  funded_amnt  funded_amnt_inv        term  \\\n",
       "id       member_id                                                        \n",
       "38098114 40860827       15000        15000            15000   60 months   \n",
       "36805548 39558264       10400        10400            10400   36 months   \n",
       "37822187 40585251        9600         9600             9600   36 months   \n",
       "37842129 40605224       21425        21425            21425   60 months   \n",
       "37612354 40375473       12800        12800            12800   60 months   \n",
       "\n",
       "                   int_rate  installment grade sub_grade  \\\n",
       "id       member_id                                         \n",
       "38098114 40860827    12.39%       336.64     C        C1   \n",
       "36805548 39558264     6.99%       321.08     A        A3   \n",
       "37822187 40585251    13.66%       326.53     C        C3   \n",
       "37842129 40605224    15.59%       516.36     D        D1   \n",
       "37612354 40375473    17.14%       319.08     D        D4   \n",
       "\n",
       "                                          emp_title emp_length  \\\n",
       "id       member_id                                               \n",
       "38098114 40860827                        MANAGEMENT  10+ years   \n",
       "36805548 39558264    Truck Driver Delivery Personel    8 years   \n",
       "37822187 40585251                  Admin Specialist  10+ years   \n",
       "37842129 40605224   Programming Analysis Supervisor    6 years   \n",
       "37612354 40375473         Senior Sales Professional  10+ years   \n",
       "\n",
       "                              ...             num_tl_90g_dpd_24m  \\\n",
       "id       member_id            ...                                  \n",
       "38098114 40860827             ...                              0   \n",
       "36805548 39558264             ...                              0   \n",
       "37822187 40585251             ...                              0   \n",
       "37842129 40605224             ...                              0   \n",
       "37612354 40375473             ...                              0   \n",
       "\n",
       "                    num_tl_op_past_12m pct_tl_nvr_dlq percent_bc_gt_75  \\\n",
       "id       member_id                                                       \n",
       "38098114 40860827                    4          100.0              0.0   \n",
       "36805548 39558264                    4           83.3             14.3   \n",
       "37822187 40585251                    3          100.0             60.0   \n",
       "37842129 40605224                    2           91.4            100.0   \n",
       "37612354 40375473                    0           76.9            100.0   \n",
       "\n",
       "                   pub_rec_bankruptcies tax_liens tot_hi_cred_lim  \\\n",
       "id       member_id                                                  \n",
       "38098114 40860827                     0         0          196500   \n",
       "36805548 39558264                     0         0          179407   \n",
       "37822187 40585251                     0         0           52490   \n",
       "37842129 40605224                     0         0           57073   \n",
       "37612354 40375473                     0         0          368700   \n",
       "\n",
       "                   total_bal_ex_mort total_bc_limit total_il_high_credit_limit  \n",
       "id       member_id                                                              \n",
       "38098114 40860827             149140          10000                      12000  \n",
       "36805548 39558264              15030          13000                      11325  \n",
       "37822187 40585251              38566          21100                      24890  \n",
       "37842129 40605224              42315          15000                      35573  \n",
       "37612354 40375473              18007           4400                      18000  \n",
       "\n",
       "[5 rows x 109 columns]"
      ]
     },
     "execution_count": 8,
     "metadata": {},
     "output_type": "execute_result"
    }
   ],
   "source": [
    "data_2015.head()"
   ]
  },
  {
   "cell_type": "markdown",
   "metadata": {},
   "source": [
    "Check the count of fields by data type:"
   ]
  },
  {
   "cell_type": "code",
   "execution_count": 9,
   "metadata": {
    "collapsed": false
   },
   "outputs": [
    {
     "data": {
      "text/html": [
       "<div>\n",
       "<table border=\"1\" class=\"dataframe\">\n",
       "  <thead>\n",
       "    <tr style=\"text-align: right;\">\n",
       "      <th></th>\n",
       "      <th></th>\n",
       "      <th>loan_amnt</th>\n",
       "      <th>funded_amnt</th>\n",
       "      <th>funded_amnt_inv</th>\n",
       "      <th>term</th>\n",
       "      <th>int_rate</th>\n",
       "      <th>installment</th>\n",
       "      <th>grade</th>\n",
       "      <th>sub_grade</th>\n",
       "      <th>emp_title</th>\n",
       "      <th>emp_length</th>\n",
       "      <th>...</th>\n",
       "      <th>num_tl_90g_dpd_24m</th>\n",
       "      <th>num_tl_op_past_12m</th>\n",
       "      <th>pct_tl_nvr_dlq</th>\n",
       "      <th>percent_bc_gt_75</th>\n",
       "      <th>pub_rec_bankruptcies</th>\n",
       "      <th>tax_liens</th>\n",
       "      <th>tot_hi_cred_lim</th>\n",
       "      <th>total_bal_ex_mort</th>\n",
       "      <th>total_bc_limit</th>\n",
       "      <th>total_il_high_credit_limit</th>\n",
       "    </tr>\n",
       "    <tr>\n",
       "      <th>id</th>\n",
       "      <th>member_id</th>\n",
       "      <th></th>\n",
       "      <th></th>\n",
       "      <th></th>\n",
       "      <th></th>\n",
       "      <th></th>\n",
       "      <th></th>\n",
       "      <th></th>\n",
       "      <th></th>\n",
       "      <th></th>\n",
       "      <th></th>\n",
       "      <th></th>\n",
       "      <th></th>\n",
       "      <th></th>\n",
       "      <th></th>\n",
       "      <th></th>\n",
       "      <th></th>\n",
       "      <th></th>\n",
       "      <th></th>\n",
       "      <th></th>\n",
       "      <th></th>\n",
       "      <th></th>\n",
       "    </tr>\n",
       "  </thead>\n",
       "  <tbody>\n",
       "    <tr>\n",
       "      <th>10129506</th>\n",
       "      <th>11981122</th>\n",
       "      <td>20800</td>\n",
       "      <td>20800</td>\n",
       "      <td>20800.0</td>\n",
       "      <td>36 months</td>\n",
       "      <td>13.53%</td>\n",
       "      <td>706.16</td>\n",
       "      <td>B</td>\n",
       "      <td>B5</td>\n",
       "      <td>Operations Manager</td>\n",
       "      <td>10+ years</td>\n",
       "      <td>...</td>\n",
       "      <td>0.0</td>\n",
       "      <td>3.0</td>\n",
       "      <td>90.2</td>\n",
       "      <td>50.0</td>\n",
       "      <td>0</td>\n",
       "      <td>0</td>\n",
       "      <td>43100.0</td>\n",
       "      <td>23473.0</td>\n",
       "      <td>15000.0</td>\n",
       "      <td>0.0</td>\n",
       "    </tr>\n",
       "    <tr>\n",
       "      <th>10224583</th>\n",
       "      <th>12086734</th>\n",
       "      <td>11100</td>\n",
       "      <td>11100</td>\n",
       "      <td>11100.0</td>\n",
       "      <td>36 months</td>\n",
       "      <td>14.98%</td>\n",
       "      <td>384.68</td>\n",
       "      <td>C</td>\n",
       "      <td>C3</td>\n",
       "      <td>Teacher</td>\n",
       "      <td>10+ years</td>\n",
       "      <td>...</td>\n",
       "      <td>1.0</td>\n",
       "      <td>1.0</td>\n",
       "      <td>75.0</td>\n",
       "      <td>50.0</td>\n",
       "      <td>0</td>\n",
       "      <td>0</td>\n",
       "      <td>385000.0</td>\n",
       "      <td>6619.0</td>\n",
       "      <td>4000.0</td>\n",
       "      <td>0.0</td>\n",
       "    </tr>\n",
       "    <tr>\n",
       "      <th>10129477</th>\n",
       "      <th>11981093</th>\n",
       "      <td>14000</td>\n",
       "      <td>14000</td>\n",
       "      <td>14000.0</td>\n",
       "      <td>36 months</td>\n",
       "      <td>12.85%</td>\n",
       "      <td>470.71</td>\n",
       "      <td>B</td>\n",
       "      <td>B4</td>\n",
       "      <td>Assistant Director - Human Resources</td>\n",
       "      <td>4 years</td>\n",
       "      <td>...</td>\n",
       "      <td>0.0</td>\n",
       "      <td>0.0</td>\n",
       "      <td>78.6</td>\n",
       "      <td>100.0</td>\n",
       "      <td>1</td>\n",
       "      <td>0</td>\n",
       "      <td>31840.0</td>\n",
       "      <td>17672.0</td>\n",
       "      <td>3900.0</td>\n",
       "      <td>27340.0</td>\n",
       "    </tr>\n",
       "    <tr>\n",
       "      <th>10149577</th>\n",
       "      <th>12001118</th>\n",
       "      <td>28000</td>\n",
       "      <td>28000</td>\n",
       "      <td>28000.0</td>\n",
       "      <td>36 months</td>\n",
       "      <td>7.62%</td>\n",
       "      <td>872.52</td>\n",
       "      <td>A</td>\n",
       "      <td>A3</td>\n",
       "      <td>Area Sales Manager</td>\n",
       "      <td>5 years</td>\n",
       "      <td>...</td>\n",
       "      <td>0.0</td>\n",
       "      <td>5.0</td>\n",
       "      <td>100.0</td>\n",
       "      <td>16.7</td>\n",
       "      <td>0</td>\n",
       "      <td>0</td>\n",
       "      <td>850886.0</td>\n",
       "      <td>199739.0</td>\n",
       "      <td>42200.0</td>\n",
       "      <td>196686.0</td>\n",
       "    </tr>\n",
       "    <tr>\n",
       "      <th>10119590</th>\n",
       "      <th>11971211</th>\n",
       "      <td>11500</td>\n",
       "      <td>11500</td>\n",
       "      <td>11500.0</td>\n",
       "      <td>60 months</td>\n",
       "      <td>22.90%</td>\n",
       "      <td>323.54</td>\n",
       "      <td>E</td>\n",
       "      <td>E4</td>\n",
       "      <td>Secretary</td>\n",
       "      <td>4 years</td>\n",
       "      <td>...</td>\n",
       "      <td>0.0</td>\n",
       "      <td>2.0</td>\n",
       "      <td>100.0</td>\n",
       "      <td>50.0</td>\n",
       "      <td>0</td>\n",
       "      <td>0</td>\n",
       "      <td>30891.0</td>\n",
       "      <td>24724.0</td>\n",
       "      <td>9000.0</td>\n",
       "      <td>16791.0</td>\n",
       "    </tr>\n",
       "  </tbody>\n",
       "</table>\n",
       "<p>5 rows × 109 columns</p>\n",
       "</div>"
      ],
      "text/plain": [
       "                    loan_amnt  funded_amnt  funded_amnt_inv        term  \\\n",
       "id       member_id                                                        \n",
       "10129506 11981122       20800        20800          20800.0   36 months   \n",
       "10224583 12086734       11100        11100          11100.0   36 months   \n",
       "10129477 11981093       14000        14000          14000.0   36 months   \n",
       "10149577 12001118       28000        28000          28000.0   36 months   \n",
       "10119590 11971211       11500        11500          11500.0   60 months   \n",
       "\n",
       "                   int_rate  installment grade sub_grade  \\\n",
       "id       member_id                                         \n",
       "10129506 11981122    13.53%       706.16     B        B5   \n",
       "10224583 12086734    14.98%       384.68     C        C3   \n",
       "10129477 11981093    12.85%       470.71     B        B4   \n",
       "10149577 12001118     7.62%       872.52     A        A3   \n",
       "10119590 11971211    22.90%       323.54     E        E4   \n",
       "\n",
       "                                               emp_title emp_length  \\\n",
       "id       member_id                                                    \n",
       "10129506 11981122                     Operations Manager  10+ years   \n",
       "10224583 12086734                                Teacher  10+ years   \n",
       "10129477 11981093   Assistant Director - Human Resources    4 years   \n",
       "10149577 12001118                     Area Sales Manager    5 years   \n",
       "10119590 11971211                              Secretary    4 years   \n",
       "\n",
       "                              ...             num_tl_90g_dpd_24m  \\\n",
       "id       member_id            ...                                  \n",
       "10129506 11981122             ...                            0.0   \n",
       "10224583 12086734             ...                            1.0   \n",
       "10129477 11981093             ...                            0.0   \n",
       "10149577 12001118             ...                            0.0   \n",
       "10119590 11971211             ...                            0.0   \n",
       "\n",
       "                    num_tl_op_past_12m pct_tl_nvr_dlq percent_bc_gt_75  \\\n",
       "id       member_id                                                       \n",
       "10129506 11981122                  3.0           90.2             50.0   \n",
       "10224583 12086734                  1.0           75.0             50.0   \n",
       "10129477 11981093                  0.0           78.6            100.0   \n",
       "10149577 12001118                  5.0          100.0             16.7   \n",
       "10119590 11971211                  2.0          100.0             50.0   \n",
       "\n",
       "                   pub_rec_bankruptcies tax_liens tot_hi_cred_lim  \\\n",
       "id       member_id                                                  \n",
       "10129506 11981122                     0         0         43100.0   \n",
       "10224583 12086734                     0         0        385000.0   \n",
       "10129477 11981093                     1         0         31840.0   \n",
       "10149577 12001118                     0         0        850886.0   \n",
       "10119590 11971211                     0         0         30891.0   \n",
       "\n",
       "                   total_bal_ex_mort total_bc_limit total_il_high_credit_limit  \n",
       "id       member_id                                                              \n",
       "10129506 11981122            23473.0        15000.0                        0.0  \n",
       "10224583 12086734             6619.0         4000.0                        0.0  \n",
       "10129477 11981093            17672.0         3900.0                    27340.0  \n",
       "10149577 12001118           199739.0        42200.0                   196686.0  \n",
       "10119590 11971211            24724.0         9000.0                    16791.0  \n",
       "\n",
       "[5 rows x 109 columns]"
      ]
     },
     "execution_count": 9,
     "metadata": {},
     "output_type": "execute_result"
    }
   ],
   "source": [
    "data_2014.head()"
   ]
  },
  {
   "cell_type": "code",
   "execution_count": 10,
   "metadata": {
    "collapsed": false
   },
   "outputs": [
    {
     "data": {
      "text/html": [
       "<div>\n",
       "<table border=\"1\" class=\"dataframe\">\n",
       "  <thead>\n",
       "    <tr style=\"text-align: right;\">\n",
       "      <th></th>\n",
       "      <th></th>\n",
       "      <th>loan_amnt</th>\n",
       "      <th>funded_amnt</th>\n",
       "      <th>funded_amnt_inv</th>\n",
       "      <th>term</th>\n",
       "      <th>int_rate</th>\n",
       "      <th>installment</th>\n",
       "      <th>grade</th>\n",
       "      <th>sub_grade</th>\n",
       "      <th>emp_title</th>\n",
       "      <th>emp_length</th>\n",
       "      <th>...</th>\n",
       "      <th>num_tl_90g_dpd_24m</th>\n",
       "      <th>num_tl_op_past_12m</th>\n",
       "      <th>pct_tl_nvr_dlq</th>\n",
       "      <th>percent_bc_gt_75</th>\n",
       "      <th>pub_rec_bankruptcies</th>\n",
       "      <th>tax_liens</th>\n",
       "      <th>tot_hi_cred_lim</th>\n",
       "      <th>total_bal_ex_mort</th>\n",
       "      <th>total_bc_limit</th>\n",
       "      <th>total_il_high_credit_limit</th>\n",
       "    </tr>\n",
       "    <tr>\n",
       "      <th>id</th>\n",
       "      <th>member_id</th>\n",
       "      <th></th>\n",
       "      <th></th>\n",
       "      <th></th>\n",
       "      <th></th>\n",
       "      <th></th>\n",
       "      <th></th>\n",
       "      <th></th>\n",
       "      <th></th>\n",
       "      <th></th>\n",
       "      <th></th>\n",
       "      <th></th>\n",
       "      <th></th>\n",
       "      <th></th>\n",
       "      <th></th>\n",
       "      <th></th>\n",
       "      <th></th>\n",
       "      <th></th>\n",
       "      <th></th>\n",
       "      <th></th>\n",
       "      <th></th>\n",
       "      <th></th>\n",
       "    </tr>\n",
       "  </thead>\n",
       "  <tbody>\n",
       "    <tr>\n",
       "      <th>1077501</th>\n",
       "      <th>1296599.0</th>\n",
       "      <td>5000.0</td>\n",
       "      <td>5000.0</td>\n",
       "      <td>4975.0</td>\n",
       "      <td>36 months</td>\n",
       "      <td>10.65%</td>\n",
       "      <td>162.87</td>\n",
       "      <td>B</td>\n",
       "      <td>B2</td>\n",
       "      <td>NaN</td>\n",
       "      <td>10+ years</td>\n",
       "      <td>...</td>\n",
       "      <td>NaN</td>\n",
       "      <td>NaN</td>\n",
       "      <td>NaN</td>\n",
       "      <td>NaN</td>\n",
       "      <td>0.0</td>\n",
       "      <td>0.0</td>\n",
       "      <td>NaN</td>\n",
       "      <td>NaN</td>\n",
       "      <td>NaN</td>\n",
       "      <td>NaN</td>\n",
       "    </tr>\n",
       "    <tr>\n",
       "      <th>1077430</th>\n",
       "      <th>1314167.0</th>\n",
       "      <td>2500.0</td>\n",
       "      <td>2500.0</td>\n",
       "      <td>2500.0</td>\n",
       "      <td>60 months</td>\n",
       "      <td>15.27%</td>\n",
       "      <td>59.83</td>\n",
       "      <td>C</td>\n",
       "      <td>C4</td>\n",
       "      <td>Ryder</td>\n",
       "      <td>&lt; 1 year</td>\n",
       "      <td>...</td>\n",
       "      <td>NaN</td>\n",
       "      <td>NaN</td>\n",
       "      <td>NaN</td>\n",
       "      <td>NaN</td>\n",
       "      <td>0.0</td>\n",
       "      <td>0.0</td>\n",
       "      <td>NaN</td>\n",
       "      <td>NaN</td>\n",
       "      <td>NaN</td>\n",
       "      <td>NaN</td>\n",
       "    </tr>\n",
       "    <tr>\n",
       "      <th>1077175</th>\n",
       "      <th>1313524.0</th>\n",
       "      <td>2400.0</td>\n",
       "      <td>2400.0</td>\n",
       "      <td>2400.0</td>\n",
       "      <td>36 months</td>\n",
       "      <td>15.96%</td>\n",
       "      <td>84.33</td>\n",
       "      <td>C</td>\n",
       "      <td>C5</td>\n",
       "      <td>NaN</td>\n",
       "      <td>10+ years</td>\n",
       "      <td>...</td>\n",
       "      <td>NaN</td>\n",
       "      <td>NaN</td>\n",
       "      <td>NaN</td>\n",
       "      <td>NaN</td>\n",
       "      <td>0.0</td>\n",
       "      <td>0.0</td>\n",
       "      <td>NaN</td>\n",
       "      <td>NaN</td>\n",
       "      <td>NaN</td>\n",
       "      <td>NaN</td>\n",
       "    </tr>\n",
       "    <tr>\n",
       "      <th>1076863</th>\n",
       "      <th>1277178.0</th>\n",
       "      <td>10000.0</td>\n",
       "      <td>10000.0</td>\n",
       "      <td>10000.0</td>\n",
       "      <td>36 months</td>\n",
       "      <td>13.49%</td>\n",
       "      <td>339.31</td>\n",
       "      <td>C</td>\n",
       "      <td>C1</td>\n",
       "      <td>AIR RESOURCES BOARD</td>\n",
       "      <td>10+ years</td>\n",
       "      <td>...</td>\n",
       "      <td>NaN</td>\n",
       "      <td>NaN</td>\n",
       "      <td>NaN</td>\n",
       "      <td>NaN</td>\n",
       "      <td>0.0</td>\n",
       "      <td>0.0</td>\n",
       "      <td>NaN</td>\n",
       "      <td>NaN</td>\n",
       "      <td>NaN</td>\n",
       "      <td>NaN</td>\n",
       "    </tr>\n",
       "    <tr>\n",
       "      <th>1075358</th>\n",
       "      <th>1311748.0</th>\n",
       "      <td>3000.0</td>\n",
       "      <td>3000.0</td>\n",
       "      <td>3000.0</td>\n",
       "      <td>60 months</td>\n",
       "      <td>12.69%</td>\n",
       "      <td>67.79</td>\n",
       "      <td>B</td>\n",
       "      <td>B5</td>\n",
       "      <td>University Medical Group</td>\n",
       "      <td>1 year</td>\n",
       "      <td>...</td>\n",
       "      <td>NaN</td>\n",
       "      <td>NaN</td>\n",
       "      <td>NaN</td>\n",
       "      <td>NaN</td>\n",
       "      <td>0.0</td>\n",
       "      <td>0.0</td>\n",
       "      <td>NaN</td>\n",
       "      <td>NaN</td>\n",
       "      <td>NaN</td>\n",
       "      <td>NaN</td>\n",
       "    </tr>\n",
       "  </tbody>\n",
       "</table>\n",
       "<p>5 rows × 109 columns</p>\n",
       "</div>"
      ],
      "text/plain": [
       "                   loan_amnt  funded_amnt  funded_amnt_inv        term  \\\n",
       "id      member_id                                                        \n",
       "1077501 1296599.0     5000.0       5000.0           4975.0   36 months   \n",
       "1077430 1314167.0     2500.0       2500.0           2500.0   60 months   \n",
       "1077175 1313524.0     2400.0       2400.0           2400.0   36 months   \n",
       "1076863 1277178.0    10000.0      10000.0          10000.0   36 months   \n",
       "1075358 1311748.0     3000.0       3000.0           3000.0   60 months   \n",
       "\n",
       "                  int_rate  installment grade sub_grade  \\\n",
       "id      member_id                                         \n",
       "1077501 1296599.0   10.65%       162.87     B        B2   \n",
       "1077430 1314167.0   15.27%        59.83     C        C4   \n",
       "1077175 1313524.0   15.96%        84.33     C        C5   \n",
       "1076863 1277178.0   13.49%       339.31     C        C1   \n",
       "1075358 1311748.0   12.69%        67.79     B        B5   \n",
       "\n",
       "                                  emp_title emp_length  \\\n",
       "id      member_id                                        \n",
       "1077501 1296599.0                       NaN  10+ years   \n",
       "1077430 1314167.0                     Ryder   < 1 year   \n",
       "1077175 1313524.0                       NaN  10+ years   \n",
       "1076863 1277178.0       AIR RESOURCES BOARD  10+ years   \n",
       "1075358 1311748.0  University Medical Group     1 year   \n",
       "\n",
       "                             ...             num_tl_90g_dpd_24m  \\\n",
       "id      member_id            ...                                  \n",
       "1077501 1296599.0            ...                            NaN   \n",
       "1077430 1314167.0            ...                            NaN   \n",
       "1077175 1313524.0            ...                            NaN   \n",
       "1076863 1277178.0            ...                            NaN   \n",
       "1075358 1311748.0            ...                            NaN   \n",
       "\n",
       "                   num_tl_op_past_12m pct_tl_nvr_dlq percent_bc_gt_75  \\\n",
       "id      member_id                                                       \n",
       "1077501 1296599.0                 NaN            NaN              NaN   \n",
       "1077430 1314167.0                 NaN            NaN              NaN   \n",
       "1077175 1313524.0                 NaN            NaN              NaN   \n",
       "1076863 1277178.0                 NaN            NaN              NaN   \n",
       "1075358 1311748.0                 NaN            NaN              NaN   \n",
       "\n",
       "                  pub_rec_bankruptcies tax_liens tot_hi_cred_lim  \\\n",
       "id      member_id                                                  \n",
       "1077501 1296599.0                  0.0       0.0             NaN   \n",
       "1077430 1314167.0                  0.0       0.0             NaN   \n",
       "1077175 1313524.0                  0.0       0.0             NaN   \n",
       "1076863 1277178.0                  0.0       0.0             NaN   \n",
       "1075358 1311748.0                  0.0       0.0             NaN   \n",
       "\n",
       "                  total_bal_ex_mort total_bc_limit total_il_high_credit_limit  \n",
       "id      member_id                                                              \n",
       "1077501 1296599.0               NaN            NaN                        NaN  \n",
       "1077430 1314167.0               NaN            NaN                        NaN  \n",
       "1077175 1313524.0               NaN            NaN                        NaN  \n",
       "1076863 1277178.0               NaN            NaN                        NaN  \n",
       "1075358 1311748.0               NaN            NaN                        NaN  \n",
       "\n",
       "[5 rows x 109 columns]"
      ]
     },
     "execution_count": 10,
     "metadata": {},
     "output_type": "execute_result"
    }
   ],
   "source": [
    "data_2007_2011.head()"
   ]
  },
  {
   "cell_type": "code",
   "execution_count": 11,
   "metadata": {
    "collapsed": false
   },
   "outputs": [
    {
     "name": "stdout",
     "output_type": "stream",
     "text": [
      "float64    83\n",
      "object     26\n",
      "dtype: int64\n",
      "\n",
      "float64    69\n",
      "object     26\n",
      "int64      14\n",
      "dtype: int64\n",
      "\n",
      "float64    43\n",
      "int64      40\n",
      "object     26\n",
      "dtype: int64\n",
      "\n"
     ]
    },
    {
     "data": {
      "text/plain": [
       "float64    44\n",
       "int64      39\n",
       "object     26\n",
       "dtype: int64"
      ]
     },
     "execution_count": 11,
     "metadata": {},
     "output_type": "execute_result"
    }
   ],
   "source": [
    "print data_2007_2011.dtypes.value_counts()\n",
    "print\n",
    "print data_2014.dtypes.value_counts()\n",
    "print\n",
    "print data_2015.dtypes.value_counts()\n",
    "print\n",
    "data.dtypes.value_counts()"
   ]
  },
  {
   "cell_type": "markdown",
   "metadata": {},
   "source": [
    "Depending on the specific dataset used, the numeric values may be read in as integers. For best performance and to enable mergining of the datasets, we convert those fields to floats (which allow NaN values):"
   ]
  },
  {
   "cell_type": "code",
   "execution_count": 12,
   "metadata": {
    "collapsed": false
   },
   "outputs": [],
   "source": [
    "for k, v in convert_float.items():\n",
    "    data_2007_2011[k] = data_2007_2011[k].astype(v)\n",
    "    data_2014[k] = data_2014[k].astype(v)\n",
    "    data_2015[k] = data_2015[k].astype(v)\n",
    "    data[k] = data[k].astype(v)"
   ]
  },
  {
   "cell_type": "markdown",
   "metadata": {},
   "source": [
    "Checking the data types after the float conversion:"
   ]
  },
  {
   "cell_type": "code",
   "execution_count": 13,
   "metadata": {
    "collapsed": false
   },
   "outputs": [
    {
     "name": "stdout",
     "output_type": "stream",
     "text": [
      "float64    83\n",
      "object     26\n",
      "dtype: int64\n",
      "\n",
      "float64    83\n",
      "object     26\n",
      "dtype: int64\n",
      "\n",
      "float64    83\n",
      "object     26\n",
      "dtype: int64\n",
      "\n"
     ]
    },
    {
     "data": {
      "text/plain": [
       "float64    83\n",
       "object     26\n",
       "dtype: int64"
      ]
     },
     "execution_count": 13,
     "metadata": {},
     "output_type": "execute_result"
    }
   ],
   "source": [
    "print data_2007_2011.dtypes.value_counts()\n",
    "print\n",
    "print data_2014.dtypes.value_counts()\n",
    "print\n",
    "print data_2015.dtypes.value_counts()\n",
    "print\n",
    "data.dtypes.value_counts()"
   ]
  },
  {
   "cell_type": "markdown",
   "metadata": {},
   "source": [
    "The object fields need some more processing. First, we list out those fields:"
   ]
  },
  {
   "cell_type": "code",
   "execution_count": 14,
   "metadata": {
    "collapsed": false
   },
   "outputs": [
    {
     "data": {
      "text/plain": [
       "term                         object\n",
       "int_rate                     object\n",
       "grade                        object\n",
       "sub_grade                    object\n",
       "emp_title                    object\n",
       "emp_length                   object\n",
       "home_ownership               object\n",
       "verification_status          object\n",
       "issue_d                      object\n",
       "loan_status                  object\n",
       "pymnt_plan                   object\n",
       "url                          object\n",
       "desc                         object\n",
       "purpose                      object\n",
       "title                        object\n",
       "zip_code                     object\n",
       "addr_state                   object\n",
       "earliest_cr_line             object\n",
       "revol_util                   object\n",
       "initial_list_status          object\n",
       "last_pymnt_d                 object\n",
       "next_pymnt_d                 object\n",
       "last_credit_pull_d           object\n",
       "policy_code                  object\n",
       "application_type             object\n",
       "verification_status_joint    object\n",
       "dtype: object"
      ]
     },
     "execution_count": 14,
     "metadata": {},
     "output_type": "execute_result"
    }
   ],
   "source": [
    "data.dtypes[data.dtypes==\"object\"]\n",
    "data_2007_2011.dtypes[data_2007_2011.dtypes==\"object\"]\n",
    "data_2014.dtypes[data_2014.dtypes==\"object\"]\n",
    "data_2015.dtypes[data_2015.dtypes==\"object\"]"
   ]
  },
  {
   "cell_type": "markdown",
   "metadata": {},
   "source": [
    "There are 5 object fields that contain dates in the format *YYYY-MMM* (e.g. '2010-Jan'). We parse those to return datetime fields, which are more easily input into time series models or plotted in charts."
   ]
  },
  {
   "cell_type": "code",
   "execution_count": 15,
   "metadata": {
    "collapsed": false
   },
   "outputs": [],
   "source": [
    "data.issue_d = pd.to_datetime(data.issue_d, errors=\"coerce\")\n",
    "data.last_pymnt_d = pd.to_datetime(data.last_pymnt_d, errors=\"coerce\")\n",
    "data.next_pymnt_d = pd.to_datetime(data.next_pymnt_d, errors=\"coerce\")\n",
    "data.last_credit_pull_d = pd.to_datetime(data.last_credit_pull_d, errors=\"coerce\")\n",
    "data.earliest_cr_line = pd.to_datetime(data.earliest_cr_line, errors=\"coerce\")\n",
    "\n",
    "data_2007_2011.issue_d = pd.to_datetime(data_2007_2011.issue_d, errors=\"coerce\")\n",
    "data_2007_2011.last_pymnt_d = pd.to_datetime(data_2007_2011.last_pymnt_d, errors=\"coerce\")\n",
    "data_2007_2011.next_pymnt_d = pd.to_datetime(data_2007_2011.next_pymnt_d, errors=\"coerce\")\n",
    "data_2007_2011.last_credit_pull_d = pd.to_datetime(data_2007_2011.last_credit_pull_d, errors=\"coerce\")\n",
    "data_2007_2011.earliest_cr_line = pd.to_datetime(data_2007_2011.earliest_cr_line, errors=\"coerce\")\n",
    "\n",
    "data_2014.issue_d = pd.to_datetime(data_2014.issue_d, errors=\"coerce\")\n",
    "data_2014.last_pymnt_d = pd.to_datetime(data_2014.last_pymnt_d, errors=\"coerce\")\n",
    "data_2014.next_pymnt_d = pd.to_datetime(data_2014.next_pymnt_d, errors=\"coerce\")\n",
    "data_2014.last_credit_pull_d = pd.to_datetime(data_2014.last_credit_pull_d, errors=\"coerce\")\n",
    "data_2014.earliest_cr_line = pd.to_datetime(data_2014.earliest_cr_line, errors=\"coerce\")\n",
    "\n",
    "data_2015.issue_d = pd.to_datetime(data_2015.issue_d, errors=\"coerce\")\n",
    "data_2015.last_pymnt_d = pd.to_datetime(data_2015.last_pymnt_d, errors=\"coerce\")\n",
    "data_2015.next_pymnt_d = pd.to_datetime(data_2015.next_pymnt_d, errors=\"coerce\")\n",
    "data_2015.last_credit_pull_d = pd.to_datetime(data_2015.last_credit_pull_d, errors=\"coerce\")\n",
    "data_2015.earliest_cr_line = pd.to_datetime(data_2015.earliest_cr_line, errors=\"coerce\")"
   ]
  },
  {
   "cell_type": "markdown",
   "metadata": {},
   "source": [
    "### Feature expansion"
   ]
  },
  {
   "cell_type": "markdown",
   "metadata": {},
   "source": [
    "Many of the remaining fields contain categorical data. We use the pandas *category* data type to store the data more efficiently."
   ]
  },
  {
   "cell_type": "code",
   "execution_count": 16,
   "metadata": {
    "collapsed": false
   },
   "outputs": [],
   "source": [
    "data.term = pd.Categorical(data.term, categories= [\" 36 months\", \" 60 months\", \"None\"])\n",
    "data.grade = pd.Categorical(data.grade, categories=[\"A\", \"B\", \"C\", \"D\", \"E\", \"F\", \"G\", \"None\"])\n",
    "data.sub_grade = pd.Categorical(data.sub_grade, categories=[\"A1\", \"A2\", \"A3\", \"A4\", \"A5\",\n",
    "                                                            \"B1\", \"B2\", \"B3\", \"B4\", \"B5\", \n",
    "                                                            \"C1\", \"C2\", \"C3\", \"C4\", \"C5\",\n",
    "                                                            \"D1\", \"D2\", \"D3\", \"D4\", \"D5\",\n",
    "                                                            \"E1\", \"E2\", \"E3\", \"E4\", \"E5\",\n",
    "                                                            \"F1\", \"F2\", \"F3\", \"F4\", \"F5\",\n",
    "                                                            \"G1\", \"G2\", \"G3\", \"G4\", \"G5\",\n",
    "                                                            \"None\"])\n",
    "data.home_ownership = pd.Categorical(data.home_ownership.str.title(), categories=[\"Own\", \"Mortgage\", \"Rent\", \"Any\", \"Other\", \"None\"])\n",
    "data.emp_length = pd.Categorical(data.emp_length, categories=[\"< 1 year\", \"1 year\", \"2 years\", \"3 years\",\n",
    "                                                              \"4 years\", \"5 years\", \"6 years\", \"7 years\",\n",
    "                                                              \"8 years\", \"9 years\", \"10+ years\", \"n/a\", \"None\"])\n",
    "data.verification_status = pd.Categorical(data.verification_status, categories=[\"Verified\", \"Source Verified\", \"Not Verified\", \"None\"])\n",
    "data.loan_status = pd.Categorical(data.loan_status, categories=[\"Fully Paid\", \"Current\", \"Charged Off\",\n",
    "                                                                \"Does not meet the credit policy. Status:Fully Paid\",\n",
    "                                                                \"Does not meet the credit policy. Status:Charged Off\",\n",
    "                                                                \"In Grace Period\", \"Late (16-30 days)\", \"Late (31-120 days)\",\n",
    "                                                                \"Default\", \"None\"])\n",
    "data.pymnt_plan = pd.Categorical(data.pymnt_plan.str.title(), categories=[\"Y\", \"N\", \"None\"])\n",
    "data.purpose = pd.Categorical(data.purpose.str.title(),\n",
    "                              categories=[\"Debt_Consolidation\", \"Credit_Card\", \"Home_Improvement\", \"Major_Purchase\", \n",
    "                                          \"Small_Business\", \"Car\", \"Wedding\", \"Medical\", \"Moving\", \"House\",\n",
    "                                          \"Educational\", \"Vacation\", \"Renewable_Energy\", \"Other\", \"None\"])\n",
    "data.addr_state = pd.Categorical(data.addr_state,\n",
    "                                 categories=[\"AK\", \"AL\", \"AR\", \"AZ\", \"CA\", \"CO\", \"CT\", \"DC\", \"DE\", \"FL\",\n",
    "                                             \"GA\", \"HI\", \"IA\", \"ID\", \"IL\", \"IN\", \"KS\", \"KY\", \"LA\", \"MA\",\n",
    "                                             \"MD\", \"ME\", \"MI\", \"MN\", \"MO\", \"MS\", \"MT\", \"NC\", \"ND\", \"NE\",\n",
    "                                             \"NH\", \"NJ\", \"NM\", \"NV\", \"NY\", \"OH\", \"OK\", \"OR\", \"PA\", \"RI\",\n",
    "                                             \"SC\", \"SD\", \"TN\", \"TX\", \"UT\", \"VA\", \"VT\", \"WA\", \"WI\", \"WV\",\n",
    "                                             \"WY\", \"None\"])\n",
    "data.initial_list_status = pd.Categorical(data.initial_list_status, categories=[\"f\", \"w\", \"None\"])\n",
    "data.policy_code = pd.Categorical(data.policy_code, categories=[\"1\", \"None\"])\n",
    "data.application_type = pd.Categorical(data.application_type.str.title(), categories=[\"Individual\", \"Joint\", \"None\"])\n",
    "data.verification_status_joint = pd.Categorical(data.verification_status_joint, categories=[\"Verified\", \"Source Verified\", \"Not Verified\", \"None\"])"
   ]
  },
  {
   "cell_type": "code",
   "execution_count": 17,
   "metadata": {
    "collapsed": true
   },
   "outputs": [],
   "source": [
    "data_2007_2011.term = pd.Categorical(data_2007_2011.term, categories= [\" 36 months\", \" 60 months\", \"None\"])\n",
    "data_2007_2011.grade = pd.Categorical(data_2007_2011.grade, categories=[\"A\", \"B\", \"C\", \"D\", \"E\", \"F\", \"G\", \"None\"])\n",
    "data_2007_2011.sub_grade = pd.Categorical(data_2007_2011.sub_grade, categories=[\"A1\", \"A2\", \"A3\", \"A4\", \"A5\",\n",
    "                                                            \"B1\", \"B2\", \"B3\", \"B4\", \"B5\", \n",
    "                                                            \"C1\", \"C2\", \"C3\", \"C4\", \"C5\",\n",
    "                                                            \"D1\", \"D2\", \"D3\", \"D4\", \"D5\",\n",
    "                                                            \"E1\", \"E2\", \"E3\", \"E4\", \"E5\",\n",
    "                                                            \"F1\", \"F2\", \"F3\", \"F4\", \"F5\",\n",
    "                                                            \"G1\", \"G2\", \"G3\", \"G4\", \"G5\",\n",
    "                                                            \"None\"])\n",
    "data_2007_2011.home_ownership = pd.Categorical(data_2007_2011.home_ownership.str.title(), categories=[\"Own\", \"Mortgage\", \"Rent\", \"Any\", \"Other\", \"None\"])\n",
    "data_2007_2011.emp_length = pd.Categorical(data_2007_2011.emp_length, categories=[\"< 1 year\", \"1 year\", \"2 years\", \"3 years\",\n",
    "                                                              \"4 years\", \"5 years\", \"6 years\", \"7 years\",\n",
    "                                                              \"8 years\", \"9 years\", \"10+ years\", \"n/a\", \"None\"])\n",
    "data_2007_2011.verification_status = pd.Categorical(data_2007_2011.verification_status, categories=[\"Verified\", \"Source Verified\", \"Not Verified\", \"None\"])\n",
    "data_2007_2011.loan_status = pd.Categorical(data_2007_2011.loan_status, categories=[\"Fully Paid\", \"Current\", \"Charged Off\",\n",
    "                                                                \"Does not meet the credit policy. Status:Fully Paid\",\n",
    "                                                                \"Does not meet the credit policy. Status:Charged Off\",\n",
    "                                                                \"In Grace Period\", \"Late (16-30 days)\", \"Late (31-120 days)\",\n",
    "                                                                \"Default\", \"None\"])\n",
    "data_2007_2011.pymnt_plan = pd.Categorical(data_2007_2011.pymnt_plan.str.title(), categories=[\"Y\", \"N\", \"None\"])\n",
    "data_2007_2011.purpose = pd.Categorical(data_2007_2011.purpose.str.title(),\n",
    "                              categories=[\"Debt_Consolidation\", \"Credit_Card\", \"Home_Improvement\", \"Major_Purchase\", \n",
    "                                          \"Small_Business\", \"Car\", \"Wedding\", \"Medical\", \"Moving\", \"House\",\n",
    "                                          \"Educational\", \"Vacation\", \"Renewable_Energy\", \"Other\", \"None\"])\n",
    "data_2007_2011.addr_state = pd.Categorical(data_2007_2011.addr_state,\n",
    "                                 categories=[\"AK\", \"AL\", \"AR\", \"AZ\", \"CA\", \"CO\", \"CT\", \"DC\", \"DE\", \"FL\",\n",
    "                                             \"GA\", \"HI\", \"IA\", \"ID\", \"IL\", \"IN\", \"KS\", \"KY\", \"LA\", \"MA\",\n",
    "                                             \"MD\", \"ME\", \"MI\", \"MN\", \"MO\", \"MS\", \"MT\", \"NC\", \"ND\", \"NE\",\n",
    "                                             \"NH\", \"NJ\", \"NM\", \"NV\", \"NY\", \"OH\", \"OK\", \"OR\", \"PA\", \"RI\",\n",
    "                                             \"SC\", \"SD\", \"TN\", \"TX\", \"UT\", \"VA\", \"VT\", \"WA\", \"WI\", \"WV\",\n",
    "                                             \"WY\", \"None\"])\n",
    "data_2007_2011.initial_list_status = pd.Categorical(data_2007_2011.initial_list_status, categories=[\"f\", \"w\", \"None\"])\n",
    "data_2007_2011.policy_code = pd.Categorical(data_2007_2011.policy_code, categories=[\"1\", \"None\"])\n",
    "data_2007_2011.application_type = pd.Categorical(data_2007_2011.application_type.str.title(), categories=[\"Individual\", \"Joint\", \"None\"])\n",
    "data_2007_2011.verification_status_joint = pd.Categorical(data_2007_2011.verification_status_joint, categories=[\"Verified\", \"Source Verified\", \"Not Verified\", \"None\"])"
   ]
  },
  {
   "cell_type": "code",
   "execution_count": 18,
   "metadata": {
    "collapsed": true
   },
   "outputs": [],
   "source": [
    "data_2014.term = pd.Categorical(data_2014.term, categories= [\" 36 months\", \" 60 months\", \"None\"])\n",
    "data_2014.grade = pd.Categorical(data_2014.grade, categories=[\"A\", \"B\", \"C\", \"D\", \"E\", \"F\", \"G\", \"None\"])\n",
    "data_2014.sub_grade = pd.Categorical(data_2014.sub_grade, categories=[\"A1\", \"A2\", \"A3\", \"A4\", \"A5\",\n",
    "                                                            \"B1\", \"B2\", \"B3\", \"B4\", \"B5\", \n",
    "                                                            \"C1\", \"C2\", \"C3\", \"C4\", \"C5\",\n",
    "                                                            \"D1\", \"D2\", \"D3\", \"D4\", \"D5\",\n",
    "                                                            \"E1\", \"E2\", \"E3\", \"E4\", \"E5\",\n",
    "                                                            \"F1\", \"F2\", \"F3\", \"F4\", \"F5\",\n",
    "                                                            \"G1\", \"G2\", \"G3\", \"G4\", \"G5\",\n",
    "                                                            \"None\"])\n",
    "data_2014.home_ownership = pd.Categorical(data_2014.home_ownership.str.title(), categories=[\"Own\", \"Mortgage\", \"Rent\", \"Any\", \"Other\", \"None\"])\n",
    "data_2014.emp_length = pd.Categorical(data_2014.emp_length, categories=[\"< 1 year\", \"1 year\", \"2 years\", \"3 years\",\n",
    "                                                              \"4 years\", \"5 years\", \"6 years\", \"7 years\",\n",
    "                                                              \"8 years\", \"9 years\", \"10+ years\", \"n/a\", \"None\"])\n",
    "data_2014.verification_status = pd.Categorical(data_2014.verification_status, categories=[\"Verified\", \"Source Verified\", \"Not Verified\", \"None\"])\n",
    "data_2014.loan_status = pd.Categorical(data_2014.loan_status, categories=[\"Fully Paid\", \"Current\", \"Charged Off\",\n",
    "                                                                \"Does not meet the credit policy. Status:Fully Paid\",\n",
    "                                                                \"Does not meet the credit policy. Status:Charged Off\",\n",
    "                                                                \"In Grace Period\", \"Late (16-30 days)\", \"Late (31-120 days)\",\n",
    "                                                                \"Default\", \"None\"])\n",
    "data_2014.pymnt_plan = pd.Categorical(data_2014.pymnt_plan.str.title(), categories=[\"Y\", \"N\", \"None\"])\n",
    "data_2014.purpose = pd.Categorical(data_2014.purpose.str.title(),\n",
    "                              categories=[\"Debt_Consolidation\", \"Credit_Card\", \"Home_Improvement\", \"Major_Purchase\", \n",
    "                                          \"Small_Business\", \"Car\", \"Wedding\", \"Medical\", \"Moving\", \"House\",\n",
    "                                          \"Educational\", \"Vacation\", \"Renewable_Energy\", \"Other\", \"None\"])\n",
    "data_2014.addr_state = pd.Categorical(data_2014.addr_state,\n",
    "                                 categories=[\"AK\", \"AL\", \"AR\", \"AZ\", \"CA\", \"CO\", \"CT\", \"DC\", \"DE\", \"FL\",\n",
    "                                             \"GA\", \"HI\", \"IA\", \"ID\", \"IL\", \"IN\", \"KS\", \"KY\", \"LA\", \"MA\",\n",
    "                                             \"MD\", \"ME\", \"MI\", \"MN\", \"MO\", \"MS\", \"MT\", \"NC\", \"ND\", \"NE\",\n",
    "                                             \"NH\", \"NJ\", \"NM\", \"NV\", \"NY\", \"OH\", \"OK\", \"OR\", \"PA\", \"RI\",\n",
    "                                             \"SC\", \"SD\", \"TN\", \"TX\", \"UT\", \"VA\", \"VT\", \"WA\", \"WI\", \"WV\",\n",
    "                                             \"WY\", \"None\"])\n",
    "data_2014.initial_list_status = pd.Categorical(data_2014.initial_list_status, categories=[\"f\", \"w\", \"None\"])\n",
    "data_2014.policy_code = pd.Categorical(data_2014.policy_code, categories=[\"1\", \"None\"])\n",
    "data_2014.application_type = pd.Categorical(data_2014.application_type.str.title(), categories=[\"Individual\", \"Joint\", \"None\"])\n",
    "data_2014.verification_status_joint = pd.Categorical(data_2014.verification_status_joint, categories=[\"Verified\", \"Source Verified\", \"Not Verified\", \"None\"])"
   ]
  },
  {
   "cell_type": "code",
   "execution_count": 19,
   "metadata": {
    "collapsed": true
   },
   "outputs": [],
   "source": [
    "data_2015.term = pd.Categorical(data_2015.term, categories= [\" 36 months\", \" 60 months\", \"None\"])\n",
    "data_2015.grade = pd.Categorical(data_2015.grade, categories=[\"A\", \"B\", \"C\", \"D\", \"E\", \"F\", \"G\", \"None\"])\n",
    "data_2015.sub_grade = pd.Categorical(data_2015.sub_grade, categories=[\"A1\", \"A2\", \"A3\", \"A4\", \"A5\",\n",
    "                                                            \"B1\", \"B2\", \"B3\", \"B4\", \"B5\", \n",
    "                                                            \"C1\", \"C2\", \"C3\", \"C4\", \"C5\",\n",
    "                                                            \"D1\", \"D2\", \"D3\", \"D4\", \"D5\",\n",
    "                                                            \"E1\", \"E2\", \"E3\", \"E4\", \"E5\",\n",
    "                                                            \"F1\", \"F2\", \"F3\", \"F4\", \"F5\",\n",
    "                                                            \"G1\", \"G2\", \"G3\", \"G4\", \"G5\",\n",
    "                                                            \"None\"])\n",
    "data_2015.home_ownership = pd.Categorical(data_2015.home_ownership.str.title(), categories=[\"Own\", \"Mortgage\", \"Rent\", \"Any\", \"Other\", \"None\"])\n",
    "data_2015.emp_length = pd.Categorical(data_2015.emp_length, categories=[\"< 1 year\", \"1 year\", \"2 years\", \"3 years\",\n",
    "                                                              \"4 years\", \"5 years\", \"6 years\", \"7 years\",\n",
    "                                                              \"8 years\", \"9 years\", \"10+ years\", \"n/a\", \"None\"])\n",
    "data_2015.verification_status = pd.Categorical(data_2015.verification_status, categories=[\"Verified\", \"Source Verified\", \"Not Verified\", \"None\"])\n",
    "data_2015.loan_status = pd.Categorical(data_2015.loan_status, categories=[\"Fully Paid\", \"Current\", \"Charged Off\",\n",
    "                                                                \"Does not meet the credit policy. Status:Fully Paid\",\n",
    "                                                                \"Does not meet the credit policy. Status:Charged Off\",\n",
    "                                                                \"In Grace Period\", \"Late (16-30 days)\", \"Late (31-120 days)\",\n",
    "                                                                \"Default\", \"None\"])\n",
    "data_2015.pymnt_plan = pd.Categorical(data_2015.pymnt_plan.str.title(), categories=[\"Y\", \"N\", \"None\"])\n",
    "data_2015.purpose = pd.Categorical(data_2015.purpose.str.title(),\n",
    "                              categories=[\"Debt_Consolidation\", \"Credit_Card\", \"Home_Improvement\", \"Major_Purchase\", \n",
    "                                          \"Small_Business\", \"Car\", \"Wedding\", \"Medical\", \"Moving\", \"House\",\n",
    "                                          \"Educational\", \"Vacation\", \"Renewable_Energy\", \"Other\", \"None\"])\n",
    "data_2015.addr_state = pd.Categorical(data_2015.addr_state,\n",
    "                                 categories=[\"AK\", \"AL\", \"AR\", \"AZ\", \"CA\", \"CO\", \"CT\", \"DC\", \"DE\", \"FL\",\n",
    "                                             \"GA\", \"HI\", \"IA\", \"ID\", \"IL\", \"IN\", \"KS\", \"KY\", \"LA\", \"MA\",\n",
    "                                             \"MD\", \"ME\", \"MI\", \"MN\", \"MO\", \"MS\", \"MT\", \"NC\", \"ND\", \"NE\",\n",
    "                                             \"NH\", \"NJ\", \"NM\", \"NV\", \"NY\", \"OH\", \"OK\", \"OR\", \"PA\", \"RI\",\n",
    "                                             \"SC\", \"SD\", \"TN\", \"TX\", \"UT\", \"VA\", \"VT\", \"WA\", \"WI\", \"WV\",\n",
    "                                             \"WY\", \"None\"])\n",
    "data_2015.initial_list_status = pd.Categorical(data_2015.initial_list_status, categories=[\"f\", \"w\", \"None\"])\n",
    "data_2015.policy_code = pd.Categorical(data_2015.policy_code, categories=[\"1\", \"None\"])\n",
    "data_2015.application_type = pd.Categorical(data_2015.application_type.str.title(), categories=[\"Individual\", \"Joint\", \"None\"])\n",
    "data_2015.verification_status_joint = pd.Categorical(data_2015.verification_status_joint, categories=[\"Verified\", \"Source Verified\", \"Not Verified\", \"None\"])"
   ]
  },
  {
   "cell_type": "markdown",
   "metadata": {},
   "source": [
    "To validate the categorical data conversion, we check a table listing Null values for each field. If any categories were excluded inadvertently, the *Null Count* in this table would show up as > 0. The *verification_status_joint* field does not appear to contain valid data for the datasets that have been analyzed."
   ]
  },
  {
   "cell_type": "code",
   "execution_count": 20,
   "metadata": {
    "collapsed": false
   },
   "outputs": [
    {
     "data": {
      "text/html": [
       "<div>\n",
       "<table border=\"1\" class=\"dataframe\">\n",
       "  <thead>\n",
       "    <tr style=\"text-align: right;\">\n",
       "      <th></th>\n",
       "      <th>Categorical Field</th>\n",
       "      <th>Null Count</th>\n",
       "    </tr>\n",
       "  </thead>\n",
       "  <tbody>\n",
       "    <tr>\n",
       "      <th>0</th>\n",
       "      <td>term</td>\n",
       "      <td>0</td>\n",
       "    </tr>\n",
       "    <tr>\n",
       "      <th>1</th>\n",
       "      <td>grade</td>\n",
       "      <td>0</td>\n",
       "    </tr>\n",
       "    <tr>\n",
       "      <th>2</th>\n",
       "      <td>sub_grade</td>\n",
       "      <td>0</td>\n",
       "    </tr>\n",
       "    <tr>\n",
       "      <th>3</th>\n",
       "      <td>emp_length</td>\n",
       "      <td>0</td>\n",
       "    </tr>\n",
       "    <tr>\n",
       "      <th>4</th>\n",
       "      <td>home_ownership</td>\n",
       "      <td>0</td>\n",
       "    </tr>\n",
       "    <tr>\n",
       "      <th>5</th>\n",
       "      <td>verification_status</td>\n",
       "      <td>0</td>\n",
       "    </tr>\n",
       "    <tr>\n",
       "      <th>6</th>\n",
       "      <td>loan_status</td>\n",
       "      <td>0</td>\n",
       "    </tr>\n",
       "    <tr>\n",
       "      <th>7</th>\n",
       "      <td>pymnt_plan</td>\n",
       "      <td>0</td>\n",
       "    </tr>\n",
       "    <tr>\n",
       "      <th>8</th>\n",
       "      <td>purpose</td>\n",
       "      <td>0</td>\n",
       "    </tr>\n",
       "    <tr>\n",
       "      <th>9</th>\n",
       "      <td>addr_state</td>\n",
       "      <td>0</td>\n",
       "    </tr>\n",
       "    <tr>\n",
       "      <th>10</th>\n",
       "      <td>initial_list_status</td>\n",
       "      <td>0</td>\n",
       "    </tr>\n",
       "    <tr>\n",
       "      <th>11</th>\n",
       "      <td>policy_code</td>\n",
       "      <td>0</td>\n",
       "    </tr>\n",
       "    <tr>\n",
       "      <th>12</th>\n",
       "      <td>application_type</td>\n",
       "      <td>0</td>\n",
       "    </tr>\n",
       "    <tr>\n",
       "      <th>13</th>\n",
       "      <td>verification_status_joint</td>\n",
       "      <td>420584</td>\n",
       "    </tr>\n",
       "  </tbody>\n",
       "</table>\n",
       "</div>"
      ],
      "text/plain": [
       "            Categorical Field  Null Count\n",
       "0                        term           0\n",
       "1                       grade           0\n",
       "2                   sub_grade           0\n",
       "3                  emp_length           0\n",
       "4              home_ownership           0\n",
       "5         verification_status           0\n",
       "6                 loan_status           0\n",
       "7                  pymnt_plan           0\n",
       "8                     purpose           0\n",
       "9                  addr_state           0\n",
       "10        initial_list_status           0\n",
       "11                policy_code           0\n",
       "12           application_type           0\n",
       "13  verification_status_joint      420584"
      ]
     },
     "execution_count": 20,
     "metadata": {},
     "output_type": "execute_result"
    }
   ],
   "source": [
    "pd.DataFrame([[f, sum(pd.isnull(data[f]))] for f in data.columns[data.dtypes==\"category\"]],\n",
    "             columns=[\"Categorical Field\", \"Null Count\"])"
   ]
  },
  {
   "cell_type": "code",
   "execution_count": 21,
   "metadata": {
    "collapsed": false
   },
   "outputs": [
    {
     "data": {
      "text/html": [
       "<div>\n",
       "<table border=\"1\" class=\"dataframe\">\n",
       "  <thead>\n",
       "    <tr style=\"text-align: right;\">\n",
       "      <th></th>\n",
       "      <th>Categorical Field</th>\n",
       "      <th>Null Count</th>\n",
       "    </tr>\n",
       "  </thead>\n",
       "  <tbody>\n",
       "    <tr>\n",
       "      <th>0</th>\n",
       "      <td>term</td>\n",
       "      <td>0</td>\n",
       "    </tr>\n",
       "    <tr>\n",
       "      <th>1</th>\n",
       "      <td>grade</td>\n",
       "      <td>0</td>\n",
       "    </tr>\n",
       "    <tr>\n",
       "      <th>2</th>\n",
       "      <td>sub_grade</td>\n",
       "      <td>0</td>\n",
       "    </tr>\n",
       "    <tr>\n",
       "      <th>3</th>\n",
       "      <td>emp_length</td>\n",
       "      <td>0</td>\n",
       "    </tr>\n",
       "    <tr>\n",
       "      <th>4</th>\n",
       "      <td>home_ownership</td>\n",
       "      <td>0</td>\n",
       "    </tr>\n",
       "    <tr>\n",
       "      <th>5</th>\n",
       "      <td>verification_status</td>\n",
       "      <td>0</td>\n",
       "    </tr>\n",
       "    <tr>\n",
       "      <th>6</th>\n",
       "      <td>loan_status</td>\n",
       "      <td>0</td>\n",
       "    </tr>\n",
       "    <tr>\n",
       "      <th>7</th>\n",
       "      <td>pymnt_plan</td>\n",
       "      <td>0</td>\n",
       "    </tr>\n",
       "    <tr>\n",
       "      <th>8</th>\n",
       "      <td>purpose</td>\n",
       "      <td>0</td>\n",
       "    </tr>\n",
       "    <tr>\n",
       "      <th>9</th>\n",
       "      <td>addr_state</td>\n",
       "      <td>0</td>\n",
       "    </tr>\n",
       "    <tr>\n",
       "      <th>10</th>\n",
       "      <td>initial_list_status</td>\n",
       "      <td>0</td>\n",
       "    </tr>\n",
       "    <tr>\n",
       "      <th>11</th>\n",
       "      <td>policy_code</td>\n",
       "      <td>0</td>\n",
       "    </tr>\n",
       "    <tr>\n",
       "      <th>12</th>\n",
       "      <td>application_type</td>\n",
       "      <td>0</td>\n",
       "    </tr>\n",
       "    <tr>\n",
       "      <th>13</th>\n",
       "      <td>verification_status_joint</td>\n",
       "      <td>420584</td>\n",
       "    </tr>\n",
       "  </tbody>\n",
       "</table>\n",
       "</div>"
      ],
      "text/plain": [
       "            Categorical Field  Null Count\n",
       "0                        term           0\n",
       "1                       grade           0\n",
       "2                   sub_grade           0\n",
       "3                  emp_length           0\n",
       "4              home_ownership           0\n",
       "5         verification_status           0\n",
       "6                 loan_status           0\n",
       "7                  pymnt_plan           0\n",
       "8                     purpose           0\n",
       "9                  addr_state           0\n",
       "10        initial_list_status           0\n",
       "11                policy_code           0\n",
       "12           application_type           0\n",
       "13  verification_status_joint      420584"
      ]
     },
     "execution_count": 21,
     "metadata": {},
     "output_type": "execute_result"
    }
   ],
   "source": [
    "pd.DataFrame([[f, sum(pd.isnull(data[f]))] for f in data.columns[data.dtypes==\"category\"]],\n",
    "             columns=[\"Categorical Field\", \"Null Count\"])\n",
    "\n",
    "pd.DataFrame([[f, sum(pd.isnull(data[f]))] for f in data.columns[data.dtypes==\"category\"]],\n",
    "             columns=[\"Categorical Field\", \"Null Count\"])\n",
    "\n",
    "pd.DataFrame([[f, sum(pd.isnull(data[f]))] for f in data.columns[data.dtypes==\"category\"]],\n",
    "             columns=[\"Categorical Field\", \"Null Count\"])"
   ]
  },
  {
   "cell_type": "markdown",
   "metadata": {},
   "source": [
    "Some percentages are stored as strings (*int_rate*, *revol_util*). Here we convert them into a float by stripping the % symbol and dividing by 100."
   ]
  },
  {
   "cell_type": "code",
   "execution_count": 22,
   "metadata": {
    "collapsed": false
   },
   "outputs": [],
   "source": [
    "def percent_to_float(s):\n",
    "    if (type(s) == str):\n",
    "        if (\"%\" in s):\n",
    "            return float(str(s).strip(\"%\"))/100\n",
    "        else:\n",
    "            if s == \"None\":\n",
    "                return np.nan\n",
    "            else:            \n",
    "                return s\n",
    "    else:\n",
    "        return s\n",
    "\n",
    "data.int_rate = [percent_to_float(s) for s in data.int_rate]\n",
    "data.revol_util = [percent_to_float(s) for s in data.revol_util]\n",
    "\n",
    "data_2007_2011.int_rate = [percent_to_float(s) for s in data_2007_2011.int_rate]\n",
    "data_2007_2011.revol_util = [percent_to_float(s) for s in data_2007_2011.revol_util]\n",
    "\n",
    "data_2014.int_rate = [percent_to_float(s) for s in data_2014.int_rate]\n",
    "data_2014.revol_util = [percent_to_float(s) for s in data_2014.revol_util]\n",
    "\n",
    "data_2015.int_rate = [percent_to_float(s) for s in data_2015.int_rate]\n",
    "data_2015.revol_util = [percent_to_float(s) for s in data_2015.revol_util]"
   ]
  },
  {
   "cell_type": "markdown",
   "metadata": {},
   "source": [
    "Final check of data types:"
   ]
  },
  {
   "cell_type": "code",
   "execution_count": 23,
   "metadata": {
    "collapsed": false
   },
   "outputs": [
    {
     "data": {
      "text/plain": [
       "float64           85\n",
       "category          14\n",
       "object             5\n",
       "datetime64[ns]     5\n",
       "dtype: int64"
      ]
     },
     "execution_count": 23,
     "metadata": {},
     "output_type": "execute_result"
    }
   ],
   "source": [
    "data.dtypes.value_counts()"
   ]
  },
  {
   "cell_type": "code",
   "execution_count": 24,
   "metadata": {
    "collapsed": false
   },
   "outputs": [
    {
     "data": {
      "text/plain": [
       "float64           85\n",
       "category          14\n",
       "object             5\n",
       "datetime64[ns]     5\n",
       "dtype: int64"
      ]
     },
     "execution_count": 24,
     "metadata": {},
     "output_type": "execute_result"
    }
   ],
   "source": [
    "data_2007_2011.dtypes.value_counts()"
   ]
  },
  {
   "cell_type": "code",
   "execution_count": 25,
   "metadata": {
    "collapsed": false
   },
   "outputs": [
    {
     "data": {
      "text/plain": [
       "float64           85\n",
       "category          14\n",
       "object             5\n",
       "datetime64[ns]     5\n",
       "dtype: int64"
      ]
     },
     "execution_count": 25,
     "metadata": {},
     "output_type": "execute_result"
    }
   ],
   "source": [
    "data_2014.dtypes.value_counts()"
   ]
  },
  {
   "cell_type": "code",
   "execution_count": 26,
   "metadata": {
    "collapsed": false
   },
   "outputs": [
    {
     "data": {
      "text/plain": [
       "float64           85\n",
       "category          14\n",
       "object             5\n",
       "datetime64[ns]     5\n",
       "dtype: int64"
      ]
     },
     "execution_count": 26,
     "metadata": {},
     "output_type": "execute_result"
    }
   ],
   "source": [
    "data_2015.dtypes.value_counts()"
   ]
  },
  {
   "cell_type": "markdown",
   "metadata": {},
   "source": [
    "The 5 remaining object fields are note easily parsed to a more convenient data structure. Those fields are listed in the table below:"
   ]
  },
  {
   "cell_type": "code",
   "execution_count": 27,
   "metadata": {
    "collapsed": false
   },
   "outputs": [
    {
     "data": {
      "text/html": [
       "<div>\n",
       "<table border=\"1\" class=\"dataframe\">\n",
       "  <thead>\n",
       "    <tr style=\"text-align: right;\">\n",
       "      <th></th>\n",
       "      <th></th>\n",
       "      <th>emp_title</th>\n",
       "      <th>url</th>\n",
       "      <th>desc</th>\n",
       "      <th>title</th>\n",
       "      <th>zip_code</th>\n",
       "    </tr>\n",
       "    <tr>\n",
       "      <th>id</th>\n",
       "      <th>member_id</th>\n",
       "      <th></th>\n",
       "      <th></th>\n",
       "      <th></th>\n",
       "      <th></th>\n",
       "      <th></th>\n",
       "    </tr>\n",
       "  </thead>\n",
       "  <tbody>\n",
       "    <tr>\n",
       "      <th>38098114</th>\n",
       "      <th>40860827</th>\n",
       "      <td>MANAGEMENT</td>\n",
       "      <td>https://lendingclub.com/browse/loanDetail.acti...</td>\n",
       "      <td>NaN</td>\n",
       "      <td>Debt consolidation</td>\n",
       "      <td>235xx</td>\n",
       "    </tr>\n",
       "    <tr>\n",
       "      <th>36805548</th>\n",
       "      <th>39558264</th>\n",
       "      <td>Truck Driver Delivery Personel</td>\n",
       "      <td>https://lendingclub.com/browse/loanDetail.acti...</td>\n",
       "      <td>NaN</td>\n",
       "      <td>Credit card refinancing</td>\n",
       "      <td>937xx</td>\n",
       "    </tr>\n",
       "    <tr>\n",
       "      <th>37822187</th>\n",
       "      <th>40585251</th>\n",
       "      <td>Admin Specialist</td>\n",
       "      <td>https://lendingclub.com/browse/loanDetail.acti...</td>\n",
       "      <td>NaN</td>\n",
       "      <td>Debt consolidation</td>\n",
       "      <td>077xx</td>\n",
       "    </tr>\n",
       "    <tr>\n",
       "      <th>37842129</th>\n",
       "      <th>40605224</th>\n",
       "      <td>Programming Analysis Supervisor</td>\n",
       "      <td>https://lendingclub.com/browse/loanDetail.acti...</td>\n",
       "      <td>NaN</td>\n",
       "      <td>Credit card refinancing</td>\n",
       "      <td>658xx</td>\n",
       "    </tr>\n",
       "    <tr>\n",
       "      <th>37612354</th>\n",
       "      <th>40375473</th>\n",
       "      <td>Senior Sales Professional</td>\n",
       "      <td>https://lendingclub.com/browse/loanDetail.acti...</td>\n",
       "      <td>NaN</td>\n",
       "      <td>Car financing</td>\n",
       "      <td>953xx</td>\n",
       "    </tr>\n",
       "  </tbody>\n",
       "</table>\n",
       "</div>"
      ],
      "text/plain": [
       "                                          emp_title  \\\n",
       "id       member_id                                    \n",
       "38098114 40860827                        MANAGEMENT   \n",
       "36805548 39558264    Truck Driver Delivery Personel   \n",
       "37822187 40585251                  Admin Specialist   \n",
       "37842129 40605224   Programming Analysis Supervisor   \n",
       "37612354 40375473         Senior Sales Professional   \n",
       "\n",
       "                                                                  url desc  \\\n",
       "id       member_id                                                           \n",
       "38098114 40860827   https://lendingclub.com/browse/loanDetail.acti...  NaN   \n",
       "36805548 39558264   https://lendingclub.com/browse/loanDetail.acti...  NaN   \n",
       "37822187 40585251   https://lendingclub.com/browse/loanDetail.acti...  NaN   \n",
       "37842129 40605224   https://lendingclub.com/browse/loanDetail.acti...  NaN   \n",
       "37612354 40375473   https://lendingclub.com/browse/loanDetail.acti...  NaN   \n",
       "\n",
       "                                      title zip_code  \n",
       "id       member_id                                    \n",
       "38098114 40860827        Debt consolidation    235xx  \n",
       "36805548 39558264   Credit card refinancing    937xx  \n",
       "37822187 40585251        Debt consolidation    077xx  \n",
       "37842129 40605224   Credit card refinancing    658xx  \n",
       "37612354 40375473             Car financing    953xx  "
      ]
     },
     "execution_count": 27,
     "metadata": {},
     "output_type": "execute_result"
    }
   ],
   "source": [
    "data.select_dtypes(include=[\"object\"]).head()\n",
    "data_2007_2011.select_dtypes(include=[\"object\"]).head()\n",
    "data_2014.select_dtypes(include=[\"object\"]).head()\n",
    "data_2015.select_dtypes(include=[\"object\"]).head()"
   ]
  },
  {
   "cell_type": "code",
   "execution_count": 28,
   "metadata": {
    "collapsed": false
   },
   "outputs": [
    {
     "name": "stdout",
     "output_type": "stream",
     "text": [
      "(421095, 109)\n",
      "(42536, 109)\n",
      "(887441, 109)\n"
     ]
    }
   ],
   "source": [
    "print data.shape\n",
    "print data_2007_2011.shape\n",
    "fulldf = pd.concat([data, data_2007_2011, data_2014, data_2015])\n",
    "print fulldf.shape"
   ]
  },
  {
   "cell_type": "code",
   "execution_count": 29,
   "metadata": {
    "collapsed": false,
    "scrolled": true
   },
   "outputs": [
    {
     "name": "stdout",
     "output_type": "stream",
     "text": [
      "Current                                                450467\n",
      "Fully Paid                                             327815\n",
      "Charged Off                                             80276\n",
      "Late (31-120 days)                                      14620\n",
      "In Grace Period                                          7756\n",
      "Late (16-30 days)                                        3691\n",
      "Does not meet the credit policy. Status:Fully Paid       1988\n",
      "Does not meet the credit policy. Status:Charged Off       761\n",
      "Default                                                    66\n",
      "None                                                        1\n",
      "Name: loan_status, dtype: int64\n"
     ]
    }
   ],
   "source": [
    "print fulldf[\"loan_status\"].value_counts()"
   ]
  },
  {
   "cell_type": "code",
   "execution_count": 30,
   "metadata": {
    "collapsed": false
   },
   "outputs": [
    {
     "name": "stdout",
     "output_type": "stream",
     "text": [
      "(408157, 109)\n",
      "Fully Paid                                             327815\n",
      "Default                                                 80342\n",
      "None                                                        0\n",
      "Late (31-120 days)                                          0\n",
      "Late (16-30 days)                                           0\n",
      "In Grace Period                                             0\n",
      "Does not meet the credit policy. Status:Charged Off         0\n",
      "Does not meet the credit policy. Status:Fully Paid          0\n",
      "Charged Off                                                 0\n",
      "Current                                                     0\n",
      "Name: loan_status, dtype: int64\n"
     ]
    }
   ],
   "source": [
    "# Ok we dont want current or None status as we don't know what is going to happen with those.\n",
    "# next also late and grace period we are not sure about.\n",
    "# thirdly we remove loans that do not meet credit policy so we can convert our issue to a binar model\n",
    "fulldf = fulldf[((fulldf[\"loan_status\"] == \"Default\") | (fulldf[\"loan_status\"] == \"Charged Off\") | (fulldf[\"loan_status\"] == \"Fully Paid\"))]\n",
    "\n",
    "# Rename \"Charged off to default\"\n",
    "fulldf[\"loan_status\"] = fulldf[\"loan_status\"].replace(\"Charged Off\", \"Default\")\n",
    "print fulldf.shape\n",
    "print fulldf[\"loan_status\"].value_counts()"
   ]
  },
  {
   "cell_type": "code",
   "execution_count": 31,
   "metadata": {
    "collapsed": false,
    "scrolled": false
   },
   "outputs": [
    {
     "name": "stdout",
     "output_type": "stream",
     "text": [
      "(408157, 85)\n"
     ]
    }
   ],
   "source": [
    "y = fulldf[\"loan_status\"].values\n",
    "X = fulldf.drop(\"loan_status\", axis=1)\n",
    "cols = X.columns\n",
    "for col in cols:\n",
    "    if X[col].dtype != \"float64\":\n",
    "        X = X.drop(col, axis=1)\n",
    "print X.shape"
   ]
  },
  {
   "cell_type": "markdown",
   "metadata": {},
   "source": [
    "**!!(Which Predictors Are We Dropping Here, Why?)!!**"
   ]
  },
  {
   "cell_type": "markdown",
   "metadata": {},
   "source": [
    "### Data Visualization"
   ]
  },
  {
   "cell_type": "markdown",
   "metadata": {},
   "source": [
    "### Data Exploration"
   ]
  },
  {
   "cell_type": "markdown",
   "metadata": {},
   "source": [
    "# IV. Methodology"
   ]
  },
  {
   "cell_type": "markdown",
   "metadata": {},
   "source": [
    "### Performance Metrics"
   ]
  },
  {
   "cell_type": "markdown",
   "metadata": {},
   "source": [
    "The Lending Club Data Set is unbalanced. The rate of positive examples is roughly 85%. As such, accuracy does not indicate the true performance of the model, because the accuracy will depend on the overall default rate of the test data set. For example, a model that predicts every example to be non-defaulting would still achieve 85% accuracy. Furthermore two of the models we tested, SVM and Logistic Regression, will bias toward classifications that occur more often. Therefore, we chose to look at sensitivity, defined as:\n",
    "\n",
    "<center>**sensitivity** $= TP / TP + FN$</center>\n",
    "\n",
    "where TP is the number of true positives, FN is the number of false negatives. \n",
    "\n",
    "Sensitivity represents the ratio of loans whose known value is positive (not default) to loans that our model predicted as positive (non-default). Keeping in mind that positive-skewed datasets inherently have a higher sensitivity, we measured and compared specificity as a control. Specificity is defined as:\n",
    "\n",
    "<center>**specificity** $= TN / TN + FP$</center>\n",
    "\n",
    "where TN is the number of true negatives and FP is the number of false positives. \n",
    "\n",
    "Sensitivity represents the ratio of loans whose known value is negative (default) to loans that our model predicted as negative (default).\n",
    "\n",
    "In an effort to combine sensitivity and specificity into a single metric, we chose to use G-mean as or chief evaliuation standard:\n",
    "\n",
    "G = $p / sensitivity ∗ specificity$\n",
    "\n",
    "To round off our performance metrics, we also looked at accuracy and precision:\n",
    "\n",
    "<center>**accuracy** $= TN + TP / N$</center>\n",
    "\n",
    "<center>**precision** $= TP / TP + FP$</center>\n",
    "\n",
    "To evaluate the performance of our models, we trained each model with the first 70% of the loans and test the trained models on the last evaluate the 30% of the loans in our dataset. \n",
    "\n",
    "After selecting the best predicting model based on specificity/g-score performance to optimize the detection of high-risk loans, we will calculate return on investment (ROI) by:\n",
    "\n",
    "<center>ROI = Total payment received by investors / Total amount committed by investors − 1</center>\n",
    "\n",
    "\n"
   ]
  },
  {
   "cell_type": "markdown",
   "metadata": {},
   "source": [
    "### Baselines"
   ]
  },
  {
   "cell_type": "markdown",
   "metadata": {},
   "source": [
    "<font size=3><u> Overview</u> </font> "
   ]
  },
  {
   "cell_type": "markdown",
   "metadata": {},
   "source": [
    "Below are four baseline models for the Lending Club analysis. These are simple models that treat the problem as binary classification. The outcomes can either be \"default\" or \"not default\". These models take simplicitic views of the problem and serve as baselines for comparison and sanity check when more sofisiticated models are built in later parts of the project.\n",
    "\n",
    "The models are:\n",
    "1. predict all outcomes to be \"not default\";\n",
    "2. predict all outcomes of borrowers with lowest credit scores to always :default\" and others \"not default\";\n",
    "3. model outcomes with a single predictor \"grade\";\n",
    "4. model outcomes with a single predictor \"interest rate\".\n",
    "\n",
    "The data cleaning steps are from milestone 3."
   ]
  },
  {
   "cell_type": "markdown",
   "metadata": {},
   "source": [
    "###### Data"
   ]
  },
  {
   "cell_type": "markdown",
   "metadata": {},
   "source": [
    "To build our baselines, we first check the class proportions of our target categories. Since we are looking at classifying 'default' vs 'not default' our filtered data set has:"
   ]
  },
  {
   "cell_type": "code",
   "execution_count": 32,
   "metadata": {
    "collapsed": false
   },
   "outputs": [
    {
     "name": "stdout",
     "output_type": "stream",
     "text": [
      "Unique loan_status value: ['Default' 'Fully Paid']\n",
      "Default/Paid ratio: 0.245083354941\n",
      "Unique credit grades ['A' 'B' 'C' 'D' 'E' 'F' 'G']\n",
      "Interest Rate Range 0.0532 0.2899\n"
     ]
    }
   ],
   "source": [
    "print 'Unique loan_status value:', np.unique(fulldf.loan_status)\n",
    "print 'Default/Paid ratio:', float(len(fulldf[fulldf.loan_status == 'Default'])) / float(len(fulldf[fulldf.loan_status == 'Fully Paid']))\n",
    "print 'Unique credit grades', np.unique(fulldf.grade)\n",
    "print 'Interest Rate Range', np.min(fulldf.int_rate), np.max(fulldf.int_rate)"
   ]
  },
  {
   "cell_type": "markdown",
   "metadata": {},
   "source": [
    "The class proportion is roughly in 1 to 5 ratio so the imblace is not that bad."
   ]
  },
  {
   "cell_type": "markdown",
   "metadata": {},
   "source": [
    "###### Confusion Matrix - Function To Calculate CNF"
   ]
  },
  {
   "cell_type": "code",
   "execution_count": 33,
   "metadata": {
    "collapsed": false
   },
   "outputs": [],
   "source": [
    "# Compute confusion matrix\n",
    "def cpt_cnf(model, X, y):\n",
    "    y_pred = model.predict(X)\n",
    "    cnf_matrix = confusion_matrix(y, y_pred)\n",
    "    print cnf_matrix\n",
    "    np.set_printoptions(precision=1)\n",
    "\n",
    "\n",
    "    # Plot non-normalized confusion matrix\n",
    "    fig, [ax1, ax2] = plt.subplots(1, 2, figsize=(10, 4))\n",
    "    img1 = plot_confusion_matrix(ax1, cnf_matrix, classes=[0, 1], title='Confusion matrix, without normalization')\n",
    "\n",
    "\n",
    "    # Plot normalized confusion matrix\n",
    "    img2 = plot_confusion_matrix(ax2, cnf_matrix, classes=[0, 1], normalize=True, title='Normalized confusion matrix')\n",
    "    plt.colorbar(img1, ax=ax1)\n",
    "    plt.colorbar(img2, ax=ax2)\n",
    "    plt.show()\n",
    "\n",
    "#This function prints and plots the confusion matrix.\n",
    "#Normalization can be applied by setting `normalize=True`.\n",
    "def plot_confusion_matrix(ax, cm, classes, normalize=False, title='Confusion matrix', cmap=plt.cm.Blues):\n",
    "\n",
    "    img = ax.imshow(cm, interpolation='nearest', cmap=cmap)\n",
    "    ax.set_title(title)\n",
    "    tick_marks = np.arange(len(classes))\n",
    "    ax.set_xticks(tick_marks)\n",
    "    ax.set_xticklabels(classes, rotation=45)\n",
    "    # ax.set_yticks([0.5, 2.5], classes)\n",
    "    ax.set_yticklabels([\"\", \"0\", \"\", \"1\"], rotation=45)\n",
    "\n",
    "\n",
    "    if normalize:\n",
    "        cm = cm.astype('float') / cm.sum(axis=1)[:, np.newaxis]\n",
    "\n",
    "\n",
    "    thresh = cm.max() / 2.\n",
    "    for i, j in itertools.product(range(cm.shape[0]), range(cm.shape[1])):\n",
    "        ax.text(j, i, cm[i, j], horizontalalignment=\"center\", color=\"white\" if cm[i, j] > thresh else \"black\")\n",
    "\n",
    "\n",
    "    ax.set_ylabel('True label')\n",
    "    ax.set_xlabel('Predicted label')\n",
    "    return img"
   ]
  },
  {
   "cell_type": "markdown",
   "metadata": {},
   "source": [
    "<font size=3><u> Baseline 1: All loans do not default</u> </font>"
   ]
  },
  {
   "cell_type": "code",
   "execution_count": 34,
   "metadata": {
    "collapsed": false
   },
   "outputs": [],
   "source": [
    "def evaluate(y_true, y_pred, y_prob):\n",
    "    print 'Overall Accuracy:', accuracy_score(y_true, y_pred)\n",
    "    print 'F1 Score:', f1_score(y_true, y_pred)\n",
    "    #setting \"0\" as positive case to indicate we are looking for \"Default\" cases\n",
    "    print 'F1 Score (0 as \"positive\" since we are looking for \"Default\" cases):', f1_score(y_true, y_pred, pos_label=0)\n",
    "    #pos_labe='None' is required: see https://github.com/scikit-learn/scikit-learn/issues/3122\n",
    "    print 'Weighted average F1 Score:', f1_score(y_true, y_pred, pos_label=None, average='weighted')\n",
    "    print 'Micro average F1 Score:', f1_score(y_true, y_pred, pos_label=None, average='micro')\n",
    "    print 'Macro average F1 Score:', f1_score(y_true, y_pred, pos_label=None, average='macro')\n",
    "    for i in np.unique(y_true):\n",
    "        y_class_true = y_true[y_true == i]\n",
    "        y_class_pred = y_pred[y_true == i]\n",
    "        print 'Class {:.0f} Accuracy:'.format(i), accuracy_score(y_class_true, y_class_pred)\n",
    "    print 'ROC AUC Score:', roc_auc_score(y_true, y_prob)"
   ]
  },
  {
   "cell_type": "code",
   "execution_count": 35,
   "metadata": {
    "collapsed": false
   },
   "outputs": [
    {
     "data": {
      "text/html": [
       "<div>\n",
       "<table border=\"1\" class=\"dataframe\">\n",
       "  <thead>\n",
       "    <tr style=\"text-align: right;\">\n",
       "      <th></th>\n",
       "      <th></th>\n",
       "      <th>Fully Paid</th>\n",
       "      <th>Current</th>\n",
       "      <th>Charged Off</th>\n",
       "      <th>Does not meet the credit policy. Status:Fully Paid</th>\n",
       "      <th>Does not meet the credit policy. Status:Charged Off</th>\n",
       "      <th>In Grace Period</th>\n",
       "      <th>Late (16-30 days)</th>\n",
       "      <th>Late (31-120 days)</th>\n",
       "      <th>Default</th>\n",
       "      <th>None</th>\n",
       "    </tr>\n",
       "    <tr>\n",
       "      <th>id</th>\n",
       "      <th>member_id</th>\n",
       "      <th></th>\n",
       "      <th></th>\n",
       "      <th></th>\n",
       "      <th></th>\n",
       "      <th></th>\n",
       "      <th></th>\n",
       "      <th></th>\n",
       "      <th></th>\n",
       "      <th></th>\n",
       "      <th></th>\n",
       "    </tr>\n",
       "  </thead>\n",
       "  <tbody>\n",
       "    <tr>\n",
       "      <th>68416935</th>\n",
       "      <th>73306760.0</th>\n",
       "      <td>1.0</td>\n",
       "      <td>0.0</td>\n",
       "      <td>0.0</td>\n",
       "      <td>0.0</td>\n",
       "      <td>0.0</td>\n",
       "      <td>0.0</td>\n",
       "      <td>0.0</td>\n",
       "      <td>0.0</td>\n",
       "      <td>0.0</td>\n",
       "      <td>0.0</td>\n",
       "    </tr>\n",
       "    <tr>\n",
       "      <th>68082535</th>\n",
       "      <th>72950258.0</th>\n",
       "      <td>1.0</td>\n",
       "      <td>0.0</td>\n",
       "      <td>0.0</td>\n",
       "      <td>0.0</td>\n",
       "      <td>0.0</td>\n",
       "      <td>0.0</td>\n",
       "      <td>0.0</td>\n",
       "      <td>0.0</td>\n",
       "      <td>0.0</td>\n",
       "      <td>0.0</td>\n",
       "    </tr>\n",
       "    <tr>\n",
       "      <th>68407301</th>\n",
       "      <th>73297138.0</th>\n",
       "      <td>1.0</td>\n",
       "      <td>0.0</td>\n",
       "      <td>0.0</td>\n",
       "      <td>0.0</td>\n",
       "      <td>0.0</td>\n",
       "      <td>0.0</td>\n",
       "      <td>0.0</td>\n",
       "      <td>0.0</td>\n",
       "      <td>0.0</td>\n",
       "      <td>0.0</td>\n",
       "    </tr>\n",
       "    <tr>\n",
       "      <th>68495092</th>\n",
       "      <th>73384866.0</th>\n",
       "      <td>1.0</td>\n",
       "      <td>0.0</td>\n",
       "      <td>0.0</td>\n",
       "      <td>0.0</td>\n",
       "      <td>0.0</td>\n",
       "      <td>0.0</td>\n",
       "      <td>0.0</td>\n",
       "      <td>0.0</td>\n",
       "      <td>0.0</td>\n",
       "      <td>0.0</td>\n",
       "    </tr>\n",
       "    <tr>\n",
       "      <th>68476807</th>\n",
       "      <th>73366655.0</th>\n",
       "      <td>1.0</td>\n",
       "      <td>0.0</td>\n",
       "      <td>0.0</td>\n",
       "      <td>0.0</td>\n",
       "      <td>0.0</td>\n",
       "      <td>0.0</td>\n",
       "      <td>0.0</td>\n",
       "      <td>0.0</td>\n",
       "      <td>0.0</td>\n",
       "      <td>0.0</td>\n",
       "    </tr>\n",
       "  </tbody>\n",
       "</table>\n",
       "</div>"
      ],
      "text/plain": [
       "                     Fully Paid  Current  Charged Off  \\\n",
       "id       member_id                                      \n",
       "68416935 73306760.0         1.0      0.0          0.0   \n",
       "68082535 72950258.0         1.0      0.0          0.0   \n",
       "68407301 73297138.0         1.0      0.0          0.0   \n",
       "68495092 73384866.0         1.0      0.0          0.0   \n",
       "68476807 73366655.0         1.0      0.0          0.0   \n",
       "\n",
       "                     Does not meet the credit policy. Status:Fully Paid  \\\n",
       "id       member_id                                                        \n",
       "68416935 73306760.0                                                0.0    \n",
       "68082535 72950258.0                                                0.0    \n",
       "68407301 73297138.0                                                0.0    \n",
       "68495092 73384866.0                                                0.0    \n",
       "68476807 73366655.0                                                0.0    \n",
       "\n",
       "                     Does not meet the credit policy. Status:Charged Off  \\\n",
       "id       member_id                                                         \n",
       "68416935 73306760.0                                                0.0     \n",
       "68082535 72950258.0                                                0.0     \n",
       "68407301 73297138.0                                                0.0     \n",
       "68495092 73384866.0                                                0.0     \n",
       "68476807 73366655.0                                                0.0     \n",
       "\n",
       "                     In Grace Period  Late (16-30 days)  Late (31-120 days)  \\\n",
       "id       member_id                                                            \n",
       "68416935 73306760.0              0.0                0.0                 0.0   \n",
       "68082535 72950258.0              0.0                0.0                 0.0   \n",
       "68407301 73297138.0              0.0                0.0                 0.0   \n",
       "68495092 73384866.0              0.0                0.0                 0.0   \n",
       "68476807 73366655.0              0.0                0.0                 0.0   \n",
       "\n",
       "                     Default  None  \n",
       "id       member_id                  \n",
       "68416935 73306760.0      0.0   0.0  \n",
       "68082535 72950258.0      0.0   0.0  \n",
       "68407301 73297138.0      0.0   0.0  \n",
       "68495092 73384866.0      0.0   0.0  \n",
       "68476807 73366655.0      0.0   0.0  "
      ]
     },
     "execution_count": 35,
     "metadata": {},
     "output_type": "execute_result"
    }
   ],
   "source": [
    "y = pd.get_dummies(fulldf.loan_status)\n",
    "y.head()"
   ]
  },
  {
   "cell_type": "code",
   "execution_count": 36,
   "metadata": {
    "collapsed": false
   },
   "outputs": [],
   "source": [
    "#create response: we only take the first column from the one-hot encoded loan_status\n",
    "#since we only need to know if a loan is fully paid or not\n",
    "y = y.values[:, 0]"
   ]
  },
  {
   "cell_type": "code",
   "execution_count": 37,
   "metadata": {
    "collapsed": true
   },
   "outputs": [],
   "source": [
    "#baseline model 1:\n",
    "#predicting all loan outcomes as \"not default\"\n",
    "def predict_outcome_baseline1(X):\n",
    "    results = np.empty(shape=(X.shape[0]), dtype=float)\n",
    "    results[:] = 1\n",
    "    return results\n",
    "\n",
    "def predict_proba_outcome_baseline1(X):\n",
    "    #in this simple baseline model, we predict \"defaults\" to be 0 and \"not default\" to be 1\n",
    "    #the returned probability is the probability of being \"not default\"\n",
    "    #only 0s and 1s are returned, there are no in-between probabilities\n",
    "    #that means, we the model predicts \"not default\", the model is certain that it is the case\n",
    "    return predict_outcome_baseline1(X)"
   ]
  },
  {
   "cell_type": "code",
   "execution_count": 38,
   "metadata": {
    "collapsed": false
   },
   "outputs": [
    {
     "name": "stdout",
     "output_type": "stream",
     "text": [
      "Overall Accuracy: 0.803159078492\n",
      "F1 Score: 0.890835520917\n",
      "F1 Score (0 as \"positive\" since we are looking for \"Default\" cases): 0.0\n",
      "Weighted average F1 Score:"
     ]
    },
    {
     "name": "stderr",
     "output_type": "stream",
     "text": [
      "//anaconda/envs/py27/lib/python2.7/site-packages/sklearn/metrics/classification.py:1074: UndefinedMetricWarning: F-score is ill-defined and being set to 0.0 due to no predicted samples.\n",
      "  'precision', 'predicted', average, warn_for)\n",
      "//anaconda/envs/py27/lib/python2.7/site-packages/sklearn/metrics/classification.py:1074: UndefinedMetricWarning: F-score is ill-defined and being set to 0.0 in labels with no predicted samples.\n",
      "  'precision', 'predicted', average, warn_for)\n"
     ]
    },
    {
     "name": "stdout",
     "output_type": "stream",
     "text": [
      " 0.715482636067\n",
      "Micro average F1 Score: 0.803159078492\n",
      "Macro average F1 Score: 0.445417760458\n",
      "Class 0 Accuracy: 0.0\n",
      "Class 1 Accuracy: 1.0\n",
      "ROC AUC Score: 0.5\n"
     ]
    }
   ],
   "source": [
    "y_pred = predict_outcome_baseline1(np.zeros([y.shape[0],1]))\n",
    "y_prob = predict_proba_outcome_baseline1(np.zeros([y.shape[0],1]))\n",
    "evaluate(y, y_pred, y_prob)"
   ]
  },
  {
   "cell_type": "markdown",
   "metadata": {},
   "source": [
    "This model has high overall accuracy becuase most loans do not default. However, the class 0 (default) breakdown shows that this model's accuracy on default loans is 0."
   ]
  },
  {
   "cell_type": "markdown",
   "metadata": {},
   "source": [
    "<font size=3><u> Baseline 2: Predicting loans with lowest credit scores to default</u> </font>"
   ]
  },
  {
   "cell_type": "markdown",
   "metadata": {},
   "source": [
    "###### Credit Threshold"
   ]
  },
  {
   "cell_type": "markdown",
   "metadata": {},
   "source": [
    "In this model, we set a threshold of credit grade E and below to be a bad credit score. All loans with these scores are predicted as \"default\" while all others are predicted as \"not default\"."
   ]
  },
  {
   "cell_type": "code",
   "execution_count": 39,
   "metadata": {
    "collapsed": false
   },
   "outputs": [],
   "source": [
    "#baseline model 2:\n",
    "#predicting all loan outcomes as \"not default\"\n",
    "def predict_outcome_baseline2(X):\n",
    "    #We take the credit grades E, F and G\n",
    "    #as \"bad\" credit scores\n",
    "    #we do this by summing up the corresponding one-hot encoded columns\n",
    "    results = X[:, -4:-1].sum(axis=1).reshape(-1, 1).astype('int')\n",
    "    #we need to the swap 0s and 1s to match the response encoding\n",
    "    results = -1 * ( results - 1 )\n",
    "    return results\n",
    "\n",
    "def predict_proba_outcome_baseline2(X):\n",
    "    #in this simple baseline model, we predict \"defaults\" to be 0 and \"not default\" to be 1\n",
    "    #the returned probability is the probability of being \"not default\"\n",
    "    #only 0s and 1s are returned, there are no in-between probabilities\n",
    "    #that means, we the model predicts \"not default\", the model is certain that it is the case\n",
    "    return predict_outcome_baseline2(X)"
   ]
  },
  {
   "cell_type": "code",
   "execution_count": 40,
   "metadata": {
    "collapsed": false
   },
   "outputs": [
    {
     "data": {
      "text/html": [
       "<div>\n",
       "<table border=\"1\" class=\"dataframe\">\n",
       "  <thead>\n",
       "    <tr style=\"text-align: right;\">\n",
       "      <th></th>\n",
       "      <th></th>\n",
       "      <th>A</th>\n",
       "      <th>B</th>\n",
       "      <th>C</th>\n",
       "      <th>D</th>\n",
       "      <th>E</th>\n",
       "      <th>F</th>\n",
       "      <th>G</th>\n",
       "      <th>None</th>\n",
       "    </tr>\n",
       "    <tr>\n",
       "      <th>id</th>\n",
       "      <th>member_id</th>\n",
       "      <th></th>\n",
       "      <th></th>\n",
       "      <th></th>\n",
       "      <th></th>\n",
       "      <th></th>\n",
       "      <th></th>\n",
       "      <th></th>\n",
       "      <th></th>\n",
       "    </tr>\n",
       "  </thead>\n",
       "  <tbody>\n",
       "    <tr>\n",
       "      <th>68416935</th>\n",
       "      <th>73306760.0</th>\n",
       "      <td>0.0</td>\n",
       "      <td>1.0</td>\n",
       "      <td>0.0</td>\n",
       "      <td>0.0</td>\n",
       "      <td>0.0</td>\n",
       "      <td>0.0</td>\n",
       "      <td>0.0</td>\n",
       "      <td>0.0</td>\n",
       "    </tr>\n",
       "    <tr>\n",
       "      <th>68082535</th>\n",
       "      <th>72950258.0</th>\n",
       "      <td>0.0</td>\n",
       "      <td>1.0</td>\n",
       "      <td>0.0</td>\n",
       "      <td>0.0</td>\n",
       "      <td>0.0</td>\n",
       "      <td>0.0</td>\n",
       "      <td>0.0</td>\n",
       "      <td>0.0</td>\n",
       "    </tr>\n",
       "    <tr>\n",
       "      <th>68407301</th>\n",
       "      <th>73297138.0</th>\n",
       "      <td>0.0</td>\n",
       "      <td>0.0</td>\n",
       "      <td>1.0</td>\n",
       "      <td>0.0</td>\n",
       "      <td>0.0</td>\n",
       "      <td>0.0</td>\n",
       "      <td>0.0</td>\n",
       "      <td>0.0</td>\n",
       "    </tr>\n",
       "    <tr>\n",
       "      <th>68495092</th>\n",
       "      <th>73384866.0</th>\n",
       "      <td>0.0</td>\n",
       "      <td>0.0</td>\n",
       "      <td>0.0</td>\n",
       "      <td>0.0</td>\n",
       "      <td>1.0</td>\n",
       "      <td>0.0</td>\n",
       "      <td>0.0</td>\n",
       "      <td>0.0</td>\n",
       "    </tr>\n",
       "    <tr>\n",
       "      <th>68476807</th>\n",
       "      <th>73366655.0</th>\n",
       "      <td>0.0</td>\n",
       "      <td>0.0</td>\n",
       "      <td>0.0</td>\n",
       "      <td>0.0</td>\n",
       "      <td>0.0</td>\n",
       "      <td>1.0</td>\n",
       "      <td>0.0</td>\n",
       "      <td>0.0</td>\n",
       "    </tr>\n",
       "  </tbody>\n",
       "</table>\n",
       "</div>"
      ],
      "text/plain": [
       "                       A    B    C    D    E    F    G  None\n",
       "id       member_id                                          \n",
       "68416935 73306760.0  0.0  1.0  0.0  0.0  0.0  0.0  0.0   0.0\n",
       "68082535 72950258.0  0.0  1.0  0.0  0.0  0.0  0.0  0.0   0.0\n",
       "68407301 73297138.0  0.0  0.0  1.0  0.0  0.0  0.0  0.0   0.0\n",
       "68495092 73384866.0  0.0  0.0  0.0  0.0  1.0  0.0  0.0   0.0\n",
       "68476807 73366655.0  0.0  0.0  0.0  0.0  0.0  1.0  0.0   0.0"
      ]
     },
     "execution_count": 40,
     "metadata": {},
     "output_type": "execute_result"
    }
   ],
   "source": [
    "X = pd.get_dummies(fulldf.grade)\n",
    "X.head()"
   ]
  },
  {
   "cell_type": "code",
   "execution_count": 41,
   "metadata": {
    "collapsed": false
   },
   "outputs": [
    {
     "name": "stdout",
     "output_type": "stream",
     "text": [
      "Overall Accuracy: 0.778310797071\n",
      "F1 Score: 0.868585321362\n",
      "F1 Score (0 as \"positive\" since we are looking for \"Default\" cases): 0.291854495367\n",
      "Weighted average F1 Score: 0.755061094111\n",
      "Micro average F1 Score: 0.778310797071\n",
      "Macro average F1 Score: 0.580219908364\n",
      "Class 0 Accuracy: 0.232082845834\n",
      "Class 1 Accuracy: 0.912182175922\n",
      "ROC AUC Score: 0.572132510878\n"
     ]
    }
   ],
   "source": [
    "y_pred = predict_outcome_baseline2(X.values)\n",
    "y_prob = predict_proba_outcome_baseline2(X.values)\n",
    "evaluate(y, y_pred, y_prob)"
   ]
  },
  {
   "cell_type": "markdown",
   "metadata": {},
   "source": [
    "This model has better (compared to baseline 1) prediction accuracy for default (class 0) loans. However, the values are still very low.\n",
    "\n",
    "Changing the threshold should allow us to trade accuracies of prediction of the two classes."
   ]
  },
  {
   "cell_type": "markdown",
   "metadata": {},
   "source": [
    "###### Credit Threshhold - Descision Tree"
   ]
  },
  {
   "cell_type": "markdown",
   "metadata": {},
   "source": [
    "It would be interesting to see what a decision tree would pick as a threshold for this simplistic model.\n",
    "\n",
    "To do this, we encode the grade predictor as ordinal values and let the decision tree to pick a split point. We limit the depth to 1 to similate our decision process of the baseline model above."
   ]
  },
  {
   "cell_type": "code",
   "execution_count": 42,
   "metadata": {
    "collapsed": false
   },
   "outputs": [],
   "source": [
    "# https://github.com/JWarmenhoven/ISLR-python\n",
    "def print_tree(estimator, features, class_names=None, filled=True):\n",
    "    tree = estimator\n",
    "    names = features\n",
    "    color = filled\n",
    "    classn = class_names\n",
    "    \n",
    "    dot_data = StringIO.StringIO()\n",
    "    export_graphviz(estimator, out_file=dot_data, feature_names=features, proportion=True, class_names=classn, filled=filled)\n",
    "    graph = pydotplus.graph_from_dot_data(dot_data.getvalue())\n",
    "    return(graph)"
   ]
  },
  {
   "cell_type": "code",
   "execution_count": 43,
   "metadata": {
    "collapsed": false
   },
   "outputs": [
    {
     "name": "stdout",
     "output_type": "stream",
     "text": [
      "Categories of \"grade\" column: ['A', 'B', 'C', 'D', 'E', 'F', 'G', 'None']\n",
      "Number of rows with grade=None: 0\n"
     ]
    }
   ],
   "source": [
    "print 'Categories of \"grade\" column:', [x for x in fulldf.grade.cat.categories]\n",
    "print 'Number of rows with grade=None:', len(fulldf[fulldf.grade=='None'])"
   ]
  },
  {
   "cell_type": "markdown",
   "metadata": {
    "collapsed": true
   },
   "source": [
    "Since we do not have \"None\" values, our grades provide a sensible ordering."
   ]
  },
  {
   "cell_type": "code",
   "execution_count": 44,
   "metadata": {
    "collapsed": false,
    "scrolled": true
   },
   "outputs": [
    {
     "data": {
      "text/plain": [
       "id        member_id \n",
       "68416935  73306760.0    1\n",
       "68082535  72950258.0    1\n",
       "68407301  73297138.0    2\n",
       "68495092  73384866.0    4\n",
       "68476807  73366655.0    5\n",
       "dtype: int8"
      ]
     },
     "execution_count": 44,
     "metadata": {},
     "output_type": "execute_result"
    }
   ],
   "source": [
    "#here we encode the categorical loan_status column as numberic values\n",
    "#as the categories are ordinal\n",
    "X = fulldf.grade.cat.codes\n",
    "X.head()"
   ]
  },
  {
   "cell_type": "code",
   "execution_count": 45,
   "metadata": {
    "collapsed": false
   },
   "outputs": [],
   "source": [
    "X = X.reshape(-1, 1)"
   ]
  },
  {
   "cell_type": "code",
   "execution_count": 46,
   "metadata": {
    "collapsed": false
   },
   "outputs": [
    {
     "name": "stdout",
     "output_type": "stream",
     "text": [
      "Overall Accuracy: 0.55806711633\n",
      "F1 Score: 0.649393360986\n",
      "F1 Score (0 as \"positive\" since we are looking for \"Default\" cases): 0.402405247813\n",
      "Weighted average F1 Score: 0.600775993188\n",
      "Micro average F1 Score: 0.55806711633\n",
      "Macro average F1 Score: 0.5258993044\n",
      "Class 0 Accuracy: 0.755906001842\n",
      "Class 1 Accuracy: 0.509580098531\n",
      "ROC AUC Score: 0.632743050187\n",
      "[[ 60731  19611]\n",
      " [160767 167048]]\n"
     ]
    },
    {
     "data": {
      "image/png": "[encoded data removed]",
      "text/plain": [
       "<matplotlib.figure.Figure at 0x19c054310>"
      ]
     },
     "metadata": {},
     "output_type": "display_data"
    }
   ],
   "source": [
    "#use scikit-learn decision tree and set class_weight to handle the imbalance\n",
    "tree = DecisionTreeClassifier(class_weight='balanced', max_depth=1)\n",
    "tree.fit(X, y)\n",
    "y_pred = tree.predict(X)\n",
    "#here we use scikit-learn's predict_proba for the input to ROC_AUC_SCORE\n",
    "y_prob = tree.predict_proba(X)\n",
    "evaluate(y, y_pred, y_prob[:,1])\n",
    "\n",
    "cpt_cnf(tree, X, y)"
   ]
  },
  {
   "cell_type": "markdown",
   "metadata": {},
   "source": [
    "With the \"balanced\" option, scikit-learn decision tree has set a threshold so that the prediction accuracies of the two classes to be more comparable."
   ]
  },
  {
   "cell_type": "code",
   "execution_count": 47,
   "metadata": {
    "collapsed": false
   },
   "outputs": [
    {
     "ename": "AttributeError",
     "evalue": "type object '_io.StringIO' has no attribute 'StringIO'",
     "output_type": "error",
     "traceback": [
      "\u001b[0;31m---------------------------------------------------------------------------\u001b[0m",
      "\u001b[0;31mAttributeError\u001b[0m                            Traceback (most recent call last)",
      "\u001b[0;32m<ipython-input-47-73d05cb45a4e>\u001b[0m in \u001b[0;36m<module>\u001b[0;34m()\u001b[0m\n\u001b[0;32m----> 1\u001b[0;31m \u001b[0mgraph\u001b[0m \u001b[0;34m=\u001b[0m \u001b[0mprint_tree\u001b[0m\u001b[0;34m(\u001b[0m\u001b[0mtree\u001b[0m\u001b[0;34m,\u001b[0m \u001b[0;34m[\u001b[0m\u001b[0;34m'grade'\u001b[0m\u001b[0;34m]\u001b[0m\u001b[0;34m)\u001b[0m\u001b[0;34m\u001b[0m\u001b[0m\n\u001b[0m\u001b[1;32m      2\u001b[0m \u001b[0mImage\u001b[0m\u001b[0;34m(\u001b[0m\u001b[0mgraph\u001b[0m\u001b[0;34m.\u001b[0m\u001b[0mcreate_png\u001b[0m\u001b[0;34m(\u001b[0m\u001b[0;34m)\u001b[0m\u001b[0;34m)\u001b[0m\u001b[0;34m\u001b[0m\u001b[0m\n",
      "\u001b[0;32m<ipython-input-42-247898d6ab6f>\u001b[0m in \u001b[0;36mprint_tree\u001b[0;34m(estimator, features, class_names, filled)\u001b[0m\n\u001b[1;32m      6\u001b[0m     \u001b[0mclassn\u001b[0m \u001b[0;34m=\u001b[0m \u001b[0mclass_names\u001b[0m\u001b[0;34m\u001b[0m\u001b[0m\n\u001b[1;32m      7\u001b[0m \u001b[0;34m\u001b[0m\u001b[0m\n\u001b[0;32m----> 8\u001b[0;31m     \u001b[0mdot_data\u001b[0m \u001b[0;34m=\u001b[0m \u001b[0mStringIO\u001b[0m\u001b[0;34m.\u001b[0m\u001b[0mStringIO\u001b[0m\u001b[0;34m(\u001b[0m\u001b[0;34m)\u001b[0m\u001b[0;34m\u001b[0m\u001b[0m\n\u001b[0m\u001b[1;32m      9\u001b[0m     \u001b[0mexport_graphviz\u001b[0m\u001b[0;34m(\u001b[0m\u001b[0mestimator\u001b[0m\u001b[0;34m,\u001b[0m \u001b[0mout_file\u001b[0m\u001b[0;34m=\u001b[0m\u001b[0mdot_data\u001b[0m\u001b[0;34m,\u001b[0m \u001b[0mfeature_names\u001b[0m\u001b[0;34m=\u001b[0m\u001b[0mfeatures\u001b[0m\u001b[0;34m,\u001b[0m \u001b[0mproportion\u001b[0m\u001b[0;34m=\u001b[0m\u001b[0mTrue\u001b[0m\u001b[0;34m,\u001b[0m \u001b[0mclass_names\u001b[0m\u001b[0;34m=\u001b[0m\u001b[0mclassn\u001b[0m\u001b[0;34m,\u001b[0m \u001b[0mfilled\u001b[0m\u001b[0;34m=\u001b[0m\u001b[0mfilled\u001b[0m\u001b[0;34m)\u001b[0m\u001b[0;34m\u001b[0m\u001b[0m\n\u001b[1;32m     10\u001b[0m     \u001b[0mgraph\u001b[0m \u001b[0;34m=\u001b[0m \u001b[0mpydotplus\u001b[0m\u001b[0;34m.\u001b[0m\u001b[0mgraph_from_dot_data\u001b[0m\u001b[0;34m(\u001b[0m\u001b[0mdot_data\u001b[0m\u001b[0;34m.\u001b[0m\u001b[0mgetvalue\u001b[0m\u001b[0;34m(\u001b[0m\u001b[0;34m)\u001b[0m\u001b[0;34m)\u001b[0m\u001b[0;34m\u001b[0m\u001b[0m\n",
      "\u001b[0;31mAttributeError\u001b[0m: type object '_io.StringIO' has no attribute 'StringIO'"
     ]
    }
   ],
   "source": [
    "graph = print_tree(tree, ['grade'])\n",
    "Image(graph.create_png())"
   ]
  },
  {
   "cell_type": "markdown",
   "metadata": {},
   "source": [
    "The split chosen (1.5) corresponds to a boundary between grades B and C."
   ]
  },
  {
   "cell_type": "markdown",
   "metadata": {},
   "source": [
    "<font size=3><u> Baseline 3: Logistic Regression on Interest Rates</u> </font>"
   ]
  },
  {
   "cell_type": "code",
   "execution_count": 48,
   "metadata": {
    "collapsed": false
   },
   "outputs": [],
   "source": [
    "X = fulldf.int_rate"
   ]
  },
  {
   "cell_type": "code",
   "execution_count": 49,
   "metadata": {
    "collapsed": false
   },
   "outputs": [
    {
     "name": "stdout",
     "output_type": "stream",
     "text": [
      "(408157, 1)\n",
      "(408157, 1)\n",
      "(408157, 2)\n",
      "(655630, 2)\n",
      "[[ 0.1]\n",
      " [ 0.2]\n",
      " [ 0.1]\n",
      " ..., \n",
      " [ 0.2]\n",
      " [ 0.2]\n",
      " [ 0.1]]\n",
      "0.499889419337\n"
     ]
    }
   ],
   "source": [
    "#Oversampling\n",
    "#remove flutype)\n",
    "X = np.reshape(X, (X.shape[0], 1))\n",
    "y = np.reshape(y, (y.shape[0], 1))\n",
    "\n",
    "print X.shape\n",
    "print y.shape\n",
    "\n",
    "\n",
    "X = np.concatenate((X, y), axis=1)\n",
    "print X.shape\n",
    "\n",
    "unq, unq_idx = np.unique(X[:, -1], return_inverse=True)\n",
    "unq_cnt = np.bincount(unq_idx)\n",
    "cnt = np.max(unq_cnt)\n",
    "out = np.empty((cnt*len(unq) - len(X),) + X.shape[1:], X.dtype)\n",
    "slices = np.concatenate(([0], np.cumsum(cnt - unq_cnt)))\n",
    "for j in xrange(len(unq)):\n",
    "    indices = np.random.choice(np.where(unq_idx==j)[0], cnt - unq_cnt[j])\n",
    "    out[slices[j]:slices[j+1]] = X[indices]\n",
    "out = np.vstack((X, out))\n",
    "\n",
    "\n",
    "data_oversamp = out\n",
    "print data_oversamp.shape\n",
    "\n",
    "x_oversamp = data_oversamp[: , :-1]\n",
    "y_oversamp = data_oversamp[: , -1]\n",
    "\n",
    "\n",
    "x_train, x_test, y_train, y_test = train_test_split(x_oversamp, y_oversamp, test_size=0.2)\n",
    "print x_train\n",
    "#print x_train[:, -1].mean()\n",
    "print y_train.mean()\n",
    "\n",
    "#print sum(x_train_ovr[:, -1]-y_train_ovr)"
   ]
  },
  {
   "cell_type": "code",
   "execution_count": 50,
   "metadata": {
    "collapsed": false
   },
   "outputs": [
    {
     "name": "stdout",
     "output_type": "stream",
     "text": [
      "Overall Accuracy: 0.62820493266\n",
      "F1 Score: 0.64097503498\n",
      "F1 Score (0 as \"positive\" since we are looking for \"Default\" cases): 0.614492891145\n",
      "Weighted average F1 Score: 0.627745676715\n",
      "Micro average F1 Score: 0.62820493266\n",
      "Macro average F1 Score: 0.627733963063\n",
      "Class 0 Accuracy: 0.593160827418\n",
      "Class 1 Accuracy: 0.663187089499\n",
      "ROC AUC Score: 0.67789031888\n",
      "[[38855 26650]\n",
      " [22102 43519]]\n"
     ]
    },
    {
     "data": {
      "image/png": "[encoded data removed]",
      "text/plain": [
       "<matplotlib.figure.Figure at 0x1984c8a50>"
      ]
     },
     "metadata": {},
     "output_type": "display_data"
    }
   ],
   "source": [
    "#Logistic Regresstion\n",
    "LOG_ = LogisticRegression(C = 1000000) #C=1000000,penalty='l1'\n",
    "model_LOG = LOG_.fit(x_train, y_train)\n",
    "y_pred = LOG_.predict(x_test)\n",
    "y_prob = LOG_.predict_proba(x_test)\n",
    "\n",
    "evaluate(y_test, y_pred, y_prob[:, 1])\n",
    "cpt_cnf(model_LOG, x_test, y_test)"
   ]
  },
  {
   "cell_type": "markdown",
   "metadata": {},
   "source": [
    "### Model Overview/Comparison"
   ]
  },
  {
   "cell_type": "markdown",
   "metadata": {},
   "source": [
    "**!!(Insert Model Comparisons - Pros, Cons, Hypothesis, Previous Research)!!**"
   ]
  },
  {
   "cell_type": "markdown",
   "metadata": {},
   "source": [
    "### Evaluation Criteria"
   ]
  },
  {
   "cell_type": "markdown",
   "metadata": {
    "collapsed": true
   },
   "source": [
    "**!!(INSERT EVALUATION CRITERIA WRITEUP)!!**"
   ]
  },
  {
   "cell_type": "code",
   "execution_count": 51,
   "metadata": {
    "collapsed": false
   },
   "outputs": [
    {
     "name": "stdout",
     "output_type": "stream",
     "text": [
      "(408157, 108)\n",
      "(408157,)\n",
      "[[15000.0 15000.0 15000.0 ..., 53397.0 36100.0 47370.0]\n",
      " [7200.0 7200.0 7200.0 ..., 27327.0 19000.0 24744.0]\n",
      " [27500.0 27500.0 27500.0 ..., 44977.0 55500.0 13200.0]\n",
      " ..., \n",
      " [10000.0 10000.0 10000.0 ..., 10170.0 5600.0 6974.0]\n",
      " [22000.0 22000.0 22000.0 ..., 47136.0 12200.0 39347.0]\n",
      " [2000.0 2000.0 2000.0 ..., 50896.0 47500.0 37200.0]]\n"
     ]
    }
   ],
   "source": [
    "y = fulldf[\"loan_status\"].values\n",
    "df_for_drop = fulldf\n",
    "X_full = df_for_drop.drop(\"loan_status\", axis=1)\n",
    "x = X_full.values\n",
    "print X_full.shape\n",
    "print y.shape\n",
    "print x"
   ]
  },
  {
   "cell_type": "code",
   "execution_count": 52,
   "metadata": {
    "collapsed": false,
    "scrolled": true
   },
   "outputs": [
    {
     "name": "stdout",
     "output_type": "stream",
     "text": [
      "[ 15000.   7200.  27500. ...,  28275.  31875.  34425.]\n",
      "[ 15000.   7200.  27500. ...,  28275.  31875.  34425.]\n",
      "[ 15000.    7200.   27500.  ...,  20375.7  22962.   33650. ]\n",
      "[36 months, 60 months]\n",
      "Categories (2, object): [36 months, 60 months]\n",
      "[ 0.1  0.1  0.1  0.2  0.2  0.2  0.1  0.2  0.1  0.1  0.1  0.1  0.2  0.2  0.1\n",
      "  0.2  0.1  0.1  0.1  0.2  0.3  0.2  0.1  0.2  0.1  0.2  0.1  0.3  0.2  0.2\n",
      "  0.3  0.3  0.3  0.2  0.1  0.1  0.1  0.2  0.1  0.2  0.2  0.1  0.2  0.1  0.3\n",
      "  0.1  0.2  0.1  0.1  0.1  0.1  0.2  0.2  0.2  0.2  0.2  0.1  0.3  0.3  0.3\n",
      "  0.3  0.2  0.1  0.1  0.1  0.1  0.1  0.1  0.1  0.2  0.1  0.1  0.2  0.1  0.2\n",
      "  0.1  0.1  0.2  0.3  0.2  0.1  0.1  0.2  0.2  0.1  0.2  0.2  0.3  0.3  0.3\n",
      "  0.1  0.3  0.1  0.1  0.1  0.1  0.1  0.2  0.1  0.2  0.1  0.1  0.1  0.2  0.1\n",
      "  0.2  0.2  0.2  0.1  0.1  0.2  0.2  0.1  0.1  0.2  0.2  0.1  0.2  0.1  0.1\n",
      "  0.1  0.2  0.1  0.1  0.1  0.2  0.2  0.2  0.2  0.2  0.2  0.2  0.2  0.2  0.2\n",
      "  0.2  0.2  0.2  0.1  0.2  0.2  0.1  0.1  0.1  0.2  0.2  0.2  0.2  0.2  0.2\n",
      "  0.2  0.2  0.2  0.2  0.2  0.2  0.2  0.2  0.2  0.1  0.2  0.1  0.1  0.1  0.2\n",
      "  0.1  0.2  0.2  0.2  0.2  0.1  0.2  0.1  0.2  0.1  0.2  0.2  0.2  0.2  0.2\n",
      "  0.1  0.1  0.1  0.2  0.2  0.2  0.2  0.1  0.1  0.1  0.2  0.2  0.1  0.1  0.2\n",
      "  0.1  0.1  0.2  0.1  0.1  0.1  0.1  0.1  0.2  0.1  0.2  0.2  0.2  0.2  0.2\n",
      "  0.1  0.1  0.1  0.1  0.1  0.1  0.1  0.2  0.2  0.1  0.1  0.1  0.2  0.1  0.1\n",
      "  0.1  0.1  0.1  0.2  0.2  0.2  0.2  0.2  0.2  0.2  0.2  0.2  0.2  0.2  0.2\n",
      "  0.2  0.1  0.1  0.1  0.1  0.1  0.2  0.2  0.2  0.1  0.1  0.2  0.1  0.1  0.1\n",
      "  0.1  0.2  0.1  0.1  0.2  0.2  0.2  0.2  0.2  0.2  0.2  0.2  0.2  0.2  0.1\n",
      "  0.1  0.1  0.1  0.1  0.1  0.2  0.2  0.1  0.1  0.2  0.1  0.1  0.1  0.1  0.1\n",
      "  0.1  0.1  0.2  0.1  0.1  0.1  0.1  0.2  0.1  0.2  0.1  0.2  0.1  0.2  0.2\n",
      "  0.2  0.2  0.1  0.2  0.2  0.1  0.2  0.2  0.2  0.2  0.2  0.2  0.2  0.1  0.1\n",
      "  0.1  0.1  0.2  0.1  0.1  0.1  0.2  0.2  0.1  0.1  0.1  0.1  0.1  0.1  0.1\n",
      "  0.2  0.2  0.2  0.1  0.1  0.2  0.2  0.2  0.2  0.1  0.1  0.1  0.1  0.1  0.1\n",
      "  0.1  0.1  0.1  0.1  0.1  0.2  0.1  0.2  0.2  0.1  0.2  0.1  0.2  0.2  0.1\n",
      "  0.1  0.1  0.1  0.1  0.1  0.1  0.1  0.1  0.1  0.1  0.1  0.1  0.2  0.2  0.1\n",
      "  0.1  0.2  0.1  0.2  0.2  0.1  0.1  0.1  0.1  0.1  0.1  0.1  0.1  0.1  0.1\n",
      "  0.1  0.1  0.2  0.1  0.1  0.2  0.2  0.2  0.2  0.2  0.2  0.1  0.1  0.1  0.1\n",
      "  0.1  0.1  0.1  0.1  0.1  0.1  0.1  0.1  0.1  0.1  0.1  0.1  0.1  0.1  0.1\n",
      "  0.2  0.2  0.1  0.2  0.1  0.1  0.1  0.1  0.1  0.1  0.1  0.1  0.1  0.1  0.1\n",
      "  0.1  0.1  0.1  0.1  0.1  0.1  0.2  0.1  0.1  0.1  0.1  0.1  0.2  0.2  0.2\n",
      "  0.2  0.2  0.2  0.2  0.2  0.2  0.2  0.2  0.2  0.2  0.2  0.2  0.1  0.1  0.2\n",
      "  0.1  0.2  0.1  0.2  0.2  0.2  0.1  0.1  0.1  0.2  0.2  0.2  0.2  0.2  0.2\n",
      "  0.3  0.2  0.2  0.2  0.2  0.1  0.2  0.2  0.2  0.2  0.2  0.2  0.2  0.2  0.2\n",
      "  0.2  0.2  0.2  0.2  0.2  0.2  0.2  0.2  0.2  0.2  0.2  0.1  0.1  0.1  0.2\n",
      "  0.1  0.1  0.1  0.2  0.2  0.2  0.1  0.1  0.1  0.2]\n",
      "[ 482.6  229.5  652.1 ...,  473.4  410.9  217.7]\n",
      "[B, C, E, F, D, A, G]\n",
      "Categories (7, object): [B, C, E, F, D, A, G]\n",
      "[B3, B2, C5, E3, F1, ..., F4, G1, G4, G3, G5]\n",
      "Length: 35\n",
      "Categories (35, object): [B3, B2, C5, E3, ..., G1, G4, G3, G5]\n",
      "['Electronic Branch Manager' 'Site lead' 'Manager' ...,\n",
      " 'Mec\\xc3\\x83\\xc2\\xa1nica' 'Chief of Interpretation (Park Ranger)'\n",
      " 'Server Engineer Lead']\n",
      "[3 years, 10+ years, 8 years, < 1 year, 6 years, ..., 1 year, 4 years, n/a, 7 years, 9 years]\n",
      "Length: 12\n",
      "Categories (12, object): [3 years, 10+ years, 8 years, < 1 year, ..., 4 years, n/a, 7 years, 9 years]\n",
      "[Mortgage, Rent, Own, Other, None, Any]\n",
      "Categories (6, object): [Mortgage, Rent, Own, Other, None, Any]\n",
      "[  92000.   50000.  195000. ...,  284481.  113926.   99975.]\n",
      "[Not Verified, Verified, Source Verified]\n",
      "Categories (3, object): [Not Verified, Verified, Source Verified]\n",
      "['2015-12-01T00:00:00.000000000' '2015-11-01T00:00:00.000000000'\n",
      " '2015-10-01T00:00:00.000000000' '2015-09-01T00:00:00.000000000'\n",
      " '2015-08-01T00:00:00.000000000' '2015-07-01T00:00:00.000000000'\n",
      " '2015-06-01T00:00:00.000000000' '2015-05-01T00:00:00.000000000'\n",
      " '2015-04-01T00:00:00.000000000' '2015-03-01T00:00:00.000000000'\n",
      " '2015-02-01T00:00:00.000000000' '2015-01-01T00:00:00.000000000'\n",
      " '2011-12-01T00:00:00.000000000' '2011-11-01T00:00:00.000000000'\n",
      " '2011-10-01T00:00:00.000000000' '2011-09-01T00:00:00.000000000'\n",
      " '2011-08-01T00:00:00.000000000' '2011-07-01T00:00:00.000000000'\n",
      " '2011-06-01T00:00:00.000000000' '2011-05-01T00:00:00.000000000'\n",
      " '2011-04-01T00:00:00.000000000' '2011-03-01T00:00:00.000000000'\n",
      " '2011-02-01T00:00:00.000000000' '2011-01-01T00:00:00.000000000'\n",
      " '2010-12-01T00:00:00.000000000' '2010-11-01T00:00:00.000000000'\n",
      " '2010-10-01T00:00:00.000000000' '2010-09-01T00:00:00.000000000'\n",
      " '2010-08-01T00:00:00.000000000' '2010-07-01T00:00:00.000000000'\n",
      " '2010-06-01T00:00:00.000000000' '2010-05-01T00:00:00.000000000'\n",
      " '2010-04-01T00:00:00.000000000' '2010-03-01T00:00:00.000000000'\n",
      " '2010-02-01T00:00:00.000000000' '2010-01-01T00:00:00.000000000'\n",
      " '2009-12-01T00:00:00.000000000' '2009-11-01T00:00:00.000000000'\n",
      " '2009-10-01T00:00:00.000000000' '2009-09-01T00:00:00.000000000'\n",
      " '2009-08-01T00:00:00.000000000' '2009-07-01T00:00:00.000000000'\n",
      " '2009-06-01T00:00:00.000000000' '2009-05-01T00:00:00.000000000'\n",
      " '2009-04-01T00:00:00.000000000' '2009-03-01T00:00:00.000000000'\n",
      " '2009-02-01T00:00:00.000000000' '2009-01-01T00:00:00.000000000'\n",
      " '2008-12-01T00:00:00.000000000' '2008-11-01T00:00:00.000000000'\n",
      " '2008-10-01T00:00:00.000000000' '2008-09-01T00:00:00.000000000'\n",
      " '2008-08-01T00:00:00.000000000' '2008-07-01T00:00:00.000000000'\n",
      " '2008-06-01T00:00:00.000000000' '2008-05-01T00:00:00.000000000'\n",
      " '2008-04-01T00:00:00.000000000' '2008-03-01T00:00:00.000000000'\n",
      " '2008-02-01T00:00:00.000000000' '2008-01-01T00:00:00.000000000'\n",
      " '2007-12-01T00:00:00.000000000' '2007-11-01T00:00:00.000000000'\n",
      " '2007-10-01T00:00:00.000000000' '2007-09-01T00:00:00.000000000'\n",
      " '2007-08-01T00:00:00.000000000' '2007-07-01T00:00:00.000000000'\n",
      " '2007-06-01T00:00:00.000000000' '2013-12-01T00:00:00.000000000'\n",
      " '2013-11-01T00:00:00.000000000' '2013-10-01T00:00:00.000000000'\n",
      " '2013-09-01T00:00:00.000000000' '2013-08-01T00:00:00.000000000'\n",
      " '2013-07-01T00:00:00.000000000' '2013-06-01T00:00:00.000000000'\n",
      " '2013-05-01T00:00:00.000000000' '2013-04-01T00:00:00.000000000'\n",
      " '2013-03-01T00:00:00.000000000' '2013-02-01T00:00:00.000000000'\n",
      " '2013-01-01T00:00:00.000000000' '2012-12-01T00:00:00.000000000'\n",
      " '2012-11-01T00:00:00.000000000' '2012-10-01T00:00:00.000000000'\n",
      " '2012-09-01T00:00:00.000000000' '2012-08-01T00:00:00.000000000'\n",
      " '2012-07-01T00:00:00.000000000' '2012-06-01T00:00:00.000000000'\n",
      " '2012-05-01T00:00:00.000000000' '2012-04-01T00:00:00.000000000'\n",
      " '2012-03-01T00:00:00.000000000' '2012-02-01T00:00:00.000000000'\n",
      " '2012-01-01T00:00:00.000000000' '2014-12-01T00:00:00.000000000'\n",
      " '2014-11-01T00:00:00.000000000' '2014-10-01T00:00:00.000000000'\n",
      " '2014-09-01T00:00:00.000000000' '2014-08-01T00:00:00.000000000'\n",
      " '2014-07-01T00:00:00.000000000' '2014-06-01T00:00:00.000000000'\n",
      " '2014-05-01T00:00:00.000000000' '2014-04-01T00:00:00.000000000'\n",
      " '2014-03-01T00:00:00.000000000' '2014-02-01T00:00:00.000000000'\n",
      " '2014-01-01T00:00:00.000000000']\n",
      "[Fully Paid, Default]\n",
      "Categories (2, object): [Fully Paid, Default]\n",
      "[N, Y]\n",
      "Categories (2, object): [N, Y]\n",
      "['https://lendingclub.com/browse/loanDetail.action?loan_id=68416935'\n",
      " 'https://lendingclub.com/browse/loanDetail.action?loan_id=68082535'\n",
      " 'https://lendingclub.com/browse/loanDetail.action?loan_id=68407301' ...,\n",
      " 'https://lendingclub.com/browse/loanDetail.action?loan_id=9745590'\n",
      " 'https://lendingclub.com/browse/loanDetail.action?loan_id=9684700'\n",
      " 'https://lendingclub.com/browse/loanDetail.action?loan_id=9604874']\n",
      "[nan ' '\n",
      " 'I would like to consolidate my loan in one small monthly payment w/a low interest rate. All my credit has a very high interest rate. Please advise and let me know if i will be qualified.  '\n",
      " ..., '  Borrower added on 12/10/13 > all my loans in one auto payment<br>'\n",
      " '  Borrower added on 12/10/13 > pay off higher interest credit cards and have one lower payment each month<br>'\n",
      " '  Borrower added on 12/09/13 > consolidate all credit accounts<br>']\n",
      "[Debt_Consolidation, Other, Major_Purchase, Credit_Card, Small_Business, ..., Vacation, Renewable_Energy, House, Wedding, Educational]\n",
      "Length: 14\n",
      "Categories (14, object): [Debt_Consolidation, Other, Major_Purchase, Credit_Card, ..., Renewable_Energy, House, Wedding, Educational]\n",
      "['Debt consolidation' 'Other' 'Major purchase' ..., 'Stop the bleeding'\n",
      " 'LoanGetter' 'Consolidation 01']\n",
      "['973xx' '015xx' '710xx' '462xx' '174xx' '880xx' '085xx' '447xx' '577xx'\n",
      " '226xx' '856xx' '441xx' '774xx' '197xx' '136xx' '146xx' '600xx' '294xx'\n",
      " '480xx' '346xx' '922xx' '773xx' '986xx' '917xx' '481xx' '940xx' '910xx'\n",
      " '825xx' '725xx' '301xx' '327xx' '027xx' '207xx' '206xx' '164xx' '436xx'\n",
      " '928xx' '322xx' '945xx' '181xx' '280xx' '760xx' '974xx' '541xx' '968xx'\n",
      " '078xx' '852xx' '953xx' '919xx' '814xx' '800xx' '193xx' '891xx' '404xx'\n",
      " '941xx' '924xx' '308xx' '820xx' '662xx' '118xx' '195xx' '553xx' '935xx'\n",
      " '488xx' '300xx' '191xx' '601xx' '982xx' '123xx' '377xx' '704xx' '295xx'\n",
      " '751xx' '358xx' '806xx' '210xx' '286xx' '451xx' '282xx' '100xx' '801xx'\n",
      " '275xx' '124xx' '217xx' '293xx' '476xx' '038xx' '244xx' '349xx' '117xx'\n",
      " '372xx' '212xx' '493xx' '014xx' '331xx' '017xx' '551xx' '071xx' '326xx'\n",
      " '306xx' '850xx' '770xx' '112xx' '762xx' '453xx' '906xx' '949xx' '956xx'\n",
      " '802xx' '853xx' '079xx' '750xx' '927xx' '809xx' '104xx' '930xx' '900xx'\n",
      " '950xx' '330xx' '606xx' '113xx' '303xx' '070xx' '960xx' '840xx' '981xx'\n",
      " '354xx' '921xx' '142xx' '871xx' '151xx' '362xx' '139xx' '532xx' '583xx'\n",
      " '069xx' '201xx' '782xx' '337xx' '381xx' '957xx' '109xx' '194xx' '025xx'\n",
      " '783xx' '432xx' '967xx' '605xx' '570xx' '216xx' '232xx' '347xx' '336xx'\n",
      " '530xx' '931xx' '325xx' '992xx' '925xx' '316xx' '640xx' '208xx' '469xx'\n",
      " '895xx' '360xx' '657xx' '857xx' '370xx' '571xx' '401xx' '060xx' '339xx'\n",
      " '296xx' '427xx' '021xx' '103xx' '334xx' '338xx' '170xx' '321xx' '087xx'\n",
      " '765xx' '335xx' '672xx' '145xx' '287xx' '741xx' '588xx' '234xx' '231xx'\n",
      " '914xx' '460xx' '978xx' '077xx' '926xx' '064xx' '700xx' '780xx' '597xx'\n",
      " '230xx' '350xx' '946xx' '463xx' '923xx' '456xx' '916xx' '890xx' '787xx'\n",
      " '550xx' '723xx' '546xx' '604xx' '290xx' '727xx' '805xx' '713xx' '020xx'\n",
      " '341xx' '302xx' '440xx' '913xx' '943xx' '328xx' '907xx' '461xx' '934xx'\n",
      " '482xx' '637xx' '010xx' '795xx' '641xx' '221xx' '804xx' '150xx' '936xx'\n",
      " '972xx' '781xx' '125xx' '557xx' '430xx' '028xx' '465xx' '209xx' '134xx'\n",
      " '544xx' '320xx' '808xx' '200xx' '165xx' '120xx' '211xx' '088xx' '283xx'\n",
      " '767xx' '371xx' '442xx' '594xx' '644xx' '352xx' '860xx' '127xx' '452xx'\n",
      " '285xx' '444xx' '933xx' '402xx' '277xx' '376xx' '902xx' '220xx' '274xx'\n",
      " '019xx' '314xx' '790xx' '724xx' '271xx' '356xx' '105xx' '970xx' '218xx'\n",
      " '841xx' '450xx' '011xx' '030xx' '761xx' '119xx' '023xx' '140xx' '918xx'\n",
      " '196xx' '013xx' '240xx' '711xx' '363xx' '908xx' '752xx' '610xx' '775xx'\n",
      " '712xx' '305xx' '984xx' '958xx' '114xx' '374xx' '056xx' '276xx' '554xx'\n",
      " '284xx' '920xx' '129xx' '131xx' '256xx' '954xx' '472xx' '133xx' '980xx'\n",
      " '599xx' '971xx' '130xx' '734xx' '785xx' '446xx' '757xx' '449xx' '049xx'\n",
      " '988xx' '851xx' '955xx' '959xx' '603xx' '678xx' '485xx' '190xx' '491xx'\n",
      " '029xx' '394xx' '080xx' '270xx' '720xx' '380xx' '989xx' '405xx' '365xx'\n",
      " '067xx' '081xx' '591xx' '235xx' '875xx' '894xx' '563xx' '144xx' '595xx'\n",
      " '681xx' '393xx' '359xx' '433xx' '223xx' '743xx' '816xx' '939xx' '410xx'\n",
      " '531xx' '310xx' '705xx' '756xx' '176xx' '810xx' '241xx' '128xx' '273xx'\n",
      " '951xx' '431xx' '995xx' '721xx' '040xx' '110xx' '602xx' '473xx' '911xx'\n",
      " '844xx' '435xx' '997xx' '904xx' '233xx' '483xx' '975xx' '387xx' '870xx'\n",
      " '122xx' '722xx' '708xx' '254xx' '636xx' '778xx' '653xx' '631xx' '075xx'\n",
      " '108xx' '172xx' '319xx' '952xx' '395xx' '768xx' '292xx' '685xx' '222xx'\n",
      " '562xx' '454xx' '152xx' '058xx' '983xx' '486xx' '467xx' '630xx' '740xx'\n",
      " '617xx' '086xx' '317xx' '304xx' '386xx' '937xx' '378xx' '313xx' '227xx'\n",
      " '236xx' '351xx' '498xx' '175xx' '633xx' '403xx' '786xx' '423xx' '229xx'\n",
      " '648xx' '026xx' '874xx' '180xx' '034xx' '494xx' '729xx' '168xx' '490xx'\n",
      " '261xx' '073xx' '156xx' '390xx' '219xx' '558xx' '464xx' '626xx' '278xx'\n",
      " '368xx' '932xx' '754xx' '324xx' '598xx' '813xx' '355xx' '187xx' '776xx'\n",
      " '024xx' '157xx' '990xx' '141xx' '182xx' '701xx' '803xx' '492xx' '066xx'\n",
      " '864xx' '044xx' '625xx' '063xx' '687xx' '479xx' '443xx' '357xx' '255xx'\n",
      " '033xx' '173xx' '074xx' '169xx' '016xx' '041xx' '315xx' '903xx' '755xx'\n",
      " '549xx' '993xx' '177xx' '107xx' '763xx' '171xx' '121xx' '083xx' '042xx'\n",
      " '855xx' '749xx' '342xx' '624xx' '457xx' '037xx' '915xx' '534xx' '548xx'\n",
      " '660xx' '434xx' '794xx' '439xx' '291xx' '199xx' '565xx' '383xx' '132xx'\n",
      " '068xx' '656xx' '772xx' '622xx' '111xx' '065xx' '559xx' '366xx' '224xx'\n",
      " '137xx' '445xx' '159xx' '650xx' '590xx' '797xx' '560xx' '977xx' '471xx'\n",
      " '620xx' '996xx' '437xx' '307xx' '748xx' '031xx' '344xx' '863xx' '161xx'\n",
      " '948xx' '777xx' '607xx' '333xx' '707xx' '675xx' '076xx' '611xx' '054xx'\n",
      " '115xx' '400xx' '072xx' '389xx' '912xx' '297xx' '215xx' '484xx' '883xx'\n",
      " '496xx' '731xx' '373xx' '458xx' '062xx' '245xx' '225xx' '184xx' '881xx'\n",
      " '961xx' '149xx' '535xx' '612xx' '397xx' '730xx' '784xx' '018xx' '047xx'\n",
      " '163xx' '789xx' '263xx' '348xx' '154xx' '572xx' '323xx' '281xx' '796xx'\n",
      " '272xx' '092xx' '898xx' '388xx' '329xx' '101xx' '735xx' '288xx' '258xx'\n",
      " '106xx' '265xx' '178xx' '082xx' '706xx' '567xx' '547xx' '815xx' '897xx'\n",
      " '616xx' '545xx' '239xx' '645xx' '391xx' '665xx' '138xx' '489xx' '385xx'\n",
      " '153xx' '651xx' '382xx' '238xx' '566xx' '828xx' '242xx' '540xx' '160xx'\n",
      " '309xx' '769xx' '424xx' '826xx' '679xx' '985xx' '039xx' '495xx' '537xx'\n",
      " '618xx' '596xx' '671xx' '414xx' '627xx' '392xx' '228xx' '847xx' '882xx'\n",
      " '061xx' '766xx' '408xx' '155xx' '944xx' '198xx' '253xx' '744xx' '793xx'\n",
      " '976xx' '962xx' '384xx' '298xx' '799xx' '592xx' '147xx' '474xx' '690xx'\n",
      " '539xx' '299xx' '418xx' '468xx' '188xx' '811xx' '788xx' '166xx' '477xx'\n",
      " '415xx' '421xx' '759xx' '608xx' '564xx' '615xx' '680xx' '652xx' '827xx'\n",
      " '032xx' '497xx' '581xx' '846xx' '148xx' '634xx' '843xx' '703xx' '543xx'\n",
      " '466xx' '050xx' '584xx' '693xx' '688xx' '947xx' '655xx' '162xx' '396xx'\n",
      " '448xx' '728xx' '719xx' '629xx' '638xx' '186xx' '455xx' '905xx' '689xx'\n",
      " '143xx' '586xx' '185xx' '262xx' '691xx' '183xx' '717xx' '237xx' '764xx'\n",
      " '012xx' '658xx' '406xx' '048xx' '089xx' '542xx' '670xx' '379xx' '654xx'\n",
      " '845xx' '609xx' '189xx' '573xx' '666xx' '116xx' '758xx' '999xx' '367xx'\n",
      " '438xx' '807xx' '661xx' '716xx' '475xx' '260xx' '158xx' '416xx' '714xx'\n",
      " '791xx' '613xx' '046xx' '593xx' '361xx' '246xx' '829xx' '420xx' '422xx'\n",
      " '251xx' '575xx' '580xx' '510xx' '425xx' '676xx' '677xx' '214xx' '673xx'\n",
      " '893xx' '823xx' '798xx' '279xx' '879xx' '412xx' '084xx' '179xx' '478xx'\n",
      " '877xx' '247xx' '582xx' '628xx' '737xx' '243xx' '859xx' '057xx' '538xx'\n",
      " '753xx' '487xx' '587xx' '043xx' '585xx' '318xx' '411xx' '614xx' '779xx'\n",
      " '865xx' '312xx' '257xx' '364xx' '718xx' '135xx' '664xx' '008xx' '470xx'\n",
      " '726xx' '409xx' '998xx' '051xx' '167xx' '991xx' '574xx' '126xx' '259xx'\n",
      " '035xx' '812xx' '407xx' '836xx' '045xx' '994xx' '623xx' '736xx' '674xx'\n",
      " '647xx' '619xx' '979xx' '091xx' '098xx' '646xx' '022xx' '684xx' '639xx'\n",
      " '686xx' '824xx' '556xx' '668xx' '398xx' '683xx' '667xx' '576xx' '739xx'\n",
      " '746xx' '747xx' '830xx' '249xx' '745xx' '036xx' '250xx' '884xx' '738xx'\n",
      " '822xx' '052xx' '289xx' '873xx' '878xx' '561xx' '831xx' '059xx' '555xx'\n",
      " '248xx' '635xx' '413xx' '702xx' '094xx' '963xx' '267xx' '268xx' '417xx'\n",
      " '264xx' '792xx' '102xx' '053xx' '426xx' '252xx' '849xx' '854xx' '499xx'\n",
      " '669xx' '520xx' '096xx' '861xx' '090xx' '332xx' '838xx' '266xx' '862xx'\n",
      " '504xx' '942xx' '203xx' '969xx' '663xx' '528xx' '527xx' '375xx' '369xx'\n",
      " '353xx' '007xx' '093xx' '965xx' '837xx' '834xx' '833xx' '522xx' '523xx'\n",
      " '569xx' '502xx' '621xx' '643xx' '821xx' '340xx' '513xx' '500xx' '682xx'\n",
      " '311xx' '929xx' '938xx' '524xx' '909xx' '516xx' '832xx' '511xx']\n",
      "[OR, MA, LA, IN, PA, ..., NE, AK, WV, IA, ID]\n",
      "Length: 51\n",
      "Categories (51, object): [OR, MA, LA, IN, ..., AK, WV, IA, ID]\n",
      "[ 13.9  19.2   6.8 ...,   0.5   0.1   0.1]\n",
      "[  0.   1.   2.   3.   6.   4.   5.   7.   9.   8.  12.  10.  13.  14.  11.\n",
      "  18.  16.  17.  26.  15.  20.  29.  24.  22.  19.]\n",
      "['2001-11-01T00:00:00.000000000' '1987-08-01T00:00:00.000000000'\n",
      " '2001-07-01T00:00:00.000000000' '2005-03-01T00:00:00.000000000'\n",
      " '1998-06-01T00:00:00.000000000' '2002-04-01T00:00:00.000000000'\n",
      " '2002-12-01T00:00:00.000000000' '2000-09-01T00:00:00.000000000'\n",
      " '1999-12-01T00:00:00.000000000' '2001-12-01T00:00:00.000000000'\n",
      " '1993-11-01T00:00:00.000000000' '2000-11-01T00:00:00.000000000'\n",
      " '2004-10-01T00:00:00.000000000' '1986-08-01T00:00:00.000000000'\n",
      " '2006-11-01T00:00:00.000000000' '1989-09-01T00:00:00.000000000'\n",
      " '2003-11-01T00:00:00.000000000' '1985-11-01T00:00:00.000000000'\n",
      " '2006-04-01T00:00:00.000000000' '2002-09-01T00:00:00.000000000'\n",
      " '1998-07-01T00:00:00.000000000' '1996-07-01T00:00:00.000000000'\n",
      " '2002-11-01T00:00:00.000000000' '2000-03-01T00:00:00.000000000'\n",
      " '1999-06-01T00:00:00.000000000' '1998-10-01T00:00:00.000000000'\n",
      " '1983-09-01T00:00:00.000000000' '1991-04-01T00:00:00.000000000'\n",
      " '1998-08-01T00:00:00.000000000' '1994-10-01T00:00:00.000000000'\n",
      " '1999-10-01T00:00:00.000000000' '2002-01-01T00:00:00.000000000'\n",
      " '1989-08-01T00:00:00.000000000' '2004-04-01T00:00:00.000000000'\n",
      " '2003-05-01T00:00:00.000000000' '1977-12-01T00:00:00.000000000'\n",
      " '2012-03-01T00:00:00.000000000' '1995-06-01T00:00:00.000000000'\n",
      " '1994-11-01T00:00:00.000000000' '1996-12-01T00:00:00.000000000'\n",
      " '2003-10-01T00:00:00.000000000' '1985-08-01T00:00:00.000000000'\n",
      " '2005-07-01T00:00:00.000000000' '1987-02-01T00:00:00.000000000'\n",
      " '1995-02-01T00:00:00.000000000' '1984-11-01T00:00:00.000000000'\n",
      " '2004-08-01T00:00:00.000000000' '2000-07-01T00:00:00.000000000'\n",
      " '2003-07-01T00:00:00.000000000' '1992-07-01T00:00:00.000000000'\n",
      " '1996-02-01T00:00:00.000000000' '2007-10-01T00:00:00.000000000'\n",
      " '2002-05-01T00:00:00.000000000' '1980-03-01T00:00:00.000000000'\n",
      " '1973-03-01T00:00:00.000000000' '2004-03-01T00:00:00.000000000'\n",
      " '2006-09-01T00:00:00.000000000' '1987-09-01T00:00:00.000000000'\n",
      " '1997-08-01T00:00:00.000000000' '2002-10-01T00:00:00.000000000'\n",
      " '1999-07-01T00:00:00.000000000' '2003-08-01T00:00:00.000000000'\n",
      " '2000-04-01T00:00:00.000000000' '1999-11-01T00:00:00.000000000'\n",
      " '1992-11-01T00:00:00.000000000' '2007-04-01T00:00:00.000000000'\n",
      " '1997-06-01T00:00:00.000000000' '1986-05-01T00:00:00.000000000'\n",
      " '2005-10-01T00:00:00.000000000' '1994-09-01T00:00:00.000000000'\n",
      " '1986-11-01T00:00:00.000000000' '1977-06-01T00:00:00.000000000'\n",
      " '1995-07-01T00:00:00.000000000' '1999-02-01T00:00:00.000000000'\n",
      " '2001-09-01T00:00:00.000000000' '2002-08-01T00:00:00.000000000'\n",
      " '2006-07-01T00:00:00.000000000' '2003-04-01T00:00:00.000000000'\n",
      " '1999-05-01T00:00:00.000000000' '1998-05-01T00:00:00.000000000'\n",
      " '1996-06-01T00:00:00.000000000' '1994-04-01T00:00:00.000000000'\n",
      " '1986-01-01T00:00:00.000000000' '2000-08-01T00:00:00.000000000'\n",
      " '2006-12-01T00:00:00.000000000' '2004-12-01T00:00:00.000000000'\n",
      " '2004-07-01T00:00:00.000000000' '1994-07-01T00:00:00.000000000'\n",
      " '1998-02-01T00:00:00.000000000' '1988-12-01T00:00:00.000000000'\n",
      " '1983-08-01T00:00:00.000000000' '2004-05-01T00:00:00.000000000'\n",
      " '2005-01-01T00:00:00.000000000' '2007-02-01T00:00:00.000000000'\n",
      " '1991-11-01T00:00:00.000000000' '2001-01-01T00:00:00.000000000'\n",
      " '2011-10-01T00:00:00.000000000' '1980-08-01T00:00:00.000000000'\n",
      " '1992-12-01T00:00:00.000000000' '1990-08-01T00:00:00.000000000'\n",
      " '1998-09-01T00:00:00.000000000' '1977-04-01T00:00:00.000000000'\n",
      " '1979-01-01T00:00:00.000000000' '2005-02-01T00:00:00.000000000'\n",
      " '2006-03-01T00:00:00.000000000' '2003-06-01T00:00:00.000000000'\n",
      " '1983-06-01T00:00:00.000000000' '1994-02-01T00:00:00.000000000'\n",
      " '2007-09-01T00:00:00.000000000' '2009-12-01T00:00:00.000000000'\n",
      " '1989-11-01T00:00:00.000000000' '1996-10-01T00:00:00.000000000'\n",
      " '1978-09-01T00:00:00.000000000' '1984-08-01T00:00:00.000000000'\n",
      " '1993-02-01T00:00:00.000000000' '2007-03-01T00:00:00.000000000'\n",
      " '2006-05-01T00:00:00.000000000' '1996-04-01T00:00:00.000000000'\n",
      " '2008-06-01T00:00:00.000000000' '2004-06-01T00:00:00.000000000'\n",
      " '2008-07-01T00:00:00.000000000' '1990-06-01T00:00:00.000000000'\n",
      " '1995-10-01T00:00:00.000000000' '2000-05-01T00:00:00.000000000'\n",
      " '1977-01-01T00:00:00.000000000' '2012-08-01T00:00:00.000000000'\n",
      " '2005-09-01T00:00:00.000000000' '1991-06-01T00:00:00.000000000'\n",
      " '1996-05-01T00:00:00.000000000' '1984-04-01T00:00:00.000000000'\n",
      " '1985-02-01T00:00:00.000000000' '2011-01-01T00:00:00.000000000'\n",
      " '2004-02-01T00:00:00.000000000' '2008-08-01T00:00:00.000000000'\n",
      " '2005-08-01T00:00:00.000000000' '1991-02-01T00:00:00.000000000'\n",
      " '2002-06-01T00:00:00.000000000' '2012-02-01T00:00:00.000000000'\n",
      " '2000-06-01T00:00:00.000000000' '2000-01-01T00:00:00.000000000'\n",
      " '1991-03-01T00:00:00.000000000' '1997-10-01T00:00:00.000000000'\n",
      " '2007-06-01T00:00:00.000000000' '2008-01-01T00:00:00.000000000'\n",
      " '1972-03-01T00:00:00.000000000' '1995-11-01T00:00:00.000000000'\n",
      " '1997-04-01T00:00:00.000000000' '1993-05-01T00:00:00.000000000'\n",
      " '2002-07-01T00:00:00.000000000' '2008-10-01T00:00:00.000000000'\n",
      " '1994-12-01T00:00:00.000000000' '1992-04-01T00:00:00.000000000'\n",
      " '1997-01-01T00:00:00.000000000' '1984-06-01T00:00:00.000000000'\n",
      " '1993-09-01T00:00:00.000000000' '2000-12-01T00:00:00.000000000'\n",
      " '2007-01-01T00:00:00.000000000' '1995-09-01T00:00:00.000000000'\n",
      " '1992-03-01T00:00:00.000000000' '2009-07-01T00:00:00.000000000'\n",
      " '1992-08-01T00:00:00.000000000' '1996-11-01T00:00:00.000000000'\n",
      " '2003-12-01T00:00:00.000000000' '1984-03-01T00:00:00.000000000'\n",
      " '1989-04-01T00:00:00.000000000' '1989-10-01T00:00:00.000000000'\n",
      " '1992-01-01T00:00:00.000000000' '2003-09-01T00:00:00.000000000'\n",
      " '1998-11-01T00:00:00.000000000' '1988-02-01T00:00:00.000000000'\n",
      " '1997-12-01T00:00:00.000000000' '2012-09-01T00:00:00.000000000'\n",
      " '1987-11-01T00:00:00.000000000' '1992-09-01T00:00:00.000000000'\n",
      " '1992-10-01T00:00:00.000000000' '1998-03-01T00:00:00.000000000'\n",
      " '2005-11-01T00:00:00.000000000' '2007-12-01T00:00:00.000000000'\n",
      " '2010-07-01T00:00:00.000000000' '1992-06-01T00:00:00.000000000'\n",
      " '1999-03-01T00:00:00.000000000' '2005-12-01T00:00:00.000000000'\n",
      " '2002-03-01T00:00:00.000000000' '1993-06-01T00:00:00.000000000'\n",
      " '2000-02-01T00:00:00.000000000' '2011-07-01T00:00:00.000000000'\n",
      " '2004-11-01T00:00:00.000000000' '2001-02-01T00:00:00.000000000'\n",
      " '1988-11-01T00:00:00.000000000' '1998-12-01T00:00:00.000000000'\n",
      " '2001-06-01T00:00:00.000000000' '1998-01-01T00:00:00.000000000'\n",
      " '1997-11-01T00:00:00.000000000' '2001-08-01T00:00:00.000000000'\n",
      " '1996-08-01T00:00:00.000000000' '2003-03-01T00:00:00.000000000'\n",
      " '1989-03-01T00:00:00.000000000' '1982-03-01T00:00:00.000000000'\n",
      " '2003-02-01T00:00:00.000000000' '1994-05-01T00:00:00.000000000'\n",
      " '1995-08-01T00:00:00.000000000' '2001-10-01T00:00:00.000000000'\n",
      " '1993-01-01T00:00:00.000000000' '2007-07-01T00:00:00.000000000'\n",
      " '1983-07-01T00:00:00.000000000' '1997-07-01T00:00:00.000000000'\n",
      " '1982-02-01T00:00:00.000000000' '2008-11-01T00:00:00.000000000'\n",
      " '2004-09-01T00:00:00.000000000' '1985-09-01T00:00:00.000000000'\n",
      " '2004-01-01T00:00:00.000000000' '1999-04-01T00:00:00.000000000'\n",
      " '1995-12-01T00:00:00.000000000' '1983-12-01T00:00:00.000000000'\n",
      " '1993-03-01T00:00:00.000000000' '1987-05-01T00:00:00.000000000'\n",
      " '1999-09-01T00:00:00.000000000' '2006-02-01T00:00:00.000000000'\n",
      " '1991-08-01T00:00:00.000000000' '2007-11-01T00:00:00.000000000'\n",
      " '1996-03-01T00:00:00.000000000' '2006-08-01T00:00:00.000000000'\n",
      " '2006-01-01T00:00:00.000000000' '1995-03-01T00:00:00.000000000'\n",
      " '1984-09-01T00:00:00.000000000' '1980-09-01T00:00:00.000000000'\n",
      " '1979-11-01T00:00:00.000000000' '1993-10-01T00:00:00.000000000'\n",
      " '1988-06-01T00:00:00.000000000' '1983-04-01T00:00:00.000000000'\n",
      " '2008-03-01T00:00:00.000000000' '2008-02-01T00:00:00.000000000'\n",
      " '2001-04-01T00:00:00.000000000' '1997-02-01T00:00:00.000000000'\n",
      " '1990-11-01T00:00:00.000000000' '2005-05-01T00:00:00.000000000'\n",
      " '1996-09-01T00:00:00.000000000' '1997-09-01T00:00:00.000000000'\n",
      " '1986-02-01T00:00:00.000000000' '1990-09-01T00:00:00.000000000'\n",
      " '2003-01-01T00:00:00.000000000' '2011-06-01T00:00:00.000000000'\n",
      " '1993-07-01T00:00:00.000000000' '2010-09-01T00:00:00.000000000'\n",
      " '1976-01-01T00:00:00.000000000' '1992-02-01T00:00:00.000000000'\n",
      " '2001-03-01T00:00:00.000000000' '1983-05-01T00:00:00.000000000'\n",
      " '1987-06-01T00:00:00.000000000' '1989-01-01T00:00:00.000000000'\n",
      " '2010-11-01T00:00:00.000000000' '1988-01-01T00:00:00.000000000'\n",
      " '2001-05-01T00:00:00.000000000' '1999-08-01T00:00:00.000000000'\n",
      " '1986-10-01T00:00:00.000000000' '1995-05-01T00:00:00.000000000'\n",
      " '2010-04-01T00:00:00.000000000' '2008-04-01T00:00:00.000000000'\n",
      " '2008-12-01T00:00:00.000000000' '1988-07-01T00:00:00.000000000'\n",
      " '1994-01-01T00:00:00.000000000' '1999-01-01T00:00:00.000000000'\n",
      " '2009-08-01T00:00:00.000000000' '2007-05-01T00:00:00.000000000'\n",
      " '2005-06-01T00:00:00.000000000' '2007-08-01T00:00:00.000000000'\n",
      " '1988-05-01T00:00:00.000000000' '2011-03-01T00:00:00.000000000'\n",
      " '1998-04-01T00:00:00.000000000' '2006-06-01T00:00:00.000000000'\n",
      " '2000-10-01T00:00:00.000000000' '1983-10-01T00:00:00.000000000'\n",
      " '2012-05-01T00:00:00.000000000' '1988-04-01T00:00:00.000000000'\n",
      " '1985-01-01T00:00:00.000000000' '2009-02-01T00:00:00.000000000'\n",
      " '1989-07-01T00:00:00.000000000' '1990-10-01T00:00:00.000000000'\n",
      " '1989-05-01T00:00:00.000000000' '1997-05-01T00:00:00.000000000'\n",
      " '1992-05-01T00:00:00.000000000' '2006-10-01T00:00:00.000000000'\n",
      " '1993-08-01T00:00:00.000000000' '2011-04-01T00:00:00.000000000'\n",
      " '2005-04-01T00:00:00.000000000' '2010-08-01T00:00:00.000000000'\n",
      " '1987-03-01T00:00:00.000000000' '2009-10-01T00:00:00.000000000'\n",
      " '1984-12-01T00:00:00.000000000' '1989-06-01T00:00:00.000000000'\n",
      " '1987-01-01T00:00:00.000000000' '2002-02-01T00:00:00.000000000'\n",
      " '2009-01-01T00:00:00.000000000' '1991-07-01T00:00:00.000000000'\n",
      " '1977-07-01T00:00:00.000000000' '1989-12-01T00:00:00.000000000'\n",
      " '1977-10-01T00:00:00.000000000' '1990-04-01T00:00:00.000000000'\n",
      " '1971-09-01T00:00:00.000000000' '1988-03-01T00:00:00.000000000'\n",
      " '1987-04-01T00:00:00.000000000' '1993-04-01T00:00:00.000000000'\n",
      " '2010-06-01T00:00:00.000000000' '1965-09-01T00:00:00.000000000'\n",
      " '1983-11-01T00:00:00.000000000' '1990-03-01T00:00:00.000000000'\n",
      " '1995-04-01T00:00:00.000000000' '2009-09-01T00:00:00.000000000'\n",
      " '1990-05-01T00:00:00.000000000' '1994-03-01T00:00:00.000000000'\n",
      " '1988-09-01T00:00:00.000000000' '1996-01-01T00:00:00.000000000'\n",
      " '1982-05-01T00:00:00.000000000' '1991-10-01T00:00:00.000000000'\n",
      " '1991-01-01T00:00:00.000000000' '1985-04-01T00:00:00.000000000'\n",
      " '2011-09-01T00:00:00.000000000' '1990-12-01T00:00:00.000000000'\n",
      " '1981-02-01T00:00:00.000000000' '1997-03-01T00:00:00.000000000'\n",
      " '1982-12-01T00:00:00.000000000' '1970-10-01T00:00:00.000000000'\n",
      " '1984-10-01T00:00:00.000000000' '1987-10-01T00:00:00.000000000'\n",
      " '1983-01-01T00:00:00.000000000' '1972-04-01T00:00:00.000000000'\n",
      " '1970-03-01T00:00:00.000000000' '1991-09-01T00:00:00.000000000'\n",
      " '1965-11-01T00:00:00.000000000' '1984-01-01T00:00:00.000000000'\n",
      " '2008-05-01T00:00:00.000000000' '2012-07-01T00:00:00.000000000'\n",
      " '1980-02-01T00:00:00.000000000' '1975-01-01T00:00:00.000000000'\n",
      " '1990-01-01T00:00:00.000000000' '1976-11-01T00:00:00.000000000'\n",
      " '1986-12-01T00:00:00.000000000' '2011-11-01T00:00:00.000000000'\n",
      " '2010-03-01T00:00:00.000000000' '1990-02-01T00:00:00.000000000'\n",
      " '2008-09-01T00:00:00.000000000' '1989-02-01T00:00:00.000000000'\n",
      " '1981-09-01T00:00:00.000000000' '1964-01-01T00:00:00.000000000'\n",
      " '2011-08-01T00:00:00.000000000' '1979-03-01T00:00:00.000000000'\n",
      " '1987-07-01T00:00:00.000000000' '1962-12-01T00:00:00.000000000'\n",
      " '1995-01-01T00:00:00.000000000' '1971-05-01T00:00:00.000000000'\n",
      " '1986-09-01T00:00:00.000000000' '2010-10-01T00:00:00.000000000'\n",
      " '1985-03-01T00:00:00.000000000' '1969-07-01T00:00:00.000000000'\n",
      " '2012-04-01T00:00:00.000000000' '2010-02-01T00:00:00.000000000'\n",
      " '1979-10-01T00:00:00.000000000' '2009-04-01T00:00:00.000000000'\n",
      " '1973-02-01T00:00:00.000000000' '1968-10-01T00:00:00.000000000'\n",
      " '1986-07-01T00:00:00.000000000' '2010-01-01T00:00:00.000000000'\n",
      " '1981-08-01T00:00:00.000000000' '1994-06-01T00:00:00.000000000'\n",
      " '1977-02-01T00:00:00.000000000' '2009-03-01T00:00:00.000000000'\n",
      " '2009-11-01T00:00:00.000000000' '2011-12-01T00:00:00.000000000'\n",
      " '1969-02-01T00:00:00.000000000' '1985-05-01T00:00:00.000000000'\n",
      " '2010-05-01T00:00:00.000000000' '1993-12-01T00:00:00.000000000'\n",
      " '1972-01-01T00:00:00.000000000' '1985-07-01T00:00:00.000000000'\n",
      " '2011-05-01T00:00:00.000000000' '1978-10-01T00:00:00.000000000'\n",
      " '1969-08-01T00:00:00.000000000' '1990-07-01T00:00:00.000000000'\n",
      " '2009-05-01T00:00:00.000000000' '1991-05-01T00:00:00.000000000'\n",
      " '1988-10-01T00:00:00.000000000' '1994-08-01T00:00:00.000000000'\n",
      " '1980-06-01T00:00:00.000000000' '2009-06-01T00:00:00.000000000'\n",
      " '1978-03-01T00:00:00.000000000' '1982-07-01T00:00:00.000000000'\n",
      " '1991-12-01T00:00:00.000000000' '1980-07-01T00:00:00.000000000'\n",
      " '1975-10-01T00:00:00.000000000' '1981-01-01T00:00:00.000000000'\n",
      " '1977-09-01T00:00:00.000000000' '1978-12-01T00:00:00.000000000'\n",
      " '1982-09-01T00:00:00.000000000' '1958-12-01T00:00:00.000000000'\n",
      " '1981-07-01T00:00:00.000000000' '1986-03-01T00:00:00.000000000'\n",
      " '1988-08-01T00:00:00.000000000' '1986-04-01T00:00:00.000000000'\n",
      " '1984-07-01T00:00:00.000000000' '1981-11-01T00:00:00.000000000'\n",
      " '1979-04-01T00:00:00.000000000' '1958-10-01T00:00:00.000000000'\n",
      " '1976-04-01T00:00:00.000000000' '1967-01-01T00:00:00.000000000'\n",
      " '1985-12-01T00:00:00.000000000' '1979-12-01T00:00:00.000000000'\n",
      " '1962-10-01T00:00:00.000000000' '1982-10-01T00:00:00.000000000'\n",
      " '1980-11-01T00:00:00.000000000' '2012-11-01T00:00:00.000000000'\n",
      " '1970-11-01T00:00:00.000000000' '1985-10-01T00:00:00.000000000'\n",
      " '1972-10-01T00:00:00.000000000' '2012-10-01T00:00:00.000000000'\n",
      " '2011-02-01T00:00:00.000000000' '1969-04-01T00:00:00.000000000'\n",
      " '1975-08-01T00:00:00.000000000' '2012-06-01T00:00:00.000000000'\n",
      " '1982-08-01T00:00:00.000000000' '1987-12-01T00:00:00.000000000'\n",
      " '1975-12-01T00:00:00.000000000' '1976-12-01T00:00:00.000000000'\n",
      " '1981-10-01T00:00:00.000000000' '1955-06-01T00:00:00.000000000'\n",
      " '1982-06-01T00:00:00.000000000' '1984-05-01T00:00:00.000000000'\n",
      " '1981-12-01T00:00:00.000000000' '1979-02-01T00:00:00.000000000'\n",
      " '1983-02-01T00:00:00.000000000' '1971-01-01T00:00:00.000000000'\n",
      " '1978-01-01T00:00:00.000000000' '1968-07-01T00:00:00.000000000'\n",
      " '2012-01-01T00:00:00.000000000' '1974-04-01T00:00:00.000000000'\n",
      " '1979-08-01T00:00:00.000000000' '2010-12-01T00:00:00.000000000'\n",
      " '1977-05-01T00:00:00.000000000' '1974-01-01T00:00:00.000000000'\n",
      " '1984-02-01T00:00:00.000000000' '1977-03-01T00:00:00.000000000'\n",
      " '1971-04-01T00:00:00.000000000' '1978-04-01T00:00:00.000000000'\n",
      " '1976-08-01T00:00:00.000000000' '1970-04-01T00:00:00.000000000'\n",
      " '1978-11-01T00:00:00.000000000' '1982-01-01T00:00:00.000000000'\n",
      " '1985-06-01T00:00:00.000000000' '1972-02-01T00:00:00.000000000'\n",
      " '1982-04-01T00:00:00.000000000' '1982-11-01T00:00:00.000000000'\n",
      " '1979-09-01T00:00:00.000000000' '1977-11-01T00:00:00.000000000'\n",
      " '1973-12-01T00:00:00.000000000' '1980-05-01T00:00:00.000000000'\n",
      " '1972-12-01T00:00:00.000000000' '1978-02-01T00:00:00.000000000'\n",
      " '1973-11-01T00:00:00.000000000' '1986-06-01T00:00:00.000000000'\n",
      " '1971-12-01T00:00:00.000000000' '1971-03-01T00:00:00.000000000'\n",
      " '1969-06-01T00:00:00.000000000' '1965-10-01T00:00:00.000000000'\n",
      " '1981-06-01T00:00:00.000000000' '1970-08-01T00:00:00.000000000'\n",
      " '1975-02-01T00:00:00.000000000' '1981-03-01T00:00:00.000000000'\n",
      " '1979-05-01T00:00:00.000000000' '1976-05-01T00:00:00.000000000'\n",
      " '1978-08-01T00:00:00.000000000' '1974-09-01T00:00:00.000000000'\n",
      " '1980-01-01T00:00:00.000000000' '1970-09-01T00:00:00.000000000'\n",
      " '1961-01-01T00:00:00.000000000' '1966-11-01T00:00:00.000000000'\n",
      " '1979-06-01T00:00:00.000000000' '1967-08-01T00:00:00.000000000'\n",
      " '1970-05-01T00:00:00.000000000' '1972-09-01T00:00:00.000000000'\n",
      " '1966-08-01T00:00:00.000000000' '1973-10-01T00:00:00.000000000'\n",
      " '1978-06-01T00:00:00.000000000' '1981-05-01T00:00:00.000000000'\n",
      " '1980-12-01T00:00:00.000000000' '1975-04-01T00:00:00.000000000'\n",
      " '1983-03-01T00:00:00.000000000' '1977-08-01T00:00:00.000000000'\n",
      " '1967-02-01T00:00:00.000000000' '1967-04-01T00:00:00.000000000'\n",
      " '1981-04-01T00:00:00.000000000' '1975-06-01T00:00:00.000000000'\n",
      " '1976-10-01T00:00:00.000000000' '1968-02-01T00:00:00.000000000'\n",
      " '1978-05-01T00:00:00.000000000' '1967-06-01T00:00:00.000000000'\n",
      " '1966-01-01T00:00:00.000000000' '1975-05-01T00:00:00.000000000'\n",
      " '1974-10-01T00:00:00.000000000' '1980-10-01T00:00:00.000000000'\n",
      " '1970-07-01T00:00:00.000000000' '1975-09-01T00:00:00.000000000'\n",
      " '1974-06-01T00:00:00.000000000' '1966-07-01T00:00:00.000000000'\n",
      " '1964-09-01T00:00:00.000000000' '1975-11-01T00:00:00.000000000'\n",
      " '1978-07-01T00:00:00.000000000' '1973-05-01T00:00:00.000000000'\n",
      " '1969-11-01T00:00:00.000000000' '1973-06-01T00:00:00.000000000'\n",
      " '1972-11-01T00:00:00.000000000' '1979-07-01T00:00:00.000000000'\n",
      " '1974-03-01T00:00:00.000000000' '1965-05-01T00:00:00.000000000'\n",
      " '1970-12-01T00:00:00.000000000' '1980-04-01T00:00:00.000000000'\n",
      " '1968-11-01T00:00:00.000000000' '1971-10-01T00:00:00.000000000'\n",
      " '1971-11-01T00:00:00.000000000' '1959-12-01T00:00:00.000000000'\n",
      " '1974-02-01T00:00:00.000000000' '1963-01-01T00:00:00.000000000'\n",
      " '1968-01-01T00:00:00.000000000' '1967-05-01T00:00:00.000000000'\n",
      " '1965-04-01T00:00:00.000000000' '1976-06-01T00:00:00.000000000'\n",
      " '1971-07-01T00:00:00.000000000' '1976-09-01T00:00:00.000000000'\n",
      " '1966-12-01T00:00:00.000000000' '1973-08-01T00:00:00.000000000'\n",
      " '1976-07-01T00:00:00.000000000' '1967-10-01T00:00:00.000000000'\n",
      " '1963-10-01T00:00:00.000000000' '1963-06-01T00:00:00.000000000'\n",
      " '1968-09-01T00:00:00.000000000' '1965-06-01T00:00:00.000000000'\n",
      " '1962-07-01T00:00:00.000000000' '1955-05-01T00:00:00.000000000'\n",
      " '1973-09-01T00:00:00.000000000' '1974-05-01T00:00:00.000000000'\n",
      " '1973-04-01T00:00:00.000000000' '1951-08-01T00:00:00.000000000'\n",
      " '1976-03-01T00:00:00.000000000' '1970-01-01T00:00:00.000000000'\n",
      " '1959-08-01T00:00:00.000000000' '1971-06-01T00:00:00.000000000'\n",
      " '1976-02-01T00:00:00.000000000' '1974-11-01T00:00:00.000000000'\n",
      " '1973-01-01T00:00:00.000000000' '1968-05-01T00:00:00.000000000'\n",
      " '1969-10-01T00:00:00.000000000' '1967-09-01T00:00:00.000000000'\n",
      " '1972-06-01T00:00:00.000000000' '1964-03-01T00:00:00.000000000'\n",
      " '1957-06-01T00:00:00.000000000' '1973-07-01T00:00:00.000000000'\n",
      " '1972-05-01T00:00:00.000000000' '1958-01-01T00:00:00.000000000'\n",
      " '1968-03-01T00:00:00.000000000' '1972-07-01T00:00:00.000000000'\n",
      " '1969-03-01T00:00:00.000000000' '1964-02-01T00:00:00.000000000'\n",
      " '1975-07-01T00:00:00.000000000' '1970-06-01T00:00:00.000000000'\n",
      " '1958-11-01T00:00:00.000000000' '1974-12-01T00:00:00.000000000'\n",
      " '1972-08-01T00:00:00.000000000' '1974-08-01T00:00:00.000000000'\n",
      " '1966-05-01T00:00:00.000000000' '1956-01-01T00:00:00.000000000'\n",
      " '1968-04-01T00:00:00.000000000' '1970-02-01T00:00:00.000000000'\n",
      " '1971-08-01T00:00:00.000000000' '1962-03-01T00:00:00.000000000'\n",
      " '1960-01-01T00:00:00.000000000' '1965-07-01T00:00:00.000000000'\n",
      " '1966-04-01T00:00:00.000000000' '1967-11-01T00:00:00.000000000'\n",
      " '1963-12-01T00:00:00.000000000' '1963-08-01T00:00:00.000000000'\n",
      " '1963-07-01T00:00:00.000000000' '1965-02-01T00:00:00.000000000'\n",
      " '1965-01-01T00:00:00.000000000' '1969-01-01T00:00:00.000000000'\n",
      " '1964-04-01T00:00:00.000000000' '1975-03-01T00:00:00.000000000'\n",
      " '1974-07-01T00:00:00.000000000' '1964-10-01T00:00:00.000000000'\n",
      " '1967-07-01T00:00:00.000000000' '1965-03-01T00:00:00.000000000'\n",
      " '1971-02-01T00:00:00.000000000' '1967-03-01T00:00:00.000000000'\n",
      " '1962-01-01T00:00:00.000000000' '1968-12-01T00:00:00.000000000'\n",
      " '1969-12-01T00:00:00.000000000' '1969-09-01T00:00:00.000000000'\n",
      " '1951-07-01T00:00:00.000000000' '1964-12-01T00:00:00.000000000'\n",
      " '1950-08-01T00:00:00.000000000' '1959-06-01T00:00:00.000000000'\n",
      " '1968-06-01T00:00:00.000000000' '1966-03-01T00:00:00.000000000'\n",
      " '1961-10-01T00:00:00.000000000' '1959-01-01T00:00:00.000000000'\n",
      " '1961-12-01T00:00:00.000000000' '1959-05-01T00:00:00.000000000'\n",
      " '1965-12-01T00:00:00.000000000' '1964-11-01T00:00:00.000000000'\n",
      " '1969-05-01T00:00:00.000000000' '1958-04-01T00:00:00.000000000'\n",
      " '1961-08-01T00:00:00.000000000' '1954-01-01T00:00:00.000000000'\n",
      " '1963-03-01T00:00:00.000000000' '1962-04-01T00:00:00.000000000'\n",
      " '1962-05-01T00:00:00.000000000' '1951-01-01T00:00:00.000000000'\n",
      " '1967-12-01T00:00:00.000000000' '1966-09-01T00:00:00.000000000'\n",
      " '1966-06-01T00:00:00.000000000' '1965-08-01T00:00:00.000000000'\n",
      " '1962-09-01T00:00:00.000000000' '1968-08-01T00:00:00.000000000'\n",
      " '1954-10-01T00:00:00.000000000' '1963-05-01T00:00:00.000000000'\n",
      " '1964-07-01T00:00:00.000000000' '1956-09-01T00:00:00.000000000'\n",
      " '1946-01-01T00:00:00.000000000' '1950-12-01T00:00:00.000000000'\n",
      " '1966-02-01T00:00:00.000000000' '1954-11-01T00:00:00.000000000'\n",
      " '1963-09-01T00:00:00.000000000' '1962-11-01T00:00:00.000000000'\n",
      " '1961-11-01T00:00:00.000000000' '1964-06-01T00:00:00.000000000'\n",
      " '1956-12-01T00:00:00.000000000' '1962-06-01T00:00:00.000000000'\n",
      " '1960-10-01T00:00:00.000000000' '1960-12-01T00:00:00.000000000'\n",
      " '1957-10-01T00:00:00.000000000' '1960-05-01T00:00:00.000000000'\n",
      " '1953-11-01T00:00:00.000000000' '1959-10-01T00:00:00.000000000'\n",
      " '1960-11-01T00:00:00.000000000' '1963-02-01T00:00:00.000000000'\n",
      " '1964-05-01T00:00:00.000000000' '1959-11-01T00:00:00.000000000'\n",
      " '1960-08-01T00:00:00.000000000' '1960-03-01T00:00:00.000000000'\n",
      " '1955-04-01T00:00:00.000000000' '1959-09-01T00:00:00.000000000'\n",
      " '1955-07-01T00:00:00.000000000' '1963-11-01T00:00:00.000000000'\n",
      " '1953-05-01T00:00:00.000000000' '1966-10-01T00:00:00.000000000'\n",
      " '1950-11-01T00:00:00.000000000' '1955-11-01T00:00:00.000000000'\n",
      " '1961-03-01T00:00:00.000000000' '1957-02-01T00:00:00.000000000'\n",
      " '1960-02-01T00:00:00.000000000' '1960-09-01T00:00:00.000000000'\n",
      " '1951-12-01T00:00:00.000000000' '1962-08-01T00:00:00.000000000'\n",
      " '1963-04-01T00:00:00.000000000' '1955-01-01T00:00:00.000000000'\n",
      " '1958-07-01T00:00:00.000000000' '1958-08-01T00:00:00.000000000'\n",
      " '1957-01-01T00:00:00.000000000' '1944-01-01T00:00:00.000000000'\n",
      " '1961-04-01T00:00:00.000000000' '1950-10-01T00:00:00.000000000'\n",
      " '1948-01-01T00:00:00.000000000' '1961-07-01T00:00:00.000000000'\n",
      " '1960-06-01T00:00:00.000000000' '1964-08-01T00:00:00.000000000'\n",
      " '1956-11-01T00:00:00.000000000']\n",
      "[ 1.  0.  4.  3.  2.  5.  6.  7.  8.]\n",
      "[  nan   70.   12.   78.    6.   29.   47.   16.   40.    9.   13.    3.\n",
      "   17.   73.   34.   22.   54.   46.   72.   44.   60.   55.   10.   19.\n",
      "   20.   57.   69.   14.   42.   39.    8.   26.   62.   43.   38.   41.\n",
      "    1.   23.   27.   81.   67.   59.   28.   85.   79.   66.   63.   11.\n",
      "   33.    5.   52.   21.   31.   51.   75.    7.   53.   50.   37.   36.\n",
      "   15.   80.   32.   35.   71.   49.   30.    2.   76.   61.   18.   45.\n",
      "   68.   48.   58.   77.   24.    4.   74.   25.   64.   65.   56.   92.\n",
      "   82.   84.   88.    0.   83.   86.   87.  105.  134.   90.   89.   93.\n",
      "  120.  112.  110.  125.  101.   91.  152.  114.   98.  106.   95.  100.\n",
      "  176.  108.  121.   99.  115.   96.  103.  107.   97.  135.  122.  127.\n",
      "   94.  102.  129.  113.  139.  131.  143.  109.  119.  149.  118.  130.\n",
      "  141.  116.  148.  133.  104.  140.  151.]\n",
      "[  67.   nan   30.   71.   91.   84.   69.   75.   58.   81.   82.   76.\n",
      "   65.   79.   26.   54.   40.   48.   11.   63.   27.   16.  101.   41.\n",
      "   77.   74.   93.   52.   64.   83.   57.   51.   70.   33.   19.   85.\n",
      "   25.   55.  116.    5.  104.   61.   90.   12.   73.   80.   29.   45.\n",
      "   87.   60.   78.  105.  114.   46.   99.  111.   43.   21.  115.  100.\n",
      "   24.   56.  103.   22.   38.   68.   98.   72.   92.   86.   36.   88.\n",
      "   23.    0.   14.   96.   97.   66.   62.  109.   34.   50.   31.   39.\n",
      "   95.   59.   18.   17.  106.   10.   53.    6.   89.  107.   94.   32.\n",
      "  102.   15.   47.   42.  110.  112.   44.   37.    4.   20.    2.  117.\n",
      "   35.  108.   49.  113.   13.  118.    3.    9.    8.  119.   28.    1.\n",
      "    7.  120.  129.  121.]\n",
      "[  7.  13.  14.  18.  12.  11.  16.  19.  22.   9.  17.   8.   5.  21.  10.\n",
      "  25.  15.   4.  20.  27.  24.   6.  26.  23.   2.  33.   3.  28.  29.  32.\n",
      "  34.  30.  42.  31.  45.  36.  38.  35.  55.  43.  37.  44.  41.  40.   1.\n",
      "  39.  53.  47.  49.  52.  48.  46.  51.  56.  50.   0.  62.  76.  58.  54.]\n",
      "[  2.   0.   1.   5.   3.   4.   6.   8.  10.  12.   7.   9.  19.  15.  11.\n",
      "  54.  13.]\n",
      "[  12703.    9051.   34974. ...,   72373.   31063.  119663.]\n",
      "[ 0.4  0.5  0.5 ...,  1.1  1.1  1.1]\n",
      "[  31.   25.   19.   35.   33.   36.   38.   27.   24.   34.   14.   16.\n",
      "   32.   30.   42.   64.   23.   49.   28.   54.   37.   21.   53.   12.\n",
      "   26.   39.   40.   58.   11.   29.   46.   61.   20.   44.   43.   22.\n",
      "   18.   52.   17.   13.   41.   15.    9.   69.   59.   10.   45.   66.\n",
      "   60.    8.   47.    6.    7.    5.   50.   57.   68.   63.   55.   70.\n",
      "   73.   51.   48.   56.   98.    4.   75.   78.   71.   81.   94.   67.\n",
      "   65.   90.   77.   62.   76.   87.   95.   79.  102.   88.   86.   80.\n",
      "   72.   85.   84.  110.  106.   89.  104.   96.   99.   83.  151.   82.\n",
      "   97.   74.  105.   92.   91.   93.  111.  101.  124.  114.    3.    2.\n",
      "  150.  119.  100.  117.  116.  118.]\n",
      "[w, f]\n",
      "Categories (2, object): [w, f]\n",
      "[  0.0e+00   3.3e+04   1.6e+04   6.8e+00   1.1e+01   3.9e-01   9.2e+03\n",
      "   4.8e-01   1.2e+04   8.5e+01   2.6e+04   1.7e+01   2.8e+03   5.2e+00\n",
      "   2.7e+04   1.4e+04   1.1e+04   2.9e+01   4.1e+03   1.2e+04   4.3e+02\n",
      "   3.6e+03   4.1e+02   8.0e+03   6.1e+01   1.0e+03   2.3e+02   2.7e+02\n",
      "   1.8e+01   1.6e+04   1.8e+04   2.6e-01   3.0e+02   3.7e+02   2.8e+02\n",
      "   3.1e+02   6.3e+00   2.0e+02   1.9e+02   6.0e+02   2.2e+02   8.0e+00\n",
      "   4.8e+02   9.7e+00   1.0e+03   5.8e+00   2.2e+03   4.5e+02   3.1e+00\n",
      "   2.3e+00   9.7e-01   7.3e+01   6.9e+00   3.1e+04   2.1e+02   1.1e+04\n",
      "   1.0e+02   1.5e+04   2.3e+02   8.2e+03   1.3e+04   1.3e+04   3.2e+03\n",
      "   8.5e+02   3.5e+01]\n",
      "[  0.0e+00   3.3e+04   1.6e+04   6.8e+00   1.1e+01   3.9e-01   9.2e+03\n",
      "   4.8e-01   1.2e+04   8.5e+01   2.6e+04   1.7e+01   2.8e+03   5.2e+00\n",
      "   2.7e+04   1.4e+04   1.1e+04   2.9e+01   4.1e+03   1.2e+04   4.3e+02\n",
      "   3.6e+03   4.1e+02   8.0e+03   6.1e+01   1.0e+03   2.3e+02   2.7e+02\n",
      "   1.8e+01   1.6e+04   1.8e+04   2.6e-01   3.0e+02   3.7e+02   2.8e+02\n",
      "   3.1e+02   6.3e+00   2.0e+02   1.9e+02   6.0e+02   2.2e+02   8.0e+00\n",
      "   4.8e+02   9.7e+00   1.0e+03   5.8e+00   2.2e+03   4.5e+02   3.1e+00\n",
      "   2.3e+00   9.7e-01   7.3e+01   6.9e+00   3.1e+04   2.1e+02   1.1e+04\n",
      "   1.0e+02   1.5e+04   2.3e+02   8.1e+03   1.3e+04   1.3e+04   3.2e+03\n",
      "   8.5e+02   3.5e+01]\n",
      "[ 15415.5   7598.1  29753.2 ...,  12394.3   4680.    2126.6]\n",
      "[ 15415.5   7598.1  29753.2 ...,   5624.5  12394.3   4680. ]\n",
      "[ 15000.    7200.   27500.  ...,    360.1   4580.9   1837. ]\n",
      "[  415.5   398.1  2253.2 ...,   865.4  1773.9  2394.3]\n",
      "[  0.   15.   43.3 ...,  29.2  30.3  82.3]\n",
      "[    0.   3595.4  2996.3 ...,   444.2   683.   1159.5]\n",
      "[   0.   647.2  539.3 ...,   79.9    6.8   11.6]\n",
      "['2016-04-01T00:00:00.000000000' '2016-08-01T00:00:00.000000000'\n",
      " '2016-05-01T00:00:00.000000000' '2016-07-01T00:00:00.000000000'\n",
      " '2016-06-01T00:00:00.000000000' '2016-09-01T00:00:00.000000000'\n",
      " '2016-03-01T00:00:00.000000000' '2016-10-01T00:00:00.000000000'\n",
      " '2016-02-01T00:00:00.000000000' '2016-01-01T00:00:00.000000000' 'NaT'\n",
      " '2015-12-01T00:00:00.000000000' '2015-11-01T00:00:00.000000000'\n",
      " '2015-10-01T00:00:00.000000000' '2015-09-01T00:00:00.000000000'\n",
      " '2015-08-01T00:00:00.000000000' '2015-07-01T00:00:00.000000000'\n",
      " '2015-06-01T00:00:00.000000000' '2015-05-01T00:00:00.000000000'\n",
      " '2015-04-01T00:00:00.000000000' '2015-03-01T00:00:00.000000000'\n",
      " '2015-02-01T00:00:00.000000000' '2015-01-01T00:00:00.000000000'\n",
      " '2013-04-01T00:00:00.000000000' '2014-06-01T00:00:00.000000000'\n",
      " '2012-04-01T00:00:00.000000000' '2012-11-01T00:00:00.000000000'\n",
      " '2013-06-01T00:00:00.000000000' '2013-09-01T00:00:00.000000000'\n",
      " '2012-07-01T00:00:00.000000000' '2013-10-01T00:00:00.000000000'\n",
      " '2013-05-01T00:00:00.000000000' '2012-10-01T00:00:00.000000000'\n",
      " '2012-09-01T00:00:00.000000000' '2012-12-01T00:00:00.000000000'\n",
      " '2014-12-01T00:00:00.000000000' '2013-08-01T00:00:00.000000000'\n",
      " '2013-11-01T00:00:00.000000000' '2014-01-01T00:00:00.000000000'\n",
      " '2014-04-01T00:00:00.000000000' '2014-08-01T00:00:00.000000000'\n",
      " '2014-10-01T00:00:00.000000000' '2012-08-01T00:00:00.000000000'\n",
      " '2014-07-01T00:00:00.000000000' '2013-07-01T00:00:00.000000000'\n",
      " '2014-02-01T00:00:00.000000000' '2014-09-01T00:00:00.000000000'\n",
      " '2012-06-01T00:00:00.000000000' '2013-02-01T00:00:00.000000000'\n",
      " '2013-03-01T00:00:00.000000000' '2014-05-01T00:00:00.000000000'\n",
      " '2013-01-01T00:00:00.000000000' '2013-12-01T00:00:00.000000000'\n",
      " '2012-02-01T00:00:00.000000000' '2014-03-01T00:00:00.000000000'\n",
      " '2012-01-01T00:00:00.000000000' '2014-11-01T00:00:00.000000000'\n",
      " '2012-03-01T00:00:00.000000000' '2012-05-01T00:00:00.000000000'\n",
      " '2011-12-01T00:00:00.000000000' '2011-11-01T00:00:00.000000000'\n",
      " '2011-10-01T00:00:00.000000000' '2011-09-01T00:00:00.000000000'\n",
      " '2011-08-01T00:00:00.000000000' '2011-07-01T00:00:00.000000000'\n",
      " '2011-06-01T00:00:00.000000000' '2011-05-01T00:00:00.000000000'\n",
      " '2011-04-01T00:00:00.000000000' '2011-03-01T00:00:00.000000000'\n",
      " '2011-02-01T00:00:00.000000000' '2011-01-01T00:00:00.000000000'\n",
      " '2010-12-01T00:00:00.000000000' '2010-11-01T00:00:00.000000000'\n",
      " '2010-10-01T00:00:00.000000000' '2010-09-01T00:00:00.000000000'\n",
      " '2010-08-01T00:00:00.000000000' '2010-07-01T00:00:00.000000000'\n",
      " '2010-06-01T00:00:00.000000000' '2010-05-01T00:00:00.000000000'\n",
      " '2010-04-01T00:00:00.000000000' '2010-03-01T00:00:00.000000000'\n",
      " '2010-02-01T00:00:00.000000000' '2010-01-01T00:00:00.000000000'\n",
      " '2009-12-01T00:00:00.000000000' '2009-11-01T00:00:00.000000000'\n",
      " '2009-10-01T00:00:00.000000000' '2009-09-01T00:00:00.000000000'\n",
      " '2009-08-01T00:00:00.000000000' '2009-07-01T00:00:00.000000000'\n",
      " '2009-06-01T00:00:00.000000000' '2009-05-01T00:00:00.000000000'\n",
      " '2009-04-01T00:00:00.000000000' '2009-03-01T00:00:00.000000000'\n",
      " '2009-02-01T00:00:00.000000000' '2009-01-01T00:00:00.000000000'\n",
      " '2008-12-01T00:00:00.000000000' '2008-10-01T00:00:00.000000000'\n",
      " '2008-08-01T00:00:00.000000000' '2008-07-01T00:00:00.000000000'\n",
      " '2008-09-01T00:00:00.000000000' '2008-06-01T00:00:00.000000000'\n",
      " '2008-05-01T00:00:00.000000000' '2008-11-01T00:00:00.000000000'\n",
      " '2008-04-01T00:00:00.000000000' '2008-03-01T00:00:00.000000000'\n",
      " '2008-02-01T00:00:00.000000000' '2008-01-01T00:00:00.000000000']\n",
      "[  1.4e+04   6.2e+03   2.6e+04 ...,   5.5e+03   1.8e+01   1.5e+03]\n",
      "['NaT' '2016-11-01T00:00:00.000000000' '2016-10-01T00:00:00.000000000']\n",
      "['2016-04-01T00:00:00.000000000' '2016-10-01T00:00:00.000000000'\n",
      " '2016-07-01T00:00:00.000000000' '2016-06-01T00:00:00.000000000'\n",
      " '2016-05-01T00:00:00.000000000' '2016-03-01T00:00:00.000000000'\n",
      " '2016-09-01T00:00:00.000000000' '2016-08-01T00:00:00.000000000'\n",
      " '2016-02-01T00:00:00.000000000' '2015-12-01T00:00:00.000000000'\n",
      " '2016-01-01T00:00:00.000000000' '2015-11-01T00:00:00.000000000'\n",
      " '2016-11-01T00:00:00.000000000' '2015-10-01T00:00:00.000000000'\n",
      " '2015-09-01T00:00:00.000000000' '2015-08-01T00:00:00.000000000'\n",
      " '2015-07-01T00:00:00.000000000' '2015-06-01T00:00:00.000000000'\n",
      " '2015-05-01T00:00:00.000000000' '2015-04-01T00:00:00.000000000'\n",
      " '2015-03-01T00:00:00.000000000' '2015-02-01T00:00:00.000000000'\n",
      " '2015-01-01T00:00:00.000000000' 'NaT' '2014-12-01T00:00:00.000000000'\n",
      " '2013-08-01T00:00:00.000000000' '2014-05-01T00:00:00.000000000'\n",
      " '2014-03-01T00:00:00.000000000' '2012-09-01T00:00:00.000000000'\n",
      " '2012-06-01T00:00:00.000000000' '2014-09-01T00:00:00.000000000'\n",
      " '2014-04-01T00:00:00.000000000' '2014-10-01T00:00:00.000000000'\n",
      " '2014-02-01T00:00:00.000000000' '2013-02-01T00:00:00.000000000'\n",
      " '2014-07-01T00:00:00.000000000' '2012-12-01T00:00:00.000000000'\n",
      " '2012-10-01T00:00:00.000000000' '2013-11-01T00:00:00.000000000'\n",
      " '2014-11-01T00:00:00.000000000' '2013-03-01T00:00:00.000000000'\n",
      " '2012-02-01T00:00:00.000000000' '2012-04-01T00:00:00.000000000'\n",
      " '2013-09-01T00:00:00.000000000' '2013-05-01T00:00:00.000000000'\n",
      " '2014-06-01T00:00:00.000000000' '2012-08-01T00:00:00.000000000'\n",
      " '2012-01-01T00:00:00.000000000' '2014-08-01T00:00:00.000000000'\n",
      " '2013-10-01T00:00:00.000000000' '2012-05-01T00:00:00.000000000'\n",
      " '2012-07-01T00:00:00.000000000' '2013-12-01T00:00:00.000000000'\n",
      " '2014-01-01T00:00:00.000000000' '2013-06-01T00:00:00.000000000'\n",
      " '2013-04-01T00:00:00.000000000' '2012-11-01T00:00:00.000000000'\n",
      " '2013-07-01T00:00:00.000000000' '2012-03-01T00:00:00.000000000'\n",
      " '2011-11-01T00:00:00.000000000' '2011-12-01T00:00:00.000000000'\n",
      " '2013-01-01T00:00:00.000000000' '2011-10-01T00:00:00.000000000'\n",
      " '2011-09-01T00:00:00.000000000' '2011-08-01T00:00:00.000000000'\n",
      " '2011-07-01T00:00:00.000000000' '2011-06-01T00:00:00.000000000'\n",
      " '2011-05-01T00:00:00.000000000' '2011-04-01T00:00:00.000000000'\n",
      " '2011-03-01T00:00:00.000000000' '2011-02-01T00:00:00.000000000'\n",
      " '2011-01-01T00:00:00.000000000' '2010-12-01T00:00:00.000000000'\n",
      " '2010-11-01T00:00:00.000000000' '2010-10-01T00:00:00.000000000'\n",
      " '2010-09-01T00:00:00.000000000' '2010-08-01T00:00:00.000000000'\n",
      " '2010-07-01T00:00:00.000000000' '2010-06-01T00:00:00.000000000'\n",
      " '2010-05-01T00:00:00.000000000' '2010-04-01T00:00:00.000000000'\n",
      " '2010-02-01T00:00:00.000000000' '2010-03-01T00:00:00.000000000'\n",
      " '2007-08-01T00:00:00.000000000' '2010-01-01T00:00:00.000000000'\n",
      " '2009-12-01T00:00:00.000000000' '2009-11-01T00:00:00.000000000'\n",
      " '2009-10-01T00:00:00.000000000' '2009-09-01T00:00:00.000000000'\n",
      " '2009-07-01T00:00:00.000000000' '2009-08-01T00:00:00.000000000'\n",
      " '2009-05-01T00:00:00.000000000' '2009-06-01T00:00:00.000000000'\n",
      " '2009-04-01T00:00:00.000000000' '2009-03-01T00:00:00.000000000'\n",
      " '2009-02-01T00:00:00.000000000' '2009-01-01T00:00:00.000000000'\n",
      " '2008-12-01T00:00:00.000000000' '2008-06-01T00:00:00.000000000'\n",
      " '2008-09-01T00:00:00.000000000' '2008-05-01T00:00:00.000000000'\n",
      " '2008-08-01T00:00:00.000000000' '2008-03-01T00:00:00.000000000'\n",
      " '2008-10-01T00:00:00.000000000' '2008-02-01T00:00:00.000000000'\n",
      " '2008-01-01T00:00:00.000000000' '2007-12-01T00:00:00.000000000'\n",
      " '2008-07-01T00:00:00.000000000' '2007-10-01T00:00:00.000000000'\n",
      " '2007-09-01T00:00:00.000000000' '2007-06-01T00:00:00.000000000'\n",
      " '2007-05-01T00:00:00.000000000' '2007-07-01T00:00:00.000000000']\n",
      "[  0.   1.   2.   3.   4.  nan   6.   5.]\n",
      "[  nan   78.   29.   47.   16.   55.   68.   35.   73.   23.   46.   72.\n",
      "   27.   31.   60.   59.   57.   69.   14.   63.   42.   44.   19.   62.\n",
      "   38.   40.   70.   18.   54.   41.   81.   34.   67.   50.   74.   85.\n",
      "   25.   66.   11.   22.   21.   51.   89.    7.   64.   39.   75.   12.\n",
      "  101.   61.   32.   43.   36.    9.   26.   98.   49.    5.   33.   94.\n",
      "   53.   58.  133.   28.   48.   71.   45.    2.    6.   56.   17.   80.\n",
      "   13.   79.   76.   77.    8.   24.   52.   20.   10.   82.   30.   65.\n",
      "    4.   37.   92.   84.   86.    3.   95.   90.  105.   15.   88.  109.\n",
      "   83.    1.   87.  123.  111.  104.   93.  108.  113.  121.  122.    0.\n",
      "  129.  126.  148.  117.  137.  107.  134.  114.  112.  116.  102.  124.\n",
      "   96.  110.  147.  100.  145.   97.  128.  135.   91.  136.  106.  153.\n",
      "  103.  140.  119.  131.  142.  120.  130.  127.  141.  115.  125.  118.\n",
      "  138.  159.  151.   99.  143.  152.  132.  139.  146.  176.  150.  165.\n",
      "  149.  154.  144.]\n",
      "[1]\n",
      "Categories (1, object): [1]\n",
      "[Individual, Joint]\n",
      "Categories (2, object): [Individual, Joint]\n",
      "[     nan   77000.  113314.   87000.  102000.  182000.  122000.  107000.\n",
      "   82000.  112194.   83200.   55000.  106000.   78200.  105000.  176000.\n",
      "   40034.   93000.  161000.   97000.   83456.  109000.  136429.   99000.\n",
      "  115000.   36000.   51990.  116700.   98000.  139000.  130000.   73220.\n",
      "  124000.   76000.   40988.   25142.  270000.   90000.  245000.  152000.\n",
      "  101771.  110000.   71136.   32760.  149000.  168472.   88400.   17950.\n",
      "  213000.   72653.   64800.  189490.  104000.  100000.   96000.  175171.\n",
      "   53000.  111140.]\n",
      "[  nan  15.4  25.4  23.   17.5   6.4  32.2  15.1   9.2  13.9  26.8  12.9\n",
      "  31.9  20.2   9.3  17.9  23.1  10.2  22.3  26.4   6.5  25.8  23.3  31.2\n",
      "  22.2  10.6  12.2  17.6  17.1  20.1  22.   10.3  18.7  11.2  10.   14.1\n",
      "   8.1  18.1  28.7  13.   19.9   9.7  30.   13.9   9.3  20.8   8.6  31.5\n",
      "  25.2  10.5   4.5  25.7  25.5   6.7  14.4  16.3  15.1  27.9  26.9  13.7\n",
      "  21.5  28.5  27.5]\n",
      "[NaN, Not Verified, Verified, Source Verified]\n",
      "Categories (3, object): [Not Verified, Verified, Source Verified]\n",
      "[ 0.  1.  2.  6.  3.  4.  5.]\n",
      "[     0.   1105.     67. ...,  16125.   3040.   9778.]\n",
      "[ 312996.  218695.  267500. ...,  116995.  259863.  591610.]\n",
      "[  0.   1.   6.   2.   3.   5.   4.   8.   7.   9.  nan]\n",
      "[  2.   1.   3.  14.   7.   4.   0.  12.   5.   9.  11.   6.  10.  17.   8.\n",
      "  13.  15.  18.  19.  20.  31.  16.  nan]\n",
      "[  2.   0.   1.   3.   4.   5.   9.   6.   8.  nan]\n",
      "[  2.   1.   3.   0.   5.   6.   4.   7.   9.  19.  11.   8.  10.  14.  13.\n",
      "  nan  12.]\n",
      "[   8.   14.   21.   19.    3.    5.   13.   50.    7.   25.   20.   15.\n",
      "    6.   18.    9.   10.   12.   32.    1.   29.   30.    4.   55.    2.\n",
      "   17.   16.  114.   nan   26.   31.   43.  100.   11.   35.   33.   44.\n",
      "   45.   62.  131.   38.   60.   95.  117.   81.  101.   36.   51.  113.\n",
      "   22.   83.   82.   88.   37.   98.   28.   27.   24.   40.   97.   34.\n",
      "   99.   86.   23.  115.  138.  139.  123.   56.   46.   64.   94.   72.\n",
      "   68.  122.   42.   41.  103.  108.   54.   39.   48.   52.   89.    0.\n",
      "   80.  165.   71.   63.  128.   57.   69.   47.   84.   90.   96.   78.\n",
      "  110.   70.   49.  112.   74.  121.   77.  153.  144.  105.   79.   59.\n",
      "  244.   76.  141.   58.  149.  137.   73.   93.   61.  201.   85.  134.\n",
      "   87.  126.  129.   91.  127.   75.   65.   53.  130.]\n",
      "[  40694.   18276.   10003. ...,   19813.   43021.  154224.]\n",
      "[  69.8   73.9   75.8   51.    83.8   94.    41.8   93.9   73.    57.5\n",
      "   97.     nan   91.2   42.6   95.9   92.2   58.3   62.1   79.6   38.1\n",
      "   69.6   85.6   82.3   34.4   60.8   64.6   91.1   55.   106.2   92.9\n",
      "   86.9   84.8   83.9   83.3   84.6   73.5   63.    89.3   75.1   74.4\n",
      "   76.5   81.9   85.    61.3   68.    58.    97.6   77.    96.1   82.\n",
      "  100.3   69.1   98.3   63.5   80.8   52.    74.6   95.    55.2   71.1\n",
      "   41.9   58.7   89.    22.6   60.6   96.    97.9   86.1   93.8   97.8\n",
      "   83.6   72.8   79.7   65.3   98.4   43.7   77.9   56.5   82.5   65.9\n",
      "   96.3   42.3   41.2   84.7   64.5   61.8   43.6   43.5   95.4   51.5\n",
      "   65.7   56.9   63.7  101.3  121.7   76.1   87.7   86.7   84.3   66.6\n",
      "    5.5   98.8   61.9   33.2   30.   100.    87.6   64.4   75.3   93.7\n",
      "  149.9   75.2   92.    77.7   71.6   87.5   79.9   73.7   98.    18.7\n",
      "   39.1   88.5   64.    55.3   63.9   76.4   49.7   61.5   75.    38.6\n",
      "   90.5   82.2   87.3   74.    81.    89.1   82.4   90.    49.    78.9\n",
      "   81.8  150.7   79.    67.8   99.    79.3   93.2   81.3   22.4   62.3\n",
      "   95.5   22.3  110.5   77.5   87.    73.8   61.6   83.7   76.2   71.2\n",
      "   45.    33.8   83.    73.3   69.2   70.    86.    90.6   57.2  105.4\n",
      "   69.5   79.5   37.9   84.5   42.9   78.    48.6   88.1   54.5   68.2\n",
      "   77.2   93.6   21.8   70.2   78.7   70.9   73.4  104.6   50.4   90.9\n",
      "   56.    47.9   39.3   72.1   88.3   82.6   87.9   92.6   88.8   88.9\n",
      "   57.    70.3   84.1   70.5   94.3   70.1    7.5   79.2   82.1    0.\n",
      "   57.7   74.1   93.5   80.    31.3   94.7   85.7  120.    45.9   77.6\n",
      "   50.2  105.8   89.8   64.3   59.    77.1   93.   124.1   90.3  117.6\n",
      "   80.3   94.6   77.3   65.5   76.    66.5   77.8   67.7   90.1   91.8\n",
      "   54.    93.1   84.    62.9   74.7   71.4   62.6   42.     5.4    6.7\n",
      "   96.7  103.9   65.4   67.1  108.    50.    91.9   86.5   16.6   91.6\n",
      "   60.2   91.    81.2   89.2   57.1   88.2   61.7   55.6  116.6   66.4\n",
      "   67.    59.6   39.5   54.8   44.8   20.9   44.4   52.8   87.4   47.1\n",
      "   38.5   52.3   74.2   90.7   72.7   51.8   69.7   67.3   93.4  108.2\n",
      "   81.7   66.2   85.8   14.6   75.9   97.3   60.5   77.4   92.7   97.2\n",
      "   34.1   56.6   80.1   95.2  100.9   64.8   81.5   83.1   51.1   78.1\n",
      "   62.5   98.7  102.6   22.9   82.7   92.4   12.8   49.6   72.2   67.9\n",
      "   46.1   76.9   66.9   60.    62.8    9.3  107.    50.6   70.8   62.\n",
      "   74.3   69.    85.3   74.5   44.6   85.2   65.1   94.2  100.4   89.5\n",
      "   42.7   65.   149.1   94.8   94.4   95.3   83.4  103.8   85.5   10.3\n",
      "   74.8  104.7   21.5   76.6   73.6   79.4   87.2   83.2  100.2   58.4\n",
      "   90.2   95.7   42.1   85.4   67.5   59.5   44.9  103.7   68.1   86.4\n",
      "   71.    96.8   97.7   80.2   72.6   62.4   92.8   44.3   99.6   14.5\n",
      "  124.3   90.8   88.7   22.5   63.8   75.4   18.5   54.7   46.8   80.9\n",
      "  114.5   68.9   88.    98.5   60.9   83.5   48.2   71.9   86.3   57.3\n",
      "   12.4  115.6   46.5   48.9   62.2   43.4   53.2   99.1   94.1   64.9\n",
      "   86.6   82.8  147.4   44.1   92.3   86.8   41.    59.4   36.    58.9\n",
      "   58.8  100.5   66.7   88.4   53.8   54.6   58.6   84.4  109.3   45.3\n",
      "   68.4   64.7   32.1   39.7   95.8   78.5   62.7   58.5   94.5   41.5\n",
      "   66.3   99.4   76.8  105.9   13.6   89.7   41.7   52.6   85.1   99.3\n",
      "   64.1  108.1   35.2   98.9   72.4   79.1  101.    34.8  100.1   51.3\n",
      "  108.7   91.5   52.1   68.5   67.4   60.1   66.8   20.8   94.9   17.6\n",
      "   72.9   25.2   60.3  129.2  119.    61.1   50.3   56.3   78.3   39.\n",
      "   63.3   69.9   75.7   87.8   43.8   37.3   96.9   27.9  100.8   12.2\n",
      "   66.    71.7   80.5   76.7   47.7   69.4   57.8   80.7  104.2   63.6\n",
      "   43.3   63.2   18.9   96.4   25.    95.1   68.3   78.2   51.7   75.6\n",
      "   68.7   25.9   48.4   76.3   78.8   23.3  108.5   53.1   33.7  112.1\n",
      "   71.8   61.4  100.6   59.8   97.4   47.6   99.9   71.5  118.    80.4\n",
      "   93.3   45.7   43.2   95.6   72.5   50.1   16.7   91.3   52.2   39.8\n",
      "   81.4   42.5   42.2   98.6   88.6   92.5   58.2   27.5   38.9   45.6\n",
      "   37.6   96.2   44.   105.    52.9   65.6  113.7  114.4   68.8   49.3\n",
      "  101.8   92.1   30.9   72.3   59.7   49.2   49.5   63.4   63.1   57.6\n",
      "  117.   110.3   53.3   72.    35.3   91.7  121.    49.9   57.9   97.5\n",
      "   35.8   54.4  104.4   99.5   65.8   53.6   45.1   56.7   81.6   52.4\n",
      "   55.5   25.8   30.5   40.3   48.3   23.7   48.5   78.6   55.8   64.2\n",
      "   67.6   52.7   97.1   16.2   74.9  110.    18.3   30.6   56.1   18.4\n",
      "   84.2   54.3   47.4   65.2   61.2   55.1   35.4   40.7   89.9   96.5\n",
      "   13.9   56.4  109.    31.2   40.9  107.9   46.7   70.6   55.4  102.8\n",
      "   84.9   73.2  107.7   37.8  115.    37.5   59.3   46.    80.6   50.7\n",
      "   51.2   40.2   60.4   53.5   66.1   56.2  117.3   20.5  120.7   13.8\n",
      "   20.6  129.5   43.1   96.6  134.5   14.8   35.5   68.6   28.3  105.7\n",
      "   18.8   86.2   32.5   32.7    8.7   57.4   85.9  102.    30.7   29.6\n",
      "   54.9   31.1   35.1   81.1   35.7   40.5   48.8   50.9  102.9   98.1\n",
      "    4.5    7.8   28.8   82.9  102.1   34.5  139.1   28.9  112.   108.4\n",
      "    4.8   10.5   27.    26.1   89.4  101.2   98.2   99.2   25.6  111.2\n",
      "   91.4  105.5   26.9   23.4   23.9  101.9  146.8   55.9   90.4    0.7\n",
      "   79.8   61.    78.4   54.2   30.3  118.7   60.7   51.6   70.4  112.3\n",
      "   33.1  100.7   39.4   53.7   23.8   15.    48.7  101.7  109.8   43.\n",
      "  106.4   32.    30.8   45.5   31.7   34.6  102.5   54.1   87.1  112.5\n",
      "   42.4   27.8   38.2   46.4  104.5   26.6   69.3   35.   114.6   37.1\n",
      "   70.7   36.8   99.7]\n",
      "[  1.   2.  12.   4.   3.   0.   5.   7.   6.   8.   9.  15.  10.  nan]\n",
      "[  1.   4.   3.  16.   7.   5.   6.  11.   0.   2.   9.   8.  13.  17.  12.\n",
      "  15.  10.  14.  21.  19.  nan]\n",
      "[  7045.   3281.  12056. ...,    910.     36.   1921.]\n",
      "[  41.5   62.5   54.9   46.    78.4   89.6   75.9   28.9   56.5   37.8\n",
      "   51.8   32.6   53.7   96.1   46.8   54.3    6.8   61.3   74.9   59.5\n",
      "   36.3   64.1   16.9   72.9   81.4   60.3   52.6   61.    60.6   81.9\n",
      "   81.5   77.    76.    10.9   41.2   62.3   82.    49.3   62.8   64.6\n",
      "   71.7   75.7   57.     7.    57.9   34.3   59.7   78.1   73.6   43.7\n",
      "   59.    60.8   39.7   24.    20.4   86.8   30.1   51.    89.9   69.5\n",
      "   81.    54.5   73.9   77.4   61.6   66.7   43.8   43.    71.4   45.\n",
      "   42.5   91.4   67.    40.2   19.7   73.1   47.1   68.3   69.4   70.9\n",
      "   59.4   77.8   33.9   52.8   67.8   19.2   58.1   55.4   81.6   31.3\n",
      "   32.7   17.2   74.4   39.5   78.8   35.2   54.    70.6   63.2   50.1\n",
      "   75.5   13.3   49.9   82.6   55.1   64.5   39.6   75.4   56.9   47.2\n",
      "   36.6   78.9    7.1   55.2   53.9   72.2   78.     0.    42.8   61.4\n",
      "   76.5   80.1    7.8   63.4   28.    31.6   72.6   69.2   43.3   38.\n",
      "   56.7   87.7   41.8   96.6   34.4   26.    63.    57.4   57.8   83.4\n",
      "   59.9   48.6   34.7   69.3    3.2   68.7   80.5   84.1   83.2   90.\n",
      "   36.2   72.7   71.    29.5   18.3   42.2   75.    53.3   67.3   65.9\n",
      "   88.3   70.5   72.3   87.9   79.2   20.5   31.2   80.7   65.1   43.5\n",
      "   33.4   49.    58.8   51.6   66.8   67.5   60.9   56.6   66.1   64.\n",
      "   44.4   86.9   52.5   76.4   31.8   95.    74.    66.5   54.1   21.3\n",
      "   35.    55.5   60.2   50.7   82.2   53.    73.5   74.7   69.    46.7\n",
      "   94.4   20.3   44.    74.8   68.6   62.    41.    42.9   65.    56.2\n",
      "   90.7   61.1   61.2   90.4   79.5   77.2   71.2   64.2   64.8   22.8\n",
      "   69.1   83.5   73.8   76.3   83.    84.    56.     6.6   46.6   72.1\n",
      "   59.6   79.7   85.4   64.3  105.    71.8   64.4   85.    54.6   98.8\n",
      "   76.6   90.1   70.1   47.    67.9   83.1   94.    81.2   83.3   98.7\n",
      "   49.6   77.6   71.6   88.    16.2   72.5   52.3   88.4   69.6   60.7\n",
      "   31.5   87.    76.8   80.2   44.3   37.    68.4   26.2   66.    50.2\n",
      "   64.7   52.    85.9   19.    30.    58.7  102.5   78.3   67.1   89.1\n",
      "   25.    37.1   45.1   40.     8.1   66.6   36.4   83.7   61.9   71.9\n",
      "   94.3   38.1   77.1   38.5    7.9   65.5   80.8   23.2   99.2   22.3\n",
      "   45.5   73.2   60.1   52.9   53.8   63.8   96.2   49.7   80.9   36.5\n",
      "   75.2   52.7   56.8   48.1   28.8   73.7   27.7   57.5   45.6   47.7\n",
      "   55.    89.5   43.9   49.1   28.3   26.7   37.5   55.6   69.9   58.9\n",
      "   45.3    7.6   62.1   79.6   99.8   29.9   41.7   66.9   26.5   50.\n",
      "   88.2   70.4   41.1   62.4   67.7   55.7   54.4   57.2   50.3   93.6\n",
      "   59.2   58.3   81.1   56.4   86.3   61.5   21.2   77.7   14.6   49.4\n",
      "   55.9   47.9   48.5   74.6   45.7   85.3   38.2   23.    65.8   27.6\n",
      "   12.7   17.8   58.5   76.1   49.5   15.9   82.3   68.5   63.9   60.5\n",
      "   86.1   81.3   56.3   34.    68.    53.1  101.8   38.7   85.2   77.3\n",
      "   92.2   26.8   95.3   33.5   36.7   94.6   91.1   51.9   72.4   99.5\n",
      "   85.8   22.5   26.1   40.8   72.    94.1   25.9   19.9   63.3   84.9\n",
      "   42.1   18.5   97.5   47.8   46.9   47.4   48.    12.5   50.4   41.9\n",
      "   37.6   89.2   72.8   53.6   44.7   91.9   48.8   91.2   51.2   16.3\n",
      "   47.6   60.    84.7   58.4   59.8    9.9   33.    51.5   92.1   53.4\n",
      "   44.5   65.6   19.5   63.1   65.4   89.8   41.6   51.7   76.7   39.8\n",
      "   65.3   38.3   71.3   49.8   92.    82.4   70.3   17.3   93.8   83.9\n",
      "   22.9   80.3   96.5   55.3   21.5   40.4   67.6   24.2   28.1   83.6\n",
      "   68.9   30.9   48.7   71.1   48.9   88.1  136.6   45.2   40.9   70.8\n",
      "   35.4   54.8   25.5   86.7   51.1   49.2  105.2   87.4   44.9   69.7\n",
      "   62.6   65.2   62.7   52.1   39.4   53.5   47.3   35.6   38.8   43.4\n",
      "   75.3   30.6   42.7   80.6   58.    47.5   42.4   16.1   24.9   37.4\n",
      "   45.9   84.4   89.    15.    20.7   37.9   88.5   88.9   68.2   55.8\n",
      "   92.5   97.8    3.8   84.6   99.9   54.2   79.8   38.4   96.8   34.5\n",
      "    2.3   21.6   62.9   18.9   29.6  102.7   90.8   70.2   34.9   80.4\n",
      "   54.7    8.5   14.7   27.8   63.5   86.6    5.9   15.8   63.6   73.\n",
      "   61.8   43.6   58.2   27.2   93.5   62.2   79.4   21.9   61.7   33.8\n",
      "   74.3   20.6   78.2   89.4   42.3   30.3    1.    94.9   18.7   41.4\n",
      "   27.    90.3   34.1   75.6   78.6   70.7   86.    65.7   57.3   97.3\n",
      "   59.3   28.6   79.9   85.6  107.    57.7   16.    81.7   95.2   93.    21.\n",
      "   74.2   99.6   29.1   73.4   80.    88.6   44.6   50.9   70.    81.8\n",
      "   63.7   89.3   40.6  118.    59.1   66.3   91.7   24.8   50.6   11.5\n",
      "   20.9   68.8   37.7   77.5   91.3   29.    28.7   84.5   30.8   82.7\n",
      "   79.3   16.7   24.1   73.3   64.9   38.6   43.2   76.2    1.1   68.1\n",
      "   46.4   45.4   74.5   22.    40.1   39.9    4.7   25.8  101.2    6.9\n",
      "   14.2    9.1   87.6   48.3   35.7    0.4   46.1    4.9   31.9   76.9\n",
      "   44.8   52.4   10.    36.    30.7   75.8   67.2   51.3   60.4   27.4\n",
      "   39.3    5.4  116.    88.8   27.1   75.1   89.7   79.1   50.8   26.4\n",
      "   17.    71.5   42.    69.8   67.4   23.1   35.8   33.6   44.2   19.6\n",
      "   44.1   82.1   16.6   25.6   29.8    nan   92.7   41.3   85.7   39.\n",
      "   36.1   66.2   93.7   32.    77.9   57.6   34.6   42.6   30.5   32.1\n",
      "   46.2   26.3   51.4   29.4   48.2   15.6    8.9   15.2  102.8   32.9\n",
      "   86.4   84.8   79.    10.2   53.2   90.5   78.5  115.4   91.5   97.\n",
      "   82.5   23.4   31.4   96.   100.9   33.3   23.8   74.1   33.2   84.2\n",
      "   37.2   84.3   23.6    2.6   20.8   92.8   18.8   48.4   13.1   66.4\n",
      "   27.5   29.3   35.3   83.8   52.2  100.7  102.6   95.8   30.2   13.\n",
      "   85.1   87.1   28.2   92.9   30.4   92.3  101.     6.5   17.6   86.5\n",
      "   90.9   56.1   23.7   33.7   98.2   46.5   31.    87.8   57.1    3.9\n",
      "    2.9  106.    32.4   11.6   95.7  100.2   40.3   92.4   40.7   82.8\n",
      "    9.3   13.7   43.1   99.    88.7  104.1   36.9   98.1   97.2   17.9\n",
      "   90.2   34.8   82.9   92.6    8.7   96.7   95.6   23.5   20.    33.1\n",
      "    5.    58.6   23.3]\n",
      "[  36100.   19000.   68700. ...,  196100.   16493.  283800.]\n",
      "[  0.   1.   2.   5.   3.   4.  16.   9.   7.   6.  11.  12.   8.  13.  nan\n",
      "  10.]\n",
      "[  3.   0.   1.   4.   2.   8.   5.   7.  16.   9.  14.   6.  12.  11.  18.\n",
      "  13.  15.  10.  21.  20.  17.  24.  19.  nan  22.  25.]\n",
      "[  2.   0.   5.   3.   1.   7.   6.   9.   4.  14.  16.   8.  20.  15.  11.\n",
      "  19.  17.  18.  12.  10.  13.  30.  25.  21.  nan  32.]\n",
      "[  5.   8.   4.  17.  10.   7.   2.   1.   9.   6.  13.   3.  12.  11.  18.\n",
      "  14.   0.  15.  19.  25.  16.  22.  23.  21.  20.  26.  27.  47.  24.  29.\n",
      "  28.  31.  39.  34.  30.  37.  33.  35.  nan  40.  42.]\n",
      "[ 44714.  19881.  19107. ...,  65783.  52173.  85755.]\n",
      "[ 23397.   9949.  23969. ...,  34078.  33563.  35288.]\n",
      "[  35.2   47.6   56.8 ...,  117.1  129.3  121.1]\n",
      "[  0.   1.   2.   3.   4.   7.   5.  nan   6.]\n",
      "[  0.0e+00   1.4e+03   1.8e+02   1.8e+01   2.5e+02   4.8e+01   5.4e+01\n",
      "   6.2e+01   5.6e+01   3.0e+01   6.8e+02   1.5e+02   6.5e+04   8.2e+01\n",
      "   2.5e+03   1.3e+02   2.6e+02   8.6e+02   6.6e+02   6.0e+01   1.3e+02\n",
      "   5.5e+03   2.9e+02   6.4e+02   7.5e+01   1.0e+03   2.3e+02   2.5e+01\n",
      "   5.1e+01   1.1e+02   5.2e+01   1.6e+02   8.3e+03   4.2e+01   8.0e+01\n",
      "   3.6e+01   7.6e+01   1.4e+02   2.8e+03   2.6e+04   4.0e+02   5.3e+02\n",
      "   4.6e+02   5.7e+01   7.8e+01   6.0e+02   2.5e+04   1.3e+04   8.0e+00\n",
      "   6.4e+01   1.4e+02   4.9e+02   4.6e+02   2.1e+03   7.4e+02   3.6e+02\n",
      "   2.2e+03   7.5e+02   3.8e+01   1.0e+02   1.3e+03   4.0e+03   1.4e+02\n",
      "   1.7e+03   5.3e+02   1.1e+03   5.3e+02   2.7e+01   1.8e+03   8.4e+01\n",
      "   9.0e+00   1.5e+01   1.2e+02   2.8e+04   5.1e+02   7.7e+04   1.0e+02\n",
      "   7.4e+02   2.1e+01   5.1e+02   1.3e+02   3.1e+03   1.8e+02   1.3e+04\n",
      "   3.2e+03   4.2e+02   1.1e+01   7.0e+01   1.4e+02   7.3e+01   9.9e+02\n",
      "   2.7e+04   3.0e+03   4.8e+02   3.2e+02   2.2e+02   2.5e+03   4.6e+01\n",
      "   9.4e+02   1.7e+04   4.1e+01   2.0e+02   5.3e+03   8.5e+01   1.2e+02\n",
      "   8.2e+02   5.3e+01   1.1e+02   7.0e+00   3.5e+02   9.1e+02   1.9e+02\n",
      "   2.5e+03   3.7e+02   5.8e+01   4.1e+03   2.5e+02   3.9e+01   9.7e+02\n",
      "   4.7e+02   1.0e+03   4.7e+02   9.3e+01   3.5e+02   2.3e+04   4.4e+02\n",
      "   1.1e+04   8.9e+02   2.9e+01   6.7e+01   1.6e+02   6.0e+00   9.1e+01\n",
      "   4.0e+02   1.1e+04   6.7e+03   4.0e+02   5.1e+02   8.5e+03   1.7e+01\n",
      "   2.9e+02   5.4e+02   4.3e+03   1.9e+02   4.5e+02   2.7e+02   8.8e+02\n",
      "   1.9e+02   1.6e+04   2.0e+02   6.3e+01   6.7e+03   1.6e+02   2.0e+03\n",
      "   2.6e+02   1.2e+04   1.6e+02   2.4e+03   4.6e+02   3.3e+01   4.2e+02\n",
      "   9.7e+02   9.0e+01   1.1e+02   3.8e+03   5.6e+04   2.0e+04   4.3e+04\n",
      "   4.5e+01   2.1e+03   2.1e+03   2.3e+02   7.4e+01   1.8e+02   6.9e+01\n",
      "   4.0e+01   4.7e+04   1.8e+03   3.7e+02   2.1e+02   3.3e+03   2.9e+02\n",
      "   8.6e+01   5.3e+02   3.1e+02   5.2e+02   2.1e+02   1.6e+03   5.5e+01\n",
      "   2.7e+04   1.1e+02   3.9e+03   1.2e+03   6.4e+04   3.6e+04   5.8e+02\n",
      "   6.5e+02   3.5e+02   8.3e+01   2.4e+02   3.8e+02   1.3e+02   2.3e+01\n",
      "   1.8e+02   2.4e+02   1.7e+03   3.6e+03   1.9e+03   2.1e+03   3.4e+02\n",
      "   3.2e+02   1.6e+02   6.1e+01   6.5e+01   4.0e+00   3.6e+02   2.8e+03\n",
      "   2.9e+03   3.8e+03   6.6e+01   8.2e+02   9.6e+02   4.8e+02   3.1e+02\n",
      "   5.8e+02   1.8e+04   9.9e+03   5.7e+02   2.3e+03   7.9e+02   5.9e+01\n",
      "   2.5e+03   3.0e+00   1.7e+03   2.8e+02   1.3e+03   7.7e+01   1.5e+03\n",
      "   1.4e+03   3.5e+01   5.0e+01   3.8e+02   2.5e+02   7.5e+03   6.1e+04\n",
      "   7.9e+02   4.8e+02   3.0e+02   1.3e+03   2.7e+02   8.6e+02   2.1e+02\n",
      "   2.6e+02   7.9e+02   5.3e+03   1.8e+03   2.8e+02   4.9e+03   2.3e+03\n",
      "   1.9e+03   4.3e+01   1.4e+02   3.3e+02   3.7e+01   1.2e+01   1.4e+03\n",
      "   2.6e+02   5.0e+00   1.8e+02   1.4e+02   4.9e+01   3.6e+02   3.2e+02\n",
      "   2.7e+03   6.2e+02   2.0e+02   1.0e+03   1.4e+04   4.0e+02   7.2e+02\n",
      "   3.0e+03   3.7e+02   3.4e+02   6.2e+04   2.8e+04   1.2e+03   1.4e+03\n",
      "   2.1e+03   1.3e+03   2.7e+02   1.0e+03   2.2e+02   1.5e+03   1.6e+04\n",
      "   2.4e+02   8.3e+02   3.7e+04   1.1e+02   1.7e+03   4.9e+02   4.1e+04\n",
      "   8.1e+02   1.6e+03   2.5e+03   5.0e+04   1.8e+02   6.4e+02   2.0e+02\n",
      "   1.0e+02   3.1e+03   4.7e+03   7.9e+01   5.0e+04   1.2e+03   2.7e+03\n",
      "   8.6e+02   6.6e+02   6.1e+02   9.5e+01   1.5e+02   2.6e+03   2.4e+02\n",
      "   2.7e+04   3.5e+02   2.8e+04   1.2e+03   3.6e+03   1.8e+02   2.5e+02\n",
      "   5.3e+02   1.6e+02   2.4e+03   5.4e+04   5.6e+02   8.4e+02   1.0e+03\n",
      "   3.1e+03   7.2e+01   3.3e+03   3.0e+02   4.4e+02   6.1e+04   2.3e+03\n",
      "   2.4e+02   6.0e+02   1.7e+04   1.7e+04   1.9e+04   1.2e+03   3.1e+03\n",
      "   4.4e+03   2.0e+01   5.2e+03   2.6e+02   2.1e+04   7.7e+02   1.0e+01\n",
      "   3.6e+02   2.2e+01   1.6e+02   2.0e+02   4.4e+03   9.5e+03   1.8e+02\n",
      "   4.0e+03   6.6e+03   1.2e+03   9.0e+02   3.8e+03   2.5e+04   2.1e+04\n",
      "   9.8e+01   1.7e+04   1.5e+02   1.1e+04   9.5e+02   7.2e+02   2.4e+03\n",
      "   6.5e+03   3.1e+04   4.2e+03   1.6e+03   6.0e+03   2.8e+03   1.6e+03\n",
      "   2.4e+01   2.4e+03   1.0e+04   7.8e+03   1.1e+02   3.3e+02   3.8e+02\n",
      "   6.7e+02   4.7e+02   7.3e+03   7.0e+02   1.9e+04   2.5e+02   4.2e+03\n",
      "   7.4e+02   4.2e+04   1.9e+04   1.9e+03   1.9e+03   2.9e+02   1.5e+03\n",
      "   8.0e+02   7.8e+02   1.2e+02   5.3e+02   7.4e+03   2.5e+03   1.6e+03\n",
      "   1.7e+02   2.1e+02   8.8e+03   2.2e+03   7.3e+03   9.2e+01   7.6e+02\n",
      "   4.4e+02   4.6e+04   1.0e+04   4.4e+03   2.2e+03   1.8e+04   7.4e+02\n",
      "   3.2e+01   3.4e+01   1.3e+04   5.8e+02   1.0e+04   1.8e+03   2.0e+02\n",
      "   1.9e+03   1.4e+03   3.9e+03   2.1e+03   6.6e+02   4.2e+04   6.3e+02\n",
      "   6.3e+04   1.9e+01   5.4e+03   3.1e+04   1.1e+03   1.3e+04   1.3e+04\n",
      "   2.4e+03   1.1e+03   1.9e+04   4.0e+02   4.4e+02   6.9e+03   2.5e+04\n",
      "   4.2e+03   2.1e+04   3.5e+03   1.4e+03   1.2e+03   2.6e+03   1.6e+03\n",
      "   9.2e+02   4.4e+02   3.0e+03   1.4e+02   5.9e+02   5.6e+02   4.5e+02\n",
      "   9.9e+02   4.2e+03   5.6e+02   3.8e+02   1.2e+02   1.0e+03   1.0e+04\n",
      "   2.7e+03   7.6e+02   2.8e+02   4.3e+03   6.1e+04   2.2e+02   9.4e+01\n",
      "   3.1e+01   2.6e+02   1.4e+02   4.5e+04   5.0e+03   4.7e+01   2.6e+02\n",
      "   4.1e+02   2.7e+02   2.0e+02   3.2e+02   3.2e+04   2.9e+02   1.2e+04\n",
      "   9.9e+02   1.0e+02   4.5e+02   5.0e+02   4.0e+02   3.7e+04   4.8e+03\n",
      "   5.2e+02   6.4e+03   1.3e+02   4.9e+03   5.7e+02   1.2e+02   6.8e+02\n",
      "   1.0e+03   1.4e+03   3.8e+02   3.4e+02   1.7e+02   1.7e+02   1.7e+02\n",
      "   6.0e+02   3.9e+02   5.4e+02   2.0e+02   1.4e+02   6.3e+03   2.8e+01\n",
      "   2.4e+03   6.0e+02   1.2e+04   4.4e+02   4.4e+04   3.6e+04   3.8e+02\n",
      "   7.4e+02   4.1e+02   1.5e+04   1.2e+03   6.6e+03   6.2e+02   2.1e+02\n",
      "   1.5e+02   4.2e+03   5.8e+02   2.3e+03   1.6e+03   1.8e+03   1.5e+04\n",
      "   2.7e+03   2.3e+02   4.3e+04   6.2e+03   5.6e+02   9.0e+03   9.5e+02\n",
      "   2.6e+02   2.6e+03   1.2e+03   2.6e+04   7.6e+02   3.2e+03   4.4e+02\n",
      "   3.9e+02   2.7e+02   1.2e+04   3.4e+02   3.1e+02   1.5e+04   3.4e+02\n",
      "   3.4e+03   1.2e+02   5.5e+02   1.6e+01   5.0e+02   2.6e+02   1.4e+03\n",
      "   3.8e+02   1.0e+03   2.5e+04   2.4e+03   2.1e+02   1.2e+02   1.4e+04\n",
      "   2.6e+01   3.4e+02   3.2e+03   1.7e+02   3.7e+02   2.2e+02   1.0e+03\n",
      "   1.6e+03   1.3e+03   4.0e+02   8.2e+02   3.4e+02   3.2e+03   4.8e+02\n",
      "   1.0e+04   1.9e+04   1.4e+03   2.5e+02   2.6e+03   1.8e+02   1.1e+02\n",
      "   8.2e+02   4.6e+02   2.8e+02   1.3e+02   1.2e+04   4.7e+02   1.8e+04\n",
      "   7.9e+02   1.5e+02   1.8e+03   1.5e+03   2.8e+02   9.2e+02   4.5e+02\n",
      "   9.7e+01   5.9e+03   3.3e+02   5.7e+03   4.3e+02   4.1e+02   5.3e+02\n",
      "   5.2e+03   2.1e+02   1.5e+03   5.5e+04   6.7e+02   1.3e+03   3.5e+02\n",
      "   1.0e+04   3.9e+03   1.9e+02   4.6e+03   3.8e+02   3.4e+02   2.7e+03\n",
      "   1.2e+03   8.1e+02   8.9e+03   4.6e+02   5.0e+04   5.0e+02   3.7e+02\n",
      "   1.1e+03   2.7e+02   1.7e+03   1.3e+04   6.0e+02   2.4e+03   1.4e+03\n",
      "   5.7e+03   1.5e+02]\n",
      "[ 159.  120.   21.  129.  128.  149.  142.  183.  113.  109.  156.  134.\n",
      "  101.  122.  145.   15.  116.   70.  150.  160.  154.  157.  143.  125.\n",
      "  161.  147.  137.   94.  254.  167.   89.  140.   29.  170.   19.    3.\n",
      "  131.  135.  117.  155.   76.   99.  103.  158.  124.   98.  153.  171.\n",
      "  141.  111.  136.  169.  220.  126.   52.  146.   25.  130.  104.   16.\n",
      "  110.  127.  202.  107.  168.   79.   64.  114.  172.   nan  174.  115.\n",
      "   66.   92.   41.  239.   63.  132.  178.   13.   40.   65.   14.  238.\n",
      "  121.  108.   31.  166.  179.   82.   87.  255.  163.  105.   51.  162.\n",
      "  236.   85.  197.   17.   24.  112.  187.   34.  138.  188.   56.  152.\n",
      "  139.   88.  144.  212.   81.   26.  164.  184.   86.  208.   27.   32.\n",
      "  281.  175.  151.   61.   47.  186.  219.   44.  100.   23.   97.   90.\n",
      "   46.  278.  119.  165.   96.   18.  123.  218.  118.   54.   75.   39.\n",
      "  204.  148.   91.   72.   95.   53.  207.  180.   68.  133.  363.   74.\n",
      "  240.   77.  203.  279.   37.  176.  102.  200.   93.  182.  226.  189.\n",
      "  301.   55.  106.  241.  232.   28.   71.  177.  195.  196.  429.   38.\n",
      "  181.  194.   58.   59.  206.  185.   62.  192.   45.   20.   83.    6.\n",
      "   49.   69.   80.  268.   36.  193.   42.   43.  312.   33.  349.   10.\n",
      "   48.   67.  242.  244.  227.   60.  230.    7.  216.  223.   78.   30.\n",
      "   73.  222.  347.   84.  173.  243.  348.  245.   35.  221.  231.  411.\n",
      "   11.  201.  199.  205.   50.  257.  190.    4.  225.  252.  253.    8.\n",
      "  305.  292.  191.  262.  251.  297.   57.  210.  217.  198.  271.   22.\n",
      "  324.  215.  335.  247.  228.  294.  280.    5.    9.  237.  229.  315.\n",
      "  266.  263.  265.  304.    2.   12.  233.  250.  285.  399.  214.  314.\n",
      "  321.  290.  224.  277.  264.  283.  267.  289.  260.  211.  213.  329.\n",
      "  248.  359.  256.  286.  209.    1.  235.  274.  282.  300.  327.  284.\n",
      "  299.  259.  234.  317.  270.  246.  273.  275.  320.  298.  316.  325.\n",
      "  249.  303.  374.  380.  366.  360.  350.  391.  333.  272.  288.  258.\n",
      "  261.  337.  372.  276.  343.  371.  385.  319.  427.  339.  318.  356.\n",
      "  309.  296.  269.  332.  310.  307.  336.  331.  377.  724.  313.  352.\n",
      "  378.  291.  353.  287.  311.  361.  394.  370.  367.  383.  323.  306.\n",
      "  346.  355.  340.  302.  358.  388.  293.  640.  328.  322.  382.  345.\n",
      "  330.  344.  436.  357.  334.  341.  392.  415.  308.  720.  422.  406.\n",
      "  413.  386.  373.  295.  387.  395.  354.  326.  379.  400.  369.  469.\n",
      "  402.  376.  362.  351.  447.  420.  342.  407.  396.  478.  424.  471.\n",
      "  368.  507.  470.  401.  545.  364.    0.  338.  456.  432.  405.  442.\n",
      "  397.  443.  408.  446.  365.  438.  409.  384.  491.  477.  412.  393.\n",
      "  476.  434.  404.  410.  375.  421.  649.  490.  417.  398.  433.  428.\n",
      "  482.  418.  416.  465.  414.  426.  423.  437.  425.  403.]\n",
      "[ 169.  137.  173.   95.  210.  164.  150.  162.  192.  168.  265.  181.\n",
      "  100.  352.  109.  315.  124.  361.   94.  159.  209.  233.  132.  157.\n",
      "  189.  198.  206.  387.  296.  208.  115.  194.  167.  316.   99.  151.\n",
      "  456.   45.  246.  113.  228.  146.  125.  346.  250.  373.   96.  136.\n",
      "  185.  281.  238.   78.  163.  429.  513.  112.  435.  102.  155.  272.\n",
      "  158.  197.  148.  188.  193.  277.  204.  355.  122.  255.  156.  349.\n",
      "  462.  245.  131.  144.  153.   98.  152.  199.  254.  211.  234.  260.\n",
      "  359.  184.  108.  257.  214.  324.  388.  139.  106.  289.  222.  143.\n",
      "  179.   50.  424.  134.  117.  276.  128.  304.  207.  443.  130.   33.\n",
      "  390.  262.  111.   19.  145.   84.   72.  313.  230.  447.  376.   49.\n",
      "  274.   39.  236.   90.  177.  135.  127.   89.  306.  129.  242.  140.\n",
      "   26.  467.   40.  123.  160.  121.  294.  220.  380.  370.   59.  142.\n",
      "  101.   53.   76.  298.  119.   46.  186.  191.  297.  218.  525.  241.\n",
      "  224.  271.  161.   52.  252.  176.  284.  227.  378.  267.  118.  180.\n",
      "   62.  243.  104.  285.   77.  280.  229.  381.  149.  107.  320.  314.\n",
      "  287.   32.  205.  334.  216.  138.  337.  279.  147.   63.  213.   65.\n",
      "  282.  201.  364.   85.  165.  270.  116.  190.   30.  120.  133.  325.\n",
      "  174.  215.  217.  172.  232.  321.  405.  154.   70.   55.  259.  171.\n",
      "  244.  275.  105.   86.  389.  221.  406.  170.   93.  200.   74.  253.\n",
      "  384.  273.  343.  141.  292.  256.  175.  195.  249.  375.   79.  423.\n",
      "  433.  266.  330.  178.   25.  290.  231.  358.   97.  303.   47.   48.\n",
      "   60.  269.  196.  479.  114.  286.  391.  342.  323.   58.  335.  363.\n",
      "  183.  422.  350.  247.   68.   92.   23.   73.   51.  392.  126.  329.\n",
      "  226.  166.  263.  187.   54.  103.  110.  219.  331.   57.  212.   16.\n",
      "   34.  237.  182.  278.   43.  386.  332.  365.  317.  302.  319.  223.\n",
      "  264.   56.  345.  235.  372.   29.  347.   83.  461.  203.  458.  308.\n",
      "  531.  333.  344.  312.   66.  202.  603.  385.  309.  248.   75.  307.\n",
      "  261.   88.  327.  397.  299.  368.   91.   15.  300.  301.   67.  410.\n",
      "  225.  396.   71.   42.   87.  374.  318.   17.  240.   35.   64.  395.\n",
      "  293.  524.  251.    6.  549.   61.   37.  403.  291.   13.  601.  382.\n",
      "   41.  371.  430.  491.  311.  469.   69.   44.  310.   22.   12.  322.\n",
      "  623.  441.  636.  535.  351.   24.  557.  434.   80.  514.  566.  353.\n",
      "  412.  258.  369.   81.  394.  562.  268.  367.   36.   82.  411.  527.\n",
      "  466.  446.  556.   31.  305.  340.  339.  326.  288.   27.  338.  453.\n",
      "  401.  464.  425.  482.  419.  459.   20.  444.   38.  399.  413.  357.\n",
      "  239.   14.  356.  328.  409.  440.  686.  476.  587.  348.  360.  638.\n",
      "  398.  336.  541.  362.  518.  560.  480.  400.  377.  341.   21.  283.\n",
      "  468.  510.  726.  402.  379.  408.  538.  454.  568.   18.  492.   28.\n",
      "  502.  445.  354.  451.  471.  417.  547.  295.  503.  602.  426.  366.\n",
      "  452.  504.  407.  536.  383.  432.  455.  499.  543.  489.  416.  438.\n",
      "  474.  494.  517.  542.  658.  420.  588.  437.  579.  559.  515.  546.\n",
      "  418.  442.  512.  439.  591.  505.  414.  487.  585.  481.  600.  581.\n",
      "  431.  415.  393.  485.  457.  572.  450.  598.  590.  496.  613.  460.\n",
      "  509.  551.  436.   10.  508.  523.  493.  478.  465.  404.  657.  473.\n",
      "    8.  448.  528.  500.  633.  470.  516.  564.  463.  573.  554.  421.\n",
      "  427.  606.  472.  586.  511.  506.  498.  575.  484.  627.  483.  589.\n",
      "  596.  584.  501.  583.  495.  526.  507.  428.  769.  545.  673.  475.\n",
      "  490.  580.  521.    7.  567.  550.  520.  617.  698.  530.  570.  519.\n",
      "  529.  691.  569.  595.  618.  539.  537.  558.  681.  488.    9.  553.\n",
      "  532.  477.  561.  497.  578.  534.  714.  449.  582.  625.  522.  666.\n",
      "  597.  555.  630.  552.   11.  622.  604.  486.  653.  605.  614.  565.\n",
      "  629.  571.  592.  607.  574.  533.  640.  711.  663.  544.  576.  650.\n",
      "  599.  611.  626.  775.  669.  641.  665.  639.  670.  563.    4.  732.\n",
      "  594.  632.  768.  624.  612.  548.   nan  620.  635.  684.  645.  643.\n",
      "  540.  609.  728.  656.  610.  615.  642.  654.  593.  644.  649.  708.\n",
      "  705.  616.  730.  760.  577.    5.  682.  637.  744.  659.  631.  655.\n",
      "  634.  661.  717.  608.  672.  700.  724.  842.  761.  793.  695.]\n",
      "[  12.   11.    3.    0.    4.    7.    2.   13.    1.    8.   38.    6.\n",
      "   18.   10.   31.   15.   14.   17.    5.   20.   23.   19.   16.   45.\n",
      "    9.   41.   35.   36.   25.   32.   57.   97.   21.   53.   46.   27.\n",
      "   48.   49.   44.   30.   26.   22.   91.   37.   54.   24.   40.   70.\n",
      "   39.   28.   90.   81.   63.   34.   84.   42.   50.   29.   61.   52.\n",
      "   78.   87.   58.   67.   76.   56.   55.   66.   60.  166.   62.   43.\n",
      "   64.  125.   74.   72.   51.   33.   77.   95.   89.   47.   85.  130.\n",
      "   88.  109.  103.   86.  116.   68.   83.   71.  119.   98.   94.  105.\n",
      "  118.  100.   75.   59.  113.  121.  120.   69.  171.  107.  143.   96.\n",
      "   73.  197.   80.  117.  111.   93.   65.   92.  180.  315.  135.   99.\n",
      "  136.  101.  188.  106.  112.   79.  110.  128.   82.  138.  141.  108.\n",
      "  145.  254.  142.  154.  149.  104.  147.  127.  139.  178.  159.  137.\n",
      "  102.  186.  123.  131.  196.  115.  122.  201.  132.  114.  173.  146.\n",
      "  129.  126.  124.  152.  175.  181.  241.  140.  157.  161.  184.  174.\n",
      "  150.  304.  176.  153.  224.  236.  187.  165.  179.  160.  170.   nan\n",
      "  221.  134.  151.  144.  210.  156.  193.  148.  192.  158.  133.  155.\n",
      "  163.  167.  182.  168.  228.  164.  223.  162.  202.  194.  205.  297.\n",
      "  372.  302.  217.  239.  190.  172.  189.]\n",
      "[   8.    9.    3.    0.    4.    7.    2.   13.    1.   15.    6.   18.\n",
      "   10.   20.    5.   17.   31.   35.   14.   36.   12.   19.   21.   16.\n",
      "   11.   38.   29.   28.   26.   22.   25.   27.   23.   30.   63.   42.\n",
      "   33.   32.   46.   40.   67.   52.   24.   37.   41.  166.   64.   34.\n",
      "   66.   74.   47.   53.   44.  108.   43.   50.   48.   59.   94.   51.\n",
      "   62.  107.   49.   61.  197.   39.   95.   45.   83.   92.   80.   58.\n",
      "   65.   81.   96.   85.   91.   57.  133.   98.  130.   60.   89.   54.\n",
      "  154.   68.  121.   77.  113.   75.  117.   73.   82.   70.   55.   87.\n",
      "   84.   90.   76.   71.  135.   72.   79.  131.   69.  116.  104.   86.\n",
      "   56.   88.   78.  109.  127.   99.  147.  110.  111.   93.  102.  115.\n",
      "  176.  151.  139.  136.  124.  162.  144.   nan   97.  101.  106.  100.\n",
      "  114.  118.  119.  105.  148.  143.  122.  174.  137.  145.  194.  132.]\n",
      "[  6.   3.   1.   0.   4.   5.   2.  12.   7.   9.  14.   8.  10.  13.  25.\n",
      "  11.  16.  15.  32.  19.  24.  21.  22.  18.  20.  34.  17.  23.  28.  nan\n",
      "  31.  30.  29.  26.  27.]\n",
      "[  12.   11.    3.    8.    4.   13.   18.    2.    1.   10.   28.   29.\n",
      "   38.    6.   22.   31.   15.   14.   17.   21.    5.   30.   44.   33.\n",
      "   20.   26.   32.    0.   53.   23.   19.    7.   16.   37.   45.    9.\n",
      "  107.  116.  147.   27.   nan  122.   42.   43.  169.  145.   25.   39.\n",
      "   24.  183.   56.  138.   97.   77.  123.   52.  111.   50.  198.  102.\n",
      "   51.   36.   86.   48.   49.  129.   46.  193.  151.  161.  162.   54.\n",
      "   41.   40.   47.   63.   90.   85.   79.  234.   59.  103.   34.   55.\n",
      "  105.   62.   84.   80.   98.  155.  112.  114.   61.  135.  113.   35.\n",
      "  242.  124.  146.   72.  100.   99.   88.   75.   58.  115.   57.  110.\n",
      "   83.   81.  108.   60.  121.   65.  101.   67.   96.   69.   70.  153.\n",
      "  166.   74.   87.   78.   64.  196.  125.  118.   68.  150.  188.  109.\n",
      "  140.   66.  181.  144.  278.  220.  177.  130.   91.  191.  176.  233.\n",
      "  174.  158.   95.   93.  260.  106.   76.  148.  136.  142.   92.  120.\n",
      "  156.  133.  119.  132.  149.  282.  172.  230.  117.   94.  199.  131.\n",
      "  141.   71.  296.  184.  219.  137.  224.  175.  179.   82.  218.  295.\n",
      "  217.   89.  128.   73.  247.  180.  134.  197.  362.  139.  294.  126.\n",
      "  207.  163.  104.  185.  350.  170.  315.  189.  164.  290.  307.  173.\n",
      "  157.  222.  194.  127.  192.  221.  160.  311.  190.  195.  250.  328.\n",
      "  214.  359.  317.  178.  254.  285.  202.  143.  235.  154.  186.  258.\n",
      "  331.  209.  182.  467.  210.  416.  168.  229.  462.  205.  159.  165.\n",
      "  380.  333.  246.  152.  228.  206.  466.  381.  240.  305.  321.  270.\n",
      "  187.  337.  171.  318.  256.  201.  277.  287.  257.  473.  167.  248.\n",
      "  339.  213.  298.  435.  327.  341.  200.  281.  301.  268.  404.  322.\n",
      "  249.  325.  259.  334.  344.  284.  422.  237.  323.  358.  261.  345.\n",
      "  273.  215.  279.  204.  303.  304.  297.  223.  203.  395.  330.  299.\n",
      "  286.  335.  316.  415.  226.  225.  244.  407.  271.  239.  265.  447.\n",
      "  280.  338.  231.  255.  208.  263.  288.  274.  360.  275.  216.  243.\n",
      "  283.  449.  348.  312.  267.  292.  502.  252.  227.  245.  232.  398.\n",
      "  300.  306.  417.  554.  383.  291.  420.  251.  211.  354.  351.  343.\n",
      "  361.  493.  313.  266.  272.  289.  238.  310.  342.  353.  319.  326.\n",
      "  236.  302.  527.  262.  212.  241.  293.  538.  309.  521.  346.  356.\n",
      "  375.  413.  308.  372.  408.  376.  436.  264.  336.  382.  276.  533.\n",
      "  384.  385.  320.  386.  427.  441.  371.  365.  388.]\n",
      "[  nan   12.   47.    6.    9.   30.   21.   17.   39.   26.   78.   73.\n",
      "   60.   15.   19.   20.   57.   42.   29.   44.   28.   62.   79.   70.\n",
      "   14.   41.   23.   46.    1.   40.   85.    3.   72.   67.   61.   69.\n",
      "   38.   75.   51.   68.   35.   27.   45.   37.   74.   71.   22.   34.\n",
      "   48.   33.   32.   89.    7.   53.   11.   25.    8.   63.   54.   18.\n",
      "   65.   80.   58.   10.   76.   36.   66.   55.   31.   91.    4.   77.\n",
      "   50.   16.    5.   49.   83.   56.   43.   92.   24.    2.   82.   84.\n",
      "   59.   52.   64.   13.   81.   88.    0.   86.   87.  105.  106.   93.\n",
      "  112.  141.  110.   97.   96.   90.  101.  100.  111.  152.  102.  116.\n",
      "  114.   95.  103.   98.  108.  128.   94.  113.  176.  121.   99.  122.\n",
      "  145.  107.  127.  109.  124.  143.  149.  115.  104.  135.  140.  133.\n",
      "  151.  131.  130.  139.]\n",
      "[  4.  10.  nan   0.   1.  11.   3.  15.  12.   6.  18.  19.   7.  16.  23.\n",
      "   5.  17.  13.   8.   9.   2.  22.  14.  20.  21.  24.  25.]\n",
      "[  nan   12.    6.   47.   40.    9.   29.   21.   17.   34.   36.   16.\n",
      "   54.   78.   73.   44.   60.   10.   19.   20.   57.   42.   46.   26.\n",
      "   28.   62.   43.   38.   70.   14.   41.   69.    1.   23.   81.   85.\n",
      "    3.   79.   33.   27.   63.   52.   72.   67.   66.   61.    7.   39.\n",
      "   75.   51.   32.   35.   49.   30.   31.    8.   74.   71.   11.   22.\n",
      "   48.   53.   68.   80.   58.   37.   76.   83.   55.   91.    4.   77.\n",
      "   25.   13.   50.   15.    5.   82.    2.   24.   64.   56.   18.   92.\n",
      "   65.   84.   45.   59.   90.   88.    0.   86.   87.  105.  106.   89.\n",
      "   93.  112.  141.  110.   97.  129.  125.   96.  101.  152.  102.   98.\n",
      "  114.  103.   95.  108.  116.   94.  100.  113.  176.  121.   99.  135.\n",
      "  115.  122.  134.  107.  165.  127.  119.  124.  120.  131.  143.  109.\n",
      "  149.  118.  130.  133.  104.  140.  151.]\n",
      "[  0.   1.   2.   7.   4.  11.   3.   6.   5.  13.  10.  12.  14.   8.   9.\n",
      "  16.  25.  15.  17.  22.  21.  18.  20.  19.  23.  nan  29.  24.  26.  30.]\n",
      "[  3.   6.   2.   4.   5.   8.   1.  11.   7.   9.  12.   0.  16.  13.  10.\n",
      "  14.  15.  17.  19.  20.  18.  23.  22.  26.  21.  25.  nan  30.  24.]\n",
      "[  3.   6.  10.  17.   8.   4.   5.   9.  11.   2.   7.  15.   1.  12.  13.\n",
      "   0.  25.  16.  14.  20.  22.  18.  21.  19.  24.  23.  26.  29.  38.  35.\n",
      "  30.  28.  27.  34.  44.  31.  33.  36.  40.  32.  nan  37.]\n",
      "[  4.   8.   7.   2.   5.   3.  13.  12.   6.  11.   1.  10.   9.  32.   0.\n",
      "  17.  15.  18.  22.  28.  26.  14.  19.  16.  20.  24.  21.  25.  27.  33.\n",
      "  30.  23.  37.  36.  29.  57.  31.  35.  nan]\n",
      "[  9.  13.   2.  10.   5.  17.   6.  12.  11.   4.  15.  23.   7.  14.   8.\n",
      "   3.  19.  18.  16.  32.   0.  31.   1.  28.  26.  24.  20.  22.  37.  21.\n",
      "  25.  36.  38.  29.  27.  30.  40.  34.  42.  43.  35.  33.  44.  54.  47.\n",
      "  57.  39.  52.  46.  41.  nan  45.  50.  51.  48.  58.  61.]\n",
      "[  15.    7.    1.    2.   10.    3.   28.    6.    9.    8.   16.    4.\n",
      "    5.   36.   11.   13.   14.   21.   24.   22.   27.   26.   12.   44.\n",
      "   19.   31.   17.    0.   41.   18.   43.   35.   20.   34.   25.   29.\n",
      "   30.   33.   32.   23.   49.   57.   37.   38.   48.   40.   51.   59.\n",
      "   39.   50.   47.   61.   42.   45.   58.   55.   52.   46.   66.   68.\n",
      "   60.   53.   54.  100.  101.   73.   56.   65.   82.  117.   83.   86.\n",
      "   62.   79.   64.   85.   69.   63.   72.   70.   75.   91.   74.   87.\n",
      "   67.   89.   71.   nan   78.   97.   81.]\n",
      "[  4.   9.  12.  17.   7.   8.  13.  20.   5.  15.  16.  10.  14.   3.   6.\n",
      "  11.  18.   2.  19.   1.  31.  25.  26.  22.  30.  21.  32.  27.  24.  23.\n",
      "  28.  44.  41.  36.  33.   0.  29.  47.  35.  39.  38.  37.  34.  40.  46.\n",
      "  49.  42.  48.  nan  45.  43.  58.  62.  50.  52.  51.]\n",
      "[  10.   14.   17.   19.   22.   24.    8.   27.    9.   23.   21.   12.\n",
      "   25.    7.   13.    6.   15.   36.   28.   34.   11.   18.   29.   16.\n",
      "   31.   20.   33.    4.   44.    2.    5.   53.   35.   43.    3.   26.\n",
      "   48.   30.   41.   38.   45.   61.   32.   47.   39.   37.   49.   60.\n",
      "   57.   63.   40.   77.   42.   56.   50.   51.   46.   54.   52.   67.\n",
      "   69.   68.   59.   72.   55.   62.   74.   58.   66.   65.   92.   90.\n",
      "   64.   71.   75.   87.   70.   nan   91.    1.    0.  105.   81.   73.\n",
      "   80.   89.   86.   82.   78.]\n",
      "[  3.   6.  10.  13.   8.   4.   5.  11.   7.  12.   9.   2.  15.   1.   0.\n",
      "  26.  16.  14.  17.  19.  23.  25.  20.  24.  18.  28.  21.  22.  38.  30.\n",
      "  42.  33.  27.  39.  31.  29.  36.  32.  nan  37.  34.]\n",
      "[  7.  13.  14.  18.  12.  11.  16.  19.  22.   9.   8.  17.   5.  21.  10.\n",
      "  25.  15.   4.  20.  27.  24.   6.  26.  23.   2.  33.   3.  28.  29.  32.\n",
      "  34.  30.  41.  31.  45.  36.  38.  35.  55.  43.  37.  44.  40.   1.  39.\n",
      "  42.  53.  46.  47.  49.  51.  48.  56.  50.  52.  nan   0.  62.  75.  58.\n",
      "  54.  76.]\n",
      "[  0.  nan   1.   2.   6.]\n",
      "[  0.   1.   2.   3.  nan   4.]\n",
      "[  0.   1.   2.   3.   4.   5.   7.   6.   8.  13.   9.  11.  10.  16.  15.\n",
      "  14.  12.  18.  20.  nan  17.  24.  22.]\n",
      "[  4.   3.   1.  12.   2.   0.   6.   7.   5.   9.   8.  11.  10.  18.  13.\n",
      "  15.  23.  17.  14.  20.  16.  22.  19.  21.  25.  24.  nan  26.]\n",
      "[ 100.    96.    96.6   96.9   97.4   96.8   97.    87.5   89.5   96.3\n",
      "   59.1   95.9   98.1   97.1   72.7   95.2   96.2   79.3   92.3   97.5\n",
      "   94.9   74.    97.6   95.5   91.7   75.    92.9   83.3   91.3   82.5\n",
      "   97.8   78.9   85.7   84.6   93.7   90.3   94.1   76.9   88.2   67.5\n",
      "   93.1   90.5   89.    71.1   69.2   77.8   82.9   92.    84.    88.5\n",
      "   88.9   90.7   86.7   72.    93.9   96.7   81.    95.    92.6   89.7\n",
      "   91.1   98.4   81.4   94.2   93.5   93.3   58.8   90.9   87.    84.2\n",
      "   83.    97.7   94.7   95.1   64.7   82.8   94.    96.4   70.    76.2\n",
      "   95.8   68.    90.    94.3   88.    93.    95.7   76.7   87.9   74.1\n",
      "   91.4   92.1   69.4   80.    95.6   80.8   82.4   76.    81.5   78.8\n",
      "   85.2   85.    77.4   97.2   70.6   89.8   92.7   98.3   68.7   66.7\n",
      "   75.8   95.3   81.8   67.9   97.9   78.7   94.4   60.    77.    86.\n",
      "   64.8   73.3   89.2   90.6   78.3   68.2   88.4   98.2   66.    82.6\n",
      "   98.    86.2   91.9   87.8   86.4   73.1   71.4   63.6   62.5   55.2\n",
      "   83.8   60.7   97.3   79.2   85.4   91.5   73.2   76.5   81.2   89.3\n",
      "   74.4   94.6   84.8   74.2   88.6   84.1   79.    98.7   53.3   86.5\n",
      "   57.7   80.4   78.6   84.4   82.    61.5   82.2   78.    69.    85.3\n",
      "   87.1   58.6   86.1   58.3   60.6   93.2   63.    77.3   73.7   82.1\n",
      "   90.2   57.1   62.    78.4   80.6   54.5   91.    91.2   93.6   73.\n",
      "   79.1   98.5   70.8   78.1   65.7   73.9   72.2   98.6   75.9   50.\n",
      "   88.1   89.1   71.7   76.8   58.    90.4   69.8   85.1   76.1   83.7\n",
      "   65.2   74.5   67.    61.9   55.6   96.5   79.5   92.2   92.5   76.3\n",
      "   71.    81.6   96.1   56.2   70.4   93.4   72.4   91.8   79.4   54.1\n",
      "   83.9   86.8   88.7   89.6   55.    44.    94.5   72.5   56.5   87.7\n",
      "   63.2   65.5   70.2   71.9   89.4   68.4   84.5   87.2   65.4   51.\n",
      "   65.6   80.9   86.3   84.3   54.    80.5   59.    65.8   64.9   70.7\n",
      "   77.1   61.3   73.5   64.3   75.7   99.    69.6   67.6   65.    42.9\n",
      "   76.4   48.7   52.9   64.6   57.    45.5   33.3   87.3   47.    74.3\n",
      "   81.1   38.9   61.1   55.8   67.7   94.8   64.    67.4   36.8   40.    53.\n",
      "   26.7   61.8   58.1   54.8   57.6   53.8   47.6   44.1   61.4   57.9\n",
      "   77.5   83.6   31.2   80.3   48.    60.9   68.6   90.8   73.8   43.7\n",
      "   59.3   86.6   43.3   67.3   93.8   82.7   49.    48.1   52.6   44.4\n",
      "   41.2   71.8   84.9   62.9   72.1   52.2   69.7   53.6   40.7   56.\n",
      "   47.1   77.6   56.8   54.3   98.8   42.1   61.    63.9   37.8   88.3\n",
      "   79.6   70.3   60.5   68.3   52.    78.2   46.2   30.    54.2   45.\n",
      "   42.4   64.1   45.7   47.4   58.7   84.7   36.    53.1   72.3   72.6\n",
      "   59.4   36.4   77.9   95.4   32.3   64.5   20.6   42.    77.2   29.2\n",
      "   85.5   78.5   76.6   52.4   63.3   71.2   56.7   60.4   70.5   39.3\n",
      "   45.8   92.8   27.6   87.4   24.2   56.4   16.7   75.6   59.5   65.3\n",
      "   39.4   25.    47.5   68.5   37.5   92.4   18.7   55.9   61.7   46.\n",
      "   63.5   28.6   51.4   43.    47.8   64.4   39.1   75.5   62.1   91.6\n",
      "   48.6   69.5   68.9   83.1   51.6   75.4   26.3   35.7   86.9   52.1\n",
      "   55.3   63.4   38.5   35.    30.4   31.6   98.9   41.     nan   57.5\n",
      "   68.1   34.8   46.7   62.2   33.    34.    38.    27.    39.    31.    37.\n",
      "   28.    15.    16.    62.8   81.7   48.4   85.9   27.3   73.6   89.9\n",
      "   30.8   48.3   51.9   44.8   41.7   79.7   65.9   45.9   66.2   40.9\n",
      "   29.    42.3   81.3   90.1   51.7   19.    46.9   21.4   72.9   82.3\n",
      "   53.7   63.8   38.1   62.7   66.1   74.6]\n",
      "[   0.    37.5   57.1   50.    60.   100.    20.     7.7   33.3   85.7\n",
      "   75.    25.    66.7   22.2   42.9   40.    83.3   11.1   80.    28.6\n",
      "   14.3   16.7   12.5    9.1    nan   18.2   64.7   77.8   13.3   55.6\n",
      "   71.4   41.7   15.4   17.6   54.5   62.5   10.    87.5   30.8   46.2\n",
      "    8.3   44.4   64.3   63.6    7.1   45.5   86.7    6.7   18.7   88.9\n",
      "   92.3   15.8   21.4   70.    30.    84.2   58.3    6.2   35.3   46.7\n",
      "   21.1   36.4   23.5   31.6    4.8   27.3   35.7   90.    41.2   26.7\n",
      "   23.1   91.7   72.7   38.5    4.5   45.    53.8   81.8    5.9   85.     5.\n",
      "   18.8   72.2   11.8   69.2   22.7   61.5   82.4   47.4   84.6   90.9\n",
      "   43.7   52.6    4.3   76.9   27.8   78.6   17.4    9.5   53.3   31.2\n",
      "    4.     5.6   13.    47.1   68.7   94.1   73.3   15.    93.3   29.4\n",
      "   52.9   52.2    4.2    8.7    5.3   92.9   73.7   19.2   26.3   19.\n",
      "   42.1   88.2   70.6   10.5   61.9   61.1   36.8   38.9    3.7   68.4\n",
      "   58.8   55.     7.4   95.     0.3    1.     0.7    0.8    0.8    0.5\n",
      "    0.2    0.6    0.4    0.6    0.4    0.3   90.5    0.4   76.2    3.1\n",
      "   23.8   93.7   81.2   56.2   76.5   35.    94.4   28.1    3.6   84.\n",
      "   52.4   57.9   28.    10.3   14.8    6.5   94.7    0.2    0.1    0.2\n",
      "    0.6    0.7   95.5]\n",
      "[  1.   0.   2.   3.   4.   5.   7.   6.  nan   8.]\n",
      "[  0.   1.   3.   2.   4.   6.   7.  10.   5.  12.   9.   8.  18.  15.  nan\n",
      "  11.  53.  13.]\n",
      "[ 347470.  236795.  325100. ...,   18074.  263367.  640841.]\n",
      "[  53397.   27327.   44977. ...,  166876.  116175.  259863.]\n",
      "[  36100.   19000.   55500. ...,  185600.   12727.   10493.]\n",
      "[  47370.   24744.   13200. ...,   94959.   66120.  255318.]\n"
     ]
    }
   ],
   "source": [
    "for col in fulldf:\n",
    "    print fulldf[col].unique()"
   ]
  },
  {
   "cell_type": "code",
   "execution_count": 55,
   "metadata": {
    "collapsed": true
   },
   "outputs": [],
   "source": [
    "# Get DF of All Numerical Inputes\n",
    "cols = X_full.columns\n",
    "for col in cols:\n",
    "    if X_full[col].dtype != \"float64\":\n",
    "        x_numeric = X_full.drop(col, axis=1)"
   ]
  },
  {
   "cell_type": "code",
   "execution_count": 56,
   "metadata": {
    "collapsed": true
   },
   "outputs": [],
   "source": [
    "# Get DF of all Non-Numeric Predictors\n",
    "for col in cols:\n",
    "    if X_full[col].dtype == \"float64\":\n",
    "        x_alpha = X_full.drop(col, axis=1)"
   ]
  },
  {
   "cell_type": "code",
   "execution_count": null,
   "metadata": {
    "collapsed": true
   },
   "outputs": [],
   "source": [
    "### !!!! WARNING !!!! ### LOOP CRASHES KERNAL"
   ]
  },
  {
   "cell_type": "code",
   "execution_count": null,
   "metadata": {
    "collapsed": true
   },
   "outputs": [],
   "source": [
    "# Pandas One Hot Encoding #"
   ]
  },
  {
   "cell_type": "code",
   "execution_count": null,
   "metadata": {
    "collapsed": true
   },
   "outputs": [],
   "source": [
    "cols = x_alpha.columns      \n",
    "#Create DF With All Predictors Encoded\n",
    "x_expanded = x_numeric\n",
    "for col in cols:\n",
    "    col_series = pd.get_dummies(x_alpha[col])\n",
    "    x_expanded = pd.concat([x_expanded, col_series], axis=1)\n",
    "    \n",
    "print x_expanded.shape"
   ]
  },
  {
   "cell_type": "code",
   "execution_count": null,
   "metadata": {
    "collapsed": true
   },
   "outputs": [],
   "source": [
    "# SKLearn One Hot Encoding #"
   ]
  },
  {
   "cell_type": "code",
   "execution_count": 59,
   "metadata": {
    "collapsed": false
   },
   "outputs": [
    {
     "ename": "ValueError",
     "evalue": "cannot convert float NaN to integer",
     "output_type": "error",
     "traceback": [
      "\u001b[0;31m---------------------------------------------------------------------------\u001b[0m",
      "\u001b[0;31mValueError\u001b[0m                                Traceback (most recent call last)",
      "\u001b[0;32m<ipython-input-59-46d5f2988b66>\u001b[0m in \u001b[0;36m<module>\u001b[0;34m()\u001b[0m\n\u001b[1;32m      1\u001b[0m \u001b[0;32mfrom\u001b[0m \u001b[0msklearn\u001b[0m\u001b[0;34m.\u001b[0m\u001b[0mpreprocessing\u001b[0m \u001b[0;32mimport\u001b[0m \u001b[0mOneHotEncoder\u001b[0m\u001b[0;34m\u001b[0m\u001b[0m\n\u001b[1;32m      2\u001b[0m \u001b[0menc\u001b[0m \u001b[0;34m=\u001b[0m \u001b[0mOneHotEncoder\u001b[0m\u001b[0;34m(\u001b[0m\u001b[0;34m)\u001b[0m\u001b[0;34m\u001b[0m\u001b[0m\n\u001b[0;32m----> 3\u001b[0;31m \u001b[0menc\u001b[0m\u001b[0;34m.\u001b[0m\u001b[0mfit\u001b[0m\u001b[0;34m(\u001b[0m\u001b[0mx_alpha\u001b[0m\u001b[0;34m)\u001b[0m\u001b[0;34m\u001b[0m\u001b[0m\n\u001b[0m\u001b[1;32m      4\u001b[0m \u001b[0mOneHotEncoder\u001b[0m\u001b[0;34m(\u001b[0m\u001b[0mcategorical_features\u001b[0m\u001b[0;34m=\u001b[0m\u001b[0;34m'all'\u001b[0m\u001b[0;34m,\u001b[0m \u001b[0mhandle_unknown\u001b[0m\u001b[0;34m=\u001b[0m\u001b[0;34m'error'\u001b[0m\u001b[0;34m,\u001b[0m \u001b[0mn_values\u001b[0m\u001b[0;34m=\u001b[0m\u001b[0;34m'auto'\u001b[0m\u001b[0;34m,\u001b[0m \u001b[0msparse\u001b[0m\u001b[0;34m=\u001b[0m\u001b[0mFalse\u001b[0m\u001b[0;34m)\u001b[0m\u001b[0;34m\u001b[0m\u001b[0m\n\u001b[1;32m      5\u001b[0m \u001b[0menc\u001b[0m\u001b[0;34m.\u001b[0m\u001b[0mn_values_\u001b[0m\u001b[0;34m\u001b[0m\u001b[0m\n",
      "\u001b[0;32m//anaconda/envs/py27/lib/python2.7/site-packages/sklearn/preprocessing/data.pyc\u001b[0m in \u001b[0;36mfit\u001b[0;34m(self, X, y)\u001b[0m\n\u001b[1;32m   1756\u001b[0m         \u001b[0mself\u001b[0m\u001b[0;34m\u001b[0m\u001b[0m\n\u001b[1;32m   1757\u001b[0m         \"\"\"\n\u001b[0;32m-> 1758\u001b[0;31m         \u001b[0mself\u001b[0m\u001b[0;34m.\u001b[0m\u001b[0mfit_transform\u001b[0m\u001b[0;34m(\u001b[0m\u001b[0mX\u001b[0m\u001b[0;34m)\u001b[0m\u001b[0;34m\u001b[0m\u001b[0m\n\u001b[0m\u001b[1;32m   1759\u001b[0m         \u001b[0;32mreturn\u001b[0m \u001b[0mself\u001b[0m\u001b[0;34m\u001b[0m\u001b[0m\n\u001b[1;32m   1760\u001b[0m \u001b[0;34m\u001b[0m\u001b[0m\n",
      "\u001b[0;32m//anaconda/envs/py27/lib/python2.7/site-packages/sklearn/preprocessing/data.pyc\u001b[0m in \u001b[0;36mfit_transform\u001b[0;34m(self, X, y)\u001b[0m\n\u001b[1;32m   1812\u001b[0m         \"\"\"\n\u001b[1;32m   1813\u001b[0m         return _transform_selected(X, self._fit_transform,\n\u001b[0;32m-> 1814\u001b[0;31m                                    self.categorical_features, copy=True)\n\u001b[0m\u001b[1;32m   1815\u001b[0m \u001b[0;34m\u001b[0m\u001b[0m\n\u001b[1;32m   1816\u001b[0m     \u001b[0;32mdef\u001b[0m \u001b[0m_transform\u001b[0m\u001b[0;34m(\u001b[0m\u001b[0mself\u001b[0m\u001b[0;34m,\u001b[0m \u001b[0mX\u001b[0m\u001b[0;34m)\u001b[0m\u001b[0;34m:\u001b[0m\u001b[0;34m\u001b[0m\u001b[0m\n",
      "\u001b[0;32m//anaconda/envs/py27/lib/python2.7/site-packages/sklearn/preprocessing/data.pyc\u001b[0m in \u001b[0;36m_transform_selected\u001b[0;34m(X, transform, selected, copy)\u001b[0m\n\u001b[1;32m   1623\u001b[0m     \"\"\"\n\u001b[1;32m   1624\u001b[0m     \u001b[0;32mif\u001b[0m \u001b[0misinstance\u001b[0m\u001b[0;34m(\u001b[0m\u001b[0mselected\u001b[0m\u001b[0;34m,\u001b[0m \u001b[0msix\u001b[0m\u001b[0;34m.\u001b[0m\u001b[0mstring_types\u001b[0m\u001b[0;34m)\u001b[0m \u001b[0;32mand\u001b[0m \u001b[0mselected\u001b[0m \u001b[0;34m==\u001b[0m \u001b[0;34m\"all\"\u001b[0m\u001b[0;34m:\u001b[0m\u001b[0;34m\u001b[0m\u001b[0m\n\u001b[0;32m-> 1625\u001b[0;31m         \u001b[0;32mreturn\u001b[0m \u001b[0mtransform\u001b[0m\u001b[0;34m(\u001b[0m\u001b[0mX\u001b[0m\u001b[0;34m)\u001b[0m\u001b[0;34m\u001b[0m\u001b[0m\n\u001b[0m\u001b[1;32m   1626\u001b[0m \u001b[0;34m\u001b[0m\u001b[0m\n\u001b[1;32m   1627\u001b[0m     \u001b[0mX\u001b[0m \u001b[0;34m=\u001b[0m \u001b[0mcheck_array\u001b[0m\u001b[0;34m(\u001b[0m\u001b[0mX\u001b[0m\u001b[0;34m,\u001b[0m \u001b[0maccept_sparse\u001b[0m\u001b[0;34m=\u001b[0m\u001b[0;34m'csc'\u001b[0m\u001b[0;34m,\u001b[0m \u001b[0mcopy\u001b[0m\u001b[0;34m=\u001b[0m\u001b[0mcopy\u001b[0m\u001b[0;34m,\u001b[0m \u001b[0mdtype\u001b[0m\u001b[0;34m=\u001b[0m\u001b[0mFLOAT_DTYPES\u001b[0m\u001b[0;34m)\u001b[0m\u001b[0;34m\u001b[0m\u001b[0m\n",
      "\u001b[0;32m//anaconda/envs/py27/lib/python2.7/site-packages/sklearn/preprocessing/data.pyc\u001b[0m in \u001b[0;36m_fit_transform\u001b[0;34m(self, X)\u001b[0m\n\u001b[1;32m   1761\u001b[0m     \u001b[0;32mdef\u001b[0m \u001b[0m_fit_transform\u001b[0m\u001b[0;34m(\u001b[0m\u001b[0mself\u001b[0m\u001b[0;34m,\u001b[0m \u001b[0mX\u001b[0m\u001b[0;34m)\u001b[0m\u001b[0;34m:\u001b[0m\u001b[0;34m\u001b[0m\u001b[0m\n\u001b[1;32m   1762\u001b[0m         \u001b[0;34m\"\"\"Assumes X contains only categorical features.\"\"\"\u001b[0m\u001b[0;34m\u001b[0m\u001b[0m\n\u001b[0;32m-> 1763\u001b[0;31m         \u001b[0mX\u001b[0m \u001b[0;34m=\u001b[0m \u001b[0mcheck_array\u001b[0m\u001b[0;34m(\u001b[0m\u001b[0mX\u001b[0m\u001b[0;34m,\u001b[0m \u001b[0mdtype\u001b[0m\u001b[0;34m=\u001b[0m\u001b[0mnp\u001b[0m\u001b[0;34m.\u001b[0m\u001b[0mint\u001b[0m\u001b[0;34m)\u001b[0m\u001b[0;34m\u001b[0m\u001b[0m\n\u001b[0m\u001b[1;32m   1764\u001b[0m         \u001b[0;32mif\u001b[0m \u001b[0mnp\u001b[0m\u001b[0;34m.\u001b[0m\u001b[0many\u001b[0m\u001b[0;34m(\u001b[0m\u001b[0mX\u001b[0m \u001b[0;34m<\u001b[0m \u001b[0;36m0\u001b[0m\u001b[0;34m)\u001b[0m\u001b[0;34m:\u001b[0m\u001b[0;34m\u001b[0m\u001b[0m\n\u001b[1;32m   1765\u001b[0m             \u001b[0;32mraise\u001b[0m \u001b[0mValueError\u001b[0m\u001b[0;34m(\u001b[0m\u001b[0;34m\"X needs to contain only non-negative integers.\"\u001b[0m\u001b[0;34m)\u001b[0m\u001b[0;34m\u001b[0m\u001b[0m\n",
      "\u001b[0;32m//anaconda/envs/py27/lib/python2.7/site-packages/sklearn/utils/validation.pyc\u001b[0m in \u001b[0;36mcheck_array\u001b[0;34m(array, accept_sparse, dtype, order, copy, force_all_finite, ensure_2d, allow_nd, ensure_min_samples, ensure_min_features, warn_on_dtype, estimator)\u001b[0m\n\u001b[1;32m    371\u001b[0m                                       force_all_finite)\n\u001b[1;32m    372\u001b[0m     \u001b[0;32melse\u001b[0m\u001b[0;34m:\u001b[0m\u001b[0;34m\u001b[0m\u001b[0m\n\u001b[0;32m--> 373\u001b[0;31m         \u001b[0marray\u001b[0m \u001b[0;34m=\u001b[0m \u001b[0mnp\u001b[0m\u001b[0;34m.\u001b[0m\u001b[0marray\u001b[0m\u001b[0;34m(\u001b[0m\u001b[0marray\u001b[0m\u001b[0;34m,\u001b[0m \u001b[0mdtype\u001b[0m\u001b[0;34m=\u001b[0m\u001b[0mdtype\u001b[0m\u001b[0;34m,\u001b[0m \u001b[0morder\u001b[0m\u001b[0;34m=\u001b[0m\u001b[0morder\u001b[0m\u001b[0;34m,\u001b[0m \u001b[0mcopy\u001b[0m\u001b[0;34m=\u001b[0m\u001b[0mcopy\u001b[0m\u001b[0;34m)\u001b[0m\u001b[0;34m\u001b[0m\u001b[0m\n\u001b[0m\u001b[1;32m    374\u001b[0m \u001b[0;34m\u001b[0m\u001b[0m\n\u001b[1;32m    375\u001b[0m         \u001b[0;32mif\u001b[0m \u001b[0mensure_2d\u001b[0m\u001b[0;34m:\u001b[0m\u001b[0;34m\u001b[0m\u001b[0m\n",
      "\u001b[0;31mValueError\u001b[0m: cannot convert float NaN to integer"
     ]
    }
   ],
   "source": [
    "from sklearn.preprocessing import OneHotEncoder\n",
    "enc = OneHotEncoder()\n",
    "enc.fit(x_alpha)  \n",
    "OneHotEncoder(categorical_features='all', handle_unknown='error', n_values='auto', sparse=False)\n",
    "enc.n_values_\n",
    "enc.feature_indices_\n",
    "#enc.transform().toarray()\n"
   ]
  },
  {
   "cell_type": "code",
   "execution_count": null,
   "metadata": {
    "collapsed": true
   },
   "outputs": [],
   "source": []
  },
  {
   "cell_type": "code",
   "execution_count": null,
   "metadata": {
    "collapsed": false
   },
   "outputs": [],
   "source": [
    "x_train, x_test, y_train, y_test = train_test_split(x_expanded, y, test_size=0.2)"
   ]
  },
  {
   "cell_type": "code",
   "execution_count": null,
   "metadata": {
    "collapsed": true
   },
   "outputs": [],
   "source": [
    "\n",
    "    \n",
    "        \n",
    "cols = x_alpha.columns      \n",
    "#Create DF With All Predictors Encoded\n",
    "x_expanded = x_numeric\n",
    "for col in cols:\n",
    "    col_series = pd.get_dummies(x_alpha[col])\n",
    "    x_expanded = pd.concat([x_expanded, col_series], axis=1)\n",
    "    \n",
    "print x_expanded.shape\n",
    "        "
   ]
  },
  {
   "cell_type": "markdown",
   "metadata": {},
   "source": [
    "# V. Standard Models"
   ]
  },
  {
   "cell_type": "markdown",
   "metadata": {},
   "source": [
    "### (1) Logistic Regression"
   ]
  },
  {
   "cell_type": "markdown",
   "metadata": {},
   "source": [
    "<font size=3><u> Overview</u> </font>"
   ]
  },
  {
   "cell_type": "markdown",
   "metadata": {},
   "source": [
    "We first modeled defaults using logistic regression to learn more about the data features and get the basic performance of our prediction. To first get boundaries of iterations needed for Newton as well as understand predictive contribution from each data features, we trial-trained with a logistic classification on all features.\n",
    "\n",
    "The training and test converges to an optimal solution within 5 iterations, and overall we reached a test accuracy of 92.9% and a test specificity of 75.8%.\n",
    "\n"
   ]
  },
  {
   "cell_type": "code",
   "execution_count": null,
   "metadata": {
    "collapsed": true
   },
   "outputs": [],
   "source": [
    "C = [0.001, 0.003, 0.01, 0.03, 0.1, 0.3, 1, 3, 10, 30, 100, 300] %// you must choose your own set of values for the parameters that you want to test. You can either do it this way by explicitly typing out a list\n",
    "S = 0:0.1:1 %// or you can do it this way using the : operator\n",
    "fscores = zeros(numel(C), numel(S)); %// Pre-allocation\n",
    "for c = 1:numel(C)   \n",
    "    for s = 1:numel(S)\n",
    "        vals = crossval(@(XTRAIN, YTRAIN, XVAL, YVAL)(fun(x_train, y_train, x_train, y_train, C(c), S(c)),input(trIdx,:),target(trIdx));\n",
    "        fscores(c,s) = mean(vals);\n",
    "    end\n",
    "end\n",
    "\n",
    "%// Then establish the C and S that gave you the bet f-score. Don't forget that c and s are just indexes though!\n",
    "[cbest, sbest] = find(fscores == max(fscores(:)));\n",
    "C_final = C(cbest);\n",
    "S_final = S(sbest);"
   ]
  },
  {
   "cell_type": "markdown",
   "metadata": {},
   "source": [
    "** !! INSERT FEATURE MODELS !!**"
   ]
  },
  {
   "cell_type": "markdown",
   "metadata": {},
   "source": []
  },
  {
   "cell_type": "markdown",
   "metadata": {},
   "source": [
    "<font size=3><u> Bias Variance Tradeoff</u> </font>"
   ]
  },
  {
   "cell_type": "markdown",
   "metadata": {},
   "source": [
    "To evaluation the tradeoff between bias and variance in our logistic model, we ran tested different sample sizes and charted the impact on accuracy:"
   ]
  },
  {
   "cell_type": "markdown",
   "metadata": {},
   "source": [
    "<i>(a) Training vs. test errors</i>"
   ]
  },
  {
   "cell_type": "markdown",
   "metadata": {},
   "source": [
    "** !! INSERT GRAPH !!**\n",
    "Y-Axis = MSE\n",
    "X-axis = Training Sample Size"
   ]
  },
  {
   "cell_type": "markdown",
   "metadata": {},
   "source": [
    "<i> (b) Training vs. test specificity ** </i>"
   ]
  },
  {
   "cell_type": "markdown",
   "metadata": {},
   "source": [
    "** !! INSERT GRAPH !!**\n",
    "Y-Axis = Speceficity (# correct prediction / # actual defaults)\n",
    "X-axis = Training Sample Size"
   ]
  },
  {
   "cell_type": "markdown",
   "metadata": {},
   "source": [
    "The test and training error converged **!!(with a sample size >= 5,000)!!** and we see that we may have **!!(a high bias problem as increasing sample size still resulted in a >5% test error. From the sensitivity chart, however, we see that sensitivity fluctuates)**!! with additional sample size, suggesting that the default prediction might potentially benefit from filtering on existing features even though test error has stabilized."
   ]
  },
  {
   "cell_type": "markdown",
   "metadata": {},
   "source": [
    "<font size=4><u> Feature Selection</u> </font>"
   ]
  },
  {
   "cell_type": "markdown",
   "metadata": {},
   "source": [
    "In exploring the dataset, we ran a logistic model on each each available predictor. We found that for prediction on default rate (specificity), the credit score for the borrower is the most predicative of all features, followed by borrower population; while interest rate has a negative impact as the number was subject to sporadic adjustment from Lending Club, and fields like loan description or borrower’s lower fico range, where there are a lot of zero values, would worsen the default prediction. After we filtered out features that decreased our test specificity, such as last_fico_range_low, installment, open_acc, desc, int_rate, we managed to bump specificity from **!!(75.8% to 77.1%)!!** without hurting overall test accuracy.\n",
    "\n",
    "Data From: http://cs229.stanford.edu/proj2015/199_report.pdf"
   ]
  },
  {
   "cell_type": "code",
   "execution_count": null,
   "metadata": {
    "collapsed": true
   },
   "outputs": [],
   "source": [
    "Drop above columns"
   ]
  },
  {
   "cell_type": "markdown",
   "metadata": {},
   "source": [
    "** Table 1: Performance of Logistic Model with feature selection **"
   ]
  },
  {
   "cell_type": "markdown",
   "metadata": {},
   "source": [
    "Num Newton Accu Prec Sens Spec G-mean\n",
    "30 Iterations 92.8 96.6 95.1 77.1 85.7"
   ]
  },
  {
   "cell_type": "markdown",
   "metadata": {},
   "source": [
    "### (2) Native Bayes"
   ]
  },
  {
   "cell_type": "markdown",
   "metadata": {},
   "source": [
    "<font size=3><u> Overview</u> </font>"
   ]
  },
  {
   "cell_type": "markdown",
   "metadata": {},
   "source": [
    "**!! Native Bayes (Gaussian, Bernoulli, and Multinomial) | Laplace Smoothing = 1 !!**"
   ]
  },
  {
   "cell_type": "markdown",
   "metadata": {},
   "source": [
    "We used a Laplace smoothing factor of 1 and ran Naive Bayes using Gaussian, Bernoulli, and Multinomial probability distributions.\n",
    "\n",
    "For Bernoulli Naive Bayes, where we require boolean feature values, we binarized the features and values. Multinomial probability distributions take discrete feature values, so we rounded any decimal feature values to the closest integers."
   ]
  },
  {
   "cell_type": "code",
   "execution_count": null,
   "metadata": {
    "collapsed": true
   },
   "outputs": [],
   "source": [
    "Distribution Accu Prec Sens Spec G-mean\n",
    "Gaussian 91.1 96.6 92.7 80.4 86.3\n",
    "Bernoulli 88.5 91.0 96.2 36.9 59.6\n",
    "Multinomial 61.9 88.7 64.4 45.8 54.3"
   ]
  },
  {
   "cell_type": "markdown",
   "metadata": {},
   "source": [
    "Gaussian Naive Bayes returns the most desirable performance on the test dataset. Bernoulli and Multinomial significantly underperformed Gaussian Naive Bayes."
   ]
  },
  {
   "cell_type": "markdown",
   "metadata": {},
   "source": [
    "<font size=3><u> Bias Variance Tradeoff</u> </font>"
   ]
  },
  {
   "cell_type": "markdown",
   "metadata": {},
   "source": [
    "In order to determine whether we are seeing high bias or\n",
    "high variance, we compare the training error to the test error\n",
    "for each case of Naive Bayes."
   ]
  },
  {
   "cell_type": "markdown",
   "metadata": {},
   "source": [
    "In an effort to reduce the error rate for Gaussian Naive Bayes, an additional feature of median income by zip code and descriptions was included in the dataset. The test error for Gaussian Naive Bayes decreased from 8.94% to 8.64% (by 0.3%). However, specificity decreased from 80.4% to 80.1% with the external dataset included."
   ]
  },
  {
   "cell_type": "code",
   "execution_count": null,
   "metadata": {
    "collapsed": true
   },
   "outputs": [],
   "source": [
    "Distribution Accu Prec Sens Spec G-mean\n",
    "Gaussian 91.3 96.9 93.0 80.1 86.3"
   ]
  },
  {
   "cell_type": "markdown",
   "metadata": {},
   "source": [
    "### (3) SVM"
   ]
  },
  {
   "cell_type": "markdown",
   "metadata": {},
   "source": [
    "<font size=3><u> Overview</u> </font>"
   ]
  },
  {
   "cell_type": "markdown",
   "metadata": {},
   "source": [
    "Since the training data is likely not linearly separable, and not guaranteed to be separable even in higher-dimensional feature spaces, we will use L1 (LASSO) regularization (soft margin SVM). \n",
    "\n",
    "For training data points (x(i), y(i)), the model is the result of the optimization:\n",
    "\n",
    "<img src=\"https://wikimedia.org/api/rest_v1/media/math/render/svg/d9e948f6526c060d6cd63bd27631e213113c0ecd\" class=\"mwe-math-fallback-image-inline\" aria-hidden=\"true\" style=\"vertical-align: -2.171ex; width:27.957ex; height:5.509ex;\" alt=\"\\min _{w\\in \\mathbb {R} ^{p}}{\\frac {1}{n}}\\|{\\hat {X}}w-{\\hat {Y}}\\|^{2}+\\lambda \\|w\\|_{1}\">\n",
    "\n",
    "First, in an effort to prevent features with larger numeric values (absolute value) from dominating features with smaller numeric values, we normalized the dataset by scaling the values of each feature to [-1, 1]. Furthermore, normalizion prevents numeric problems such as overflows in situations where kernel values involve the inner products of feature vectors, which is anticipated in this instance. \n",
    "\n",
    "Note: The same scaling factor was applied to both the training and test data. "
   ]
  },
  {
   "cell_type": "code",
   "execution_count": null,
   "metadata": {
    "collapsed": false,
    "scrolled": true
   },
   "outputs": [],
   "source": [
    "from sklearn.preprocessing import StandardScaler\n",
    "scaler = StandardScaler()\n",
    "scaler.fit(train_predictors)\n",
    "scaler.fit(test_predictors)\n",
    "scaled_data_train = scaler.transform(train_predictors)\n",
    "scaled_data_test = scaler.transform(test_predictors)"
   ]
  },
  {
   "cell_type": "code",
   "execution_count": null,
   "metadata": {
    "collapsed": true
   },
   "outputs": [],
   "source": [
    "C = [0.001, 0.003, 0.01, 0.03, 0.1, 0.3, 1, 3, 10, 30, 100, 300] %// you must choose your own set of values for the parameters that you want to test. You can either do it this way by explicitly typing out a list\n",
    "S = 0:0.1:1 %// or you can do it this way using the : operator\n",
    "fscores = zeros(numel(C), numel(S)); %// Pre-allocation\n",
    "for c = 1:numel(C)   \n",
    "    for s = 1:numel(S)\n",
    "        vals = crossval(@(XTRAIN, YTRAIN, XVAL, YVAL)(fun(XTRAIN, YTRAIN, XVAL, YVAL, C(c), S(c)),input(trIdx,:),target(trIdx));\n",
    "        fscores(c,s) = mean(vals);\n",
    "    end\n",
    "end\n",
    "\n",
    "%// Then establish the C and S that gave you the bet f-score. Don't forget that c and s are just indexes though!\n",
    "[cbest, sbest] = find(fscores == max(fscores(:)));\n",
    "C_final = C(cbest);\n",
    "S_final = S(sbest);"
   ]
  },
  {
   "cell_type": "markdown",
   "metadata": {},
   "source": [
    "SVM has a degrading performance on highly imbalanced datasets [10], so we should experiment with balancing the datasets as best as possible to improve SVM prediction."
   ]
  },
  {
   "cell_type": "markdown",
   "metadata": {},
   "source": [
    "<font size=3><u>Balancing The Dataset</u> </font>"
   ]
  },
  {
   "cell_type": "markdown",
   "metadata": {},
   "source": [
    "<font size=3><u>Opitiization</u> </font> "
   ]
  },
  {
   "cell_type": "markdown",
   "metadata": {},
   "source": [
    "SVM model performance depends on three inputs: the kernel, the kernel parmeters, and the soft margin parameter C. We attempted to optimize each of these values. "
   ]
  },
  {
   "cell_type": "markdown",
   "metadata": {},
   "source": [
    "#### Kernal Selection"
   ]
  },
  {
   "cell_type": "markdown",
   "metadata": {},
   "source": [
    "We investigate some commonly used kernels (linear, polynomial, Gaussian radial basis function, and sigmoid) and compare performance. We used LibSVM [8] with default settings (C-SVC, C = 1, γ = 1/# of features, d = 3), and trained the model with the first 70% of the loans and tested the models on the last 30% of the loans in our dataset.\n",
    "\n",
    "Linear: $K(x, z) = x^Tz$ <br>\n",
    "Polynomial: $K(x, z) = (γ(x^Tz + 1))^d$ <br>\n",
    "RBF: $K(x, z) = e^(−γ||x−z||^2)$ <br>\n",
    "Sigmoid: $K(x, z) = tanh(γx^Tz + d)$ <br>"
   ]
  },
  {
   "cell_type": "markdown",
   "metadata": {},
   "source": [
    "**!!(SVM Results #1)!!**"
   ]
  },
  {
   "cell_type": "code",
   "execution_count": null,
   "metadata": {
    "collapsed": true
   },
   "outputs": [],
   "source": [
    "Kernel Accu Prec Sens Spec G-mean\n",
    "Linear 93.0 96.6 95.3 77.7 86.1\n",
    "Polynomial 93.0 94.5 97.6 61.8 77.7\n",
    "RBF 92.8 93.9 98.0 57.5 75.1\n",
    "Sigmoid 90.8 91.8 98.2 41.0 63.5"
   ]
  },
  {
   "cell_type": "markdown",
   "metadata": {},
   "source": [
    "**!!(Baseline Model #1)!!**, which merely predicts every loan to be non-defaulting, achieves an accuracy of 87.0%, which is the fraction of test data that are actually positive, so we see that SVM improves predictions."
   ]
  },
  {
   "cell_type": "markdown",
   "metadata": {},
   "source": [
    "<font size=3><u> Bias Viariance Tradeoff</u> </font>"
   ]
  },
  {
   "cell_type": "code",
   "execution_count": null,
   "metadata": {
    "collapsed": true
   },
   "outputs": [],
   "source": [
    "** !! INSERT FEATURE MODELS !!**\n",
    "Y-Axis = MSE\n",
    "X-axis = Training Sample Size"
   ]
  },
  {
   "cell_type": "markdown",
   "metadata": {},
   "source": [
    "We run SVM with a linear kernel with variable number of training examples, then compare the training error with the test error to determine whether we are likely to be encountering high bias or high variance in our SVM model with the dataset that we have."
   ]
  },
  {
   "cell_type": "markdown",
   "metadata": {},
   "source": [
    "The test and training errors converge quickly relative to the number of training examples available, and the gap between them is small, suggesting a high bias in the model. Thus we will increase the number of features by expanding zip code into census data, as well as identifying important words in the loan title and description. Adding median income, mean income, and population fields extrapolated from the zip code, we see a minute 0.1% increase in precision and 0.2% increase in specificity, with all other performance metrics remaining the same. Adding the words selected via TF-IDF as boolean features, we see an increase across all performance metrics, including a 0.6% boost in G-mean."
   ]
  },
  {
   "cell_type": "markdown",
   "metadata": {},
   "source": [
    "<font size=3><u>Soft Margin Parameters</u> </font> "
   ]
  },
  {
   "cell_type": "markdown",
   "metadata": {},
   "source": [
    "We experimented with different values of the soft margin parameter C. We ran linear kernel SVM with $C ={10^−6, 10^−4, 10^−2, 1, 10^2}$. Ultimately, we found that using **!!($C = 1$)!!** yielded the best performance."
   ]
  },
  {
   "cell_type": "markdown",
   "metadata": {},
   "source": [
    "### (4) Random Forest"
   ]
  },
  {
   "cell_type": "markdown",
   "metadata": {},
   "source": [
    "<font size=3><u> Overview</u> </font>"
   ]
  },
  {
   "cell_type": "markdown",
   "metadata": {},
   "source": [
    "**!!(Train On Precision))!!**"
   ]
  },
  {
   "cell_type": "code",
   "execution_count": null,
   "metadata": {
    "collapsed": true
   },
   "outputs": [],
   "source": [
    "rf = ensemble.RandomForestClassifier(n_jobs=-1,n_estimators=50,oob_score=True,max_depth=6)\n",
    "# set the various grid params to consider for tuning\n",
    "param_grid = {\n",
    "   'n_estimators': [500,700,1000],\n",
    "   'max_features': ['auto', 'sqrt', 'log2'],\n",
    "   'oob_score' :[True,False],\n",
    "   'max_depth' :[5,10,20,50,100,200],\n",
    "   'min_samples_leaf' : [1,10,20,50,100]\n",
    "}\n",
    "rf_cv = grid_search.GridSearchCV(n_jobs=2, estimator=rf, param_grid=param_grid, cv= 5)\n",
    "rf_cv.fit(train_predictors, train_labels)\n",
    "# Calculate the Best Random Forest Score\n",
    "rf = ensemble.RandomForestClassifier(n_jobs=-1,\n",
    "                                    max_features=rf_cv.best_params_['max_features'],\n",
    "                                    n_estimators=rf_cv.best_params_['n_estimators'],\n",
    "                                    oob_score=rf_cv.best_params_['oob_score'],\n",
    "                                    max_depth=rf_cv.best_params_['max_depth'],\n",
    "                                    min_samples_leaf=rf_cv.best_params_['min_samples_leaf']\n",
    "                                   )\n",
    "rf.fit(train_predictors, train_labels)\n"
   ]
  },
  {
   "cell_type": "code",
   "execution_count": null,
   "metadata": {
    "collapsed": true
   },
   "outputs": [],
   "source": [
    "%# read some training data\n",
    "[labels,data] = libsvmread('./heart_scale');\n",
    "\n",
    "%# grid of parameters\n",
    "folds = 5;\n",
    "[C,gamma] = meshgrid(-5:2:15, -15:2:3);\n",
    "\n",
    "%# grid search, and cross-validation\n",
    "cv_acc = zeros(numel(C),1);\n",
    "    for i=1:numel(C)\n",
    "cv_acc(i) = svmtrain(labels, data, ...\n",
    "                sprintf('-c %f -g %f -v %d', 2^C(i), 2^gamma(i), folds));\n",
    "end"
   ]
  },
  {
   "cell_type": "code",
   "execution_count": null,
   "metadata": {
    "collapsed": true
   },
   "outputs": [],
   "source": [
    "C = [0.001, 0.003, 0.01, 0.03, 0.1, 0.3, 1, 3, 10, 30, 100, 300] %// you must choose your own set of values for the parameters that you want to test. You can either do it this way by explicitly typing out a list\n",
    "S = 0:0.1:1 %// or you can do it this way using the : operator\n",
    "fscores = zeros(numel(C), numel(S)); %// Pre-allocation\n",
    "for c = 1:numel(C)   \n",
    "    for s = 1:numel(S)\n",
    "        vals = crossval(@(XTRAIN, YTRAIN, XVAL, YVAL)(fun(XTRAIN, YTRAIN, XVAL, YVAL, C(c), S(c)),input(trIdx,:),target(trIdx));\n",
    "        fscores(c,s) = mean(vals);\n",
    "    end\n",
    "end\n",
    "\n",
    "%// Then establish the C and S that gave you the bet f-score. Don't forget that c and s are just indexes though!\n",
    "[cbest, sbest] = find(fscores == max(fscores(:)));\n",
    "C_final = C(cbest);\n",
    "S_final = S(sbest);"
   ]
  },
  {
   "cell_type": "markdown",
   "metadata": {},
   "source": [
    "# VI. Cost Based Models"
   ]
  },
  {
   "cell_type": "markdown",
   "metadata": {},
   "source": [
    "<font size=3><u> Overview</u> </font>"
   ]
  },
  {
   "cell_type": "markdown",
   "metadata": {},
   "source": [
    "<font size=3><u> Defining Cost</u> </font>"
   ]
  },
  {
   "cell_type": "code",
   "execution_count": null,
   "metadata": {
    "collapsed": false
   },
   "outputs": [],
   "source": [
    "def cost(y_true, y_pred):\n",
    "    cm = confusion_matrix(y_true, y_pred)\n",
    "    \n",
    "    cost_true_positive = 90\n",
    "    cost_true_negative = -10\n",
    "    cost_false_positive = -15010\n",
    "    cost_false_negative = -10\n",
    "        \n",
    "    n_true_positive = sum([(pred_val == 1) & (true_val == 1) for true_val, pred_val in zip(y_true, y_pred)])\n",
    "    n_true_negative = sum([(pred_val == 0) & (true_val == 0) for true_val, pred_val in zip(y_true, y_pred)])\n",
    "    n_false_positive = sum([(pred_val == 0) & (true_val == 1) for true_val, pred_val in zip(y_true, y_pred)])\n",
    "    n_false_negative = sum([(pred_val == 1) & (true_val == 0) for true_val, pred_val in zip(y_true, y_pred)])\n",
    "            \n",
    "    total_cost = (np.array([[cost_true_negative, cost_false_negative], [cost_false_positive, cost_true_positive]]) *\n",
    "                  np.array([[n_true_negative, n_false_negative], [n_false_positive, n_true_positive]])).sum()\n",
    "    \n",
    "    return total_cost"
   ]
  },
  {
   "cell_type": "code",
   "execution_count": null,
   "metadata": {
    "collapsed": false
   },
   "outputs": [],
   "source": [
    "from sklearn.cross_validation import KFold\n",
    "\n",
    "def cv_cost(model, n_folds, X, y):\n",
    "    scores = pd.DataFrame({\"class\":[\"all\"] + list(np.unique(y)), \"total\":0, \"correct\":0, \"score\":0, \"cost\":0})\n",
    "    scores.set_index(\"class\", inplace=True)\n",
    "    kf = KFold(len(X), n_folds=n_folds, shuffle=True, random_state=0)\n",
    "    for train_index, test_index in kf:\n",
    "        train_X, test_X = X[train_index, :], X[test_index, :]\n",
    "        train_y, test_y = y.ravel()[train_index], y.ravel()[test_index]  \n",
    "        \n",
    "        model.fit(train_X, train_y)\n",
    "        \n",
    "        for cls in np.unique(y):\n",
    "            pred_y = model.predict(test_X[test_y==cls])\n",
    "\n",
    "            n_correct = sum(pred_y == cls)\n",
    "            n_total = sum(test_y==cls)\n",
    "        \n",
    "            cost_amt = cost(pred_y, [cls] * len(pred_y))\n",
    "            scores.loc[cls, \"correct\"] += n_correct\n",
    "            scores.loc[cls, \"total\"] += n_total\n",
    "            scores.loc[cls, \"cost\"] += cost_amt\n",
    "            scores.loc[\"all\", \"correct\"] += n_correct\n",
    "            scores.loc[\"all\", \"total\"] += n_total\n",
    "            scores.loc[\"all\", \"cost\"] += cost_amt\n",
    "\n",
    "    scores.score = scores.correct / scores.total\n",
    "    return scores"
   ]
  },
  {
   "cell_type": "markdown",
   "metadata": {},
   "source": [
    "<font size=3><u> Evaluation</u> </font>"
   ]
  },
  {
   "cell_type": "code",
   "execution_count": null,
   "metadata": {
    "collapsed": false
   },
   "outputs": [],
   "source": [
    "# Baseline models\n",
    "# All positive (label every loan as safe)\n",
    "class Pos_model(object):\n",
    "    def fit(self, X, y):\n",
    "        return\n",
    "    \n",
    "    def predict(self, x):\n",
    "        return np.array([1] * len(x))\n",
    "    \n",
    "    def score(self, x, y):\n",
    "        y_pred = self.predict(x)\n",
    "        y_err = y - y_pred\n",
    "        return len(y_err[y_err == 0]) * 1. / len(y_err)\n",
    "\n",
    "pos_model = Pos_model()\n",
    "cv_cost(pos_model, 5, X, y)"
   ]
  },
  {
   "cell_type": "code",
   "execution_count": null,
   "metadata": {
    "collapsed": false
   },
   "outputs": [],
   "source": [
    "# All negative (label every loan as risky)\n",
    "class Neg_model(object):\n",
    "    def fit(self, X, y):\n",
    "        return\n",
    "    \n",
    "    def predict(self, x):\n",
    "        return np.array([0] * len(x))\n",
    "    \n",
    "    def score(self, x, y):\n",
    "        y_pred = self.predict(x)\n",
    "        y_err = y - y_pred\n",
    "        return len(y_err[y_err == 0]) * 1. / len(y_err)\n",
    "\n",
    "neg_model = Neg_model()\n",
    "cv_cost(neg_model, 5, X, y)"
   ]
  },
  {
   "cell_type": "code",
   "execution_count": null,
   "metadata": {
    "collapsed": false
   },
   "outputs": [],
   "source": [
    "# Random (randomly predict safe or risky)\n",
    "class Random_model(object):\n",
    "    def fit(self, X, y):\n",
    "        return\n",
    "    \n",
    "    def predict(self, x):\n",
    "        return np.random.randint(0, 2, len(x))\n",
    "    \n",
    "    def score(self, x, y):\n",
    "        y_pred = self.predict(x)\n",
    "        y_err = y - y_pred\n",
    "        return len(y_err[y_err == 0]) * 1. / len(y_err)\n",
    "\n",
    "random_model = Random_model()\n",
    "cv_cost(random_model, 5, X, y)"
   ]
  },
  {
   "cell_type": "code",
   "execution_count": null,
   "metadata": {
    "collapsed": false,
    "scrolled": true
   },
   "outputs": [],
   "source": [
    "#import quandl\n",
    "\n",
    "#state_list = [\"AK\", \"AL\", \"AR\", \"AZ\", \"CA\", \"CO\", \"CT\", \"DC\", \"DE\", \"FL\",\n",
    "#                                             \"GA\", \"HI\", \"IA\", \"ID\", \"IL\", \"IN\", \"KS\", \"KY\", \"LA\", \"MA\",\n",
    "#                                             \"MD\", \"ME\", \"MI\", \"MN\", \"MO\", \"MS\", \"MT\", \"NC\", \"ND\", \"NE\",\n",
    "#                                             \"NH\", \"NJ\", \"NM\", \"NV\", \"NY\", \"OH\", \"OK\", \"OR\", \"PA\", \"RI\",\n",
    "#                                             \"SC\", \"SD\", \"TN\", \"TX\", \"UT\", \"VA\", \"VT\", \"WA\", \"WI\", \"WV\",\n",
    "#                                             \"WY\"]\n",
    "#state_unemployment_data = {}\n",
    "#for i in state_list:\n",
    "#    try:\n",
    "#        print(i)\n",
    "#        result = quandl.get('FRED/{:s}UR'.format(i))\n",
    "#        state_unemployment_data[i] = result\n",
    "#    except RuntimeError as e:\n",
    "#        print(e)\n",
    "\n",
    "#check all indices are sorted by date\n",
    "#for s in state_unemployment_data.keys():\n",
    "#    if not state_unemployment_data[s].index.is_monotonic:\n",
    "#        print s\n",
    "\n",
    "#convert percentages to a value in the range [0, 1]\n",
    "#for s in state_unemployment_data.keys():\n",
    "#    state_unemployment_data[s]['VALUE'] = state_unemployment_data[s]['VALUE'] / 100.0\n",
    "\n",
    "#import pickle\n",
    "#with open('unemployment_rates_by_state.pkl', 'wb') as f:\n",
    "#    pickle.dump(state_unemployment_data, f)"
   ]
  },
  {
   "cell_type": "code",
   "execution_count": null,
   "metadata": {
    "collapsed": true
   },
   "outputs": [],
   "source": [
    "import pickle\n",
    "with open('unemployment_rates_by_state.pkl', 'rb') as f:\n",
    "    state_unemployment_data = pickle.load(f)"
   ]
  },
  {
   "cell_type": "code",
   "execution_count": null,
   "metadata": {
    "collapsed": false
   },
   "outputs": [],
   "source": [
    "state_unemployment_data['AK'].tail()"
   ]
  },
  {
   "cell_type": "code",
   "execution_count": null,
   "metadata": {
    "collapsed": false
   },
   "outputs": [],
   "source": [
    "def unemp_rate(row):\n",
    "    try:\n",
    "        state = row.addr_state\n",
    "        date = pd.to_datetime(row.last_pymnt_d.strftime('%Y-%m'), format='%Y-%m')\n",
    "        result = state_unemployment_data[state][date:].iloc[0]\n",
    "    except:\n",
    "        result = np.NaN\n",
    "    return result"
   ]
  },
  {
   "cell_type": "code",
   "execution_count": null,
   "metadata": {
    "collapsed": false
   },
   "outputs": [],
   "source": [
    "#add 1 extra column ('state_unemp_rate') to the data frames\n",
    "\n",
    "#this is taking a long time to run (10 mins on my computer - Ben)\n",
    "\n",
    "print 'data'\n",
    "data['state_unemp_rate']=data.apply(unemp_rate, axis=1)\n",
    "print 'data_2007_2011'\n",
    "data_2007_2011['state_unemp_rate']=data_2007_2011.apply(unemp_rate, axis=1)\n",
    "print 'data_2014'\n",
    "data_2014['state_unemp_rate']=data_2014.apply(unemp_rate, axis=1)\n",
    "print 'data_2015'\n",
    "data_2015['state_unemp_rate']=data_2015.apply(unemp_rate, axis=1)"
   ]
  },
  {
   "cell_type": "code",
   "execution_count": null,
   "metadata": {
    "collapsed": false
   },
   "outputs": [],
   "source": [
    "#data_2007_2011 = data_2007_2011[data_2007_2011.columns[data.columns!='state_unemp_rate']]\n",
    "#data_2014 = data_2014[data_2014.columns[data.columns!='state_unemp_rate']]\n",
    "#data_2015 = data_2015[data_2015.columns[data.columns!='state_unemp_rate']]\n",
    "#data = data[data.columns[data.columns!='state_unemp_rate']]"
   ]
  },
  {
   "cell_type": "code",
   "execution_count": null,
   "metadata": {
    "collapsed": false,
    "scrolled": false
   },
   "outputs": [],
   "source": [
    "data.head()"
   ]
  },
  {
   "cell_type": "markdown",
   "metadata": {},
   "source": [
    "# VII. Results"
   ]
  },
  {
   "cell_type": "markdown",
   "metadata": {},
   "source": [
    "After comparing each model, we found that **!!(Naive Bayes with Gaussian)!!** performs the best with default prediction **!!(80.1% sensitivity)!!**. We speculate that **!!(Naive Bayes with Gaussian)!!** is slightly better than the other models for 2 potential reasons:\n",
    "\n",
    "- Naive Bayes model works well with independent feature sets [1], and the training features that we selected are possibly either independent or have evenly distributed dependencies.\n",
    "- Some of the key features that we used, like credit scores and regional population, might be distributed in Gaussian, which would allow the Gaussian-assumption model to perform better.\n",
    "\n",
    "Predicting default rates in isolation is intersting and can be valuable to individual, small time investors. However, the real commercial value of better performing default prediction models is **!!(Insert Conclusion)!!**.  As such, we calculated ROI as **!!(mentioned in Method section)!!**. Currently, the overall return from Lending Club (including interest and late fee earned and principal recovered) by all investors divided by their initial principal is **!!(10.1% [?])!!**. If we apply the model prediction to avoid investing on the predicted-to-default note and calculate the return based on only predicted-positive loans, we can increase the return on investment of the test set from **!!(10.1% to over 15.7% (50% growth))!!**."
   ]
  },
  {
   "cell_type": "markdown",
   "metadata": {},
   "source": [
    "# VIII. Conclusion"
   ]
  },
  {
   "cell_type": "markdown",
   "metadata": {},
   "source": [
    "From the comparison of multiple models, including Logistic Regression, SVM, Naive Bayes, Random Forest, and **!!(new models)!!** and different fine-tuning mechanisms, we found that **!!(Naive Bayes with Guassian)!!** performs the best at predicting default rate (optimizing specificity). And by applying our best-performing model, we saw that the investment return from Lending Club can potentially grow by 50%. Some future work that could further improve the prediction includes:\n",
    "- We see high-bias problems across all models, so the predictions could benefit from more features, such as stock market or housing trend, so as to include more macroeconomic factors into the models.\n",
    "- Not all default cases are the same, and some late payments could still be recovered later on, so instead of a binary classification, multinomial predictions could be employed to take into account the different types of default so as to make a more granular prediction."
   ]
  },
  {
   "cell_type": "markdown",
   "metadata": {},
   "source": [
    "# Resources"
   ]
  },
  {
   "cell_type": "markdown",
   "metadata": {},
   "source": [
    "[1]  Zhang, Harry. \"The optimality of naive Bayes.\" AA 1.2 (2004): 3. <br>\n",
    "[2] He, He, and Ali Ghodsi. \"Rare class classification by support vector machine.\" Pattern Recognition (ICPR), 2010 20th International Conference on. IEEE, 2010. <br>"
   ]
  }
 ],
 "metadata": {
  "anaconda-cloud": {},
  "kernelspec": {
   "display_name": "Python [conda env:py27]",
   "language": "python",
   "name": "conda-env-py27-py"
  },
  "language_info": {
   "codemirror_mode": {
    "name": "ipython",
    "version": 2
   },
   "file_extension": ".py",
   "mimetype": "text/x-python",
   "name": "python",
   "nbconvert_exporter": "python",
   "pygments_lexer": "ipython2",
   "version": "2.7.12"
  }
 },
 "nbformat": 4,
 "nbformat_minor": 0
}
